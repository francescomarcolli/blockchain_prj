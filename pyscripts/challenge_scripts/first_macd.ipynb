{
 "cells": [
  {
   "cell_type": "code",
   "execution_count": 1,
   "metadata": {},
   "outputs": [
    {
     "name": "stderr",
     "output_type": "stream",
     "text": [
      "/home/simone/.local/opt/miniconda3/envs/blockchain/lib/python3.7/site-packages/pandas_datareader/compat/__init__.py:7: FutureWarning: pandas.util.testing is deprecated. Use the functions in the public API at pandas.testing instead.\n",
      "  from pandas.util.testing import assert_frame_equal\n"
     ]
    }
   ],
   "source": [
    "import pandas as pd\n",
    "import ta\n",
    "from pandas_datareader import data as web\n",
    "import datetime\n",
    "import numpy as np\n",
    "from ta.utils import dropna\n",
    "import matplotlib.pyplot as plt\n"
   ]
  },
  {
   "cell_type": "code",
   "execution_count": 2,
   "metadata": {},
   "outputs": [],
   "source": [
    "stock = 'AAPL'\n"
   ]
  },
  {
   "cell_type": "code",
   "execution_count": 3,
   "metadata": {},
   "outputs": [],
   "source": [
    "start_date = (datetime.datetime.now() - datetime.timedelta(days=365)).strftime(\"%m-%d-%Y\")\n",
    "# end_date = datetime.datetime(2020,2,20)\n",
    "df = web.DataReader(stock, data_source='yahoo', start=start_date)"
   ]
  },
  {
   "cell_type": "code",
   "execution_count": 4,
   "metadata": {},
   "outputs": [
    {
     "data": {
      "text/html": [
       "<div>\n",
       "<style scoped>\n",
       "    .dataframe tbody tr th:only-of-type {\n",
       "        vertical-align: middle;\n",
       "    }\n",
       "\n",
       "    .dataframe tbody tr th {\n",
       "        vertical-align: top;\n",
       "    }\n",
       "\n",
       "    .dataframe thead th {\n",
       "        text-align: right;\n",
       "    }\n",
       "</style>\n",
       "<table border=\"1\" class=\"dataframe\">\n",
       "  <thead>\n",
       "    <tr style=\"text-align: right;\">\n",
       "      <th></th>\n",
       "      <th>High</th>\n",
       "      <th>Low</th>\n",
       "      <th>Open</th>\n",
       "      <th>Close</th>\n",
       "      <th>Volume</th>\n",
       "      <th>Adj Close</th>\n",
       "    </tr>\n",
       "    <tr>\n",
       "      <th>Date</th>\n",
       "      <th></th>\n",
       "      <th></th>\n",
       "      <th></th>\n",
       "      <th></th>\n",
       "      <th></th>\n",
       "      <th></th>\n",
       "    </tr>\n",
       "  </thead>\n",
       "  <tbody>\n",
       "    <tr>\n",
       "      <th>2019-06-17</th>\n",
       "      <td>194.960007</td>\n",
       "      <td>192.169998</td>\n",
       "      <td>192.899994</td>\n",
       "      <td>193.889999</td>\n",
       "      <td>14669100.0</td>\n",
       "      <td>191.603317</td>\n",
       "    </tr>\n",
       "    <tr>\n",
       "      <th>2019-06-18</th>\n",
       "      <td>200.289993</td>\n",
       "      <td>195.210007</td>\n",
       "      <td>196.050003</td>\n",
       "      <td>198.449997</td>\n",
       "      <td>26551000.0</td>\n",
       "      <td>196.109528</td>\n",
       "    </tr>\n",
       "    <tr>\n",
       "      <th>2019-06-19</th>\n",
       "      <td>199.880005</td>\n",
       "      <td>197.309998</td>\n",
       "      <td>199.679993</td>\n",
       "      <td>197.869995</td>\n",
       "      <td>21124200.0</td>\n",
       "      <td>195.536377</td>\n",
       "    </tr>\n",
       "    <tr>\n",
       "      <th>2019-06-20</th>\n",
       "      <td>200.610001</td>\n",
       "      <td>198.029999</td>\n",
       "      <td>200.369995</td>\n",
       "      <td>199.460007</td>\n",
       "      <td>21514000.0</td>\n",
       "      <td>197.107620</td>\n",
       "    </tr>\n",
       "    <tr>\n",
       "      <th>2019-06-21</th>\n",
       "      <td>200.850006</td>\n",
       "      <td>198.149994</td>\n",
       "      <td>198.800003</td>\n",
       "      <td>198.779999</td>\n",
       "      <td>47800600.0</td>\n",
       "      <td>196.435623</td>\n",
       "    </tr>\n",
       "    <tr>\n",
       "      <th>...</th>\n",
       "      <td>...</td>\n",
       "      <td>...</td>\n",
       "      <td>...</td>\n",
       "      <td>...</td>\n",
       "      <td>...</td>\n",
       "      <td>...</td>\n",
       "    </tr>\n",
       "    <tr>\n",
       "      <th>2020-06-08</th>\n",
       "      <td>333.600006</td>\n",
       "      <td>327.320007</td>\n",
       "      <td>330.250000</td>\n",
       "      <td>333.459991</td>\n",
       "      <td>23913600.0</td>\n",
       "      <td>333.459991</td>\n",
       "    </tr>\n",
       "    <tr>\n",
       "      <th>2020-06-09</th>\n",
       "      <td>345.609985</td>\n",
       "      <td>332.010010</td>\n",
       "      <td>332.140015</td>\n",
       "      <td>343.989990</td>\n",
       "      <td>36928100.0</td>\n",
       "      <td>343.989990</td>\n",
       "    </tr>\n",
       "    <tr>\n",
       "      <th>2020-06-10</th>\n",
       "      <td>354.769989</td>\n",
       "      <td>346.089996</td>\n",
       "      <td>347.899994</td>\n",
       "      <td>352.839996</td>\n",
       "      <td>41662900.0</td>\n",
       "      <td>352.839996</td>\n",
       "    </tr>\n",
       "    <tr>\n",
       "      <th>2020-06-11</th>\n",
       "      <td>351.059998</td>\n",
       "      <td>335.480011</td>\n",
       "      <td>349.309998</td>\n",
       "      <td>335.899994</td>\n",
       "      <td>50415600.0</td>\n",
       "      <td>335.899994</td>\n",
       "    </tr>\n",
       "    <tr>\n",
       "      <th>2020-06-12</th>\n",
       "      <td>347.799988</td>\n",
       "      <td>334.220001</td>\n",
       "      <td>344.720001</td>\n",
       "      <td>338.799988</td>\n",
       "      <td>50001500.0</td>\n",
       "      <td>338.799988</td>\n",
       "    </tr>\n",
       "  </tbody>\n",
       "</table>\n",
       "<p>251 rows × 6 columns</p>\n",
       "</div>"
      ],
      "text/plain": [
       "                  High         Low        Open       Close      Volume  \\\n",
       "Date                                                                     \n",
       "2019-06-17  194.960007  192.169998  192.899994  193.889999  14669100.0   \n",
       "2019-06-18  200.289993  195.210007  196.050003  198.449997  26551000.0   \n",
       "2019-06-19  199.880005  197.309998  199.679993  197.869995  21124200.0   \n",
       "2019-06-20  200.610001  198.029999  200.369995  199.460007  21514000.0   \n",
       "2019-06-21  200.850006  198.149994  198.800003  198.779999  47800600.0   \n",
       "...                ...         ...         ...         ...         ...   \n",
       "2020-06-08  333.600006  327.320007  330.250000  333.459991  23913600.0   \n",
       "2020-06-09  345.609985  332.010010  332.140015  343.989990  36928100.0   \n",
       "2020-06-10  354.769989  346.089996  347.899994  352.839996  41662900.0   \n",
       "2020-06-11  351.059998  335.480011  349.309998  335.899994  50415600.0   \n",
       "2020-06-12  347.799988  334.220001  344.720001  338.799988  50001500.0   \n",
       "\n",
       "             Adj Close  \n",
       "Date                    \n",
       "2019-06-17  191.603317  \n",
       "2019-06-18  196.109528  \n",
       "2019-06-19  195.536377  \n",
       "2019-06-20  197.107620  \n",
       "2019-06-21  196.435623  \n",
       "...                ...  \n",
       "2020-06-08  333.459991  \n",
       "2020-06-09  343.989990  \n",
       "2020-06-10  352.839996  \n",
       "2020-06-11  335.899994  \n",
       "2020-06-12  338.799988  \n",
       "\n",
       "[251 rows x 6 columns]"
      ]
     },
     "execution_count": 4,
     "metadata": {},
     "output_type": "execute_result"
    }
   ],
   "source": [
    "df"
   ]
  },
  {
   "cell_type": "code",
   "execution_count": 5,
   "metadata": {},
   "outputs": [],
   "source": [
    "df = dropna(df)"
   ]
  },
  {
   "cell_type": "code",
   "execution_count": 6,
   "metadata": {},
   "outputs": [
    {
     "data": {
      "text/html": [
       "<div>\n",
       "<style scoped>\n",
       "    .dataframe tbody tr th:only-of-type {\n",
       "        vertical-align: middle;\n",
       "    }\n",
       "\n",
       "    .dataframe tbody tr th {\n",
       "        vertical-align: top;\n",
       "    }\n",
       "\n",
       "    .dataframe thead th {\n",
       "        text-align: right;\n",
       "    }\n",
       "</style>\n",
       "<table border=\"1\" class=\"dataframe\">\n",
       "  <thead>\n",
       "    <tr style=\"text-align: right;\">\n",
       "      <th></th>\n",
       "      <th>High</th>\n",
       "      <th>Low</th>\n",
       "      <th>Open</th>\n",
       "      <th>Close</th>\n",
       "      <th>Volume</th>\n",
       "      <th>Adj Close</th>\n",
       "    </tr>\n",
       "    <tr>\n",
       "      <th>Date</th>\n",
       "      <th></th>\n",
       "      <th></th>\n",
       "      <th></th>\n",
       "      <th></th>\n",
       "      <th></th>\n",
       "      <th></th>\n",
       "    </tr>\n",
       "  </thead>\n",
       "  <tbody>\n",
       "    <tr>\n",
       "      <th>2019-06-17</th>\n",
       "      <td>194.960007</td>\n",
       "      <td>192.169998</td>\n",
       "      <td>192.899994</td>\n",
       "      <td>193.889999</td>\n",
       "      <td>14669100.0</td>\n",
       "      <td>191.603317</td>\n",
       "    </tr>\n",
       "    <tr>\n",
       "      <th>2019-06-18</th>\n",
       "      <td>200.289993</td>\n",
       "      <td>195.210007</td>\n",
       "      <td>196.050003</td>\n",
       "      <td>198.449997</td>\n",
       "      <td>26551000.0</td>\n",
       "      <td>196.109528</td>\n",
       "    </tr>\n",
       "    <tr>\n",
       "      <th>2019-06-19</th>\n",
       "      <td>199.880005</td>\n",
       "      <td>197.309998</td>\n",
       "      <td>199.679993</td>\n",
       "      <td>197.869995</td>\n",
       "      <td>21124200.0</td>\n",
       "      <td>195.536377</td>\n",
       "    </tr>\n",
       "    <tr>\n",
       "      <th>2019-06-20</th>\n",
       "      <td>200.610001</td>\n",
       "      <td>198.029999</td>\n",
       "      <td>200.369995</td>\n",
       "      <td>199.460007</td>\n",
       "      <td>21514000.0</td>\n",
       "      <td>197.107620</td>\n",
       "    </tr>\n",
       "    <tr>\n",
       "      <th>2019-06-21</th>\n",
       "      <td>200.850006</td>\n",
       "      <td>198.149994</td>\n",
       "      <td>198.800003</td>\n",
       "      <td>198.779999</td>\n",
       "      <td>47800600.0</td>\n",
       "      <td>196.435623</td>\n",
       "    </tr>\n",
       "    <tr>\n",
       "      <th>...</th>\n",
       "      <td>...</td>\n",
       "      <td>...</td>\n",
       "      <td>...</td>\n",
       "      <td>...</td>\n",
       "      <td>...</td>\n",
       "      <td>...</td>\n",
       "    </tr>\n",
       "    <tr>\n",
       "      <th>2020-06-08</th>\n",
       "      <td>333.600006</td>\n",
       "      <td>327.320007</td>\n",
       "      <td>330.250000</td>\n",
       "      <td>333.459991</td>\n",
       "      <td>23913600.0</td>\n",
       "      <td>333.459991</td>\n",
       "    </tr>\n",
       "    <tr>\n",
       "      <th>2020-06-09</th>\n",
       "      <td>345.609985</td>\n",
       "      <td>332.010010</td>\n",
       "      <td>332.140015</td>\n",
       "      <td>343.989990</td>\n",
       "      <td>36928100.0</td>\n",
       "      <td>343.989990</td>\n",
       "    </tr>\n",
       "    <tr>\n",
       "      <th>2020-06-10</th>\n",
       "      <td>354.769989</td>\n",
       "      <td>346.089996</td>\n",
       "      <td>347.899994</td>\n",
       "      <td>352.839996</td>\n",
       "      <td>41662900.0</td>\n",
       "      <td>352.839996</td>\n",
       "    </tr>\n",
       "    <tr>\n",
       "      <th>2020-06-11</th>\n",
       "      <td>351.059998</td>\n",
       "      <td>335.480011</td>\n",
       "      <td>349.309998</td>\n",
       "      <td>335.899994</td>\n",
       "      <td>50415600.0</td>\n",
       "      <td>335.899994</td>\n",
       "    </tr>\n",
       "    <tr>\n",
       "      <th>2020-06-12</th>\n",
       "      <td>347.799988</td>\n",
       "      <td>334.220001</td>\n",
       "      <td>344.720001</td>\n",
       "      <td>338.799988</td>\n",
       "      <td>50001500.0</td>\n",
       "      <td>338.799988</td>\n",
       "    </tr>\n",
       "  </tbody>\n",
       "</table>\n",
       "<p>251 rows × 6 columns</p>\n",
       "</div>"
      ],
      "text/plain": [
       "                  High         Low        Open       Close      Volume  \\\n",
       "Date                                                                     \n",
       "2019-06-17  194.960007  192.169998  192.899994  193.889999  14669100.0   \n",
       "2019-06-18  200.289993  195.210007  196.050003  198.449997  26551000.0   \n",
       "2019-06-19  199.880005  197.309998  199.679993  197.869995  21124200.0   \n",
       "2019-06-20  200.610001  198.029999  200.369995  199.460007  21514000.0   \n",
       "2019-06-21  200.850006  198.149994  198.800003  198.779999  47800600.0   \n",
       "...                ...         ...         ...         ...         ...   \n",
       "2020-06-08  333.600006  327.320007  330.250000  333.459991  23913600.0   \n",
       "2020-06-09  345.609985  332.010010  332.140015  343.989990  36928100.0   \n",
       "2020-06-10  354.769989  346.089996  347.899994  352.839996  41662900.0   \n",
       "2020-06-11  351.059998  335.480011  349.309998  335.899994  50415600.0   \n",
       "2020-06-12  347.799988  334.220001  344.720001  338.799988  50001500.0   \n",
       "\n",
       "             Adj Close  \n",
       "Date                    \n",
       "2019-06-17  191.603317  \n",
       "2019-06-18  196.109528  \n",
       "2019-06-19  195.536377  \n",
       "2019-06-20  197.107620  \n",
       "2019-06-21  196.435623  \n",
       "...                ...  \n",
       "2020-06-08  333.459991  \n",
       "2020-06-09  343.989990  \n",
       "2020-06-10  352.839996  \n",
       "2020-06-11  335.899994  \n",
       "2020-06-12  338.799988  \n",
       "\n",
       "[251 rows x 6 columns]"
      ]
     },
     "execution_count": 6,
     "metadata": {},
     "output_type": "execute_result"
    }
   ],
   "source": [
    "df"
   ]
  },
  {
   "cell_type": "code",
   "execution_count": 7,
   "metadata": {},
   "outputs": [
    {
     "data": {
      "text/plain": [
       "[<matplotlib.lines.Line2D at 0x7f2c1041a310>]"
      ]
     },
     "execution_count": 7,
     "metadata": {},
     "output_type": "execute_result"
    },
    {
     "data": {
      "image/png": "[encoded data removed]",
      "text/plain": [
       "<Figure size 432x288 with 1 Axes>"
      ]
     },
     "metadata": {
      "needs_background": "light"
     },
     "output_type": "display_data"
    }
   ],
   "source": [
    "plt.plot(df['Close'])"
   ]
  },
  {
   "cell_type": "code",
   "execution_count": 22,
   "metadata": {},
   "outputs": [],
   "source": [
    "macd = ta.trend.MACD(close=df['Close'], n_slow=40, n_fast=10, n_sign=9)\n",
    "df['MACD'] = macd.macd_diff()"
   ]
  },
  {
   "cell_type": "code",
   "execution_count": 23,
   "metadata": {},
   "outputs": [
    {
     "data": {
      "text/plain": [
       "[<matplotlib.lines.Line2D at 0x7f2be4c684d0>]"
      ]
     },
     "execution_count": 23,
     "metadata": {},
     "output_type": "execute_result"
    },
    {
     "data": {
      "image/png": "[encoded data removed]",
      "text/plain": [
       "<Figure size 432x288 with 1 Axes>"
      ]
     },
     "metadata": {
      "needs_background": "light"
     },
     "output_type": "display_data"
    }
   ],
   "source": [
    "plt.plot(macd.macd())\n",
    "plt.plot(macd.macd_signal())"
   ]
  },
  {
   "cell_type": "code",
   "execution_count": 24,
   "metadata": {},
   "outputs": [],
   "source": [
    "macd = ta.trend.MACD(close=df['Close'], n_slow=50, n_fast=10, n_sign=9)\n",
    "df['MACD'] = macd.macd_diff()"
   ]
  },
  {
   "cell_type": "code",
   "execution_count": 25,
   "metadata": {},
   "outputs": [
    {
     "data": {
      "text/plain": [
       "[<matplotlib.lines.Line2D at 0x7f2be4c5b790>]"
      ]
     },
     "execution_count": 25,
     "metadata": {},
     "output_type": "execute_result"
    },
    {
     "data": {
      "image/png": "[encoded data removed]",
      "text/plain": [
       "<Figure size 432x288 with 1 Axes>"
      ]
     },
     "metadata": {
      "needs_background": "light"
     },
     "output_type": "display_data"
    }
   ],
   "source": [
    "plt.plot(macd.macd())\n",
    "plt.plot(macd.macd_signal())"
   ]
  },
  {
   "cell_type": "code",
   "execution_count": null,
   "metadata": {},
   "outputs": [],
   "source": []
  }
 ],
 "metadata": {
  "kernelspec": {
   "display_name": "Python 3",
   "language": "python",
   "name": "python3"
  },
  "language_info": {
   "codemirror_mode": {
    "name": "ipython",
    "version": 3
   },
   "file_extension": ".py",
   "mimetype": "text/x-python",
   "name": "python",
   "nbconvert_exporter": "python",
   "pygments_lexer": "ipython3",
   "version": "3.7.7"
  }
 },
 "nbformat": 4,
 "nbformat_minor": 4
}
