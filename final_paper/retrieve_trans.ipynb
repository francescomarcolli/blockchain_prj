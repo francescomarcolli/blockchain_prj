{
 "cells": [
  {
   "cell_type": "code",
   "execution_count": 25,
   "metadata": {},
   "outputs": [],
   "source": [
    "from brownie import web3, network, Wei, Contract, project\n",
    "from brownie.network.account import LocalAccount\n",
    "import json, datetime"
   ]
  },
  {
   "cell_type": "code",
   "execution_count": 2,
   "metadata": {},
   "outputs": [],
   "source": [
    "network_selected = \"ropsten\"\n",
    "network.connect(network_selected)\n",
    "\n",
    "# Loading the metamask accounts\n",
    "## Trading account\n",
    "fss_trading_private_key = \"faba88e53b6fac655f7e0b5cb900e0bc045e787eb850fdf17f458f0fb8607bde\"\n",
    "fss_trading_account = web3.eth.account.from_key(private_key=fss_trading_private_key)\n",
    "local_account_trading = LocalAccount(fss_trading_account.address, fss_trading_account, fss_trading_account.privateKey)\n",
    "## Admin account\n",
    "fss_admin_private_key = \"ede4dd8a3584fd7809a5e0bb299ff8f51983af5b1a9f1f506165b5c1f09e22b1\"\n",
    "fss_admin_account = web3.eth.account.from_key(private_key=fss_admin_private_key)\n",
    "local_account_admin = LocalAccount(fss_admin_account.address, fss_admin_account, fss_admin_account.privateKey)"
   ]
  },
  {
   "cell_type": "code",
   "execution_count": 6,
   "metadata": {},
   "outputs": [],
   "source": [
    "with open('../../blockchain_course_unimi/challenge/teamCST/abi/Exchange.json') as json_file: \n",
    "    exchange_CST_abi = json.load(json_file)\n",
    "exchange_CST = Contract.from_abi('ExchangeCST', address='0xf6595CF80173Edf534469B15170370AbFF3FDdAb', abi=exchange_CST_abi)\n",
    "web3_exchange_CST = web3.eth.contract(abi=exchange_CST_abi, address='0xf6595CF80173Edf534469B15170370AbFF3FDdAb')\n",
    "\n",
    "with open('../../blockchain_course_unimi/challenge/teamAA/abi/real/exchange.json') as json_file: \n",
    "    exchange_AA_abi = json.load(json_file)\n",
    "exchange_AA = Contract.from_abi('ExchangeAA', address='0xA4b9d6A91867EAB4dDa837344a34b524F3cCB678', abi=exchange_AA_abi)\n",
    "web3_exchange_AA = web3.eth.contract(abi=exchange_AA_abi, address='0xA4b9d6A91867EAB4dDa837344a34b524F3cCB678')\n",
    "\n",
    "with open('../pyscripts/abi/token_exchange.json') as json_file: \n",
    "    exchange_FSS_abi = json.load(json_file)\n",
    "exchange_FSS = Contract.from_abi('ExchangeFSS', address=\"0x99d07b3fA4C2046a43e3911AC5a5bC3B0115b110\", abi= exchange_FSS_abi)\n",
    "web3_exchange_FSS = web3.eth.contract(abi=exchange_FSS_abi, address='0x99d07b3fA4C2046a43e3911AC5a5bC3B0115b110')\n",
    "\n",
    "with open('../../blockchain_course_unimi/challenge/teamCST/abi/Challenge.json') as json_file: \n",
    "    challenge_CST_abi = json.load(json_file)\n",
    "challenge_CST = Contract.from_abi('ChallengeCST', address=\"0x0b6019c547Ba293eBD74991217354b1281209985\", abi= challenge_CST_abi)\n",
    "web3_challenge_CST = web3.eth.contract(abi=challenge_CST_abi, address='0x0b6019c547Ba293eBD74991217354b1281209985')\n",
    "\n",
    "with open('../../blockchain_course_unimi/challenge/teamAA/abi/real/challenge.json') as json_file: \n",
    "    challenge_AA_abi = json.load(json_file)\n",
    "challenge_AA = Contract.from_abi('ChallengeAA', address=\"0x20BBCe5ee9Bc741C4560BC2985D008c4654978ED\", abi= challenge_AA_abi)\n",
    "web3_challenge_AA = web3.eth.contract(abi=challenge_AA_abi, address='0x20BBCe5ee9Bc741C4560BC2985D008c4654978ED')\n",
    "\n",
    "with open('../pyscripts/abi/token_challenge.json') as json_file: \n",
    "    challenge_FSS_abi = json.load(json_file)\n",
    "challenge_FSS = Contract.from_abi('ChallengeFSS', address=\"0x1d935B72E9AC4823BA0e1D71f70DFE51836858fF\", abi= challenge_FSS_abi)\n",
    "web3_challenge_FSS = web3.eth.contract(abi=challenge_FSS_abi, address='0x1d935B72E9AC4823BA0e1D71f70DFE51836858fF')"
   ]
  },
  {
   "cell_type": "code",
   "execution_count": 4,
   "metadata": {},
   "outputs": [],
   "source": [
    "buy_sign = web3.keccak(text=\"Buy(address,uint256,uint256)\").hex()\n",
    "sell_sign = web3.keccak(text=\"Sell(address,uint256,uint256)\").hex()\n",
    "directWon_sign = web3.keccak(text=\"DirectChallengeWon(address,uint256,uint256)\").hex()\n",
    "teamWon_sign = web3.keccak(text=\"TeamChallengeWon(address,uint256,uint256)\").hex()"
   ]
  },
  {
   "cell_type": "code",
   "execution_count": 5,
   "metadata": {
    "scrolled": true
   },
   "outputs": [],
   "source": [
    "all_buys_CST = web3.eth.getLogs({'fromBlock': 0, 'toBlock': 'latest', 'address': exchange_CST.address, 'topics': [buy_sign]})\n",
    "all_sell_CST = web3.eth.getLogs({'fromBlock': 0, 'toBlock': 'latest', 'address': exchange_CST.address, 'topics': [sell_sign]})"
   ]
  },
  {
   "cell_type": "code",
   "execution_count": 6,
   "metadata": {
    "collapsed": true
   },
   "outputs": [
    {
     "name": "stderr",
     "output_type": "stream",
     "text": [
      "/home/simone/.local/opt/miniconda3/envs/blockchain/lib/python3.7/site-packages/web3/contract.py:1154: UserWarning: The log with transaction hash: b\"\\xd6\\xc4\\xc8\\xce\\xa6\\x9f@!/y`\\xc1\\xc1\\xe8'\\xad?\\xec\\xa8~\\xbeH\\xae\\xd7\\xdd_cs\\xb8\\xa0\\xb8e\" and logIndex: 1 encountered the following error during processing: MismatchedABI(The event signature did not match the provided ABI). It has been discarded.\n",
      "  f\"The log with transaction hash: {log['transactionHash']} and \"\n",
      "/home/simone/.local/opt/miniconda3/envs/blockchain/lib/python3.7/site-packages/web3/contract.py:1154: UserWarning: The log with transaction hash: b\"\\xd6\\xc4\\xc8\\xce\\xa6\\x9f@!/y`\\xc1\\xc1\\xe8'\\xad?\\xec\\xa8~\\xbeH\\xae\\xd7\\xdd_cs\\xb8\\xa0\\xb8e\" and logIndex: 2 encountered the following error during processing: MismatchedABI(The event signature did not match the provided ABI). It has been discarded.\n",
      "  f\"The log with transaction hash: {log['transactionHash']} and \"\n",
      "/home/simone/.local/opt/miniconda3/envs/blockchain/lib/python3.7/site-packages/web3/contract.py:1154: UserWarning: The log with transaction hash: b\"\\xd6\\xc4\\xc8\\xce\\xa6\\x9f@!/y`\\xc1\\xc1\\xe8'\\xad?\\xec\\xa8~\\xbeH\\xae\\xd7\\xdd_cs\\xb8\\xa0\\xb8e\" and logIndex: 3 encountered the following error during processing: MismatchedABI(The event signature did not match the provided ABI). It has been discarded.\n",
      "  f\"The log with transaction hash: {log['transactionHash']} and \"\n",
      "/home/simone/.local/opt/miniconda3/envs/blockchain/lib/python3.7/site-packages/web3/contract.py:1154: UserWarning: The log with transaction hash: b'rB3\\xc9\\xfd\\xb9\\xa3\\x93\\xfbS\\x01\\xf3\\xb4*\\x1f\\xf1\\xed\\x9c\\x04\\xf7+TP\\xa3\\xba\\xa1\\xeaC\\xcf\\x83\\xfcj' and logIndex: 6 encountered the following error during processing: MismatchedABI(The event signature did not match the provided ABI). It has been discarded.\n",
      "  f\"The log with transaction hash: {log['transactionHash']} and \"\n",
      "/home/simone/.local/opt/miniconda3/envs/blockchain/lib/python3.7/site-packages/web3/contract.py:1154: UserWarning: The log with transaction hash: b'rB3\\xc9\\xfd\\xb9\\xa3\\x93\\xfbS\\x01\\xf3\\xb4*\\x1f\\xf1\\xed\\x9c\\x04\\xf7+TP\\xa3\\xba\\xa1\\xeaC\\xcf\\x83\\xfcj' and logIndex: 7 encountered the following error during processing: MismatchedABI(The event signature did not match the provided ABI). It has been discarded.\n",
      "  f\"The log with transaction hash: {log['transactionHash']} and \"\n",
      "/home/simone/.local/opt/miniconda3/envs/blockchain/lib/python3.7/site-packages/web3/contract.py:1154: UserWarning: The log with transaction hash: b'rB3\\xc9\\xfd\\xb9\\xa3\\x93\\xfbS\\x01\\xf3\\xb4*\\x1f\\xf1\\xed\\x9c\\x04\\xf7+TP\\xa3\\xba\\xa1\\xeaC\\xcf\\x83\\xfcj' and logIndex: 8 encountered the following error during processing: MismatchedABI(The event signature did not match the provided ABI). It has been discarded.\n",
      "  f\"The log with transaction hash: {log['transactionHash']} and \"\n",
      "/home/simone/.local/opt/miniconda3/envs/blockchain/lib/python3.7/site-packages/web3/contract.py:1154: UserWarning: The log with transaction hash: b'\\xf7\\xbb\\x97\\x19g8\\xcf\\xdf\\xae\\xbc\\xe5a\\xfe\\x1d\\xf4\\x95\\x19\\n\\xa4\\x96\\x10i5u\\x14\\xa3\\xa1\\xb2\\t\\xbd\\xad\\xbe' and logIndex: 5 encountered the following error during processing: MismatchedABI(The event signature did not match the provided ABI). It has been discarded.\n",
      "  f\"The log with transaction hash: {log['transactionHash']} and \"\n",
      "/home/simone/.local/opt/miniconda3/envs/blockchain/lib/python3.7/site-packages/web3/contract.py:1154: UserWarning: The log with transaction hash: b'\\xf7\\xbb\\x97\\x19g8\\xcf\\xdf\\xae\\xbc\\xe5a\\xfe\\x1d\\xf4\\x95\\x19\\n\\xa4\\x96\\x10i5u\\x14\\xa3\\xa1\\xb2\\t\\xbd\\xad\\xbe' and logIndex: 6 encountered the following error during processing: MismatchedABI(The event signature did not match the provided ABI). It has been discarded.\n",
      "  f\"The log with transaction hash: {log['transactionHash']} and \"\n",
      "/home/simone/.local/opt/miniconda3/envs/blockchain/lib/python3.7/site-packages/web3/contract.py:1154: UserWarning: The log with transaction hash: b'\\xf7\\xbb\\x97\\x19g8\\xcf\\xdf\\xae\\xbc\\xe5a\\xfe\\x1d\\xf4\\x95\\x19\\n\\xa4\\x96\\x10i5u\\x14\\xa3\\xa1\\xb2\\t\\xbd\\xad\\xbe' and logIndex: 7 encountered the following error during processing: MismatchedABI(The event signature did not match the provided ABI). It has been discarded.\n",
      "  f\"The log with transaction hash: {log['transactionHash']} and \"\n",
      "/home/simone/.local/opt/miniconda3/envs/blockchain/lib/python3.7/site-packages/web3/contract.py:1154: UserWarning: The log with transaction hash: b'\\xc0\\xaa#\\x1b\\xe3S4\\xea\\x9a\\xe4dr\\xdf\\x9b\\x9f\\xde\\xa4\\x17\\xa35oI\\xc8\\t\\x1f{\\xd0\\xdaq\\xf7\\xdd#' and logIndex: 3 encountered the following error during processing: MismatchedABI(The event signature did not match the provided ABI). It has been discarded.\n",
      "  f\"The log with transaction hash: {log['transactionHash']} and \"\n",
      "/home/simone/.local/opt/miniconda3/envs/blockchain/lib/python3.7/site-packages/web3/contract.py:1154: UserWarning: The log with transaction hash: b'\\xc0\\xaa#\\x1b\\xe3S4\\xea\\x9a\\xe4dr\\xdf\\x9b\\x9f\\xde\\xa4\\x17\\xa35oI\\xc8\\t\\x1f{\\xd0\\xdaq\\xf7\\xdd#' and logIndex: 4 encountered the following error during processing: MismatchedABI(The event signature did not match the provided ABI). It has been discarded.\n",
      "  f\"The log with transaction hash: {log['transactionHash']} and \"\n",
      "/home/simone/.local/opt/miniconda3/envs/blockchain/lib/python3.7/site-packages/web3/contract.py:1154: UserWarning: The log with transaction hash: b'\\xc0\\xaa#\\x1b\\xe3S4\\xea\\x9a\\xe4dr\\xdf\\x9b\\x9f\\xde\\xa4\\x17\\xa35oI\\xc8\\t\\x1f{\\xd0\\xdaq\\xf7\\xdd#' and logIndex: 5 encountered the following error during processing: MismatchedABI(The event signature did not match the provided ABI). It has been discarded.\n",
      "  f\"The log with transaction hash: {log['transactionHash']} and \"\n",
      "/home/simone/.local/opt/miniconda3/envs/blockchain/lib/python3.7/site-packages/web3/contract.py:1154: UserWarning: The log with transaction hash: b\"\\x8d\\xa1'\\x1a\\x07`\\x9f\\xef\\x9a\\x03\\xe6*\\xc7G\\xfee\\xfc\\x85\\xafE\\xe4%\\x97Z\\xdf\\x8e\\x9b(\\x9e\\x7f\\x9c\\x92\" and logIndex: 0 encountered the following error during processing: MismatchedABI(The event signature did not match the provided ABI). It has been discarded.\n",
      "  f\"The log with transaction hash: {log['transactionHash']} and \"\n",
      "/home/simone/.local/opt/miniconda3/envs/blockchain/lib/python3.7/site-packages/web3/contract.py:1154: UserWarning: The log with transaction hash: b\"\\x8d\\xa1'\\x1a\\x07`\\x9f\\xef\\x9a\\x03\\xe6*\\xc7G\\xfee\\xfc\\x85\\xafE\\xe4%\\x97Z\\xdf\\x8e\\x9b(\\x9e\\x7f\\x9c\\x92\" and logIndex: 1 encountered the following error during processing: MismatchedABI(The event signature did not match the provided ABI). It has been discarded.\n",
      "  f\"The log with transaction hash: {log['transactionHash']} and \"\n",
      "/home/simone/.local/opt/miniconda3/envs/blockchain/lib/python3.7/site-packages/web3/contract.py:1154: UserWarning: The log with transaction hash: b\"\\x8d\\xa1'\\x1a\\x07`\\x9f\\xef\\x9a\\x03\\xe6*\\xc7G\\xfee\\xfc\\x85\\xafE\\xe4%\\x97Z\\xdf\\x8e\\x9b(\\x9e\\x7f\\x9c\\x92\" and logIndex: 2 encountered the following error during processing: MismatchedABI(The event signature did not match the provided ABI). It has been discarded.\n",
      "  f\"The log with transaction hash: {log['transactionHash']} and \"\n",
      "/home/simone/.local/opt/miniconda3/envs/blockchain/lib/python3.7/site-packages/web3/contract.py:1154: UserWarning: The log with transaction hash: b'\\x1b\\xe0\\x05#\\xa9%\\xe7\\xbd\\x874\\xde\\xbd\\xf0J,8\\x94*\\xe0\\x87,c\\x99\\xb3\\xedt\\xf7FIZ\\x8d0' and logIndex: 3 encountered the following error during processing: MismatchedABI(The event signature did not match the provided ABI). It has been discarded.\n",
      "  f\"The log with transaction hash: {log['transactionHash']} and \"\n",
      "/home/simone/.local/opt/miniconda3/envs/blockchain/lib/python3.7/site-packages/web3/contract.py:1154: UserWarning: The log with transaction hash: b'\\x1b\\xe0\\x05#\\xa9%\\xe7\\xbd\\x874\\xde\\xbd\\xf0J,8\\x94*\\xe0\\x87,c\\x99\\xb3\\xedt\\xf7FIZ\\x8d0' and logIndex: 4 encountered the following error during processing: MismatchedABI(The event signature did not match the provided ABI). It has been discarded.\n",
      "  f\"The log with transaction hash: {log['transactionHash']} and \"\n",
      "/home/simone/.local/opt/miniconda3/envs/blockchain/lib/python3.7/site-packages/web3/contract.py:1154: UserWarning: The log with transaction hash: b'\\x1b\\xe0\\x05#\\xa9%\\xe7\\xbd\\x874\\xde\\xbd\\xf0J,8\\x94*\\xe0\\x87,c\\x99\\xb3\\xedt\\xf7FIZ\\x8d0' and logIndex: 5 encountered the following error during processing: MismatchedABI(The event signature did not match the provided ABI). It has been discarded.\n",
      "  f\"The log with transaction hash: {log['transactionHash']} and \"\n"
     ]
    },
    {
     "name": "stderr",
     "output_type": "stream",
     "text": [
      "/home/simone/.local/opt/miniconda3/envs/blockchain/lib/python3.7/site-packages/web3/contract.py:1154: UserWarning: The log with transaction hash: b'\\xe5\\x1e/\\x1e\\x16j^\\x9dEy-\\xf1V\\xe0\\x85\\xe2\\xff^\\xa0V\\x1d%\\x131;\\xe3\\xd7W\\x8b\\x89,\\x80' and logIndex: 1 encountered the following error during processing: MismatchedABI(The event signature did not match the provided ABI). It has been discarded.\n",
      "  f\"The log with transaction hash: {log['transactionHash']} and \"\n",
      "/home/simone/.local/opt/miniconda3/envs/blockchain/lib/python3.7/site-packages/web3/contract.py:1154: UserWarning: The log with transaction hash: b'\\xe5\\x1e/\\x1e\\x16j^\\x9dEy-\\xf1V\\xe0\\x85\\xe2\\xff^\\xa0V\\x1d%\\x131;\\xe3\\xd7W\\x8b\\x89,\\x80' and logIndex: 2 encountered the following error during processing: MismatchedABI(The event signature did not match the provided ABI). It has been discarded.\n",
      "  f\"The log with transaction hash: {log['transactionHash']} and \"\n",
      "/home/simone/.local/opt/miniconda3/envs/blockchain/lib/python3.7/site-packages/web3/contract.py:1154: UserWarning: The log with transaction hash: b'\\xe5\\x1e/\\x1e\\x16j^\\x9dEy-\\xf1V\\xe0\\x85\\xe2\\xff^\\xa0V\\x1d%\\x131;\\xe3\\xd7W\\x8b\\x89,\\x80' and logIndex: 3 encountered the following error during processing: MismatchedABI(The event signature did not match the provided ABI). It has been discarded.\n",
      "  f\"The log with transaction hash: {log['transactionHash']} and \"\n",
      "/home/simone/.local/opt/miniconda3/envs/blockchain/lib/python3.7/site-packages/web3/contract.py:1154: UserWarning: The log with transaction hash: b'\\xe8\\xd0\\xa1H\\r\\x97q\\xc0\\x9e\\xce)\\n25Ul\\x17\\xdbe\\x8cg\\x8d\\xaf\\xd0\\rK\\xd0\"\\x9f;!E' and logIndex: 0 encountered the following error during processing: MismatchedABI(The event signature did not match the provided ABI). It has been discarded.\n",
      "  f\"The log with transaction hash: {log['transactionHash']} and \"\n",
      "/home/simone/.local/opt/miniconda3/envs/blockchain/lib/python3.7/site-packages/web3/contract.py:1154: UserWarning: The log with transaction hash: b'\\xe8\\xd0\\xa1H\\r\\x97q\\xc0\\x9e\\xce)\\n25Ul\\x17\\xdbe\\x8cg\\x8d\\xaf\\xd0\\rK\\xd0\"\\x9f;!E' and logIndex: 1 encountered the following error during processing: MismatchedABI(The event signature did not match the provided ABI). It has been discarded.\n",
      "  f\"The log with transaction hash: {log['transactionHash']} and \"\n",
      "/home/simone/.local/opt/miniconda3/envs/blockchain/lib/python3.7/site-packages/web3/contract.py:1154: UserWarning: The log with transaction hash: b'\\xe8\\xd0\\xa1H\\r\\x97q\\xc0\\x9e\\xce)\\n25Ul\\x17\\xdbe\\x8cg\\x8d\\xaf\\xd0\\rK\\xd0\"\\x9f;!E' and logIndex: 2 encountered the following error during processing: MismatchedABI(The event signature did not match the provided ABI). It has been discarded.\n",
      "  f\"The log with transaction hash: {log['transactionHash']} and \"\n",
      "/home/simone/.local/opt/miniconda3/envs/blockchain/lib/python3.7/site-packages/web3/contract.py:1154: UserWarning: The log with transaction hash: b'\\x16u\\x95\\xe3kG\\xa6\\xb3\\xdfn\\xba\\x13v\"\\x1fj\\xe4u\\xe5\\xf2\\xcaD\\x81\\xbe\\x0cC\\xe0\\xb7,*\\x9a\\xbf' and logIndex: 2 encountered the following error during processing: MismatchedABI(The event signature did not match the provided ABI). It has been discarded.\n",
      "  f\"The log with transaction hash: {log['transactionHash']} and \"\n",
      "/home/simone/.local/opt/miniconda3/envs/blockchain/lib/python3.7/site-packages/web3/contract.py:1154: UserWarning: The log with transaction hash: b'\\x16u\\x95\\xe3kG\\xa6\\xb3\\xdfn\\xba\\x13v\"\\x1fj\\xe4u\\xe5\\xf2\\xcaD\\x81\\xbe\\x0cC\\xe0\\xb7,*\\x9a\\xbf' and logIndex: 3 encountered the following error during processing: MismatchedABI(The event signature did not match the provided ABI). It has been discarded.\n",
      "  f\"The log with transaction hash: {log['transactionHash']} and \"\n",
      "/home/simone/.local/opt/miniconda3/envs/blockchain/lib/python3.7/site-packages/web3/contract.py:1154: UserWarning: The log with transaction hash: b'\\x16u\\x95\\xe3kG\\xa6\\xb3\\xdfn\\xba\\x13v\"\\x1fj\\xe4u\\xe5\\xf2\\xcaD\\x81\\xbe\\x0cC\\xe0\\xb7,*\\x9a\\xbf' and logIndex: 4 encountered the following error during processing: MismatchedABI(The event signature did not match the provided ABI). It has been discarded.\n",
      "  f\"The log with transaction hash: {log['transactionHash']} and \"\n",
      "/home/simone/.local/opt/miniconda3/envs/blockchain/lib/python3.7/site-packages/web3/contract.py:1154: UserWarning: The log with transaction hash: b'\\x1b!g\\xf3\\xb1#\\xaf\\xb5\\xda\\xb5\\xedZ9\\x0f\\xda\\x1c\\x03\\xa7^\\x05\\x7f\\x9f\\x88\\xf0J\\xc5\\xc7\\xfd\\xfa\\xcbV\\x9d' and logIndex: 6 encountered the following error during processing: MismatchedABI(The event signature did not match the provided ABI). It has been discarded.\n",
      "  f\"The log with transaction hash: {log['transactionHash']} and \"\n",
      "/home/simone/.local/opt/miniconda3/envs/blockchain/lib/python3.7/site-packages/web3/contract.py:1154: UserWarning: The log with transaction hash: b'\\x1b!g\\xf3\\xb1#\\xaf\\xb5\\xda\\xb5\\xedZ9\\x0f\\xda\\x1c\\x03\\xa7^\\x05\\x7f\\x9f\\x88\\xf0J\\xc5\\xc7\\xfd\\xfa\\xcbV\\x9d' and logIndex: 7 encountered the following error during processing: MismatchedABI(The event signature did not match the provided ABI). It has been discarded.\n",
      "  f\"The log with transaction hash: {log['transactionHash']} and \"\n",
      "/home/simone/.local/opt/miniconda3/envs/blockchain/lib/python3.7/site-packages/web3/contract.py:1154: UserWarning: The log with transaction hash: b'\\x1b!g\\xf3\\xb1#\\xaf\\xb5\\xda\\xb5\\xedZ9\\x0f\\xda\\x1c\\x03\\xa7^\\x05\\x7f\\x9f\\x88\\xf0J\\xc5\\xc7\\xfd\\xfa\\xcbV\\x9d' and logIndex: 8 encountered the following error during processing: MismatchedABI(The event signature did not match the provided ABI). It has been discarded.\n",
      "  f\"The log with transaction hash: {log['transactionHash']} and \"\n",
      "/home/simone/.local/opt/miniconda3/envs/blockchain/lib/python3.7/site-packages/web3/contract.py:1154: UserWarning: The log with transaction hash: b'x\\xdf\\xe8By\\xa5C\\x8a\\xca\\xc8\\xae7\\xb6\\xdc\\xc7\\r\\xb3\\x96P{\\xe5I\\xdejA-L3\\x8f\\x15\\x18\\xa4' and logIndex: 1 encountered the following error during processing: MismatchedABI(The event signature did not match the provided ABI). It has been discarded.\n",
      "  f\"The log with transaction hash: {log['transactionHash']} and \"\n",
      "/home/simone/.local/opt/miniconda3/envs/blockchain/lib/python3.7/site-packages/web3/contract.py:1154: UserWarning: The log with transaction hash: b'x\\xdf\\xe8By\\xa5C\\x8a\\xca\\xc8\\xae7\\xb6\\xdc\\xc7\\r\\xb3\\x96P{\\xe5I\\xdejA-L3\\x8f\\x15\\x18\\xa4' and logIndex: 2 encountered the following error during processing: MismatchedABI(The event signature did not match the provided ABI). It has been discarded.\n",
      "  f\"The log with transaction hash: {log['transactionHash']} and \"\n",
      "/home/simone/.local/opt/miniconda3/envs/blockchain/lib/python3.7/site-packages/web3/contract.py:1154: UserWarning: The log with transaction hash: b'x\\xdf\\xe8By\\xa5C\\x8a\\xca\\xc8\\xae7\\xb6\\xdc\\xc7\\r\\xb3\\x96P{\\xe5I\\xdejA-L3\\x8f\\x15\\x18\\xa4' and logIndex: 3 encountered the following error during processing: MismatchedABI(The event signature did not match the provided ABI). It has been discarded.\n",
      "  f\"The log with transaction hash: {log['transactionHash']} and \"\n",
      "/home/simone/.local/opt/miniconda3/envs/blockchain/lib/python3.7/site-packages/web3/contract.py:1154: UserWarning: The log with transaction hash: b'\\xba\\x8a\\xda\\xa8B\\xf07\\xe8!\\xf1G|\\xfb/\\x81\\xfc\\x12O\\xba0\\x14F\\xf9\\x82\\xea%\\xd8\\x80\\xc0g1X' and logIndex: 4 encountered the following error during processing: MismatchedABI(The event signature did not match the provided ABI). It has been discarded.\n",
      "  f\"The log with transaction hash: {log['transactionHash']} and \"\n",
      "/home/simone/.local/opt/miniconda3/envs/blockchain/lib/python3.7/site-packages/web3/contract.py:1154: UserWarning: The log with transaction hash: b'\\xba\\x8a\\xda\\xa8B\\xf07\\xe8!\\xf1G|\\xfb/\\x81\\xfc\\x12O\\xba0\\x14F\\xf9\\x82\\xea%\\xd8\\x80\\xc0g1X' and logIndex: 5 encountered the following error during processing: MismatchedABI(The event signature did not match the provided ABI). It has been discarded.\n",
      "  f\"The log with transaction hash: {log['transactionHash']} and \"\n",
      "/home/simone/.local/opt/miniconda3/envs/blockchain/lib/python3.7/site-packages/web3/contract.py:1154: UserWarning: The log with transaction hash: b'\\xba\\x8a\\xda\\xa8B\\xf07\\xe8!\\xf1G|\\xfb/\\x81\\xfc\\x12O\\xba0\\x14F\\xf9\\x82\\xea%\\xd8\\x80\\xc0g1X' and logIndex: 6 encountered the following error during processing: MismatchedABI(The event signature did not match the provided ABI). It has been discarded.\n",
      "  f\"The log with transaction hash: {log['transactionHash']} and \"\n",
      "/home/simone/.local/opt/miniconda3/envs/blockchain/lib/python3.7/site-packages/web3/contract.py:1154: UserWarning: The log with transaction hash: b'ZI\\xa51gd\\x91\\xfd\\xc6H\\xef\\xeb\\x851hy\\x99\\xf6\\xf3\\x01\\x91\\xa2\\xd1\\x05\\xfe\\x19H\\xdf(\\xe6\\x08\\xc5' and logIndex: 2 encountered the following error during processing: MismatchedABI(The event signature did not match the provided ABI). It has been discarded.\n",
      "  f\"The log with transaction hash: {log['transactionHash']} and \"\n",
      "/home/simone/.local/opt/miniconda3/envs/blockchain/lib/python3.7/site-packages/web3/contract.py:1154: UserWarning: The log with transaction hash: b'ZI\\xa51gd\\x91\\xfd\\xc6H\\xef\\xeb\\x851hy\\x99\\xf6\\xf3\\x01\\x91\\xa2\\xd1\\x05\\xfe\\x19H\\xdf(\\xe6\\x08\\xc5' and logIndex: 3 encountered the following error during processing: MismatchedABI(The event signature did not match the provided ABI). It has been discarded.\n",
      "  f\"The log with transaction hash: {log['transactionHash']} and \"\n",
      "/home/simone/.local/opt/miniconda3/envs/blockchain/lib/python3.7/site-packages/web3/contract.py:1154: UserWarning: The log with transaction hash: b'ZI\\xa51gd\\x91\\xfd\\xc6H\\xef\\xeb\\x851hy\\x99\\xf6\\xf3\\x01\\x91\\xa2\\xd1\\x05\\xfe\\x19H\\xdf(\\xe6\\x08\\xc5' and logIndex: 4 encountered the following error during processing: MismatchedABI(The event signature did not match the provided ABI). It has been discarded.\n",
      "  f\"The log with transaction hash: {log['transactionHash']} and \"\n"
     ]
    },
    {
     "name": "stderr",
     "output_type": "stream",
     "text": [
      "/home/simone/.local/opt/miniconda3/envs/blockchain/lib/python3.7/site-packages/web3/contract.py:1154: UserWarning: The log with transaction hash: b'\\x82k\\xb1\\x0c)\\x05\\xc1N\\xae\\r\"\\xaf;\\xcc#\\xb1NW \\xf8{U\\x08\\x067\\x8d\\x0b\\xed\\xc0\\xe0\\xbc\\x92' and logIndex: 2 encountered the following error during processing: MismatchedABI(The event signature did not match the provided ABI). It has been discarded.\n",
      "  f\"The log with transaction hash: {log['transactionHash']} and \"\n",
      "/home/simone/.local/opt/miniconda3/envs/blockchain/lib/python3.7/site-packages/web3/contract.py:1154: UserWarning: The log with transaction hash: b'\\x82k\\xb1\\x0c)\\x05\\xc1N\\xae\\r\"\\xaf;\\xcc#\\xb1NW \\xf8{U\\x08\\x067\\x8d\\x0b\\xed\\xc0\\xe0\\xbc\\x92' and logIndex: 3 encountered the following error during processing: MismatchedABI(The event signature did not match the provided ABI). It has been discarded.\n",
      "  f\"The log with transaction hash: {log['transactionHash']} and \"\n",
      "/home/simone/.local/opt/miniconda3/envs/blockchain/lib/python3.7/site-packages/web3/contract.py:1154: UserWarning: The log with transaction hash: b'\\x82k\\xb1\\x0c)\\x05\\xc1N\\xae\\r\"\\xaf;\\xcc#\\xb1NW \\xf8{U\\x08\\x067\\x8d\\x0b\\xed\\xc0\\xe0\\xbc\\x92' and logIndex: 4 encountered the following error during processing: MismatchedABI(The event signature did not match the provided ABI). It has been discarded.\n",
      "  f\"The log with transaction hash: {log['transactionHash']} and \"\n",
      "/home/simone/.local/opt/miniconda3/envs/blockchain/lib/python3.7/site-packages/web3/contract.py:1154: UserWarning: The log with transaction hash: b'\\xef\\xd3\\x91V\\xc9\\tiPsT\\xbd\\x1b*\\xe8*d\\xde\\xe6F-W\\xd3\\xd6\\xec\\x15\\xb4\\n9\\x13\\xd8\\r\\xbb' and logIndex: 1 encountered the following error during processing: MismatchedABI(The event signature did not match the provided ABI). It has been discarded.\n",
      "  f\"The log with transaction hash: {log['transactionHash']} and \"\n",
      "/home/simone/.local/opt/miniconda3/envs/blockchain/lib/python3.7/site-packages/web3/contract.py:1154: UserWarning: The log with transaction hash: b'\\xef\\xd3\\x91V\\xc9\\tiPsT\\xbd\\x1b*\\xe8*d\\xde\\xe6F-W\\xd3\\xd6\\xec\\x15\\xb4\\n9\\x13\\xd8\\r\\xbb' and logIndex: 2 encountered the following error during processing: MismatchedABI(The event signature did not match the provided ABI). It has been discarded.\n",
      "  f\"The log with transaction hash: {log['transactionHash']} and \"\n",
      "/home/simone/.local/opt/miniconda3/envs/blockchain/lib/python3.7/site-packages/web3/contract.py:1154: UserWarning: The log with transaction hash: b'\\xef\\xd3\\x91V\\xc9\\tiPsT\\xbd\\x1b*\\xe8*d\\xde\\xe6F-W\\xd3\\xd6\\xec\\x15\\xb4\\n9\\x13\\xd8\\r\\xbb' and logIndex: 3 encountered the following error during processing: MismatchedABI(The event signature did not match the provided ABI). It has been discarded.\n",
      "  f\"The log with transaction hash: {log['transactionHash']} and \"\n",
      "/home/simone/.local/opt/miniconda3/envs/blockchain/lib/python3.7/site-packages/web3/contract.py:1154: UserWarning: The log with transaction hash: b'\\x85\\xdd\\x0b\\xc1\\x10\\xb2\\xcatuG\\xcfr\\x83L\\x98\\xd3\\xc8\\xaf\\x83\\xc5<\\xa7\\x17\\xfb\\xeeAq^q\\x7fJ\\xb9' and logIndex: 1 encountered the following error during processing: MismatchedABI(The event signature did not match the provided ABI). It has been discarded.\n",
      "  f\"The log with transaction hash: {log['transactionHash']} and \"\n",
      "/home/simone/.local/opt/miniconda3/envs/blockchain/lib/python3.7/site-packages/web3/contract.py:1154: UserWarning: The log with transaction hash: b'\\x85\\xdd\\x0b\\xc1\\x10\\xb2\\xcatuG\\xcfr\\x83L\\x98\\xd3\\xc8\\xaf\\x83\\xc5<\\xa7\\x17\\xfb\\xeeAq^q\\x7fJ\\xb9' and logIndex: 2 encountered the following error during processing: MismatchedABI(The event signature did not match the provided ABI). It has been discarded.\n",
      "  f\"The log with transaction hash: {log['transactionHash']} and \"\n",
      "/home/simone/.local/opt/miniconda3/envs/blockchain/lib/python3.7/site-packages/web3/contract.py:1154: UserWarning: The log with transaction hash: b'\\x85\\xdd\\x0b\\xc1\\x10\\xb2\\xcatuG\\xcfr\\x83L\\x98\\xd3\\xc8\\xaf\\x83\\xc5<\\xa7\\x17\\xfb\\xeeAq^q\\x7fJ\\xb9' and logIndex: 3 encountered the following error during processing: MismatchedABI(The event signature did not match the provided ABI). It has been discarded.\n",
      "  f\"The log with transaction hash: {log['transactionHash']} and \"\n",
      "/home/simone/.local/opt/miniconda3/envs/blockchain/lib/python3.7/site-packages/web3/contract.py:1154: UserWarning: The log with transaction hash: b')\\x8d-\\xb7\\xael\\xe6\\xbf5cd\\x17Z\\xda\\xda\\xc8\\xc1\\xfc\\x17\\x85W\\xdb\\x89\\xa2\\xc1\\xc4$\\xc1\\xf6w\\xbf$' and logIndex: 13 encountered the following error during processing: MismatchedABI(The event signature did not match the provided ABI). It has been discarded.\n",
      "  f\"The log with transaction hash: {log['transactionHash']} and \"\n",
      "/home/simone/.local/opt/miniconda3/envs/blockchain/lib/python3.7/site-packages/web3/contract.py:1154: UserWarning: The log with transaction hash: b')\\x8d-\\xb7\\xael\\xe6\\xbf5cd\\x17Z\\xda\\xda\\xc8\\xc1\\xfc\\x17\\x85W\\xdb\\x89\\xa2\\xc1\\xc4$\\xc1\\xf6w\\xbf$' and logIndex: 14 encountered the following error during processing: MismatchedABI(The event signature did not match the provided ABI). It has been discarded.\n",
      "  f\"The log with transaction hash: {log['transactionHash']} and \"\n",
      "/home/simone/.local/opt/miniconda3/envs/blockchain/lib/python3.7/site-packages/web3/contract.py:1154: UserWarning: The log with transaction hash: b')\\x8d-\\xb7\\xael\\xe6\\xbf5cd\\x17Z\\xda\\xda\\xc8\\xc1\\xfc\\x17\\x85W\\xdb\\x89\\xa2\\xc1\\xc4$\\xc1\\xf6w\\xbf$' and logIndex: 15 encountered the following error during processing: MismatchedABI(The event signature did not match the provided ABI). It has been discarded.\n",
      "  f\"The log with transaction hash: {log['transactionHash']} and \"\n",
      "/home/simone/.local/opt/miniconda3/envs/blockchain/lib/python3.7/site-packages/web3/contract.py:1154: UserWarning: The log with transaction hash: b'\\xf1\\x95P?U.\\x91q;\\xf4\\t\\x08\\xfd\\x83+lW\\x91l\\xf3q<\\xe3\\xc5\\x8c\\xd1-4\\x81;]w' and logIndex: 1 encountered the following error during processing: MismatchedABI(The event signature did not match the provided ABI). It has been discarded.\n",
      "  f\"The log with transaction hash: {log['transactionHash']} and \"\n",
      "/home/simone/.local/opt/miniconda3/envs/blockchain/lib/python3.7/site-packages/web3/contract.py:1154: UserWarning: The log with transaction hash: b'\\xf1\\x95P?U.\\x91q;\\xf4\\t\\x08\\xfd\\x83+lW\\x91l\\xf3q<\\xe3\\xc5\\x8c\\xd1-4\\x81;]w' and logIndex: 2 encountered the following error during processing: MismatchedABI(The event signature did not match the provided ABI). It has been discarded.\n",
      "  f\"The log with transaction hash: {log['transactionHash']} and \"\n",
      "/home/simone/.local/opt/miniconda3/envs/blockchain/lib/python3.7/site-packages/web3/contract.py:1154: UserWarning: The log with transaction hash: b'\\xf1\\x95P?U.\\x91q;\\xf4\\t\\x08\\xfd\\x83+lW\\x91l\\xf3q<\\xe3\\xc5\\x8c\\xd1-4\\x81;]w' and logIndex: 3 encountered the following error during processing: MismatchedABI(The event signature did not match the provided ABI). It has been discarded.\n",
      "  f\"The log with transaction hash: {log['transactionHash']} and \"\n",
      "/home/simone/.local/opt/miniconda3/envs/blockchain/lib/python3.7/site-packages/web3/contract.py:1154: UserWarning: The log with transaction hash: b'\\xbe\\xca\\x05@\\xa37XX\\x82\\xbc\\xa8\\x17 E{\\xb8\\xbfs\\x1f\\x0ek}\\x19D\\x07\\x90\\xfb\\xa0g\\x9c\\xb3\\x86' and logIndex: 3 encountered the following error during processing: MismatchedABI(The event signature did not match the provided ABI). It has been discarded.\n",
      "  f\"The log with transaction hash: {log['transactionHash']} and \"\n",
      "/home/simone/.local/opt/miniconda3/envs/blockchain/lib/python3.7/site-packages/web3/contract.py:1154: UserWarning: The log with transaction hash: b'\\xbe\\xca\\x05@\\xa37XX\\x82\\xbc\\xa8\\x17 E{\\xb8\\xbfs\\x1f\\x0ek}\\x19D\\x07\\x90\\xfb\\xa0g\\x9c\\xb3\\x86' and logIndex: 4 encountered the following error during processing: MismatchedABI(The event signature did not match the provided ABI). It has been discarded.\n",
      "  f\"The log with transaction hash: {log['transactionHash']} and \"\n",
      "/home/simone/.local/opt/miniconda3/envs/blockchain/lib/python3.7/site-packages/web3/contract.py:1154: UserWarning: The log with transaction hash: b'\\xbe\\xca\\x05@\\xa37XX\\x82\\xbc\\xa8\\x17 E{\\xb8\\xbfs\\x1f\\x0ek}\\x19D\\x07\\x90\\xfb\\xa0g\\x9c\\xb3\\x86' and logIndex: 5 encountered the following error during processing: MismatchedABI(The event signature did not match the provided ABI). It has been discarded.\n",
      "  f\"The log with transaction hash: {log['transactionHash']} and \"\n",
      "/home/simone/.local/opt/miniconda3/envs/blockchain/lib/python3.7/site-packages/web3/contract.py:1154: UserWarning: The log with transaction hash: b'\\xcf\\x1aIbE\\xb9~\\x99J=\\xd5V\\x123=\\xf8a\\x06?\\xd6\\xacFr\\x7f\\xbb\\xcdA\\x905\\x1e/\\xb4' and logIndex: 51 encountered the following error during processing: MismatchedABI(The event signature did not match the provided ABI). It has been discarded.\n",
      "  f\"The log with transaction hash: {log['transactionHash']} and \"\n",
      "/home/simone/.local/opt/miniconda3/envs/blockchain/lib/python3.7/site-packages/web3/contract.py:1154: UserWarning: The log with transaction hash: b'\\xcf\\x1aIbE\\xb9~\\x99J=\\xd5V\\x123=\\xf8a\\x06?\\xd6\\xacFr\\x7f\\xbb\\xcdA\\x905\\x1e/\\xb4' and logIndex: 52 encountered the following error during processing: MismatchedABI(The event signature did not match the provided ABI). It has been discarded.\n",
      "  f\"The log with transaction hash: {log['transactionHash']} and \"\n",
      "/home/simone/.local/opt/miniconda3/envs/blockchain/lib/python3.7/site-packages/web3/contract.py:1154: UserWarning: The log with transaction hash: b'\\xcf\\x1aIbE\\xb9~\\x99J=\\xd5V\\x123=\\xf8a\\x06?\\xd6\\xacFr\\x7f\\xbb\\xcdA\\x905\\x1e/\\xb4' and logIndex: 53 encountered the following error during processing: MismatchedABI(The event signature did not match the provided ABI). It has been discarded.\n",
      "  f\"The log with transaction hash: {log['transactionHash']} and \"\n"
     ]
    },
    {
     "name": "stderr",
     "output_type": "stream",
     "text": [
      "/home/simone/.local/opt/miniconda3/envs/blockchain/lib/python3.7/site-packages/web3/contract.py:1154: UserWarning: The log with transaction hash: b'V\\x07n\\xfa\\x14\\xe5\\xa9\\n`:7\\x04 Iwq\\xeb\\x9b\\x86!(w\\x90t\\xb1\\x14*\\xf9\\xc0\\xdc\\xce,' and logIndex: 3 encountered the following error during processing: MismatchedABI(The event signature did not match the provided ABI). It has been discarded.\n",
      "  f\"The log with transaction hash: {log['transactionHash']} and \"\n",
      "/home/simone/.local/opt/miniconda3/envs/blockchain/lib/python3.7/site-packages/web3/contract.py:1154: UserWarning: The log with transaction hash: b'V\\x07n\\xfa\\x14\\xe5\\xa9\\n`:7\\x04 Iwq\\xeb\\x9b\\x86!(w\\x90t\\xb1\\x14*\\xf9\\xc0\\xdc\\xce,' and logIndex: 4 encountered the following error during processing: MismatchedABI(The event signature did not match the provided ABI). It has been discarded.\n",
      "  f\"The log with transaction hash: {log['transactionHash']} and \"\n",
      "/home/simone/.local/opt/miniconda3/envs/blockchain/lib/python3.7/site-packages/web3/contract.py:1154: UserWarning: The log with transaction hash: b'V\\x07n\\xfa\\x14\\xe5\\xa9\\n`:7\\x04 Iwq\\xeb\\x9b\\x86!(w\\x90t\\xb1\\x14*\\xf9\\xc0\\xdc\\xce,' and logIndex: 5 encountered the following error during processing: MismatchedABI(The event signature did not match the provided ABI). It has been discarded.\n",
      "  f\"The log with transaction hash: {log['transactionHash']} and \"\n",
      "/home/simone/.local/opt/miniconda3/envs/blockchain/lib/python3.7/site-packages/web3/contract.py:1154: UserWarning: The log with transaction hash: b'\\xc7\\xff^\\xbb\\xbeJ\\xeeS\\xbd\\x9c\\xe2z7U3\\xd3\\x1d\\xc2\\xc7\\xa6\\xa2\\x06\\x86\\xe0\\xab\\x92s\\x19\\xbe\\xe7\\xf4\\xb3' and logIndex: 0 encountered the following error during processing: MismatchedABI(The event signature did not match the provided ABI). It has been discarded.\n",
      "  f\"The log with transaction hash: {log['transactionHash']} and \"\n",
      "/home/simone/.local/opt/miniconda3/envs/blockchain/lib/python3.7/site-packages/web3/contract.py:1154: UserWarning: The log with transaction hash: b'\\xc7\\xff^\\xbb\\xbeJ\\xeeS\\xbd\\x9c\\xe2z7U3\\xd3\\x1d\\xc2\\xc7\\xa6\\xa2\\x06\\x86\\xe0\\xab\\x92s\\x19\\xbe\\xe7\\xf4\\xb3' and logIndex: 1 encountered the following error during processing: MismatchedABI(The event signature did not match the provided ABI). It has been discarded.\n",
      "  f\"The log with transaction hash: {log['transactionHash']} and \"\n",
      "/home/simone/.local/opt/miniconda3/envs/blockchain/lib/python3.7/site-packages/web3/contract.py:1154: UserWarning: The log with transaction hash: b'\\xc7\\xff^\\xbb\\xbeJ\\xeeS\\xbd\\x9c\\xe2z7U3\\xd3\\x1d\\xc2\\xc7\\xa6\\xa2\\x06\\x86\\xe0\\xab\\x92s\\x19\\xbe\\xe7\\xf4\\xb3' and logIndex: 2 encountered the following error during processing: MismatchedABI(The event signature did not match the provided ABI). It has been discarded.\n",
      "  f\"The log with transaction hash: {log['transactionHash']} and \"\n",
      "/home/simone/.local/opt/miniconda3/envs/blockchain/lib/python3.7/site-packages/web3/contract.py:1154: UserWarning: The log with transaction hash: b'\\x92\\x86\\xd4\\x0e\\xc8y3\\n\\x047\\xeb\\xee\\xba\\xbe\\xb5\\x89[ \\xcf\\\\\\xe4\\x03\\xff\\xc4\\n/|\\x95G\\xc5\\x084' and logIndex: 0 encountered the following error during processing: MismatchedABI(The event signature did not match the provided ABI). It has been discarded.\n",
      "  f\"The log with transaction hash: {log['transactionHash']} and \"\n",
      "/home/simone/.local/opt/miniconda3/envs/blockchain/lib/python3.7/site-packages/web3/contract.py:1154: UserWarning: The log with transaction hash: b'\\x92\\x86\\xd4\\x0e\\xc8y3\\n\\x047\\xeb\\xee\\xba\\xbe\\xb5\\x89[ \\xcf\\\\\\xe4\\x03\\xff\\xc4\\n/|\\x95G\\xc5\\x084' and logIndex: 1 encountered the following error during processing: MismatchedABI(The event signature did not match the provided ABI). It has been discarded.\n",
      "  f\"The log with transaction hash: {log['transactionHash']} and \"\n",
      "/home/simone/.local/opt/miniconda3/envs/blockchain/lib/python3.7/site-packages/web3/contract.py:1154: UserWarning: The log with transaction hash: b'\\x92\\x86\\xd4\\x0e\\xc8y3\\n\\x047\\xeb\\xee\\xba\\xbe\\xb5\\x89[ \\xcf\\\\\\xe4\\x03\\xff\\xc4\\n/|\\x95G\\xc5\\x084' and logIndex: 2 encountered the following error during processing: MismatchedABI(The event signature did not match the provided ABI). It has been discarded.\n",
      "  f\"The log with transaction hash: {log['transactionHash']} and \"\n",
      "/home/simone/.local/opt/miniconda3/envs/blockchain/lib/python3.7/site-packages/web3/contract.py:1154: UserWarning: The log with transaction hash: b'c\\x95\\xcfN\\xfd\\xf8\\x83?fe\\x9e\\xba\\xb8\\xb6\\x10\\xeed\\xa8\\x88M\\x87\\xdd\\x88\\x86\\x06\\xf0\\xf9\\x93F*\\x93 ' and logIndex: 33 encountered the following error during processing: MismatchedABI(The event signature did not match the provided ABI). It has been discarded.\n",
      "  f\"The log with transaction hash: {log['transactionHash']} and \"\n",
      "/home/simone/.local/opt/miniconda3/envs/blockchain/lib/python3.7/site-packages/web3/contract.py:1154: UserWarning: The log with transaction hash: b'c\\x95\\xcfN\\xfd\\xf8\\x83?fe\\x9e\\xba\\xb8\\xb6\\x10\\xeed\\xa8\\x88M\\x87\\xdd\\x88\\x86\\x06\\xf0\\xf9\\x93F*\\x93 ' and logIndex: 34 encountered the following error during processing: MismatchedABI(The event signature did not match the provided ABI). It has been discarded.\n",
      "  f\"The log with transaction hash: {log['transactionHash']} and \"\n",
      "/home/simone/.local/opt/miniconda3/envs/blockchain/lib/python3.7/site-packages/web3/contract.py:1154: UserWarning: The log with transaction hash: b'c\\x95\\xcfN\\xfd\\xf8\\x83?fe\\x9e\\xba\\xb8\\xb6\\x10\\xeed\\xa8\\x88M\\x87\\xdd\\x88\\x86\\x06\\xf0\\xf9\\x93F*\\x93 ' and logIndex: 35 encountered the following error during processing: MismatchedABI(The event signature did not match the provided ABI). It has been discarded.\n",
      "  f\"The log with transaction hash: {log['transactionHash']} and \"\n",
      "/home/simone/.local/opt/miniconda3/envs/blockchain/lib/python3.7/site-packages/web3/contract.py:1154: UserWarning: The log with transaction hash: b'\\xd84\\x9c\\xf9\\x96n\\xed\\x96\\x93\\x9a\\xe5\"d3\\xc8\\xa6\\xc3p@\\x8eup_\\x81\\x1f\\x9b\\xcdL=\\xa7\\xb2\\xdd' and logIndex: 4 encountered the following error during processing: MismatchedABI(The event signature did not match the provided ABI). It has been discarded.\n",
      "  f\"The log with transaction hash: {log['transactionHash']} and \"\n",
      "/home/simone/.local/opt/miniconda3/envs/blockchain/lib/python3.7/site-packages/web3/contract.py:1154: UserWarning: The log with transaction hash: b'\\xd84\\x9c\\xf9\\x96n\\xed\\x96\\x93\\x9a\\xe5\"d3\\xc8\\xa6\\xc3p@\\x8eup_\\x81\\x1f\\x9b\\xcdL=\\xa7\\xb2\\xdd' and logIndex: 5 encountered the following error during processing: MismatchedABI(The event signature did not match the provided ABI). It has been discarded.\n",
      "  f\"The log with transaction hash: {log['transactionHash']} and \"\n",
      "/home/simone/.local/opt/miniconda3/envs/blockchain/lib/python3.7/site-packages/web3/contract.py:1154: UserWarning: The log with transaction hash: b'\\xd84\\x9c\\xf9\\x96n\\xed\\x96\\x93\\x9a\\xe5\"d3\\xc8\\xa6\\xc3p@\\x8eup_\\x81\\x1f\\x9b\\xcdL=\\xa7\\xb2\\xdd' and logIndex: 6 encountered the following error during processing: MismatchedABI(The event signature did not match the provided ABI). It has been discarded.\n",
      "  f\"The log with transaction hash: {log['transactionHash']} and \"\n",
      "/home/simone/.local/opt/miniconda3/envs/blockchain/lib/python3.7/site-packages/web3/contract.py:1154: UserWarning: The log with transaction hash: b'yY\\xe3Y\\xa2\\x04\\x92\\xfe\\xa8\\x0f\\x94\\xfe1?$\\x1d5?\\xd5\\x1f\\xe3\\x16\\xde\\xf8^R\\x1f\\x8d-\\x05\\xbe\\xfa' and logIndex: 5 encountered the following error during processing: MismatchedABI(The event signature did not match the provided ABI). It has been discarded.\n",
      "  f\"The log with transaction hash: {log['transactionHash']} and \"\n",
      "/home/simone/.local/opt/miniconda3/envs/blockchain/lib/python3.7/site-packages/web3/contract.py:1154: UserWarning: The log with transaction hash: b'yY\\xe3Y\\xa2\\x04\\x92\\xfe\\xa8\\x0f\\x94\\xfe1?$\\x1d5?\\xd5\\x1f\\xe3\\x16\\xde\\xf8^R\\x1f\\x8d-\\x05\\xbe\\xfa' and logIndex: 6 encountered the following error during processing: MismatchedABI(The event signature did not match the provided ABI). It has been discarded.\n",
      "  f\"The log with transaction hash: {log['transactionHash']} and \"\n",
      "/home/simone/.local/opt/miniconda3/envs/blockchain/lib/python3.7/site-packages/web3/contract.py:1154: UserWarning: The log with transaction hash: b'yY\\xe3Y\\xa2\\x04\\x92\\xfe\\xa8\\x0f\\x94\\xfe1?$\\x1d5?\\xd5\\x1f\\xe3\\x16\\xde\\xf8^R\\x1f\\x8d-\\x05\\xbe\\xfa' and logIndex: 7 encountered the following error during processing: MismatchedABI(The event signature did not match the provided ABI). It has been discarded.\n",
      "  f\"The log with transaction hash: {log['transactionHash']} and \"\n"
     ]
    },
    {
     "name": "stderr",
     "output_type": "stream",
     "text": [
      "/home/simone/.local/opt/miniconda3/envs/blockchain/lib/python3.7/site-packages/web3/contract.py:1154: UserWarning: The log with transaction hash: b'\\xc3g\\xfb\\xc5\\xdf~\\xf3\\x88N\\xf4\\xfc\\x17\\xa5>=\\x84\\xdc?\\xf8\\xde8\\x8e\\xff\\xce\\x86\\xa6@\\x8f\\xdf\\x86\\n\\x1e' and logIndex: 7 encountered the following error during processing: MismatchedABI(The event signature did not match the provided ABI). It has been discarded.\n",
      "  f\"The log with transaction hash: {log['transactionHash']} and \"\n",
      "/home/simone/.local/opt/miniconda3/envs/blockchain/lib/python3.7/site-packages/web3/contract.py:1154: UserWarning: The log with transaction hash: b'\\xc3g\\xfb\\xc5\\xdf~\\xf3\\x88N\\xf4\\xfc\\x17\\xa5>=\\x84\\xdc?\\xf8\\xde8\\x8e\\xff\\xce\\x86\\xa6@\\x8f\\xdf\\x86\\n\\x1e' and logIndex: 8 encountered the following error during processing: MismatchedABI(The event signature did not match the provided ABI). It has been discarded.\n",
      "  f\"The log with transaction hash: {log['transactionHash']} and \"\n",
      "/home/simone/.local/opt/miniconda3/envs/blockchain/lib/python3.7/site-packages/web3/contract.py:1154: UserWarning: The log with transaction hash: b'\\xc3g\\xfb\\xc5\\xdf~\\xf3\\x88N\\xf4\\xfc\\x17\\xa5>=\\x84\\xdc?\\xf8\\xde8\\x8e\\xff\\xce\\x86\\xa6@\\x8f\\xdf\\x86\\n\\x1e' and logIndex: 9 encountered the following error during processing: MismatchedABI(The event signature did not match the provided ABI). It has been discarded.\n",
      "  f\"The log with transaction hash: {log['transactionHash']} and \"\n",
      "/home/simone/.local/opt/miniconda3/envs/blockchain/lib/python3.7/site-packages/web3/contract.py:1154: UserWarning: The log with transaction hash: b'\\x19 \\x8e\\xaf\\x01G/\\xc4\\x94\\x90\\x19\\xb8\\xa4>_\\r?\\xf3\\x9f9\\xcez\\xfc\\x12\\x7f\\t\\r\\x9e{8G`' and logIndex: 9 encountered the following error during processing: MismatchedABI(The event signature did not match the provided ABI). It has been discarded.\n",
      "  f\"The log with transaction hash: {log['transactionHash']} and \"\n",
      "/home/simone/.local/opt/miniconda3/envs/blockchain/lib/python3.7/site-packages/web3/contract.py:1154: UserWarning: The log with transaction hash: b'\\x19 \\x8e\\xaf\\x01G/\\xc4\\x94\\x90\\x19\\xb8\\xa4>_\\r?\\xf3\\x9f9\\xcez\\xfc\\x12\\x7f\\t\\r\\x9e{8G`' and logIndex: 10 encountered the following error during processing: MismatchedABI(The event signature did not match the provided ABI). It has been discarded.\n",
      "  f\"The log with transaction hash: {log['transactionHash']} and \"\n",
      "/home/simone/.local/opt/miniconda3/envs/blockchain/lib/python3.7/site-packages/web3/contract.py:1154: UserWarning: The log with transaction hash: b'\\x19 \\x8e\\xaf\\x01G/\\xc4\\x94\\x90\\x19\\xb8\\xa4>_\\r?\\xf3\\x9f9\\xcez\\xfc\\x12\\x7f\\t\\r\\x9e{8G`' and logIndex: 11 encountered the following error during processing: MismatchedABI(The event signature did not match the provided ABI). It has been discarded.\n",
      "  f\"The log with transaction hash: {log['transactionHash']} and \"\n",
      "/home/simone/.local/opt/miniconda3/envs/blockchain/lib/python3.7/site-packages/web3/contract.py:1154: UserWarning: The log with transaction hash: b'\\xe8{\\xc2`9-\\xeb\\xed\\xf2\\xda?`\\xd3\\xb2\\xfc/\\xa6:\\xb5\\xd3\\xf2N8m\\xfa\\xc0T1\\xc6\\xeb\\xbbK' and logIndex: 0 encountered the following error during processing: MismatchedABI(The event signature did not match the provided ABI). It has been discarded.\n",
      "  f\"The log with transaction hash: {log['transactionHash']} and \"\n",
      "/home/simone/.local/opt/miniconda3/envs/blockchain/lib/python3.7/site-packages/web3/contract.py:1154: UserWarning: The log with transaction hash: b'\\xe8{\\xc2`9-\\xeb\\xed\\xf2\\xda?`\\xd3\\xb2\\xfc/\\xa6:\\xb5\\xd3\\xf2N8m\\xfa\\xc0T1\\xc6\\xeb\\xbbK' and logIndex: 1 encountered the following error during processing: MismatchedABI(The event signature did not match the provided ABI). It has been discarded.\n",
      "  f\"The log with transaction hash: {log['transactionHash']} and \"\n",
      "/home/simone/.local/opt/miniconda3/envs/blockchain/lib/python3.7/site-packages/web3/contract.py:1154: UserWarning: The log with transaction hash: b'\\xe8{\\xc2`9-\\xeb\\xed\\xf2\\xda?`\\xd3\\xb2\\xfc/\\xa6:\\xb5\\xd3\\xf2N8m\\xfa\\xc0T1\\xc6\\xeb\\xbbK' and logIndex: 2 encountered the following error during processing: MismatchedABI(The event signature did not match the provided ABI). It has been discarded.\n",
      "  f\"The log with transaction hash: {log['transactionHash']} and \"\n",
      "/home/simone/.local/opt/miniconda3/envs/blockchain/lib/python3.7/site-packages/web3/contract.py:1154: UserWarning: The log with transaction hash: b'w\\xa2\\x8f\\x8eY\\xac\\xa9\\xf8;\\x03*\\x82\\xe9\\xecpk\\x0f\\x02\\xd8tt,5\\xb8\\xf5\\xe4\\xcde\\xf3\\x1fc\\x1f' and logIndex: 6 encountered the following error during processing: MismatchedABI(The event signature did not match the provided ABI). It has been discarded.\n",
      "  f\"The log with transaction hash: {log['transactionHash']} and \"\n",
      "/home/simone/.local/opt/miniconda3/envs/blockchain/lib/python3.7/site-packages/web3/contract.py:1154: UserWarning: The log with transaction hash: b'w\\xa2\\x8f\\x8eY\\xac\\xa9\\xf8;\\x03*\\x82\\xe9\\xecpk\\x0f\\x02\\xd8tt,5\\xb8\\xf5\\xe4\\xcde\\xf3\\x1fc\\x1f' and logIndex: 7 encountered the following error during processing: MismatchedABI(The event signature did not match the provided ABI). It has been discarded.\n",
      "  f\"The log with transaction hash: {log['transactionHash']} and \"\n",
      "/home/simone/.local/opt/miniconda3/envs/blockchain/lib/python3.7/site-packages/web3/contract.py:1154: UserWarning: The log with transaction hash: b'w\\xa2\\x8f\\x8eY\\xac\\xa9\\xf8;\\x03*\\x82\\xe9\\xecpk\\x0f\\x02\\xd8tt,5\\xb8\\xf5\\xe4\\xcde\\xf3\\x1fc\\x1f' and logIndex: 8 encountered the following error during processing: MismatchedABI(The event signature did not match the provided ABI). It has been discarded.\n",
      "  f\"The log with transaction hash: {log['transactionHash']} and \"\n"
     ]
    }
   ],
   "source": [
    "buy_CST_logs = [] \n",
    "for event_data in all_buys_CST: \n",
    "        #print(event_data)\n",
    "        tx_hash = event_data['transactionHash'].hex()\n",
    "        receipt = web3.eth.getTransactionReceipt(tx_hash)\n",
    "        #events = ['Buy', 'Sell']\n",
    "        buy_CST_logs.append(web3_exchange_CST.events.Buy().processReceipt(receipt))"
   ]
  },
  {
   "cell_type": "code",
   "execution_count": 7,
   "metadata": {},
   "outputs": [],
   "source": [
    "FSS_buy_CST = []\n",
    "for i in range(0, len(buy_CST_logs)): \n",
    "    if(buy_CST_logs[i][0]['args']['buyer'] == '0x27C404d4D91156F7063E8dB9cC10970cfffF9a6C'): \n",
    "        FSS_buy_CST.append(buy_CST_logs[i][0])"
   ]
  },
  {
   "cell_type": "code",
   "execution_count": 8,
   "metadata": {
    "collapsed": true
   },
   "outputs": [
    {
     "name": "stderr",
     "output_type": "stream",
     "text": [
      "/home/simone/.local/opt/miniconda3/envs/blockchain/lib/python3.7/site-packages/web3/contract.py:1154: UserWarning: The log with transaction hash: b'PP\\xef\\xe7\\n\\xa3\\xce\\xee\\x0f\\x98\\xb1|\\xcfz\\xcau\\x8c~k\\xdey\\t\\x90`x\\x06a\\xeb\\x03G\\xd5\\xf7' and logIndex: 3 encountered the following error during processing: MismatchedABI(The event signature did not match the provided ABI). It has been discarded.\n",
      "  f\"The log with transaction hash: {log['transactionHash']} and \"\n",
      "/home/simone/.local/opt/miniconda3/envs/blockchain/lib/python3.7/site-packages/web3/contract.py:1154: UserWarning: The log with transaction hash: b'PP\\xef\\xe7\\n\\xa3\\xce\\xee\\x0f\\x98\\xb1|\\xcfz\\xcau\\x8c~k\\xdey\\t\\x90`x\\x06a\\xeb\\x03G\\xd5\\xf7' and logIndex: 4 encountered the following error during processing: MismatchedABI(The event signature did not match the provided ABI). It has been discarded.\n",
      "  f\"The log with transaction hash: {log['transactionHash']} and \"\n",
      "/home/simone/.local/opt/miniconda3/envs/blockchain/lib/python3.7/site-packages/web3/contract.py:1154: UserWarning: The log with transaction hash: b'PP\\xef\\xe7\\n\\xa3\\xce\\xee\\x0f\\x98\\xb1|\\xcfz\\xcau\\x8c~k\\xdey\\t\\x90`x\\x06a\\xeb\\x03G\\xd5\\xf7' and logIndex: 5 encountered the following error during processing: MismatchedABI(The event signature did not match the provided ABI). It has been discarded.\n",
      "  f\"The log with transaction hash: {log['transactionHash']} and \"\n",
      "/home/simone/.local/opt/miniconda3/envs/blockchain/lib/python3.7/site-packages/web3/contract.py:1154: UserWarning: The log with transaction hash: b'\\x0f\\x9be\\x1ck\\xb1\\xf2\\xd7\\xf9\\x0c\\x88\\xb3\\xd5\\xb8\\x8b\\xf9\\xcag\\xe2i3c\\xf3\\xec\\xce\\xef\\xe6\\x81N\\x00m\\xe8' and logIndex: 94 encountered the following error during processing: MismatchedABI(The event signature did not match the provided ABI). It has been discarded.\n",
      "  f\"The log with transaction hash: {log['transactionHash']} and \"\n",
      "/home/simone/.local/opt/miniconda3/envs/blockchain/lib/python3.7/site-packages/web3/contract.py:1154: UserWarning: The log with transaction hash: b'\\x0f\\x9be\\x1ck\\xb1\\xf2\\xd7\\xf9\\x0c\\x88\\xb3\\xd5\\xb8\\x8b\\xf9\\xcag\\xe2i3c\\xf3\\xec\\xce\\xef\\xe6\\x81N\\x00m\\xe8' and logIndex: 95 encountered the following error during processing: MismatchedABI(The event signature did not match the provided ABI). It has been discarded.\n",
      "  f\"The log with transaction hash: {log['transactionHash']} and \"\n",
      "/home/simone/.local/opt/miniconda3/envs/blockchain/lib/python3.7/site-packages/web3/contract.py:1154: UserWarning: The log with transaction hash: b'\\x0f\\x9be\\x1ck\\xb1\\xf2\\xd7\\xf9\\x0c\\x88\\xb3\\xd5\\xb8\\x8b\\xf9\\xcag\\xe2i3c\\xf3\\xec\\xce\\xef\\xe6\\x81N\\x00m\\xe8' and logIndex: 96 encountered the following error during processing: MismatchedABI(The event signature did not match the provided ABI). It has been discarded.\n",
      "  f\"The log with transaction hash: {log['transactionHash']} and \"\n",
      "/home/simone/.local/opt/miniconda3/envs/blockchain/lib/python3.7/site-packages/web3/contract.py:1154: UserWarning: The log with transaction hash: b'\\x84\\xb6P\\xe8\\xfb\\x13`\\x8c\\xd1)dH1\\xad\\xe7h\\xef\\xfa\\xc22\\x7f\\xcf\\xb2\\x89\\xa8:\\xdaA>t\\x9db' and logIndex: 0 encountered the following error during processing: MismatchedABI(The event signature did not match the provided ABI). It has been discarded.\n",
      "  f\"The log with transaction hash: {log['transactionHash']} and \"\n",
      "/home/simone/.local/opt/miniconda3/envs/blockchain/lib/python3.7/site-packages/web3/contract.py:1154: UserWarning: The log with transaction hash: b'\\x84\\xb6P\\xe8\\xfb\\x13`\\x8c\\xd1)dH1\\xad\\xe7h\\xef\\xfa\\xc22\\x7f\\xcf\\xb2\\x89\\xa8:\\xdaA>t\\x9db' and logIndex: 1 encountered the following error during processing: MismatchedABI(The event signature did not match the provided ABI). It has been discarded.\n",
      "  f\"The log with transaction hash: {log['transactionHash']} and \"\n",
      "/home/simone/.local/opt/miniconda3/envs/blockchain/lib/python3.7/site-packages/web3/contract.py:1154: UserWarning: The log with transaction hash: b'\\x84\\xb6P\\xe8\\xfb\\x13`\\x8c\\xd1)dH1\\xad\\xe7h\\xef\\xfa\\xc22\\x7f\\xcf\\xb2\\x89\\xa8:\\xdaA>t\\x9db' and logIndex: 2 encountered the following error during processing: MismatchedABI(The event signature did not match the provided ABI). It has been discarded.\n",
      "  f\"The log with transaction hash: {log['transactionHash']} and \"\n",
      "/home/simone/.local/opt/miniconda3/envs/blockchain/lib/python3.7/site-packages/web3/contract.py:1154: UserWarning: The log with transaction hash: b'\\x0c\\x9a\\xccC\\xa9\\xd9\\x08i\\xc3\\x05G\\x158\\x99\\xe8\\xda\\x86\\xe9DZ\\xeb\\x14r\\x00\\x9f5\\x98\\xe0\\x8f\\x17\\xa2\\xde' and logIndex: 10 encountered the following error during processing: MismatchedABI(The event signature did not match the provided ABI). It has been discarded.\n",
      "  f\"The log with transaction hash: {log['transactionHash']} and \"\n",
      "/home/simone/.local/opt/miniconda3/envs/blockchain/lib/python3.7/site-packages/web3/contract.py:1154: UserWarning: The log with transaction hash: b'\\x0c\\x9a\\xccC\\xa9\\xd9\\x08i\\xc3\\x05G\\x158\\x99\\xe8\\xda\\x86\\xe9DZ\\xeb\\x14r\\x00\\x9f5\\x98\\xe0\\x8f\\x17\\xa2\\xde' and logIndex: 11 encountered the following error during processing: MismatchedABI(The event signature did not match the provided ABI). It has been discarded.\n",
      "  f\"The log with transaction hash: {log['transactionHash']} and \"\n",
      "/home/simone/.local/opt/miniconda3/envs/blockchain/lib/python3.7/site-packages/web3/contract.py:1154: UserWarning: The log with transaction hash: b'\\x0c\\x9a\\xccC\\xa9\\xd9\\x08i\\xc3\\x05G\\x158\\x99\\xe8\\xda\\x86\\xe9DZ\\xeb\\x14r\\x00\\x9f5\\x98\\xe0\\x8f\\x17\\xa2\\xde' and logIndex: 12 encountered the following error during processing: MismatchedABI(The event signature did not match the provided ABI). It has been discarded.\n",
      "  f\"The log with transaction hash: {log['transactionHash']} and \"\n",
      "/home/simone/.local/opt/miniconda3/envs/blockchain/lib/python3.7/site-packages/web3/contract.py:1154: UserWarning: The log with transaction hash: b'\\x04\\x0e\\x03l)\\x18\\xbe\\ttm\\x1e\\x9a$>Rh7}\\xf6N\\x0f\\xe5\\xf98\\xda\\xc0\\x8fT9kw$' and logIndex: 1 encountered the following error during processing: MismatchedABI(The event signature did not match the provided ABI). It has been discarded.\n",
      "  f\"The log with transaction hash: {log['transactionHash']} and \"\n",
      "/home/simone/.local/opt/miniconda3/envs/blockchain/lib/python3.7/site-packages/web3/contract.py:1154: UserWarning: The log with transaction hash: b'\\x04\\x0e\\x03l)\\x18\\xbe\\ttm\\x1e\\x9a$>Rh7}\\xf6N\\x0f\\xe5\\xf98\\xda\\xc0\\x8fT9kw$' and logIndex: 2 encountered the following error during processing: MismatchedABI(The event signature did not match the provided ABI). It has been discarded.\n",
      "  f\"The log with transaction hash: {log['transactionHash']} and \"\n",
      "/home/simone/.local/opt/miniconda3/envs/blockchain/lib/python3.7/site-packages/web3/contract.py:1154: UserWarning: The log with transaction hash: b'\\x04\\x0e\\x03l)\\x18\\xbe\\ttm\\x1e\\x9a$>Rh7}\\xf6N\\x0f\\xe5\\xf98\\xda\\xc0\\x8fT9kw$' and logIndex: 3 encountered the following error during processing: MismatchedABI(The event signature did not match the provided ABI). It has been discarded.\n",
      "  f\"The log with transaction hash: {log['transactionHash']} and \"\n",
      "/home/simone/.local/opt/miniconda3/envs/blockchain/lib/python3.7/site-packages/web3/contract.py:1154: UserWarning: The log with transaction hash: b'3\\xea\\xfb\\x01\\x00\\xf6L\\x9dU\\x89\\xaf\\t\\xd3[\\xa5\\xd9I^\\xc7+\\xb7UNZ\\xecm\\x07\\xaaD\\xb8\\x11\\xed' and logIndex: 2 encountered the following error during processing: MismatchedABI(The event signature did not match the provided ABI). It has been discarded.\n",
      "  f\"The log with transaction hash: {log['transactionHash']} and \"\n",
      "/home/simone/.local/opt/miniconda3/envs/blockchain/lib/python3.7/site-packages/web3/contract.py:1154: UserWarning: The log with transaction hash: b'3\\xea\\xfb\\x01\\x00\\xf6L\\x9dU\\x89\\xaf\\t\\xd3[\\xa5\\xd9I^\\xc7+\\xb7UNZ\\xecm\\x07\\xaaD\\xb8\\x11\\xed' and logIndex: 3 encountered the following error during processing: MismatchedABI(The event signature did not match the provided ABI). It has been discarded.\n",
      "  f\"The log with transaction hash: {log['transactionHash']} and \"\n",
      "/home/simone/.local/opt/miniconda3/envs/blockchain/lib/python3.7/site-packages/web3/contract.py:1154: UserWarning: The log with transaction hash: b'3\\xea\\xfb\\x01\\x00\\xf6L\\x9dU\\x89\\xaf\\t\\xd3[\\xa5\\xd9I^\\xc7+\\xb7UNZ\\xecm\\x07\\xaaD\\xb8\\x11\\xed' and logIndex: 4 encountered the following error during processing: MismatchedABI(The event signature did not match the provided ABI). It has been discarded.\n",
      "  f\"The log with transaction hash: {log['transactionHash']} and \"\n",
      "/home/simone/.local/opt/miniconda3/envs/blockchain/lib/python3.7/site-packages/web3/contract.py:1154: UserWarning: The log with transaction hash: b'\\xd8Z\\xea4I1U&\\xa06%\\xc8qg\\x1f\\xf8\\xacU\\xeami\\x9c\\xa6\\x84\\xc1\\xe3\\xe2\\xfd\\xech\\x05&' and logIndex: 0 encountered the following error during processing: MismatchedABI(The event signature did not match the provided ABI). It has been discarded.\n",
      "  f\"The log with transaction hash: {log['transactionHash']} and \"\n",
      "/home/simone/.local/opt/miniconda3/envs/blockchain/lib/python3.7/site-packages/web3/contract.py:1154: UserWarning: The log with transaction hash: b'\\xd8Z\\xea4I1U&\\xa06%\\xc8qg\\x1f\\xf8\\xacU\\xeami\\x9c\\xa6\\x84\\xc1\\xe3\\xe2\\xfd\\xech\\x05&' and logIndex: 1 encountered the following error during processing: MismatchedABI(The event signature did not match the provided ABI). It has been discarded.\n",
      "  f\"The log with transaction hash: {log['transactionHash']} and \"\n",
      "/home/simone/.local/opt/miniconda3/envs/blockchain/lib/python3.7/site-packages/web3/contract.py:1154: UserWarning: The log with transaction hash: b'\\xd8Z\\xea4I1U&\\xa06%\\xc8qg\\x1f\\xf8\\xacU\\xeami\\x9c\\xa6\\x84\\xc1\\xe3\\xe2\\xfd\\xech\\x05&' and logIndex: 2 encountered the following error during processing: MismatchedABI(The event signature did not match the provided ABI). It has been discarded.\n",
      "  f\"The log with transaction hash: {log['transactionHash']} and \"\n"
     ]
    },
    {
     "name": "stderr",
     "output_type": "stream",
     "text": [
      "/home/simone/.local/opt/miniconda3/envs/blockchain/lib/python3.7/site-packages/web3/contract.py:1154: UserWarning: The log with transaction hash: b'\\xc2a\\xc0 \\x89\\xee8%S\\xba\\x01\\x87hD\\x94lM\\xec!\\xa35WlY\\xbd\\x90\\xeb\\xc2I\\xa5\\x17@' and logIndex: 50 encountered the following error during processing: MismatchedABI(The event signature did not match the provided ABI). It has been discarded.\n",
      "  f\"The log with transaction hash: {log['transactionHash']} and \"\n",
      "/home/simone/.local/opt/miniconda3/envs/blockchain/lib/python3.7/site-packages/web3/contract.py:1154: UserWarning: The log with transaction hash: b'\\xc2a\\xc0 \\x89\\xee8%S\\xba\\x01\\x87hD\\x94lM\\xec!\\xa35WlY\\xbd\\x90\\xeb\\xc2I\\xa5\\x17@' and logIndex: 51 encountered the following error during processing: MismatchedABI(The event signature did not match the provided ABI). It has been discarded.\n",
      "  f\"The log with transaction hash: {log['transactionHash']} and \"\n",
      "/home/simone/.local/opt/miniconda3/envs/blockchain/lib/python3.7/site-packages/web3/contract.py:1154: UserWarning: The log with transaction hash: b'\\xc2a\\xc0 \\x89\\xee8%S\\xba\\x01\\x87hD\\x94lM\\xec!\\xa35WlY\\xbd\\x90\\xeb\\xc2I\\xa5\\x17@' and logIndex: 52 encountered the following error during processing: MismatchedABI(The event signature did not match the provided ABI). It has been discarded.\n",
      "  f\"The log with transaction hash: {log['transactionHash']} and \"\n",
      "/home/simone/.local/opt/miniconda3/envs/blockchain/lib/python3.7/site-packages/web3/contract.py:1154: UserWarning: The log with transaction hash: b'p\\'\\xdd\\t\\xc9\\x8e\\x85\\xff\\xd42\\x86V\\xb0\"%\\xda\\xb8 -@IqF\\x08\\xc8[\\n\\x8b\\xb7\\xe5\\xa7\\xf4' and logIndex: 4 encountered the following error during processing: MismatchedABI(The event signature did not match the provided ABI). It has been discarded.\n",
      "  f\"The log with transaction hash: {log['transactionHash']} and \"\n",
      "/home/simone/.local/opt/miniconda3/envs/blockchain/lib/python3.7/site-packages/web3/contract.py:1154: UserWarning: The log with transaction hash: b'p\\'\\xdd\\t\\xc9\\x8e\\x85\\xff\\xd42\\x86V\\xb0\"%\\xda\\xb8 -@IqF\\x08\\xc8[\\n\\x8b\\xb7\\xe5\\xa7\\xf4' and logIndex: 5 encountered the following error during processing: MismatchedABI(The event signature did not match the provided ABI). It has been discarded.\n",
      "  f\"The log with transaction hash: {log['transactionHash']} and \"\n",
      "/home/simone/.local/opt/miniconda3/envs/blockchain/lib/python3.7/site-packages/web3/contract.py:1154: UserWarning: The log with transaction hash: b'p\\'\\xdd\\t\\xc9\\x8e\\x85\\xff\\xd42\\x86V\\xb0\"%\\xda\\xb8 -@IqF\\x08\\xc8[\\n\\x8b\\xb7\\xe5\\xa7\\xf4' and logIndex: 6 encountered the following error during processing: MismatchedABI(The event signature did not match the provided ABI). It has been discarded.\n",
      "  f\"The log with transaction hash: {log['transactionHash']} and \"\n",
      "/home/simone/.local/opt/miniconda3/envs/blockchain/lib/python3.7/site-packages/web3/contract.py:1154: UserWarning: The log with transaction hash: b'\\xa2\\x18#\\xa7K\\x9f\\x94\\x93J}#3m\\x94\\x15d\\xa9\\x9e\\xd8G\\xb9\\xc5\\xe1\\xcc\\x10\\x8aD\\xf2\\xef\\xf7(\\x9c' and logIndex: 41 encountered the following error during processing: MismatchedABI(The event signature did not match the provided ABI). It has been discarded.\n",
      "  f\"The log with transaction hash: {log['transactionHash']} and \"\n",
      "/home/simone/.local/opt/miniconda3/envs/blockchain/lib/python3.7/site-packages/web3/contract.py:1154: UserWarning: The log with transaction hash: b'\\xa2\\x18#\\xa7K\\x9f\\x94\\x93J}#3m\\x94\\x15d\\xa9\\x9e\\xd8G\\xb9\\xc5\\xe1\\xcc\\x10\\x8aD\\xf2\\xef\\xf7(\\x9c' and logIndex: 42 encountered the following error during processing: MismatchedABI(The event signature did not match the provided ABI). It has been discarded.\n",
      "  f\"The log with transaction hash: {log['transactionHash']} and \"\n",
      "/home/simone/.local/opt/miniconda3/envs/blockchain/lib/python3.7/site-packages/web3/contract.py:1154: UserWarning: The log with transaction hash: b'\\xa2\\x18#\\xa7K\\x9f\\x94\\x93J}#3m\\x94\\x15d\\xa9\\x9e\\xd8G\\xb9\\xc5\\xe1\\xcc\\x10\\x8aD\\xf2\\xef\\xf7(\\x9c' and logIndex: 43 encountered the following error during processing: MismatchedABI(The event signature did not match the provided ABI). It has been discarded.\n",
      "  f\"The log with transaction hash: {log['transactionHash']} and \"\n"
     ]
    }
   ],
   "source": [
    "sell_CST_logs = [] \n",
    "for event_data in all_sell_CST: \n",
    "        #print(event_data)\n",
    "        tx_hash = event_data['transactionHash'].hex()\n",
    "        receipt = web3.eth.getTransactionReceipt(tx_hash)\n",
    "        #events = ['Buy', 'Sell']\n",
    "        sell_CST_logs.append(web3_exchange_CST.events.Sell().processReceipt(receipt))"
   ]
  },
  {
   "cell_type": "code",
   "execution_count": 9,
   "metadata": {},
   "outputs": [],
   "source": [
    "FSS_sell_CST = []\n",
    "for i in range(0, len(sell_CST_logs)): \n",
    "    if(sell_CST_logs[i][0]['args']['buyer'] == '0x27C404d4D91156F7063E8dB9cC10970cfffF9a6C'): \n",
    "        FSS_sell_CST.append(sell_CST_logs[i][0])"
   ]
  },
  {
   "cell_type": "code",
   "execution_count": 10,
   "metadata": {},
   "outputs": [
    {
     "name": "stdout",
     "output_type": "stream",
     "text": [
      "0 1 21 26463436578707916419991\n",
      "1 1131 24987 26463436578707916419991\n",
      "2 1135122838944495000000 25125013239308462339100 26463436578707916419991\n"
     ]
    }
   ],
   "source": [
    "amount = 0\n",
    "i = 0\n",
    "while(amount < FSS_sell_CST[0]['args']['amount']): \n",
    "    amount += FSS_buy_CST[i]['args']['amount']\n",
    "    print(i, FSS_buy_CST[i]['args']['amount'], FSS_buy_CST[i]['args']['price'], FSS_sell_CST[0]['args']['price'] )\n",
    "    i += 1"
   ]
  },
  {
   "cell_type": "code",
   "execution_count": 11,
   "metadata": {},
   "outputs": [
    {
     "data": {
      "text/plain": [
       "True"
      ]
     },
     "execution_count": 11,
     "metadata": {},
     "output_type": "execute_result"
    }
   ],
   "source": [
    "amount == FSS_sell_CST[0]['args']['amount']"
   ]
  },
  {
   "cell_type": "code",
   "execution_count": 12,
   "metadata": {
    "scrolled": true
   },
   "outputs": [
    {
     "data": {
      "text/plain": [
       "Decimal('25125.0132393084623391')"
      ]
     },
     "execution_count": 12,
     "metadata": {},
     "output_type": "execute_result"
    }
   ],
   "source": [
    "web3.fromWei(25125013239308462339100, \"ether\") "
   ]
  },
  {
   "cell_type": "code",
   "execution_count": 13,
   "metadata": {},
   "outputs": [
    {
     "data": {
      "text/plain": [
       "AttributeDict({'buyer': '0x27C404d4D91156F7063E8dB9cC10970cfffF9a6C',\n",
       " 'amount': 0,\n",
       " 'price': 0})"
      ]
     },
     "execution_count": 13,
     "metadata": {},
     "output_type": "execute_result"
    }
   ],
   "source": [
    "FSS_sell_CST[2]['args']"
   ]
  },
  {
   "cell_type": "code",
   "execution_count": 14,
   "metadata": {},
   "outputs": [
    {
     "name": "stdout",
     "output_type": "stream",
     "text": [
      "3 109995104472240520000\n",
      "4 109995104472240520000\n",
      "5 109995104472240520000\n",
      "6 109995104472240520000\n",
      "7 109995104472240520000\n",
      "8 109995104472240520000\n",
      "9 109995104472240520000\n",
      "10 109995104472240520000\n",
      "11 109995104472240520000\n",
      "12 109995104472240520000\n",
      "13 53955312373498930000\n",
      "14 53955312373498930000\n",
      "15 53955312373498930000\n",
      "16 53955312373498930000\n",
      "17 53955312373498930000\n",
      "18 53955312373498930000\n",
      "19 53955312373498930000\n",
      "20 53955312373498930000\n",
      "21 53955312373498930000\n",
      "22 53955312373498930000\n"
     ]
    }
   ],
   "source": [
    "amount = 0\n",
    "while(amount < FSS_sell_CST[3]['args']['amount']): \n",
    "    amount += FSS_buy_CST[i]['args']['amount']\n",
    "    print(i, FSS_buy_CST[i]['args']['amount'])\n",
    "    i += 1"
   ]
  },
  {
   "cell_type": "code",
   "execution_count": 15,
   "metadata": {},
   "outputs": [
    {
     "data": {
      "text/plain": [
       "True"
      ]
     },
     "execution_count": 15,
     "metadata": {},
     "output_type": "execute_result"
    }
   ],
   "source": [
    "amount == FSS_sell_CST[3]['args']['amount']"
   ]
  },
  {
   "cell_type": "code",
   "execution_count": 16,
   "metadata": {},
   "outputs": [
    {
     "name": "stdout",
     "output_type": "stream",
     "text": [
      "2874409669285304827123 50886602479746919012100\n",
      "2874409669285304827123 50886602479746919012100\n",
      "2874409669285304827123 50886602479746919012100\n",
      "2874409669285304827123 50886602479746919012100\n",
      "2874409669285304827123 50886602479746919012100\n",
      "2874409669285304827123 50886602479746919012100\n",
      "2874409669285304827123 50886602479746919012100\n",
      "2874409669285304827123 50886602479746919012100\n",
      "2874409669285304827123 50886602479746919012100\n",
      "2874409669285304827123 50886602479746919012100\n"
     ]
    }
   ],
   "source": [
    "tokens = 0\n",
    "for i in range(3,13): \n",
    "    tokens += FSS_buy_CST[i]['args']['amount']\n",
    "    print(FSS_buy_CST[i]['args']['price'], FSS_sell_CST[3]['args']['price'] )"
   ]
  },
  {
   "cell_type": "code",
   "execution_count": 17,
   "metadata": {},
   "outputs": [
    {
     "data": {
      "text/plain": [
       "Decimal('2874.409669285304827123')"
      ]
     },
     "execution_count": 17,
     "metadata": {},
     "output_type": "execute_result"
    }
   ],
   "source": [
    "web3.fromWei(2874409669285304827123, \"ether\") "
   ]
  },
  {
   "cell_type": "code",
   "execution_count": 18,
   "metadata": {},
   "outputs": [
    {
     "name": "stdout",
     "output_type": "stream",
     "text": [
      "1479710413461991045528 50886602479746919012100\n",
      "1479710413461991045528 50886602479746919012100\n",
      "1479710413461991045528 50886602479746919012100\n",
      "1479710413461991045528 50886602479746919012100\n",
      "1479710413461991045528 50886602479746919012100\n",
      "1479710413461991045528 50886602479746919012100\n",
      "1479710413461991045528 50886602479746919012100\n",
      "1479710413461991045528 50886602479746919012100\n",
      "1479710413461991045528 50886602479746919012100\n",
      "1479710413461991045528 50886602479746919012100\n"
     ]
    }
   ],
   "source": [
    "tokens = 0\n",
    "for i in range(13, 23): \n",
    "    tokens += FSS_buy_CST[i]['args']['amount']\n",
    "    print(FSS_buy_CST[i]['args']['price'], FSS_sell_CST[3]['args']['price'])"
   ]
  },
  {
   "cell_type": "code",
   "execution_count": 19,
   "metadata": {},
   "outputs": [
    {
     "data": {
      "text/plain": [
       "Decimal('1479.710413461991045528')"
      ]
     },
     "execution_count": 19,
     "metadata": {},
     "output_type": "execute_result"
    }
   ],
   "source": [
    "web3.fromWei(1479710413461991045528, \"ether\") "
   ]
  },
  {
   "cell_type": "code",
   "execution_count": 20,
   "metadata": {},
   "outputs": [
    {
     "name": "stdout",
     "output_type": "stream",
     "text": [
      "AttributeDict({'buyer': '0x27C404d4D91156F7063E8dB9cC10970cfffF9a6C', 'amount': 50000000000000000000, 'price': 1837668000000000000000})\n"
     ]
    },
    {
     "data": {
      "text/plain": [
       "AttributeDict({'buyer': '0x27C404d4D91156F7063E8dB9cC10970cfffF9a6C',\n",
       " 'amount': 50000000000000000000,\n",
       " 'price': 1776939000000000000000})"
      ]
     },
     "execution_count": 20,
     "metadata": {},
     "output_type": "execute_result"
    }
   ],
   "source": [
    "print(FSS_buy_CST[23]['args'])\n",
    "FSS_sell_CST[7]['args']"
   ]
  },
  {
   "cell_type": "code",
   "execution_count": 21,
   "metadata": {},
   "outputs": [
    {
     "data": {
      "text/plain": [
       "Decimal('1776.939')"
      ]
     },
     "execution_count": 21,
     "metadata": {},
     "output_type": "execute_result"
    }
   ],
   "source": [
    "web3.fromWei(1776939000000000000000, \"ether\") "
   ]
  },
  {
   "cell_type": "code",
   "execution_count": 22,
   "metadata": {},
   "outputs": [
    {
     "name": "stdout",
     "output_type": "stream",
     "text": [
      "AttributeDict({'buyer': '0x27C404d4D91156F7063E8dB9cC10970cfffF9a6C', 'amount': 950000000000000000000, 'price': 30632142000000000000000})\n",
      "AttributeDict({'buyer': '0x27C404d4D91156F7063E8dB9cC10970cfffF9a6C', 'amount': 9000000000000000000, 'price': 290199240000000000000})\n"
     ]
    },
    {
     "data": {
      "text/plain": [
       "AttributeDict({'buyer': '0x27C404d4D91156F7063E8dB9cC10970cfffF9a6C',\n",
       " 'amount': 959000000000000000000,\n",
       " 'price': 30779757120000003828328})"
      ]
     },
     "execution_count": 22,
     "metadata": {},
     "output_type": "execute_result"
    }
   ],
   "source": [
    "print(FSS_buy_CST[24]['args'])\n",
    "print(FSS_buy_CST[25]['args'])\n",
    "FSS_sell_CST[8]['args']"
   ]
  },
  {
   "cell_type": "code",
   "execution_count": 23,
   "metadata": {},
   "outputs": [
    {
     "data": {
      "text/plain": [
       "Decimal('30779.757120000003828328')"
      ]
     },
     "execution_count": 23,
     "metadata": {},
     "output_type": "execute_result"
    }
   ],
   "source": [
    "web3.fromWei(30779757120000003828328, \"ether\") "
   ]
  },
  {
   "cell_type": "code",
   "execution_count": 24,
   "metadata": {},
   "outputs": [
    {
     "name": "stdout",
     "output_type": "stream",
     "text": [
      "26 1163153315293814063104 37178799939388413950243 75631775259113397487324\n",
      "27 580413504331613208576 18552221169754818276281 75631775259113397487324\n",
      "28 557081083926467248128 17806428350408813825713 75631775259113397487324\n"
     ]
    }
   ],
   "source": [
    "amount = 0\n",
    "i = 26\n",
    "while(amount < FSS_sell_CST[9]['args']['amount']): \n",
    "    amount += FSS_buy_CST[i]['args']['amount']\n",
    "    print(i, FSS_buy_CST[i]['args']['amount'], FSS_buy_CST[i]['args']['price'], FSS_sell_CST[9]['args']['price'] )\n",
    "    i += 1"
   ]
  },
  {
   "cell_type": "code",
   "execution_count": 25,
   "metadata": {},
   "outputs": [
    {
     "data": {
      "text/plain": [
       "Decimal('75631.775259113397487324')"
      ]
     },
     "execution_count": 25,
     "metadata": {},
     "output_type": "execute_result"
    }
   ],
   "source": [
    "web3.fromWei(75631775259113397487324, \"ether\") "
   ]
  },
  {
   "cell_type": "code",
   "execution_count": 26,
   "metadata": {},
   "outputs": [
    {
     "data": {
      "text/plain": [
       "741881914842747895808"
      ]
     },
     "execution_count": 26,
     "metadata": {},
     "output_type": "execute_result"
    }
   ],
   "source": [
    "FSS_buy_CST[29]['args']['amount']"
   ]
  },
  {
   "cell_type": "code",
   "execution_count": 27,
   "metadata": {},
   "outputs": [
    {
     "data": {
      "text/plain": [
       "Decimal('24479.031798683231585374')"
      ]
     },
     "execution_count": 27,
     "metadata": {},
     "output_type": "execute_result"
    }
   ],
   "source": [
    "web3.fromWei(24479031798683231585374, \"ether\") "
   ]
  },
  {
   "cell_type": "code",
   "execution_count": 5,
   "metadata": {},
   "outputs": [],
   "source": [
    "all_buys_AA = web3.eth.getLogs({'fromBlock': 0, 'toBlock': 'latest', 'address': exchange_AA.address, 'topics': [buy_sign]})\n",
    "all_sell_AA = web3.eth.getLogs({'fromBlock': 0, 'toBlock': 'latest', 'address': exchange_AA.address, 'topics': [sell_sign]})"
   ]
  },
  {
   "cell_type": "code",
   "execution_count": 6,
   "metadata": {
    "collapsed": true
   },
   "outputs": [
    {
     "name": "stderr",
     "output_type": "stream",
     "text": [
      "/home/simone/.local/opt/miniconda3/envs/blockchain/lib/python3.7/site-packages/web3/contract.py:1154: UserWarning: The log with transaction hash: b'\\xeaz\\x11\\xd4\\xe2 v\\n\\xebv\\xf4ZwG0d\\xc3\\xcf~*\\x8c\\x9c\\xbcR)\\xf7\\x16\\xa2\\xa5\\x1e\\xc8v' and logIndex: 5 encountered the following error during processing: MismatchedABI(The event signature did not match the provided ABI). It has been discarded.\n",
      "  f\"The log with transaction hash: {log['transactionHash']} and \"\n",
      "/home/simone/.local/opt/miniconda3/envs/blockchain/lib/python3.7/site-packages/web3/contract.py:1154: UserWarning: The log with transaction hash: b'\\xeaz\\x11\\xd4\\xe2 v\\n\\xebv\\xf4ZwG0d\\xc3\\xcf~*\\x8c\\x9c\\xbcR)\\xf7\\x16\\xa2\\xa5\\x1e\\xc8v' and logIndex: 6 encountered the following error during processing: MismatchedABI(The event signature did not match the provided ABI). It has been discarded.\n",
      "  f\"The log with transaction hash: {log['transactionHash']} and \"\n",
      "/home/simone/.local/opt/miniconda3/envs/blockchain/lib/python3.7/site-packages/web3/contract.py:1154: UserWarning: The log with transaction hash: b'\\xeaz\\x11\\xd4\\xe2 v\\n\\xebv\\xf4ZwG0d\\xc3\\xcf~*\\x8c\\x9c\\xbcR)\\xf7\\x16\\xa2\\xa5\\x1e\\xc8v' and logIndex: 7 encountered the following error during processing: MismatchedABI(The event signature did not match the provided ABI). It has been discarded.\n",
      "  f\"The log with transaction hash: {log['transactionHash']} and \"\n",
      "/home/simone/.local/opt/miniconda3/envs/blockchain/lib/python3.7/site-packages/web3/contract.py:1154: UserWarning: The log with transaction hash: b'\"\\xc3\\xdf\\x91h\\xc6\\x91\\xbd\\x9ao\\xc5\\xd1\\xf1\\xdd\\xaeD\\x08\\x1eM\\x02\\x0e\\xea\\xd5}\\xde\\nCjF\\xc0\\xd5\\x9a' and logIndex: 0 encountered the following error during processing: MismatchedABI(The event signature did not match the provided ABI). It has been discarded.\n",
      "  f\"The log with transaction hash: {log['transactionHash']} and \"\n",
      "/home/simone/.local/opt/miniconda3/envs/blockchain/lib/python3.7/site-packages/web3/contract.py:1154: UserWarning: The log with transaction hash: b'\"\\xc3\\xdf\\x91h\\xc6\\x91\\xbd\\x9ao\\xc5\\xd1\\xf1\\xdd\\xaeD\\x08\\x1eM\\x02\\x0e\\xea\\xd5}\\xde\\nCjF\\xc0\\xd5\\x9a' and logIndex: 1 encountered the following error during processing: MismatchedABI(The event signature did not match the provided ABI). It has been discarded.\n",
      "  f\"The log with transaction hash: {log['transactionHash']} and \"\n",
      "/home/simone/.local/opt/miniconda3/envs/blockchain/lib/python3.7/site-packages/web3/contract.py:1154: UserWarning: The log with transaction hash: b'\"\\xc3\\xdf\\x91h\\xc6\\x91\\xbd\\x9ao\\xc5\\xd1\\xf1\\xdd\\xaeD\\x08\\x1eM\\x02\\x0e\\xea\\xd5}\\xde\\nCjF\\xc0\\xd5\\x9a' and logIndex: 2 encountered the following error during processing: MismatchedABI(The event signature did not match the provided ABI). It has been discarded.\n",
      "  f\"The log with transaction hash: {log['transactionHash']} and \"\n",
      "/home/simone/.local/opt/miniconda3/envs/blockchain/lib/python3.7/site-packages/web3/contract.py:1154: UserWarning: The log with transaction hash: b'A\\xbc\\x87\\xe2|\\xd5l\\xcb\\xc5R\\xe19\\x15\\x18\\xd2\\xf1?h\\xf5!\\x8c5\\xfe%\\xc3\\x04\\xc9 \\r\\xaa\\xf3\\x13' and logIndex: 0 encountered the following error during processing: MismatchedABI(The event signature did not match the provided ABI). It has been discarded.\n",
      "  f\"The log with transaction hash: {log['transactionHash']} and \"\n",
      "/home/simone/.local/opt/miniconda3/envs/blockchain/lib/python3.7/site-packages/web3/contract.py:1154: UserWarning: The log with transaction hash: b'A\\xbc\\x87\\xe2|\\xd5l\\xcb\\xc5R\\xe19\\x15\\x18\\xd2\\xf1?h\\xf5!\\x8c5\\xfe%\\xc3\\x04\\xc9 \\r\\xaa\\xf3\\x13' and logIndex: 1 encountered the following error during processing: MismatchedABI(The event signature did not match the provided ABI). It has been discarded.\n",
      "  f\"The log with transaction hash: {log['transactionHash']} and \"\n",
      "/home/simone/.local/opt/miniconda3/envs/blockchain/lib/python3.7/site-packages/web3/contract.py:1154: UserWarning: The log with transaction hash: b'A\\xbc\\x87\\xe2|\\xd5l\\xcb\\xc5R\\xe19\\x15\\x18\\xd2\\xf1?h\\xf5!\\x8c5\\xfe%\\xc3\\x04\\xc9 \\r\\xaa\\xf3\\x13' and logIndex: 2 encountered the following error during processing: MismatchedABI(The event signature did not match the provided ABI). It has been discarded.\n",
      "  f\"The log with transaction hash: {log['transactionHash']} and \"\n",
      "/home/simone/.local/opt/miniconda3/envs/blockchain/lib/python3.7/site-packages/web3/contract.py:1154: UserWarning: The log with transaction hash: b'\\xa7\\x97=\\xdf\\xf2?\\x0c\\x8b\\xee\\x19\\xc2\\xdf\\xcc\\x9fo\\xf8\\x0f\\t\\x18\\x9cn\\xf4\\x98\\xb8\\xf9C\\x96\\xfc\\xf6\\xb9\\xdf/' and logIndex: 10 encountered the following error during processing: MismatchedABI(The event signature did not match the provided ABI). It has been discarded.\n",
      "  f\"The log with transaction hash: {log['transactionHash']} and \"\n",
      "/home/simone/.local/opt/miniconda3/envs/blockchain/lib/python3.7/site-packages/web3/contract.py:1154: UserWarning: The log with transaction hash: b'\\xa7\\x97=\\xdf\\xf2?\\x0c\\x8b\\xee\\x19\\xc2\\xdf\\xcc\\x9fo\\xf8\\x0f\\t\\x18\\x9cn\\xf4\\x98\\xb8\\xf9C\\x96\\xfc\\xf6\\xb9\\xdf/' and logIndex: 11 encountered the following error during processing: MismatchedABI(The event signature did not match the provided ABI). It has been discarded.\n",
      "  f\"The log with transaction hash: {log['transactionHash']} and \"\n",
      "/home/simone/.local/opt/miniconda3/envs/blockchain/lib/python3.7/site-packages/web3/contract.py:1154: UserWarning: The log with transaction hash: b'\\xa7\\x97=\\xdf\\xf2?\\x0c\\x8b\\xee\\x19\\xc2\\xdf\\xcc\\x9fo\\xf8\\x0f\\t\\x18\\x9cn\\xf4\\x98\\xb8\\xf9C\\x96\\xfc\\xf6\\xb9\\xdf/' and logIndex: 12 encountered the following error during processing: MismatchedABI(The event signature did not match the provided ABI). It has been discarded.\n",
      "  f\"The log with transaction hash: {log['transactionHash']} and \"\n",
      "/home/simone/.local/opt/miniconda3/envs/blockchain/lib/python3.7/site-packages/web3/contract.py:1154: UserWarning: The log with transaction hash: b'\\x7f\\xaeS\\xc3\\xc2\\xe4\\xaa2\\xec&\\xda\\xa5!\\xd8\\xdf\\x89\\x95\\xdb\\xec\\xee\\xe2O!\\x1f\\xc7Z\\xaa\\x064\\xfa\\x1d\\xd2' and logIndex: 2 encountered the following error during processing: MismatchedABI(The event signature did not match the provided ABI). It has been discarded.\n",
      "  f\"The log with transaction hash: {log['transactionHash']} and \"\n",
      "/home/simone/.local/opt/miniconda3/envs/blockchain/lib/python3.7/site-packages/web3/contract.py:1154: UserWarning: The log with transaction hash: b'\\x7f\\xaeS\\xc3\\xc2\\xe4\\xaa2\\xec&\\xda\\xa5!\\xd8\\xdf\\x89\\x95\\xdb\\xec\\xee\\xe2O!\\x1f\\xc7Z\\xaa\\x064\\xfa\\x1d\\xd2' and logIndex: 3 encountered the following error during processing: MismatchedABI(The event signature did not match the provided ABI). It has been discarded.\n",
      "  f\"The log with transaction hash: {log['transactionHash']} and \"\n",
      "/home/simone/.local/opt/miniconda3/envs/blockchain/lib/python3.7/site-packages/web3/contract.py:1154: UserWarning: The log with transaction hash: b'\\x7f\\xaeS\\xc3\\xc2\\xe4\\xaa2\\xec&\\xda\\xa5!\\xd8\\xdf\\x89\\x95\\xdb\\xec\\xee\\xe2O!\\x1f\\xc7Z\\xaa\\x064\\xfa\\x1d\\xd2' and logIndex: 4 encountered the following error during processing: MismatchedABI(The event signature did not match the provided ABI). It has been discarded.\n",
      "  f\"The log with transaction hash: {log['transactionHash']} and \"\n",
      "/home/simone/.local/opt/miniconda3/envs/blockchain/lib/python3.7/site-packages/web3/contract.py:1154: UserWarning: The log with transaction hash: b\"0\\xb5+\\x0bP\\xb7\\xfb\\xbb\\xca:p?'\\x1c\\x14\\xaa\\xf1\\t;P\\xbf\\xdd\\x81y\\xd7\\xfdl$\\x91\\xf8c\\xec\" and logIndex: 12 encountered the following error during processing: MismatchedABI(The event signature did not match the provided ABI). It has been discarded.\n",
      "  f\"The log with transaction hash: {log['transactionHash']} and \"\n",
      "/home/simone/.local/opt/miniconda3/envs/blockchain/lib/python3.7/site-packages/web3/contract.py:1154: UserWarning: The log with transaction hash: b\"0\\xb5+\\x0bP\\xb7\\xfb\\xbb\\xca:p?'\\x1c\\x14\\xaa\\xf1\\t;P\\xbf\\xdd\\x81y\\xd7\\xfdl$\\x91\\xf8c\\xec\" and logIndex: 13 encountered the following error during processing: MismatchedABI(The event signature did not match the provided ABI). It has been discarded.\n",
      "  f\"The log with transaction hash: {log['transactionHash']} and \"\n",
      "/home/simone/.local/opt/miniconda3/envs/blockchain/lib/python3.7/site-packages/web3/contract.py:1154: UserWarning: The log with transaction hash: b\"0\\xb5+\\x0bP\\xb7\\xfb\\xbb\\xca:p?'\\x1c\\x14\\xaa\\xf1\\t;P\\xbf\\xdd\\x81y\\xd7\\xfdl$\\x91\\xf8c\\xec\" and logIndex: 14 encountered the following error during processing: MismatchedABI(The event signature did not match the provided ABI). It has been discarded.\n",
      "  f\"The log with transaction hash: {log['transactionHash']} and \"\n",
      "/home/simone/.local/opt/miniconda3/envs/blockchain/lib/python3.7/site-packages/web3/contract.py:1154: UserWarning: The log with transaction hash: b'\\x87sbq\\xdc\\xe2D\\x8e\\xbe\\xa8\\xa6\\xdb\\xf0\\xc3\\x88\\xfa\\xda\\xe6#.\\xcd\\x9eT}4%\\x7f\\xc9\\xf2u\\x93\\xb3' and logIndex: 7 encountered the following error during processing: MismatchedABI(The event signature did not match the provided ABI). It has been discarded.\n",
      "  f\"The log with transaction hash: {log['transactionHash']} and \"\n",
      "/home/simone/.local/opt/miniconda3/envs/blockchain/lib/python3.7/site-packages/web3/contract.py:1154: UserWarning: The log with transaction hash: b'\\x87sbq\\xdc\\xe2D\\x8e\\xbe\\xa8\\xa6\\xdb\\xf0\\xc3\\x88\\xfa\\xda\\xe6#.\\xcd\\x9eT}4%\\x7f\\xc9\\xf2u\\x93\\xb3' and logIndex: 8 encountered the following error during processing: MismatchedABI(The event signature did not match the provided ABI). It has been discarded.\n",
      "  f\"The log with transaction hash: {log['transactionHash']} and \"\n",
      "/home/simone/.local/opt/miniconda3/envs/blockchain/lib/python3.7/site-packages/web3/contract.py:1154: UserWarning: The log with transaction hash: b'\\x87sbq\\xdc\\xe2D\\x8e\\xbe\\xa8\\xa6\\xdb\\xf0\\xc3\\x88\\xfa\\xda\\xe6#.\\xcd\\x9eT}4%\\x7f\\xc9\\xf2u\\x93\\xb3' and logIndex: 9 encountered the following error during processing: MismatchedABI(The event signature did not match the provided ABI). It has been discarded.\n",
      "  f\"The log with transaction hash: {log['transactionHash']} and \"\n"
     ]
    },
    {
     "name": "stderr",
     "output_type": "stream",
     "text": [
      "/home/simone/.local/opt/miniconda3/envs/blockchain/lib/python3.7/site-packages/web3/contract.py:1154: UserWarning: The log with transaction hash: b'\\xd31\\xfc\\xb7\\xeb\\x16^\\x82\\xf1\\xde\\xf2n\\xde9N5\\xfc\\xfa\\xe6\\t\\xf7\\x99\\xf8v\\xebYq\\x8b\\xe9\\x08\\xef\\xde' and logIndex: 39 encountered the following error during processing: MismatchedABI(The event signature did not match the provided ABI). It has been discarded.\n",
      "  f\"The log with transaction hash: {log['transactionHash']} and \"\n",
      "/home/simone/.local/opt/miniconda3/envs/blockchain/lib/python3.7/site-packages/web3/contract.py:1154: UserWarning: The log with transaction hash: b'\\xd31\\xfc\\xb7\\xeb\\x16^\\x82\\xf1\\xde\\xf2n\\xde9N5\\xfc\\xfa\\xe6\\t\\xf7\\x99\\xf8v\\xebYq\\x8b\\xe9\\x08\\xef\\xde' and logIndex: 40 encountered the following error during processing: MismatchedABI(The event signature did not match the provided ABI). It has been discarded.\n",
      "  f\"The log with transaction hash: {log['transactionHash']} and \"\n",
      "/home/simone/.local/opt/miniconda3/envs/blockchain/lib/python3.7/site-packages/web3/contract.py:1154: UserWarning: The log with transaction hash: b'\\xd31\\xfc\\xb7\\xeb\\x16^\\x82\\xf1\\xde\\xf2n\\xde9N5\\xfc\\xfa\\xe6\\t\\xf7\\x99\\xf8v\\xebYq\\x8b\\xe9\\x08\\xef\\xde' and logIndex: 41 encountered the following error during processing: MismatchedABI(The event signature did not match the provided ABI). It has been discarded.\n",
      "  f\"The log with transaction hash: {log['transactionHash']} and \"\n",
      "/home/simone/.local/opt/miniconda3/envs/blockchain/lib/python3.7/site-packages/web3/contract.py:1154: UserWarning: The log with transaction hash: b'\\xd7)dv\\x8e)%+\\xec\\xe6\\xc8\\xdaw\\x1c\\x95!\\x9a\\xb7\\x8c\\x85\\xa1g\\xf8\\xd5&\\x1aJ~\\xf3t3\\x10' and logIndex: 1 encountered the following error during processing: MismatchedABI(The event signature did not match the provided ABI). It has been discarded.\n",
      "  f\"The log with transaction hash: {log['transactionHash']} and \"\n",
      "/home/simone/.local/opt/miniconda3/envs/blockchain/lib/python3.7/site-packages/web3/contract.py:1154: UserWarning: The log with transaction hash: b'\\xd7)dv\\x8e)%+\\xec\\xe6\\xc8\\xdaw\\x1c\\x95!\\x9a\\xb7\\x8c\\x85\\xa1g\\xf8\\xd5&\\x1aJ~\\xf3t3\\x10' and logIndex: 2 encountered the following error during processing: MismatchedABI(The event signature did not match the provided ABI). It has been discarded.\n",
      "  f\"The log with transaction hash: {log['transactionHash']} and \"\n",
      "/home/simone/.local/opt/miniconda3/envs/blockchain/lib/python3.7/site-packages/web3/contract.py:1154: UserWarning: The log with transaction hash: b'\\xd7)dv\\x8e)%+\\xec\\xe6\\xc8\\xdaw\\x1c\\x95!\\x9a\\xb7\\x8c\\x85\\xa1g\\xf8\\xd5&\\x1aJ~\\xf3t3\\x10' and logIndex: 3 encountered the following error during processing: MismatchedABI(The event signature did not match the provided ABI). It has been discarded.\n",
      "  f\"The log with transaction hash: {log['transactionHash']} and \"\n",
      "/home/simone/.local/opt/miniconda3/envs/blockchain/lib/python3.7/site-packages/web3/contract.py:1154: UserWarning: The log with transaction hash: b'\\xec.\\xc7<hxw\\xfc\\xe5\\x19\\xd2\\xd7\\xb9\\xef\\x18\\xd1\\xb6m\\xa0B\\xabE\\xad\\xd5NT\\x1b\\xfb\\t\\x88S\\x1a' and logIndex: 22 encountered the following error during processing: MismatchedABI(The event signature did not match the provided ABI). It has been discarded.\n",
      "  f\"The log with transaction hash: {log['transactionHash']} and \"\n",
      "/home/simone/.local/opt/miniconda3/envs/blockchain/lib/python3.7/site-packages/web3/contract.py:1154: UserWarning: The log with transaction hash: b'\\xec.\\xc7<hxw\\xfc\\xe5\\x19\\xd2\\xd7\\xb9\\xef\\x18\\xd1\\xb6m\\xa0B\\xabE\\xad\\xd5NT\\x1b\\xfb\\t\\x88S\\x1a' and logIndex: 23 encountered the following error during processing: MismatchedABI(The event signature did not match the provided ABI). It has been discarded.\n",
      "  f\"The log with transaction hash: {log['transactionHash']} and \"\n",
      "/home/simone/.local/opt/miniconda3/envs/blockchain/lib/python3.7/site-packages/web3/contract.py:1154: UserWarning: The log with transaction hash: b'\\xec.\\xc7<hxw\\xfc\\xe5\\x19\\xd2\\xd7\\xb9\\xef\\x18\\xd1\\xb6m\\xa0B\\xabE\\xad\\xd5NT\\x1b\\xfb\\t\\x88S\\x1a' and logIndex: 24 encountered the following error during processing: MismatchedABI(The event signature did not match the provided ABI). It has been discarded.\n",
      "  f\"The log with transaction hash: {log['transactionHash']} and \"\n"
     ]
    }
   ],
   "source": [
    "buy_AA_logs = [] \n",
    "for event_data in all_buys_AA: \n",
    "        #print(event_data)\n",
    "        tx_hash = event_data['transactionHash'].hex()\n",
    "        receipt = web3.eth.getTransactionReceipt(tx_hash)\n",
    "        #events = ['Buy', 'Sell']\n",
    "        buy_AA_logs.append(web3_exchange_AA.events.Buy().processReceipt(receipt))"
   ]
  },
  {
   "cell_type": "code",
   "execution_count": 7,
   "metadata": {},
   "outputs": [],
   "source": [
    "FSS_buy_AA = []\n",
    "for i in range(0, len(buy_AA_logs)): \n",
    "    if(buy_AA_logs[i][0]['args']['buyer'] == '0x27C404d4D91156F7063E8dB9cC10970cfffF9a6C'): \n",
    "        FSS_buy_AA.append(buy_AA_logs[i][0])"
   ]
  },
  {
   "cell_type": "code",
   "execution_count": 8,
   "metadata": {
    "collapsed": true
   },
   "outputs": [
    {
     "name": "stderr",
     "output_type": "stream",
     "text": [
      "/home/simone/.local/opt/miniconda3/envs/blockchain/lib/python3.7/site-packages/web3/contract.py:1154: UserWarning: The log with transaction hash: b'\\xd1\\xaf5\\xf6T\\x99\\x8cSM\\xdc\\xcdD\\x1e\\xf5p,\\x97\\x87\\x12hz\\xf9\\x91\\xd4\\x03(\\x18\\xe4d\\xd1P\\x1b' and logIndex: 9 encountered the following error during processing: MismatchedABI(The event signature did not match the provided ABI). It has been discarded.\n",
      "  f\"The log with transaction hash: {log['transactionHash']} and \"\n",
      "/home/simone/.local/opt/miniconda3/envs/blockchain/lib/python3.7/site-packages/web3/contract.py:1154: UserWarning: The log with transaction hash: b'\\xd1\\xaf5\\xf6T\\x99\\x8cSM\\xdc\\xcdD\\x1e\\xf5p,\\x97\\x87\\x12hz\\xf9\\x91\\xd4\\x03(\\x18\\xe4d\\xd1P\\x1b' and logIndex: 10 encountered the following error during processing: MismatchedABI(The event signature did not match the provided ABI). It has been discarded.\n",
      "  f\"The log with transaction hash: {log['transactionHash']} and \"\n",
      "/home/simone/.local/opt/miniconda3/envs/blockchain/lib/python3.7/site-packages/web3/contract.py:1154: UserWarning: The log with transaction hash: b'\\xd1\\xaf5\\xf6T\\x99\\x8cSM\\xdc\\xcdD\\x1e\\xf5p,\\x97\\x87\\x12hz\\xf9\\x91\\xd4\\x03(\\x18\\xe4d\\xd1P\\x1b' and logIndex: 11 encountered the following error during processing: MismatchedABI(The event signature did not match the provided ABI). It has been discarded.\n",
      "  f\"The log with transaction hash: {log['transactionHash']} and \"\n",
      "/home/simone/.local/opt/miniconda3/envs/blockchain/lib/python3.7/site-packages/web3/contract.py:1154: UserWarning: The log with transaction hash: b'\\xd4(\\x8e\\x08m\\xd8\\xf09_L\\xac1\\x9a\\x83\\x14\\xc4\\xda\\xf1S^\\\\\\n\\xd1\\xf6\\xbd\\x07,\\xb5\\xa1\\x18\\x15G' and logIndex: 0 encountered the following error during processing: MismatchedABI(The event signature did not match the provided ABI). It has been discarded.\n",
      "  f\"The log with transaction hash: {log['transactionHash']} and \"\n",
      "/home/simone/.local/opt/miniconda3/envs/blockchain/lib/python3.7/site-packages/web3/contract.py:1154: UserWarning: The log with transaction hash: b'\\xd4(\\x8e\\x08m\\xd8\\xf09_L\\xac1\\x9a\\x83\\x14\\xc4\\xda\\xf1S^\\\\\\n\\xd1\\xf6\\xbd\\x07,\\xb5\\xa1\\x18\\x15G' and logIndex: 1 encountered the following error during processing: MismatchedABI(The event signature did not match the provided ABI). It has been discarded.\n",
      "  f\"The log with transaction hash: {log['transactionHash']} and \"\n",
      "/home/simone/.local/opt/miniconda3/envs/blockchain/lib/python3.7/site-packages/web3/contract.py:1154: UserWarning: The log with transaction hash: b'\\xd4(\\x8e\\x08m\\xd8\\xf09_L\\xac1\\x9a\\x83\\x14\\xc4\\xda\\xf1S^\\\\\\n\\xd1\\xf6\\xbd\\x07,\\xb5\\xa1\\x18\\x15G' and logIndex: 2 encountered the following error during processing: MismatchedABI(The event signature did not match the provided ABI). It has been discarded.\n",
      "  f\"The log with transaction hash: {log['transactionHash']} and \"\n",
      "/home/simone/.local/opt/miniconda3/envs/blockchain/lib/python3.7/site-packages/web3/contract.py:1154: UserWarning: The log with transaction hash: b'%:\\xb1,\\x0fu\\xf6\\xfa\\xdco\\xf0f\\xe9\\xb80\\xf1$\\x0epb\\xd9\\xe6\\x99\\xa5\\xdc\\xc54n \\xde#\\xe7' and logIndex: 1 encountered the following error during processing: MismatchedABI(The event signature did not match the provided ABI). It has been discarded.\n",
      "  f\"The log with transaction hash: {log['transactionHash']} and \"\n",
      "/home/simone/.local/opt/miniconda3/envs/blockchain/lib/python3.7/site-packages/web3/contract.py:1154: UserWarning: The log with transaction hash: b'%:\\xb1,\\x0fu\\xf6\\xfa\\xdco\\xf0f\\xe9\\xb80\\xf1$\\x0epb\\xd9\\xe6\\x99\\xa5\\xdc\\xc54n \\xde#\\xe7' and logIndex: 2 encountered the following error during processing: MismatchedABI(The event signature did not match the provided ABI). It has been discarded.\n",
      "  f\"The log with transaction hash: {log['transactionHash']} and \"\n",
      "/home/simone/.local/opt/miniconda3/envs/blockchain/lib/python3.7/site-packages/web3/contract.py:1154: UserWarning: The log with transaction hash: b'%:\\xb1,\\x0fu\\xf6\\xfa\\xdco\\xf0f\\xe9\\xb80\\xf1$\\x0epb\\xd9\\xe6\\x99\\xa5\\xdc\\xc54n \\xde#\\xe7' and logIndex: 3 encountered the following error during processing: MismatchedABI(The event signature did not match the provided ABI). It has been discarded.\n",
      "  f\"The log with transaction hash: {log['transactionHash']} and \"\n",
      "/home/simone/.local/opt/miniconda3/envs/blockchain/lib/python3.7/site-packages/web3/contract.py:1154: UserWarning: The log with transaction hash: b'\\x16F<\\x1fq\\xc9\\xfd\\xae\\x93T\\xf2\\x87\\xe0\\x9b\\xbc2\\xde\\x12\\xd1 \\x8ad8\\x94\\x92zJ|B\\xbeXO' and logIndex: 10 encountered the following error during processing: MismatchedABI(The event signature did not match the provided ABI). It has been discarded.\n",
      "  f\"The log with transaction hash: {log['transactionHash']} and \"\n",
      "/home/simone/.local/opt/miniconda3/envs/blockchain/lib/python3.7/site-packages/web3/contract.py:1154: UserWarning: The log with transaction hash: b'\\x16F<\\x1fq\\xc9\\xfd\\xae\\x93T\\xf2\\x87\\xe0\\x9b\\xbc2\\xde\\x12\\xd1 \\x8ad8\\x94\\x92zJ|B\\xbeXO' and logIndex: 11 encountered the following error during processing: MismatchedABI(The event signature did not match the provided ABI). It has been discarded.\n",
      "  f\"The log with transaction hash: {log['transactionHash']} and \"\n",
      "/home/simone/.local/opt/miniconda3/envs/blockchain/lib/python3.7/site-packages/web3/contract.py:1154: UserWarning: The log with transaction hash: b'\\x16F<\\x1fq\\xc9\\xfd\\xae\\x93T\\xf2\\x87\\xe0\\x9b\\xbc2\\xde\\x12\\xd1 \\x8ad8\\x94\\x92zJ|B\\xbeXO' and logIndex: 12 encountered the following error during processing: MismatchedABI(The event signature did not match the provided ABI). It has been discarded.\n",
      "  f\"The log with transaction hash: {log['transactionHash']} and \"\n",
      "/home/simone/.local/opt/miniconda3/envs/blockchain/lib/python3.7/site-packages/web3/contract.py:1154: UserWarning: The log with transaction hash: b'K\\x9b\\xcc\\xcf\\xa6D>\\xcdS\\x16uC\\x05K\\xc8\\xc9\\xcf\\x0c\\x15\\xd1Q\\x9f\\xc1nJ\\xd3\\x93J_\\xf3\\x03w' and logIndex: 83 encountered the following error during processing: MismatchedABI(The event signature did not match the provided ABI). It has been discarded.\n",
      "  f\"The log with transaction hash: {log['transactionHash']} and \"\n",
      "/home/simone/.local/opt/miniconda3/envs/blockchain/lib/python3.7/site-packages/web3/contract.py:1154: UserWarning: The log with transaction hash: b'K\\x9b\\xcc\\xcf\\xa6D>\\xcdS\\x16uC\\x05K\\xc8\\xc9\\xcf\\x0c\\x15\\xd1Q\\x9f\\xc1nJ\\xd3\\x93J_\\xf3\\x03w' and logIndex: 84 encountered the following error during processing: MismatchedABI(The event signature did not match the provided ABI). It has been discarded.\n",
      "  f\"The log with transaction hash: {log['transactionHash']} and \"\n",
      "/home/simone/.local/opt/miniconda3/envs/blockchain/lib/python3.7/site-packages/web3/contract.py:1154: UserWarning: The log with transaction hash: b'K\\x9b\\xcc\\xcf\\xa6D>\\xcdS\\x16uC\\x05K\\xc8\\xc9\\xcf\\x0c\\x15\\xd1Q\\x9f\\xc1nJ\\xd3\\x93J_\\xf3\\x03w' and logIndex: 85 encountered the following error during processing: MismatchedABI(The event signature did not match the provided ABI). It has been discarded.\n",
      "  f\"The log with transaction hash: {log['transactionHash']} and \"\n",
      "/home/simone/.local/opt/miniconda3/envs/blockchain/lib/python3.7/site-packages/web3/contract.py:1154: UserWarning: The log with transaction hash: b'R\\xc891\\x0f)K\\x91\\xdbj_\\x8bEt)fl\\xa6\\x1c\\xb0L\\xe8Sf8\\x0e\\x88\\x84\\x8fXN\\x8f' and logIndex: 10 encountered the following error during processing: MismatchedABI(The event signature did not match the provided ABI). It has been discarded.\n",
      "  f\"The log with transaction hash: {log['transactionHash']} and \"\n",
      "/home/simone/.local/opt/miniconda3/envs/blockchain/lib/python3.7/site-packages/web3/contract.py:1154: UserWarning: The log with transaction hash: b'R\\xc891\\x0f)K\\x91\\xdbj_\\x8bEt)fl\\xa6\\x1c\\xb0L\\xe8Sf8\\x0e\\x88\\x84\\x8fXN\\x8f' and logIndex: 11 encountered the following error during processing: MismatchedABI(The event signature did not match the provided ABI). It has been discarded.\n",
      "  f\"The log with transaction hash: {log['transactionHash']} and \"\n",
      "/home/simone/.local/opt/miniconda3/envs/blockchain/lib/python3.7/site-packages/web3/contract.py:1154: UserWarning: The log with transaction hash: b'R\\xc891\\x0f)K\\x91\\xdbj_\\x8bEt)fl\\xa6\\x1c\\xb0L\\xe8Sf8\\x0e\\x88\\x84\\x8fXN\\x8f' and logIndex: 12 encountered the following error during processing: MismatchedABI(The event signature did not match the provided ABI). It has been discarded.\n",
      "  f\"The log with transaction hash: {log['transactionHash']} and \"\n"
     ]
    },
    {
     "name": "stderr",
     "output_type": "stream",
     "text": [
      "/home/simone/.local/opt/miniconda3/envs/blockchain/lib/python3.7/site-packages/web3/contract.py:1154: UserWarning: The log with transaction hash: b'\\x82\\x19#\\x05S\\xc1;\\xb3^Z\\x87\\x0bl\\xbfdz\\xc2\\xd6\\xeb\\x85\\xdf\\x9f\\x00\\x91\\xd4\\x0bH\\xa6s@hX' and logIndex: 6 encountered the following error during processing: MismatchedABI(The event signature did not match the provided ABI). It has been discarded.\n",
      "  f\"The log with transaction hash: {log['transactionHash']} and \"\n",
      "/home/simone/.local/opt/miniconda3/envs/blockchain/lib/python3.7/site-packages/web3/contract.py:1154: UserWarning: The log with transaction hash: b'\\x82\\x19#\\x05S\\xc1;\\xb3^Z\\x87\\x0bl\\xbfdz\\xc2\\xd6\\xeb\\x85\\xdf\\x9f\\x00\\x91\\xd4\\x0bH\\xa6s@hX' and logIndex: 7 encountered the following error during processing: MismatchedABI(The event signature did not match the provided ABI). It has been discarded.\n",
      "  f\"The log with transaction hash: {log['transactionHash']} and \"\n",
      "/home/simone/.local/opt/miniconda3/envs/blockchain/lib/python3.7/site-packages/web3/contract.py:1154: UserWarning: The log with transaction hash: b'\\x82\\x19#\\x05S\\xc1;\\xb3^Z\\x87\\x0bl\\xbfdz\\xc2\\xd6\\xeb\\x85\\xdf\\x9f\\x00\\x91\\xd4\\x0bH\\xa6s@hX' and logIndex: 8 encountered the following error during processing: MismatchedABI(The event signature did not match the provided ABI). It has been discarded.\n",
      "  f\"The log with transaction hash: {log['transactionHash']} and \"\n",
      "/home/simone/.local/opt/miniconda3/envs/blockchain/lib/python3.7/site-packages/web3/contract.py:1154: UserWarning: The log with transaction hash: b'\\x86`e\\xd6s`]\\xd8\\x1bk|\\xb5!bm\\xb9,_E\\xf3wP\\xbbR\\x1c\\x9cl\\x8eF\\x89\\xa3\\xa1' and logIndex: 31 encountered the following error during processing: MismatchedABI(The event signature did not match the provided ABI). It has been discarded.\n",
      "  f\"The log with transaction hash: {log['transactionHash']} and \"\n",
      "/home/simone/.local/opt/miniconda3/envs/blockchain/lib/python3.7/site-packages/web3/contract.py:1154: UserWarning: The log with transaction hash: b'\\x86`e\\xd6s`]\\xd8\\x1bk|\\xb5!bm\\xb9,_E\\xf3wP\\xbbR\\x1c\\x9cl\\x8eF\\x89\\xa3\\xa1' and logIndex: 32 encountered the following error during processing: MismatchedABI(The event signature did not match the provided ABI). It has been discarded.\n",
      "  f\"The log with transaction hash: {log['transactionHash']} and \"\n",
      "/home/simone/.local/opt/miniconda3/envs/blockchain/lib/python3.7/site-packages/web3/contract.py:1154: UserWarning: The log with transaction hash: b'\\x86`e\\xd6s`]\\xd8\\x1bk|\\xb5!bm\\xb9,_E\\xf3wP\\xbbR\\x1c\\x9cl\\x8eF\\x89\\xa3\\xa1' and logIndex: 33 encountered the following error during processing: MismatchedABI(The event signature did not match the provided ABI). It has been discarded.\n",
      "  f\"The log with transaction hash: {log['transactionHash']} and \"\n",
      "/home/simone/.local/opt/miniconda3/envs/blockchain/lib/python3.7/site-packages/web3/contract.py:1154: UserWarning: The log with transaction hash: b'-\\xbd^\\xe7\\x08]\\xb8\\xc6\\xc8?\\xc8$\\xd1\\xfbA\\xa3\\xed\\x9b\\xf4Y\\\\G\\xae\\xbcr\\xe5\\x9dA\\xe4\\xaa\\x1e\\x9a' and logIndex: 46 encountered the following error during processing: MismatchedABI(The event signature did not match the provided ABI). It has been discarded.\n",
      "  f\"The log with transaction hash: {log['transactionHash']} and \"\n",
      "/home/simone/.local/opt/miniconda3/envs/blockchain/lib/python3.7/site-packages/web3/contract.py:1154: UserWarning: The log with transaction hash: b'-\\xbd^\\xe7\\x08]\\xb8\\xc6\\xc8?\\xc8$\\xd1\\xfbA\\xa3\\xed\\x9b\\xf4Y\\\\G\\xae\\xbcr\\xe5\\x9dA\\xe4\\xaa\\x1e\\x9a' and logIndex: 47 encountered the following error during processing: MismatchedABI(The event signature did not match the provided ABI). It has been discarded.\n",
      "  f\"The log with transaction hash: {log['transactionHash']} and \"\n",
      "/home/simone/.local/opt/miniconda3/envs/blockchain/lib/python3.7/site-packages/web3/contract.py:1154: UserWarning: The log with transaction hash: b'-\\xbd^\\xe7\\x08]\\xb8\\xc6\\xc8?\\xc8$\\xd1\\xfbA\\xa3\\xed\\x9b\\xf4Y\\\\G\\xae\\xbcr\\xe5\\x9dA\\xe4\\xaa\\x1e\\x9a' and logIndex: 48 encountered the following error during processing: MismatchedABI(The event signature did not match the provided ABI). It has been discarded.\n",
      "  f\"The log with transaction hash: {log['transactionHash']} and \"\n"
     ]
    }
   ],
   "source": [
    "sell_AA_logs = [] \n",
    "for event_data in all_sell_AA: \n",
    "        #print(event_data)\n",
    "        tx_hash = event_data['transactionHash'].hex()\n",
    "        receipt = web3.eth.getTransactionReceipt(tx_hash)\n",
    "        #events = ['Buy', 'Sell']\n",
    "        sell_AA_logs.append(web3_exchange_AA.events.Sell().processReceipt(receipt))"
   ]
  },
  {
   "cell_type": "code",
   "execution_count": 9,
   "metadata": {},
   "outputs": [],
   "source": [
    "FSS_sell_AA = []\n",
    "for i in range(0, len(sell_AA_logs)): \n",
    "    if(sell_AA_logs[i][0]['args']['buyer'] == '0x27C404d4D91156F7063E8dB9cC10970cfffF9a6C'): \n",
    "        FSS_sell_AA.append(sell_AA_logs[i][0])"
   ]
  },
  {
   "cell_type": "code",
   "execution_count": 12,
   "metadata": {},
   "outputs": [
    {
     "name": "stdout",
     "output_type": "stream",
     "text": [
      "0 3308874074362605000000 209000000000000000\n",
      "1 139464756689459199606784 230800000000000000\n",
      "2 74848079365459283017728 223290300000000000\n",
      "3 210405141523592957132800 233400000000000000\n"
     ]
    }
   ],
   "source": [
    "for i in range(0, len(FSS_buy_AA)): \n",
    "    print(i, FSS_buy_AA[i]['args']['amount'], FSS_buy_AA[i]['args']['price'])"
   ]
  },
  {
   "cell_type": "code",
   "execution_count": 13,
   "metadata": {},
   "outputs": [
    {
     "name": "stdout",
     "output_type": "stream",
     "text": [
      "0 3308874074362605000000 225867000000000000\n",
      "1 0 223308200000000000\n",
      "2 139464756689459199606784 231953800000000000\n",
      "3 74848079365459283017728 217054400000000000\n",
      "4 0 228340000000000000\n"
     ]
    }
   ],
   "source": [
    "for i in range(0, len(FSS_sell_AA)): \n",
    "    print(i, FSS_sell_AA[i]['args']['amount'], FSS_sell_AA[i]['args']['price'])"
   ]
  },
  {
   "cell_type": "code",
   "execution_count": 5,
   "metadata": {},
   "outputs": [],
   "source": [
    "all_directWins_CST = web3.eth.getLogs({'fromBlock': 0, 'toBlock': 'latest', 'address': challenge_CST.address, 'topics': [directWon_sign]})\n",
    "all_teamWins_CST = web3.eth.getLogs({'fromBlock': 0, 'toBlock': 'latest', 'address': challenge_CST.address, 'topics': [teamWon_sign]})"
   ]
  },
  {
   "cell_type": "code",
   "execution_count": 8,
   "metadata": {
    "collapsed": true
   },
   "outputs": [
    {
     "name": "stderr",
     "output_type": "stream",
     "text": [
      "/home/simone/.local/opt/miniconda3/envs/blockchain/lib/python3.7/site-packages/web3/contract.py:1154: UserWarning: The log with transaction hash: b'\\x92\\xcdZ\\xbaU\\x95\\xefY\\xaa\\xbe+\\xd9\\xfe\\x1bFu\\xa4NHA\\xcd\\xfe\\x0c%C\\xf67-\\xe23\\x0e\\x80' and logIndex: 26 encountered the following error during processing: MismatchedABI(The event signature did not match the provided ABI). It has been discarded.\n",
      "  f\"The log with transaction hash: {log['transactionHash']} and \"\n",
      "/home/simone/.local/opt/miniconda3/envs/blockchain/lib/python3.7/site-packages/web3/contract.py:1154: UserWarning: The log with transaction hash: b'\\x92\\xcdZ\\xbaU\\x95\\xefY\\xaa\\xbe+\\xd9\\xfe\\x1bFu\\xa4NHA\\xcd\\xfe\\x0c%C\\xf67-\\xe23\\x0e\\x80' and logIndex: 27 encountered the following error during processing: MismatchedABI(The event signature did not match the provided ABI). It has been discarded.\n",
      "  f\"The log with transaction hash: {log['transactionHash']} and \"\n",
      "/home/simone/.local/opt/miniconda3/envs/blockchain/lib/python3.7/site-packages/web3/contract.py:1154: UserWarning: The log with transaction hash: b'\\x92\\xcdZ\\xbaU\\x95\\xefY\\xaa\\xbe+\\xd9\\xfe\\x1bFu\\xa4NHA\\xcd\\xfe\\x0c%C\\xf67-\\xe23\\x0e\\x80' and logIndex: 28 encountered the following error during processing: MismatchedABI(The event signature did not match the provided ABI). It has been discarded.\n",
      "  f\"The log with transaction hash: {log['transactionHash']} and \"\n",
      "/home/simone/.local/opt/miniconda3/envs/blockchain/lib/python3.7/site-packages/web3/contract.py:1154: UserWarning: The log with transaction hash: b'\\x01m\\xf0\\xf5\\rv\\xb0\\xfaY<\\xa4\\x99\\x82s_xe\\x07X\\x94]R\\x85\\xde\\xf9\\xec\\xa8+\\xc1\\x00\\xb2\\xb8' and logIndex: 0 encountered the following error during processing: MismatchedABI(The event signature did not match the provided ABI). It has been discarded.\n",
      "  f\"The log with transaction hash: {log['transactionHash']} and \"\n",
      "/home/simone/.local/opt/miniconda3/envs/blockchain/lib/python3.7/site-packages/web3/contract.py:1154: UserWarning: The log with transaction hash: b'\\x01m\\xf0\\xf5\\rv\\xb0\\xfaY<\\xa4\\x99\\x82s_xe\\x07X\\x94]R\\x85\\xde\\xf9\\xec\\xa8+\\xc1\\x00\\xb2\\xb8' and logIndex: 1 encountered the following error during processing: MismatchedABI(The event signature did not match the provided ABI). It has been discarded.\n",
      "  f\"The log with transaction hash: {log['transactionHash']} and \"\n",
      "/home/simone/.local/opt/miniconda3/envs/blockchain/lib/python3.7/site-packages/web3/contract.py:1154: UserWarning: The log with transaction hash: b'\\x01m\\xf0\\xf5\\rv\\xb0\\xfaY<\\xa4\\x99\\x82s_xe\\x07X\\x94]R\\x85\\xde\\xf9\\xec\\xa8+\\xc1\\x00\\xb2\\xb8' and logIndex: 2 encountered the following error during processing: MismatchedABI(The event signature did not match the provided ABI). It has been discarded.\n",
      "  f\"The log with transaction hash: {log['transactionHash']} and \"\n",
      "/home/simone/.local/opt/miniconda3/envs/blockchain/lib/python3.7/site-packages/web3/contract.py:1154: UserWarning: The log with transaction hash: b'N\\xd6\\x16\\xd99\\xc6gMC\\x94Y<\\'\\x08\\xdaq\"$\\xc9\\x86M\\xa1S\\xb3N\\x98G<\\x14\\xd4d\\xf8' and logIndex: 0 encountered the following error during processing: MismatchedABI(The event signature did not match the provided ABI). It has been discarded.\n",
      "  f\"The log with transaction hash: {log['transactionHash']} and \"\n",
      "/home/simone/.local/opt/miniconda3/envs/blockchain/lib/python3.7/site-packages/web3/contract.py:1154: UserWarning: The log with transaction hash: b'N\\xd6\\x16\\xd99\\xc6gMC\\x94Y<\\'\\x08\\xdaq\"$\\xc9\\x86M\\xa1S\\xb3N\\x98G<\\x14\\xd4d\\xf8' and logIndex: 1 encountered the following error during processing: MismatchedABI(The event signature did not match the provided ABI). It has been discarded.\n",
      "  f\"The log with transaction hash: {log['transactionHash']} and \"\n",
      "/home/simone/.local/opt/miniconda3/envs/blockchain/lib/python3.7/site-packages/web3/contract.py:1154: UserWarning: The log with transaction hash: b'N\\xd6\\x16\\xd99\\xc6gMC\\x94Y<\\'\\x08\\xdaq\"$\\xc9\\x86M\\xa1S\\xb3N\\x98G<\\x14\\xd4d\\xf8' and logIndex: 2 encountered the following error during processing: MismatchedABI(The event signature did not match the provided ABI). It has been discarded.\n",
      "  f\"The log with transaction hash: {log['transactionHash']} and \"\n",
      "/home/simone/.local/opt/miniconda3/envs/blockchain/lib/python3.7/site-packages/web3/contract.py:1154: UserWarning: The log with transaction hash: b'|(\\xe8]\\x91\\x86I+\\x1b\\x98\\xb5\\xe4\\x93\\x9bo\\xf2\\x0bH\\xf6\\xd1\\xef\\n\\xa2w\\x85\\xa6\\xde\\x195\\xf2\\xa1\\xab' and logIndex: 0 encountered the following error during processing: MismatchedABI(The event signature did not match the provided ABI). It has been discarded.\n",
      "  f\"The log with transaction hash: {log['transactionHash']} and \"\n",
      "/home/simone/.local/opt/miniconda3/envs/blockchain/lib/python3.7/site-packages/web3/contract.py:1154: UserWarning: The log with transaction hash: b'|(\\xe8]\\x91\\x86I+\\x1b\\x98\\xb5\\xe4\\x93\\x9bo\\xf2\\x0bH\\xf6\\xd1\\xef\\n\\xa2w\\x85\\xa6\\xde\\x195\\xf2\\xa1\\xab' and logIndex: 1 encountered the following error during processing: MismatchedABI(The event signature did not match the provided ABI). It has been discarded.\n",
      "  f\"The log with transaction hash: {log['transactionHash']} and \"\n",
      "/home/simone/.local/opt/miniconda3/envs/blockchain/lib/python3.7/site-packages/web3/contract.py:1154: UserWarning: The log with transaction hash: b'|(\\xe8]\\x91\\x86I+\\x1b\\x98\\xb5\\xe4\\x93\\x9bo\\xf2\\x0bH\\xf6\\xd1\\xef\\n\\xa2w\\x85\\xa6\\xde\\x195\\xf2\\xa1\\xab' and logIndex: 2 encountered the following error during processing: MismatchedABI(The event signature did not match the provided ABI). It has been discarded.\n",
      "  f\"The log with transaction hash: {log['transactionHash']} and \"\n",
      "/home/simone/.local/opt/miniconda3/envs/blockchain/lib/python3.7/site-packages/web3/contract.py:1154: UserWarning: The log with transaction hash: b'\\x96\\x82\\xa0i\\xdc\\xda\\x12d\\x7f\\x89\\x82cgR\\xa2I\\xf7Jt&$\\x96\\x7f\\xf3\\xd7:\\x00\\xd6x#\\xa8(' and logIndex: 0 encountered the following error during processing: MismatchedABI(The event signature did not match the provided ABI). It has been discarded.\n",
      "  f\"The log with transaction hash: {log['transactionHash']} and \"\n",
      "/home/simone/.local/opt/miniconda3/envs/blockchain/lib/python3.7/site-packages/web3/contract.py:1154: UserWarning: The log with transaction hash: b'\\x96\\x82\\xa0i\\xdc\\xda\\x12d\\x7f\\x89\\x82cgR\\xa2I\\xf7Jt&$\\x96\\x7f\\xf3\\xd7:\\x00\\xd6x#\\xa8(' and logIndex: 1 encountered the following error during processing: MismatchedABI(The event signature did not match the provided ABI). It has been discarded.\n",
      "  f\"The log with transaction hash: {log['transactionHash']} and \"\n",
      "/home/simone/.local/opt/miniconda3/envs/blockchain/lib/python3.7/site-packages/web3/contract.py:1154: UserWarning: The log with transaction hash: b'\\x96\\x82\\xa0i\\xdc\\xda\\x12d\\x7f\\x89\\x82cgR\\xa2I\\xf7Jt&$\\x96\\x7f\\xf3\\xd7:\\x00\\xd6x#\\xa8(' and logIndex: 2 encountered the following error during processing: MismatchedABI(The event signature did not match the provided ABI). It has been discarded.\n",
      "  f\"The log with transaction hash: {log['transactionHash']} and \"\n",
      "/home/simone/.local/opt/miniconda3/envs/blockchain/lib/python3.7/site-packages/web3/contract.py:1154: UserWarning: The log with transaction hash: b'(\\x9b\\xbc\\xe3\\xa2\\xfe\\xcdz\\x8b_\\x97@\\x9e6\\xb4r\\xe7}\">N\\x8d\\xab\\xd7\\x11\\xbe\\x87\\xd0;r\\x0f^' and logIndex: 226 encountered the following error during processing: MismatchedABI(The event signature did not match the provided ABI). It has been discarded.\n",
      "  f\"The log with transaction hash: {log['transactionHash']} and \"\n",
      "/home/simone/.local/opt/miniconda3/envs/blockchain/lib/python3.7/site-packages/web3/contract.py:1154: UserWarning: The log with transaction hash: b'(\\x9b\\xbc\\xe3\\xa2\\xfe\\xcdz\\x8b_\\x97@\\x9e6\\xb4r\\xe7}\">N\\x8d\\xab\\xd7\\x11\\xbe\\x87\\xd0;r\\x0f^' and logIndex: 227 encountered the following error during processing: MismatchedABI(The event signature did not match the provided ABI). It has been discarded.\n",
      "  f\"The log with transaction hash: {log['transactionHash']} and \"\n",
      "/home/simone/.local/opt/miniconda3/envs/blockchain/lib/python3.7/site-packages/web3/contract.py:1154: UserWarning: The log with transaction hash: b'(\\x9b\\xbc\\xe3\\xa2\\xfe\\xcdz\\x8b_\\x97@\\x9e6\\xb4r\\xe7}\">N\\x8d\\xab\\xd7\\x11\\xbe\\x87\\xd0;r\\x0f^' and logIndex: 228 encountered the following error during processing: MismatchedABI(The event signature did not match the provided ABI). It has been discarded.\n",
      "  f\"The log with transaction hash: {log['transactionHash']} and \"\n"
     ]
    }
   ],
   "source": [
    "directWins_CST_logs = [] \n",
    "for event_data in all_directWins_CST: \n",
    "        #print(event_data)\n",
    "        tx_hash = event_data['transactionHash'].hex()\n",
    "        receipt = web3.eth.getTransactionReceipt(tx_hash)\n",
    "        #events = ['Buy', 'Sell']\n",
    "        directWins_CST_logs.append(web3_challenge_CST.events.DirectChallengeWon().processReceipt(receipt))"
   ]
  },
  {
   "cell_type": "code",
   "execution_count": 9,
   "metadata": {},
   "outputs": [],
   "source": [
    "FSS_directWins_CST = []\n",
    "for i in range(0, len(directWins_CST_logs)): \n",
    "    if(directWins_CST_logs[i][0]['args']['winner'] == '0x27C404d4D91156F7063E8dB9cC10970cfffF9a6C'): \n",
    "        FSS_directWins_CST.append(directWins_CST_logs[i][0])"
   ]
  },
  {
   "cell_type": "code",
   "execution_count": 10,
   "metadata": {},
   "outputs": [
    {
     "data": {
      "text/plain": [
       "[AttributeDict({'args': AttributeDict({'winner': '0x27C404d4D91156F7063E8dB9cC10970cfffF9a6C',\n",
       "   'flag': 19503,\n",
       "   '_amount': 1000000000000000000000}),\n",
       "  'event': 'DirectChallengeWon',\n",
       "  'logIndex': 3,\n",
       "  'transactionIndex': 0,\n",
       "  'transactionHash': HexBytes('0x7c28e85d9186492b1b98b5e4939b6ff20b48f6d1ef0aa27785a6de1935f2a1ab'),\n",
       "  'address': '0x0b6019c547Ba293eBD74991217354b1281209985',\n",
       "  'blockHash': HexBytes('0x2dc0196057cbe0f408249adbfe0cf2cc4a1a13f5c72c892f12c9afbe43f74293'),\n",
       "  'blockNumber': 8174461}),\n",
       " AttributeDict({'args': AttributeDict({'winner': '0x27C404d4D91156F7063E8dB9cC10970cfffF9a6C',\n",
       "   'flag': 65434,\n",
       "   '_amount': 1000000000000000000000}),\n",
       "  'event': 'DirectChallengeWon',\n",
       "  'logIndex': 229,\n",
       "  'transactionIndex': 28,\n",
       "  'transactionHash': HexBytes('0x289bbce3a2fecd7a8b5f97409e36b472e77d223e4e8dabd711be87d03b720f5e'),\n",
       "  'address': '0x0b6019c547Ba293eBD74991217354b1281209985',\n",
       "  'blockHash': HexBytes('0x770e5276cfd18f415cc275b6cc7fdc0ae40b769f9a569286d6a5a70a5ac2a736'),\n",
       "  'blockNumber': 8198738})]"
      ]
     },
     "execution_count": 10,
     "metadata": {},
     "output_type": "execute_result"
    }
   ],
   "source": [
    "FSS_directWins_CST"
   ]
  },
  {
   "cell_type": "code",
   "execution_count": 46,
   "metadata": {},
   "outputs": [
    {
     "name": "stdout",
     "output_type": "stream",
     "text": [
      "1593507607 2020-06-30 11:00:07\n"
     ]
    }
   ],
   "source": [
    "timestamp = web3.eth.getBlock(8198738)['timestamp']\n",
    "date = datetime.datetime.fromtimestamp(timestamp)\n",
    "print(timestamp, date)"
   ]
  },
  {
   "cell_type": "code",
   "execution_count": 13,
   "metadata": {
    "collapsed": true
   },
   "outputs": [
    {
     "name": "stderr",
     "output_type": "stream",
     "text": [
      "/home/simone/.local/opt/miniconda3/envs/blockchain/lib/python3.7/site-packages/web3/contract.py:1154: UserWarning: The log with transaction hash: b'V\\x9a\\xfb\\xba\\xec\\xc4\\xa5\\x7f\\xcb\\x1b\\xc6\\x83e\\x1b\\xfc\\x83x\\xfdi}\\xc9R\\x9fM\\x8e\\x84d&\\\\/\\x04\\xf9' and logIndex: 0 encountered the following error during processing: MismatchedABI(The event signature did not match the provided ABI). It has been discarded.\n",
      "  f\"The log with transaction hash: {log['transactionHash']} and \"\n",
      "/home/simone/.local/opt/miniconda3/envs/blockchain/lib/python3.7/site-packages/web3/contract.py:1154: UserWarning: The log with transaction hash: b'V\\x9a\\xfb\\xba\\xec\\xc4\\xa5\\x7f\\xcb\\x1b\\xc6\\x83e\\x1b\\xfc\\x83x\\xfdi}\\xc9R\\x9fM\\x8e\\x84d&\\\\/\\x04\\xf9' and logIndex: 1 encountered the following error during processing: MismatchedABI(The event signature did not match the provided ABI). It has been discarded.\n",
      "  f\"The log with transaction hash: {log['transactionHash']} and \"\n",
      "/home/simone/.local/opt/miniconda3/envs/blockchain/lib/python3.7/site-packages/web3/contract.py:1154: UserWarning: The log with transaction hash: b'V\\x9a\\xfb\\xba\\xec\\xc4\\xa5\\x7f\\xcb\\x1b\\xc6\\x83e\\x1b\\xfc\\x83x\\xfdi}\\xc9R\\x9fM\\x8e\\x84d&\\\\/\\x04\\xf9' and logIndex: 2 encountered the following error during processing: MismatchedABI(The event signature did not match the provided ABI). It has been discarded.\n",
      "  f\"The log with transaction hash: {log['transactionHash']} and \"\n",
      "/home/simone/.local/opt/miniconda3/envs/blockchain/lib/python3.7/site-packages/web3/contract.py:1154: UserWarning: The log with transaction hash: b'\\x07\\xec>hf\\x8e\\x93\\x90\\x82\\x87\\x9d\\x949\\xf8Vf\\x98\\x90\\x8c \\xf6\\x0b\\x1c\\xc1\\xa2Eo\\x7f\\x13T\\xc4\\xcc' and logIndex: 2 encountered the following error during processing: MismatchedABI(The event signature did not match the provided ABI). It has been discarded.\n",
      "  f\"The log with transaction hash: {log['transactionHash']} and \"\n",
      "/home/simone/.local/opt/miniconda3/envs/blockchain/lib/python3.7/site-packages/web3/contract.py:1154: UserWarning: The log with transaction hash: b'\\x07\\xec>hf\\x8e\\x93\\x90\\x82\\x87\\x9d\\x949\\xf8Vf\\x98\\x90\\x8c \\xf6\\x0b\\x1c\\xc1\\xa2Eo\\x7f\\x13T\\xc4\\xcc' and logIndex: 3 encountered the following error during processing: MismatchedABI(The event signature did not match the provided ABI). It has been discarded.\n",
      "  f\"The log with transaction hash: {log['transactionHash']} and \"\n",
      "/home/simone/.local/opt/miniconda3/envs/blockchain/lib/python3.7/site-packages/web3/contract.py:1154: UserWarning: The log with transaction hash: b'\\x07\\xec>hf\\x8e\\x93\\x90\\x82\\x87\\x9d\\x949\\xf8Vf\\x98\\x90\\x8c \\xf6\\x0b\\x1c\\xc1\\xa2Eo\\x7f\\x13T\\xc4\\xcc' and logIndex: 4 encountered the following error during processing: MismatchedABI(The event signature did not match the provided ABI). It has been discarded.\n",
      "  f\"The log with transaction hash: {log['transactionHash']} and \"\n",
      "/home/simone/.local/opt/miniconda3/envs/blockchain/lib/python3.7/site-packages/web3/contract.py:1154: UserWarning: The log with transaction hash: b'\\xe99\\x82\\xfcFc>\\xbc\\x06 \\x97\\x15\\xf9\\xcb\\x13\\xb3\\x0fR?)\\xb6a|\\xf1\\x8d\\x8f\\x87\\x1c24\\x81\\xbd' and logIndex: 10 encountered the following error during processing: MismatchedABI(The event signature did not match the provided ABI). It has been discarded.\n",
      "  f\"The log with transaction hash: {log['transactionHash']} and \"\n",
      "/home/simone/.local/opt/miniconda3/envs/blockchain/lib/python3.7/site-packages/web3/contract.py:1154: UserWarning: The log with transaction hash: b'\\xe99\\x82\\xfcFc>\\xbc\\x06 \\x97\\x15\\xf9\\xcb\\x13\\xb3\\x0fR?)\\xb6a|\\xf1\\x8d\\x8f\\x87\\x1c24\\x81\\xbd' and logIndex: 11 encountered the following error during processing: MismatchedABI(The event signature did not match the provided ABI). It has been discarded.\n",
      "  f\"The log with transaction hash: {log['transactionHash']} and \"\n",
      "/home/simone/.local/opt/miniconda3/envs/blockchain/lib/python3.7/site-packages/web3/contract.py:1154: UserWarning: The log with transaction hash: b'\\xe99\\x82\\xfcFc>\\xbc\\x06 \\x97\\x15\\xf9\\xcb\\x13\\xb3\\x0fR?)\\xb6a|\\xf1\\x8d\\x8f\\x87\\x1c24\\x81\\xbd' and logIndex: 12 encountered the following error during processing: MismatchedABI(The event signature did not match the provided ABI). It has been discarded.\n",
      "  f\"The log with transaction hash: {log['transactionHash']} and \"\n",
      "/home/simone/.local/opt/miniconda3/envs/blockchain/lib/python3.7/site-packages/web3/contract.py:1154: UserWarning: The log with transaction hash: b'5~\\x1ca\\xb7\\x87s\\xa1EzG\\x9bm\\x02\\x86\\xb2Z%Cv\\xb6\\xcepy-~\\x9c\\xa3\\x07U\\x1eA' and logIndex: 1 encountered the following error during processing: MismatchedABI(The event signature did not match the provided ABI). It has been discarded.\n",
      "  f\"The log with transaction hash: {log['transactionHash']} and \"\n",
      "/home/simone/.local/opt/miniconda3/envs/blockchain/lib/python3.7/site-packages/web3/contract.py:1154: UserWarning: The log with transaction hash: b'5~\\x1ca\\xb7\\x87s\\xa1EzG\\x9bm\\x02\\x86\\xb2Z%Cv\\xb6\\xcepy-~\\x9c\\xa3\\x07U\\x1eA' and logIndex: 2 encountered the following error during processing: MismatchedABI(The event signature did not match the provided ABI). It has been discarded.\n",
      "  f\"The log with transaction hash: {log['transactionHash']} and \"\n",
      "/home/simone/.local/opt/miniconda3/envs/blockchain/lib/python3.7/site-packages/web3/contract.py:1154: UserWarning: The log with transaction hash: b'5~\\x1ca\\xb7\\x87s\\xa1EzG\\x9bm\\x02\\x86\\xb2Z%Cv\\xb6\\xcepy-~\\x9c\\xa3\\x07U\\x1eA' and logIndex: 3 encountered the following error during processing: MismatchedABI(The event signature did not match the provided ABI). It has been discarded.\n",
      "  f\"The log with transaction hash: {log['transactionHash']} and \"\n",
      "/home/simone/.local/opt/miniconda3/envs/blockchain/lib/python3.7/site-packages/web3/contract.py:1154: UserWarning: The log with transaction hash: b'\\xae\\xdfw\\x93\\x009m\\xfa\\x87n\\x8808\\xc6\\x9a\\r\\x9f+\\xf9\\x10>\\xd7\\xfb\\xbb\\x7feP\\rx\\x9d\\xec\\x0e' and logIndex: 0 encountered the following error during processing: MismatchedABI(The event signature did not match the provided ABI). It has been discarded.\n",
      "  f\"The log with transaction hash: {log['transactionHash']} and \"\n",
      "/home/simone/.local/opt/miniconda3/envs/blockchain/lib/python3.7/site-packages/web3/contract.py:1154: UserWarning: The log with transaction hash: b'\\xae\\xdfw\\x93\\x009m\\xfa\\x87n\\x8808\\xc6\\x9a\\r\\x9f+\\xf9\\x10>\\xd7\\xfb\\xbb\\x7feP\\rx\\x9d\\xec\\x0e' and logIndex: 1 encountered the following error during processing: MismatchedABI(The event signature did not match the provided ABI). It has been discarded.\n",
      "  f\"The log with transaction hash: {log['transactionHash']} and \"\n",
      "/home/simone/.local/opt/miniconda3/envs/blockchain/lib/python3.7/site-packages/web3/contract.py:1154: UserWarning: The log with transaction hash: b'\\xae\\xdfw\\x93\\x009m\\xfa\\x87n\\x8808\\xc6\\x9a\\r\\x9f+\\xf9\\x10>\\xd7\\xfb\\xbb\\x7feP\\rx\\x9d\\xec\\x0e' and logIndex: 2 encountered the following error during processing: MismatchedABI(The event signature did not match the provided ABI). It has been discarded.\n",
      "  f\"The log with transaction hash: {log['transactionHash']} and \"\n",
      "/home/simone/.local/opt/miniconda3/envs/blockchain/lib/python3.7/site-packages/web3/contract.py:1154: UserWarning: The log with transaction hash: b'+4e\\xc0\\xb8\\x19\\x99_\\xe7*\\xff\\xd6G\\xc1g\\x1f\\x10\\x17Zk\\xf8/\\xc0\\xab\\xdepF\\xfar\\x05ZF' and logIndex: 15 encountered the following error during processing: MismatchedABI(The event signature did not match the provided ABI). It has been discarded.\n",
      "  f\"The log with transaction hash: {log['transactionHash']} and \"\n",
      "/home/simone/.local/opt/miniconda3/envs/blockchain/lib/python3.7/site-packages/web3/contract.py:1154: UserWarning: The log with transaction hash: b'+4e\\xc0\\xb8\\x19\\x99_\\xe7*\\xff\\xd6G\\xc1g\\x1f\\x10\\x17Zk\\xf8/\\xc0\\xab\\xdepF\\xfar\\x05ZF' and logIndex: 16 encountered the following error during processing: MismatchedABI(The event signature did not match the provided ABI). It has been discarded.\n",
      "  f\"The log with transaction hash: {log['transactionHash']} and \"\n",
      "/home/simone/.local/opt/miniconda3/envs/blockchain/lib/python3.7/site-packages/web3/contract.py:1154: UserWarning: The log with transaction hash: b'+4e\\xc0\\xb8\\x19\\x99_\\xe7*\\xff\\xd6G\\xc1g\\x1f\\x10\\x17Zk\\xf8/\\xc0\\xab\\xdepF\\xfar\\x05ZF' and logIndex: 17 encountered the following error during processing: MismatchedABI(The event signature did not match the provided ABI). It has been discarded.\n",
      "  f\"The log with transaction hash: {log['transactionHash']} and \"\n",
      "/home/simone/.local/opt/miniconda3/envs/blockchain/lib/python3.7/site-packages/web3/contract.py:1154: UserWarning: The log with transaction hash: b'\\xab}>e\\x14\\xf9yY\\x93d\\xf7\\xa8\\x81Q\\xcduH\\xc1\\xf6\\xe4\\x90\\xa2\\xb5\\xb6$\\x8ax\\xcf(>8\\n' and logIndex: 22 encountered the following error during processing: MismatchedABI(The event signature did not match the provided ABI). It has been discarded.\n",
      "  f\"The log with transaction hash: {log['transactionHash']} and \"\n",
      "/home/simone/.local/opt/miniconda3/envs/blockchain/lib/python3.7/site-packages/web3/contract.py:1154: UserWarning: The log with transaction hash: b'\\xab}>e\\x14\\xf9yY\\x93d\\xf7\\xa8\\x81Q\\xcduH\\xc1\\xf6\\xe4\\x90\\xa2\\xb5\\xb6$\\x8ax\\xcf(>8\\n' and logIndex: 23 encountered the following error during processing: MismatchedABI(The event signature did not match the provided ABI). It has been discarded.\n",
      "  f\"The log with transaction hash: {log['transactionHash']} and \"\n",
      "/home/simone/.local/opt/miniconda3/envs/blockchain/lib/python3.7/site-packages/web3/contract.py:1154: UserWarning: The log with transaction hash: b'\\xab}>e\\x14\\xf9yY\\x93d\\xf7\\xa8\\x81Q\\xcduH\\xc1\\xf6\\xe4\\x90\\xa2\\xb5\\xb6$\\x8ax\\xcf(>8\\n' and logIndex: 24 encountered the following error during processing: MismatchedABI(The event signature did not match the provided ABI). It has been discarded.\n",
      "  f\"The log with transaction hash: {log['transactionHash']} and \"\n"
     ]
    },
    {
     "name": "stderr",
     "output_type": "stream",
     "text": [
      "/home/simone/.local/opt/miniconda3/envs/blockchain/lib/python3.7/site-packages/web3/contract.py:1154: UserWarning: The log with transaction hash: b'\\xc9\\x0c\\xacuzp\\x14\\x92\\x00uv\\x8a:\\xfc-\\xca\\xc4\\xbe\\xabE\\xd8\\xef5\\xc9\\xde\\xf76\\xbc\\xea\\t\\x05\\xeb' and logIndex: 33 encountered the following error during processing: MismatchedABI(The event signature did not match the provided ABI). It has been discarded.\n",
      "  f\"The log with transaction hash: {log['transactionHash']} and \"\n",
      "/home/simone/.local/opt/miniconda3/envs/blockchain/lib/python3.7/site-packages/web3/contract.py:1154: UserWarning: The log with transaction hash: b'\\xc9\\x0c\\xacuzp\\x14\\x92\\x00uv\\x8a:\\xfc-\\xca\\xc4\\xbe\\xabE\\xd8\\xef5\\xc9\\xde\\xf76\\xbc\\xea\\t\\x05\\xeb' and logIndex: 34 encountered the following error during processing: MismatchedABI(The event signature did not match the provided ABI). It has been discarded.\n",
      "  f\"The log with transaction hash: {log['transactionHash']} and \"\n",
      "/home/simone/.local/opt/miniconda3/envs/blockchain/lib/python3.7/site-packages/web3/contract.py:1154: UserWarning: The log with transaction hash: b'\\xc9\\x0c\\xacuzp\\x14\\x92\\x00uv\\x8a:\\xfc-\\xca\\xc4\\xbe\\xabE\\xd8\\xef5\\xc9\\xde\\xf76\\xbc\\xea\\t\\x05\\xeb' and logIndex: 35 encountered the following error during processing: MismatchedABI(The event signature did not match the provided ABI). It has been discarded.\n",
      "  f\"The log with transaction hash: {log['transactionHash']} and \"\n",
      "/home/simone/.local/opt/miniconda3/envs/blockchain/lib/python3.7/site-packages/web3/contract.py:1154: UserWarning: The log with transaction hash: b'\\x9f\\xcaGa]\\xe8\\x07#\\xfe\\n\\x0b\\x04o\\xe8\\x92\\xba_\\x06[\\x9b\\xb6\\xd5\\xfb\\x98j\\x08\\xbb\\xf2\\xe2\\xab\\xc6m' and logIndex: 0 encountered the following error during processing: MismatchedABI(The event signature did not match the provided ABI). It has been discarded.\n",
      "  f\"The log with transaction hash: {log['transactionHash']} and \"\n",
      "/home/simone/.local/opt/miniconda3/envs/blockchain/lib/python3.7/site-packages/web3/contract.py:1154: UserWarning: The log with transaction hash: b'\\x9f\\xcaGa]\\xe8\\x07#\\xfe\\n\\x0b\\x04o\\xe8\\x92\\xba_\\x06[\\x9b\\xb6\\xd5\\xfb\\x98j\\x08\\xbb\\xf2\\xe2\\xab\\xc6m' and logIndex: 1 encountered the following error during processing: MismatchedABI(The event signature did not match the provided ABI). It has been discarded.\n",
      "  f\"The log with transaction hash: {log['transactionHash']} and \"\n",
      "/home/simone/.local/opt/miniconda3/envs/blockchain/lib/python3.7/site-packages/web3/contract.py:1154: UserWarning: The log with transaction hash: b'\\x9f\\xcaGa]\\xe8\\x07#\\xfe\\n\\x0b\\x04o\\xe8\\x92\\xba_\\x06[\\x9b\\xb6\\xd5\\xfb\\x98j\\x08\\xbb\\xf2\\xe2\\xab\\xc6m' and logIndex: 2 encountered the following error during processing: MismatchedABI(The event signature did not match the provided ABI). It has been discarded.\n",
      "  f\"The log with transaction hash: {log['transactionHash']} and \"\n",
      "/home/simone/.local/opt/miniconda3/envs/blockchain/lib/python3.7/site-packages/web3/contract.py:1154: UserWarning: The log with transaction hash: b'4;\\x11\\x06a\\xd4<+\\x0bF\\xe1\\x83\\xa0E\\xb3\\xe4*\\xc1\\r\\x1d\\x86\\xaa\\xce\\xdad\\xad+\\x03R\\xff\\xa7=' and logIndex: 13 encountered the following error during processing: MismatchedABI(The event signature did not match the provided ABI). It has been discarded.\n",
      "  f\"The log with transaction hash: {log['transactionHash']} and \"\n",
      "/home/simone/.local/opt/miniconda3/envs/blockchain/lib/python3.7/site-packages/web3/contract.py:1154: UserWarning: The log with transaction hash: b'4;\\x11\\x06a\\xd4<+\\x0bF\\xe1\\x83\\xa0E\\xb3\\xe4*\\xc1\\r\\x1d\\x86\\xaa\\xce\\xdad\\xad+\\x03R\\xff\\xa7=' and logIndex: 14 encountered the following error during processing: MismatchedABI(The event signature did not match the provided ABI). It has been discarded.\n",
      "  f\"The log with transaction hash: {log['transactionHash']} and \"\n",
      "/home/simone/.local/opt/miniconda3/envs/blockchain/lib/python3.7/site-packages/web3/contract.py:1154: UserWarning: The log with transaction hash: b'4;\\x11\\x06a\\xd4<+\\x0bF\\xe1\\x83\\xa0E\\xb3\\xe4*\\xc1\\r\\x1d\\x86\\xaa\\xce\\xdad\\xad+\\x03R\\xff\\xa7=' and logIndex: 15 encountered the following error during processing: MismatchedABI(The event signature did not match the provided ABI). It has been discarded.\n",
      "  f\"The log with transaction hash: {log['transactionHash']} and \"\n",
      "/home/simone/.local/opt/miniconda3/envs/blockchain/lib/python3.7/site-packages/web3/contract.py:1154: UserWarning: The log with transaction hash: b'%\\xc2\\x9b\\xac\"\\x92\\'\\xb5\\xebU_w\\xbc\\xbe,\\x9a]\\xbd:C\\xc5gy\\xdfF\\xf3-\\xba\\x18\\x9f\\x93t' and logIndex: 7 encountered the following error during processing: MismatchedABI(The event signature did not match the provided ABI). It has been discarded.\n",
      "  f\"The log with transaction hash: {log['transactionHash']} and \"\n",
      "/home/simone/.local/opt/miniconda3/envs/blockchain/lib/python3.7/site-packages/web3/contract.py:1154: UserWarning: The log with transaction hash: b'%\\xc2\\x9b\\xac\"\\x92\\'\\xb5\\xebU_w\\xbc\\xbe,\\x9a]\\xbd:C\\xc5gy\\xdfF\\xf3-\\xba\\x18\\x9f\\x93t' and logIndex: 8 encountered the following error during processing: MismatchedABI(The event signature did not match the provided ABI). It has been discarded.\n",
      "  f\"The log with transaction hash: {log['transactionHash']} and \"\n",
      "/home/simone/.local/opt/miniconda3/envs/blockchain/lib/python3.7/site-packages/web3/contract.py:1154: UserWarning: The log with transaction hash: b'%\\xc2\\x9b\\xac\"\\x92\\'\\xb5\\xebU_w\\xbc\\xbe,\\x9a]\\xbd:C\\xc5gy\\xdfF\\xf3-\\xba\\x18\\x9f\\x93t' and logIndex: 9 encountered the following error during processing: MismatchedABI(The event signature did not match the provided ABI). It has been discarded.\n",
      "  f\"The log with transaction hash: {log['transactionHash']} and \"\n",
      "/home/simone/.local/opt/miniconda3/envs/blockchain/lib/python3.7/site-packages/web3/contract.py:1154: UserWarning: The log with transaction hash: b'\\x99:}\\xd5\\xc3\\x1b\\x93\\x0cz\\x91j\\xf1\\x87\\xa0\\xfe\\xd2\\xdf\\xceS\\x01\\xe6\\xbe\\x8d0\\x17\\xa2\\xf9\\xb9\\x07Ww\\\\' and logIndex: 0 encountered the following error during processing: MismatchedABI(The event signature did not match the provided ABI). It has been discarded.\n",
      "  f\"The log with transaction hash: {log['transactionHash']} and \"\n",
      "/home/simone/.local/opt/miniconda3/envs/blockchain/lib/python3.7/site-packages/web3/contract.py:1154: UserWarning: The log with transaction hash: b'\\x99:}\\xd5\\xc3\\x1b\\x93\\x0cz\\x91j\\xf1\\x87\\xa0\\xfe\\xd2\\xdf\\xceS\\x01\\xe6\\xbe\\x8d0\\x17\\xa2\\xf9\\xb9\\x07Ww\\\\' and logIndex: 1 encountered the following error during processing: MismatchedABI(The event signature did not match the provided ABI). It has been discarded.\n",
      "  f\"The log with transaction hash: {log['transactionHash']} and \"\n",
      "/home/simone/.local/opt/miniconda3/envs/blockchain/lib/python3.7/site-packages/web3/contract.py:1154: UserWarning: The log with transaction hash: b'\\x99:}\\xd5\\xc3\\x1b\\x93\\x0cz\\x91j\\xf1\\x87\\xa0\\xfe\\xd2\\xdf\\xceS\\x01\\xe6\\xbe\\x8d0\\x17\\xa2\\xf9\\xb9\\x07Ww\\\\' and logIndex: 2 encountered the following error during processing: MismatchedABI(The event signature did not match the provided ABI). It has been discarded.\n",
      "  f\"The log with transaction hash: {log['transactionHash']} and \"\n",
      "/home/simone/.local/opt/miniconda3/envs/blockchain/lib/python3.7/site-packages/web3/contract.py:1154: UserWarning: The log with transaction hash: b'9!e\\x7f\\x90\\xedK\\x83pJ\\xc3\\xf6Mt\\xaf\\xdd\\xd3\\xd1\\xcan\\xde\\x18[\\xd3Z\\\\d\\xf5\\xf6\\x97\\xf8h' and logIndex: 0 encountered the following error during processing: MismatchedABI(The event signature did not match the provided ABI). It has been discarded.\n",
      "  f\"The log with transaction hash: {log['transactionHash']} and \"\n",
      "/home/simone/.local/opt/miniconda3/envs/blockchain/lib/python3.7/site-packages/web3/contract.py:1154: UserWarning: The log with transaction hash: b'9!e\\x7f\\x90\\xedK\\x83pJ\\xc3\\xf6Mt\\xaf\\xdd\\xd3\\xd1\\xcan\\xde\\x18[\\xd3Z\\\\d\\xf5\\xf6\\x97\\xf8h' and logIndex: 1 encountered the following error during processing: MismatchedABI(The event signature did not match the provided ABI). It has been discarded.\n",
      "  f\"The log with transaction hash: {log['transactionHash']} and \"\n",
      "/home/simone/.local/opt/miniconda3/envs/blockchain/lib/python3.7/site-packages/web3/contract.py:1154: UserWarning: The log with transaction hash: b'9!e\\x7f\\x90\\xedK\\x83pJ\\xc3\\xf6Mt\\xaf\\xdd\\xd3\\xd1\\xcan\\xde\\x18[\\xd3Z\\\\d\\xf5\\xf6\\x97\\xf8h' and logIndex: 2 encountered the following error during processing: MismatchedABI(The event signature did not match the provided ABI). It has been discarded.\n",
      "  f\"The log with transaction hash: {log['transactionHash']} and \"\n"
     ]
    },
    {
     "name": "stderr",
     "output_type": "stream",
     "text": [
      "/home/simone/.local/opt/miniconda3/envs/blockchain/lib/python3.7/site-packages/web3/contract.py:1154: UserWarning: The log with transaction hash: b'\\x8f\\x93\"\\x06\\t\\xabV!?)\\xa5\\x94a)\\x1f+\\x00\\xf1*,\\x83\\nG\\n\\xc2\\xf8%(\\xdd\\x8a\\xd4\\xe7' and logIndex: 0 encountered the following error during processing: MismatchedABI(The event signature did not match the provided ABI). It has been discarded.\n",
      "  f\"The log with transaction hash: {log['transactionHash']} and \"\n",
      "/home/simone/.local/opt/miniconda3/envs/blockchain/lib/python3.7/site-packages/web3/contract.py:1154: UserWarning: The log with transaction hash: b'\\x8f\\x93\"\\x06\\t\\xabV!?)\\xa5\\x94a)\\x1f+\\x00\\xf1*,\\x83\\nG\\n\\xc2\\xf8%(\\xdd\\x8a\\xd4\\xe7' and logIndex: 1 encountered the following error during processing: MismatchedABI(The event signature did not match the provided ABI). It has been discarded.\n",
      "  f\"The log with transaction hash: {log['transactionHash']} and \"\n",
      "/home/simone/.local/opt/miniconda3/envs/blockchain/lib/python3.7/site-packages/web3/contract.py:1154: UserWarning: The log with transaction hash: b'\\x8f\\x93\"\\x06\\t\\xabV!?)\\xa5\\x94a)\\x1f+\\x00\\xf1*,\\x83\\nG\\n\\xc2\\xf8%(\\xdd\\x8a\\xd4\\xe7' and logIndex: 2 encountered the following error during processing: MismatchedABI(The event signature did not match the provided ABI). It has been discarded.\n",
      "  f\"The log with transaction hash: {log['transactionHash']} and \"\n",
      "/home/simone/.local/opt/miniconda3/envs/blockchain/lib/python3.7/site-packages/web3/contract.py:1154: UserWarning: The log with transaction hash: b'A\\xf5S\\xd7\\xea\\xd4\\xeb\\xaf+\\xab\\xe5ft\\xd5\\xe8Qc\\xe0\\xfd\\x0c\\xd5\\x0b\\x9f\\x1b\\xab\\x99\\x19r\\xc0\\x19\\xd7\\xff' and logIndex: 0 encountered the following error during processing: MismatchedABI(The event signature did not match the provided ABI). It has been discarded.\n",
      "  f\"The log with transaction hash: {log['transactionHash']} and \"\n",
      "/home/simone/.local/opt/miniconda3/envs/blockchain/lib/python3.7/site-packages/web3/contract.py:1154: UserWarning: The log with transaction hash: b'A\\xf5S\\xd7\\xea\\xd4\\xeb\\xaf+\\xab\\xe5ft\\xd5\\xe8Qc\\xe0\\xfd\\x0c\\xd5\\x0b\\x9f\\x1b\\xab\\x99\\x19r\\xc0\\x19\\xd7\\xff' and logIndex: 1 encountered the following error during processing: MismatchedABI(The event signature did not match the provided ABI). It has been discarded.\n",
      "  f\"The log with transaction hash: {log['transactionHash']} and \"\n",
      "/home/simone/.local/opt/miniconda3/envs/blockchain/lib/python3.7/site-packages/web3/contract.py:1154: UserWarning: The log with transaction hash: b'A\\xf5S\\xd7\\xea\\xd4\\xeb\\xaf+\\xab\\xe5ft\\xd5\\xe8Qc\\xe0\\xfd\\x0c\\xd5\\x0b\\x9f\\x1b\\xab\\x99\\x19r\\xc0\\x19\\xd7\\xff' and logIndex: 2 encountered the following error during processing: MismatchedABI(The event signature did not match the provided ABI). It has been discarded.\n",
      "  f\"The log with transaction hash: {log['transactionHash']} and \"\n",
      "/home/simone/.local/opt/miniconda3/envs/blockchain/lib/python3.7/site-packages/web3/contract.py:1154: UserWarning: The log with transaction hash: b'FZ\\xb3o\\xd2W\\x81f\\xd6C11t\\xf9a7e`r\\xca\\xddB1I\\xe9x\\x0f(\\\\L\\x1fa' and logIndex: 0 encountered the following error during processing: MismatchedABI(The event signature did not match the provided ABI). It has been discarded.\n",
      "  f\"The log with transaction hash: {log['transactionHash']} and \"\n",
      "/home/simone/.local/opt/miniconda3/envs/blockchain/lib/python3.7/site-packages/web3/contract.py:1154: UserWarning: The log with transaction hash: b'FZ\\xb3o\\xd2W\\x81f\\xd6C11t\\xf9a7e`r\\xca\\xddB1I\\xe9x\\x0f(\\\\L\\x1fa' and logIndex: 1 encountered the following error during processing: MismatchedABI(The event signature did not match the provided ABI). It has been discarded.\n",
      "  f\"The log with transaction hash: {log['transactionHash']} and \"\n",
      "/home/simone/.local/opt/miniconda3/envs/blockchain/lib/python3.7/site-packages/web3/contract.py:1154: UserWarning: The log with transaction hash: b'FZ\\xb3o\\xd2W\\x81f\\xd6C11t\\xf9a7e`r\\xca\\xddB1I\\xe9x\\x0f(\\\\L\\x1fa' and logIndex: 2 encountered the following error during processing: MismatchedABI(The event signature did not match the provided ABI). It has been discarded.\n",
      "  f\"The log with transaction hash: {log['transactionHash']} and \"\n",
      "/home/simone/.local/opt/miniconda3/envs/blockchain/lib/python3.7/site-packages/web3/contract.py:1154: UserWarning: The log with transaction hash: b'\\x86 \\xb1\\x0b\\x8cQ\\x10\\xae\\x8a\\x96\\xfe\\xa0\\xc3\\x83@)\\xc6\\x0b\\xf9\\x8bZ\\xd1 PG\\xf4\\x89\\xc0\\x82g\\xf9\\xd7' and logIndex: 1 encountered the following error during processing: MismatchedABI(The event signature did not match the provided ABI). It has been discarded.\n",
      "  f\"The log with transaction hash: {log['transactionHash']} and \"\n",
      "/home/simone/.local/opt/miniconda3/envs/blockchain/lib/python3.7/site-packages/web3/contract.py:1154: UserWarning: The log with transaction hash: b'\\x86 \\xb1\\x0b\\x8cQ\\x10\\xae\\x8a\\x96\\xfe\\xa0\\xc3\\x83@)\\xc6\\x0b\\xf9\\x8bZ\\xd1 PG\\xf4\\x89\\xc0\\x82g\\xf9\\xd7' and logIndex: 2 encountered the following error during processing: MismatchedABI(The event signature did not match the provided ABI). It has been discarded.\n",
      "  f\"The log with transaction hash: {log['transactionHash']} and \"\n",
      "/home/simone/.local/opt/miniconda3/envs/blockchain/lib/python3.7/site-packages/web3/contract.py:1154: UserWarning: The log with transaction hash: b'\\x86 \\xb1\\x0b\\x8cQ\\x10\\xae\\x8a\\x96\\xfe\\xa0\\xc3\\x83@)\\xc6\\x0b\\xf9\\x8bZ\\xd1 PG\\xf4\\x89\\xc0\\x82g\\xf9\\xd7' and logIndex: 3 encountered the following error during processing: MismatchedABI(The event signature did not match the provided ABI). It has been discarded.\n",
      "  f\"The log with transaction hash: {log['transactionHash']} and \"\n",
      "/home/simone/.local/opt/miniconda3/envs/blockchain/lib/python3.7/site-packages/web3/contract.py:1154: UserWarning: The log with transaction hash: b'\\x1eb\\xa5\\xa9Ys9\\xbb4\\xde/\\xe8\\xdc\\x95\\x0e\\x86Y4h\\xdeI\\xf9\\xd1\\x7fs\\x1e\\xba`\\x95\\x9f<\\xc9' and logIndex: 1 encountered the following error during processing: MismatchedABI(The event signature did not match the provided ABI). It has been discarded.\n",
      "  f\"The log with transaction hash: {log['transactionHash']} and \"\n",
      "/home/simone/.local/opt/miniconda3/envs/blockchain/lib/python3.7/site-packages/web3/contract.py:1154: UserWarning: The log with transaction hash: b'\\x1eb\\xa5\\xa9Ys9\\xbb4\\xde/\\xe8\\xdc\\x95\\x0e\\x86Y4h\\xdeI\\xf9\\xd1\\x7fs\\x1e\\xba`\\x95\\x9f<\\xc9' and logIndex: 2 encountered the following error during processing: MismatchedABI(The event signature did not match the provided ABI). It has been discarded.\n",
      "  f\"The log with transaction hash: {log['transactionHash']} and \"\n",
      "/home/simone/.local/opt/miniconda3/envs/blockchain/lib/python3.7/site-packages/web3/contract.py:1154: UserWarning: The log with transaction hash: b'\\x1eb\\xa5\\xa9Ys9\\xbb4\\xde/\\xe8\\xdc\\x95\\x0e\\x86Y4h\\xdeI\\xf9\\xd1\\x7fs\\x1e\\xba`\\x95\\x9f<\\xc9' and logIndex: 3 encountered the following error during processing: MismatchedABI(The event signature did not match the provided ABI). It has been discarded.\n",
      "  f\"The log with transaction hash: {log['transactionHash']} and \"\n",
      "/home/simone/.local/opt/miniconda3/envs/blockchain/lib/python3.7/site-packages/web3/contract.py:1154: UserWarning: The log with transaction hash: b\"o#\\n\\xdd\\xdb\\xf1\\xd0\\xbcF\\x81\\x9a\\xc2\\\\\\x9d#\\xae|\\xd0\\x14\\xfa'\\xb7\\x9b>~@W<\\xf5.\\x17d\" and logIndex: 1 encountered the following error during processing: MismatchedABI(The event signature did not match the provided ABI). It has been discarded.\n",
      "  f\"The log with transaction hash: {log['transactionHash']} and \"\n",
      "/home/simone/.local/opt/miniconda3/envs/blockchain/lib/python3.7/site-packages/web3/contract.py:1154: UserWarning: The log with transaction hash: b\"o#\\n\\xdd\\xdb\\xf1\\xd0\\xbcF\\x81\\x9a\\xc2\\\\\\x9d#\\xae|\\xd0\\x14\\xfa'\\xb7\\x9b>~@W<\\xf5.\\x17d\" and logIndex: 2 encountered the following error during processing: MismatchedABI(The event signature did not match the provided ABI). It has been discarded.\n",
      "  f\"The log with transaction hash: {log['transactionHash']} and \"\n",
      "/home/simone/.local/opt/miniconda3/envs/blockchain/lib/python3.7/site-packages/web3/contract.py:1154: UserWarning: The log with transaction hash: b\"o#\\n\\xdd\\xdb\\xf1\\xd0\\xbcF\\x81\\x9a\\xc2\\\\\\x9d#\\xae|\\xd0\\x14\\xfa'\\xb7\\x9b>~@W<\\xf5.\\x17d\" and logIndex: 3 encountered the following error during processing: MismatchedABI(The event signature did not match the provided ABI). It has been discarded.\n",
      "  f\"The log with transaction hash: {log['transactionHash']} and \"\n"
     ]
    },
    {
     "name": "stderr",
     "output_type": "stream",
     "text": [
      "/home/simone/.local/opt/miniconda3/envs/blockchain/lib/python3.7/site-packages/web3/contract.py:1154: UserWarning: The log with transaction hash: b'0Z\\x88@\\xb8\\xf2\\t\\x02\\x85\\x86c\\xbd\\x93\\x17\\x0e\\x95T\\xeb\\xd2\\xdc\\x86\\xed\\xffb\\x97\\xb0\\x1cO\\xf4\\xbe\\x7f^' and logIndex: 0 encountered the following error during processing: MismatchedABI(The event signature did not match the provided ABI). It has been discarded.\n",
      "  f\"The log with transaction hash: {log['transactionHash']} and \"\n",
      "/home/simone/.local/opt/miniconda3/envs/blockchain/lib/python3.7/site-packages/web3/contract.py:1154: UserWarning: The log with transaction hash: b'0Z\\x88@\\xb8\\xf2\\t\\x02\\x85\\x86c\\xbd\\x93\\x17\\x0e\\x95T\\xeb\\xd2\\xdc\\x86\\xed\\xffb\\x97\\xb0\\x1cO\\xf4\\xbe\\x7f^' and logIndex: 1 encountered the following error during processing: MismatchedABI(The event signature did not match the provided ABI). It has been discarded.\n",
      "  f\"The log with transaction hash: {log['transactionHash']} and \"\n",
      "/home/simone/.local/opt/miniconda3/envs/blockchain/lib/python3.7/site-packages/web3/contract.py:1154: UserWarning: The log with transaction hash: b'0Z\\x88@\\xb8\\xf2\\t\\x02\\x85\\x86c\\xbd\\x93\\x17\\x0e\\x95T\\xeb\\xd2\\xdc\\x86\\xed\\xffb\\x97\\xb0\\x1cO\\xf4\\xbe\\x7f^' and logIndex: 2 encountered the following error during processing: MismatchedABI(The event signature did not match the provided ABI). It has been discarded.\n",
      "  f\"The log with transaction hash: {log['transactionHash']} and \"\n",
      "/home/simone/.local/opt/miniconda3/envs/blockchain/lib/python3.7/site-packages/web3/contract.py:1154: UserWarning: The log with transaction hash: b'\\xf8\\xff\\xacY\\xd11a\\x01Nj\\x90w!\\xbe-\\x8cS\\xcb]\\xd8\\xcb\\x8fvb\\xf2\\xd7\\x15\\x80y\\x89\\x8a\\xe4' and logIndex: 1 encountered the following error during processing: MismatchedABI(The event signature did not match the provided ABI). It has been discarded.\n",
      "  f\"The log with transaction hash: {log['transactionHash']} and \"\n",
      "/home/simone/.local/opt/miniconda3/envs/blockchain/lib/python3.7/site-packages/web3/contract.py:1154: UserWarning: The log with transaction hash: b'\\xf8\\xff\\xacY\\xd11a\\x01Nj\\x90w!\\xbe-\\x8cS\\xcb]\\xd8\\xcb\\x8fvb\\xf2\\xd7\\x15\\x80y\\x89\\x8a\\xe4' and logIndex: 2 encountered the following error during processing: MismatchedABI(The event signature did not match the provided ABI). It has been discarded.\n",
      "  f\"The log with transaction hash: {log['transactionHash']} and \"\n",
      "/home/simone/.local/opt/miniconda3/envs/blockchain/lib/python3.7/site-packages/web3/contract.py:1154: UserWarning: The log with transaction hash: b'\\xf8\\xff\\xacY\\xd11a\\x01Nj\\x90w!\\xbe-\\x8cS\\xcb]\\xd8\\xcb\\x8fvb\\xf2\\xd7\\x15\\x80y\\x89\\x8a\\xe4' and logIndex: 3 encountered the following error during processing: MismatchedABI(The event signature did not match the provided ABI). It has been discarded.\n",
      "  f\"The log with transaction hash: {log['transactionHash']} and \"\n",
      "/home/simone/.local/opt/miniconda3/envs/blockchain/lib/python3.7/site-packages/web3/contract.py:1154: UserWarning: The log with transaction hash: b'\\xeb\\xe0n\\xf5}\\xbfx\\xbe\\xb53E\\x16?p\\xf4\\x0c\\xb3\\xf72\\xb5!\\xfc\\x9d\\x16\\x00\\x08Bi\\x1a\\x98D\\x96' and logIndex: 0 encountered the following error during processing: MismatchedABI(The event signature did not match the provided ABI). It has been discarded.\n",
      "  f\"The log with transaction hash: {log['transactionHash']} and \"\n",
      "/home/simone/.local/opt/miniconda3/envs/blockchain/lib/python3.7/site-packages/web3/contract.py:1154: UserWarning: The log with transaction hash: b'\\xeb\\xe0n\\xf5}\\xbfx\\xbe\\xb53E\\x16?p\\xf4\\x0c\\xb3\\xf72\\xb5!\\xfc\\x9d\\x16\\x00\\x08Bi\\x1a\\x98D\\x96' and logIndex: 1 encountered the following error during processing: MismatchedABI(The event signature did not match the provided ABI). It has been discarded.\n",
      "  f\"The log with transaction hash: {log['transactionHash']} and \"\n",
      "/home/simone/.local/opt/miniconda3/envs/blockchain/lib/python3.7/site-packages/web3/contract.py:1154: UserWarning: The log with transaction hash: b'\\xeb\\xe0n\\xf5}\\xbfx\\xbe\\xb53E\\x16?p\\xf4\\x0c\\xb3\\xf72\\xb5!\\xfc\\x9d\\x16\\x00\\x08Bi\\x1a\\x98D\\x96' and logIndex: 2 encountered the following error during processing: MismatchedABI(The event signature did not match the provided ABI). It has been discarded.\n",
      "  f\"The log with transaction hash: {log['transactionHash']} and \"\n"
     ]
    }
   ],
   "source": [
    "teamWins_CST_logs = [] \n",
    "for event_data in all_teamWins_CST: \n",
    "        #print(event_data)\n",
    "        tx_hash = event_data['transactionHash'].hex()\n",
    "        receipt = web3.eth.getTransactionReceipt(tx_hash)\n",
    "        #events = ['Buy', 'Sell']\n",
    "        teamWins_CST_logs.append(web3_challenge_CST.events.TeamChallengeWon().processReceipt(receipt))"
   ]
  },
  {
   "cell_type": "code",
   "execution_count": 14,
   "metadata": {},
   "outputs": [],
   "source": [
    "FSS_teamWins_CST = []\n",
    "for i in range(0, len(teamWins_CST_logs)): \n",
    "    if(teamWins_CST_logs[i][0]['args']['winner'] == '0x27C404d4D91156F7063E8dB9cC10970cfffF9a6C'): \n",
    "        FSS_teamWins_CST.append(teamWins_CST_logs[i][0])"
   ]
  },
  {
   "cell_type": "code",
   "execution_count": 15,
   "metadata": {},
   "outputs": [
    {
     "data": {
      "text/plain": [
       "[AttributeDict({'args': AttributeDict({'winner': '0x27C404d4D91156F7063E8dB9cC10970cfffF9a6C',\n",
       "   'flag': 95585,\n",
       "   'amount': 1000000000000000000000}),\n",
       "  'event': 'TeamChallengeWon',\n",
       "  'logIndex': 3,\n",
       "  'transactionIndex': 0,\n",
       "  'transactionHash': HexBytes('0x3921657f90ed4b83704ac3f64d74afddd3d1ca6ede185bd35a5c64f5f697f868'),\n",
       "  'address': '0x0b6019c547Ba293eBD74991217354b1281209985',\n",
       "  'blockHash': HexBytes('0x4eeea172d0829da72becd1c8c5ff4de23c5b09e56701d0430c73a7cbfaff2245'),\n",
       "  'blockNumber': 8166855})]"
      ]
     },
     "execution_count": 15,
     "metadata": {},
     "output_type": "execute_result"
    }
   ],
   "source": [
    "FSS_teamWins_CST"
   ]
  },
  {
   "cell_type": "code",
   "execution_count": 47,
   "metadata": {},
   "outputs": [
    {
     "name": "stdout",
     "output_type": "stream",
     "text": [
      "1593092127 2020-06-25 15:35:27\n"
     ]
    }
   ],
   "source": [
    "timestamp = web3.eth.getBlock(8166855)['timestamp']\n",
    "date = datetime.datetime.fromtimestamp(timestamp)\n",
    "print(timestamp, date)"
   ]
  },
  {
   "cell_type": "code",
   "execution_count": 17,
   "metadata": {},
   "outputs": [],
   "source": [
    "all_directWins_AA = web3.eth.getLogs({'fromBlock': 0, 'toBlock': 'latest', 'address': challenge_AA.address, 'topics': [directWon_sign]})\n",
    "all_teamWins_AA = web3.eth.getLogs({'fromBlock': 0, 'toBlock': 'latest', 'address': challenge_AA.address, 'topics': [teamWon_sign]})"
   ]
  },
  {
   "cell_type": "code",
   "execution_count": 18,
   "metadata": {
    "collapsed": true
   },
   "outputs": [
    {
     "name": "stderr",
     "output_type": "stream",
     "text": [
      "/home/simone/.local/opt/miniconda3/envs/blockchain/lib/python3.7/site-packages/web3/contract.py:1154: UserWarning: The log with transaction hash: b'N\\x8d!\\xd8b\\x1dmV\\xe9\\x1bf\\xe3\\rZ\\xf2d\\xe7{\\re\\xb8-6k\\xaa\\xdb\\xe7\\x1bw\\xd6p\\x81' and logIndex: 0 encountered the following error during processing: MismatchedABI(The event signature did not match the provided ABI). It has been discarded.\n",
      "  f\"The log with transaction hash: {log['transactionHash']} and \"\n",
      "/home/simone/.local/opt/miniconda3/envs/blockchain/lib/python3.7/site-packages/web3/contract.py:1154: UserWarning: The log with transaction hash: b'N\\x8d!\\xd8b\\x1dmV\\xe9\\x1bf\\xe3\\rZ\\xf2d\\xe7{\\re\\xb8-6k\\xaa\\xdb\\xe7\\x1bw\\xd6p\\x81' and logIndex: 1 encountered the following error during processing: MismatchedABI(The event signature did not match the provided ABI). It has been discarded.\n",
      "  f\"The log with transaction hash: {log['transactionHash']} and \"\n",
      "/home/simone/.local/opt/miniconda3/envs/blockchain/lib/python3.7/site-packages/web3/contract.py:1154: UserWarning: The log with transaction hash: b'N\\x8d!\\xd8b\\x1dmV\\xe9\\x1bf\\xe3\\rZ\\xf2d\\xe7{\\re\\xb8-6k\\xaa\\xdb\\xe7\\x1bw\\xd6p\\x81' and logIndex: 2 encountered the following error during processing: MismatchedABI(The event signature did not match the provided ABI). It has been discarded.\n",
      "  f\"The log with transaction hash: {log['transactionHash']} and \"\n",
      "/home/simone/.local/opt/miniconda3/envs/blockchain/lib/python3.7/site-packages/web3/contract.py:1154: UserWarning: The log with transaction hash: b'[\\x89\\xb9\\x7f\\x95\\x00bH\\x1f\\x9e\\xe5\\xe3\\n\\xdf\\x8c\\x1f(&I\\xa3\\xff\\x0cj\\xe5\\xb1[n\\xc7[8\\xf5\\xcb' and logIndex: 4 encountered the following error during processing: MismatchedABI(The event signature did not match the provided ABI). It has been discarded.\n",
      "  f\"The log with transaction hash: {log['transactionHash']} and \"\n",
      "/home/simone/.local/opt/miniconda3/envs/blockchain/lib/python3.7/site-packages/web3/contract.py:1154: UserWarning: The log with transaction hash: b'[\\x89\\xb9\\x7f\\x95\\x00bH\\x1f\\x9e\\xe5\\xe3\\n\\xdf\\x8c\\x1f(&I\\xa3\\xff\\x0cj\\xe5\\xb1[n\\xc7[8\\xf5\\xcb' and logIndex: 5 encountered the following error during processing: MismatchedABI(The event signature did not match the provided ABI). It has been discarded.\n",
      "  f\"The log with transaction hash: {log['transactionHash']} and \"\n",
      "/home/simone/.local/opt/miniconda3/envs/blockchain/lib/python3.7/site-packages/web3/contract.py:1154: UserWarning: The log with transaction hash: b'[\\x89\\xb9\\x7f\\x95\\x00bH\\x1f\\x9e\\xe5\\xe3\\n\\xdf\\x8c\\x1f(&I\\xa3\\xff\\x0cj\\xe5\\xb1[n\\xc7[8\\xf5\\xcb' and logIndex: 6 encountered the following error during processing: MismatchedABI(The event signature did not match the provided ABI). It has been discarded.\n",
      "  f\"The log with transaction hash: {log['transactionHash']} and \"\n",
      "/home/simone/.local/opt/miniconda3/envs/blockchain/lib/python3.7/site-packages/web3/contract.py:1154: UserWarning: The log with transaction hash: b'\\xfc^\\xacx\\xc8\\x8f\\xf6b\\x9fg{\\xe4h\\x0e\\xf4a\\x9d\\x17T >WvJ\\xb5\\xb7*\\x90\\xb6l\\xdd1' and logIndex: 0 encountered the following error during processing: MismatchedABI(The event signature did not match the provided ABI). It has been discarded.\n",
      "  f\"The log with transaction hash: {log['transactionHash']} and \"\n",
      "/home/simone/.local/opt/miniconda3/envs/blockchain/lib/python3.7/site-packages/web3/contract.py:1154: UserWarning: The log with transaction hash: b'\\xfc^\\xacx\\xc8\\x8f\\xf6b\\x9fg{\\xe4h\\x0e\\xf4a\\x9d\\x17T >WvJ\\xb5\\xb7*\\x90\\xb6l\\xdd1' and logIndex: 1 encountered the following error during processing: MismatchedABI(The event signature did not match the provided ABI). It has been discarded.\n",
      "  f\"The log with transaction hash: {log['transactionHash']} and \"\n",
      "/home/simone/.local/opt/miniconda3/envs/blockchain/lib/python3.7/site-packages/web3/contract.py:1154: UserWarning: The log with transaction hash: b'\\xfc^\\xacx\\xc8\\x8f\\xf6b\\x9fg{\\xe4h\\x0e\\xf4a\\x9d\\x17T >WvJ\\xb5\\xb7*\\x90\\xb6l\\xdd1' and logIndex: 2 encountered the following error during processing: MismatchedABI(The event signature did not match the provided ABI). It has been discarded.\n",
      "  f\"The log with transaction hash: {log['transactionHash']} and \"\n",
      "/home/simone/.local/opt/miniconda3/envs/blockchain/lib/python3.7/site-packages/web3/contract.py:1154: UserWarning: The log with transaction hash: b'\\x99\\xac\\xf9\\x8a/i/\\x8ch>\\x9b\\xa6X(\\xb7U\\xc4\\t\\xb7\\xc8\\x9e_q+\\xa4Z\\xbd_\\x9f\\x8c\\xf3\\x99' and logIndex: 0 encountered the following error during processing: MismatchedABI(The event signature did not match the provided ABI). It has been discarded.\n",
      "  f\"The log with transaction hash: {log['transactionHash']} and \"\n",
      "/home/simone/.local/opt/miniconda3/envs/blockchain/lib/python3.7/site-packages/web3/contract.py:1154: UserWarning: The log with transaction hash: b'\\x99\\xac\\xf9\\x8a/i/\\x8ch>\\x9b\\xa6X(\\xb7U\\xc4\\t\\xb7\\xc8\\x9e_q+\\xa4Z\\xbd_\\x9f\\x8c\\xf3\\x99' and logIndex: 1 encountered the following error during processing: MismatchedABI(The event signature did not match the provided ABI). It has been discarded.\n",
      "  f\"The log with transaction hash: {log['transactionHash']} and \"\n",
      "/home/simone/.local/opt/miniconda3/envs/blockchain/lib/python3.7/site-packages/web3/contract.py:1154: UserWarning: The log with transaction hash: b'\\x99\\xac\\xf9\\x8a/i/\\x8ch>\\x9b\\xa6X(\\xb7U\\xc4\\t\\xb7\\xc8\\x9e_q+\\xa4Z\\xbd_\\x9f\\x8c\\xf3\\x99' and logIndex: 2 encountered the following error during processing: MismatchedABI(The event signature did not match the provided ABI). It has been discarded.\n",
      "  f\"The log with transaction hash: {log['transactionHash']} and \"\n",
      "/home/simone/.local/opt/miniconda3/envs/blockchain/lib/python3.7/site-packages/web3/contract.py:1154: UserWarning: The log with transaction hash: b\"o\\x10\\x8a\\x9d\\xc7\\xc1\\xefx\\x116]\\xbe\\xed\\x01\\x17\\n\\x9f'G7\\x925\\xb0\\xa6\\xf9\\xa2\\x04 \\xd0\\xbc&\\xdb\" and logIndex: 0 encountered the following error during processing: MismatchedABI(The event signature did not match the provided ABI). It has been discarded.\n",
      "  f\"The log with transaction hash: {log['transactionHash']} and \"\n",
      "/home/simone/.local/opt/miniconda3/envs/blockchain/lib/python3.7/site-packages/web3/contract.py:1154: UserWarning: The log with transaction hash: b\"o\\x10\\x8a\\x9d\\xc7\\xc1\\xefx\\x116]\\xbe\\xed\\x01\\x17\\n\\x9f'G7\\x925\\xb0\\xa6\\xf9\\xa2\\x04 \\xd0\\xbc&\\xdb\" and logIndex: 1 encountered the following error during processing: MismatchedABI(The event signature did not match the provided ABI). It has been discarded.\n",
      "  f\"The log with transaction hash: {log['transactionHash']} and \"\n",
      "/home/simone/.local/opt/miniconda3/envs/blockchain/lib/python3.7/site-packages/web3/contract.py:1154: UserWarning: The log with transaction hash: b\"o\\x10\\x8a\\x9d\\xc7\\xc1\\xefx\\x116]\\xbe\\xed\\x01\\x17\\n\\x9f'G7\\x925\\xb0\\xa6\\xf9\\xa2\\x04 \\xd0\\xbc&\\xdb\" and logIndex: 2 encountered the following error during processing: MismatchedABI(The event signature did not match the provided ABI). It has been discarded.\n",
      "  f\"The log with transaction hash: {log['transactionHash']} and \"\n",
      "/home/simone/.local/opt/miniconda3/envs/blockchain/lib/python3.7/site-packages/web3/contract.py:1154: UserWarning: The log with transaction hash: b'\\x92\\xc1\\t*\\x1c\\xb0\\xe0\\xf2\\x04\\xd3s`G\\xff\\x0by\\xc6\\xa2\\xaea&\\xe3\\x87\\xe2\\xea\\xbdW\\x9e\\xfb\\xdf/)' and logIndex: 0 encountered the following error during processing: MismatchedABI(The event signature did not match the provided ABI). It has been discarded.\n",
      "  f\"The log with transaction hash: {log['transactionHash']} and \"\n",
      "/home/simone/.local/opt/miniconda3/envs/blockchain/lib/python3.7/site-packages/web3/contract.py:1154: UserWarning: The log with transaction hash: b'\\x92\\xc1\\t*\\x1c\\xb0\\xe0\\xf2\\x04\\xd3s`G\\xff\\x0by\\xc6\\xa2\\xaea&\\xe3\\x87\\xe2\\xea\\xbdW\\x9e\\xfb\\xdf/)' and logIndex: 1 encountered the following error during processing: MismatchedABI(The event signature did not match the provided ABI). It has been discarded.\n",
      "  f\"The log with transaction hash: {log['transactionHash']} and \"\n",
      "/home/simone/.local/opt/miniconda3/envs/blockchain/lib/python3.7/site-packages/web3/contract.py:1154: UserWarning: The log with transaction hash: b'\\x92\\xc1\\t*\\x1c\\xb0\\xe0\\xf2\\x04\\xd3s`G\\xff\\x0by\\xc6\\xa2\\xaea&\\xe3\\x87\\xe2\\xea\\xbdW\\x9e\\xfb\\xdf/)' and logIndex: 2 encountered the following error during processing: MismatchedABI(The event signature did not match the provided ABI). It has been discarded.\n",
      "  f\"The log with transaction hash: {log['transactionHash']} and \"\n"
     ]
    },
    {
     "name": "stderr",
     "output_type": "stream",
     "text": [
      "/home/simone/.local/opt/miniconda3/envs/blockchain/lib/python3.7/site-packages/web3/contract.py:1154: UserWarning: The log with transaction hash: b'[0j\\xfd\\xf5c\\x94\\xca\\xd7\\x93\\xbf\\xb59\\x17\\xcd\\x15Vc\\xdb\\xf8\\xac\\xf2|\\x0f\\x17\\x8c\\xca[\\xe1\\xeczG' and logIndex: 3 encountered the following error during processing: MismatchedABI(The event signature did not match the provided ABI). It has been discarded.\n",
      "  f\"The log with transaction hash: {log['transactionHash']} and \"\n",
      "/home/simone/.local/opt/miniconda3/envs/blockchain/lib/python3.7/site-packages/web3/contract.py:1154: UserWarning: The log with transaction hash: b'[0j\\xfd\\xf5c\\x94\\xca\\xd7\\x93\\xbf\\xb59\\x17\\xcd\\x15Vc\\xdb\\xf8\\xac\\xf2|\\x0f\\x17\\x8c\\xca[\\xe1\\xeczG' and logIndex: 4 encountered the following error during processing: MismatchedABI(The event signature did not match the provided ABI). It has been discarded.\n",
      "  f\"The log with transaction hash: {log['transactionHash']} and \"\n",
      "/home/simone/.local/opt/miniconda3/envs/blockchain/lib/python3.7/site-packages/web3/contract.py:1154: UserWarning: The log with transaction hash: b'[0j\\xfd\\xf5c\\x94\\xca\\xd7\\x93\\xbf\\xb59\\x17\\xcd\\x15Vc\\xdb\\xf8\\xac\\xf2|\\x0f\\x17\\x8c\\xca[\\xe1\\xeczG' and logIndex: 5 encountered the following error during processing: MismatchedABI(The event signature did not match the provided ABI). It has been discarded.\n",
      "  f\"The log with transaction hash: {log['transactionHash']} and \"\n",
      "/home/simone/.local/opt/miniconda3/envs/blockchain/lib/python3.7/site-packages/web3/contract.py:1154: UserWarning: The log with transaction hash: b'\\x03\\x86\\x89M\\xe7\\xa5\\xa9\\xa7}{\\x1b\\xf2\\x19\\xfe\\xa5\\xf8\\x91\\xd0\\xa5\\x1e\\xbe:\\xb2\\xd4\\xa7\\xcd\\x93JX\\xdb\\x19z' and logIndex: 0 encountered the following error during processing: MismatchedABI(The event signature did not match the provided ABI). It has been discarded.\n",
      "  f\"The log with transaction hash: {log['transactionHash']} and \"\n",
      "/home/simone/.local/opt/miniconda3/envs/blockchain/lib/python3.7/site-packages/web3/contract.py:1154: UserWarning: The log with transaction hash: b'\\x03\\x86\\x89M\\xe7\\xa5\\xa9\\xa7}{\\x1b\\xf2\\x19\\xfe\\xa5\\xf8\\x91\\xd0\\xa5\\x1e\\xbe:\\xb2\\xd4\\xa7\\xcd\\x93JX\\xdb\\x19z' and logIndex: 1 encountered the following error during processing: MismatchedABI(The event signature did not match the provided ABI). It has been discarded.\n",
      "  f\"The log with transaction hash: {log['transactionHash']} and \"\n",
      "/home/simone/.local/opt/miniconda3/envs/blockchain/lib/python3.7/site-packages/web3/contract.py:1154: UserWarning: The log with transaction hash: b'\\x03\\x86\\x89M\\xe7\\xa5\\xa9\\xa7}{\\x1b\\xf2\\x19\\xfe\\xa5\\xf8\\x91\\xd0\\xa5\\x1e\\xbe:\\xb2\\xd4\\xa7\\xcd\\x93JX\\xdb\\x19z' and logIndex: 2 encountered the following error during processing: MismatchedABI(The event signature did not match the provided ABI). It has been discarded.\n",
      "  f\"The log with transaction hash: {log['transactionHash']} and \"\n"
     ]
    }
   ],
   "source": [
    "directWins_AA_logs = [] \n",
    "for event_data in all_directWins_AA: \n",
    "        #print(event_data)\n",
    "        tx_hash = event_data['transactionHash'].hex()\n",
    "        receipt = web3.eth.getTransactionReceipt(tx_hash)\n",
    "        #events = ['Buy', 'Sell']\n",
    "        directWins_AA_logs.append(web3_challenge_AA.events.DirectChallengeWon().processReceipt(receipt))"
   ]
  },
  {
   "cell_type": "code",
   "execution_count": 19,
   "metadata": {},
   "outputs": [],
   "source": [
    "FSS_directWins_AA = []\n",
    "for i in range(0, len(directWins_AA_logs)): \n",
    "    if(directWins_AA_logs[i][0]['args']['winner'] == '0x27C404d4D91156F7063E8dB9cC10970cfffF9a6C'): \n",
    "        FSS_directWins_AA.append(directWins_AA_logs[i][0])"
   ]
  },
  {
   "cell_type": "code",
   "execution_count": 20,
   "metadata": {},
   "outputs": [
    {
     "data": {
      "text/plain": [
       "[]"
      ]
     },
     "execution_count": 20,
     "metadata": {},
     "output_type": "execute_result"
    }
   ],
   "source": [
    "FSS_directWins_AA"
   ]
  },
  {
   "cell_type": "code",
   "execution_count": 21,
   "metadata": {
    "collapsed": true
   },
   "outputs": [
    {
     "name": "stderr",
     "output_type": "stream",
     "text": [
      "/home/simone/.local/opt/miniconda3/envs/blockchain/lib/python3.7/site-packages/web3/contract.py:1154: UserWarning: The log with transaction hash: b\"W\\x19U\\xc8\\xd8\\xcc\\x15\\xa6)\\x8d#{;%\\x90\\x8d\\xd6\\xc5\\xa8_'\\xff\\xfd\\x15D.`!\\xca\\xb3\\x9c\\x83\" and logIndex: 50 encountered the following error during processing: MismatchedABI(The event signature did not match the provided ABI). It has been discarded.\n",
      "  f\"The log with transaction hash: {log['transactionHash']} and \"\n",
      "/home/simone/.local/opt/miniconda3/envs/blockchain/lib/python3.7/site-packages/web3/contract.py:1154: UserWarning: The log with transaction hash: b\"W\\x19U\\xc8\\xd8\\xcc\\x15\\xa6)\\x8d#{;%\\x90\\x8d\\xd6\\xc5\\xa8_'\\xff\\xfd\\x15D.`!\\xca\\xb3\\x9c\\x83\" and logIndex: 51 encountered the following error during processing: MismatchedABI(The event signature did not match the provided ABI). It has been discarded.\n",
      "  f\"The log with transaction hash: {log['transactionHash']} and \"\n",
      "/home/simone/.local/opt/miniconda3/envs/blockchain/lib/python3.7/site-packages/web3/contract.py:1154: UserWarning: The log with transaction hash: b\"W\\x19U\\xc8\\xd8\\xcc\\x15\\xa6)\\x8d#{;%\\x90\\x8d\\xd6\\xc5\\xa8_'\\xff\\xfd\\x15D.`!\\xca\\xb3\\x9c\\x83\" and logIndex: 52 encountered the following error during processing: MismatchedABI(The event signature did not match the provided ABI). It has been discarded.\n",
      "  f\"The log with transaction hash: {log['transactionHash']} and \"\n",
      "/home/simone/.local/opt/miniconda3/envs/blockchain/lib/python3.7/site-packages/web3/contract.py:1154: UserWarning: The log with transaction hash: b'\\x95kj\\xa8\\x9f\\xc8\\xd6T\\xfa\\x9d\\x99h\\xd9`\\x06\\xad\\ta\\xaa\\xf5\\x8b_\\xb1u<\\xf0\\xb8\\x8aS\\x87\\xa7<' and logIndex: 4 encountered the following error during processing: MismatchedABI(The event signature did not match the provided ABI). It has been discarded.\n",
      "  f\"The log with transaction hash: {log['transactionHash']} and \"\n",
      "/home/simone/.local/opt/miniconda3/envs/blockchain/lib/python3.7/site-packages/web3/contract.py:1154: UserWarning: The log with transaction hash: b'\\x95kj\\xa8\\x9f\\xc8\\xd6T\\xfa\\x9d\\x99h\\xd9`\\x06\\xad\\ta\\xaa\\xf5\\x8b_\\xb1u<\\xf0\\xb8\\x8aS\\x87\\xa7<' and logIndex: 5 encountered the following error during processing: MismatchedABI(The event signature did not match the provided ABI). It has been discarded.\n",
      "  f\"The log with transaction hash: {log['transactionHash']} and \"\n",
      "/home/simone/.local/opt/miniconda3/envs/blockchain/lib/python3.7/site-packages/web3/contract.py:1154: UserWarning: The log with transaction hash: b'\\x95kj\\xa8\\x9f\\xc8\\xd6T\\xfa\\x9d\\x99h\\xd9`\\x06\\xad\\ta\\xaa\\xf5\\x8b_\\xb1u<\\xf0\\xb8\\x8aS\\x87\\xa7<' and logIndex: 6 encountered the following error during processing: MismatchedABI(The event signature did not match the provided ABI). It has been discarded.\n",
      "  f\"The log with transaction hash: {log['transactionHash']} and \"\n",
      "/home/simone/.local/opt/miniconda3/envs/blockchain/lib/python3.7/site-packages/web3/contract.py:1154: UserWarning: The log with transaction hash: b'\\xda\\xb08\\xca\\xdd\\x93\\xc4\\x12,\\x15\\xf1\\xd7@?\\x1eu\\x95\\x12aK\\xa4\\xf8P\\xf2#\\x9f\\xc0\\x1c\\x9e\\x1e \\\\' and logIndex: 0 encountered the following error during processing: MismatchedABI(The event signature did not match the provided ABI). It has been discarded.\n",
      "  f\"The log with transaction hash: {log['transactionHash']} and \"\n",
      "/home/simone/.local/opt/miniconda3/envs/blockchain/lib/python3.7/site-packages/web3/contract.py:1154: UserWarning: The log with transaction hash: b'\\xda\\xb08\\xca\\xdd\\x93\\xc4\\x12,\\x15\\xf1\\xd7@?\\x1eu\\x95\\x12aK\\xa4\\xf8P\\xf2#\\x9f\\xc0\\x1c\\x9e\\x1e \\\\' and logIndex: 1 encountered the following error during processing: MismatchedABI(The event signature did not match the provided ABI). It has been discarded.\n",
      "  f\"The log with transaction hash: {log['transactionHash']} and \"\n",
      "/home/simone/.local/opt/miniconda3/envs/blockchain/lib/python3.7/site-packages/web3/contract.py:1154: UserWarning: The log with transaction hash: b'\\xda\\xb08\\xca\\xdd\\x93\\xc4\\x12,\\x15\\xf1\\xd7@?\\x1eu\\x95\\x12aK\\xa4\\xf8P\\xf2#\\x9f\\xc0\\x1c\\x9e\\x1e \\\\' and logIndex: 2 encountered the following error during processing: MismatchedABI(The event signature did not match the provided ABI). It has been discarded.\n",
      "  f\"The log with transaction hash: {log['transactionHash']} and \"\n",
      "/home/simone/.local/opt/miniconda3/envs/blockchain/lib/python3.7/site-packages/web3/contract.py:1154: UserWarning: The log with transaction hash: b'\\xa2A\\xe6\\xdb\\x84\\x85\\n\\xd8\\x13|\\xf0\\xac`u\\xe1\\xf8\\t\\xac\\xad)W\\xbcK\\xf9M\\xd7\\x13\\xd0\\x17\\xab\\xe4\\x1d' and logIndex: 0 encountered the following error during processing: MismatchedABI(The event signature did not match the provided ABI). It has been discarded.\n",
      "  f\"The log with transaction hash: {log['transactionHash']} and \"\n",
      "/home/simone/.local/opt/miniconda3/envs/blockchain/lib/python3.7/site-packages/web3/contract.py:1154: UserWarning: The log with transaction hash: b'\\xa2A\\xe6\\xdb\\x84\\x85\\n\\xd8\\x13|\\xf0\\xac`u\\xe1\\xf8\\t\\xac\\xad)W\\xbcK\\xf9M\\xd7\\x13\\xd0\\x17\\xab\\xe4\\x1d' and logIndex: 1 encountered the following error during processing: MismatchedABI(The event signature did not match the provided ABI). It has been discarded.\n",
      "  f\"The log with transaction hash: {log['transactionHash']} and \"\n",
      "/home/simone/.local/opt/miniconda3/envs/blockchain/lib/python3.7/site-packages/web3/contract.py:1154: UserWarning: The log with transaction hash: b'\\xa2A\\xe6\\xdb\\x84\\x85\\n\\xd8\\x13|\\xf0\\xac`u\\xe1\\xf8\\t\\xac\\xad)W\\xbcK\\xf9M\\xd7\\x13\\xd0\\x17\\xab\\xe4\\x1d' and logIndex: 2 encountered the following error during processing: MismatchedABI(The event signature did not match the provided ABI). It has been discarded.\n",
      "  f\"The log with transaction hash: {log['transactionHash']} and \"\n",
      "/home/simone/.local/opt/miniconda3/envs/blockchain/lib/python3.7/site-packages/web3/contract.py:1154: UserWarning: The log with transaction hash: b'v\\xd4*\\xfd\\x8fU\\xdb\\xb0\\xcb\\xf5_\\x9d\\x95\\x865\\xf4\\x1a7\\xc7\\xc7\\x00Kap\\xfd\\xd6_\\xb4B\\xdf\\x86`' and logIndex: 2 encountered the following error during processing: MismatchedABI(The event signature did not match the provided ABI). It has been discarded.\n",
      "  f\"The log with transaction hash: {log['transactionHash']} and \"\n",
      "/home/simone/.local/opt/miniconda3/envs/blockchain/lib/python3.7/site-packages/web3/contract.py:1154: UserWarning: The log with transaction hash: b'v\\xd4*\\xfd\\x8fU\\xdb\\xb0\\xcb\\xf5_\\x9d\\x95\\x865\\xf4\\x1a7\\xc7\\xc7\\x00Kap\\xfd\\xd6_\\xb4B\\xdf\\x86`' and logIndex: 3 encountered the following error during processing: MismatchedABI(The event signature did not match the provided ABI). It has been discarded.\n",
      "  f\"The log with transaction hash: {log['transactionHash']} and \"\n",
      "/home/simone/.local/opt/miniconda3/envs/blockchain/lib/python3.7/site-packages/web3/contract.py:1154: UserWarning: The log with transaction hash: b'v\\xd4*\\xfd\\x8fU\\xdb\\xb0\\xcb\\xf5_\\x9d\\x95\\x865\\xf4\\x1a7\\xc7\\xc7\\x00Kap\\xfd\\xd6_\\xb4B\\xdf\\x86`' and logIndex: 4 encountered the following error during processing: MismatchedABI(The event signature did not match the provided ABI). It has been discarded.\n",
      "  f\"The log with transaction hash: {log['transactionHash']} and \"\n",
      "/home/simone/.local/opt/miniconda3/envs/blockchain/lib/python3.7/site-packages/web3/contract.py:1154: UserWarning: The log with transaction hash: b'\\xba.\\xc9t;\\x05\\xcbd\\xc2\\x95\\xccf\\xdd\\xd5r0\\xcaLB\\xeaV\\x9a\\xce{\\x9b\\x0c\\xe7\\x8f\\x9cG\\x84\\xec' and logIndex: 0 encountered the following error during processing: MismatchedABI(The event signature did not match the provided ABI). It has been discarded.\n",
      "  f\"The log with transaction hash: {log['transactionHash']} and \"\n",
      "/home/simone/.local/opt/miniconda3/envs/blockchain/lib/python3.7/site-packages/web3/contract.py:1154: UserWarning: The log with transaction hash: b'\\xba.\\xc9t;\\x05\\xcbd\\xc2\\x95\\xccf\\xdd\\xd5r0\\xcaLB\\xeaV\\x9a\\xce{\\x9b\\x0c\\xe7\\x8f\\x9cG\\x84\\xec' and logIndex: 1 encountered the following error during processing: MismatchedABI(The event signature did not match the provided ABI). It has been discarded.\n",
      "  f\"The log with transaction hash: {log['transactionHash']} and \"\n",
      "/home/simone/.local/opt/miniconda3/envs/blockchain/lib/python3.7/site-packages/web3/contract.py:1154: UserWarning: The log with transaction hash: b'\\xba.\\xc9t;\\x05\\xcbd\\xc2\\x95\\xccf\\xdd\\xd5r0\\xcaLB\\xeaV\\x9a\\xce{\\x9b\\x0c\\xe7\\x8f\\x9cG\\x84\\xec' and logIndex: 2 encountered the following error during processing: MismatchedABI(The event signature did not match the provided ABI). It has been discarded.\n",
      "  f\"The log with transaction hash: {log['transactionHash']} and \"\n"
     ]
    },
    {
     "name": "stderr",
     "output_type": "stream",
     "text": [
      "/home/simone/.local/opt/miniconda3/envs/blockchain/lib/python3.7/site-packages/web3/contract.py:1154: UserWarning: The log with transaction hash: b'\\x02{lS\\x8fc\\xb0\\xbf\\xf2X\\xb6\\x81\\xa9%\\xec\\xfa\\xd4\\x00\\xd2\\xcb\\xdd\\xf9\\xdd\\xe2\\x8f\\xe6\\xcd\\xd5\\xdf\\xc4h\\xd2' and logIndex: 57 encountered the following error during processing: MismatchedABI(The event signature did not match the provided ABI). It has been discarded.\n",
      "  f\"The log with transaction hash: {log['transactionHash']} and \"\n",
      "/home/simone/.local/opt/miniconda3/envs/blockchain/lib/python3.7/site-packages/web3/contract.py:1154: UserWarning: The log with transaction hash: b'\\x02{lS\\x8fc\\xb0\\xbf\\xf2X\\xb6\\x81\\xa9%\\xec\\xfa\\xd4\\x00\\xd2\\xcb\\xdd\\xf9\\xdd\\xe2\\x8f\\xe6\\xcd\\xd5\\xdf\\xc4h\\xd2' and logIndex: 58 encountered the following error during processing: MismatchedABI(The event signature did not match the provided ABI). It has been discarded.\n",
      "  f\"The log with transaction hash: {log['transactionHash']} and \"\n",
      "/home/simone/.local/opt/miniconda3/envs/blockchain/lib/python3.7/site-packages/web3/contract.py:1154: UserWarning: The log with transaction hash: b'\\x02{lS\\x8fc\\xb0\\xbf\\xf2X\\xb6\\x81\\xa9%\\xec\\xfa\\xd4\\x00\\xd2\\xcb\\xdd\\xf9\\xdd\\xe2\\x8f\\xe6\\xcd\\xd5\\xdf\\xc4h\\xd2' and logIndex: 59 encountered the following error during processing: MismatchedABI(The event signature did not match the provided ABI). It has been discarded.\n",
      "  f\"The log with transaction hash: {log['transactionHash']} and \"\n",
      "/home/simone/.local/opt/miniconda3/envs/blockchain/lib/python3.7/site-packages/web3/contract.py:1154: UserWarning: The log with transaction hash: b'\\x17\\x81\\xf0f\\x0e=w\\x1a!\\x0b\\x838\\xb3\\xbf\\x9a\\x16Q5W\\x93\\x11\\x9f/c\\xdb\\xffl\\x0c\\xbf\\xd4\\xf2O' and logIndex: 13 encountered the following error during processing: MismatchedABI(The event signature did not match the provided ABI). It has been discarded.\n",
      "  f\"The log with transaction hash: {log['transactionHash']} and \"\n",
      "/home/simone/.local/opt/miniconda3/envs/blockchain/lib/python3.7/site-packages/web3/contract.py:1154: UserWarning: The log with transaction hash: b'\\x17\\x81\\xf0f\\x0e=w\\x1a!\\x0b\\x838\\xb3\\xbf\\x9a\\x16Q5W\\x93\\x11\\x9f/c\\xdb\\xffl\\x0c\\xbf\\xd4\\xf2O' and logIndex: 14 encountered the following error during processing: MismatchedABI(The event signature did not match the provided ABI). It has been discarded.\n",
      "  f\"The log with transaction hash: {log['transactionHash']} and \"\n",
      "/home/simone/.local/opt/miniconda3/envs/blockchain/lib/python3.7/site-packages/web3/contract.py:1154: UserWarning: The log with transaction hash: b'\\x17\\x81\\xf0f\\x0e=w\\x1a!\\x0b\\x838\\xb3\\xbf\\x9a\\x16Q5W\\x93\\x11\\x9f/c\\xdb\\xffl\\x0c\\xbf\\xd4\\xf2O' and logIndex: 15 encountered the following error during processing: MismatchedABI(The event signature did not match the provided ABI). It has been discarded.\n",
      "  f\"The log with transaction hash: {log['transactionHash']} and \"\n"
     ]
    }
   ],
   "source": [
    "teamWins_AA_logs = [] \n",
    "for event_data in all_teamWins_AA: \n",
    "        #print(event_data)\n",
    "        tx_hash = event_data['transactionHash'].hex()\n",
    "        receipt = web3.eth.getTransactionReceipt(tx_hash)\n",
    "        #events = ['Buy', 'Sell']\n",
    "        teamWins_AA_logs.append(web3_challenge_AA.events.TeamChallengeWon().processReceipt(receipt))"
   ]
  },
  {
   "cell_type": "code",
   "execution_count": 22,
   "metadata": {},
   "outputs": [],
   "source": [
    "FSS_teamWins_AA = []\n",
    "for i in range(0, len(teamWins_AA_logs)): \n",
    "    if(teamWins_AA_logs[i][0]['args']['winner'] == '0x27C404d4D91156F7063E8dB9cC10970cfffF9a6C'): \n",
    "        FSS_teamWins_AA.append(teamWins_AA_logs[i][0])"
   ]
  },
  {
   "cell_type": "code",
   "execution_count": 23,
   "metadata": {},
   "outputs": [
    {
     "data": {
      "text/plain": [
       "[AttributeDict({'args': AttributeDict({'winner': '0x27C404d4D91156F7063E8dB9cC10970cfffF9a6C',\n",
       "   'flag': 0,\n",
       "   'amount': 1000000000000000000000}),\n",
       "  'event': 'TeamChallengeWon',\n",
       "  'logIndex': 53,\n",
       "  'transactionIndex': 22,\n",
       "  'transactionHash': HexBytes('0x571955c8d8cc15a6298d237b3b25908dd6c5a85f27fffd15442e6021cab39c83'),\n",
       "  'address': '0x20BBCe5ee9Bc741C4560BC2985D008c4654978ED',\n",
       "  'blockHash': HexBytes('0x8d11a1880e78df18e63b90a7136770bf59dcdb5d58fa31e336f652716968a273'),\n",
       "  'blockNumber': 8195334}),\n",
       " AttributeDict({'args': AttributeDict({'winner': '0x27C404d4D91156F7063E8dB9cC10970cfffF9a6C',\n",
       "   'flag': 6,\n",
       "   'amount': 1000000000000000000000}),\n",
       "  'event': 'TeamChallengeWon',\n",
       "  'logIndex': 60,\n",
       "  'transactionIndex': 24,\n",
       "  'transactionHash': HexBytes('0x027b6c538f63b0bff258b681a925ecfad400d2cbddf9dde28fe6cdd5dfc468d2'),\n",
       "  'address': '0x20BBCe5ee9Bc741C4560BC2985D008c4654978ED',\n",
       "  'blockHash': HexBytes('0xc139ed7acea0ec410062ae553cddbb3b8715f263cbc4c617d6454e76d4e7b9c8'),\n",
       "  'blockNumber': 8195750}),\n",
       " AttributeDict({'args': AttributeDict({'winner': '0x27C404d4D91156F7063E8dB9cC10970cfffF9a6C',\n",
       "   'flag': 7,\n",
       "   'amount': 1000000000000000000000}),\n",
       "  'event': 'TeamChallengeWon',\n",
       "  'logIndex': 16,\n",
       "  'transactionIndex': 5,\n",
       "  'transactionHash': HexBytes('0x1781f0660e3d771a210b8338b3bf9a1651355793119f2f63dbff6c0cbfd4f24f'),\n",
       "  'address': '0x20BBCe5ee9Bc741C4560BC2985D008c4654978ED',\n",
       "  'blockHash': HexBytes('0x85b869cb42e43a10e7a1a09f6b7f3599514e3783a975611dfab28f29b5e23696'),\n",
       "  'blockNumber': 8195829})]"
      ]
     },
     "execution_count": 23,
     "metadata": {},
     "output_type": "execute_result"
    }
   ],
   "source": [
    "FSS_teamWins_AA"
   ]
  },
  {
   "cell_type": "code",
   "execution_count": 48,
   "metadata": {},
   "outputs": [
    {
     "name": "stdout",
     "output_type": "stream",
     "text": [
      "1593462984 2020-06-29 22:36:24\n",
      "1593468406 2020-06-30 00:06:46\n",
      "1593469517 2020-06-30 00:25:17\n"
     ]
    }
   ],
   "source": [
    "timestamp = web3.eth.getBlock(8195334)['timestamp']\n",
    "date = datetime.datetime.fromtimestamp(timestamp)\n",
    "print(timestamp, date)\n",
    "\n",
    "timestamp = web3.eth.getBlock(8195750)['timestamp']\n",
    "date = datetime.datetime.fromtimestamp(timestamp)\n",
    "print(timestamp, date)\n",
    "\n",
    "timestamp = web3.eth.getBlock(8195829)['timestamp']\n",
    "date = datetime.datetime.fromtimestamp(timestamp)\n",
    "print(timestamp, date)"
   ]
  },
  {
   "cell_type": "code",
   "execution_count": 32,
   "metadata": {},
   "outputs": [],
   "source": [
    "all_directWins_FSS = web3.eth.getLogs({'fromBlock': 0, 'toBlock': 'latest', 'address': challenge_FSS.address, 'topics': [directWon_sign]})\n",
    "all_teamWins_FSS = web3.eth.getLogs({'fromBlock': 0, 'toBlock': 'latest', 'address': challenge_FSS.address, 'topics': [teamWon_sign]})"
   ]
  },
  {
   "cell_type": "code",
   "execution_count": 33,
   "metadata": {
    "collapsed": true
   },
   "outputs": [
    {
     "name": "stderr",
     "output_type": "stream",
     "text": [
      "/home/simone/.local/opt/miniconda3/envs/blockchain/lib/python3.7/site-packages/web3/contract.py:1154: UserWarning: The log with transaction hash: b'\\xd7\\x19\\x06\\xd22\\x9d\\xcc/\\xba1\\xd6\\xb6\\xd1%\\x12\\xea\\xb38w\\xd6\\x80S\\x8b.\\\\\\r]\\xff\\x8c\\xde\\xe5r' and logIndex: 1 encountered the following error during processing: MismatchedABI(The event signature did not match the provided ABI). It has been discarded.\n",
      "  f\"The log with transaction hash: {log['transactionHash']} and \"\n",
      "/home/simone/.local/opt/miniconda3/envs/blockchain/lib/python3.7/site-packages/web3/contract.py:1154: UserWarning: The log with transaction hash: b'\\xd7\\x19\\x06\\xd22\\x9d\\xcc/\\xba1\\xd6\\xb6\\xd1%\\x12\\xea\\xb38w\\xd6\\x80S\\x8b.\\\\\\r]\\xff\\x8c\\xde\\xe5r' and logIndex: 2 encountered the following error during processing: MismatchedABI(The event signature did not match the provided ABI). It has been discarded.\n",
      "  f\"The log with transaction hash: {log['transactionHash']} and \"\n",
      "/home/simone/.local/opt/miniconda3/envs/blockchain/lib/python3.7/site-packages/web3/contract.py:1154: UserWarning: The log with transaction hash: b'\\xd7\\x19\\x06\\xd22\\x9d\\xcc/\\xba1\\xd6\\xb6\\xd1%\\x12\\xea\\xb38w\\xd6\\x80S\\x8b.\\\\\\r]\\xff\\x8c\\xde\\xe5r' and logIndex: 3 encountered the following error during processing: MismatchedABI(The event signature did not match the provided ABI). It has been discarded.\n",
      "  f\"The log with transaction hash: {log['transactionHash']} and \"\n",
      "/home/simone/.local/opt/miniconda3/envs/blockchain/lib/python3.7/site-packages/web3/contract.py:1154: UserWarning: The log with transaction hash: b'\\x1ct|m{\\xd1\\x9c\\xb1\\xf8o{\\xf8\\x98\\xc5T\\xa7\\xe7@\\x89\\xc6)j\\xd8\\xed\\xaaA\\xfbs\\x0b\\xa69\\xe1' and logIndex: 3 encountered the following error during processing: MismatchedABI(The event signature did not match the provided ABI). It has been discarded.\n",
      "  f\"The log with transaction hash: {log['transactionHash']} and \"\n",
      "/home/simone/.local/opt/miniconda3/envs/blockchain/lib/python3.7/site-packages/web3/contract.py:1154: UserWarning: The log with transaction hash: b'\\x1ct|m{\\xd1\\x9c\\xb1\\xf8o{\\xf8\\x98\\xc5T\\xa7\\xe7@\\x89\\xc6)j\\xd8\\xed\\xaaA\\xfbs\\x0b\\xa69\\xe1' and logIndex: 4 encountered the following error during processing: MismatchedABI(The event signature did not match the provided ABI). It has been discarded.\n",
      "  f\"The log with transaction hash: {log['transactionHash']} and \"\n",
      "/home/simone/.local/opt/miniconda3/envs/blockchain/lib/python3.7/site-packages/web3/contract.py:1154: UserWarning: The log with transaction hash: b'\\x1ct|m{\\xd1\\x9c\\xb1\\xf8o{\\xf8\\x98\\xc5T\\xa7\\xe7@\\x89\\xc6)j\\xd8\\xed\\xaaA\\xfbs\\x0b\\xa69\\xe1' and logIndex: 5 encountered the following error during processing: MismatchedABI(The event signature did not match the provided ABI). It has been discarded.\n",
      "  f\"The log with transaction hash: {log['transactionHash']} and \"\n",
      "/home/simone/.local/opt/miniconda3/envs/blockchain/lib/python3.7/site-packages/web3/contract.py:1154: UserWarning: The log with transaction hash: b'\\x97\\xbe! \\x92d\\x9fC\\xd7\\x876\\x83\\xbfS\\xd3I\\xc1\\xa3\\xec\\xb5\\xee\\xadO\\x94\\xebd\\x8dLZh\\n\\xd9' and logIndex: 4 encountered the following error during processing: MismatchedABI(The event signature did not match the provided ABI). It has been discarded.\n",
      "  f\"The log with transaction hash: {log['transactionHash']} and \"\n",
      "/home/simone/.local/opt/miniconda3/envs/blockchain/lib/python3.7/site-packages/web3/contract.py:1154: UserWarning: The log with transaction hash: b'\\x97\\xbe! \\x92d\\x9fC\\xd7\\x876\\x83\\xbfS\\xd3I\\xc1\\xa3\\xec\\xb5\\xee\\xadO\\x94\\xebd\\x8dLZh\\n\\xd9' and logIndex: 5 encountered the following error during processing: MismatchedABI(The event signature did not match the provided ABI). It has been discarded.\n",
      "  f\"The log with transaction hash: {log['transactionHash']} and \"\n",
      "/home/simone/.local/opt/miniconda3/envs/blockchain/lib/python3.7/site-packages/web3/contract.py:1154: UserWarning: The log with transaction hash: b'\\x97\\xbe! \\x92d\\x9fC\\xd7\\x876\\x83\\xbfS\\xd3I\\xc1\\xa3\\xec\\xb5\\xee\\xadO\\x94\\xebd\\x8dLZh\\n\\xd9' and logIndex: 6 encountered the following error during processing: MismatchedABI(The event signature did not match the provided ABI). It has been discarded.\n",
      "  f\"The log with transaction hash: {log['transactionHash']} and \"\n",
      "/home/simone/.local/opt/miniconda3/envs/blockchain/lib/python3.7/site-packages/web3/contract.py:1154: UserWarning: The log with transaction hash: b'\\xff\\xbc}\\x8a\\x83)~s\\xdaa\\x99\\xdc\\xf5\\xd2\\xad\\x8e[\\xed\\xbb\\x1a\\x0bs\\xc4\\xb5\\xf5\\x12\\x90Yg\\xc4<u' and logIndex: 4 encountered the following error during processing: MismatchedABI(The event signature did not match the provided ABI). It has been discarded.\n",
      "  f\"The log with transaction hash: {log['transactionHash']} and \"\n",
      "/home/simone/.local/opt/miniconda3/envs/blockchain/lib/python3.7/site-packages/web3/contract.py:1154: UserWarning: The log with transaction hash: b'\\xff\\xbc}\\x8a\\x83)~s\\xdaa\\x99\\xdc\\xf5\\xd2\\xad\\x8e[\\xed\\xbb\\x1a\\x0bs\\xc4\\xb5\\xf5\\x12\\x90Yg\\xc4<u' and logIndex: 5 encountered the following error during processing: MismatchedABI(The event signature did not match the provided ABI). It has been discarded.\n",
      "  f\"The log with transaction hash: {log['transactionHash']} and \"\n",
      "/home/simone/.local/opt/miniconda3/envs/blockchain/lib/python3.7/site-packages/web3/contract.py:1154: UserWarning: The log with transaction hash: b'\\xff\\xbc}\\x8a\\x83)~s\\xdaa\\x99\\xdc\\xf5\\xd2\\xad\\x8e[\\xed\\xbb\\x1a\\x0bs\\xc4\\xb5\\xf5\\x12\\x90Yg\\xc4<u' and logIndex: 6 encountered the following error during processing: MismatchedABI(The event signature did not match the provided ABI). It has been discarded.\n",
      "  f\"The log with transaction hash: {log['transactionHash']} and \"\n",
      "/home/simone/.local/opt/miniconda3/envs/blockchain/lib/python3.7/site-packages/web3/contract.py:1154: UserWarning: The log with transaction hash: b'\\xfcT\\x1f\\x9d:\\x9a|\\x84E\\xf5\\xaaG\\x85\\xcc$\\xd1\\xf9\\x8c]a\\xa3\\xa1t[\\xc1a\\xb0\\x87\\x12\\xceN0' and logIndex: 36 encountered the following error during processing: MismatchedABI(The event signature did not match the provided ABI). It has been discarded.\n",
      "  f\"The log with transaction hash: {log['transactionHash']} and \"\n",
      "/home/simone/.local/opt/miniconda3/envs/blockchain/lib/python3.7/site-packages/web3/contract.py:1154: UserWarning: The log with transaction hash: b'\\xfcT\\x1f\\x9d:\\x9a|\\x84E\\xf5\\xaaG\\x85\\xcc$\\xd1\\xf9\\x8c]a\\xa3\\xa1t[\\xc1a\\xb0\\x87\\x12\\xceN0' and logIndex: 37 encountered the following error during processing: MismatchedABI(The event signature did not match the provided ABI). It has been discarded.\n",
      "  f\"The log with transaction hash: {log['transactionHash']} and \"\n",
      "/home/simone/.local/opt/miniconda3/envs/blockchain/lib/python3.7/site-packages/web3/contract.py:1154: UserWarning: The log with transaction hash: b'\\xfcT\\x1f\\x9d:\\x9a|\\x84E\\xf5\\xaaG\\x85\\xcc$\\xd1\\xf9\\x8c]a\\xa3\\xa1t[\\xc1a\\xb0\\x87\\x12\\xceN0' and logIndex: 38 encountered the following error during processing: MismatchedABI(The event signature did not match the provided ABI). It has been discarded.\n",
      "  f\"The log with transaction hash: {log['transactionHash']} and \"\n",
      "/home/simone/.local/opt/miniconda3/envs/blockchain/lib/python3.7/site-packages/web3/contract.py:1154: UserWarning: The log with transaction hash: b'\\xf0\\xcf\\xd46b\\xe8\\x19d\\x8e\\xa1\\xae:W[B\\xa2\\xc65Va\\xf2)^\\xc8\\x0c\\xffR\\xeb\\xe0\\x08\\xb9\\xb2' and logIndex: 0 encountered the following error during processing: MismatchedABI(The event signature did not match the provided ABI). It has been discarded.\n",
      "  f\"The log with transaction hash: {log['transactionHash']} and \"\n",
      "/home/simone/.local/opt/miniconda3/envs/blockchain/lib/python3.7/site-packages/web3/contract.py:1154: UserWarning: The log with transaction hash: b'\\xf0\\xcf\\xd46b\\xe8\\x19d\\x8e\\xa1\\xae:W[B\\xa2\\xc65Va\\xf2)^\\xc8\\x0c\\xffR\\xeb\\xe0\\x08\\xb9\\xb2' and logIndex: 1 encountered the following error during processing: MismatchedABI(The event signature did not match the provided ABI). It has been discarded.\n",
      "  f\"The log with transaction hash: {log['transactionHash']} and \"\n",
      "/home/simone/.local/opt/miniconda3/envs/blockchain/lib/python3.7/site-packages/web3/contract.py:1154: UserWarning: The log with transaction hash: b'\\xf0\\xcf\\xd46b\\xe8\\x19d\\x8e\\xa1\\xae:W[B\\xa2\\xc65Va\\xf2)^\\xc8\\x0c\\xffR\\xeb\\xe0\\x08\\xb9\\xb2' and logIndex: 2 encountered the following error during processing: MismatchedABI(The event signature did not match the provided ABI). It has been discarded.\n",
      "  f\"The log with transaction hash: {log['transactionHash']} and \"\n"
     ]
    },
    {
     "name": "stderr",
     "output_type": "stream",
     "text": [
      "/home/simone/.local/opt/miniconda3/envs/blockchain/lib/python3.7/site-packages/web3/contract.py:1154: UserWarning: The log with transaction hash: b'\\xcc\\xc4\\xf3\\xc5\\x80\\xa6\\xf1\\x98#I\\x97j=2\\xd7\\xc5S\\xdd\\xb5e\\xd1Z\\xe4(/\\xb7 1j\\xc5o\\xd5' and logIndex: 2 encountered the following error during processing: MismatchedABI(The event signature did not match the provided ABI). It has been discarded.\n",
      "  f\"The log with transaction hash: {log['transactionHash']} and \"\n",
      "/home/simone/.local/opt/miniconda3/envs/blockchain/lib/python3.7/site-packages/web3/contract.py:1154: UserWarning: The log with transaction hash: b'\\xcc\\xc4\\xf3\\xc5\\x80\\xa6\\xf1\\x98#I\\x97j=2\\xd7\\xc5S\\xdd\\xb5e\\xd1Z\\xe4(/\\xb7 1j\\xc5o\\xd5' and logIndex: 3 encountered the following error during processing: MismatchedABI(The event signature did not match the provided ABI). It has been discarded.\n",
      "  f\"The log with transaction hash: {log['transactionHash']} and \"\n",
      "/home/simone/.local/opt/miniconda3/envs/blockchain/lib/python3.7/site-packages/web3/contract.py:1154: UserWarning: The log with transaction hash: b'\\xcc\\xc4\\xf3\\xc5\\x80\\xa6\\xf1\\x98#I\\x97j=2\\xd7\\xc5S\\xdd\\xb5e\\xd1Z\\xe4(/\\xb7 1j\\xc5o\\xd5' and logIndex: 4 encountered the following error during processing: MismatchedABI(The event signature did not match the provided ABI). It has been discarded.\n",
      "  f\"The log with transaction hash: {log['transactionHash']} and \"\n",
      "/home/simone/.local/opt/miniconda3/envs/blockchain/lib/python3.7/site-packages/web3/contract.py:1154: UserWarning: The log with transaction hash: b'\\x02\\x1c\\x7f\\xc5Wr\\xa0\\x00\\x14?6\\xf8\\xda\\x0e\\x9e\\xad\\xa7*\\xf7\\xa7\\x9c\\x9e\\xa6\\xcc&h_\\xc9y\\xeaY\\xa0' and logIndex: 0 encountered the following error during processing: MismatchedABI(The event signature did not match the provided ABI). It has been discarded.\n",
      "  f\"The log with transaction hash: {log['transactionHash']} and \"\n",
      "/home/simone/.local/opt/miniconda3/envs/blockchain/lib/python3.7/site-packages/web3/contract.py:1154: UserWarning: The log with transaction hash: b'\\x02\\x1c\\x7f\\xc5Wr\\xa0\\x00\\x14?6\\xf8\\xda\\x0e\\x9e\\xad\\xa7*\\xf7\\xa7\\x9c\\x9e\\xa6\\xcc&h_\\xc9y\\xeaY\\xa0' and logIndex: 1 encountered the following error during processing: MismatchedABI(The event signature did not match the provided ABI). It has been discarded.\n",
      "  f\"The log with transaction hash: {log['transactionHash']} and \"\n",
      "/home/simone/.local/opt/miniconda3/envs/blockchain/lib/python3.7/site-packages/web3/contract.py:1154: UserWarning: The log with transaction hash: b'\\x02\\x1c\\x7f\\xc5Wr\\xa0\\x00\\x14?6\\xf8\\xda\\x0e\\x9e\\xad\\xa7*\\xf7\\xa7\\x9c\\x9e\\xa6\\xcc&h_\\xc9y\\xeaY\\xa0' and logIndex: 2 encountered the following error during processing: MismatchedABI(The event signature did not match the provided ABI). It has been discarded.\n",
      "  f\"The log with transaction hash: {log['transactionHash']} and \"\n",
      "/home/simone/.local/opt/miniconda3/envs/blockchain/lib/python3.7/site-packages/web3/contract.py:1154: UserWarning: The log with transaction hash: b'\\x8f\\xc7\\xeb\\x7f\\x1a\\xf5~<X\\x94\\x12!\\xc6\\x947\\xe2\\xe0*L\\x84\\xca\\x1d\\xc3\\x03\\xd6\\xde\\x9c\\n\\xe5\\x8f\\xd8\\xbe' and logIndex: 5 encountered the following error during processing: MismatchedABI(The event signature did not match the provided ABI). It has been discarded.\n",
      "  f\"The log with transaction hash: {log['transactionHash']} and \"\n",
      "/home/simone/.local/opt/miniconda3/envs/blockchain/lib/python3.7/site-packages/web3/contract.py:1154: UserWarning: The log with transaction hash: b'\\x8f\\xc7\\xeb\\x7f\\x1a\\xf5~<X\\x94\\x12!\\xc6\\x947\\xe2\\xe0*L\\x84\\xca\\x1d\\xc3\\x03\\xd6\\xde\\x9c\\n\\xe5\\x8f\\xd8\\xbe' and logIndex: 6 encountered the following error during processing: MismatchedABI(The event signature did not match the provided ABI). It has been discarded.\n",
      "  f\"The log with transaction hash: {log['transactionHash']} and \"\n",
      "/home/simone/.local/opt/miniconda3/envs/blockchain/lib/python3.7/site-packages/web3/contract.py:1154: UserWarning: The log with transaction hash: b'\\x8f\\xc7\\xeb\\x7f\\x1a\\xf5~<X\\x94\\x12!\\xc6\\x947\\xe2\\xe0*L\\x84\\xca\\x1d\\xc3\\x03\\xd6\\xde\\x9c\\n\\xe5\\x8f\\xd8\\xbe' and logIndex: 7 encountered the following error during processing: MismatchedABI(The event signature did not match the provided ABI). It has been discarded.\n",
      "  f\"The log with transaction hash: {log['transactionHash']} and \"\n",
      "/home/simone/.local/opt/miniconda3/envs/blockchain/lib/python3.7/site-packages/web3/contract.py:1154: UserWarning: The log with transaction hash: b'>\\xcf\\xcb\\x17\\xdd6\\x0em,\\t\\xbd\\x8c\\x19\\xea\\xb3\\xe8Q\\\\RR\\x0c!\\xb3Nt\\xab\";zP\\xaa\\x04' and logIndex: 6 encountered the following error during processing: MismatchedABI(The event signature did not match the provided ABI). It has been discarded.\n",
      "  f\"The log with transaction hash: {log['transactionHash']} and \"\n",
      "/home/simone/.local/opt/miniconda3/envs/blockchain/lib/python3.7/site-packages/web3/contract.py:1154: UserWarning: The log with transaction hash: b'>\\xcf\\xcb\\x17\\xdd6\\x0em,\\t\\xbd\\x8c\\x19\\xea\\xb3\\xe8Q\\\\RR\\x0c!\\xb3Nt\\xab\";zP\\xaa\\x04' and logIndex: 7 encountered the following error during processing: MismatchedABI(The event signature did not match the provided ABI). It has been discarded.\n",
      "  f\"The log with transaction hash: {log['transactionHash']} and \"\n",
      "/home/simone/.local/opt/miniconda3/envs/blockchain/lib/python3.7/site-packages/web3/contract.py:1154: UserWarning: The log with transaction hash: b'>\\xcf\\xcb\\x17\\xdd6\\x0em,\\t\\xbd\\x8c\\x19\\xea\\xb3\\xe8Q\\\\RR\\x0c!\\xb3Nt\\xab\";zP\\xaa\\x04' and logIndex: 8 encountered the following error during processing: MismatchedABI(The event signature did not match the provided ABI). It has been discarded.\n",
      "  f\"The log with transaction hash: {log['transactionHash']} and \"\n",
      "/home/simone/.local/opt/miniconda3/envs/blockchain/lib/python3.7/site-packages/web3/contract.py:1154: UserWarning: The log with transaction hash: b'\\xd9\\x86f\\xf9\\xed\\x80hdU\\x8d\\xed\\xd4(\\xd9\\xe1\\xe6\\xd1>\\x1cJA\\xb1\\xfd\\xb0~\\xd7o\\x05\\xa9\\xa4\\x15b' and logIndex: 1 encountered the following error during processing: MismatchedABI(The event signature did not match the provided ABI). It has been discarded.\n",
      "  f\"The log with transaction hash: {log['transactionHash']} and \"\n",
      "/home/simone/.local/opt/miniconda3/envs/blockchain/lib/python3.7/site-packages/web3/contract.py:1154: UserWarning: The log with transaction hash: b'\\xd9\\x86f\\xf9\\xed\\x80hdU\\x8d\\xed\\xd4(\\xd9\\xe1\\xe6\\xd1>\\x1cJA\\xb1\\xfd\\xb0~\\xd7o\\x05\\xa9\\xa4\\x15b' and logIndex: 2 encountered the following error during processing: MismatchedABI(The event signature did not match the provided ABI). It has been discarded.\n",
      "  f\"The log with transaction hash: {log['transactionHash']} and \"\n",
      "/home/simone/.local/opt/miniconda3/envs/blockchain/lib/python3.7/site-packages/web3/contract.py:1154: UserWarning: The log with transaction hash: b'\\xd9\\x86f\\xf9\\xed\\x80hdU\\x8d\\xed\\xd4(\\xd9\\xe1\\xe6\\xd1>\\x1cJA\\xb1\\xfd\\xb0~\\xd7o\\x05\\xa9\\xa4\\x15b' and logIndex: 3 encountered the following error during processing: MismatchedABI(The event signature did not match the provided ABI). It has been discarded.\n",
      "  f\"The log with transaction hash: {log['transactionHash']} and \"\n",
      "/home/simone/.local/opt/miniconda3/envs/blockchain/lib/python3.7/site-packages/web3/contract.py:1154: UserWarning: The log with transaction hash: b'!\\xdc\\x07\\x9610~t\\x08n\\x85\\x1b<\\x94o\\xb0\\x9e\\xc0\\xd3\\xd1\"\\x8a\\x93\\xb7\\x08\\x05\\x9f]\\xa2\\xbc\\xd4;' and logIndex: 0 encountered the following error during processing: MismatchedABI(The event signature did not match the provided ABI). It has been discarded.\n",
      "  f\"The log with transaction hash: {log['transactionHash']} and \"\n",
      "/home/simone/.local/opt/miniconda3/envs/blockchain/lib/python3.7/site-packages/web3/contract.py:1154: UserWarning: The log with transaction hash: b'!\\xdc\\x07\\x9610~t\\x08n\\x85\\x1b<\\x94o\\xb0\\x9e\\xc0\\xd3\\xd1\"\\x8a\\x93\\xb7\\x08\\x05\\x9f]\\xa2\\xbc\\xd4;' and logIndex: 1 encountered the following error during processing: MismatchedABI(The event signature did not match the provided ABI). It has been discarded.\n",
      "  f\"The log with transaction hash: {log['transactionHash']} and \"\n",
      "/home/simone/.local/opt/miniconda3/envs/blockchain/lib/python3.7/site-packages/web3/contract.py:1154: UserWarning: The log with transaction hash: b'!\\xdc\\x07\\x9610~t\\x08n\\x85\\x1b<\\x94o\\xb0\\x9e\\xc0\\xd3\\xd1\"\\x8a\\x93\\xb7\\x08\\x05\\x9f]\\xa2\\xbc\\xd4;' and logIndex: 2 encountered the following error during processing: MismatchedABI(The event signature did not match the provided ABI). It has been discarded.\n",
      "  f\"The log with transaction hash: {log['transactionHash']} and \"\n"
     ]
    },
    {
     "name": "stderr",
     "output_type": "stream",
     "text": [
      "/home/simone/.local/opt/miniconda3/envs/blockchain/lib/python3.7/site-packages/web3/contract.py:1154: UserWarning: The log with transaction hash: b'\\xbc\\xebN]\\xed\\xf1\\x0b<P\\xdba\\xa2\\xf8\\x8e3\\xe1\\x1c\\xb9#\\xc9\\xd7\\xb1my&xw\\x81[`\\xb7}' and logIndex: 0 encountered the following error during processing: MismatchedABI(The event signature did not match the provided ABI). It has been discarded.\n",
      "  f\"The log with transaction hash: {log['transactionHash']} and \"\n",
      "/home/simone/.local/opt/miniconda3/envs/blockchain/lib/python3.7/site-packages/web3/contract.py:1154: UserWarning: The log with transaction hash: b'\\xbc\\xebN]\\xed\\xf1\\x0b<P\\xdba\\xa2\\xf8\\x8e3\\xe1\\x1c\\xb9#\\xc9\\xd7\\xb1my&xw\\x81[`\\xb7}' and logIndex: 1 encountered the following error during processing: MismatchedABI(The event signature did not match the provided ABI). It has been discarded.\n",
      "  f\"The log with transaction hash: {log['transactionHash']} and \"\n",
      "/home/simone/.local/opt/miniconda3/envs/blockchain/lib/python3.7/site-packages/web3/contract.py:1154: UserWarning: The log with transaction hash: b'\\xbc\\xebN]\\xed\\xf1\\x0b<P\\xdba\\xa2\\xf8\\x8e3\\xe1\\x1c\\xb9#\\xc9\\xd7\\xb1my&xw\\x81[`\\xb7}' and logIndex: 2 encountered the following error during processing: MismatchedABI(The event signature did not match the provided ABI). It has been discarded.\n",
      "  f\"The log with transaction hash: {log['transactionHash']} and \"\n",
      "/home/simone/.local/opt/miniconda3/envs/blockchain/lib/python3.7/site-packages/web3/contract.py:1154: UserWarning: The log with transaction hash: b'w\\xd8\\xf0\\xa9\\x12\\x83dDfT.\\xf6\\xf9d\\xec7\\xd8\\x84:;\\x81f\\xec\\x93\\xcb|\\xd0:9\\xee\\x1a\\xa1' and logIndex: 0 encountered the following error during processing: MismatchedABI(The event signature did not match the provided ABI). It has been discarded.\n",
      "  f\"The log with transaction hash: {log['transactionHash']} and \"\n",
      "/home/simone/.local/opt/miniconda3/envs/blockchain/lib/python3.7/site-packages/web3/contract.py:1154: UserWarning: The log with transaction hash: b'w\\xd8\\xf0\\xa9\\x12\\x83dDfT.\\xf6\\xf9d\\xec7\\xd8\\x84:;\\x81f\\xec\\x93\\xcb|\\xd0:9\\xee\\x1a\\xa1' and logIndex: 1 encountered the following error during processing: MismatchedABI(The event signature did not match the provided ABI). It has been discarded.\n",
      "  f\"The log with transaction hash: {log['transactionHash']} and \"\n",
      "/home/simone/.local/opt/miniconda3/envs/blockchain/lib/python3.7/site-packages/web3/contract.py:1154: UserWarning: The log with transaction hash: b'w\\xd8\\xf0\\xa9\\x12\\x83dDfT.\\xf6\\xf9d\\xec7\\xd8\\x84:;\\x81f\\xec\\x93\\xcb|\\xd0:9\\xee\\x1a\\xa1' and logIndex: 2 encountered the following error during processing: MismatchedABI(The event signature did not match the provided ABI). It has been discarded.\n",
      "  f\"The log with transaction hash: {log['transactionHash']} and \"\n",
      "/home/simone/.local/opt/miniconda3/envs/blockchain/lib/python3.7/site-packages/web3/contract.py:1154: UserWarning: The log with transaction hash: b'\\xb5\\xcc\\x06\\xe4\\x911\\x05\\xf7\\xdb\\t@\\xadT\\x1d\\xc1mg}\\x14%i\\x1f\\x99\\x907\\x80J\\x1f4Jls' and logIndex: 0 encountered the following error during processing: MismatchedABI(The event signature did not match the provided ABI). It has been discarded.\n",
      "  f\"The log with transaction hash: {log['transactionHash']} and \"\n",
      "/home/simone/.local/opt/miniconda3/envs/blockchain/lib/python3.7/site-packages/web3/contract.py:1154: UserWarning: The log with transaction hash: b'\\xb5\\xcc\\x06\\xe4\\x911\\x05\\xf7\\xdb\\t@\\xadT\\x1d\\xc1mg}\\x14%i\\x1f\\x99\\x907\\x80J\\x1f4Jls' and logIndex: 1 encountered the following error during processing: MismatchedABI(The event signature did not match the provided ABI). It has been discarded.\n",
      "  f\"The log with transaction hash: {log['transactionHash']} and \"\n",
      "/home/simone/.local/opt/miniconda3/envs/blockchain/lib/python3.7/site-packages/web3/contract.py:1154: UserWarning: The log with transaction hash: b'\\xb5\\xcc\\x06\\xe4\\x911\\x05\\xf7\\xdb\\t@\\xadT\\x1d\\xc1mg}\\x14%i\\x1f\\x99\\x907\\x80J\\x1f4Jls' and logIndex: 2 encountered the following error during processing: MismatchedABI(The event signature did not match the provided ABI). It has been discarded.\n",
      "  f\"The log with transaction hash: {log['transactionHash']} and \"\n",
      "/home/simone/.local/opt/miniconda3/envs/blockchain/lib/python3.7/site-packages/web3/contract.py:1154: UserWarning: The log with transaction hash: b'\\\\j\\x96\\x94\\x15N[)o\\x1fQ\\x9a\\x87a\\x08\\x03\\xa8\\x8d\\xd0\\x7f\\x0f\\r\\xa2\\xd1\\xcf#5\\xbdk[>+' and logIndex: 1 encountered the following error during processing: MismatchedABI(The event signature did not match the provided ABI). It has been discarded.\n",
      "  f\"The log with transaction hash: {log['transactionHash']} and \"\n",
      "/home/simone/.local/opt/miniconda3/envs/blockchain/lib/python3.7/site-packages/web3/contract.py:1154: UserWarning: The log with transaction hash: b'\\\\j\\x96\\x94\\x15N[)o\\x1fQ\\x9a\\x87a\\x08\\x03\\xa8\\x8d\\xd0\\x7f\\x0f\\r\\xa2\\xd1\\xcf#5\\xbdk[>+' and logIndex: 2 encountered the following error during processing: MismatchedABI(The event signature did not match the provided ABI). It has been discarded.\n",
      "  f\"The log with transaction hash: {log['transactionHash']} and \"\n",
      "/home/simone/.local/opt/miniconda3/envs/blockchain/lib/python3.7/site-packages/web3/contract.py:1154: UserWarning: The log with transaction hash: b'\\\\j\\x96\\x94\\x15N[)o\\x1fQ\\x9a\\x87a\\x08\\x03\\xa8\\x8d\\xd0\\x7f\\x0f\\r\\xa2\\xd1\\xcf#5\\xbdk[>+' and logIndex: 3 encountered the following error during processing: MismatchedABI(The event signature did not match the provided ABI). It has been discarded.\n",
      "  f\"The log with transaction hash: {log['transactionHash']} and \"\n",
      "/home/simone/.local/opt/miniconda3/envs/blockchain/lib/python3.7/site-packages/web3/contract.py:1154: UserWarning: The log with transaction hash: b'\\x81\\x0fz\\xd4d\\xaem|\\xaf\\xb2\\x0c\\xdcmJ\\\\\\x8d\\x10\\x95U\\xdd\\x15[\\xeb}\"\\xb3\\x11\\xa2\\n\\xd8\\xcdt' and logIndex: 1 encountered the following error during processing: MismatchedABI(The event signature did not match the provided ABI). It has been discarded.\n",
      "  f\"The log with transaction hash: {log['transactionHash']} and \"\n",
      "/home/simone/.local/opt/miniconda3/envs/blockchain/lib/python3.7/site-packages/web3/contract.py:1154: UserWarning: The log with transaction hash: b'\\x81\\x0fz\\xd4d\\xaem|\\xaf\\xb2\\x0c\\xdcmJ\\\\\\x8d\\x10\\x95U\\xdd\\x15[\\xeb}\"\\xb3\\x11\\xa2\\n\\xd8\\xcdt' and logIndex: 2 encountered the following error during processing: MismatchedABI(The event signature did not match the provided ABI). It has been discarded.\n",
      "  f\"The log with transaction hash: {log['transactionHash']} and \"\n",
      "/home/simone/.local/opt/miniconda3/envs/blockchain/lib/python3.7/site-packages/web3/contract.py:1154: UserWarning: The log with transaction hash: b'\\x81\\x0fz\\xd4d\\xaem|\\xaf\\xb2\\x0c\\xdcmJ\\\\\\x8d\\x10\\x95U\\xdd\\x15[\\xeb}\"\\xb3\\x11\\xa2\\n\\xd8\\xcdt' and logIndex: 3 encountered the following error during processing: MismatchedABI(The event signature did not match the provided ABI). It has been discarded.\n",
      "  f\"The log with transaction hash: {log['transactionHash']} and \"\n",
      "/home/simone/.local/opt/miniconda3/envs/blockchain/lib/python3.7/site-packages/web3/contract.py:1154: UserWarning: The log with transaction hash: b'.\\x1d@l\\xa00\\x06\\xb6\\xf2\\xfc\\xab4n\\xf0\\x9d\\xa0\\xa8?\\x15\\xef\\xbc*D\\xb8a\\x9fR\\x9d\\xfa\\\\\\xa1\\x88' and logIndex: 52 encountered the following error during processing: MismatchedABI(The event signature did not match the provided ABI). It has been discarded.\n",
      "  f\"The log with transaction hash: {log['transactionHash']} and \"\n",
      "/home/simone/.local/opt/miniconda3/envs/blockchain/lib/python3.7/site-packages/web3/contract.py:1154: UserWarning: The log with transaction hash: b'.\\x1d@l\\xa00\\x06\\xb6\\xf2\\xfc\\xab4n\\xf0\\x9d\\xa0\\xa8?\\x15\\xef\\xbc*D\\xb8a\\x9fR\\x9d\\xfa\\\\\\xa1\\x88' and logIndex: 53 encountered the following error during processing: MismatchedABI(The event signature did not match the provided ABI). It has been discarded.\n",
      "  f\"The log with transaction hash: {log['transactionHash']} and \"\n",
      "/home/simone/.local/opt/miniconda3/envs/blockchain/lib/python3.7/site-packages/web3/contract.py:1154: UserWarning: The log with transaction hash: b'.\\x1d@l\\xa00\\x06\\xb6\\xf2\\xfc\\xab4n\\xf0\\x9d\\xa0\\xa8?\\x15\\xef\\xbc*D\\xb8a\\x9fR\\x9d\\xfa\\\\\\xa1\\x88' and logIndex: 54 encountered the following error during processing: MismatchedABI(The event signature did not match the provided ABI). It has been discarded.\n",
      "  f\"The log with transaction hash: {log['transactionHash']} and \"\n"
     ]
    },
    {
     "name": "stderr",
     "output_type": "stream",
     "text": [
      "/home/simone/.local/opt/miniconda3/envs/blockchain/lib/python3.7/site-packages/web3/contract.py:1154: UserWarning: The log with transaction hash: b'\\x1c\\xdd\\x9f\\xf7@\\xf8\\xecLu\\x7fO\\xda\\x97/\\xb6\\xb8\\x1cu=\\xff#\\x9e\\x88\\xfa`\\x93\\x1c\\xbb\\x00\\xc2K\\xea' and logIndex: 1 encountered the following error during processing: MismatchedABI(The event signature did not match the provided ABI). It has been discarded.\n",
      "  f\"The log with transaction hash: {log['transactionHash']} and \"\n",
      "/home/simone/.local/opt/miniconda3/envs/blockchain/lib/python3.7/site-packages/web3/contract.py:1154: UserWarning: The log with transaction hash: b'\\x1c\\xdd\\x9f\\xf7@\\xf8\\xecLu\\x7fO\\xda\\x97/\\xb6\\xb8\\x1cu=\\xff#\\x9e\\x88\\xfa`\\x93\\x1c\\xbb\\x00\\xc2K\\xea' and logIndex: 2 encountered the following error during processing: MismatchedABI(The event signature did not match the provided ABI). It has been discarded.\n",
      "  f\"The log with transaction hash: {log['transactionHash']} and \"\n",
      "/home/simone/.local/opt/miniconda3/envs/blockchain/lib/python3.7/site-packages/web3/contract.py:1154: UserWarning: The log with transaction hash: b'\\x1c\\xdd\\x9f\\xf7@\\xf8\\xecLu\\x7fO\\xda\\x97/\\xb6\\xb8\\x1cu=\\xff#\\x9e\\x88\\xfa`\\x93\\x1c\\xbb\\x00\\xc2K\\xea' and logIndex: 3 encountered the following error during processing: MismatchedABI(The event signature did not match the provided ABI). It has been discarded.\n",
      "  f\"The log with transaction hash: {log['transactionHash']} and \"\n",
      "/home/simone/.local/opt/miniconda3/envs/blockchain/lib/python3.7/site-packages/web3/contract.py:1154: UserWarning: The log with transaction hash: b'\\xd8\\xafp.*\\xdf\\xa7f\\x01\\x93\\xeem\\xd8\\xb8C\\xcf/bF2D^\\x833\\xea\\xcb\\x85i\\xcd\\xb5\\x18(' and logIndex: 0 encountered the following error during processing: MismatchedABI(The event signature did not match the provided ABI). It has been discarded.\n",
      "  f\"The log with transaction hash: {log['transactionHash']} and \"\n",
      "/home/simone/.local/opt/miniconda3/envs/blockchain/lib/python3.7/site-packages/web3/contract.py:1154: UserWarning: The log with transaction hash: b'\\xd8\\xafp.*\\xdf\\xa7f\\x01\\x93\\xeem\\xd8\\xb8C\\xcf/bF2D^\\x833\\xea\\xcb\\x85i\\xcd\\xb5\\x18(' and logIndex: 1 encountered the following error during processing: MismatchedABI(The event signature did not match the provided ABI). It has been discarded.\n",
      "  f\"The log with transaction hash: {log['transactionHash']} and \"\n",
      "/home/simone/.local/opt/miniconda3/envs/blockchain/lib/python3.7/site-packages/web3/contract.py:1154: UserWarning: The log with transaction hash: b'\\xd8\\xafp.*\\xdf\\xa7f\\x01\\x93\\xeem\\xd8\\xb8C\\xcf/bF2D^\\x833\\xea\\xcb\\x85i\\xcd\\xb5\\x18(' and logIndex: 2 encountered the following error during processing: MismatchedABI(The event signature did not match the provided ABI). It has been discarded.\n",
      "  f\"The log with transaction hash: {log['transactionHash']} and \"\n",
      "/home/simone/.local/opt/miniconda3/envs/blockchain/lib/python3.7/site-packages/web3/contract.py:1154: UserWarning: The log with transaction hash: b'Z\\xbc\\x16~\\xaf\\xce;o\\x81\\xf5\\xa8\\xe4\\xaff:2\\x18\\x083\\x8a\\xf23\\xdb\\x17\\xf5\\n,\\xad3\\xb8^=' and logIndex: 2 encountered the following error during processing: MismatchedABI(The event signature did not match the provided ABI). It has been discarded.\n",
      "  f\"The log with transaction hash: {log['transactionHash']} and \"\n",
      "/home/simone/.local/opt/miniconda3/envs/blockchain/lib/python3.7/site-packages/web3/contract.py:1154: UserWarning: The log with transaction hash: b'Z\\xbc\\x16~\\xaf\\xce;o\\x81\\xf5\\xa8\\xe4\\xaff:2\\x18\\x083\\x8a\\xf23\\xdb\\x17\\xf5\\n,\\xad3\\xb8^=' and logIndex: 3 encountered the following error during processing: MismatchedABI(The event signature did not match the provided ABI). It has been discarded.\n",
      "  f\"The log with transaction hash: {log['transactionHash']} and \"\n",
      "/home/simone/.local/opt/miniconda3/envs/blockchain/lib/python3.7/site-packages/web3/contract.py:1154: UserWarning: The log with transaction hash: b'Z\\xbc\\x16~\\xaf\\xce;o\\x81\\xf5\\xa8\\xe4\\xaff:2\\x18\\x083\\x8a\\xf23\\xdb\\x17\\xf5\\n,\\xad3\\xb8^=' and logIndex: 4 encountered the following error during processing: MismatchedABI(The event signature did not match the provided ABI). It has been discarded.\n",
      "  f\"The log with transaction hash: {log['transactionHash']} and \"\n",
      "/home/simone/.local/opt/miniconda3/envs/blockchain/lib/python3.7/site-packages/web3/contract.py:1154: UserWarning: The log with transaction hash: b'_\\xa9\\xe7\\xba\\x82\\xbd-y!\\x86\\xfe\\x81J\\x95v\\xc0(c\\xac\\xb2\\xf6*\\xe7\\xfa\\x144\\xb8\\xc2\\xb6\\x0bJY' and logIndex: 13 encountered the following error during processing: MismatchedABI(The event signature did not match the provided ABI). It has been discarded.\n",
      "  f\"The log with transaction hash: {log['transactionHash']} and \"\n",
      "/home/simone/.local/opt/miniconda3/envs/blockchain/lib/python3.7/site-packages/web3/contract.py:1154: UserWarning: The log with transaction hash: b'_\\xa9\\xe7\\xba\\x82\\xbd-y!\\x86\\xfe\\x81J\\x95v\\xc0(c\\xac\\xb2\\xf6*\\xe7\\xfa\\x144\\xb8\\xc2\\xb6\\x0bJY' and logIndex: 14 encountered the following error during processing: MismatchedABI(The event signature did not match the provided ABI). It has been discarded.\n",
      "  f\"The log with transaction hash: {log['transactionHash']} and \"\n",
      "/home/simone/.local/opt/miniconda3/envs/blockchain/lib/python3.7/site-packages/web3/contract.py:1154: UserWarning: The log with transaction hash: b'_\\xa9\\xe7\\xba\\x82\\xbd-y!\\x86\\xfe\\x81J\\x95v\\xc0(c\\xac\\xb2\\xf6*\\xe7\\xfa\\x144\\xb8\\xc2\\xb6\\x0bJY' and logIndex: 15 encountered the following error during processing: MismatchedABI(The event signature did not match the provided ABI). It has been discarded.\n",
      "  f\"The log with transaction hash: {log['transactionHash']} and \"\n",
      "/home/simone/.local/opt/miniconda3/envs/blockchain/lib/python3.7/site-packages/web3/contract.py:1154: UserWarning: The log with transaction hash: b'\\x13\\xb7f\\xb0\\xa5+x\\xf4=L\\xc6\\xc4\\xd1\\x16S\\xdcWp\\\\,\\x87{\\x91\\xcd\\xfb\\x87\\xe4H\\xa2\\xf3\\x07\\x16' and logIndex: 0 encountered the following error during processing: MismatchedABI(The event signature did not match the provided ABI). It has been discarded.\n",
      "  f\"The log with transaction hash: {log['transactionHash']} and \"\n",
      "/home/simone/.local/opt/miniconda3/envs/blockchain/lib/python3.7/site-packages/web3/contract.py:1154: UserWarning: The log with transaction hash: b'\\x13\\xb7f\\xb0\\xa5+x\\xf4=L\\xc6\\xc4\\xd1\\x16S\\xdcWp\\\\,\\x87{\\x91\\xcd\\xfb\\x87\\xe4H\\xa2\\xf3\\x07\\x16' and logIndex: 1 encountered the following error during processing: MismatchedABI(The event signature did not match the provided ABI). It has been discarded.\n",
      "  f\"The log with transaction hash: {log['transactionHash']} and \"\n",
      "/home/simone/.local/opt/miniconda3/envs/blockchain/lib/python3.7/site-packages/web3/contract.py:1154: UserWarning: The log with transaction hash: b'\\x13\\xb7f\\xb0\\xa5+x\\xf4=L\\xc6\\xc4\\xd1\\x16S\\xdcWp\\\\,\\x87{\\x91\\xcd\\xfb\\x87\\xe4H\\xa2\\xf3\\x07\\x16' and logIndex: 2 encountered the following error during processing: MismatchedABI(The event signature did not match the provided ABI). It has been discarded.\n",
      "  f\"The log with transaction hash: {log['transactionHash']} and \"\n",
      "/home/simone/.local/opt/miniconda3/envs/blockchain/lib/python3.7/site-packages/web3/contract.py:1154: UserWarning: The log with transaction hash: b'\\x0be\\x98\\xc0z\\xfa\\x130i2\\x8e\\xfd\\xfd\\x03i6v\\xfe#\\xda\\xeeL\\xa7 \\xa2\\xc2d\\xdf-WQ\\xc4' and logIndex: 0 encountered the following error during processing: MismatchedABI(The event signature did not match the provided ABI). It has been discarded.\n",
      "  f\"The log with transaction hash: {log['transactionHash']} and \"\n",
      "/home/simone/.local/opt/miniconda3/envs/blockchain/lib/python3.7/site-packages/web3/contract.py:1154: UserWarning: The log with transaction hash: b'\\x0be\\x98\\xc0z\\xfa\\x130i2\\x8e\\xfd\\xfd\\x03i6v\\xfe#\\xda\\xeeL\\xa7 \\xa2\\xc2d\\xdf-WQ\\xc4' and logIndex: 1 encountered the following error during processing: MismatchedABI(The event signature did not match the provided ABI). It has been discarded.\n",
      "  f\"The log with transaction hash: {log['transactionHash']} and \"\n",
      "/home/simone/.local/opt/miniconda3/envs/blockchain/lib/python3.7/site-packages/web3/contract.py:1154: UserWarning: The log with transaction hash: b'\\x0be\\x98\\xc0z\\xfa\\x130i2\\x8e\\xfd\\xfd\\x03i6v\\xfe#\\xda\\xeeL\\xa7 \\xa2\\xc2d\\xdf-WQ\\xc4' and logIndex: 2 encountered the following error during processing: MismatchedABI(The event signature did not match the provided ABI). It has been discarded.\n",
      "  f\"The log with transaction hash: {log['transactionHash']} and \"\n"
     ]
    },
    {
     "name": "stderr",
     "output_type": "stream",
     "text": [
      "/home/simone/.local/opt/miniconda3/envs/blockchain/lib/python3.7/site-packages/web3/contract.py:1154: UserWarning: The log with transaction hash: b'\\xfe\\xf2\\xa2\\xb0\\x9d\\x83\\r:\\xc0M8\\xdez\\xdb\\x926\\x7f\\xd9z\\xb3\\xb6g\\xbaW\\xca\\x04\\xd9\\xed>]\\xc6\\xf9' and logIndex: 0 encountered the following error during processing: MismatchedABI(The event signature did not match the provided ABI). It has been discarded.\n",
      "  f\"The log with transaction hash: {log['transactionHash']} and \"\n",
      "/home/simone/.local/opt/miniconda3/envs/blockchain/lib/python3.7/site-packages/web3/contract.py:1154: UserWarning: The log with transaction hash: b'\\xfe\\xf2\\xa2\\xb0\\x9d\\x83\\r:\\xc0M8\\xdez\\xdb\\x926\\x7f\\xd9z\\xb3\\xb6g\\xbaW\\xca\\x04\\xd9\\xed>]\\xc6\\xf9' and logIndex: 1 encountered the following error during processing: MismatchedABI(The event signature did not match the provided ABI). It has been discarded.\n",
      "  f\"The log with transaction hash: {log['transactionHash']} and \"\n",
      "/home/simone/.local/opt/miniconda3/envs/blockchain/lib/python3.7/site-packages/web3/contract.py:1154: UserWarning: The log with transaction hash: b'\\xfe\\xf2\\xa2\\xb0\\x9d\\x83\\r:\\xc0M8\\xdez\\xdb\\x926\\x7f\\xd9z\\xb3\\xb6g\\xbaW\\xca\\x04\\xd9\\xed>]\\xc6\\xf9' and logIndex: 2 encountered the following error during processing: MismatchedABI(The event signature did not match the provided ABI). It has been discarded.\n",
      "  f\"The log with transaction hash: {log['transactionHash']} and \"\n",
      "/home/simone/.local/opt/miniconda3/envs/blockchain/lib/python3.7/site-packages/web3/contract.py:1154: UserWarning: The log with transaction hash: b'\\xa1\\xebP\\x87)\\xbb\\tW\"\\x81\\x10\\x16\\xec\\x05|\\xbe-I\\xa9\\xf1yvAug\\xbf\\xb2\\x88\\x02\\x8b\\xbb\\x0e' and logIndex: 6 encountered the following error during processing: MismatchedABI(The event signature did not match the provided ABI). It has been discarded.\n",
      "  f\"The log with transaction hash: {log['transactionHash']} and \"\n",
      "/home/simone/.local/opt/miniconda3/envs/blockchain/lib/python3.7/site-packages/web3/contract.py:1154: UserWarning: The log with transaction hash: b'\\xa1\\xebP\\x87)\\xbb\\tW\"\\x81\\x10\\x16\\xec\\x05|\\xbe-I\\xa9\\xf1yvAug\\xbf\\xb2\\x88\\x02\\x8b\\xbb\\x0e' and logIndex: 7 encountered the following error during processing: MismatchedABI(The event signature did not match the provided ABI). It has been discarded.\n",
      "  f\"The log with transaction hash: {log['transactionHash']} and \"\n",
      "/home/simone/.local/opt/miniconda3/envs/blockchain/lib/python3.7/site-packages/web3/contract.py:1154: UserWarning: The log with transaction hash: b'\\xa1\\xebP\\x87)\\xbb\\tW\"\\x81\\x10\\x16\\xec\\x05|\\xbe-I\\xa9\\xf1yvAug\\xbf\\xb2\\x88\\x02\\x8b\\xbb\\x0e' and logIndex: 8 encountered the following error during processing: MismatchedABI(The event signature did not match the provided ABI). It has been discarded.\n",
      "  f\"The log with transaction hash: {log['transactionHash']} and \"\n",
      "/home/simone/.local/opt/miniconda3/envs/blockchain/lib/python3.7/site-packages/web3/contract.py:1154: UserWarning: The log with transaction hash: b'\\xf3\\x17\\xb88M\\x92\\x0c\\xf4\\x8cX\\x0fu\\xb5\\xb8\\x83\\x9a\\x8d9\\xab\\xf1vC\\xb4\\xd1\\xd7\\xb8=\\x06&\\xf7\\x9c\\x9c' and logIndex: 0 encountered the following error during processing: MismatchedABI(The event signature did not match the provided ABI). It has been discarded.\n",
      "  f\"The log with transaction hash: {log['transactionHash']} and \"\n",
      "/home/simone/.local/opt/miniconda3/envs/blockchain/lib/python3.7/site-packages/web3/contract.py:1154: UserWarning: The log with transaction hash: b'\\xf3\\x17\\xb88M\\x92\\x0c\\xf4\\x8cX\\x0fu\\xb5\\xb8\\x83\\x9a\\x8d9\\xab\\xf1vC\\xb4\\xd1\\xd7\\xb8=\\x06&\\xf7\\x9c\\x9c' and logIndex: 1 encountered the following error during processing: MismatchedABI(The event signature did not match the provided ABI). It has been discarded.\n",
      "  f\"The log with transaction hash: {log['transactionHash']} and \"\n",
      "/home/simone/.local/opt/miniconda3/envs/blockchain/lib/python3.7/site-packages/web3/contract.py:1154: UserWarning: The log with transaction hash: b'\\xf3\\x17\\xb88M\\x92\\x0c\\xf4\\x8cX\\x0fu\\xb5\\xb8\\x83\\x9a\\x8d9\\xab\\xf1vC\\xb4\\xd1\\xd7\\xb8=\\x06&\\xf7\\x9c\\x9c' and logIndex: 2 encountered the following error during processing: MismatchedABI(The event signature did not match the provided ABI). It has been discarded.\n",
      "  f\"The log with transaction hash: {log['transactionHash']} and \"\n",
      "/home/simone/.local/opt/miniconda3/envs/blockchain/lib/python3.7/site-packages/web3/contract.py:1154: UserWarning: The log with transaction hash: b'\\xd9\\xb7{)\\xce\\xbb\\xaah\\xb4Y}\\xbb\\xdb)\\xbe\\x9e\\xb47n~X;1%t\\x90-\\x92\\x1a\\xdd}\\x97' and logIndex: 0 encountered the following error during processing: MismatchedABI(The event signature did not match the provided ABI). It has been discarded.\n",
      "  f\"The log with transaction hash: {log['transactionHash']} and \"\n",
      "/home/simone/.local/opt/miniconda3/envs/blockchain/lib/python3.7/site-packages/web3/contract.py:1154: UserWarning: The log with transaction hash: b'\\xd9\\xb7{)\\xce\\xbb\\xaah\\xb4Y}\\xbb\\xdb)\\xbe\\x9e\\xb47n~X;1%t\\x90-\\x92\\x1a\\xdd}\\x97' and logIndex: 1 encountered the following error during processing: MismatchedABI(The event signature did not match the provided ABI). It has been discarded.\n",
      "  f\"The log with transaction hash: {log['transactionHash']} and \"\n",
      "/home/simone/.local/opt/miniconda3/envs/blockchain/lib/python3.7/site-packages/web3/contract.py:1154: UserWarning: The log with transaction hash: b'\\xd9\\xb7{)\\xce\\xbb\\xaah\\xb4Y}\\xbb\\xdb)\\xbe\\x9e\\xb47n~X;1%t\\x90-\\x92\\x1a\\xdd}\\x97' and logIndex: 2 encountered the following error during processing: MismatchedABI(The event signature did not match the provided ABI). It has been discarded.\n",
      "  f\"The log with transaction hash: {log['transactionHash']} and \"\n",
      "/home/simone/.local/opt/miniconda3/envs/blockchain/lib/python3.7/site-packages/web3/contract.py:1154: UserWarning: The log with transaction hash: b'\\xb7\\xf9\"\\xc9\\x81\\xe4J\\x986\\x87Um\\xda\\xadG\\x13Q[\\x08\\x99Gr\\xb6\\xef\\xd1\\x9d\\x1d\\t\\x11|\\xc3a' and logIndex: 0 encountered the following error during processing: MismatchedABI(The event signature did not match the provided ABI). It has been discarded.\n",
      "  f\"The log with transaction hash: {log['transactionHash']} and \"\n",
      "/home/simone/.local/opt/miniconda3/envs/blockchain/lib/python3.7/site-packages/web3/contract.py:1154: UserWarning: The log with transaction hash: b'\\xb7\\xf9\"\\xc9\\x81\\xe4J\\x986\\x87Um\\xda\\xadG\\x13Q[\\x08\\x99Gr\\xb6\\xef\\xd1\\x9d\\x1d\\t\\x11|\\xc3a' and logIndex: 1 encountered the following error during processing: MismatchedABI(The event signature did not match the provided ABI). It has been discarded.\n",
      "  f\"The log with transaction hash: {log['transactionHash']} and \"\n",
      "/home/simone/.local/opt/miniconda3/envs/blockchain/lib/python3.7/site-packages/web3/contract.py:1154: UserWarning: The log with transaction hash: b'\\xb7\\xf9\"\\xc9\\x81\\xe4J\\x986\\x87Um\\xda\\xadG\\x13Q[\\x08\\x99Gr\\xb6\\xef\\xd1\\x9d\\x1d\\t\\x11|\\xc3a' and logIndex: 2 encountered the following error during processing: MismatchedABI(The event signature did not match the provided ABI). It has been discarded.\n",
      "  f\"The log with transaction hash: {log['transactionHash']} and \"\n",
      "/home/simone/.local/opt/miniconda3/envs/blockchain/lib/python3.7/site-packages/web3/contract.py:1154: UserWarning: The log with transaction hash: b'Pq\\xc4\\xa1\\x13 \\x1b\\xd1dS;\\xce\\x05\\xfd\\xfe{\\xb1\\xce\\x11N\\xb0\\x15?\\xc8P\\xa4\\x89\\x8bq%l\\xc0' and logIndex: 0 encountered the following error during processing: MismatchedABI(The event signature did not match the provided ABI). It has been discarded.\n",
      "  f\"The log with transaction hash: {log['transactionHash']} and \"\n",
      "/home/simone/.local/opt/miniconda3/envs/blockchain/lib/python3.7/site-packages/web3/contract.py:1154: UserWarning: The log with transaction hash: b'Pq\\xc4\\xa1\\x13 \\x1b\\xd1dS;\\xce\\x05\\xfd\\xfe{\\xb1\\xce\\x11N\\xb0\\x15?\\xc8P\\xa4\\x89\\x8bq%l\\xc0' and logIndex: 1 encountered the following error during processing: MismatchedABI(The event signature did not match the provided ABI). It has been discarded.\n",
      "  f\"The log with transaction hash: {log['transactionHash']} and \"\n",
      "/home/simone/.local/opt/miniconda3/envs/blockchain/lib/python3.7/site-packages/web3/contract.py:1154: UserWarning: The log with transaction hash: b'Pq\\xc4\\xa1\\x13 \\x1b\\xd1dS;\\xce\\x05\\xfd\\xfe{\\xb1\\xce\\x11N\\xb0\\x15?\\xc8P\\xa4\\x89\\x8bq%l\\xc0' and logIndex: 2 encountered the following error during processing: MismatchedABI(The event signature did not match the provided ABI). It has been discarded.\n",
      "  f\"The log with transaction hash: {log['transactionHash']} and \"\n"
     ]
    },
    {
     "name": "stderr",
     "output_type": "stream",
     "text": [
      "/home/simone/.local/opt/miniconda3/envs/blockchain/lib/python3.7/site-packages/web3/contract.py:1154: UserWarning: The log with transaction hash: b'>\\xfbO\\x9d\\xa1w\\xc3\\xab\\x05\\xa1\\x85\\\\\\xa8^\\xaaZ\\x8aQ\\xe1\\xd8!\\xe5\\x1e\\xe9s\\xe7i~\\x0e_q\\xf6' and logIndex: 0 encountered the following error during processing: MismatchedABI(The event signature did not match the provided ABI). It has been discarded.\n",
      "  f\"The log with transaction hash: {log['transactionHash']} and \"\n",
      "/home/simone/.local/opt/miniconda3/envs/blockchain/lib/python3.7/site-packages/web3/contract.py:1154: UserWarning: The log with transaction hash: b'>\\xfbO\\x9d\\xa1w\\xc3\\xab\\x05\\xa1\\x85\\\\\\xa8^\\xaaZ\\x8aQ\\xe1\\xd8!\\xe5\\x1e\\xe9s\\xe7i~\\x0e_q\\xf6' and logIndex: 1 encountered the following error during processing: MismatchedABI(The event signature did not match the provided ABI). It has been discarded.\n",
      "  f\"The log with transaction hash: {log['transactionHash']} and \"\n",
      "/home/simone/.local/opt/miniconda3/envs/blockchain/lib/python3.7/site-packages/web3/contract.py:1154: UserWarning: The log with transaction hash: b'>\\xfbO\\x9d\\xa1w\\xc3\\xab\\x05\\xa1\\x85\\\\\\xa8^\\xaaZ\\x8aQ\\xe1\\xd8!\\xe5\\x1e\\xe9s\\xe7i~\\x0e_q\\xf6' and logIndex: 2 encountered the following error during processing: MismatchedABI(The event signature did not match the provided ABI). It has been discarded.\n",
      "  f\"The log with transaction hash: {log['transactionHash']} and \"\n",
      "/home/simone/.local/opt/miniconda3/envs/blockchain/lib/python3.7/site-packages/web3/contract.py:1154: UserWarning: The log with transaction hash: b\"\\x15\\xc0\\xce\\x10k\\xaf\\x02\\xac\\xc0t\\x15\\xc1\\xe5\\xebg\\xcd\\x8c2\\x90\\xdd\\xfa;)\\x02(h'\\xd5HM7\\xdd\" and logIndex: 1 encountered the following error during processing: MismatchedABI(The event signature did not match the provided ABI). It has been discarded.\n",
      "  f\"The log with transaction hash: {log['transactionHash']} and \"\n",
      "/home/simone/.local/opt/miniconda3/envs/blockchain/lib/python3.7/site-packages/web3/contract.py:1154: UserWarning: The log with transaction hash: b\"\\x15\\xc0\\xce\\x10k\\xaf\\x02\\xac\\xc0t\\x15\\xc1\\xe5\\xebg\\xcd\\x8c2\\x90\\xdd\\xfa;)\\x02(h'\\xd5HM7\\xdd\" and logIndex: 2 encountered the following error during processing: MismatchedABI(The event signature did not match the provided ABI). It has been discarded.\n",
      "  f\"The log with transaction hash: {log['transactionHash']} and \"\n",
      "/home/simone/.local/opt/miniconda3/envs/blockchain/lib/python3.7/site-packages/web3/contract.py:1154: UserWarning: The log with transaction hash: b\"\\x15\\xc0\\xce\\x10k\\xaf\\x02\\xac\\xc0t\\x15\\xc1\\xe5\\xebg\\xcd\\x8c2\\x90\\xdd\\xfa;)\\x02(h'\\xd5HM7\\xdd\" and logIndex: 3 encountered the following error during processing: MismatchedABI(The event signature did not match the provided ABI). It has been discarded.\n",
      "  f\"The log with transaction hash: {log['transactionHash']} and \"\n",
      "/home/simone/.local/opt/miniconda3/envs/blockchain/lib/python3.7/site-packages/web3/contract.py:1154: UserWarning: The log with transaction hash: b\"\\x99\\xc2D\\t\\xf1\\x18\\xbb\\xbd\\xa2'\\xc8/\\x9bgt\\x85\\n\\x08\\xc09\\x18\\x1b\\x87\\x16:\\xf2(\\xdc\\x88\\xdf\\xeb%\" and logIndex: 0 encountered the following error during processing: MismatchedABI(The event signature did not match the provided ABI). It has been discarded.\n",
      "  f\"The log with transaction hash: {log['transactionHash']} and \"\n",
      "/home/simone/.local/opt/miniconda3/envs/blockchain/lib/python3.7/site-packages/web3/contract.py:1154: UserWarning: The log with transaction hash: b\"\\x99\\xc2D\\t\\xf1\\x18\\xbb\\xbd\\xa2'\\xc8/\\x9bgt\\x85\\n\\x08\\xc09\\x18\\x1b\\x87\\x16:\\xf2(\\xdc\\x88\\xdf\\xeb%\" and logIndex: 1 encountered the following error during processing: MismatchedABI(The event signature did not match the provided ABI). It has been discarded.\n",
      "  f\"The log with transaction hash: {log['transactionHash']} and \"\n",
      "/home/simone/.local/opt/miniconda3/envs/blockchain/lib/python3.7/site-packages/web3/contract.py:1154: UserWarning: The log with transaction hash: b\"\\x99\\xc2D\\t\\xf1\\x18\\xbb\\xbd\\xa2'\\xc8/\\x9bgt\\x85\\n\\x08\\xc09\\x18\\x1b\\x87\\x16:\\xf2(\\xdc\\x88\\xdf\\xeb%\" and logIndex: 2 encountered the following error during processing: MismatchedABI(The event signature did not match the provided ABI). It has been discarded.\n",
      "  f\"The log with transaction hash: {log['transactionHash']} and \"\n",
      "/home/simone/.local/opt/miniconda3/envs/blockchain/lib/python3.7/site-packages/web3/contract.py:1154: UserWarning: The log with transaction hash: b'fG\\xcd\\x9bE\\xd2Z\\x88\\xb4>}\\x1e\\x80Dm\\xa3\\xc9\\x9fW\\xd7\\x9e1\\x80k\\xfe\\x1d\\xb0u\\xfe\\xf7\\x91\\x1f' and logIndex: 3 encountered the following error during processing: MismatchedABI(The event signature did not match the provided ABI). It has been discarded.\n",
      "  f\"The log with transaction hash: {log['transactionHash']} and \"\n",
      "/home/simone/.local/opt/miniconda3/envs/blockchain/lib/python3.7/site-packages/web3/contract.py:1154: UserWarning: The log with transaction hash: b'fG\\xcd\\x9bE\\xd2Z\\x88\\xb4>}\\x1e\\x80Dm\\xa3\\xc9\\x9fW\\xd7\\x9e1\\x80k\\xfe\\x1d\\xb0u\\xfe\\xf7\\x91\\x1f' and logIndex: 4 encountered the following error during processing: MismatchedABI(The event signature did not match the provided ABI). It has been discarded.\n",
      "  f\"The log with transaction hash: {log['transactionHash']} and \"\n",
      "/home/simone/.local/opt/miniconda3/envs/blockchain/lib/python3.7/site-packages/web3/contract.py:1154: UserWarning: The log with transaction hash: b'fG\\xcd\\x9bE\\xd2Z\\x88\\xb4>}\\x1e\\x80Dm\\xa3\\xc9\\x9fW\\xd7\\x9e1\\x80k\\xfe\\x1d\\xb0u\\xfe\\xf7\\x91\\x1f' and logIndex: 5 encountered the following error during processing: MismatchedABI(The event signature did not match the provided ABI). It has been discarded.\n",
      "  f\"The log with transaction hash: {log['transactionHash']} and \"\n",
      "/home/simone/.local/opt/miniconda3/envs/blockchain/lib/python3.7/site-packages/web3/contract.py:1154: UserWarning: The log with transaction hash: b'\\xa4l\\xfb\\x06\\x1fEz\\xf5\\xf9\\x1b\\xdf\\xe7\\xcfV\\x0e)1z.7\\xc6\\xc6\\x04\\x05z\\xdb\\x0e\\xe4\\x03z\\x0ed' and logIndex: 0 encountered the following error during processing: MismatchedABI(The event signature did not match the provided ABI). It has been discarded.\n",
      "  f\"The log with transaction hash: {log['transactionHash']} and \"\n",
      "/home/simone/.local/opt/miniconda3/envs/blockchain/lib/python3.7/site-packages/web3/contract.py:1154: UserWarning: The log with transaction hash: b'\\xa4l\\xfb\\x06\\x1fEz\\xf5\\xf9\\x1b\\xdf\\xe7\\xcfV\\x0e)1z.7\\xc6\\xc6\\x04\\x05z\\xdb\\x0e\\xe4\\x03z\\x0ed' and logIndex: 1 encountered the following error during processing: MismatchedABI(The event signature did not match the provided ABI). It has been discarded.\n",
      "  f\"The log with transaction hash: {log['transactionHash']} and \"\n",
      "/home/simone/.local/opt/miniconda3/envs/blockchain/lib/python3.7/site-packages/web3/contract.py:1154: UserWarning: The log with transaction hash: b'\\xa4l\\xfb\\x06\\x1fEz\\xf5\\xf9\\x1b\\xdf\\xe7\\xcfV\\x0e)1z.7\\xc6\\xc6\\x04\\x05z\\xdb\\x0e\\xe4\\x03z\\x0ed' and logIndex: 2 encountered the following error during processing: MismatchedABI(The event signature did not match the provided ABI). It has been discarded.\n",
      "  f\"The log with transaction hash: {log['transactionHash']} and \"\n",
      "/home/simone/.local/opt/miniconda3/envs/blockchain/lib/python3.7/site-packages/web3/contract.py:1154: UserWarning: The log with transaction hash: b\"SO\\xe7\\x80\\x9e!_^\\x8dVD\\xf6\\xa5P\\xdaAfn'\\x97,\\x98\\xca2\\x7fq\\xcc\\x12x\\x9e~\\x84\" and logIndex: 0 encountered the following error during processing: MismatchedABI(The event signature did not match the provided ABI). It has been discarded.\n",
      "  f\"The log with transaction hash: {log['transactionHash']} and \"\n",
      "/home/simone/.local/opt/miniconda3/envs/blockchain/lib/python3.7/site-packages/web3/contract.py:1154: UserWarning: The log with transaction hash: b\"SO\\xe7\\x80\\x9e!_^\\x8dVD\\xf6\\xa5P\\xdaAfn'\\x97,\\x98\\xca2\\x7fq\\xcc\\x12x\\x9e~\\x84\" and logIndex: 1 encountered the following error during processing: MismatchedABI(The event signature did not match the provided ABI). It has been discarded.\n",
      "  f\"The log with transaction hash: {log['transactionHash']} and \"\n",
      "/home/simone/.local/opt/miniconda3/envs/blockchain/lib/python3.7/site-packages/web3/contract.py:1154: UserWarning: The log with transaction hash: b\"SO\\xe7\\x80\\x9e!_^\\x8dVD\\xf6\\xa5P\\xdaAfn'\\x97,\\x98\\xca2\\x7fq\\xcc\\x12x\\x9e~\\x84\" and logIndex: 2 encountered the following error during processing: MismatchedABI(The event signature did not match the provided ABI). It has been discarded.\n",
      "  f\"The log with transaction hash: {log['transactionHash']} and \"\n"
     ]
    },
    {
     "name": "stderr",
     "output_type": "stream",
     "text": [
      "/home/simone/.local/opt/miniconda3/envs/blockchain/lib/python3.7/site-packages/web3/contract.py:1154: UserWarning: The log with transaction hash: b'VO7\\xc2\\xbd>~\\x8e\\x16\\xb9\\xa9\\xf5\\xd8\\xde>8\\xc4|\\xad\\xeb\\x0e\\x0b\\x83\\xfc\\xd9l\\xc0\\xae\\x1e\\x19C\\xa1' and logIndex: 0 encountered the following error during processing: MismatchedABI(The event signature did not match the provided ABI). It has been discarded.\n",
      "  f\"The log with transaction hash: {log['transactionHash']} and \"\n",
      "/home/simone/.local/opt/miniconda3/envs/blockchain/lib/python3.7/site-packages/web3/contract.py:1154: UserWarning: The log with transaction hash: b'VO7\\xc2\\xbd>~\\x8e\\x16\\xb9\\xa9\\xf5\\xd8\\xde>8\\xc4|\\xad\\xeb\\x0e\\x0b\\x83\\xfc\\xd9l\\xc0\\xae\\x1e\\x19C\\xa1' and logIndex: 1 encountered the following error during processing: MismatchedABI(The event signature did not match the provided ABI). It has been discarded.\n",
      "  f\"The log with transaction hash: {log['transactionHash']} and \"\n",
      "/home/simone/.local/opt/miniconda3/envs/blockchain/lib/python3.7/site-packages/web3/contract.py:1154: UserWarning: The log with transaction hash: b'VO7\\xc2\\xbd>~\\x8e\\x16\\xb9\\xa9\\xf5\\xd8\\xde>8\\xc4|\\xad\\xeb\\x0e\\x0b\\x83\\xfc\\xd9l\\xc0\\xae\\x1e\\x19C\\xa1' and logIndex: 2 encountered the following error during processing: MismatchedABI(The event signature did not match the provided ABI). It has been discarded.\n",
      "  f\"The log with transaction hash: {log['transactionHash']} and \"\n",
      "/home/simone/.local/opt/miniconda3/envs/blockchain/lib/python3.7/site-packages/web3/contract.py:1154: UserWarning: The log with transaction hash: b'(\\xb9\\xd8\\x92\\xde|\\xc8U\\xa6\\xdcdL\\xbbgC\\xdc9\\x88\\x03\\xe5\\x01\\x8f^j\\xf6\\xc4\\xb7\\x97\\xce\\x90\\xaa\\x7f' and logIndex: 0 encountered the following error during processing: MismatchedABI(The event signature did not match the provided ABI). It has been discarded.\n",
      "  f\"The log with transaction hash: {log['transactionHash']} and \"\n",
      "/home/simone/.local/opt/miniconda3/envs/blockchain/lib/python3.7/site-packages/web3/contract.py:1154: UserWarning: The log with transaction hash: b'(\\xb9\\xd8\\x92\\xde|\\xc8U\\xa6\\xdcdL\\xbbgC\\xdc9\\x88\\x03\\xe5\\x01\\x8f^j\\xf6\\xc4\\xb7\\x97\\xce\\x90\\xaa\\x7f' and logIndex: 1 encountered the following error during processing: MismatchedABI(The event signature did not match the provided ABI). It has been discarded.\n",
      "  f\"The log with transaction hash: {log['transactionHash']} and \"\n",
      "/home/simone/.local/opt/miniconda3/envs/blockchain/lib/python3.7/site-packages/web3/contract.py:1154: UserWarning: The log with transaction hash: b'(\\xb9\\xd8\\x92\\xde|\\xc8U\\xa6\\xdcdL\\xbbgC\\xdc9\\x88\\x03\\xe5\\x01\\x8f^j\\xf6\\xc4\\xb7\\x97\\xce\\x90\\xaa\\x7f' and logIndex: 2 encountered the following error during processing: MismatchedABI(The event signature did not match the provided ABI). It has been discarded.\n",
      "  f\"The log with transaction hash: {log['transactionHash']} and \"\n",
      "/home/simone/.local/opt/miniconda3/envs/blockchain/lib/python3.7/site-packages/web3/contract.py:1154: UserWarning: The log with transaction hash: b'5\\x99\\x0f\\x9a\\x8e.t/]C\\xe6\\x96\\x14\\xe3\\xbc\\xfa\\x0cR2\\x81Hs\\xea\\xa8\\xa4\\xde\\x93\\x03\\x14X\\xabS' and logIndex: 0 encountered the following error during processing: MismatchedABI(The event signature did not match the provided ABI). It has been discarded.\n",
      "  f\"The log with transaction hash: {log['transactionHash']} and \"\n",
      "/home/simone/.local/opt/miniconda3/envs/blockchain/lib/python3.7/site-packages/web3/contract.py:1154: UserWarning: The log with transaction hash: b'5\\x99\\x0f\\x9a\\x8e.t/]C\\xe6\\x96\\x14\\xe3\\xbc\\xfa\\x0cR2\\x81Hs\\xea\\xa8\\xa4\\xde\\x93\\x03\\x14X\\xabS' and logIndex: 1 encountered the following error during processing: MismatchedABI(The event signature did not match the provided ABI). It has been discarded.\n",
      "  f\"The log with transaction hash: {log['transactionHash']} and \"\n",
      "/home/simone/.local/opt/miniconda3/envs/blockchain/lib/python3.7/site-packages/web3/contract.py:1154: UserWarning: The log with transaction hash: b'5\\x99\\x0f\\x9a\\x8e.t/]C\\xe6\\x96\\x14\\xe3\\xbc\\xfa\\x0cR2\\x81Hs\\xea\\xa8\\xa4\\xde\\x93\\x03\\x14X\\xabS' and logIndex: 2 encountered the following error during processing: MismatchedABI(The event signature did not match the provided ABI). It has been discarded.\n",
      "  f\"The log with transaction hash: {log['transactionHash']} and \"\n",
      "/home/simone/.local/opt/miniconda3/envs/blockchain/lib/python3.7/site-packages/web3/contract.py:1154: UserWarning: The log with transaction hash: b'\\xcd\\x89\\r\\x03\\x19\\x8c\\x18\\xd7\\xe0\\xc0\\xb5\\xadh{\\xb3>\\x9c\\x87\\xa1E]a\\xe2\"\\x02W\\x86\\xd6T\\xd3s\\xb0' and logIndex: 0 encountered the following error during processing: MismatchedABI(The event signature did not match the provided ABI). It has been discarded.\n",
      "  f\"The log with transaction hash: {log['transactionHash']} and \"\n",
      "/home/simone/.local/opt/miniconda3/envs/blockchain/lib/python3.7/site-packages/web3/contract.py:1154: UserWarning: The log with transaction hash: b'\\xcd\\x89\\r\\x03\\x19\\x8c\\x18\\xd7\\xe0\\xc0\\xb5\\xadh{\\xb3>\\x9c\\x87\\xa1E]a\\xe2\"\\x02W\\x86\\xd6T\\xd3s\\xb0' and logIndex: 1 encountered the following error during processing: MismatchedABI(The event signature did not match the provided ABI). It has been discarded.\n",
      "  f\"The log with transaction hash: {log['transactionHash']} and \"\n",
      "/home/simone/.local/opt/miniconda3/envs/blockchain/lib/python3.7/site-packages/web3/contract.py:1154: UserWarning: The log with transaction hash: b'\\xcd\\x89\\r\\x03\\x19\\x8c\\x18\\xd7\\xe0\\xc0\\xb5\\xadh{\\xb3>\\x9c\\x87\\xa1E]a\\xe2\"\\x02W\\x86\\xd6T\\xd3s\\xb0' and logIndex: 2 encountered the following error during processing: MismatchedABI(The event signature did not match the provided ABI). It has been discarded.\n",
      "  f\"The log with transaction hash: {log['transactionHash']} and \"\n",
      "/home/simone/.local/opt/miniconda3/envs/blockchain/lib/python3.7/site-packages/web3/contract.py:1154: UserWarning: The log with transaction hash: b'\\x92\\xfe|2\\xcbZ\\xff\\xaa\\xd2\\x9c\\x18~\\xd9\\x1b\\x02\\x05\\x93,c>r\\xa6m\\x9c\\x174\\xca\\xba\\xf2\\xeeY\\x00' and logIndex: 0 encountered the following error during processing: MismatchedABI(The event signature did not match the provided ABI). It has been discarded.\n",
      "  f\"The log with transaction hash: {log['transactionHash']} and \"\n",
      "/home/simone/.local/opt/miniconda3/envs/blockchain/lib/python3.7/site-packages/web3/contract.py:1154: UserWarning: The log with transaction hash: b'\\x92\\xfe|2\\xcbZ\\xff\\xaa\\xd2\\x9c\\x18~\\xd9\\x1b\\x02\\x05\\x93,c>r\\xa6m\\x9c\\x174\\xca\\xba\\xf2\\xeeY\\x00' and logIndex: 1 encountered the following error during processing: MismatchedABI(The event signature did not match the provided ABI). It has been discarded.\n",
      "  f\"The log with transaction hash: {log['transactionHash']} and \"\n",
      "/home/simone/.local/opt/miniconda3/envs/blockchain/lib/python3.7/site-packages/web3/contract.py:1154: UserWarning: The log with transaction hash: b'\\x92\\xfe|2\\xcbZ\\xff\\xaa\\xd2\\x9c\\x18~\\xd9\\x1b\\x02\\x05\\x93,c>r\\xa6m\\x9c\\x174\\xca\\xba\\xf2\\xeeY\\x00' and logIndex: 2 encountered the following error during processing: MismatchedABI(The event signature did not match the provided ABI). It has been discarded.\n",
      "  f\"The log with transaction hash: {log['transactionHash']} and \"\n",
      "/home/simone/.local/opt/miniconda3/envs/blockchain/lib/python3.7/site-packages/web3/contract.py:1154: UserWarning: The log with transaction hash: b\"H\\xcdQ\\x9e\\xfdd\\xe3a\\x86EV\\xba^\\xc2\\x96\\x9avZtky\\x18',\\x01\\x13\\xeeISL$\\x92\" and logIndex: 6 encountered the following error during processing: MismatchedABI(The event signature did not match the provided ABI). It has been discarded.\n",
      "  f\"The log with transaction hash: {log['transactionHash']} and \"\n",
      "/home/simone/.local/opt/miniconda3/envs/blockchain/lib/python3.7/site-packages/web3/contract.py:1154: UserWarning: The log with transaction hash: b\"H\\xcdQ\\x9e\\xfdd\\xe3a\\x86EV\\xba^\\xc2\\x96\\x9avZtky\\x18',\\x01\\x13\\xeeISL$\\x92\" and logIndex: 7 encountered the following error during processing: MismatchedABI(The event signature did not match the provided ABI). It has been discarded.\n",
      "  f\"The log with transaction hash: {log['transactionHash']} and \"\n",
      "/home/simone/.local/opt/miniconda3/envs/blockchain/lib/python3.7/site-packages/web3/contract.py:1154: UserWarning: The log with transaction hash: b\"H\\xcdQ\\x9e\\xfdd\\xe3a\\x86EV\\xba^\\xc2\\x96\\x9avZtky\\x18',\\x01\\x13\\xeeISL$\\x92\" and logIndex: 8 encountered the following error during processing: MismatchedABI(The event signature did not match the provided ABI). It has been discarded.\n",
      "  f\"The log with transaction hash: {log['transactionHash']} and \"\n"
     ]
    },
    {
     "name": "stderr",
     "output_type": "stream",
     "text": [
      "/home/simone/.local/opt/miniconda3/envs/blockchain/lib/python3.7/site-packages/web3/contract.py:1154: UserWarning: The log with transaction hash: b'\\x89\\x84\\x12\\x0e(\\r\\xcd\\x0b\\xfd\\xe1d\\xc3ak\\xf5\\x8a\\xb1\\xea2\\xe9\\xa0\\x86=2\\x11pB\\xd4\\xf17\\x89\\xbb' and logIndex: 1 encountered the following error during processing: MismatchedABI(The event signature did not match the provided ABI). It has been discarded.\n",
      "  f\"The log with transaction hash: {log['transactionHash']} and \"\n",
      "/home/simone/.local/opt/miniconda3/envs/blockchain/lib/python3.7/site-packages/web3/contract.py:1154: UserWarning: The log with transaction hash: b'\\x89\\x84\\x12\\x0e(\\r\\xcd\\x0b\\xfd\\xe1d\\xc3ak\\xf5\\x8a\\xb1\\xea2\\xe9\\xa0\\x86=2\\x11pB\\xd4\\xf17\\x89\\xbb' and logIndex: 2 encountered the following error during processing: MismatchedABI(The event signature did not match the provided ABI). It has been discarded.\n",
      "  f\"The log with transaction hash: {log['transactionHash']} and \"\n",
      "/home/simone/.local/opt/miniconda3/envs/blockchain/lib/python3.7/site-packages/web3/contract.py:1154: UserWarning: The log with transaction hash: b'\\x89\\x84\\x12\\x0e(\\r\\xcd\\x0b\\xfd\\xe1d\\xc3ak\\xf5\\x8a\\xb1\\xea2\\xe9\\xa0\\x86=2\\x11pB\\xd4\\xf17\\x89\\xbb' and logIndex: 3 encountered the following error during processing: MismatchedABI(The event signature did not match the provided ABI). It has been discarded.\n",
      "  f\"The log with transaction hash: {log['transactionHash']} and \"\n",
      "/home/simone/.local/opt/miniconda3/envs/blockchain/lib/python3.7/site-packages/web3/contract.py:1154: UserWarning: The log with transaction hash: b'\\xb6;Z\\xbf\\x0cp\\x91\\x02\\x9b\\r\\xf7\\x1e\\x94\\x12\\xe1\\xbd\\xe2\\xae\\x99~\\xab\\xf2\\x89\\xf8\\x99i\\xe9;F\\xeb\\x00Q' and logIndex: 1 encountered the following error during processing: MismatchedABI(The event signature did not match the provided ABI). It has been discarded.\n",
      "  f\"The log with transaction hash: {log['transactionHash']} and \"\n",
      "/home/simone/.local/opt/miniconda3/envs/blockchain/lib/python3.7/site-packages/web3/contract.py:1154: UserWarning: The log with transaction hash: b'\\xb6;Z\\xbf\\x0cp\\x91\\x02\\x9b\\r\\xf7\\x1e\\x94\\x12\\xe1\\xbd\\xe2\\xae\\x99~\\xab\\xf2\\x89\\xf8\\x99i\\xe9;F\\xeb\\x00Q' and logIndex: 2 encountered the following error during processing: MismatchedABI(The event signature did not match the provided ABI). It has been discarded.\n",
      "  f\"The log with transaction hash: {log['transactionHash']} and \"\n",
      "/home/simone/.local/opt/miniconda3/envs/blockchain/lib/python3.7/site-packages/web3/contract.py:1154: UserWarning: The log with transaction hash: b'\\xb6;Z\\xbf\\x0cp\\x91\\x02\\x9b\\r\\xf7\\x1e\\x94\\x12\\xe1\\xbd\\xe2\\xae\\x99~\\xab\\xf2\\x89\\xf8\\x99i\\xe9;F\\xeb\\x00Q' and logIndex: 3 encountered the following error during processing: MismatchedABI(The event signature did not match the provided ABI). It has been discarded.\n",
      "  f\"The log with transaction hash: {log['transactionHash']} and \"\n",
      "/home/simone/.local/opt/miniconda3/envs/blockchain/lib/python3.7/site-packages/web3/contract.py:1154: UserWarning: The log with transaction hash: b'\\x16\\xee*\\x1d\\xad\\xe8\\xfa\\x0bi\\x01\\x9c\\x13\\xfc\\xabZ\\xab\\x84z\\xff\\xa34\\x05\\xfc\\xe7|\\x9c\\xee3Ig#3' and logIndex: 0 encountered the following error during processing: MismatchedABI(The event signature did not match the provided ABI). It has been discarded.\n",
      "  f\"The log with transaction hash: {log['transactionHash']} and \"\n",
      "/home/simone/.local/opt/miniconda3/envs/blockchain/lib/python3.7/site-packages/web3/contract.py:1154: UserWarning: The log with transaction hash: b'\\x16\\xee*\\x1d\\xad\\xe8\\xfa\\x0bi\\x01\\x9c\\x13\\xfc\\xabZ\\xab\\x84z\\xff\\xa34\\x05\\xfc\\xe7|\\x9c\\xee3Ig#3' and logIndex: 1 encountered the following error during processing: MismatchedABI(The event signature did not match the provided ABI). It has been discarded.\n",
      "  f\"The log with transaction hash: {log['transactionHash']} and \"\n",
      "/home/simone/.local/opt/miniconda3/envs/blockchain/lib/python3.7/site-packages/web3/contract.py:1154: UserWarning: The log with transaction hash: b'\\x16\\xee*\\x1d\\xad\\xe8\\xfa\\x0bi\\x01\\x9c\\x13\\xfc\\xabZ\\xab\\x84z\\xff\\xa34\\x05\\xfc\\xe7|\\x9c\\xee3Ig#3' and logIndex: 2 encountered the following error during processing: MismatchedABI(The event signature did not match the provided ABI). It has been discarded.\n",
      "  f\"The log with transaction hash: {log['transactionHash']} and \"\n",
      "/home/simone/.local/opt/miniconda3/envs/blockchain/lib/python3.7/site-packages/web3/contract.py:1154: UserWarning: The log with transaction hash: b'\\xaf6\\x1e\\xd9,\\xbeX\\x8b*\\x03/r-\\xc6r\\x7f\\xfaT\\x9d<\\x9d\\x9e\\x99\\xc4su\\xa3\\x0be\\xa3=b' and logIndex: 2 encountered the following error during processing: MismatchedABI(The event signature did not match the provided ABI). It has been discarded.\n",
      "  f\"The log with transaction hash: {log['transactionHash']} and \"\n",
      "/home/simone/.local/opt/miniconda3/envs/blockchain/lib/python3.7/site-packages/web3/contract.py:1154: UserWarning: The log with transaction hash: b'\\xaf6\\x1e\\xd9,\\xbeX\\x8b*\\x03/r-\\xc6r\\x7f\\xfaT\\x9d<\\x9d\\x9e\\x99\\xc4su\\xa3\\x0be\\xa3=b' and logIndex: 3 encountered the following error during processing: MismatchedABI(The event signature did not match the provided ABI). It has been discarded.\n",
      "  f\"The log with transaction hash: {log['transactionHash']} and \"\n",
      "/home/simone/.local/opt/miniconda3/envs/blockchain/lib/python3.7/site-packages/web3/contract.py:1154: UserWarning: The log with transaction hash: b'\\xaf6\\x1e\\xd9,\\xbeX\\x8b*\\x03/r-\\xc6r\\x7f\\xfaT\\x9d<\\x9d\\x9e\\x99\\xc4su\\xa3\\x0be\\xa3=b' and logIndex: 4 encountered the following error during processing: MismatchedABI(The event signature did not match the provided ABI). It has been discarded.\n",
      "  f\"The log with transaction hash: {log['transactionHash']} and \"\n",
      "/home/simone/.local/opt/miniconda3/envs/blockchain/lib/python3.7/site-packages/web3/contract.py:1154: UserWarning: The log with transaction hash: b'\\xd3y=/O\\xa0\\x14\\x12\\x98\\x06q\\xf0\\xe83\\xd9\\x05\\xc5i\\x83\\x8f\\xa9\\x95\\x02\\xe6H\\xd5e\\xdc[\\xdf\\xcd\\xf3' and logIndex: 1 encountered the following error during processing: MismatchedABI(The event signature did not match the provided ABI). It has been discarded.\n",
      "  f\"The log with transaction hash: {log['transactionHash']} and \"\n",
      "/home/simone/.local/opt/miniconda3/envs/blockchain/lib/python3.7/site-packages/web3/contract.py:1154: UserWarning: The log with transaction hash: b'\\xd3y=/O\\xa0\\x14\\x12\\x98\\x06q\\xf0\\xe83\\xd9\\x05\\xc5i\\x83\\x8f\\xa9\\x95\\x02\\xe6H\\xd5e\\xdc[\\xdf\\xcd\\xf3' and logIndex: 2 encountered the following error during processing: MismatchedABI(The event signature did not match the provided ABI). It has been discarded.\n",
      "  f\"The log with transaction hash: {log['transactionHash']} and \"\n",
      "/home/simone/.local/opt/miniconda3/envs/blockchain/lib/python3.7/site-packages/web3/contract.py:1154: UserWarning: The log with transaction hash: b'\\xd3y=/O\\xa0\\x14\\x12\\x98\\x06q\\xf0\\xe83\\xd9\\x05\\xc5i\\x83\\x8f\\xa9\\x95\\x02\\xe6H\\xd5e\\xdc[\\xdf\\xcd\\xf3' and logIndex: 3 encountered the following error during processing: MismatchedABI(The event signature did not match the provided ABI). It has been discarded.\n",
      "  f\"The log with transaction hash: {log['transactionHash']} and \"\n",
      "/home/simone/.local/opt/miniconda3/envs/blockchain/lib/python3.7/site-packages/web3/contract.py:1154: UserWarning: The log with transaction hash: b'\\x84D\\xf9\\xb5\\xdd\\x9b\\xd9f\\xf9\\xa8a\\x80\\x85\\xa7\\x8a\\x84;\\x01\\xb0C\\xfb\\x8f\\xf1\\xfa\\xb7\\xa6\\xcf&8\\x84G\\xd6' and logIndex: 6 encountered the following error during processing: MismatchedABI(The event signature did not match the provided ABI). It has been discarded.\n",
      "  f\"The log with transaction hash: {log['transactionHash']} and \"\n",
      "/home/simone/.local/opt/miniconda3/envs/blockchain/lib/python3.7/site-packages/web3/contract.py:1154: UserWarning: The log with transaction hash: b'\\x84D\\xf9\\xb5\\xdd\\x9b\\xd9f\\xf9\\xa8a\\x80\\x85\\xa7\\x8a\\x84;\\x01\\xb0C\\xfb\\x8f\\xf1\\xfa\\xb7\\xa6\\xcf&8\\x84G\\xd6' and logIndex: 7 encountered the following error during processing: MismatchedABI(The event signature did not match the provided ABI). It has been discarded.\n",
      "  f\"The log with transaction hash: {log['transactionHash']} and \"\n",
      "/home/simone/.local/opt/miniconda3/envs/blockchain/lib/python3.7/site-packages/web3/contract.py:1154: UserWarning: The log with transaction hash: b'\\x84D\\xf9\\xb5\\xdd\\x9b\\xd9f\\xf9\\xa8a\\x80\\x85\\xa7\\x8a\\x84;\\x01\\xb0C\\xfb\\x8f\\xf1\\xfa\\xb7\\xa6\\xcf&8\\x84G\\xd6' and logIndex: 8 encountered the following error during processing: MismatchedABI(The event signature did not match the provided ABI). It has been discarded.\n",
      "  f\"The log with transaction hash: {log['transactionHash']} and \"\n"
     ]
    },
    {
     "name": "stderr",
     "output_type": "stream",
     "text": [
      "/home/simone/.local/opt/miniconda3/envs/blockchain/lib/python3.7/site-packages/web3/contract.py:1154: UserWarning: The log with transaction hash: b'/\\xd8\\xfb`\\xdf\\xb3P96\\xc0J\\xbe\\xc6\\x93e\\xf0\\xe3\\x94\\xa9\\xc6\"\\xfaU_#\\xfe\\x9e\\xdci%/:' and logIndex: 1 encountered the following error during processing: MismatchedABI(The event signature did not match the provided ABI). It has been discarded.\n",
      "  f\"The log with transaction hash: {log['transactionHash']} and \"\n",
      "/home/simone/.local/opt/miniconda3/envs/blockchain/lib/python3.7/site-packages/web3/contract.py:1154: UserWarning: The log with transaction hash: b'/\\xd8\\xfb`\\xdf\\xb3P96\\xc0J\\xbe\\xc6\\x93e\\xf0\\xe3\\x94\\xa9\\xc6\"\\xfaU_#\\xfe\\x9e\\xdci%/:' and logIndex: 2 encountered the following error during processing: MismatchedABI(The event signature did not match the provided ABI). It has been discarded.\n",
      "  f\"The log with transaction hash: {log['transactionHash']} and \"\n",
      "/home/simone/.local/opt/miniconda3/envs/blockchain/lib/python3.7/site-packages/web3/contract.py:1154: UserWarning: The log with transaction hash: b'/\\xd8\\xfb`\\xdf\\xb3P96\\xc0J\\xbe\\xc6\\x93e\\xf0\\xe3\\x94\\xa9\\xc6\"\\xfaU_#\\xfe\\x9e\\xdci%/:' and logIndex: 3 encountered the following error during processing: MismatchedABI(The event signature did not match the provided ABI). It has been discarded.\n",
      "  f\"The log with transaction hash: {log['transactionHash']} and \"\n",
      "/home/simone/.local/opt/miniconda3/envs/blockchain/lib/python3.7/site-packages/web3/contract.py:1154: UserWarning: The log with transaction hash: b'\\xf5=.\\xb4(\\xae\\xbe\\xbb6Q\\x18n\\xb7\\x9c\\xbb\\x00\\xd8Hc\\xb2\\x9b^\\xb8\\xab\\x1c\\xcdW\\xcd\\xef\\xef\\xa3\\xff' and logIndex: 0 encountered the following error during processing: MismatchedABI(The event signature did not match the provided ABI). It has been discarded.\n",
      "  f\"The log with transaction hash: {log['transactionHash']} and \"\n",
      "/home/simone/.local/opt/miniconda3/envs/blockchain/lib/python3.7/site-packages/web3/contract.py:1154: UserWarning: The log with transaction hash: b'\\xf5=.\\xb4(\\xae\\xbe\\xbb6Q\\x18n\\xb7\\x9c\\xbb\\x00\\xd8Hc\\xb2\\x9b^\\xb8\\xab\\x1c\\xcdW\\xcd\\xef\\xef\\xa3\\xff' and logIndex: 1 encountered the following error during processing: MismatchedABI(The event signature did not match the provided ABI). It has been discarded.\n",
      "  f\"The log with transaction hash: {log['transactionHash']} and \"\n",
      "/home/simone/.local/opt/miniconda3/envs/blockchain/lib/python3.7/site-packages/web3/contract.py:1154: UserWarning: The log with transaction hash: b'\\xf5=.\\xb4(\\xae\\xbe\\xbb6Q\\x18n\\xb7\\x9c\\xbb\\x00\\xd8Hc\\xb2\\x9b^\\xb8\\xab\\x1c\\xcdW\\xcd\\xef\\xef\\xa3\\xff' and logIndex: 2 encountered the following error during processing: MismatchedABI(The event signature did not match the provided ABI). It has been discarded.\n",
      "  f\"The log with transaction hash: {log['transactionHash']} and \"\n",
      "/home/simone/.local/opt/miniconda3/envs/blockchain/lib/python3.7/site-packages/web3/contract.py:1154: UserWarning: The log with transaction hash: b'h\\xa3l\\xc5w\\xfa\\xb5\\x9bCN;0\\xbd\\xffa\\xeb\\xfd\\xdc\\x8f\\xa1\\xd7_[t\\x8c1\\xd6m9\\x1fL\\x02' and logIndex: 1 encountered the following error during processing: MismatchedABI(The event signature did not match the provided ABI). It has been discarded.\n",
      "  f\"The log with transaction hash: {log['transactionHash']} and \"\n",
      "/home/simone/.local/opt/miniconda3/envs/blockchain/lib/python3.7/site-packages/web3/contract.py:1154: UserWarning: The log with transaction hash: b'h\\xa3l\\xc5w\\xfa\\xb5\\x9bCN;0\\xbd\\xffa\\xeb\\xfd\\xdc\\x8f\\xa1\\xd7_[t\\x8c1\\xd6m9\\x1fL\\x02' and logIndex: 2 encountered the following error during processing: MismatchedABI(The event signature did not match the provided ABI). It has been discarded.\n",
      "  f\"The log with transaction hash: {log['transactionHash']} and \"\n",
      "/home/simone/.local/opt/miniconda3/envs/blockchain/lib/python3.7/site-packages/web3/contract.py:1154: UserWarning: The log with transaction hash: b'h\\xa3l\\xc5w\\xfa\\xb5\\x9bCN;0\\xbd\\xffa\\xeb\\xfd\\xdc\\x8f\\xa1\\xd7_[t\\x8c1\\xd6m9\\x1fL\\x02' and logIndex: 3 encountered the following error during processing: MismatchedABI(The event signature did not match the provided ABI). It has been discarded.\n",
      "  f\"The log with transaction hash: {log['transactionHash']} and \"\n",
      "/home/simone/.local/opt/miniconda3/envs/blockchain/lib/python3.7/site-packages/web3/contract.py:1154: UserWarning: The log with transaction hash: b'\\xf5{\\xbf\\xa7wm\\xe3V\\x06\\x95\\xd8\\x83\\xd7*\\xa4J\\xa2\\xe0,@a\\xb2\\x19kD\\x12\\r;\\xadH\\xec\\xcf' and logIndex: 0 encountered the following error during processing: MismatchedABI(The event signature did not match the provided ABI). It has been discarded.\n",
      "  f\"The log with transaction hash: {log['transactionHash']} and \"\n",
      "/home/simone/.local/opt/miniconda3/envs/blockchain/lib/python3.7/site-packages/web3/contract.py:1154: UserWarning: The log with transaction hash: b'\\xf5{\\xbf\\xa7wm\\xe3V\\x06\\x95\\xd8\\x83\\xd7*\\xa4J\\xa2\\xe0,@a\\xb2\\x19kD\\x12\\r;\\xadH\\xec\\xcf' and logIndex: 1 encountered the following error during processing: MismatchedABI(The event signature did not match the provided ABI). It has been discarded.\n",
      "  f\"The log with transaction hash: {log['transactionHash']} and \"\n",
      "/home/simone/.local/opt/miniconda3/envs/blockchain/lib/python3.7/site-packages/web3/contract.py:1154: UserWarning: The log with transaction hash: b'\\xf5{\\xbf\\xa7wm\\xe3V\\x06\\x95\\xd8\\x83\\xd7*\\xa4J\\xa2\\xe0,@a\\xb2\\x19kD\\x12\\r;\\xadH\\xec\\xcf' and logIndex: 2 encountered the following error during processing: MismatchedABI(The event signature did not match the provided ABI). It has been discarded.\n",
      "  f\"The log with transaction hash: {log['transactionHash']} and \"\n",
      "/home/simone/.local/opt/miniconda3/envs/blockchain/lib/python3.7/site-packages/web3/contract.py:1154: UserWarning: The log with transaction hash: b'\\xe0/\\xa3\\x03\\x89\\xf3nBs\\xd7\\xc8\\xd3{dfnhr\\r\\xf0\\xa0F\\x19\\x0f\\x99\\xff&\\x99:\\x1cD\\x97' and logIndex: 0 encountered the following error during processing: MismatchedABI(The event signature did not match the provided ABI). It has been discarded.\n",
      "  f\"The log with transaction hash: {log['transactionHash']} and \"\n",
      "/home/simone/.local/opt/miniconda3/envs/blockchain/lib/python3.7/site-packages/web3/contract.py:1154: UserWarning: The log with transaction hash: b'\\xe0/\\xa3\\x03\\x89\\xf3nBs\\xd7\\xc8\\xd3{dfnhr\\r\\xf0\\xa0F\\x19\\x0f\\x99\\xff&\\x99:\\x1cD\\x97' and logIndex: 1 encountered the following error during processing: MismatchedABI(The event signature did not match the provided ABI). It has been discarded.\n",
      "  f\"The log with transaction hash: {log['transactionHash']} and \"\n",
      "/home/simone/.local/opt/miniconda3/envs/blockchain/lib/python3.7/site-packages/web3/contract.py:1154: UserWarning: The log with transaction hash: b'\\xe0/\\xa3\\x03\\x89\\xf3nBs\\xd7\\xc8\\xd3{dfnhr\\r\\xf0\\xa0F\\x19\\x0f\\x99\\xff&\\x99:\\x1cD\\x97' and logIndex: 2 encountered the following error during processing: MismatchedABI(The event signature did not match the provided ABI). It has been discarded.\n",
      "  f\"The log with transaction hash: {log['transactionHash']} and \"\n",
      "/home/simone/.local/opt/miniconda3/envs/blockchain/lib/python3.7/site-packages/web3/contract.py:1154: UserWarning: The log with transaction hash: b'=Qb\\xf5V\\x96\\x1e\\xbc\"BV\\xde\\xbd\\xcb%F\\xf4\\xf0\\xfe\\xba\\x8d\\xd3~2n\\x81\\'\\x9e\\x82DC\\xd5' and logIndex: 0 encountered the following error during processing: MismatchedABI(The event signature did not match the provided ABI). It has been discarded.\n",
      "  f\"The log with transaction hash: {log['transactionHash']} and \"\n",
      "/home/simone/.local/opt/miniconda3/envs/blockchain/lib/python3.7/site-packages/web3/contract.py:1154: UserWarning: The log with transaction hash: b'=Qb\\xf5V\\x96\\x1e\\xbc\"BV\\xde\\xbd\\xcb%F\\xf4\\xf0\\xfe\\xba\\x8d\\xd3~2n\\x81\\'\\x9e\\x82DC\\xd5' and logIndex: 1 encountered the following error during processing: MismatchedABI(The event signature did not match the provided ABI). It has been discarded.\n",
      "  f\"The log with transaction hash: {log['transactionHash']} and \"\n",
      "/home/simone/.local/opt/miniconda3/envs/blockchain/lib/python3.7/site-packages/web3/contract.py:1154: UserWarning: The log with transaction hash: b'=Qb\\xf5V\\x96\\x1e\\xbc\"BV\\xde\\xbd\\xcb%F\\xf4\\xf0\\xfe\\xba\\x8d\\xd3~2n\\x81\\'\\x9e\\x82DC\\xd5' and logIndex: 2 encountered the following error during processing: MismatchedABI(The event signature did not match the provided ABI). It has been discarded.\n",
      "  f\"The log with transaction hash: {log['transactionHash']} and \"\n"
     ]
    },
    {
     "name": "stderr",
     "output_type": "stream",
     "text": [
      "/home/simone/.local/opt/miniconda3/envs/blockchain/lib/python3.7/site-packages/web3/contract.py:1154: UserWarning: The log with transaction hash: b'\\xe7\\xe7<\\xeaN\\xf0\\x00\\r\\x92\\xb7Xm\\xe9o\\xef\\x81\\xa2y\\x01\\x9e\\xf0\\xa0@\\xb4e!L}\\xea+6\\x01' and logIndex: 0 encountered the following error during processing: MismatchedABI(The event signature did not match the provided ABI). It has been discarded.\n",
      "  f\"The log with transaction hash: {log['transactionHash']} and \"\n",
      "/home/simone/.local/opt/miniconda3/envs/blockchain/lib/python3.7/site-packages/web3/contract.py:1154: UserWarning: The log with transaction hash: b'\\xe7\\xe7<\\xeaN\\xf0\\x00\\r\\x92\\xb7Xm\\xe9o\\xef\\x81\\xa2y\\x01\\x9e\\xf0\\xa0@\\xb4e!L}\\xea+6\\x01' and logIndex: 1 encountered the following error during processing: MismatchedABI(The event signature did not match the provided ABI). It has been discarded.\n",
      "  f\"The log with transaction hash: {log['transactionHash']} and \"\n",
      "/home/simone/.local/opt/miniconda3/envs/blockchain/lib/python3.7/site-packages/web3/contract.py:1154: UserWarning: The log with transaction hash: b'\\xe7\\xe7<\\xeaN\\xf0\\x00\\r\\x92\\xb7Xm\\xe9o\\xef\\x81\\xa2y\\x01\\x9e\\xf0\\xa0@\\xb4e!L}\\xea+6\\x01' and logIndex: 2 encountered the following error during processing: MismatchedABI(The event signature did not match the provided ABI). It has been discarded.\n",
      "  f\"The log with transaction hash: {log['transactionHash']} and \"\n",
      "/home/simone/.local/opt/miniconda3/envs/blockchain/lib/python3.7/site-packages/web3/contract.py:1154: UserWarning: The log with transaction hash: b'\\xc9\\x1bu\\xc9\\xfa\\x01\\xbf+|2=\\x88:\\xdf\\xc8;\\xfc_\\x1c\\xa8\\xe8\\x04{\\x1a\\xfe\\x9f\\x04\\xb2=Mc\\xbb' and logIndex: 0 encountered the following error during processing: MismatchedABI(The event signature did not match the provided ABI). It has been discarded.\n",
      "  f\"The log with transaction hash: {log['transactionHash']} and \"\n",
      "/home/simone/.local/opt/miniconda3/envs/blockchain/lib/python3.7/site-packages/web3/contract.py:1154: UserWarning: The log with transaction hash: b'\\xc9\\x1bu\\xc9\\xfa\\x01\\xbf+|2=\\x88:\\xdf\\xc8;\\xfc_\\x1c\\xa8\\xe8\\x04{\\x1a\\xfe\\x9f\\x04\\xb2=Mc\\xbb' and logIndex: 1 encountered the following error during processing: MismatchedABI(The event signature did not match the provided ABI). It has been discarded.\n",
      "  f\"The log with transaction hash: {log['transactionHash']} and \"\n",
      "/home/simone/.local/opt/miniconda3/envs/blockchain/lib/python3.7/site-packages/web3/contract.py:1154: UserWarning: The log with transaction hash: b'\\xc9\\x1bu\\xc9\\xfa\\x01\\xbf+|2=\\x88:\\xdf\\xc8;\\xfc_\\x1c\\xa8\\xe8\\x04{\\x1a\\xfe\\x9f\\x04\\xb2=Mc\\xbb' and logIndex: 2 encountered the following error during processing: MismatchedABI(The event signature did not match the provided ABI). It has been discarded.\n",
      "  f\"The log with transaction hash: {log['transactionHash']} and \"\n",
      "/home/simone/.local/opt/miniconda3/envs/blockchain/lib/python3.7/site-packages/web3/contract.py:1154: UserWarning: The log with transaction hash: b'%\\xb5\\xf9\\xcdshkB%\\x087<@\\xce\\xca?\\xa5\\xc0\\x02\\n\\xb7q\\xce3\\\\rR\\x15\\x12\\x17^5' and logIndex: 16 encountered the following error during processing: MismatchedABI(The event signature did not match the provided ABI). It has been discarded.\n",
      "  f\"The log with transaction hash: {log['transactionHash']} and \"\n",
      "/home/simone/.local/opt/miniconda3/envs/blockchain/lib/python3.7/site-packages/web3/contract.py:1154: UserWarning: The log with transaction hash: b'%\\xb5\\xf9\\xcdshkB%\\x087<@\\xce\\xca?\\xa5\\xc0\\x02\\n\\xb7q\\xce3\\\\rR\\x15\\x12\\x17^5' and logIndex: 17 encountered the following error during processing: MismatchedABI(The event signature did not match the provided ABI). It has been discarded.\n",
      "  f\"The log with transaction hash: {log['transactionHash']} and \"\n",
      "/home/simone/.local/opt/miniconda3/envs/blockchain/lib/python3.7/site-packages/web3/contract.py:1154: UserWarning: The log with transaction hash: b'%\\xb5\\xf9\\xcdshkB%\\x087<@\\xce\\xca?\\xa5\\xc0\\x02\\n\\xb7q\\xce3\\\\rR\\x15\\x12\\x17^5' and logIndex: 18 encountered the following error during processing: MismatchedABI(The event signature did not match the provided ABI). It has been discarded.\n",
      "  f\"The log with transaction hash: {log['transactionHash']} and \"\n",
      "/home/simone/.local/opt/miniconda3/envs/blockchain/lib/python3.7/site-packages/web3/contract.py:1154: UserWarning: The log with transaction hash: b'<O\\xb9\\xab\\x825\\x84\\xff\\x95\\xe9P\\xe0,\\x03\\x85\\xd5\\xc4\\x12\\xd3\\xf5f\\xed\\xec\\xc5\\x8e\\xd09\\xcd\\x90\\x89\\x0f%' and logIndex: 3 encountered the following error during processing: MismatchedABI(The event signature did not match the provided ABI). It has been discarded.\n",
      "  f\"The log with transaction hash: {log['transactionHash']} and \"\n",
      "/home/simone/.local/opt/miniconda3/envs/blockchain/lib/python3.7/site-packages/web3/contract.py:1154: UserWarning: The log with transaction hash: b'<O\\xb9\\xab\\x825\\x84\\xff\\x95\\xe9P\\xe0,\\x03\\x85\\xd5\\xc4\\x12\\xd3\\xf5f\\xed\\xec\\xc5\\x8e\\xd09\\xcd\\x90\\x89\\x0f%' and logIndex: 4 encountered the following error during processing: MismatchedABI(The event signature did not match the provided ABI). It has been discarded.\n",
      "  f\"The log with transaction hash: {log['transactionHash']} and \"\n",
      "/home/simone/.local/opt/miniconda3/envs/blockchain/lib/python3.7/site-packages/web3/contract.py:1154: UserWarning: The log with transaction hash: b'<O\\xb9\\xab\\x825\\x84\\xff\\x95\\xe9P\\xe0,\\x03\\x85\\xd5\\xc4\\x12\\xd3\\xf5f\\xed\\xec\\xc5\\x8e\\xd09\\xcd\\x90\\x89\\x0f%' and logIndex: 5 encountered the following error during processing: MismatchedABI(The event signature did not match the provided ABI). It has been discarded.\n",
      "  f\"The log with transaction hash: {log['transactionHash']} and \"\n",
      "/home/simone/.local/opt/miniconda3/envs/blockchain/lib/python3.7/site-packages/web3/contract.py:1154: UserWarning: The log with transaction hash: b\"\\x07\\xe3\\xb6\\x19W\\xb9\\x14\\x95\\x9eZ\\xf5P\\x10\\xa1\\x048\\xfdP\\xf1\\xcf\\x8b\\\\#F\\xdd2\\xe2'\\xe82\\xc5\\xd2\" and logIndex: 0 encountered the following error during processing: MismatchedABI(The event signature did not match the provided ABI). It has been discarded.\n",
      "  f\"The log with transaction hash: {log['transactionHash']} and \"\n",
      "/home/simone/.local/opt/miniconda3/envs/blockchain/lib/python3.7/site-packages/web3/contract.py:1154: UserWarning: The log with transaction hash: b\"\\x07\\xe3\\xb6\\x19W\\xb9\\x14\\x95\\x9eZ\\xf5P\\x10\\xa1\\x048\\xfdP\\xf1\\xcf\\x8b\\\\#F\\xdd2\\xe2'\\xe82\\xc5\\xd2\" and logIndex: 1 encountered the following error during processing: MismatchedABI(The event signature did not match the provided ABI). It has been discarded.\n",
      "  f\"The log with transaction hash: {log['transactionHash']} and \"\n",
      "/home/simone/.local/opt/miniconda3/envs/blockchain/lib/python3.7/site-packages/web3/contract.py:1154: UserWarning: The log with transaction hash: b\"\\x07\\xe3\\xb6\\x19W\\xb9\\x14\\x95\\x9eZ\\xf5P\\x10\\xa1\\x048\\xfdP\\xf1\\xcf\\x8b\\\\#F\\xdd2\\xe2'\\xe82\\xc5\\xd2\" and logIndex: 2 encountered the following error during processing: MismatchedABI(The event signature did not match the provided ABI). It has been discarded.\n",
      "  f\"The log with transaction hash: {log['transactionHash']} and \"\n",
      "/home/simone/.local/opt/miniconda3/envs/blockchain/lib/python3.7/site-packages/web3/contract.py:1154: UserWarning: The log with transaction hash: b'\\xea\\xd3\\x85\\xbb\\x82\\x90\\x1f\\xb6\\x8e\\xbe\\xc2\\xc1z\\xd4t\\r\\xe0Q\\xcer\\xa2[\\xe7\\xc1\\xa4\\xc1\\xac[\\x13\\xd6O\\x06' and logIndex: 0 encountered the following error during processing: MismatchedABI(The event signature did not match the provided ABI). It has been discarded.\n",
      "  f\"The log with transaction hash: {log['transactionHash']} and \"\n",
      "/home/simone/.local/opt/miniconda3/envs/blockchain/lib/python3.7/site-packages/web3/contract.py:1154: UserWarning: The log with transaction hash: b'\\xea\\xd3\\x85\\xbb\\x82\\x90\\x1f\\xb6\\x8e\\xbe\\xc2\\xc1z\\xd4t\\r\\xe0Q\\xcer\\xa2[\\xe7\\xc1\\xa4\\xc1\\xac[\\x13\\xd6O\\x06' and logIndex: 1 encountered the following error during processing: MismatchedABI(The event signature did not match the provided ABI). It has been discarded.\n",
      "  f\"The log with transaction hash: {log['transactionHash']} and \"\n",
      "/home/simone/.local/opt/miniconda3/envs/blockchain/lib/python3.7/site-packages/web3/contract.py:1154: UserWarning: The log with transaction hash: b'\\xea\\xd3\\x85\\xbb\\x82\\x90\\x1f\\xb6\\x8e\\xbe\\xc2\\xc1z\\xd4t\\r\\xe0Q\\xcer\\xa2[\\xe7\\xc1\\xa4\\xc1\\xac[\\x13\\xd6O\\x06' and logIndex: 2 encountered the following error during processing: MismatchedABI(The event signature did not match the provided ABI). It has been discarded.\n",
      "  f\"The log with transaction hash: {log['transactionHash']} and \"\n"
     ]
    },
    {
     "name": "stderr",
     "output_type": "stream",
     "text": [
      "/home/simone/.local/opt/miniconda3/envs/blockchain/lib/python3.7/site-packages/web3/contract.py:1154: UserWarning: The log with transaction hash: b'I\\xd4\\x9d\\xc1\\x05[gb[vR\\r\\x9b}\\x1c\\x95\\xa1*6*A\\x13*pao\\x81:y\\x80\\x14\\x06' and logIndex: 6 encountered the following error during processing: MismatchedABI(The event signature did not match the provided ABI). It has been discarded.\n",
      "  f\"The log with transaction hash: {log['transactionHash']} and \"\n",
      "/home/simone/.local/opt/miniconda3/envs/blockchain/lib/python3.7/site-packages/web3/contract.py:1154: UserWarning: The log with transaction hash: b'I\\xd4\\x9d\\xc1\\x05[gb[vR\\r\\x9b}\\x1c\\x95\\xa1*6*A\\x13*pao\\x81:y\\x80\\x14\\x06' and logIndex: 7 encountered the following error during processing: MismatchedABI(The event signature did not match the provided ABI). It has been discarded.\n",
      "  f\"The log with transaction hash: {log['transactionHash']} and \"\n",
      "/home/simone/.local/opt/miniconda3/envs/blockchain/lib/python3.7/site-packages/web3/contract.py:1154: UserWarning: The log with transaction hash: b'I\\xd4\\x9d\\xc1\\x05[gb[vR\\r\\x9b}\\x1c\\x95\\xa1*6*A\\x13*pao\\x81:y\\x80\\x14\\x06' and logIndex: 8 encountered the following error during processing: MismatchedABI(The event signature did not match the provided ABI). It has been discarded.\n",
      "  f\"The log with transaction hash: {log['transactionHash']} and \"\n",
      "/home/simone/.local/opt/miniconda3/envs/blockchain/lib/python3.7/site-packages/web3/contract.py:1154: UserWarning: The log with transaction hash: b'j\\xfb\\xaeg\\x14c\\x93\\xa2\\xc4\\xe0h|\\x9d\\xc6\\x95oG\\xf3\\xec\\xf9\\xcdF-FY\\xc9\\xe8\\xb9\\r%\\xad\\xb9' and logIndex: 0 encountered the following error during processing: MismatchedABI(The event signature did not match the provided ABI). It has been discarded.\n",
      "  f\"The log with transaction hash: {log['transactionHash']} and \"\n",
      "/home/simone/.local/opt/miniconda3/envs/blockchain/lib/python3.7/site-packages/web3/contract.py:1154: UserWarning: The log with transaction hash: b'j\\xfb\\xaeg\\x14c\\x93\\xa2\\xc4\\xe0h|\\x9d\\xc6\\x95oG\\xf3\\xec\\xf9\\xcdF-FY\\xc9\\xe8\\xb9\\r%\\xad\\xb9' and logIndex: 1 encountered the following error during processing: MismatchedABI(The event signature did not match the provided ABI). It has been discarded.\n",
      "  f\"The log with transaction hash: {log['transactionHash']} and \"\n",
      "/home/simone/.local/opt/miniconda3/envs/blockchain/lib/python3.7/site-packages/web3/contract.py:1154: UserWarning: The log with transaction hash: b'j\\xfb\\xaeg\\x14c\\x93\\xa2\\xc4\\xe0h|\\x9d\\xc6\\x95oG\\xf3\\xec\\xf9\\xcdF-FY\\xc9\\xe8\\xb9\\r%\\xad\\xb9' and logIndex: 2 encountered the following error during processing: MismatchedABI(The event signature did not match the provided ABI). It has been discarded.\n",
      "  f\"The log with transaction hash: {log['transactionHash']} and \"\n",
      "/home/simone/.local/opt/miniconda3/envs/blockchain/lib/python3.7/site-packages/web3/contract.py:1154: UserWarning: The log with transaction hash: b'g\\xc3\\x8e\\x9b\\x0c\\x1e\\xb7i5B\\xfa\\xd7\\x9b\\xc9\\r=\\xa2\\xa4\\xde9\\x06\\xdaDs\\x90\\xbf%a\\xb73x@' and logIndex: 0 encountered the following error during processing: MismatchedABI(The event signature did not match the provided ABI). It has been discarded.\n",
      "  f\"The log with transaction hash: {log['transactionHash']} and \"\n",
      "/home/simone/.local/opt/miniconda3/envs/blockchain/lib/python3.7/site-packages/web3/contract.py:1154: UserWarning: The log with transaction hash: b'g\\xc3\\x8e\\x9b\\x0c\\x1e\\xb7i5B\\xfa\\xd7\\x9b\\xc9\\r=\\xa2\\xa4\\xde9\\x06\\xdaDs\\x90\\xbf%a\\xb73x@' and logIndex: 1 encountered the following error during processing: MismatchedABI(The event signature did not match the provided ABI). It has been discarded.\n",
      "  f\"The log with transaction hash: {log['transactionHash']} and \"\n",
      "/home/simone/.local/opt/miniconda3/envs/blockchain/lib/python3.7/site-packages/web3/contract.py:1154: UserWarning: The log with transaction hash: b'g\\xc3\\x8e\\x9b\\x0c\\x1e\\xb7i5B\\xfa\\xd7\\x9b\\xc9\\r=\\xa2\\xa4\\xde9\\x06\\xdaDs\\x90\\xbf%a\\xb73x@' and logIndex: 2 encountered the following error during processing: MismatchedABI(The event signature did not match the provided ABI). It has been discarded.\n",
      "  f\"The log with transaction hash: {log['transactionHash']} and \"\n",
      "/home/simone/.local/opt/miniconda3/envs/blockchain/lib/python3.7/site-packages/web3/contract.py:1154: UserWarning: The log with transaction hash: b'\\xa6\\xfd\\x03\\xae\\xe6a\\xbb\\xa3\\x1f\\x0cp\\x08up\\xfd\\xb3\\xbf\\x81cP>9\\x05v!\\xcf\\xc1\\x95z\\xbe\\xd7\\x06' and logIndex: 4 encountered the following error during processing: MismatchedABI(The event signature did not match the provided ABI). It has been discarded.\n",
      "  f\"The log with transaction hash: {log['transactionHash']} and \"\n",
      "/home/simone/.local/opt/miniconda3/envs/blockchain/lib/python3.7/site-packages/web3/contract.py:1154: UserWarning: The log with transaction hash: b'\\xa6\\xfd\\x03\\xae\\xe6a\\xbb\\xa3\\x1f\\x0cp\\x08up\\xfd\\xb3\\xbf\\x81cP>9\\x05v!\\xcf\\xc1\\x95z\\xbe\\xd7\\x06' and logIndex: 5 encountered the following error during processing: MismatchedABI(The event signature did not match the provided ABI). It has been discarded.\n",
      "  f\"The log with transaction hash: {log['transactionHash']} and \"\n",
      "/home/simone/.local/opt/miniconda3/envs/blockchain/lib/python3.7/site-packages/web3/contract.py:1154: UserWarning: The log with transaction hash: b'\\xa6\\xfd\\x03\\xae\\xe6a\\xbb\\xa3\\x1f\\x0cp\\x08up\\xfd\\xb3\\xbf\\x81cP>9\\x05v!\\xcf\\xc1\\x95z\\xbe\\xd7\\x06' and logIndex: 6 encountered the following error during processing: MismatchedABI(The event signature did not match the provided ABI). It has been discarded.\n",
      "  f\"The log with transaction hash: {log['transactionHash']} and \"\n",
      "/home/simone/.local/opt/miniconda3/envs/blockchain/lib/python3.7/site-packages/web3/contract.py:1154: UserWarning: The log with transaction hash: b'\\xea\\xc3\\x8a\\\\\\xc2\\xcb\\x11\\xc7X\\xd53<\\x8e\\xac\\xa5\\x87 \\x91\\x90\\x0e\\xeek\\xa5\\xbe\\x84\\x03\\xd2\\xb7sE\\x88p' and logIndex: 0 encountered the following error during processing: MismatchedABI(The event signature did not match the provided ABI). It has been discarded.\n",
      "  f\"The log with transaction hash: {log['transactionHash']} and \"\n",
      "/home/simone/.local/opt/miniconda3/envs/blockchain/lib/python3.7/site-packages/web3/contract.py:1154: UserWarning: The log with transaction hash: b'\\xea\\xc3\\x8a\\\\\\xc2\\xcb\\x11\\xc7X\\xd53<\\x8e\\xac\\xa5\\x87 \\x91\\x90\\x0e\\xeek\\xa5\\xbe\\x84\\x03\\xd2\\xb7sE\\x88p' and logIndex: 1 encountered the following error during processing: MismatchedABI(The event signature did not match the provided ABI). It has been discarded.\n",
      "  f\"The log with transaction hash: {log['transactionHash']} and \"\n",
      "/home/simone/.local/opt/miniconda3/envs/blockchain/lib/python3.7/site-packages/web3/contract.py:1154: UserWarning: The log with transaction hash: b'\\xea\\xc3\\x8a\\\\\\xc2\\xcb\\x11\\xc7X\\xd53<\\x8e\\xac\\xa5\\x87 \\x91\\x90\\x0e\\xeek\\xa5\\xbe\\x84\\x03\\xd2\\xb7sE\\x88p' and logIndex: 2 encountered the following error during processing: MismatchedABI(The event signature did not match the provided ABI). It has been discarded.\n",
      "  f\"The log with transaction hash: {log['transactionHash']} and \"\n",
      "/home/simone/.local/opt/miniconda3/envs/blockchain/lib/python3.7/site-packages/web3/contract.py:1154: UserWarning: The log with transaction hash: b'\\x17\\x86\\xdcc\\xd6\\x99(5\\xfb\\xb7Q\\xa5\\x14?xw\\xa8J\\xd3\\xea\\xbd\\xdf\\xcb\\xb3)\\xcb\\xbd\\xd30R\\xeb\\x0f' and logIndex: 0 encountered the following error during processing: MismatchedABI(The event signature did not match the provided ABI). It has been discarded.\n",
      "  f\"The log with transaction hash: {log['transactionHash']} and \"\n",
      "/home/simone/.local/opt/miniconda3/envs/blockchain/lib/python3.7/site-packages/web3/contract.py:1154: UserWarning: The log with transaction hash: b'\\x17\\x86\\xdcc\\xd6\\x99(5\\xfb\\xb7Q\\xa5\\x14?xw\\xa8J\\xd3\\xea\\xbd\\xdf\\xcb\\xb3)\\xcb\\xbd\\xd30R\\xeb\\x0f' and logIndex: 1 encountered the following error during processing: MismatchedABI(The event signature did not match the provided ABI). It has been discarded.\n",
      "  f\"The log with transaction hash: {log['transactionHash']} and \"\n",
      "/home/simone/.local/opt/miniconda3/envs/blockchain/lib/python3.7/site-packages/web3/contract.py:1154: UserWarning: The log with transaction hash: b'\\x17\\x86\\xdcc\\xd6\\x99(5\\xfb\\xb7Q\\xa5\\x14?xw\\xa8J\\xd3\\xea\\xbd\\xdf\\xcb\\xb3)\\xcb\\xbd\\xd30R\\xeb\\x0f' and logIndex: 2 encountered the following error during processing: MismatchedABI(The event signature did not match the provided ABI). It has been discarded.\n",
      "  f\"The log with transaction hash: {log['transactionHash']} and \"\n"
     ]
    },
    {
     "name": "stderr",
     "output_type": "stream",
     "text": [
      "/home/simone/.local/opt/miniconda3/envs/blockchain/lib/python3.7/site-packages/web3/contract.py:1154: UserWarning: The log with transaction hash: b'\\xffT2\\x0f\\xecW\\xc5\\xe4\\xfb\\xea\\xd7\\xce:\\x8eF\\xf1\\xbe\\x0e\\xe1<\\t\\xbb9\\x04\\xa0>Y\\xdb\\xe3\\xbc\\x10\\xc7' and logIndex: 1 encountered the following error during processing: MismatchedABI(The event signature did not match the provided ABI). It has been discarded.\n",
      "  f\"The log with transaction hash: {log['transactionHash']} and \"\n",
      "/home/simone/.local/opt/miniconda3/envs/blockchain/lib/python3.7/site-packages/web3/contract.py:1154: UserWarning: The log with transaction hash: b'\\xffT2\\x0f\\xecW\\xc5\\xe4\\xfb\\xea\\xd7\\xce:\\x8eF\\xf1\\xbe\\x0e\\xe1<\\t\\xbb9\\x04\\xa0>Y\\xdb\\xe3\\xbc\\x10\\xc7' and logIndex: 2 encountered the following error during processing: MismatchedABI(The event signature did not match the provided ABI). It has been discarded.\n",
      "  f\"The log with transaction hash: {log['transactionHash']} and \"\n",
      "/home/simone/.local/opt/miniconda3/envs/blockchain/lib/python3.7/site-packages/web3/contract.py:1154: UserWarning: The log with transaction hash: b'\\xffT2\\x0f\\xecW\\xc5\\xe4\\xfb\\xea\\xd7\\xce:\\x8eF\\xf1\\xbe\\x0e\\xe1<\\t\\xbb9\\x04\\xa0>Y\\xdb\\xe3\\xbc\\x10\\xc7' and logIndex: 3 encountered the following error during processing: MismatchedABI(The event signature did not match the provided ABI). It has been discarded.\n",
      "  f\"The log with transaction hash: {log['transactionHash']} and \"\n",
      "/home/simone/.local/opt/miniconda3/envs/blockchain/lib/python3.7/site-packages/web3/contract.py:1154: UserWarning: The log with transaction hash: b'\\xa4g/S\\xda4\\r\\xa0\\x102v;Ssl\\x0f?F\\xe2\\xa7+\\xe9\\x9a\\xa4\\xf1\\x03UyIe08' and logIndex: 10 encountered the following error during processing: MismatchedABI(The event signature did not match the provided ABI). It has been discarded.\n",
      "  f\"The log with transaction hash: {log['transactionHash']} and \"\n",
      "/home/simone/.local/opt/miniconda3/envs/blockchain/lib/python3.7/site-packages/web3/contract.py:1154: UserWarning: The log with transaction hash: b'\\xa4g/S\\xda4\\r\\xa0\\x102v;Ssl\\x0f?F\\xe2\\xa7+\\xe9\\x9a\\xa4\\xf1\\x03UyIe08' and logIndex: 11 encountered the following error during processing: MismatchedABI(The event signature did not match the provided ABI). It has been discarded.\n",
      "  f\"The log with transaction hash: {log['transactionHash']} and \"\n",
      "/home/simone/.local/opt/miniconda3/envs/blockchain/lib/python3.7/site-packages/web3/contract.py:1154: UserWarning: The log with transaction hash: b'\\xa4g/S\\xda4\\r\\xa0\\x102v;Ssl\\x0f?F\\xe2\\xa7+\\xe9\\x9a\\xa4\\xf1\\x03UyIe08' and logIndex: 12 encountered the following error during processing: MismatchedABI(The event signature did not match the provided ABI). It has been discarded.\n",
      "  f\"The log with transaction hash: {log['transactionHash']} and \"\n",
      "/home/simone/.local/opt/miniconda3/envs/blockchain/lib/python3.7/site-packages/web3/contract.py:1154: UserWarning: The log with transaction hash: b'1\\x13\\xdf\\xc7\\xf5\\x9b\\xa5\\xe1\\x9a#/&\\xbd^\\xdad\\xaaY\\x0b\\xb2\\xfa=\\x0e\\xe9\\xc0\\xdb)\\xfb\\xdb\\xc5\\x8e\\xce' and logIndex: 0 encountered the following error during processing: MismatchedABI(The event signature did not match the provided ABI). It has been discarded.\n",
      "  f\"The log with transaction hash: {log['transactionHash']} and \"\n",
      "/home/simone/.local/opt/miniconda3/envs/blockchain/lib/python3.7/site-packages/web3/contract.py:1154: UserWarning: The log with transaction hash: b'1\\x13\\xdf\\xc7\\xf5\\x9b\\xa5\\xe1\\x9a#/&\\xbd^\\xdad\\xaaY\\x0b\\xb2\\xfa=\\x0e\\xe9\\xc0\\xdb)\\xfb\\xdb\\xc5\\x8e\\xce' and logIndex: 1 encountered the following error during processing: MismatchedABI(The event signature did not match the provided ABI). It has been discarded.\n",
      "  f\"The log with transaction hash: {log['transactionHash']} and \"\n",
      "/home/simone/.local/opt/miniconda3/envs/blockchain/lib/python3.7/site-packages/web3/contract.py:1154: UserWarning: The log with transaction hash: b'1\\x13\\xdf\\xc7\\xf5\\x9b\\xa5\\xe1\\x9a#/&\\xbd^\\xdad\\xaaY\\x0b\\xb2\\xfa=\\x0e\\xe9\\xc0\\xdb)\\xfb\\xdb\\xc5\\x8e\\xce' and logIndex: 2 encountered the following error during processing: MismatchedABI(The event signature did not match the provided ABI). It has been discarded.\n",
      "  f\"The log with transaction hash: {log['transactionHash']} and \"\n",
      "/home/simone/.local/opt/miniconda3/envs/blockchain/lib/python3.7/site-packages/web3/contract.py:1154: UserWarning: The log with transaction hash: b'\\xf7s\\x9c\\xaf\\xb1\\xa9\\xc5\\xbd\\x9fo\\xec\\xe3o\\xbe\\x9f\\xe9C0{!\\xbe\\xe3\\xbe\\xe0G\\x8b\\xf8\\x1f+\\x01/B' and logIndex: 0 encountered the following error during processing: MismatchedABI(The event signature did not match the provided ABI). It has been discarded.\n",
      "  f\"The log with transaction hash: {log['transactionHash']} and \"\n",
      "/home/simone/.local/opt/miniconda3/envs/blockchain/lib/python3.7/site-packages/web3/contract.py:1154: UserWarning: The log with transaction hash: b'\\xf7s\\x9c\\xaf\\xb1\\xa9\\xc5\\xbd\\x9fo\\xec\\xe3o\\xbe\\x9f\\xe9C0{!\\xbe\\xe3\\xbe\\xe0G\\x8b\\xf8\\x1f+\\x01/B' and logIndex: 1 encountered the following error during processing: MismatchedABI(The event signature did not match the provided ABI). It has been discarded.\n",
      "  f\"The log with transaction hash: {log['transactionHash']} and \"\n",
      "/home/simone/.local/opt/miniconda3/envs/blockchain/lib/python3.7/site-packages/web3/contract.py:1154: UserWarning: The log with transaction hash: b'\\xf7s\\x9c\\xaf\\xb1\\xa9\\xc5\\xbd\\x9fo\\xec\\xe3o\\xbe\\x9f\\xe9C0{!\\xbe\\xe3\\xbe\\xe0G\\x8b\\xf8\\x1f+\\x01/B' and logIndex: 2 encountered the following error during processing: MismatchedABI(The event signature did not match the provided ABI). It has been discarded.\n",
      "  f\"The log with transaction hash: {log['transactionHash']} and \"\n",
      "/home/simone/.local/opt/miniconda3/envs/blockchain/lib/python3.7/site-packages/web3/contract.py:1154: UserWarning: The log with transaction hash: b'\\xd1\\x9f2n\\x85E\\x98\\xaeq\\x0cQ\\xf0\\x85 \\x93\\x8f\\xc9\\x16\\xa3\\xfb\\xdf~\\xed\\xb2[\\xaa<l\\x07.\\x9b\\x8f' and logIndex: 3 encountered the following error during processing: MismatchedABI(The event signature did not match the provided ABI). It has been discarded.\n",
      "  f\"The log with transaction hash: {log['transactionHash']} and \"\n",
      "/home/simone/.local/opt/miniconda3/envs/blockchain/lib/python3.7/site-packages/web3/contract.py:1154: UserWarning: The log with transaction hash: b'\\xd1\\x9f2n\\x85E\\x98\\xaeq\\x0cQ\\xf0\\x85 \\x93\\x8f\\xc9\\x16\\xa3\\xfb\\xdf~\\xed\\xb2[\\xaa<l\\x07.\\x9b\\x8f' and logIndex: 4 encountered the following error during processing: MismatchedABI(The event signature did not match the provided ABI). It has been discarded.\n",
      "  f\"The log with transaction hash: {log['transactionHash']} and \"\n",
      "/home/simone/.local/opt/miniconda3/envs/blockchain/lib/python3.7/site-packages/web3/contract.py:1154: UserWarning: The log with transaction hash: b'\\xd1\\x9f2n\\x85E\\x98\\xaeq\\x0cQ\\xf0\\x85 \\x93\\x8f\\xc9\\x16\\xa3\\xfb\\xdf~\\xed\\xb2[\\xaa<l\\x07.\\x9b\\x8f' and logIndex: 5 encountered the following error during processing: MismatchedABI(The event signature did not match the provided ABI). It has been discarded.\n",
      "  f\"The log with transaction hash: {log['transactionHash']} and \"\n",
      "/home/simone/.local/opt/miniconda3/envs/blockchain/lib/python3.7/site-packages/web3/contract.py:1154: UserWarning: The log with transaction hash: b'Q\\x80\\xb5DAc\\xa3\\xc9k\\xd5*\\x92|\\x81\\xa2\\xde\\x0f\\xec\\x1f\\xaaw\\xe3\\x02\\xaf\\x15\\xc1\\xd2\\xc8|\\x90o_' and logIndex: 0 encountered the following error during processing: MismatchedABI(The event signature did not match the provided ABI). It has been discarded.\n",
      "  f\"The log with transaction hash: {log['transactionHash']} and \"\n",
      "/home/simone/.local/opt/miniconda3/envs/blockchain/lib/python3.7/site-packages/web3/contract.py:1154: UserWarning: The log with transaction hash: b'Q\\x80\\xb5DAc\\xa3\\xc9k\\xd5*\\x92|\\x81\\xa2\\xde\\x0f\\xec\\x1f\\xaaw\\xe3\\x02\\xaf\\x15\\xc1\\xd2\\xc8|\\x90o_' and logIndex: 1 encountered the following error during processing: MismatchedABI(The event signature did not match the provided ABI). It has been discarded.\n",
      "  f\"The log with transaction hash: {log['transactionHash']} and \"\n",
      "/home/simone/.local/opt/miniconda3/envs/blockchain/lib/python3.7/site-packages/web3/contract.py:1154: UserWarning: The log with transaction hash: b'Q\\x80\\xb5DAc\\xa3\\xc9k\\xd5*\\x92|\\x81\\xa2\\xde\\x0f\\xec\\x1f\\xaaw\\xe3\\x02\\xaf\\x15\\xc1\\xd2\\xc8|\\x90o_' and logIndex: 2 encountered the following error during processing: MismatchedABI(The event signature did not match the provided ABI). It has been discarded.\n",
      "  f\"The log with transaction hash: {log['transactionHash']} and \"\n"
     ]
    },
    {
     "name": "stderr",
     "output_type": "stream",
     "text": [
      "/home/simone/.local/opt/miniconda3/envs/blockchain/lib/python3.7/site-packages/web3/contract.py:1154: UserWarning: The log with transaction hash: b's\\x12\\xc8\\x82J\\xb9v\\x7f\\x01\\xa2<?\\x81Vu\\x96hW\\xb0\\x18\\xa6\\x92x\\xb3Btg_}\\xa6\\x8e\\x88' and logIndex: 5 encountered the following error during processing: MismatchedABI(The event signature did not match the provided ABI). It has been discarded.\n",
      "  f\"The log with transaction hash: {log['transactionHash']} and \"\n",
      "/home/simone/.local/opt/miniconda3/envs/blockchain/lib/python3.7/site-packages/web3/contract.py:1154: UserWarning: The log with transaction hash: b's\\x12\\xc8\\x82J\\xb9v\\x7f\\x01\\xa2<?\\x81Vu\\x96hW\\xb0\\x18\\xa6\\x92x\\xb3Btg_}\\xa6\\x8e\\x88' and logIndex: 6 encountered the following error during processing: MismatchedABI(The event signature did not match the provided ABI). It has been discarded.\n",
      "  f\"The log with transaction hash: {log['transactionHash']} and \"\n",
      "/home/simone/.local/opt/miniconda3/envs/blockchain/lib/python3.7/site-packages/web3/contract.py:1154: UserWarning: The log with transaction hash: b's\\x12\\xc8\\x82J\\xb9v\\x7f\\x01\\xa2<?\\x81Vu\\x96hW\\xb0\\x18\\xa6\\x92x\\xb3Btg_}\\xa6\\x8e\\x88' and logIndex: 7 encountered the following error during processing: MismatchedABI(The event signature did not match the provided ABI). It has been discarded.\n",
      "  f\"The log with transaction hash: {log['transactionHash']} and \"\n",
      "/home/simone/.local/opt/miniconda3/envs/blockchain/lib/python3.7/site-packages/web3/contract.py:1154: UserWarning: The log with transaction hash: b'GE\\x9f\\xd0\\xdb\\rk\\xb9\\x90K~\\x15\\x05\\x83\\x0c\\xc5\\xc4\\xc8c\\x9b\\x95\\x11\\x17\\xafe\\x85\\xca\\xae\\x18\\xaf\\xbbI' and logIndex: 0 encountered the following error during processing: MismatchedABI(The event signature did not match the provided ABI). It has been discarded.\n",
      "  f\"The log with transaction hash: {log['transactionHash']} and \"\n",
      "/home/simone/.local/opt/miniconda3/envs/blockchain/lib/python3.7/site-packages/web3/contract.py:1154: UserWarning: The log with transaction hash: b'GE\\x9f\\xd0\\xdb\\rk\\xb9\\x90K~\\x15\\x05\\x83\\x0c\\xc5\\xc4\\xc8c\\x9b\\x95\\x11\\x17\\xafe\\x85\\xca\\xae\\x18\\xaf\\xbbI' and logIndex: 1 encountered the following error during processing: MismatchedABI(The event signature did not match the provided ABI). It has been discarded.\n",
      "  f\"The log with transaction hash: {log['transactionHash']} and \"\n",
      "/home/simone/.local/opt/miniconda3/envs/blockchain/lib/python3.7/site-packages/web3/contract.py:1154: UserWarning: The log with transaction hash: b'GE\\x9f\\xd0\\xdb\\rk\\xb9\\x90K~\\x15\\x05\\x83\\x0c\\xc5\\xc4\\xc8c\\x9b\\x95\\x11\\x17\\xafe\\x85\\xca\\xae\\x18\\xaf\\xbbI' and logIndex: 2 encountered the following error during processing: MismatchedABI(The event signature did not match the provided ABI). It has been discarded.\n",
      "  f\"The log with transaction hash: {log['transactionHash']} and \"\n",
      "/home/simone/.local/opt/miniconda3/envs/blockchain/lib/python3.7/site-packages/web3/contract.py:1154: UserWarning: The log with transaction hash: b'\\x19\\xed\\xcc\\xf1\\x89\\x84\\xd4\\xce{\\x18\\xdc\\x8f\\x01]\\x03\\xf5\\xbf7\\xba\\xa9m\\xd0\\xfe\\x9a \\xa3b;\\xb0\\xbb\\x97\\x95' and logIndex: 0 encountered the following error during processing: MismatchedABI(The event signature did not match the provided ABI). It has been discarded.\n",
      "  f\"The log with transaction hash: {log['transactionHash']} and \"\n",
      "/home/simone/.local/opt/miniconda3/envs/blockchain/lib/python3.7/site-packages/web3/contract.py:1154: UserWarning: The log with transaction hash: b'\\x19\\xed\\xcc\\xf1\\x89\\x84\\xd4\\xce{\\x18\\xdc\\x8f\\x01]\\x03\\xf5\\xbf7\\xba\\xa9m\\xd0\\xfe\\x9a \\xa3b;\\xb0\\xbb\\x97\\x95' and logIndex: 1 encountered the following error during processing: MismatchedABI(The event signature did not match the provided ABI). It has been discarded.\n",
      "  f\"The log with transaction hash: {log['transactionHash']} and \"\n",
      "/home/simone/.local/opt/miniconda3/envs/blockchain/lib/python3.7/site-packages/web3/contract.py:1154: UserWarning: The log with transaction hash: b'\\x19\\xed\\xcc\\xf1\\x89\\x84\\xd4\\xce{\\x18\\xdc\\x8f\\x01]\\x03\\xf5\\xbf7\\xba\\xa9m\\xd0\\xfe\\x9a \\xa3b;\\xb0\\xbb\\x97\\x95' and logIndex: 2 encountered the following error during processing: MismatchedABI(The event signature did not match the provided ABI). It has been discarded.\n",
      "  f\"The log with transaction hash: {log['transactionHash']} and \"\n",
      "/home/simone/.local/opt/miniconda3/envs/blockchain/lib/python3.7/site-packages/web3/contract.py:1154: UserWarning: The log with transaction hash: b'\\xaf\\xed\\xe4a\\x02\\xc5\\xe4\\xcb\\xb2]\\xaa\\xaf=J=\\xf0\\xe4\\xa1Q\\x1a o\\xae\\xda\\xa5\\x14\\x84O\\x8cf\\xf8\\xa6' and logIndex: 0 encountered the following error during processing: MismatchedABI(The event signature did not match the provided ABI). It has been discarded.\n",
      "  f\"The log with transaction hash: {log['transactionHash']} and \"\n",
      "/home/simone/.local/opt/miniconda3/envs/blockchain/lib/python3.7/site-packages/web3/contract.py:1154: UserWarning: The log with transaction hash: b'\\xaf\\xed\\xe4a\\x02\\xc5\\xe4\\xcb\\xb2]\\xaa\\xaf=J=\\xf0\\xe4\\xa1Q\\x1a o\\xae\\xda\\xa5\\x14\\x84O\\x8cf\\xf8\\xa6' and logIndex: 1 encountered the following error during processing: MismatchedABI(The event signature did not match the provided ABI). It has been discarded.\n",
      "  f\"The log with transaction hash: {log['transactionHash']} and \"\n",
      "/home/simone/.local/opt/miniconda3/envs/blockchain/lib/python3.7/site-packages/web3/contract.py:1154: UserWarning: The log with transaction hash: b'\\xaf\\xed\\xe4a\\x02\\xc5\\xe4\\xcb\\xb2]\\xaa\\xaf=J=\\xf0\\xe4\\xa1Q\\x1a o\\xae\\xda\\xa5\\x14\\x84O\\x8cf\\xf8\\xa6' and logIndex: 2 encountered the following error during processing: MismatchedABI(The event signature did not match the provided ABI). It has been discarded.\n",
      "  f\"The log with transaction hash: {log['transactionHash']} and \"\n",
      "/home/simone/.local/opt/miniconda3/envs/blockchain/lib/python3.7/site-packages/web3/contract.py:1154: UserWarning: The log with transaction hash: b'\\xc7J\\xe0u]\\xb9\\x80\\xdc=\\xb76\\xfb\\x9c\\x9e\\x1f\\x8eB\\xbe\\xb6{j\\x82\\x17P\\xe7\\xd9(T\\xe66\\xcb\\xcb' and logIndex: 0 encountered the following error during processing: MismatchedABI(The event signature did not match the provided ABI). It has been discarded.\n",
      "  f\"The log with transaction hash: {log['transactionHash']} and \"\n",
      "/home/simone/.local/opt/miniconda3/envs/blockchain/lib/python3.7/site-packages/web3/contract.py:1154: UserWarning: The log with transaction hash: b'\\xc7J\\xe0u]\\xb9\\x80\\xdc=\\xb76\\xfb\\x9c\\x9e\\x1f\\x8eB\\xbe\\xb6{j\\x82\\x17P\\xe7\\xd9(T\\xe66\\xcb\\xcb' and logIndex: 1 encountered the following error during processing: MismatchedABI(The event signature did not match the provided ABI). It has been discarded.\n",
      "  f\"The log with transaction hash: {log['transactionHash']} and \"\n",
      "/home/simone/.local/opt/miniconda3/envs/blockchain/lib/python3.7/site-packages/web3/contract.py:1154: UserWarning: The log with transaction hash: b'\\xc7J\\xe0u]\\xb9\\x80\\xdc=\\xb76\\xfb\\x9c\\x9e\\x1f\\x8eB\\xbe\\xb6{j\\x82\\x17P\\xe7\\xd9(T\\xe66\\xcb\\xcb' and logIndex: 2 encountered the following error during processing: MismatchedABI(The event signature did not match the provided ABI). It has been discarded.\n",
      "  f\"The log with transaction hash: {log['transactionHash']} and \"\n",
      "/home/simone/.local/opt/miniconda3/envs/blockchain/lib/python3.7/site-packages/web3/contract.py:1154: UserWarning: The log with transaction hash: b'Y\\xdaM\\x84\\xf4\\x08\\xe0\\x05\\x08\\x00\\x88P\\xf3\\xb2\\xeb\\\\\\x8f\\x86\\xa5F\\xbepbR\\\\\\xab\\x9e\\x1f\\xc5&\\x0e,' and logIndex: 0 encountered the following error during processing: MismatchedABI(The event signature did not match the provided ABI). It has been discarded.\n",
      "  f\"The log with transaction hash: {log['transactionHash']} and \"\n",
      "/home/simone/.local/opt/miniconda3/envs/blockchain/lib/python3.7/site-packages/web3/contract.py:1154: UserWarning: The log with transaction hash: b'Y\\xdaM\\x84\\xf4\\x08\\xe0\\x05\\x08\\x00\\x88P\\xf3\\xb2\\xeb\\\\\\x8f\\x86\\xa5F\\xbepbR\\\\\\xab\\x9e\\x1f\\xc5&\\x0e,' and logIndex: 1 encountered the following error during processing: MismatchedABI(The event signature did not match the provided ABI). It has been discarded.\n",
      "  f\"The log with transaction hash: {log['transactionHash']} and \"\n",
      "/home/simone/.local/opt/miniconda3/envs/blockchain/lib/python3.7/site-packages/web3/contract.py:1154: UserWarning: The log with transaction hash: b'Y\\xdaM\\x84\\xf4\\x08\\xe0\\x05\\x08\\x00\\x88P\\xf3\\xb2\\xeb\\\\\\x8f\\x86\\xa5F\\xbepbR\\\\\\xab\\x9e\\x1f\\xc5&\\x0e,' and logIndex: 2 encountered the following error during processing: MismatchedABI(The event signature did not match the provided ABI). It has been discarded.\n",
      "  f\"The log with transaction hash: {log['transactionHash']} and \"\n"
     ]
    },
    {
     "name": "stderr",
     "output_type": "stream",
     "text": [
      "/home/simone/.local/opt/miniconda3/envs/blockchain/lib/python3.7/site-packages/web3/contract.py:1154: UserWarning: The log with transaction hash: b'\\xaci\\x9aG\\xae$F\\x9b\\xc3\\xe5\\x07\\xde\\x98\\xa6\"\\x16\\xd9(\\xfb\\xf0\\x06\\x1b\\xe5of\\xfe\\x91h\\x8f\\xfcbX' and logIndex: 1 encountered the following error during processing: MismatchedABI(The event signature did not match the provided ABI). It has been discarded.\n",
      "  f\"The log with transaction hash: {log['transactionHash']} and \"\n",
      "/home/simone/.local/opt/miniconda3/envs/blockchain/lib/python3.7/site-packages/web3/contract.py:1154: UserWarning: The log with transaction hash: b'\\xaci\\x9aG\\xae$F\\x9b\\xc3\\xe5\\x07\\xde\\x98\\xa6\"\\x16\\xd9(\\xfb\\xf0\\x06\\x1b\\xe5of\\xfe\\x91h\\x8f\\xfcbX' and logIndex: 2 encountered the following error during processing: MismatchedABI(The event signature did not match the provided ABI). It has been discarded.\n",
      "  f\"The log with transaction hash: {log['transactionHash']} and \"\n",
      "/home/simone/.local/opt/miniconda3/envs/blockchain/lib/python3.7/site-packages/web3/contract.py:1154: UserWarning: The log with transaction hash: b'\\xaci\\x9aG\\xae$F\\x9b\\xc3\\xe5\\x07\\xde\\x98\\xa6\"\\x16\\xd9(\\xfb\\xf0\\x06\\x1b\\xe5of\\xfe\\x91h\\x8f\\xfcbX' and logIndex: 3 encountered the following error during processing: MismatchedABI(The event signature did not match the provided ABI). It has been discarded.\n",
      "  f\"The log with transaction hash: {log['transactionHash']} and \"\n"
     ]
    }
   ],
   "source": [
    "directWins_FSS_logs = [] \n",
    "for event_data in all_directWins_FSS: \n",
    "        #print(event_data)\n",
    "        tx_hash = event_data['transactionHash'].hex()\n",
    "        receipt = web3.eth.getTransactionReceipt(tx_hash)\n",
    "        #events = ['Buy', 'Sell']\n",
    "        directWins_FSS_logs.append(web3_challenge_FSS.events.DirectChallengeWon().processReceipt(receipt))"
   ]
  },
  {
   "cell_type": "code",
   "execution_count": 34,
   "metadata": {},
   "outputs": [],
   "source": [
    "FSS_directWins_FSS = []\n",
    "for i in range(0, len(directWins_FSS_logs)): \n",
    "    if(directWins_FSS_logs[i][0]['args']['winner'] == '0x27C404d4D91156F7063E8dB9cC10970cfffF9a6C'): \n",
    "        FSS_directWins_FSS.append(directWins_FSS_logs[i][0])"
   ]
  },
  {
   "cell_type": "code",
   "execution_count": 45,
   "metadata": {},
   "outputs": [
    {
     "name": "stdout",
     "output_type": "stream",
     "text": [
      "0 1593019112 2020-06-24 19:18:32\n",
      "1 1593029765 2020-06-24 22:16:05\n",
      "2 1593030197 2020-06-24 22:23:17\n",
      "3 1593081078 2020-06-25 12:31:18\n",
      "4 1593122994 2020-06-26 00:09:54\n",
      "5 1593138433 2020-06-26 04:27:13\n",
      "6 1593193207 2020-06-26 19:40:07\n",
      "7 1593265947 2020-06-27 15:52:27\n",
      "8 1593334427 2020-06-28 10:53:47\n",
      "9 1593340949 2020-06-28 12:42:29\n",
      "10 1593341425 2020-06-28 12:50:25\n",
      "11 1593348353 2020-06-28 14:45:53\n",
      "12 1593358734 2020-06-28 17:38:54\n",
      "13 1593361543 2020-06-28 18:25:43\n",
      "14 1593363549 2020-06-28 18:59:09\n",
      "15 1593378672 2020-06-28 23:11:12\n",
      "16 1593381869 2020-06-29 00:04:29\n",
      "17 1593477557 2020-06-30 02:39:17\n",
      "18 1593480148 2020-06-30 03:22:28\n",
      "19 1593482287 2020-06-30 03:58:07\n",
      "20 1593484198 2020-06-30 04:29:58\n",
      "21 1593486460 2020-06-30 05:07:40\n",
      "22 1593488381 2020-06-30 05:39:41\n",
      "23 1593494725 2020-06-30 07:25:25\n",
      "24 1593495796 2020-06-30 07:43:16\n",
      "25 1593498362 2020-06-30 08:26:02\n",
      "26 1593500741 2020-06-30 09:05:41\n",
      "27 1593502465 2020-06-30 09:34:25\n",
      "28 1593505736 2020-06-30 10:28:56\n",
      "29 1593508066 2020-06-30 11:07:46\n",
      "30 1593512243 2020-06-30 12:17:23\n",
      "31 1593523137 2020-06-30 15:18:57\n",
      "32 1593536559 2020-06-30 19:02:39\n"
     ]
    }
   ],
   "source": [
    "for i in range(0, len(FSS_directWins_FSS)): \n",
    "    blkNumb = FSS_directWins_FSS[i]['blockNumber']\n",
    "    timestamp = web3.eth.getBlock(blkNumb)['timestamp']\n",
    "    date = datetime.datetime.fromtimestamp(timestamp)\n",
    "    print(i, timestamp, date)"
   ]
  },
  {
   "cell_type": "code",
   "execution_count": 41,
   "metadata": {
    "collapsed": true
   },
   "outputs": [
    {
     "name": "stderr",
     "output_type": "stream",
     "text": [
      "/home/simone/.local/opt/miniconda3/envs/blockchain/lib/python3.7/site-packages/web3/contract.py:1154: UserWarning: The log with transaction hash: b'#\\x0f<\\x1c\\xc9\\xbb\\xdbW\\xf8\\x88\\x01\\xcew\\xa8\\xda\\x92\\xec\\xc0\\x9d.dr[X\\xc9\\x86\\x9e,\\xc0\\xc0\\x16\\xbb' and logIndex: 1 encountered the following error during processing: MismatchedABI(The event signature did not match the provided ABI). It has been discarded.\n",
      "  f\"The log with transaction hash: {log['transactionHash']} and \"\n",
      "/home/simone/.local/opt/miniconda3/envs/blockchain/lib/python3.7/site-packages/web3/contract.py:1154: UserWarning: The log with transaction hash: b'#\\x0f<\\x1c\\xc9\\xbb\\xdbW\\xf8\\x88\\x01\\xcew\\xa8\\xda\\x92\\xec\\xc0\\x9d.dr[X\\xc9\\x86\\x9e,\\xc0\\xc0\\x16\\xbb' and logIndex: 2 encountered the following error during processing: MismatchedABI(The event signature did not match the provided ABI). It has been discarded.\n",
      "  f\"The log with transaction hash: {log['transactionHash']} and \"\n",
      "/home/simone/.local/opt/miniconda3/envs/blockchain/lib/python3.7/site-packages/web3/contract.py:1154: UserWarning: The log with transaction hash: b'#\\x0f<\\x1c\\xc9\\xbb\\xdbW\\xf8\\x88\\x01\\xcew\\xa8\\xda\\x92\\xec\\xc0\\x9d.dr[X\\xc9\\x86\\x9e,\\xc0\\xc0\\x16\\xbb' and logIndex: 3 encountered the following error during processing: MismatchedABI(The event signature did not match the provided ABI). It has been discarded.\n",
      "  f\"The log with transaction hash: {log['transactionHash']} and \"\n",
      "/home/simone/.local/opt/miniconda3/envs/blockchain/lib/python3.7/site-packages/web3/contract.py:1154: UserWarning: The log with transaction hash: b'\\t\\x04\\x8e\\xadme\\xe8\\xb2\\xb6\\x037\\x87\\xa7\\\\\\x93g+\\x17\\x01\\xedP\\x8a\\xf4\\xeb\\xdd\\x852\\xd77\\x14uN' and logIndex: 0 encountered the following error during processing: MismatchedABI(The event signature did not match the provided ABI). It has been discarded.\n",
      "  f\"The log with transaction hash: {log['transactionHash']} and \"\n",
      "/home/simone/.local/opt/miniconda3/envs/blockchain/lib/python3.7/site-packages/web3/contract.py:1154: UserWarning: The log with transaction hash: b'\\t\\x04\\x8e\\xadme\\xe8\\xb2\\xb6\\x037\\x87\\xa7\\\\\\x93g+\\x17\\x01\\xedP\\x8a\\xf4\\xeb\\xdd\\x852\\xd77\\x14uN' and logIndex: 1 encountered the following error during processing: MismatchedABI(The event signature did not match the provided ABI). It has been discarded.\n",
      "  f\"The log with transaction hash: {log['transactionHash']} and \"\n",
      "/home/simone/.local/opt/miniconda3/envs/blockchain/lib/python3.7/site-packages/web3/contract.py:1154: UserWarning: The log with transaction hash: b'\\t\\x04\\x8e\\xadme\\xe8\\xb2\\xb6\\x037\\x87\\xa7\\\\\\x93g+\\x17\\x01\\xedP\\x8a\\xf4\\xeb\\xdd\\x852\\xd77\\x14uN' and logIndex: 2 encountered the following error during processing: MismatchedABI(The event signature did not match the provided ABI). It has been discarded.\n",
      "  f\"The log with transaction hash: {log['transactionHash']} and \"\n",
      "/home/simone/.local/opt/miniconda3/envs/blockchain/lib/python3.7/site-packages/web3/contract.py:1154: UserWarning: The log with transaction hash: b'\\'\\xe6oB\\xc08\\xac\\xd5\\x9cI\"\\x1d\\x99\\x95\\xc7.a\\xba\\xbe\\xdcl7\\xb5\\xf2/C\\xcd\\x86\\xecL\\xdag' and logIndex: 1 encountered the following error during processing: MismatchedABI(The event signature did not match the provided ABI). It has been discarded.\n",
      "  f\"The log with transaction hash: {log['transactionHash']} and \"\n",
      "/home/simone/.local/opt/miniconda3/envs/blockchain/lib/python3.7/site-packages/web3/contract.py:1154: UserWarning: The log with transaction hash: b'\\'\\xe6oB\\xc08\\xac\\xd5\\x9cI\"\\x1d\\x99\\x95\\xc7.a\\xba\\xbe\\xdcl7\\xb5\\xf2/C\\xcd\\x86\\xecL\\xdag' and logIndex: 2 encountered the following error during processing: MismatchedABI(The event signature did not match the provided ABI). It has been discarded.\n",
      "  f\"The log with transaction hash: {log['transactionHash']} and \"\n",
      "/home/simone/.local/opt/miniconda3/envs/blockchain/lib/python3.7/site-packages/web3/contract.py:1154: UserWarning: The log with transaction hash: b'\\'\\xe6oB\\xc08\\xac\\xd5\\x9cI\"\\x1d\\x99\\x95\\xc7.a\\xba\\xbe\\xdcl7\\xb5\\xf2/C\\xcd\\x86\\xecL\\xdag' and logIndex: 3 encountered the following error during processing: MismatchedABI(The event signature did not match the provided ABI). It has been discarded.\n",
      "  f\"The log with transaction hash: {log['transactionHash']} and \"\n",
      "/home/simone/.local/opt/miniconda3/envs/blockchain/lib/python3.7/site-packages/web3/contract.py:1154: UserWarning: The log with transaction hash: b'\\x8b\\xaa\\xc0\\x07\\xd7PGR\\x05\\xeb\\x86\\x9c\\xaf\\xad\"\\xa8\\x83AL\\xe5\\xb7\\xc3~\\xa61b\\x83[\\x93<H[' and logIndex: 0 encountered the following error during processing: MismatchedABI(The event signature did not match the provided ABI). It has been discarded.\n",
      "  f\"The log with transaction hash: {log['transactionHash']} and \"\n",
      "/home/simone/.local/opt/miniconda3/envs/blockchain/lib/python3.7/site-packages/web3/contract.py:1154: UserWarning: The log with transaction hash: b'\\x8b\\xaa\\xc0\\x07\\xd7PGR\\x05\\xeb\\x86\\x9c\\xaf\\xad\"\\xa8\\x83AL\\xe5\\xb7\\xc3~\\xa61b\\x83[\\x93<H[' and logIndex: 1 encountered the following error during processing: MismatchedABI(The event signature did not match the provided ABI). It has been discarded.\n",
      "  f\"The log with transaction hash: {log['transactionHash']} and \"\n",
      "/home/simone/.local/opt/miniconda3/envs/blockchain/lib/python3.7/site-packages/web3/contract.py:1154: UserWarning: The log with transaction hash: b'\\x8b\\xaa\\xc0\\x07\\xd7PGR\\x05\\xeb\\x86\\x9c\\xaf\\xad\"\\xa8\\x83AL\\xe5\\xb7\\xc3~\\xa61b\\x83[\\x93<H[' and logIndex: 2 encountered the following error during processing: MismatchedABI(The event signature did not match the provided ABI). It has been discarded.\n",
      "  f\"The log with transaction hash: {log['transactionHash']} and \"\n",
      "/home/simone/.local/opt/miniconda3/envs/blockchain/lib/python3.7/site-packages/web3/contract.py:1154: UserWarning: The log with transaction hash: b'7\\xa1\\xf9N\\x8a\\x89:I\\xb7\\x0c\\x88\\x88wrm=\\xbbO\\xea\\xf6q\\xb0\\xa5\\xd7\\xac%\\x93\\x8bS\\x89P\\xa4' and logIndex: 0 encountered the following error during processing: MismatchedABI(The event signature did not match the provided ABI). It has been discarded.\n",
      "  f\"The log with transaction hash: {log['transactionHash']} and \"\n",
      "/home/simone/.local/opt/miniconda3/envs/blockchain/lib/python3.7/site-packages/web3/contract.py:1154: UserWarning: The log with transaction hash: b'7\\xa1\\xf9N\\x8a\\x89:I\\xb7\\x0c\\x88\\x88wrm=\\xbbO\\xea\\xf6q\\xb0\\xa5\\xd7\\xac%\\x93\\x8bS\\x89P\\xa4' and logIndex: 1 encountered the following error during processing: MismatchedABI(The event signature did not match the provided ABI). It has been discarded.\n",
      "  f\"The log with transaction hash: {log['transactionHash']} and \"\n",
      "/home/simone/.local/opt/miniconda3/envs/blockchain/lib/python3.7/site-packages/web3/contract.py:1154: UserWarning: The log with transaction hash: b'7\\xa1\\xf9N\\x8a\\x89:I\\xb7\\x0c\\x88\\x88wrm=\\xbbO\\xea\\xf6q\\xb0\\xa5\\xd7\\xac%\\x93\\x8bS\\x89P\\xa4' and logIndex: 2 encountered the following error during processing: MismatchedABI(The event signature did not match the provided ABI). It has been discarded.\n",
      "  f\"The log with transaction hash: {log['transactionHash']} and \"\n",
      "/home/simone/.local/opt/miniconda3/envs/blockchain/lib/python3.7/site-packages/web3/contract.py:1154: UserWarning: The log with transaction hash: b'\\xd4\\xc9\\x10\\x0c\\xc5rI\\xf4{R\\xe3\\x81\\x07\\x18\\xbd@\\xda%f\\x96\\xa2\\x16\\xcex\\xbfA\\xd0\\xe9\\x19m\\xf8y' and logIndex: 6 encountered the following error during processing: MismatchedABI(The event signature did not match the provided ABI). It has been discarded.\n",
      "  f\"The log with transaction hash: {log['transactionHash']} and \"\n",
      "/home/simone/.local/opt/miniconda3/envs/blockchain/lib/python3.7/site-packages/web3/contract.py:1154: UserWarning: The log with transaction hash: b'\\xd4\\xc9\\x10\\x0c\\xc5rI\\xf4{R\\xe3\\x81\\x07\\x18\\xbd@\\xda%f\\x96\\xa2\\x16\\xcex\\xbfA\\xd0\\xe9\\x19m\\xf8y' and logIndex: 7 encountered the following error during processing: MismatchedABI(The event signature did not match the provided ABI). It has been discarded.\n",
      "  f\"The log with transaction hash: {log['transactionHash']} and \"\n",
      "/home/simone/.local/opt/miniconda3/envs/blockchain/lib/python3.7/site-packages/web3/contract.py:1154: UserWarning: The log with transaction hash: b'\\xd4\\xc9\\x10\\x0c\\xc5rI\\xf4{R\\xe3\\x81\\x07\\x18\\xbd@\\xda%f\\x96\\xa2\\x16\\xcex\\xbfA\\xd0\\xe9\\x19m\\xf8y' and logIndex: 8 encountered the following error during processing: MismatchedABI(The event signature did not match the provided ABI). It has been discarded.\n",
      "  f\"The log with transaction hash: {log['transactionHash']} and \"\n",
      "/home/simone/.local/opt/miniconda3/envs/blockchain/lib/python3.7/site-packages/web3/contract.py:1154: UserWarning: The log with transaction hash: b'\\x0c8\\x0f\\x14\\xec\\xe0\\xe2o\":{\\xffa\\xcfl-$\\xfd\\x84\\xafd\\xcc\\x82~\\xba\\xeb\\xdaL7H\\xc4[' and logIndex: 0 encountered the following error during processing: MismatchedABI(The event signature did not match the provided ABI). It has been discarded.\n",
      "  f\"The log with transaction hash: {log['transactionHash']} and \"\n",
      "/home/simone/.local/opt/miniconda3/envs/blockchain/lib/python3.7/site-packages/web3/contract.py:1154: UserWarning: The log with transaction hash: b'\\x0c8\\x0f\\x14\\xec\\xe0\\xe2o\":{\\xffa\\xcfl-$\\xfd\\x84\\xafd\\xcc\\x82~\\xba\\xeb\\xdaL7H\\xc4[' and logIndex: 1 encountered the following error during processing: MismatchedABI(The event signature did not match the provided ABI). It has been discarded.\n",
      "  f\"The log with transaction hash: {log['transactionHash']} and \"\n",
      "/home/simone/.local/opt/miniconda3/envs/blockchain/lib/python3.7/site-packages/web3/contract.py:1154: UserWarning: The log with transaction hash: b'\\x0c8\\x0f\\x14\\xec\\xe0\\xe2o\":{\\xffa\\xcfl-$\\xfd\\x84\\xafd\\xcc\\x82~\\xba\\xeb\\xdaL7H\\xc4[' and logIndex: 2 encountered the following error during processing: MismatchedABI(The event signature did not match the provided ABI). It has been discarded.\n",
      "  f\"The log with transaction hash: {log['transactionHash']} and \"\n"
     ]
    },
    {
     "name": "stderr",
     "output_type": "stream",
     "text": [
      "/home/simone/.local/opt/miniconda3/envs/blockchain/lib/python3.7/site-packages/web3/contract.py:1154: UserWarning: The log with transaction hash: b'5\\xf3\\xc9\\xe1\\xbc\\x85\\xab~}\\x8b\\xeec\\xaf\\xc7\\xc4\\x83\\xfe(R\\xc7i\\x86\\xec\\xe9-1\\xf4B\\x12\\x86\\xd7\\xb3' and logIndex: 0 encountered the following error during processing: MismatchedABI(The event signature did not match the provided ABI). It has been discarded.\n",
      "  f\"The log with transaction hash: {log['transactionHash']} and \"\n",
      "/home/simone/.local/opt/miniconda3/envs/blockchain/lib/python3.7/site-packages/web3/contract.py:1154: UserWarning: The log with transaction hash: b'5\\xf3\\xc9\\xe1\\xbc\\x85\\xab~}\\x8b\\xeec\\xaf\\xc7\\xc4\\x83\\xfe(R\\xc7i\\x86\\xec\\xe9-1\\xf4B\\x12\\x86\\xd7\\xb3' and logIndex: 1 encountered the following error during processing: MismatchedABI(The event signature did not match the provided ABI). It has been discarded.\n",
      "  f\"The log with transaction hash: {log['transactionHash']} and \"\n",
      "/home/simone/.local/opt/miniconda3/envs/blockchain/lib/python3.7/site-packages/web3/contract.py:1154: UserWarning: The log with transaction hash: b'5\\xf3\\xc9\\xe1\\xbc\\x85\\xab~}\\x8b\\xeec\\xaf\\xc7\\xc4\\x83\\xfe(R\\xc7i\\x86\\xec\\xe9-1\\xf4B\\x12\\x86\\xd7\\xb3' and logIndex: 2 encountered the following error during processing: MismatchedABI(The event signature did not match the provided ABI). It has been discarded.\n",
      "  f\"The log with transaction hash: {log['transactionHash']} and \"\n",
      "/home/simone/.local/opt/miniconda3/envs/blockchain/lib/python3.7/site-packages/web3/contract.py:1154: UserWarning: The log with transaction hash: b'\\xbcE\\xc1\\xa2\\xb5M`\\x98\\xfaI\\x18\\xd3\\x14\\xd3\\\\XN\\x9d\\x0c\\x85v\\x9f\\x8ahw\\xba\\x14_\\r)\\xaa\\x88' and logIndex: 0 encountered the following error during processing: MismatchedABI(The event signature did not match the provided ABI). It has been discarded.\n",
      "  f\"The log with transaction hash: {log['transactionHash']} and \"\n",
      "/home/simone/.local/opt/miniconda3/envs/blockchain/lib/python3.7/site-packages/web3/contract.py:1154: UserWarning: The log with transaction hash: b'\\xbcE\\xc1\\xa2\\xb5M`\\x98\\xfaI\\x18\\xd3\\x14\\xd3\\\\XN\\x9d\\x0c\\x85v\\x9f\\x8ahw\\xba\\x14_\\r)\\xaa\\x88' and logIndex: 1 encountered the following error during processing: MismatchedABI(The event signature did not match the provided ABI). It has been discarded.\n",
      "  f\"The log with transaction hash: {log['transactionHash']} and \"\n",
      "/home/simone/.local/opt/miniconda3/envs/blockchain/lib/python3.7/site-packages/web3/contract.py:1154: UserWarning: The log with transaction hash: b'\\xbcE\\xc1\\xa2\\xb5M`\\x98\\xfaI\\x18\\xd3\\x14\\xd3\\\\XN\\x9d\\x0c\\x85v\\x9f\\x8ahw\\xba\\x14_\\r)\\xaa\\x88' and logIndex: 2 encountered the following error during processing: MismatchedABI(The event signature did not match the provided ABI). It has been discarded.\n",
      "  f\"The log with transaction hash: {log['transactionHash']} and \"\n",
      "/home/simone/.local/opt/miniconda3/envs/blockchain/lib/python3.7/site-packages/web3/contract.py:1154: UserWarning: The log with transaction hash: b'\\xffX^\\xaf\\xdf\\x9c\\xb9\\x0f\\xdd\\xdf\\xec\\x12\\xd3\\x07\\xb2\\x94R\\xbe\\r;\\x8f\\xcce_P\\xb3\\xfd\\x1b@\\x1e\\xb7\\xfb' and logIndex: 0 encountered the following error during processing: MismatchedABI(The event signature did not match the provided ABI). It has been discarded.\n",
      "  f\"The log with transaction hash: {log['transactionHash']} and \"\n",
      "/home/simone/.local/opt/miniconda3/envs/blockchain/lib/python3.7/site-packages/web3/contract.py:1154: UserWarning: The log with transaction hash: b'\\xffX^\\xaf\\xdf\\x9c\\xb9\\x0f\\xdd\\xdf\\xec\\x12\\xd3\\x07\\xb2\\x94R\\xbe\\r;\\x8f\\xcce_P\\xb3\\xfd\\x1b@\\x1e\\xb7\\xfb' and logIndex: 1 encountered the following error during processing: MismatchedABI(The event signature did not match the provided ABI). It has been discarded.\n",
      "  f\"The log with transaction hash: {log['transactionHash']} and \"\n",
      "/home/simone/.local/opt/miniconda3/envs/blockchain/lib/python3.7/site-packages/web3/contract.py:1154: UserWarning: The log with transaction hash: b'\\xffX^\\xaf\\xdf\\x9c\\xb9\\x0f\\xdd\\xdf\\xec\\x12\\xd3\\x07\\xb2\\x94R\\xbe\\r;\\x8f\\xcce_P\\xb3\\xfd\\x1b@\\x1e\\xb7\\xfb' and logIndex: 2 encountered the following error during processing: MismatchedABI(The event signature did not match the provided ABI). It has been discarded.\n",
      "  f\"The log with transaction hash: {log['transactionHash']} and \"\n",
      "/home/simone/.local/opt/miniconda3/envs/blockchain/lib/python3.7/site-packages/web3/contract.py:1154: UserWarning: The log with transaction hash: b'\\xe3WP\\xd9,wT\\x15\\xedT\\xbb\\xc3\\x14?:\\xd5?\\xf9NA\\xe4\\x9c\\x8d\\xacp\\xda\\xaa\\xdd\\xc5\\x12\\xb3\"' and logIndex: 2 encountered the following error during processing: MismatchedABI(The event signature did not match the provided ABI). It has been discarded.\n",
      "  f\"The log with transaction hash: {log['transactionHash']} and \"\n",
      "/home/simone/.local/opt/miniconda3/envs/blockchain/lib/python3.7/site-packages/web3/contract.py:1154: UserWarning: The log with transaction hash: b'\\xe3WP\\xd9,wT\\x15\\xedT\\xbb\\xc3\\x14?:\\xd5?\\xf9NA\\xe4\\x9c\\x8d\\xacp\\xda\\xaa\\xdd\\xc5\\x12\\xb3\"' and logIndex: 3 encountered the following error during processing: MismatchedABI(The event signature did not match the provided ABI). It has been discarded.\n",
      "  f\"The log with transaction hash: {log['transactionHash']} and \"\n",
      "/home/simone/.local/opt/miniconda3/envs/blockchain/lib/python3.7/site-packages/web3/contract.py:1154: UserWarning: The log with transaction hash: b'\\xe3WP\\xd9,wT\\x15\\xedT\\xbb\\xc3\\x14?:\\xd5?\\xf9NA\\xe4\\x9c\\x8d\\xacp\\xda\\xaa\\xdd\\xc5\\x12\\xb3\"' and logIndex: 4 encountered the following error during processing: MismatchedABI(The event signature did not match the provided ABI). It has been discarded.\n",
      "  f\"The log with transaction hash: {log['transactionHash']} and \"\n",
      "/home/simone/.local/opt/miniconda3/envs/blockchain/lib/python3.7/site-packages/web3/contract.py:1154: UserWarning: The log with transaction hash: b',\\x03\\x13\\x13 4`\\xce9\\x9b\\x8d\\x81.\\xf6\\xb5\\xa5SG\\xb0\\xe7X=\\x89\\x8c7\\x04L}F\\xf9\\x98\\x86' and logIndex: 0 encountered the following error during processing: MismatchedABI(The event signature did not match the provided ABI). It has been discarded.\n",
      "  f\"The log with transaction hash: {log['transactionHash']} and \"\n",
      "/home/simone/.local/opt/miniconda3/envs/blockchain/lib/python3.7/site-packages/web3/contract.py:1154: UserWarning: The log with transaction hash: b',\\x03\\x13\\x13 4`\\xce9\\x9b\\x8d\\x81.\\xf6\\xb5\\xa5SG\\xb0\\xe7X=\\x89\\x8c7\\x04L}F\\xf9\\x98\\x86' and logIndex: 1 encountered the following error during processing: MismatchedABI(The event signature did not match the provided ABI). It has been discarded.\n",
      "  f\"The log with transaction hash: {log['transactionHash']} and \"\n",
      "/home/simone/.local/opt/miniconda3/envs/blockchain/lib/python3.7/site-packages/web3/contract.py:1154: UserWarning: The log with transaction hash: b',\\x03\\x13\\x13 4`\\xce9\\x9b\\x8d\\x81.\\xf6\\xb5\\xa5SG\\xb0\\xe7X=\\x89\\x8c7\\x04L}F\\xf9\\x98\\x86' and logIndex: 2 encountered the following error during processing: MismatchedABI(The event signature did not match the provided ABI). It has been discarded.\n",
      "  f\"The log with transaction hash: {log['transactionHash']} and \"\n",
      "/home/simone/.local/opt/miniconda3/envs/blockchain/lib/python3.7/site-packages/web3/contract.py:1154: UserWarning: The log with transaction hash: b'\\xd8\\x00R\\x7ff\\x95\\x8c\\xf2,Ed93n\\xfa\\x94\\xd4\\x1aV\\xb0\\xcf\\xe2[jO\\xef\\x0f\\xbd\\x9f\\xea\\x1bg' and logIndex: 0 encountered the following error during processing: MismatchedABI(The event signature did not match the provided ABI). It has been discarded.\n",
      "  f\"The log with transaction hash: {log['transactionHash']} and \"\n",
      "/home/simone/.local/opt/miniconda3/envs/blockchain/lib/python3.7/site-packages/web3/contract.py:1154: UserWarning: The log with transaction hash: b'\\xd8\\x00R\\x7ff\\x95\\x8c\\xf2,Ed93n\\xfa\\x94\\xd4\\x1aV\\xb0\\xcf\\xe2[jO\\xef\\x0f\\xbd\\x9f\\xea\\x1bg' and logIndex: 1 encountered the following error during processing: MismatchedABI(The event signature did not match the provided ABI). It has been discarded.\n",
      "  f\"The log with transaction hash: {log['transactionHash']} and \"\n",
      "/home/simone/.local/opt/miniconda3/envs/blockchain/lib/python3.7/site-packages/web3/contract.py:1154: UserWarning: The log with transaction hash: b'\\xd8\\x00R\\x7ff\\x95\\x8c\\xf2,Ed93n\\xfa\\x94\\xd4\\x1aV\\xb0\\xcf\\xe2[jO\\xef\\x0f\\xbd\\x9f\\xea\\x1bg' and logIndex: 2 encountered the following error during processing: MismatchedABI(The event signature did not match the provided ABI). It has been discarded.\n",
      "  f\"The log with transaction hash: {log['transactionHash']} and \"\n"
     ]
    },
    {
     "name": "stderr",
     "output_type": "stream",
     "text": [
      "/home/simone/.local/opt/miniconda3/envs/blockchain/lib/python3.7/site-packages/web3/contract.py:1154: UserWarning: The log with transaction hash: b'g\\xbfM\\x08\\x1b\\xf6\\xb6p\\xd2}&\"Q}E_\\xea\\x1f6\\xda\\x8ch\\xd1C\\xe3\\x0f/\\x93!U\\x95H' and logIndex: 4 encountered the following error during processing: MismatchedABI(The event signature did not match the provided ABI). It has been discarded.\n",
      "  f\"The log with transaction hash: {log['transactionHash']} and \"\n",
      "/home/simone/.local/opt/miniconda3/envs/blockchain/lib/python3.7/site-packages/web3/contract.py:1154: UserWarning: The log with transaction hash: b'g\\xbfM\\x08\\x1b\\xf6\\xb6p\\xd2}&\"Q}E_\\xea\\x1f6\\xda\\x8ch\\xd1C\\xe3\\x0f/\\x93!U\\x95H' and logIndex: 5 encountered the following error during processing: MismatchedABI(The event signature did not match the provided ABI). It has been discarded.\n",
      "  f\"The log with transaction hash: {log['transactionHash']} and \"\n",
      "/home/simone/.local/opt/miniconda3/envs/blockchain/lib/python3.7/site-packages/web3/contract.py:1154: UserWarning: The log with transaction hash: b'g\\xbfM\\x08\\x1b\\xf6\\xb6p\\xd2}&\"Q}E_\\xea\\x1f6\\xda\\x8ch\\xd1C\\xe3\\x0f/\\x93!U\\x95H' and logIndex: 6 encountered the following error during processing: MismatchedABI(The event signature did not match the provided ABI). It has been discarded.\n",
      "  f\"The log with transaction hash: {log['transactionHash']} and \"\n",
      "/home/simone/.local/opt/miniconda3/envs/blockchain/lib/python3.7/site-packages/web3/contract.py:1154: UserWarning: The log with transaction hash: b'LD\\xa07\\x8f`\\x91A\\xe1\\xf2PIA\\xa4\\x12)O\\x88\\x14-7\\xc6\\xa9\\xd1}%\\xe6e\\xfe\\xcf\\x07#' and logIndex: 0 encountered the following error during processing: MismatchedABI(The event signature did not match the provided ABI). It has been discarded.\n",
      "  f\"The log with transaction hash: {log['transactionHash']} and \"\n",
      "/home/simone/.local/opt/miniconda3/envs/blockchain/lib/python3.7/site-packages/web3/contract.py:1154: UserWarning: The log with transaction hash: b'LD\\xa07\\x8f`\\x91A\\xe1\\xf2PIA\\xa4\\x12)O\\x88\\x14-7\\xc6\\xa9\\xd1}%\\xe6e\\xfe\\xcf\\x07#' and logIndex: 1 encountered the following error during processing: MismatchedABI(The event signature did not match the provided ABI). It has been discarded.\n",
      "  f\"The log with transaction hash: {log['transactionHash']} and \"\n",
      "/home/simone/.local/opt/miniconda3/envs/blockchain/lib/python3.7/site-packages/web3/contract.py:1154: UserWarning: The log with transaction hash: b'LD\\xa07\\x8f`\\x91A\\xe1\\xf2PIA\\xa4\\x12)O\\x88\\x14-7\\xc6\\xa9\\xd1}%\\xe6e\\xfe\\xcf\\x07#' and logIndex: 2 encountered the following error during processing: MismatchedABI(The event signature did not match the provided ABI). It has been discarded.\n",
      "  f\"The log with transaction hash: {log['transactionHash']} and \"\n",
      "/home/simone/.local/opt/miniconda3/envs/blockchain/lib/python3.7/site-packages/web3/contract.py:1154: UserWarning: The log with transaction hash: b'\\xb6\\x08\\xa2t\\x0c\\x02\\xdct\\xffY\\x9c\\xf7\\xa4\\x17MO\\xd2\\xa62\\xae|\\x08\\x9d\\xe4o\\x9a~\\xc25\\xaf\\xbb\\xbf' and logIndex: 0 encountered the following error during processing: MismatchedABI(The event signature did not match the provided ABI). It has been discarded.\n",
      "  f\"The log with transaction hash: {log['transactionHash']} and \"\n",
      "/home/simone/.local/opt/miniconda3/envs/blockchain/lib/python3.7/site-packages/web3/contract.py:1154: UserWarning: The log with transaction hash: b'\\xb6\\x08\\xa2t\\x0c\\x02\\xdct\\xffY\\x9c\\xf7\\xa4\\x17MO\\xd2\\xa62\\xae|\\x08\\x9d\\xe4o\\x9a~\\xc25\\xaf\\xbb\\xbf' and logIndex: 1 encountered the following error during processing: MismatchedABI(The event signature did not match the provided ABI). It has been discarded.\n",
      "  f\"The log with transaction hash: {log['transactionHash']} and \"\n",
      "/home/simone/.local/opt/miniconda3/envs/blockchain/lib/python3.7/site-packages/web3/contract.py:1154: UserWarning: The log with transaction hash: b'\\xb6\\x08\\xa2t\\x0c\\x02\\xdct\\xffY\\x9c\\xf7\\xa4\\x17MO\\xd2\\xa62\\xae|\\x08\\x9d\\xe4o\\x9a~\\xc25\\xaf\\xbb\\xbf' and logIndex: 2 encountered the following error during processing: MismatchedABI(The event signature did not match the provided ABI). It has been discarded.\n",
      "  f\"The log with transaction hash: {log['transactionHash']} and \"\n",
      "/home/simone/.local/opt/miniconda3/envs/blockchain/lib/python3.7/site-packages/web3/contract.py:1154: UserWarning: The log with transaction hash: b'\\x8e\\xae\\xcd~&\\xed\\x81\\xbe\\xf6{\\xb6Ao\\x97y\\x06\\x82\\x8c&bF[\\x1a}\\xc2h1\\xff\\x822>c' and logIndex: 0 encountered the following error during processing: MismatchedABI(The event signature did not match the provided ABI). It has been discarded.\n",
      "  f\"The log with transaction hash: {log['transactionHash']} and \"\n",
      "/home/simone/.local/opt/miniconda3/envs/blockchain/lib/python3.7/site-packages/web3/contract.py:1154: UserWarning: The log with transaction hash: b'\\x8e\\xae\\xcd~&\\xed\\x81\\xbe\\xf6{\\xb6Ao\\x97y\\x06\\x82\\x8c&bF[\\x1a}\\xc2h1\\xff\\x822>c' and logIndex: 1 encountered the following error during processing: MismatchedABI(The event signature did not match the provided ABI). It has been discarded.\n",
      "  f\"The log with transaction hash: {log['transactionHash']} and \"\n",
      "/home/simone/.local/opt/miniconda3/envs/blockchain/lib/python3.7/site-packages/web3/contract.py:1154: UserWarning: The log with transaction hash: b'\\x8e\\xae\\xcd~&\\xed\\x81\\xbe\\xf6{\\xb6Ao\\x97y\\x06\\x82\\x8c&bF[\\x1a}\\xc2h1\\xff\\x822>c' and logIndex: 2 encountered the following error during processing: MismatchedABI(The event signature did not match the provided ABI). It has been discarded.\n",
      "  f\"The log with transaction hash: {log['transactionHash']} and \"\n",
      "/home/simone/.local/opt/miniconda3/envs/blockchain/lib/python3.7/site-packages/web3/contract.py:1154: UserWarning: The log with transaction hash: b'\\x01\\xec\\x8e\\x86\\x0b+\\xbc\\xe1\\xb7]\\xb1r\\x03F\\x03\\xb3\\x92\\xe6\\x10\\xeaO\\xd7W\\xa0\\x1b\\x8c\\xde\\xd8f\\xac4R' and logIndex: 4 encountered the following error during processing: MismatchedABI(The event signature did not match the provided ABI). It has been discarded.\n",
      "  f\"The log with transaction hash: {log['transactionHash']} and \"\n",
      "/home/simone/.local/opt/miniconda3/envs/blockchain/lib/python3.7/site-packages/web3/contract.py:1154: UserWarning: The log with transaction hash: b'\\x01\\xec\\x8e\\x86\\x0b+\\xbc\\xe1\\xb7]\\xb1r\\x03F\\x03\\xb3\\x92\\xe6\\x10\\xeaO\\xd7W\\xa0\\x1b\\x8c\\xde\\xd8f\\xac4R' and logIndex: 5 encountered the following error during processing: MismatchedABI(The event signature did not match the provided ABI). It has been discarded.\n",
      "  f\"The log with transaction hash: {log['transactionHash']} and \"\n",
      "/home/simone/.local/opt/miniconda3/envs/blockchain/lib/python3.7/site-packages/web3/contract.py:1154: UserWarning: The log with transaction hash: b'\\x01\\xec\\x8e\\x86\\x0b+\\xbc\\xe1\\xb7]\\xb1r\\x03F\\x03\\xb3\\x92\\xe6\\x10\\xeaO\\xd7W\\xa0\\x1b\\x8c\\xde\\xd8f\\xac4R' and logIndex: 6 encountered the following error during processing: MismatchedABI(The event signature did not match the provided ABI). It has been discarded.\n",
      "  f\"The log with transaction hash: {log['transactionHash']} and \"\n",
      "/home/simone/.local/opt/miniconda3/envs/blockchain/lib/python3.7/site-packages/web3/contract.py:1154: UserWarning: The log with transaction hash: b'?<\\x8a\\xabB\\xda\\xb2sL-Jy7\\xf2\\xd7\\xd5\\n\\x9d\\xec\\x9eq\\xe5n,\\xfd\\xdb_8\\xe0$\"\\x10' and logIndex: 0 encountered the following error during processing: MismatchedABI(The event signature did not match the provided ABI). It has been discarded.\n",
      "  f\"The log with transaction hash: {log['transactionHash']} and \"\n",
      "/home/simone/.local/opt/miniconda3/envs/blockchain/lib/python3.7/site-packages/web3/contract.py:1154: UserWarning: The log with transaction hash: b'?<\\x8a\\xabB\\xda\\xb2sL-Jy7\\xf2\\xd7\\xd5\\n\\x9d\\xec\\x9eq\\xe5n,\\xfd\\xdb_8\\xe0$\"\\x10' and logIndex: 1 encountered the following error during processing: MismatchedABI(The event signature did not match the provided ABI). It has been discarded.\n",
      "  f\"The log with transaction hash: {log['transactionHash']} and \"\n",
      "/home/simone/.local/opt/miniconda3/envs/blockchain/lib/python3.7/site-packages/web3/contract.py:1154: UserWarning: The log with transaction hash: b'?<\\x8a\\xabB\\xda\\xb2sL-Jy7\\xf2\\xd7\\xd5\\n\\x9d\\xec\\x9eq\\xe5n,\\xfd\\xdb_8\\xe0$\"\\x10' and logIndex: 2 encountered the following error during processing: MismatchedABI(The event signature did not match the provided ABI). It has been discarded.\n",
      "  f\"The log with transaction hash: {log['transactionHash']} and \"\n"
     ]
    },
    {
     "name": "stderr",
     "output_type": "stream",
     "text": [
      "/home/simone/.local/opt/miniconda3/envs/blockchain/lib/python3.7/site-packages/web3/contract.py:1154: UserWarning: The log with transaction hash: b'\\x92\\xcdm\\xf0E\\xd7\\xbbA\\xd1>\\xe5R\\x135u\\x00E\\xff\\xf92\\xf9[\\xc2bc\\xb4\\xcfMP\\xbe\\x84\\xca' and logIndex: 0 encountered the following error during processing: MismatchedABI(The event signature did not match the provided ABI). It has been discarded.\n",
      "  f\"The log with transaction hash: {log['transactionHash']} and \"\n",
      "/home/simone/.local/opt/miniconda3/envs/blockchain/lib/python3.7/site-packages/web3/contract.py:1154: UserWarning: The log with transaction hash: b'\\x92\\xcdm\\xf0E\\xd7\\xbbA\\xd1>\\xe5R\\x135u\\x00E\\xff\\xf92\\xf9[\\xc2bc\\xb4\\xcfMP\\xbe\\x84\\xca' and logIndex: 1 encountered the following error during processing: MismatchedABI(The event signature did not match the provided ABI). It has been discarded.\n",
      "  f\"The log with transaction hash: {log['transactionHash']} and \"\n",
      "/home/simone/.local/opt/miniconda3/envs/blockchain/lib/python3.7/site-packages/web3/contract.py:1154: UserWarning: The log with transaction hash: b'\\x92\\xcdm\\xf0E\\xd7\\xbbA\\xd1>\\xe5R\\x135u\\x00E\\xff\\xf92\\xf9[\\xc2bc\\xb4\\xcfMP\\xbe\\x84\\xca' and logIndex: 2 encountered the following error during processing: MismatchedABI(The event signature did not match the provided ABI). It has been discarded.\n",
      "  f\"The log with transaction hash: {log['transactionHash']} and \"\n",
      "/home/simone/.local/opt/miniconda3/envs/blockchain/lib/python3.7/site-packages/web3/contract.py:1154: UserWarning: The log with transaction hash: b'A\\x03k\\xc1\\xc7\\xf2\\xef\\x7f\\x10d@\\xa7\\xefw{\\x07!\\xcaY9\\x07\\xf8\\xceyW!\\xd7W\\xa1\\xc0aP' and logIndex: 3 encountered the following error during processing: MismatchedABI(The event signature did not match the provided ABI). It has been discarded.\n",
      "  f\"The log with transaction hash: {log['transactionHash']} and \"\n",
      "/home/simone/.local/opt/miniconda3/envs/blockchain/lib/python3.7/site-packages/web3/contract.py:1154: UserWarning: The log with transaction hash: b'A\\x03k\\xc1\\xc7\\xf2\\xef\\x7f\\x10d@\\xa7\\xefw{\\x07!\\xcaY9\\x07\\xf8\\xceyW!\\xd7W\\xa1\\xc0aP' and logIndex: 4 encountered the following error during processing: MismatchedABI(The event signature did not match the provided ABI). It has been discarded.\n",
      "  f\"The log with transaction hash: {log['transactionHash']} and \"\n",
      "/home/simone/.local/opt/miniconda3/envs/blockchain/lib/python3.7/site-packages/web3/contract.py:1154: UserWarning: The log with transaction hash: b'A\\x03k\\xc1\\xc7\\xf2\\xef\\x7f\\x10d@\\xa7\\xefw{\\x07!\\xcaY9\\x07\\xf8\\xceyW!\\xd7W\\xa1\\xc0aP' and logIndex: 5 encountered the following error during processing: MismatchedABI(The event signature did not match the provided ABI). It has been discarded.\n",
      "  f\"The log with transaction hash: {log['transactionHash']} and \"\n",
      "/home/simone/.local/opt/miniconda3/envs/blockchain/lib/python3.7/site-packages/web3/contract.py:1154: UserWarning: The log with transaction hash: b'y\\xc2bm\\x043\\xe8\\r4\\x1f\\x80\\x12\\xba\\xc9\\x06\\x9e\\xab\\x1di<Y\\x90\\xc3t\\x92\\xfc3\\x00\\x05\\xad;\\n' and logIndex: 0 encountered the following error during processing: MismatchedABI(The event signature did not match the provided ABI). It has been discarded.\n",
      "  f\"The log with transaction hash: {log['transactionHash']} and \"\n",
      "/home/simone/.local/opt/miniconda3/envs/blockchain/lib/python3.7/site-packages/web3/contract.py:1154: UserWarning: The log with transaction hash: b'y\\xc2bm\\x043\\xe8\\r4\\x1f\\x80\\x12\\xba\\xc9\\x06\\x9e\\xab\\x1di<Y\\x90\\xc3t\\x92\\xfc3\\x00\\x05\\xad;\\n' and logIndex: 1 encountered the following error during processing: MismatchedABI(The event signature did not match the provided ABI). It has been discarded.\n",
      "  f\"The log with transaction hash: {log['transactionHash']} and \"\n",
      "/home/simone/.local/opt/miniconda3/envs/blockchain/lib/python3.7/site-packages/web3/contract.py:1154: UserWarning: The log with transaction hash: b'y\\xc2bm\\x043\\xe8\\r4\\x1f\\x80\\x12\\xba\\xc9\\x06\\x9e\\xab\\x1di<Y\\x90\\xc3t\\x92\\xfc3\\x00\\x05\\xad;\\n' and logIndex: 2 encountered the following error during processing: MismatchedABI(The event signature did not match the provided ABI). It has been discarded.\n",
      "  f\"The log with transaction hash: {log['transactionHash']} and \"\n",
      "/home/simone/.local/opt/miniconda3/envs/blockchain/lib/python3.7/site-packages/web3/contract.py:1154: UserWarning: The log with transaction hash: b'S\\x1d\\xf9\\xd0P\\x96\\xa0J\\xdb\\x19\\xb4\\x9a\\xbfIO\\x06\\x06A\\xc2\\xee\\xc0\\xb2i\\xe6/\\x9c\\nf\\xa85?\\x95' and logIndex: 0 encountered the following error during processing: MismatchedABI(The event signature did not match the provided ABI). It has been discarded.\n",
      "  f\"The log with transaction hash: {log['transactionHash']} and \"\n",
      "/home/simone/.local/opt/miniconda3/envs/blockchain/lib/python3.7/site-packages/web3/contract.py:1154: UserWarning: The log with transaction hash: b'S\\x1d\\xf9\\xd0P\\x96\\xa0J\\xdb\\x19\\xb4\\x9a\\xbfIO\\x06\\x06A\\xc2\\xee\\xc0\\xb2i\\xe6/\\x9c\\nf\\xa85?\\x95' and logIndex: 1 encountered the following error during processing: MismatchedABI(The event signature did not match the provided ABI). It has been discarded.\n",
      "  f\"The log with transaction hash: {log['transactionHash']} and \"\n",
      "/home/simone/.local/opt/miniconda3/envs/blockchain/lib/python3.7/site-packages/web3/contract.py:1154: UserWarning: The log with transaction hash: b'S\\x1d\\xf9\\xd0P\\x96\\xa0J\\xdb\\x19\\xb4\\x9a\\xbfIO\\x06\\x06A\\xc2\\xee\\xc0\\xb2i\\xe6/\\x9c\\nf\\xa85?\\x95' and logIndex: 2 encountered the following error during processing: MismatchedABI(The event signature did not match the provided ABI). It has been discarded.\n",
      "  f\"The log with transaction hash: {log['transactionHash']} and \"\n",
      "/home/simone/.local/opt/miniconda3/envs/blockchain/lib/python3.7/site-packages/web3/contract.py:1154: UserWarning: The log with transaction hash: b'\\xd9\\x8a\\xb5\\x8d\\x87\\x0fJM\\x1f\\x8b\\x17\\xb4\\x9a\\x84\\xc6C\\xd3\\xa3\\x13\\xaaZ\\xeeU\\xa2F\\x04\\x81\\xa5\\xbc\"\\x0f\\xba' and logIndex: 0 encountered the following error during processing: MismatchedABI(The event signature did not match the provided ABI). It has been discarded.\n",
      "  f\"The log with transaction hash: {log['transactionHash']} and \"\n",
      "/home/simone/.local/opt/miniconda3/envs/blockchain/lib/python3.7/site-packages/web3/contract.py:1154: UserWarning: The log with transaction hash: b'\\xd9\\x8a\\xb5\\x8d\\x87\\x0fJM\\x1f\\x8b\\x17\\xb4\\x9a\\x84\\xc6C\\xd3\\xa3\\x13\\xaaZ\\xeeU\\xa2F\\x04\\x81\\xa5\\xbc\"\\x0f\\xba' and logIndex: 1 encountered the following error during processing: MismatchedABI(The event signature did not match the provided ABI). It has been discarded.\n",
      "  f\"The log with transaction hash: {log['transactionHash']} and \"\n",
      "/home/simone/.local/opt/miniconda3/envs/blockchain/lib/python3.7/site-packages/web3/contract.py:1154: UserWarning: The log with transaction hash: b'\\xd9\\x8a\\xb5\\x8d\\x87\\x0fJM\\x1f\\x8b\\x17\\xb4\\x9a\\x84\\xc6C\\xd3\\xa3\\x13\\xaaZ\\xeeU\\xa2F\\x04\\x81\\xa5\\xbc\"\\x0f\\xba' and logIndex: 2 encountered the following error during processing: MismatchedABI(The event signature did not match the provided ABI). It has been discarded.\n",
      "  f\"The log with transaction hash: {log['transactionHash']} and \"\n",
      "/home/simone/.local/opt/miniconda3/envs/blockchain/lib/python3.7/site-packages/web3/contract.py:1154: UserWarning: The log with transaction hash: b'z\\xb0L\\xafdP\\x836\\xabc\\xb0y\\xce\\xc4\\xce\\xee\\xbfN\\xf7\\xec0D\\xad\\xbd\\xa4G\\xc3\\x08\\x88\\xf9\\xb1\\xd3' and logIndex: 0 encountered the following error during processing: MismatchedABI(The event signature did not match the provided ABI). It has been discarded.\n",
      "  f\"The log with transaction hash: {log['transactionHash']} and \"\n",
      "/home/simone/.local/opt/miniconda3/envs/blockchain/lib/python3.7/site-packages/web3/contract.py:1154: UserWarning: The log with transaction hash: b'z\\xb0L\\xafdP\\x836\\xabc\\xb0y\\xce\\xc4\\xce\\xee\\xbfN\\xf7\\xec0D\\xad\\xbd\\xa4G\\xc3\\x08\\x88\\xf9\\xb1\\xd3' and logIndex: 1 encountered the following error during processing: MismatchedABI(The event signature did not match the provided ABI). It has been discarded.\n",
      "  f\"The log with transaction hash: {log['transactionHash']} and \"\n",
      "/home/simone/.local/opt/miniconda3/envs/blockchain/lib/python3.7/site-packages/web3/contract.py:1154: UserWarning: The log with transaction hash: b'z\\xb0L\\xafdP\\x836\\xabc\\xb0y\\xce\\xc4\\xce\\xee\\xbfN\\xf7\\xec0D\\xad\\xbd\\xa4G\\xc3\\x08\\x88\\xf9\\xb1\\xd3' and logIndex: 2 encountered the following error during processing: MismatchedABI(The event signature did not match the provided ABI). It has been discarded.\n",
      "  f\"The log with transaction hash: {log['transactionHash']} and \"\n"
     ]
    },
    {
     "name": "stderr",
     "output_type": "stream",
     "text": [
      "/home/simone/.local/opt/miniconda3/envs/blockchain/lib/python3.7/site-packages/web3/contract.py:1154: UserWarning: The log with transaction hash: b'\\x99\\x83jjt\\xb3iJ\\x11\\x92.\\x02\\x0f\\xe0\\x0eo\\x12\\xd3\\xf1\\xd0k{?\\xe2\\xd1\\xc6A\\x11v\\x83\\xbf\\xa9' and logIndex: 0 encountered the following error during processing: MismatchedABI(The event signature did not match the provided ABI). It has been discarded.\n",
      "  f\"The log with transaction hash: {log['transactionHash']} and \"\n",
      "/home/simone/.local/opt/miniconda3/envs/blockchain/lib/python3.7/site-packages/web3/contract.py:1154: UserWarning: The log with transaction hash: b'\\x99\\x83jjt\\xb3iJ\\x11\\x92.\\x02\\x0f\\xe0\\x0eo\\x12\\xd3\\xf1\\xd0k{?\\xe2\\xd1\\xc6A\\x11v\\x83\\xbf\\xa9' and logIndex: 1 encountered the following error during processing: MismatchedABI(The event signature did not match the provided ABI). It has been discarded.\n",
      "  f\"The log with transaction hash: {log['transactionHash']} and \"\n",
      "/home/simone/.local/opt/miniconda3/envs/blockchain/lib/python3.7/site-packages/web3/contract.py:1154: UserWarning: The log with transaction hash: b'\\x99\\x83jjt\\xb3iJ\\x11\\x92.\\x02\\x0f\\xe0\\x0eo\\x12\\xd3\\xf1\\xd0k{?\\xe2\\xd1\\xc6A\\x11v\\x83\\xbf\\xa9' and logIndex: 2 encountered the following error during processing: MismatchedABI(The event signature did not match the provided ABI). It has been discarded.\n",
      "  f\"The log with transaction hash: {log['transactionHash']} and \"\n",
      "/home/simone/.local/opt/miniconda3/envs/blockchain/lib/python3.7/site-packages/web3/contract.py:1154: UserWarning: The log with transaction hash: b'\\x1a\\xa3<\\x82\\xf9\\xb4+\\x92\\xefYl\\x1ew?\\xd1F\\xe9\\xbe\\x03\\x1d4\\xbc\\xbb\\xa5\\xcc\\xd1@\\x1d\\x11\\xca[\\xf6' and logIndex: 0 encountered the following error during processing: MismatchedABI(The event signature did not match the provided ABI). It has been discarded.\n",
      "  f\"The log with transaction hash: {log['transactionHash']} and \"\n",
      "/home/simone/.local/opt/miniconda3/envs/blockchain/lib/python3.7/site-packages/web3/contract.py:1154: UserWarning: The log with transaction hash: b'\\x1a\\xa3<\\x82\\xf9\\xb4+\\x92\\xefYl\\x1ew?\\xd1F\\xe9\\xbe\\x03\\x1d4\\xbc\\xbb\\xa5\\xcc\\xd1@\\x1d\\x11\\xca[\\xf6' and logIndex: 1 encountered the following error during processing: MismatchedABI(The event signature did not match the provided ABI). It has been discarded.\n",
      "  f\"The log with transaction hash: {log['transactionHash']} and \"\n",
      "/home/simone/.local/opt/miniconda3/envs/blockchain/lib/python3.7/site-packages/web3/contract.py:1154: UserWarning: The log with transaction hash: b'\\x1a\\xa3<\\x82\\xf9\\xb4+\\x92\\xefYl\\x1ew?\\xd1F\\xe9\\xbe\\x03\\x1d4\\xbc\\xbb\\xa5\\xcc\\xd1@\\x1d\\x11\\xca[\\xf6' and logIndex: 2 encountered the following error during processing: MismatchedABI(The event signature did not match the provided ABI). It has been discarded.\n",
      "  f\"The log with transaction hash: {log['transactionHash']} and \"\n",
      "/home/simone/.local/opt/miniconda3/envs/blockchain/lib/python3.7/site-packages/web3/contract.py:1154: UserWarning: The log with transaction hash: b'C\\xd8\\x80\\xf7\\xa1\\x92\\x03\\x8b\\xdf\\xe0\\xbd\\xf1\"\\xa4\\x18\\x19\\xf9\\xed\\x850(!\\xdemz)\\x03d\\xb8\\xf6\\xe8\\xfe' and logIndex: 2 encountered the following error during processing: MismatchedABI(The event signature did not match the provided ABI). It has been discarded.\n",
      "  f\"The log with transaction hash: {log['transactionHash']} and \"\n",
      "/home/simone/.local/opt/miniconda3/envs/blockchain/lib/python3.7/site-packages/web3/contract.py:1154: UserWarning: The log with transaction hash: b'C\\xd8\\x80\\xf7\\xa1\\x92\\x03\\x8b\\xdf\\xe0\\xbd\\xf1\"\\xa4\\x18\\x19\\xf9\\xed\\x850(!\\xdemz)\\x03d\\xb8\\xf6\\xe8\\xfe' and logIndex: 3 encountered the following error during processing: MismatchedABI(The event signature did not match the provided ABI). It has been discarded.\n",
      "  f\"The log with transaction hash: {log['transactionHash']} and \"\n",
      "/home/simone/.local/opt/miniconda3/envs/blockchain/lib/python3.7/site-packages/web3/contract.py:1154: UserWarning: The log with transaction hash: b'C\\xd8\\x80\\xf7\\xa1\\x92\\x03\\x8b\\xdf\\xe0\\xbd\\xf1\"\\xa4\\x18\\x19\\xf9\\xed\\x850(!\\xdemz)\\x03d\\xb8\\xf6\\xe8\\xfe' and logIndex: 4 encountered the following error during processing: MismatchedABI(The event signature did not match the provided ABI). It has been discarded.\n",
      "  f\"The log with transaction hash: {log['transactionHash']} and \"\n",
      "/home/simone/.local/opt/miniconda3/envs/blockchain/lib/python3.7/site-packages/web3/contract.py:1154: UserWarning: The log with transaction hash: b'3\\xa6\\xf3\\x95P\\x17\\x88\\xa5w6Ct\\x87\\xd8\\x0fe\\x96l\\x97\\xbd\\xb7\\x0e\\x87\\x85jR{\\x93\\x9dK\\x9e\\x18' and logIndex: 10 encountered the following error during processing: MismatchedABI(The event signature did not match the provided ABI). It has been discarded.\n",
      "  f\"The log with transaction hash: {log['transactionHash']} and \"\n",
      "/home/simone/.local/opt/miniconda3/envs/blockchain/lib/python3.7/site-packages/web3/contract.py:1154: UserWarning: The log with transaction hash: b'3\\xa6\\xf3\\x95P\\x17\\x88\\xa5w6Ct\\x87\\xd8\\x0fe\\x96l\\x97\\xbd\\xb7\\x0e\\x87\\x85jR{\\x93\\x9dK\\x9e\\x18' and logIndex: 11 encountered the following error during processing: MismatchedABI(The event signature did not match the provided ABI). It has been discarded.\n",
      "  f\"The log with transaction hash: {log['transactionHash']} and \"\n",
      "/home/simone/.local/opt/miniconda3/envs/blockchain/lib/python3.7/site-packages/web3/contract.py:1154: UserWarning: The log with transaction hash: b'3\\xa6\\xf3\\x95P\\x17\\x88\\xa5w6Ct\\x87\\xd8\\x0fe\\x96l\\x97\\xbd\\xb7\\x0e\\x87\\x85jR{\\x93\\x9dK\\x9e\\x18' and logIndex: 12 encountered the following error during processing: MismatchedABI(The event signature did not match the provided ABI). It has been discarded.\n",
      "  f\"The log with transaction hash: {log['transactionHash']} and \"\n",
      "/home/simone/.local/opt/miniconda3/envs/blockchain/lib/python3.7/site-packages/web3/contract.py:1154: UserWarning: The log with transaction hash: b'V\\x9b}v\\x15\\xffH\\x98\\xb3\\x03\\xb3\\xe4\\xa7h\\x11Wt\\x0f\\x93RI\\x0c!\\xbf\\x89\\x0cp+\\xe0l\\xbe\\xc3' and logIndex: 0 encountered the following error during processing: MismatchedABI(The event signature did not match the provided ABI). It has been discarded.\n",
      "  f\"The log with transaction hash: {log['transactionHash']} and \"\n",
      "/home/simone/.local/opt/miniconda3/envs/blockchain/lib/python3.7/site-packages/web3/contract.py:1154: UserWarning: The log with transaction hash: b'V\\x9b}v\\x15\\xffH\\x98\\xb3\\x03\\xb3\\xe4\\xa7h\\x11Wt\\x0f\\x93RI\\x0c!\\xbf\\x89\\x0cp+\\xe0l\\xbe\\xc3' and logIndex: 1 encountered the following error during processing: MismatchedABI(The event signature did not match the provided ABI). It has been discarded.\n",
      "  f\"The log with transaction hash: {log['transactionHash']} and \"\n",
      "/home/simone/.local/opt/miniconda3/envs/blockchain/lib/python3.7/site-packages/web3/contract.py:1154: UserWarning: The log with transaction hash: b'V\\x9b}v\\x15\\xffH\\x98\\xb3\\x03\\xb3\\xe4\\xa7h\\x11Wt\\x0f\\x93RI\\x0c!\\xbf\\x89\\x0cp+\\xe0l\\xbe\\xc3' and logIndex: 2 encountered the following error during processing: MismatchedABI(The event signature did not match the provided ABI). It has been discarded.\n",
      "  f\"The log with transaction hash: {log['transactionHash']} and \"\n",
      "/home/simone/.local/opt/miniconda3/envs/blockchain/lib/python3.7/site-packages/web3/contract.py:1154: UserWarning: The log with transaction hash: b'\\xb2;4>\\\\\\x99\\xb6\\xd0;\\x1a>\\x877\\xc5:K\\x87\\xf2(\\xe6\\xa1\\x9b\\xca\\xcd\\xb8v\\xfc\\xa14K\\x9fq' and logIndex: 1 encountered the following error during processing: MismatchedABI(The event signature did not match the provided ABI). It has been discarded.\n",
      "  f\"The log with transaction hash: {log['transactionHash']} and \"\n",
      "/home/simone/.local/opt/miniconda3/envs/blockchain/lib/python3.7/site-packages/web3/contract.py:1154: UserWarning: The log with transaction hash: b'\\xb2;4>\\\\\\x99\\xb6\\xd0;\\x1a>\\x877\\xc5:K\\x87\\xf2(\\xe6\\xa1\\x9b\\xca\\xcd\\xb8v\\xfc\\xa14K\\x9fq' and logIndex: 2 encountered the following error during processing: MismatchedABI(The event signature did not match the provided ABI). It has been discarded.\n",
      "  f\"The log with transaction hash: {log['transactionHash']} and \"\n",
      "/home/simone/.local/opt/miniconda3/envs/blockchain/lib/python3.7/site-packages/web3/contract.py:1154: UserWarning: The log with transaction hash: b'\\xb2;4>\\\\\\x99\\xb6\\xd0;\\x1a>\\x877\\xc5:K\\x87\\xf2(\\xe6\\xa1\\x9b\\xca\\xcd\\xb8v\\xfc\\xa14K\\x9fq' and logIndex: 3 encountered the following error during processing: MismatchedABI(The event signature did not match the provided ABI). It has been discarded.\n",
      "  f\"The log with transaction hash: {log['transactionHash']} and \"\n"
     ]
    },
    {
     "name": "stderr",
     "output_type": "stream",
     "text": [
      "/home/simone/.local/opt/miniconda3/envs/blockchain/lib/python3.7/site-packages/web3/contract.py:1154: UserWarning: The log with transaction hash: b'5\\xa8}\\xf5;\\x10i\\x10|f\\x1a)v\\x97\\xc1%\\x07w9\\x83\\x01O\\x17(O\\x14.\\x0b\\x0cs\\xd2\\x89' and logIndex: 4 encountered the following error during processing: MismatchedABI(The event signature did not match the provided ABI). It has been discarded.\n",
      "  f\"The log with transaction hash: {log['transactionHash']} and \"\n",
      "/home/simone/.local/opt/miniconda3/envs/blockchain/lib/python3.7/site-packages/web3/contract.py:1154: UserWarning: The log with transaction hash: b'5\\xa8}\\xf5;\\x10i\\x10|f\\x1a)v\\x97\\xc1%\\x07w9\\x83\\x01O\\x17(O\\x14.\\x0b\\x0cs\\xd2\\x89' and logIndex: 5 encountered the following error during processing: MismatchedABI(The event signature did not match the provided ABI). It has been discarded.\n",
      "  f\"The log with transaction hash: {log['transactionHash']} and \"\n",
      "/home/simone/.local/opt/miniconda3/envs/blockchain/lib/python3.7/site-packages/web3/contract.py:1154: UserWarning: The log with transaction hash: b'5\\xa8}\\xf5;\\x10i\\x10|f\\x1a)v\\x97\\xc1%\\x07w9\\x83\\x01O\\x17(O\\x14.\\x0b\\x0cs\\xd2\\x89' and logIndex: 6 encountered the following error during processing: MismatchedABI(The event signature did not match the provided ABI). It has been discarded.\n",
      "  f\"The log with transaction hash: {log['transactionHash']} and \"\n",
      "/home/simone/.local/opt/miniconda3/envs/blockchain/lib/python3.7/site-packages/web3/contract.py:1154: UserWarning: The log with transaction hash: b'\\x8fB\\xf0\\xf8\\xf7\\xd2x\\x14\"\\x06j?\\x01\\xaa\\x01K\\x07\\x80\\x813\\xc3\\xb8\\xf2i\\xd9\\xb3oF\\x82\\x86\\x1ak' and logIndex: 0 encountered the following error during processing: MismatchedABI(The event signature did not match the provided ABI). It has been discarded.\n",
      "  f\"The log with transaction hash: {log['transactionHash']} and \"\n",
      "/home/simone/.local/opt/miniconda3/envs/blockchain/lib/python3.7/site-packages/web3/contract.py:1154: UserWarning: The log with transaction hash: b'\\x8fB\\xf0\\xf8\\xf7\\xd2x\\x14\"\\x06j?\\x01\\xaa\\x01K\\x07\\x80\\x813\\xc3\\xb8\\xf2i\\xd9\\xb3oF\\x82\\x86\\x1ak' and logIndex: 1 encountered the following error during processing: MismatchedABI(The event signature did not match the provided ABI). It has been discarded.\n",
      "  f\"The log with transaction hash: {log['transactionHash']} and \"\n",
      "/home/simone/.local/opt/miniconda3/envs/blockchain/lib/python3.7/site-packages/web3/contract.py:1154: UserWarning: The log with transaction hash: b'\\x8fB\\xf0\\xf8\\xf7\\xd2x\\x14\"\\x06j?\\x01\\xaa\\x01K\\x07\\x80\\x813\\xc3\\xb8\\xf2i\\xd9\\xb3oF\\x82\\x86\\x1ak' and logIndex: 2 encountered the following error during processing: MismatchedABI(The event signature did not match the provided ABI). It has been discarded.\n",
      "  f\"The log with transaction hash: {log['transactionHash']} and \"\n",
      "/home/simone/.local/opt/miniconda3/envs/blockchain/lib/python3.7/site-packages/web3/contract.py:1154: UserWarning: The log with transaction hash: b'([\\x04d\\x94\\x1c\\xfac\\xacA\\x1e%\\xc8\\x87@\\x80JY)\\xedu\\xe7\\x9b\\xdaS\\x1f\\xfa\\xf4W\\x84\\xc9\\x0e' and logIndex: 2 encountered the following error during processing: MismatchedABI(The event signature did not match the provided ABI). It has been discarded.\n",
      "  f\"The log with transaction hash: {log['transactionHash']} and \"\n",
      "/home/simone/.local/opt/miniconda3/envs/blockchain/lib/python3.7/site-packages/web3/contract.py:1154: UserWarning: The log with transaction hash: b'([\\x04d\\x94\\x1c\\xfac\\xacA\\x1e%\\xc8\\x87@\\x80JY)\\xedu\\xe7\\x9b\\xdaS\\x1f\\xfa\\xf4W\\x84\\xc9\\x0e' and logIndex: 3 encountered the following error during processing: MismatchedABI(The event signature did not match the provided ABI). It has been discarded.\n",
      "  f\"The log with transaction hash: {log['transactionHash']} and \"\n",
      "/home/simone/.local/opt/miniconda3/envs/blockchain/lib/python3.7/site-packages/web3/contract.py:1154: UserWarning: The log with transaction hash: b'([\\x04d\\x94\\x1c\\xfac\\xacA\\x1e%\\xc8\\x87@\\x80JY)\\xedu\\xe7\\x9b\\xdaS\\x1f\\xfa\\xf4W\\x84\\xc9\\x0e' and logIndex: 4 encountered the following error during processing: MismatchedABI(The event signature did not match the provided ABI). It has been discarded.\n",
      "  f\"The log with transaction hash: {log['transactionHash']} and \"\n",
      "/home/simone/.local/opt/miniconda3/envs/blockchain/lib/python3.7/site-packages/web3/contract.py:1154: UserWarning: The log with transaction hash: b']\\xefE\\xb1\\xe4\\xf2\\xcd\\xa1\\x00\\xc8\\x8fNZyS\\xbf$\\xa3\\xad\\x99G8\\xee\\xb1v-2\\xadt\\xff\\xf04' and logIndex: 7 encountered the following error during processing: MismatchedABI(The event signature did not match the provided ABI). It has been discarded.\n",
      "  f\"The log with transaction hash: {log['transactionHash']} and \"\n",
      "/home/simone/.local/opt/miniconda3/envs/blockchain/lib/python3.7/site-packages/web3/contract.py:1154: UserWarning: The log with transaction hash: b']\\xefE\\xb1\\xe4\\xf2\\xcd\\xa1\\x00\\xc8\\x8fNZyS\\xbf$\\xa3\\xad\\x99G8\\xee\\xb1v-2\\xadt\\xff\\xf04' and logIndex: 8 encountered the following error during processing: MismatchedABI(The event signature did not match the provided ABI). It has been discarded.\n",
      "  f\"The log with transaction hash: {log['transactionHash']} and \"\n",
      "/home/simone/.local/opt/miniconda3/envs/blockchain/lib/python3.7/site-packages/web3/contract.py:1154: UserWarning: The log with transaction hash: b']\\xefE\\xb1\\xe4\\xf2\\xcd\\xa1\\x00\\xc8\\x8fNZyS\\xbf$\\xa3\\xad\\x99G8\\xee\\xb1v-2\\xadt\\xff\\xf04' and logIndex: 9 encountered the following error during processing: MismatchedABI(The event signature did not match the provided ABI). It has been discarded.\n",
      "  f\"The log with transaction hash: {log['transactionHash']} and \"\n",
      "/home/simone/.local/opt/miniconda3/envs/blockchain/lib/python3.7/site-packages/web3/contract.py:1154: UserWarning: The log with transaction hash: b'\\xe2: \\xef6\\xed\\xc8\\x89i\\x94Z\\xeeh\\x1a0\\xcf\\xe8q\\x9e\\xbf.Gp\\xf4F\\xbc\\xe8\\xb5\\xc5\\xe9\\x89\\x8f' and logIndex: 0 encountered the following error during processing: MismatchedABI(The event signature did not match the provided ABI). It has been discarded.\n",
      "  f\"The log with transaction hash: {log['transactionHash']} and \"\n",
      "/home/simone/.local/opt/miniconda3/envs/blockchain/lib/python3.7/site-packages/web3/contract.py:1154: UserWarning: The log with transaction hash: b'\\xe2: \\xef6\\xed\\xc8\\x89i\\x94Z\\xeeh\\x1a0\\xcf\\xe8q\\x9e\\xbf.Gp\\xf4F\\xbc\\xe8\\xb5\\xc5\\xe9\\x89\\x8f' and logIndex: 1 encountered the following error during processing: MismatchedABI(The event signature did not match the provided ABI). It has been discarded.\n",
      "  f\"The log with transaction hash: {log['transactionHash']} and \"\n",
      "/home/simone/.local/opt/miniconda3/envs/blockchain/lib/python3.7/site-packages/web3/contract.py:1154: UserWarning: The log with transaction hash: b'\\xe2: \\xef6\\xed\\xc8\\x89i\\x94Z\\xeeh\\x1a0\\xcf\\xe8q\\x9e\\xbf.Gp\\xf4F\\xbc\\xe8\\xb5\\xc5\\xe9\\x89\\x8f' and logIndex: 2 encountered the following error during processing: MismatchedABI(The event signature did not match the provided ABI). It has been discarded.\n",
      "  f\"The log with transaction hash: {log['transactionHash']} and \"\n",
      "/home/simone/.local/opt/miniconda3/envs/blockchain/lib/python3.7/site-packages/web3/contract.py:1154: UserWarning: The log with transaction hash: b'P\\'\\xceX\\x87\\x06Fu\\xa9P\\xb2\\x17\\xf2\\x1c\\x85G\\x84\\x82\"\\xb0y\\x08>\\x04]\\x1e\\x04\\xf2\\x97\\xb3\\xedI' and logIndex: 3 encountered the following error during processing: MismatchedABI(The event signature did not match the provided ABI). It has been discarded.\n",
      "  f\"The log with transaction hash: {log['transactionHash']} and \"\n",
      "/home/simone/.local/opt/miniconda3/envs/blockchain/lib/python3.7/site-packages/web3/contract.py:1154: UserWarning: The log with transaction hash: b'P\\'\\xceX\\x87\\x06Fu\\xa9P\\xb2\\x17\\xf2\\x1c\\x85G\\x84\\x82\"\\xb0y\\x08>\\x04]\\x1e\\x04\\xf2\\x97\\xb3\\xedI' and logIndex: 4 encountered the following error during processing: MismatchedABI(The event signature did not match the provided ABI). It has been discarded.\n",
      "  f\"The log with transaction hash: {log['transactionHash']} and \"\n",
      "/home/simone/.local/opt/miniconda3/envs/blockchain/lib/python3.7/site-packages/web3/contract.py:1154: UserWarning: The log with transaction hash: b'P\\'\\xceX\\x87\\x06Fu\\xa9P\\xb2\\x17\\xf2\\x1c\\x85G\\x84\\x82\"\\xb0y\\x08>\\x04]\\x1e\\x04\\xf2\\x97\\xb3\\xedI' and logIndex: 5 encountered the following error during processing: MismatchedABI(The event signature did not match the provided ABI). It has been discarded.\n",
      "  f\"The log with transaction hash: {log['transactionHash']} and \"\n",
      "/home/simone/.local/opt/miniconda3/envs/blockchain/lib/python3.7/site-packages/web3/contract.py:1154: UserWarning: The log with transaction hash: b'\\xec\\xeb\\x91\\x9e\\x14\\xf1*\\xd6\\x8d+{\\x03\\xd3\\xbc\\xf8EZ\\x0f[\\xc7\\x02@\\r\\xb2k\\xa7_\\xe0\\xaa\\\\u\\x14' and logIndex: 0 encountered the following error during processing: MismatchedABI(The event signature did not match the provided ABI). It has been discarded.\n",
      "  f\"The log with transaction hash: {log['transactionHash']} and \"\n",
      "/home/simone/.local/opt/miniconda3/envs/blockchain/lib/python3.7/site-packages/web3/contract.py:1154: UserWarning: The log with transaction hash: b'\\xec\\xeb\\x91\\x9e\\x14\\xf1*\\xd6\\x8d+{\\x03\\xd3\\xbc\\xf8EZ\\x0f[\\xc7\\x02@\\r\\xb2k\\xa7_\\xe0\\xaa\\\\u\\x14' and logIndex: 1 encountered the following error during processing: MismatchedABI(The event signature did not match the provided ABI). It has been discarded.\n",
      "  f\"The log with transaction hash: {log['transactionHash']} and \"\n",
      "/home/simone/.local/opt/miniconda3/envs/blockchain/lib/python3.7/site-packages/web3/contract.py:1154: UserWarning: The log with transaction hash: b'\\xec\\xeb\\x91\\x9e\\x14\\xf1*\\xd6\\x8d+{\\x03\\xd3\\xbc\\xf8EZ\\x0f[\\xc7\\x02@\\r\\xb2k\\xa7_\\xe0\\xaa\\\\u\\x14' and logIndex: 2 encountered the following error during processing: MismatchedABI(The event signature did not match the provided ABI). It has been discarded.\n",
      "  f\"The log with transaction hash: {log['transactionHash']} and \"\n"
     ]
    },
    {
     "name": "stderr",
     "output_type": "stream",
     "text": [
      "/home/simone/.local/opt/miniconda3/envs/blockchain/lib/python3.7/site-packages/web3/contract.py:1154: UserWarning: The log with transaction hash: b'\\xe0\\x7f\\xa3U\\x984\\x8d\\x90\\xe8W>=\\xc5\\x8f\\x7f\\xbex\\x07\\xb6\\x04\\x95\\x8e\\xd5\\x868\\x8em\\xf5g\\xca\\xea}' and logIndex: 7 encountered the following error during processing: MismatchedABI(The event signature did not match the provided ABI). It has been discarded.\n",
      "  f\"The log with transaction hash: {log['transactionHash']} and \"\n",
      "/home/simone/.local/opt/miniconda3/envs/blockchain/lib/python3.7/site-packages/web3/contract.py:1154: UserWarning: The log with transaction hash: b'\\xe0\\x7f\\xa3U\\x984\\x8d\\x90\\xe8W>=\\xc5\\x8f\\x7f\\xbex\\x07\\xb6\\x04\\x95\\x8e\\xd5\\x868\\x8em\\xf5g\\xca\\xea}' and logIndex: 8 encountered the following error during processing: MismatchedABI(The event signature did not match the provided ABI). It has been discarded.\n",
      "  f\"The log with transaction hash: {log['transactionHash']} and \"\n",
      "/home/simone/.local/opt/miniconda3/envs/blockchain/lib/python3.7/site-packages/web3/contract.py:1154: UserWarning: The log with transaction hash: b'\\xe0\\x7f\\xa3U\\x984\\x8d\\x90\\xe8W>=\\xc5\\x8f\\x7f\\xbex\\x07\\xb6\\x04\\x95\\x8e\\xd5\\x868\\x8em\\xf5g\\xca\\xea}' and logIndex: 9 encountered the following error during processing: MismatchedABI(The event signature did not match the provided ABI). It has been discarded.\n",
      "  f\"The log with transaction hash: {log['transactionHash']} and \"\n",
      "/home/simone/.local/opt/miniconda3/envs/blockchain/lib/python3.7/site-packages/web3/contract.py:1154: UserWarning: The log with transaction hash: b'\\x86\\xfcH\\x9c\\x9aW\\xc7\\xab\\xf4\\np{\\x8b\\xae\\x9e\\xd6\\x0bd\\x95e\\xbeyH\\xdf\\x1e\\xeb[\\x9f&b8\\x80' and logIndex: 1 encountered the following error during processing: MismatchedABI(The event signature did not match the provided ABI). It has been discarded.\n",
      "  f\"The log with transaction hash: {log['transactionHash']} and \"\n",
      "/home/simone/.local/opt/miniconda3/envs/blockchain/lib/python3.7/site-packages/web3/contract.py:1154: UserWarning: The log with transaction hash: b'\\x86\\xfcH\\x9c\\x9aW\\xc7\\xab\\xf4\\np{\\x8b\\xae\\x9e\\xd6\\x0bd\\x95e\\xbeyH\\xdf\\x1e\\xeb[\\x9f&b8\\x80' and logIndex: 2 encountered the following error during processing: MismatchedABI(The event signature did not match the provided ABI). It has been discarded.\n",
      "  f\"The log with transaction hash: {log['transactionHash']} and \"\n",
      "/home/simone/.local/opt/miniconda3/envs/blockchain/lib/python3.7/site-packages/web3/contract.py:1154: UserWarning: The log with transaction hash: b'\\x86\\xfcH\\x9c\\x9aW\\xc7\\xab\\xf4\\np{\\x8b\\xae\\x9e\\xd6\\x0bd\\x95e\\xbeyH\\xdf\\x1e\\xeb[\\x9f&b8\\x80' and logIndex: 3 encountered the following error during processing: MismatchedABI(The event signature did not match the provided ABI). It has been discarded.\n",
      "  f\"The log with transaction hash: {log['transactionHash']} and \"\n",
      "/home/simone/.local/opt/miniconda3/envs/blockchain/lib/python3.7/site-packages/web3/contract.py:1154: UserWarning: The log with transaction hash: b'\\xd6?\\xf0o\\x0b\\xc9\\xea>\\x8d\\xe2q\\xf3q\\xbf\\xde\\xa6\\xa3v\\x7fwl\\x98\\xa9\\xabp\\xb6\\xb6\\x858\\xed\\xd0\\xc3' and logIndex: 2 encountered the following error during processing: MismatchedABI(The event signature did not match the provided ABI). It has been discarded.\n",
      "  f\"The log with transaction hash: {log['transactionHash']} and \"\n",
      "/home/simone/.local/opt/miniconda3/envs/blockchain/lib/python3.7/site-packages/web3/contract.py:1154: UserWarning: The log with transaction hash: b'\\xd6?\\xf0o\\x0b\\xc9\\xea>\\x8d\\xe2q\\xf3q\\xbf\\xde\\xa6\\xa3v\\x7fwl\\x98\\xa9\\xabp\\xb6\\xb6\\x858\\xed\\xd0\\xc3' and logIndex: 3 encountered the following error during processing: MismatchedABI(The event signature did not match the provided ABI). It has been discarded.\n",
      "  f\"The log with transaction hash: {log['transactionHash']} and \"\n",
      "/home/simone/.local/opt/miniconda3/envs/blockchain/lib/python3.7/site-packages/web3/contract.py:1154: UserWarning: The log with transaction hash: b'\\xd6?\\xf0o\\x0b\\xc9\\xea>\\x8d\\xe2q\\xf3q\\xbf\\xde\\xa6\\xa3v\\x7fwl\\x98\\xa9\\xabp\\xb6\\xb6\\x858\\xed\\xd0\\xc3' and logIndex: 4 encountered the following error during processing: MismatchedABI(The event signature did not match the provided ABI). It has been discarded.\n",
      "  f\"The log with transaction hash: {log['transactionHash']} and \"\n",
      "/home/simone/.local/opt/miniconda3/envs/blockchain/lib/python3.7/site-packages/web3/contract.py:1154: UserWarning: The log with transaction hash: b'{\\xc1kz/\\xc5Z\\xbc/F\\xb3\\x80C\\xbcw\\x02\\x0e\\xb2\\xd6\\xfe\\xcfd\"\\xb8\\x98\\x94@#\\xa2\\x98\\x7fr' and logIndex: 0 encountered the following error during processing: MismatchedABI(The event signature did not match the provided ABI). It has been discarded.\n",
      "  f\"The log with transaction hash: {log['transactionHash']} and \"\n",
      "/home/simone/.local/opt/miniconda3/envs/blockchain/lib/python3.7/site-packages/web3/contract.py:1154: UserWarning: The log with transaction hash: b'{\\xc1kz/\\xc5Z\\xbc/F\\xb3\\x80C\\xbcw\\x02\\x0e\\xb2\\xd6\\xfe\\xcfd\"\\xb8\\x98\\x94@#\\xa2\\x98\\x7fr' and logIndex: 1 encountered the following error during processing: MismatchedABI(The event signature did not match the provided ABI). It has been discarded.\n",
      "  f\"The log with transaction hash: {log['transactionHash']} and \"\n",
      "/home/simone/.local/opt/miniconda3/envs/blockchain/lib/python3.7/site-packages/web3/contract.py:1154: UserWarning: The log with transaction hash: b'{\\xc1kz/\\xc5Z\\xbc/F\\xb3\\x80C\\xbcw\\x02\\x0e\\xb2\\xd6\\xfe\\xcfd\"\\xb8\\x98\\x94@#\\xa2\\x98\\x7fr' and logIndex: 2 encountered the following error during processing: MismatchedABI(The event signature did not match the provided ABI). It has been discarded.\n",
      "  f\"The log with transaction hash: {log['transactionHash']} and \"\n",
      "/home/simone/.local/opt/miniconda3/envs/blockchain/lib/python3.7/site-packages/web3/contract.py:1154: UserWarning: The log with transaction hash: b'\\x1d\\x12\\x0bu{k\\x8aN\\xd9\\x9d\\xc9kXD?&\\xc3\\xaaY\\xed\\x10ui\\x0b\\x13\\t\\x88 \\xd6\\x9f!J' and logIndex: 1 encountered the following error during processing: MismatchedABI(The event signature did not match the provided ABI). It has been discarded.\n",
      "  f\"The log with transaction hash: {log['transactionHash']} and \"\n",
      "/home/simone/.local/opt/miniconda3/envs/blockchain/lib/python3.7/site-packages/web3/contract.py:1154: UserWarning: The log with transaction hash: b'\\x1d\\x12\\x0bu{k\\x8aN\\xd9\\x9d\\xc9kXD?&\\xc3\\xaaY\\xed\\x10ui\\x0b\\x13\\t\\x88 \\xd6\\x9f!J' and logIndex: 2 encountered the following error during processing: MismatchedABI(The event signature did not match the provided ABI). It has been discarded.\n",
      "  f\"The log with transaction hash: {log['transactionHash']} and \"\n",
      "/home/simone/.local/opt/miniconda3/envs/blockchain/lib/python3.7/site-packages/web3/contract.py:1154: UserWarning: The log with transaction hash: b'\\x1d\\x12\\x0bu{k\\x8aN\\xd9\\x9d\\xc9kXD?&\\xc3\\xaaY\\xed\\x10ui\\x0b\\x13\\t\\x88 \\xd6\\x9f!J' and logIndex: 3 encountered the following error during processing: MismatchedABI(The event signature did not match the provided ABI). It has been discarded.\n",
      "  f\"The log with transaction hash: {log['transactionHash']} and \"\n",
      "/home/simone/.local/opt/miniconda3/envs/blockchain/lib/python3.7/site-packages/web3/contract.py:1154: UserWarning: The log with transaction hash: b'd\\xe4W@\\xda8\\x9a\\xb4\\xf5o\\xbd\\x90\\x95\\xc1\\xf6s\\x02\\xdc\\n.\\xdc\\xaf\\x11k\\xa0TF\\x1d\\x9bS\\xd8\\xe1' and logIndex: 5 encountered the following error during processing: MismatchedABI(The event signature did not match the provided ABI). It has been discarded.\n",
      "  f\"The log with transaction hash: {log['transactionHash']} and \"\n",
      "/home/simone/.local/opt/miniconda3/envs/blockchain/lib/python3.7/site-packages/web3/contract.py:1154: UserWarning: The log with transaction hash: b'd\\xe4W@\\xda8\\x9a\\xb4\\xf5o\\xbd\\x90\\x95\\xc1\\xf6s\\x02\\xdc\\n.\\xdc\\xaf\\x11k\\xa0TF\\x1d\\x9bS\\xd8\\xe1' and logIndex: 6 encountered the following error during processing: MismatchedABI(The event signature did not match the provided ABI). It has been discarded.\n",
      "  f\"The log with transaction hash: {log['transactionHash']} and \"\n",
      "/home/simone/.local/opt/miniconda3/envs/blockchain/lib/python3.7/site-packages/web3/contract.py:1154: UserWarning: The log with transaction hash: b'd\\xe4W@\\xda8\\x9a\\xb4\\xf5o\\xbd\\x90\\x95\\xc1\\xf6s\\x02\\xdc\\n.\\xdc\\xaf\\x11k\\xa0TF\\x1d\\x9bS\\xd8\\xe1' and logIndex: 7 encountered the following error during processing: MismatchedABI(The event signature did not match the provided ABI). It has been discarded.\n",
      "  f\"The log with transaction hash: {log['transactionHash']} and \"\n"
     ]
    },
    {
     "name": "stderr",
     "output_type": "stream",
     "text": [
      "/home/simone/.local/opt/miniconda3/envs/blockchain/lib/python3.7/site-packages/web3/contract.py:1154: UserWarning: The log with transaction hash: b'|\\xa3V\\xa0\\x05\\xc0\\x14\\\\w\\xde\\xb7{\\x93T\\xa9E\\xa1\\x9e\\x059?l\\n\\xe6\\xca&\\x13F\\xceS\\xc2\\xa1' and logIndex: 1 encountered the following error during processing: MismatchedABI(The event signature did not match the provided ABI). It has been discarded.\n",
      "  f\"The log with transaction hash: {log['transactionHash']} and \"\n",
      "/home/simone/.local/opt/miniconda3/envs/blockchain/lib/python3.7/site-packages/web3/contract.py:1154: UserWarning: The log with transaction hash: b'|\\xa3V\\xa0\\x05\\xc0\\x14\\\\w\\xde\\xb7{\\x93T\\xa9E\\xa1\\x9e\\x059?l\\n\\xe6\\xca&\\x13F\\xceS\\xc2\\xa1' and logIndex: 2 encountered the following error during processing: MismatchedABI(The event signature did not match the provided ABI). It has been discarded.\n",
      "  f\"The log with transaction hash: {log['transactionHash']} and \"\n",
      "/home/simone/.local/opt/miniconda3/envs/blockchain/lib/python3.7/site-packages/web3/contract.py:1154: UserWarning: The log with transaction hash: b'|\\xa3V\\xa0\\x05\\xc0\\x14\\\\w\\xde\\xb7{\\x93T\\xa9E\\xa1\\x9e\\x059?l\\n\\xe6\\xca&\\x13F\\xceS\\xc2\\xa1' and logIndex: 3 encountered the following error during processing: MismatchedABI(The event signature did not match the provided ABI). It has been discarded.\n",
      "  f\"The log with transaction hash: {log['transactionHash']} and \"\n",
      "/home/simone/.local/opt/miniconda3/envs/blockchain/lib/python3.7/site-packages/web3/contract.py:1154: UserWarning: The log with transaction hash: b'vz\\xa6\\xed\\xbd0\\x8cb\\xbep\\xe4\\xc3\\xf9p\\x15\\xf2\\x86\\xe1a\\x17\\x89\\xcd\\xb2\\r\\xdb\\x83\\xc6\\xc8\\xd2\\xe9\\xb6!' and logIndex: 2 encountered the following error during processing: MismatchedABI(The event signature did not match the provided ABI). It has been discarded.\n",
      "  f\"The log with transaction hash: {log['transactionHash']} and \"\n",
      "/home/simone/.local/opt/miniconda3/envs/blockchain/lib/python3.7/site-packages/web3/contract.py:1154: UserWarning: The log with transaction hash: b'vz\\xa6\\xed\\xbd0\\x8cb\\xbep\\xe4\\xc3\\xf9p\\x15\\xf2\\x86\\xe1a\\x17\\x89\\xcd\\xb2\\r\\xdb\\x83\\xc6\\xc8\\xd2\\xe9\\xb6!' and logIndex: 3 encountered the following error during processing: MismatchedABI(The event signature did not match the provided ABI). It has been discarded.\n",
      "  f\"The log with transaction hash: {log['transactionHash']} and \"\n",
      "/home/simone/.local/opt/miniconda3/envs/blockchain/lib/python3.7/site-packages/web3/contract.py:1154: UserWarning: The log with transaction hash: b'vz\\xa6\\xed\\xbd0\\x8cb\\xbep\\xe4\\xc3\\xf9p\\x15\\xf2\\x86\\xe1a\\x17\\x89\\xcd\\xb2\\r\\xdb\\x83\\xc6\\xc8\\xd2\\xe9\\xb6!' and logIndex: 4 encountered the following error during processing: MismatchedABI(The event signature did not match the provided ABI). It has been discarded.\n",
      "  f\"The log with transaction hash: {log['transactionHash']} and \"\n"
     ]
    }
   ],
   "source": [
    "teamWins_FSS_logs = [] \n",
    "for event_data in all_teamWins_FSS: \n",
    "        #print(event_data)\n",
    "        tx_hash = event_data['transactionHash'].hex()\n",
    "        receipt = web3.eth.getTransactionReceipt(tx_hash)\n",
    "        #events = ['Buy', 'Sell']\n",
    "        teamWins_FSS_logs.append(web3_challenge_FSS.events.TeamChallengeWon().processReceipt(receipt))"
   ]
  },
  {
   "cell_type": "code",
   "execution_count": 42,
   "metadata": {},
   "outputs": [],
   "source": [
    "FSS_teamWins_FSS = []\n",
    "for i in range(0, len(teamWins_FSS_logs)): \n",
    "    if(teamWins_FSS_logs[i][0]['args']['winner'] == '0x27C404d4D91156F7063E8dB9cC10970cfffF9a6C'): \n",
    "        FSS_teamWins_FSS.append(teamWins_FSS_logs[i][0])"
   ]
  },
  {
   "cell_type": "code",
   "execution_count": 44,
   "metadata": {},
   "outputs": [
    {
     "name": "stdout",
     "output_type": "stream",
     "text": [
      "0 1593369079 2020-06-28 20:31:19\n",
      "1 1593375051 2020-06-28 22:10:51\n",
      "2 1593389084 2020-06-29 02:04:44\n",
      "3 1593467499 2020-06-29 23:51:39\n",
      "4 1593478526 2020-06-30 02:55:26\n",
      "5 1593481115 2020-06-30 03:38:35\n",
      "6 1593483273 2020-06-30 04:14:33\n",
      "7 1593485184 2020-06-30 04:46:24\n",
      "8 1593487583 2020-06-30 05:26:23\n",
      "9 1593489834 2020-06-30 06:03:54\n",
      "10 1593492362 2020-06-30 06:46:02\n",
      "11 1593494816 2020-06-30 07:26:56\n",
      "12 1593501690 2020-06-30 09:21:30\n",
      "13 1593506703 2020-06-30 10:45:03\n",
      "14 1593521229 2020-06-30 14:47:09\n",
      "15 1593526163 2020-06-30 16:09:23\n",
      "16 1593533380 2020-06-30 18:09:40\n",
      "17 1593539649 2020-06-30 19:54:09\n"
     ]
    }
   ],
   "source": [
    "for i in range(0, len(FSS_teamWins_FSS)): \n",
    "    blkNumb = FSS_teamWins_FSS[i]['blockNumber']\n",
    "    timestamp = web3.eth.getBlock(blkNumb)['timestamp']\n",
    "    date = datetime.datetime.fromtimestamp(timestamp)\n",
    "    print(i, timestamp, date)"
   ]
  },
  {
   "cell_type": "code",
   "execution_count": 49,
   "metadata": {},
   "outputs": [],
   "source": [
    "directStart_sign = web3.keccak(text=\"DirectChallenge(address,address,uint256)\").hex()\n",
    "teamStart_sign = web3.keccak(text=\"TeamChallenge(address,uint256)\").hex()"
   ]
  },
  {
   "cell_type": "code",
   "execution_count": 50,
   "metadata": {},
   "outputs": [],
   "source": [
    "all_directStart_FSS = web3.eth.getLogs({'fromBlock': 0, 'toBlock': 'latest', 'address': challenge_FSS.address, 'topics': [directStart_sign]})\n",
    "all_teamStart_FSS = web3.eth.getLogs({'fromBlock': 0, 'toBlock': 'latest', 'address': challenge_FSS.address, 'topics': [teamStart_sign]})"
   ]
  },
  {
   "cell_type": "code",
   "execution_count": 51,
   "metadata": {
    "collapsed": true
   },
   "outputs": [
    {
     "name": "stderr",
     "output_type": "stream",
     "text": [
      "/home/simone/.local/opt/miniconda3/envs/blockchain/lib/python3.7/site-packages/web3/contract.py:1154: UserWarning: The log with transaction hash: b'\\x066\\x91$\\xc0\\x00\\xb1\\xb0\\xbb\\xe4\\xd9\\xc9R\\x9d\\x84S\\xa1\\xc5L\\x19\\x1c\\xba\\xf0\\xde\\xf8\\x80\\x18G\\xbay\\xe2\\xde' and logIndex: 2 encountered the following error during processing: MismatchedABI(The event signature did not match the provided ABI). It has been discarded.\n",
      "  f\"The log with transaction hash: {log['transactionHash']} and \"\n",
      "/home/simone/.local/opt/miniconda3/envs/blockchain/lib/python3.7/site-packages/web3/contract.py:1154: UserWarning: The log with transaction hash: b'\\x066\\x91$\\xc0\\x00\\xb1\\xb0\\xbb\\xe4\\xd9\\xc9R\\x9d\\x84S\\xa1\\xc5L\\x19\\x1c\\xba\\xf0\\xde\\xf8\\x80\\x18G\\xbay\\xe2\\xde' and logIndex: 3 encountered the following error during processing: MismatchedABI(The event signature did not match the provided ABI). It has been discarded.\n",
      "  f\"The log with transaction hash: {log['transactionHash']} and \"\n",
      "/home/simone/.local/opt/miniconda3/envs/blockchain/lib/python3.7/site-packages/web3/contract.py:1154: UserWarning: The log with transaction hash: b'\\xd9\\xafr\\xf6\\x91\\xef~U\\xec?\\xddkmuN\\xdd\\xc34\\xaa\\x0b\\xc8\\x10\\x0c\\xedUb\\xf3%\\x82\\xcaB\\t' and logIndex: 18 encountered the following error during processing: MismatchedABI(The event signature did not match the provided ABI). It has been discarded.\n",
      "  f\"The log with transaction hash: {log['transactionHash']} and \"\n",
      "/home/simone/.local/opt/miniconda3/envs/blockchain/lib/python3.7/site-packages/web3/contract.py:1154: UserWarning: The log with transaction hash: b'\\xd9\\xafr\\xf6\\x91\\xef~U\\xec?\\xddkmuN\\xdd\\xc34\\xaa\\x0b\\xc8\\x10\\x0c\\xedUb\\xf3%\\x82\\xcaB\\t' and logIndex: 19 encountered the following error during processing: MismatchedABI(The event signature did not match the provided ABI). It has been discarded.\n",
      "  f\"The log with transaction hash: {log['transactionHash']} and \"\n",
      "/home/simone/.local/opt/miniconda3/envs/blockchain/lib/python3.7/site-packages/web3/contract.py:1154: UserWarning: The log with transaction hash: b'\\xffx\\x08\\x08C\\x90\\x13\\x93g\\x10\\x8d\\xdf[c\\x1eFa/\\x1fM!-\\xbd|=\\xa4\\xfe\\x93\\x8fA\\xeb\\xb7' and logIndex: 5 encountered the following error during processing: MismatchedABI(The event signature did not match the provided ABI). It has been discarded.\n",
      "  f\"The log with transaction hash: {log['transactionHash']} and \"\n",
      "/home/simone/.local/opt/miniconda3/envs/blockchain/lib/python3.7/site-packages/web3/contract.py:1154: UserWarning: The log with transaction hash: b'\\xffx\\x08\\x08C\\x90\\x13\\x93g\\x10\\x8d\\xdf[c\\x1eFa/\\x1fM!-\\xbd|=\\xa4\\xfe\\x93\\x8fA\\xeb\\xb7' and logIndex: 6 encountered the following error during processing: MismatchedABI(The event signature did not match the provided ABI). It has been discarded.\n",
      "  f\"The log with transaction hash: {log['transactionHash']} and \"\n",
      "/home/simone/.local/opt/miniconda3/envs/blockchain/lib/python3.7/site-packages/web3/contract.py:1154: UserWarning: The log with transaction hash: b'\\xda \\x94\\xdd\\xd5\\x10\\x9d\\x1bE\\xc02\\xd6 gmO=\\xae\\xe8\\xb9\\r\\xd5\\xff\\x15\\xe3V\\xb2\\x8aNc6X' and logIndex: 19 encountered the following error during processing: MismatchedABI(The event signature did not match the provided ABI). It has been discarded.\n",
      "  f\"The log with transaction hash: {log['transactionHash']} and \"\n",
      "/home/simone/.local/opt/miniconda3/envs/blockchain/lib/python3.7/site-packages/web3/contract.py:1154: UserWarning: The log with transaction hash: b'\\xda \\x94\\xdd\\xd5\\x10\\x9d\\x1bE\\xc02\\xd6 gmO=\\xae\\xe8\\xb9\\r\\xd5\\xff\\x15\\xe3V\\xb2\\x8aNc6X' and logIndex: 20 encountered the following error during processing: MismatchedABI(The event signature did not match the provided ABI). It has been discarded.\n",
      "  f\"The log with transaction hash: {log['transactionHash']} and \"\n",
      "/home/simone/.local/opt/miniconda3/envs/blockchain/lib/python3.7/site-packages/web3/contract.py:1154: UserWarning: The log with transaction hash: b'\\xc1\\xda\\xe6{\\xb0\\xf0r\\xf6\\xd1\\n\\xd6,\\xcf\\xcd\\x12\\xa9t\\xa6W\\x9au\\xdb]\\x92f\\xe22\\\\\\x1c\\x8a\\xb3\\x89' and logIndex: 23 encountered the following error during processing: MismatchedABI(The event signature did not match the provided ABI). It has been discarded.\n",
      "  f\"The log with transaction hash: {log['transactionHash']} and \"\n",
      "/home/simone/.local/opt/miniconda3/envs/blockchain/lib/python3.7/site-packages/web3/contract.py:1154: UserWarning: The log with transaction hash: b'\\xc1\\xda\\xe6{\\xb0\\xf0r\\xf6\\xd1\\n\\xd6,\\xcf\\xcd\\x12\\xa9t\\xa6W\\x9au\\xdb]\\x92f\\xe22\\\\\\x1c\\x8a\\xb3\\x89' and logIndex: 24 encountered the following error during processing: MismatchedABI(The event signature did not match the provided ABI). It has been discarded.\n",
      "  f\"The log with transaction hash: {log['transactionHash']} and \"\n",
      "/home/simone/.local/opt/miniconda3/envs/blockchain/lib/python3.7/site-packages/web3/contract.py:1154: UserWarning: The log with transaction hash: b'xX3,\\xec\\xf9\\xbe\\xf6\\xbb\\xc4\\x13\\x7fW)\\x8c\\xfa\\x96\\xbb\\x8f\\xc2\\xc7\\t\\xd0\\x88\\x1b\\x8e\\\\\\xf0\\xb6\\xb4\\x8aQ' and logIndex: 9 encountered the following error during processing: MismatchedABI(The event signature did not match the provided ABI). It has been discarded.\n",
      "  f\"The log with transaction hash: {log['transactionHash']} and \"\n",
      "/home/simone/.local/opt/miniconda3/envs/blockchain/lib/python3.7/site-packages/web3/contract.py:1154: UserWarning: The log with transaction hash: b'xX3,\\xec\\xf9\\xbe\\xf6\\xbb\\xc4\\x13\\x7fW)\\x8c\\xfa\\x96\\xbb\\x8f\\xc2\\xc7\\t\\xd0\\x88\\x1b\\x8e\\\\\\xf0\\xb6\\xb4\\x8aQ' and logIndex: 10 encountered the following error during processing: MismatchedABI(The event signature did not match the provided ABI). It has been discarded.\n",
      "  f\"The log with transaction hash: {log['transactionHash']} and \"\n",
      "/home/simone/.local/opt/miniconda3/envs/blockchain/lib/python3.7/site-packages/web3/contract.py:1154: UserWarning: The log with transaction hash: b'_\\xd7\\xc6x\\xfc\\xa3\\n\\xe6k\\xa7n\\x80\\xbaPY#\\xb3q1:\\xaa\\xab\\x89\\x94\\xe0\\xe6\\x9a*\\xf8\\xf9=\\xaf' and logIndex: 2 encountered the following error during processing: MismatchedABI(The event signature did not match the provided ABI). It has been discarded.\n",
      "  f\"The log with transaction hash: {log['transactionHash']} and \"\n",
      "/home/simone/.local/opt/miniconda3/envs/blockchain/lib/python3.7/site-packages/web3/contract.py:1154: UserWarning: The log with transaction hash: b'_\\xd7\\xc6x\\xfc\\xa3\\n\\xe6k\\xa7n\\x80\\xbaPY#\\xb3q1:\\xaa\\xab\\x89\\x94\\xe0\\xe6\\x9a*\\xf8\\xf9=\\xaf' and logIndex: 3 encountered the following error during processing: MismatchedABI(The event signature did not match the provided ABI). It has been discarded.\n",
      "  f\"The log with transaction hash: {log['transactionHash']} and \"\n",
      "/home/simone/.local/opt/miniconda3/envs/blockchain/lib/python3.7/site-packages/web3/contract.py:1154: UserWarning: The log with transaction hash: b'\\xaeI\\xdb\\xe7\\xbc\\x98\\x82\\x81!]~&C\\xb1\\x97\\xac\\x9d\\x14\\x06T\\xb5_\\xbc:\\xc2{\\xd1)\\xa8\\xc4$C' and logIndex: 5 encountered the following error during processing: MismatchedABI(The event signature did not match the provided ABI). It has been discarded.\n",
      "  f\"The log with transaction hash: {log['transactionHash']} and \"\n",
      "/home/simone/.local/opt/miniconda3/envs/blockchain/lib/python3.7/site-packages/web3/contract.py:1154: UserWarning: The log with transaction hash: b'\\xaeI\\xdb\\xe7\\xbc\\x98\\x82\\x81!]~&C\\xb1\\x97\\xac\\x9d\\x14\\x06T\\xb5_\\xbc:\\xc2{\\xd1)\\xa8\\xc4$C' and logIndex: 6 encountered the following error during processing: MismatchedABI(The event signature did not match the provided ABI). It has been discarded.\n",
      "  f\"The log with transaction hash: {log['transactionHash']} and \"\n",
      "/home/simone/.local/opt/miniconda3/envs/blockchain/lib/python3.7/site-packages/web3/contract.py:1154: UserWarning: The log with transaction hash: b'\\x93\\xdaoR\\xb0\\xc5\\xce\\x1e\\xf8\\x805<g\\x01\\xfe\\x0e\\x13N\\xff;@u\\x0ep\\xe8JU\\xc4C\\xa2\\xea\\xa1' and logIndex: 1 encountered the following error during processing: MismatchedABI(The event signature did not match the provided ABI). It has been discarded.\n",
      "  f\"The log with transaction hash: {log['transactionHash']} and \"\n",
      "/home/simone/.local/opt/miniconda3/envs/blockchain/lib/python3.7/site-packages/web3/contract.py:1154: UserWarning: The log with transaction hash: b'\\x93\\xdaoR\\xb0\\xc5\\xce\\x1e\\xf8\\x805<g\\x01\\xfe\\x0e\\x13N\\xff;@u\\x0ep\\xe8JU\\xc4C\\xa2\\xea\\xa1' and logIndex: 2 encountered the following error during processing: MismatchedABI(The event signature did not match the provided ABI). It has been discarded.\n",
      "  f\"The log with transaction hash: {log['transactionHash']} and \"\n"
     ]
    },
    {
     "name": "stderr",
     "output_type": "stream",
     "text": [
      "/home/simone/.local/opt/miniconda3/envs/blockchain/lib/python3.7/site-packages/web3/contract.py:1154: UserWarning: The log with transaction hash: b'\\x0f\\xb9\\x8dc+\\xf0\\xf9\\x92\\xf7N\\xe1\\xc8F\\xf7\\xaa\\x12\\xa5\\xc2z\\xea\\xa5X\\xa4*\\x19\\xf2\\xb8\\xaf\\xf3\\xaf-\\x93' and logIndex: 13 encountered the following error during processing: MismatchedABI(The event signature did not match the provided ABI). It has been discarded.\n",
      "  f\"The log with transaction hash: {log['transactionHash']} and \"\n",
      "/home/simone/.local/opt/miniconda3/envs/blockchain/lib/python3.7/site-packages/web3/contract.py:1154: UserWarning: The log with transaction hash: b'\\x0f\\xb9\\x8dc+\\xf0\\xf9\\x92\\xf7N\\xe1\\xc8F\\xf7\\xaa\\x12\\xa5\\xc2z\\xea\\xa5X\\xa4*\\x19\\xf2\\xb8\\xaf\\xf3\\xaf-\\x93' and logIndex: 14 encountered the following error during processing: MismatchedABI(The event signature did not match the provided ABI). It has been discarded.\n",
      "  f\"The log with transaction hash: {log['transactionHash']} and \"\n",
      "/home/simone/.local/opt/miniconda3/envs/blockchain/lib/python3.7/site-packages/web3/contract.py:1154: UserWarning: The log with transaction hash: b'(\\x12;\\x98~\\x87:\\xfb\\x0b\\xc7A\\xc8\\x82i9~\\xc47[\\xc24\\xba\\x83\\x9c^!\\xe2\\x89\\x01l\\xc3\\xb0' and logIndex: 2 encountered the following error during processing: MismatchedABI(The event signature did not match the provided ABI). It has been discarded.\n",
      "  f\"The log with transaction hash: {log['transactionHash']} and \"\n",
      "/home/simone/.local/opt/miniconda3/envs/blockchain/lib/python3.7/site-packages/web3/contract.py:1154: UserWarning: The log with transaction hash: b'(\\x12;\\x98~\\x87:\\xfb\\x0b\\xc7A\\xc8\\x82i9~\\xc47[\\xc24\\xba\\x83\\x9c^!\\xe2\\x89\\x01l\\xc3\\xb0' and logIndex: 3 encountered the following error during processing: MismatchedABI(The event signature did not match the provided ABI). It has been discarded.\n",
      "  f\"The log with transaction hash: {log['transactionHash']} and \"\n",
      "/home/simone/.local/opt/miniconda3/envs/blockchain/lib/python3.7/site-packages/web3/contract.py:1154: UserWarning: The log with transaction hash: b\"\\xb5\\xc8X\\xba\\x98\\xfcw\\xb7\\xd3@\\xfc\\xc4\\x1c\\x93/\\x92\\xb0'\\xcb\\x8f]\\xfe\\xefy\\x88\\xe0\\xe9\\xe3\\x0b\\x0e\\x1ew\" and logIndex: 2 encountered the following error during processing: MismatchedABI(The event signature did not match the provided ABI). It has been discarded.\n",
      "  f\"The log with transaction hash: {log['transactionHash']} and \"\n",
      "/home/simone/.local/opt/miniconda3/envs/blockchain/lib/python3.7/site-packages/web3/contract.py:1154: UserWarning: The log with transaction hash: b\"\\xb5\\xc8X\\xba\\x98\\xfcw\\xb7\\xd3@\\xfc\\xc4\\x1c\\x93/\\x92\\xb0'\\xcb\\x8f]\\xfe\\xefy\\x88\\xe0\\xe9\\xe3\\x0b\\x0e\\x1ew\" and logIndex: 3 encountered the following error during processing: MismatchedABI(The event signature did not match the provided ABI). It has been discarded.\n",
      "  f\"The log with transaction hash: {log['transactionHash']} and \"\n",
      "/home/simone/.local/opt/miniconda3/envs/blockchain/lib/python3.7/site-packages/web3/contract.py:1154: UserWarning: The log with transaction hash: b'\\xb4\\xf9\\xe1>\\xc4\\xec\\x91\\xa92\\xf4\\xac\\xbf\\xc2\\xcc\\x0cMs\\x7fB\\xc7\\n\\xa2n\\xf3\\x02\\x8a\\xa7\\x05\\xb5\"c\\xdd' and logIndex: 1 encountered the following error during processing: MismatchedABI(The event signature did not match the provided ABI). It has been discarded.\n",
      "  f\"The log with transaction hash: {log['transactionHash']} and \"\n",
      "/home/simone/.local/opt/miniconda3/envs/blockchain/lib/python3.7/site-packages/web3/contract.py:1154: UserWarning: The log with transaction hash: b'\\xb4\\xf9\\xe1>\\xc4\\xec\\x91\\xa92\\xf4\\xac\\xbf\\xc2\\xcc\\x0cMs\\x7fB\\xc7\\n\\xa2n\\xf3\\x02\\x8a\\xa7\\x05\\xb5\"c\\xdd' and logIndex: 2 encountered the following error during processing: MismatchedABI(The event signature did not match the provided ABI). It has been discarded.\n",
      "  f\"The log with transaction hash: {log['transactionHash']} and \"\n",
      "/home/simone/.local/opt/miniconda3/envs/blockchain/lib/python3.7/site-packages/web3/contract.py:1154: UserWarning: The log with transaction hash: b'\\n\\x93\\xfe\\x83\\xd8\\xee:\\x13:\\x99ah8\\x1c\\xfb\\xed\\n\\xec\\xccBV\\x17{\\xb8\\x85#\\x0fG2\\x98\\xdc\\xe2' and logIndex: 1 encountered the following error during processing: MismatchedABI(The event signature did not match the provided ABI). It has been discarded.\n",
      "  f\"The log with transaction hash: {log['transactionHash']} and \"\n",
      "/home/simone/.local/opt/miniconda3/envs/blockchain/lib/python3.7/site-packages/web3/contract.py:1154: UserWarning: The log with transaction hash: b'\\n\\x93\\xfe\\x83\\xd8\\xee:\\x13:\\x99ah8\\x1c\\xfb\\xed\\n\\xec\\xccBV\\x17{\\xb8\\x85#\\x0fG2\\x98\\xdc\\xe2' and logIndex: 2 encountered the following error during processing: MismatchedABI(The event signature did not match the provided ABI). It has been discarded.\n",
      "  f\"The log with transaction hash: {log['transactionHash']} and \"\n",
      "/home/simone/.local/opt/miniconda3/envs/blockchain/lib/python3.7/site-packages/web3/contract.py:1154: UserWarning: The log with transaction hash: b'\\xe1\\xf1\\xca\\xbe\\xd2:\\x12\\x1c\\xfb\\xd7d\\xda \\x91E\\xdf@b\\x8b\\x9eqo\\xe3\\x0b3m\\xc1yu7\\xa8$' and logIndex: 5 encountered the following error during processing: MismatchedABI(The event signature did not match the provided ABI). It has been discarded.\n",
      "  f\"The log with transaction hash: {log['transactionHash']} and \"\n",
      "/home/simone/.local/opt/miniconda3/envs/blockchain/lib/python3.7/site-packages/web3/contract.py:1154: UserWarning: The log with transaction hash: b'\\xe1\\xf1\\xca\\xbe\\xd2:\\x12\\x1c\\xfb\\xd7d\\xda \\x91E\\xdf@b\\x8b\\x9eqo\\xe3\\x0b3m\\xc1yu7\\xa8$' and logIndex: 6 encountered the following error during processing: MismatchedABI(The event signature did not match the provided ABI). It has been discarded.\n",
      "  f\"The log with transaction hash: {log['transactionHash']} and \"\n",
      "/home/simone/.local/opt/miniconda3/envs/blockchain/lib/python3.7/site-packages/web3/contract.py:1154: UserWarning: The log with transaction hash: b'Y`7\\xed-XV\\x06\\xfb\\x9f\\xadsT&\\xe2S\\xed^Z\\xd67w\\xbd\\xdf\\x11;\\xde\\xb9\\x81\\x19Y\\\\' and logIndex: 3 encountered the following error during processing: MismatchedABI(The event signature did not match the provided ABI). It has been discarded.\n",
      "  f\"The log with transaction hash: {log['transactionHash']} and \"\n",
      "/home/simone/.local/opt/miniconda3/envs/blockchain/lib/python3.7/site-packages/web3/contract.py:1154: UserWarning: The log with transaction hash: b'Y`7\\xed-XV\\x06\\xfb\\x9f\\xadsT&\\xe2S\\xed^Z\\xd67w\\xbd\\xdf\\x11;\\xde\\xb9\\x81\\x19Y\\\\' and logIndex: 4 encountered the following error during processing: MismatchedABI(The event signature did not match the provided ABI). It has been discarded.\n",
      "  f\"The log with transaction hash: {log['transactionHash']} and \"\n",
      "/home/simone/.local/opt/miniconda3/envs/blockchain/lib/python3.7/site-packages/web3/contract.py:1154: UserWarning: The log with transaction hash: b'N4I\\x8b\\x0e\\xd4\\x04\\x8d\\xa7s;~\\x07\\xdc\\x8f\\x97\\xaa\\xac\\xea\\xa6\\x12q\\xb9\\xb1g\\xc6B\\x0c\\x17\\x96\\x1e\\x12' and logIndex: 2 encountered the following error during processing: MismatchedABI(The event signature did not match the provided ABI). It has been discarded.\n",
      "  f\"The log with transaction hash: {log['transactionHash']} and \"\n",
      "/home/simone/.local/opt/miniconda3/envs/blockchain/lib/python3.7/site-packages/web3/contract.py:1154: UserWarning: The log with transaction hash: b'N4I\\x8b\\x0e\\xd4\\x04\\x8d\\xa7s;~\\x07\\xdc\\x8f\\x97\\xaa\\xac\\xea\\xa6\\x12q\\xb9\\xb1g\\xc6B\\x0c\\x17\\x96\\x1e\\x12' and logIndex: 3 encountered the following error during processing: MismatchedABI(The event signature did not match the provided ABI). It has been discarded.\n",
      "  f\"The log with transaction hash: {log['transactionHash']} and \"\n",
      "/home/simone/.local/opt/miniconda3/envs/blockchain/lib/python3.7/site-packages/web3/contract.py:1154: UserWarning: The log with transaction hash: b'\\xa8g\\x90z\\tx\\xd6\\xe5\\x894\\x92w\\xfa\\xd1X\\x14\\xa0y\\xd2\\x85\\xbd\\x9b\\xa4\\x7f\\xdc\\xd8\\xbcyB\\xb0\\x15\\xef' and logIndex: 4 encountered the following error during processing: MismatchedABI(The event signature did not match the provided ABI). It has been discarded.\n",
      "  f\"The log with transaction hash: {log['transactionHash']} and \"\n",
      "/home/simone/.local/opt/miniconda3/envs/blockchain/lib/python3.7/site-packages/web3/contract.py:1154: UserWarning: The log with transaction hash: b'\\xa8g\\x90z\\tx\\xd6\\xe5\\x894\\x92w\\xfa\\xd1X\\x14\\xa0y\\xd2\\x85\\xbd\\x9b\\xa4\\x7f\\xdc\\xd8\\xbcyB\\xb0\\x15\\xef' and logIndex: 5 encountered the following error during processing: MismatchedABI(The event signature did not match the provided ABI). It has been discarded.\n",
      "  f\"The log with transaction hash: {log['transactionHash']} and \"\n"
     ]
    },
    {
     "name": "stderr",
     "output_type": "stream",
     "text": [
      "/home/simone/.local/opt/miniconda3/envs/blockchain/lib/python3.7/site-packages/web3/contract.py:1154: UserWarning: The log with transaction hash: b'\\x17\\xd2\\xbd\\xc2\\x83\\xd8p\\x0e\\xac\\r\\x7f\\xca0\\x0fOg\\x1a{}\\xe9S\\x8b\\xfc H\\xef\\xb8\\xb4\\xdc=mM' and logIndex: 3 encountered the following error during processing: MismatchedABI(The event signature did not match the provided ABI). It has been discarded.\n",
      "  f\"The log with transaction hash: {log['transactionHash']} and \"\n",
      "/home/simone/.local/opt/miniconda3/envs/blockchain/lib/python3.7/site-packages/web3/contract.py:1154: UserWarning: The log with transaction hash: b'\\x17\\xd2\\xbd\\xc2\\x83\\xd8p\\x0e\\xac\\r\\x7f\\xca0\\x0fOg\\x1a{}\\xe9S\\x8b\\xfc H\\xef\\xb8\\xb4\\xdc=mM' and logIndex: 4 encountered the following error during processing: MismatchedABI(The event signature did not match the provided ABI). It has been discarded.\n",
      "  f\"The log with transaction hash: {log['transactionHash']} and \"\n",
      "/home/simone/.local/opt/miniconda3/envs/blockchain/lib/python3.7/site-packages/web3/contract.py:1154: UserWarning: The log with transaction hash: b'%\\x10\\xdb\\xfa\\xd6\\xb7\\xd3\\xdch\\xdf\\x82\\xe2{\\xe0\\x90\\x07a\\x8e/X\\xab\\xee>b!Ex`gX3@' and logIndex: 13 encountered the following error during processing: MismatchedABI(The event signature did not match the provided ABI). It has been discarded.\n",
      "  f\"The log with transaction hash: {log['transactionHash']} and \"\n",
      "/home/simone/.local/opt/miniconda3/envs/blockchain/lib/python3.7/site-packages/web3/contract.py:1154: UserWarning: The log with transaction hash: b'%\\x10\\xdb\\xfa\\xd6\\xb7\\xd3\\xdch\\xdf\\x82\\xe2{\\xe0\\x90\\x07a\\x8e/X\\xab\\xee>b!Ex`gX3@' and logIndex: 14 encountered the following error during processing: MismatchedABI(The event signature did not match the provided ABI). It has been discarded.\n",
      "  f\"The log with transaction hash: {log['transactionHash']} and \"\n",
      "/home/simone/.local/opt/miniconda3/envs/blockchain/lib/python3.7/site-packages/web3/contract.py:1154: UserWarning: The log with transaction hash: b'\\xea\\xf49\\x84\\xb2\\xd0tM)\\xea\\x17\\xe0\\x92\\xf8p\\xf0\\xc9\\xeb\\xde\\x10\\xd9\\xc6H\\xca\\xd4Y\\xd9M\\x14\\xd8\\x14l' and logIndex: 28 encountered the following error during processing: MismatchedABI(The event signature did not match the provided ABI). It has been discarded.\n",
      "  f\"The log with transaction hash: {log['transactionHash']} and \"\n",
      "/home/simone/.local/opt/miniconda3/envs/blockchain/lib/python3.7/site-packages/web3/contract.py:1154: UserWarning: The log with transaction hash: b'\\xea\\xf49\\x84\\xb2\\xd0tM)\\xea\\x17\\xe0\\x92\\xf8p\\xf0\\xc9\\xeb\\xde\\x10\\xd9\\xc6H\\xca\\xd4Y\\xd9M\\x14\\xd8\\x14l' and logIndex: 29 encountered the following error during processing: MismatchedABI(The event signature did not match the provided ABI). It has been discarded.\n",
      "  f\"The log with transaction hash: {log['transactionHash']} and \"\n",
      "/home/simone/.local/opt/miniconda3/envs/blockchain/lib/python3.7/site-packages/web3/contract.py:1154: UserWarning: The log with transaction hash: b'r\\xc6\\xd8\\xe2\\xfb\\xdd\\xa9\\x81\\xfd\\x83\\x8d\\xd3(V\\xc82\\x8d\\x1d\\x83\\x1a\\x1e\\xb4M\\x1fK~\\x86h\\x1d\\xd0B0' and logIndex: 12 encountered the following error during processing: MismatchedABI(The event signature did not match the provided ABI). It has been discarded.\n",
      "  f\"The log with transaction hash: {log['transactionHash']} and \"\n",
      "/home/simone/.local/opt/miniconda3/envs/blockchain/lib/python3.7/site-packages/web3/contract.py:1154: UserWarning: The log with transaction hash: b'r\\xc6\\xd8\\xe2\\xfb\\xdd\\xa9\\x81\\xfd\\x83\\x8d\\xd3(V\\xc82\\x8d\\x1d\\x83\\x1a\\x1e\\xb4M\\x1fK~\\x86h\\x1d\\xd0B0' and logIndex: 13 encountered the following error during processing: MismatchedABI(The event signature did not match the provided ABI). It has been discarded.\n",
      "  f\"The log with transaction hash: {log['transactionHash']} and \"\n",
      "/home/simone/.local/opt/miniconda3/envs/blockchain/lib/python3.7/site-packages/web3/contract.py:1154: UserWarning: The log with transaction hash: b'\\x1a\\x13\\xbb\\x89$\\x80\\xda1\\xb0\\x10\\x12<I%Kc\\xa7\\xbd\\xfa\\x9a\\x87\\xa6OC\\xd7\\xe5L\\xb7\\xc6jiS' and logIndex: 4 encountered the following error during processing: MismatchedABI(The event signature did not match the provided ABI). It has been discarded.\n",
      "  f\"The log with transaction hash: {log['transactionHash']} and \"\n",
      "/home/simone/.local/opt/miniconda3/envs/blockchain/lib/python3.7/site-packages/web3/contract.py:1154: UserWarning: The log with transaction hash: b'\\x1a\\x13\\xbb\\x89$\\x80\\xda1\\xb0\\x10\\x12<I%Kc\\xa7\\xbd\\xfa\\x9a\\x87\\xa6OC\\xd7\\xe5L\\xb7\\xc6jiS' and logIndex: 5 encountered the following error during processing: MismatchedABI(The event signature did not match the provided ABI). It has been discarded.\n",
      "  f\"The log with transaction hash: {log['transactionHash']} and \"\n",
      "/home/simone/.local/opt/miniconda3/envs/blockchain/lib/python3.7/site-packages/web3/contract.py:1154: UserWarning: The log with transaction hash: b'\\xed\\xb3b!\\xa2\\n\\x9f\\xb7\\xf9\\x121d\\xf7\\xeez[p\\x1b\\xc3j\\xb2\\x9a\\x17TM\\xb0\\x94\\xbb\\xc7K\\x83-' and logIndex: 1 encountered the following error during processing: MismatchedABI(The event signature did not match the provided ABI). It has been discarded.\n",
      "  f\"The log with transaction hash: {log['transactionHash']} and \"\n",
      "/home/simone/.local/opt/miniconda3/envs/blockchain/lib/python3.7/site-packages/web3/contract.py:1154: UserWarning: The log with transaction hash: b'\\xed\\xb3b!\\xa2\\n\\x9f\\xb7\\xf9\\x121d\\xf7\\xeez[p\\x1b\\xc3j\\xb2\\x9a\\x17TM\\xb0\\x94\\xbb\\xc7K\\x83-' and logIndex: 2 encountered the following error during processing: MismatchedABI(The event signature did not match the provided ABI). It has been discarded.\n",
      "  f\"The log with transaction hash: {log['transactionHash']} and \"\n",
      "/home/simone/.local/opt/miniconda3/envs/blockchain/lib/python3.7/site-packages/web3/contract.py:1154: UserWarning: The log with transaction hash: b'\\x92\\x8c\\xa3\\xc4\\xb4\\\\\\xc0\\xe8\\x9e\\xa5n\\x13f\\xa8\\x83\\xeb)X\\xaa\\x9f\\x12=\\xe6\\xc6\\x01\\x8c\\x9eK\\x0fB\\xd1\\x97' and logIndex: 1 encountered the following error during processing: MismatchedABI(The event signature did not match the provided ABI). It has been discarded.\n",
      "  f\"The log with transaction hash: {log['transactionHash']} and \"\n",
      "/home/simone/.local/opt/miniconda3/envs/blockchain/lib/python3.7/site-packages/web3/contract.py:1154: UserWarning: The log with transaction hash: b'\\x92\\x8c\\xa3\\xc4\\xb4\\\\\\xc0\\xe8\\x9e\\xa5n\\x13f\\xa8\\x83\\xeb)X\\xaa\\x9f\\x12=\\xe6\\xc6\\x01\\x8c\\x9eK\\x0fB\\xd1\\x97' and logIndex: 2 encountered the following error during processing: MismatchedABI(The event signature did not match the provided ABI). It has been discarded.\n",
      "  f\"The log with transaction hash: {log['transactionHash']} and \"\n",
      "/home/simone/.local/opt/miniconda3/envs/blockchain/lib/python3.7/site-packages/web3/contract.py:1154: UserWarning: The log with transaction hash: b'/n\\x0b\\xb1\\xd3\\x90Tf\\xbe\\xa1-I\\x1e!?\\xa1V\\xd9\\xf4j\\xc4\\xda\\xaa\\xe9\\xd7a\"\\x92\\x18\\x9e)\\xd4' and logIndex: 1 encountered the following error during processing: MismatchedABI(The event signature did not match the provided ABI). It has been discarded.\n",
      "  f\"The log with transaction hash: {log['transactionHash']} and \"\n",
      "/home/simone/.local/opt/miniconda3/envs/blockchain/lib/python3.7/site-packages/web3/contract.py:1154: UserWarning: The log with transaction hash: b'/n\\x0b\\xb1\\xd3\\x90Tf\\xbe\\xa1-I\\x1e!?\\xa1V\\xd9\\xf4j\\xc4\\xda\\xaa\\xe9\\xd7a\"\\x92\\x18\\x9e)\\xd4' and logIndex: 2 encountered the following error during processing: MismatchedABI(The event signature did not match the provided ABI). It has been discarded.\n",
      "  f\"The log with transaction hash: {log['transactionHash']} and \"\n",
      "/home/simone/.local/opt/miniconda3/envs/blockchain/lib/python3.7/site-packages/web3/contract.py:1154: UserWarning: The log with transaction hash: b'y<\\x9d\\xac)J0\\xafk+~\\xe9s\\x1b\\xb1bhdD\\xe3\\xf5:\\xa0\\xea\\x9e:\\xd9\\xea\\xf4Y\\xd9\\xd4' and logIndex: 3 encountered the following error during processing: MismatchedABI(The event signature did not match the provided ABI). It has been discarded.\n",
      "  f\"The log with transaction hash: {log['transactionHash']} and \"\n",
      "/home/simone/.local/opt/miniconda3/envs/blockchain/lib/python3.7/site-packages/web3/contract.py:1154: UserWarning: The log with transaction hash: b'y<\\x9d\\xac)J0\\xafk+~\\xe9s\\x1b\\xb1bhdD\\xe3\\xf5:\\xa0\\xea\\x9e:\\xd9\\xea\\xf4Y\\xd9\\xd4' and logIndex: 4 encountered the following error during processing: MismatchedABI(The event signature did not match the provided ABI). It has been discarded.\n",
      "  f\"The log with transaction hash: {log['transactionHash']} and \"\n",
      "/home/simone/.local/opt/miniconda3/envs/blockchain/lib/python3.7/site-packages/web3/contract.py:1154: UserWarning: The log with transaction hash: b'8\\xa3\\xd3\\xbeu\\x17J\\xcaEP\\x92\\x8a\\xafy\\x8bC\\xcf)d\\xae\\xc3`}\\xf1\\x8d<Y\\xe4Aa\\xa2\\x08' and logIndex: 8 encountered the following error during processing: MismatchedABI(The event signature did not match the provided ABI). It has been discarded.\n",
      "  f\"The log with transaction hash: {log['transactionHash']} and \"\n",
      "/home/simone/.local/opt/miniconda3/envs/blockchain/lib/python3.7/site-packages/web3/contract.py:1154: UserWarning: The log with transaction hash: b'8\\xa3\\xd3\\xbeu\\x17J\\xcaEP\\x92\\x8a\\xafy\\x8bC\\xcf)d\\xae\\xc3`}\\xf1\\x8d<Y\\xe4Aa\\xa2\\x08' and logIndex: 9 encountered the following error during processing: MismatchedABI(The event signature did not match the provided ABI). It has been discarded.\n",
      "  f\"The log with transaction hash: {log['transactionHash']} and \"\n"
     ]
    },
    {
     "name": "stderr",
     "output_type": "stream",
     "text": [
      "/home/simone/.local/opt/miniconda3/envs/blockchain/lib/python3.7/site-packages/web3/contract.py:1154: UserWarning: The log with transaction hash: b'\\xa9\\xa6\\xa2-/Q\\x841|v\\xe8:]ri\\x89\\xf4\\x02l\\xa4\\xbf\\xd0JRM\\xab\\x88\\x8e\\x85JU\\xc5' and logIndex: 4 encountered the following error during processing: MismatchedABI(The event signature did not match the provided ABI). It has been discarded.\n",
      "  f\"The log with transaction hash: {log['transactionHash']} and \"\n",
      "/home/simone/.local/opt/miniconda3/envs/blockchain/lib/python3.7/site-packages/web3/contract.py:1154: UserWarning: The log with transaction hash: b'\\xa9\\xa6\\xa2-/Q\\x841|v\\xe8:]ri\\x89\\xf4\\x02l\\xa4\\xbf\\xd0JRM\\xab\\x88\\x8e\\x85JU\\xc5' and logIndex: 5 encountered the following error during processing: MismatchedABI(The event signature did not match the provided ABI). It has been discarded.\n",
      "  f\"The log with transaction hash: {log['transactionHash']} and \"\n",
      "/home/simone/.local/opt/miniconda3/envs/blockchain/lib/python3.7/site-packages/web3/contract.py:1154: UserWarning: The log with transaction hash: b'~*\\xe3&\\xb7:k\\x90\\xdf\\x12xw\\x1e\\x8e\\xe4\\x01\\xc6e\\xd1/\\xe9,\\x97\\x17\\xf4a?\\xe77\\xd6\\xfd\\xf5' and logIndex: 2 encountered the following error during processing: MismatchedABI(The event signature did not match the provided ABI). It has been discarded.\n",
      "  f\"The log with transaction hash: {log['transactionHash']} and \"\n",
      "/home/simone/.local/opt/miniconda3/envs/blockchain/lib/python3.7/site-packages/web3/contract.py:1154: UserWarning: The log with transaction hash: b'~*\\xe3&\\xb7:k\\x90\\xdf\\x12xw\\x1e\\x8e\\xe4\\x01\\xc6e\\xd1/\\xe9,\\x97\\x17\\xf4a?\\xe77\\xd6\\xfd\\xf5' and logIndex: 3 encountered the following error during processing: MismatchedABI(The event signature did not match the provided ABI). It has been discarded.\n",
      "  f\"The log with transaction hash: {log['transactionHash']} and \"\n",
      "/home/simone/.local/opt/miniconda3/envs/blockchain/lib/python3.7/site-packages/web3/contract.py:1154: UserWarning: The log with transaction hash: b\"\\xc9Tc\\xcd\\xc8\\xc8\\xe2\\xddv6'/\\xdaG\\xaa4\\x0c\\xcfC\\x00\\xd5\\r\\x92\\x8b\\x9c\\x0f\\xba\\x178\\xfd\\n\\xa3\" and logIndex: 2 encountered the following error during processing: MismatchedABI(The event signature did not match the provided ABI). It has been discarded.\n",
      "  f\"The log with transaction hash: {log['transactionHash']} and \"\n",
      "/home/simone/.local/opt/miniconda3/envs/blockchain/lib/python3.7/site-packages/web3/contract.py:1154: UserWarning: The log with transaction hash: b\"\\xc9Tc\\xcd\\xc8\\xc8\\xe2\\xddv6'/\\xdaG\\xaa4\\x0c\\xcfC\\x00\\xd5\\r\\x92\\x8b\\x9c\\x0f\\xba\\x178\\xfd\\n\\xa3\" and logIndex: 3 encountered the following error during processing: MismatchedABI(The event signature did not match the provided ABI). It has been discarded.\n",
      "  f\"The log with transaction hash: {log['transactionHash']} and \"\n",
      "/home/simone/.local/opt/miniconda3/envs/blockchain/lib/python3.7/site-packages/web3/contract.py:1154: UserWarning: The log with transaction hash: b\"['\\xe2\\xb0\\x97|\\xaa\\xb8&\\xc7\\xb2[]\\xf8+\\x15\\x9e\\xaaUX\\\\gu\\xf2^\\xe2\\xec\\x08|l\\x17\\x03\" and logIndex: 2 encountered the following error during processing: MismatchedABI(The event signature did not match the provided ABI). It has been discarded.\n",
      "  f\"The log with transaction hash: {log['transactionHash']} and \"\n",
      "/home/simone/.local/opt/miniconda3/envs/blockchain/lib/python3.7/site-packages/web3/contract.py:1154: UserWarning: The log with transaction hash: b\"['\\xe2\\xb0\\x97|\\xaa\\xb8&\\xc7\\xb2[]\\xf8+\\x15\\x9e\\xaaUX\\\\gu\\xf2^\\xe2\\xec\\x08|l\\x17\\x03\" and logIndex: 3 encountered the following error during processing: MismatchedABI(The event signature did not match the provided ABI). It has been discarded.\n",
      "  f\"The log with transaction hash: {log['transactionHash']} and \"\n",
      "/home/simone/.local/opt/miniconda3/envs/blockchain/lib/python3.7/site-packages/web3/contract.py:1154: UserWarning: The log with transaction hash: b'y\\xde\\xfb\\xde+\\xe1\\x82-\\xd4=\\x02 \\x13\\xf2\\x15\\x86kg\\x7f\\xc8,\\xd2\\x1d\\x99v\\x8f\\xd06V+\\xd7F' and logIndex: 4 encountered the following error during processing: MismatchedABI(The event signature did not match the provided ABI). It has been discarded.\n",
      "  f\"The log with transaction hash: {log['transactionHash']} and \"\n",
      "/home/simone/.local/opt/miniconda3/envs/blockchain/lib/python3.7/site-packages/web3/contract.py:1154: UserWarning: The log with transaction hash: b'y\\xde\\xfb\\xde+\\xe1\\x82-\\xd4=\\x02 \\x13\\xf2\\x15\\x86kg\\x7f\\xc8,\\xd2\\x1d\\x99v\\x8f\\xd06V+\\xd7F' and logIndex: 5 encountered the following error during processing: MismatchedABI(The event signature did not match the provided ABI). It has been discarded.\n",
      "  f\"The log with transaction hash: {log['transactionHash']} and \"\n",
      "/home/simone/.local/opt/miniconda3/envs/blockchain/lib/python3.7/site-packages/web3/contract.py:1154: UserWarning: The log with transaction hash: b'\\xd1\\x91S\\xd27<\\x07\\x03\\x18\\xa8\\x05\\x89#:\\xab\\xdd2\\t\\xec#\\xd8\\xdc\\xffL\\x1e\\x90\\x95<\\x0c>\\xaa\\xea' and logIndex: 8 encountered the following error during processing: MismatchedABI(The event signature did not match the provided ABI). It has been discarded.\n",
      "  f\"The log with transaction hash: {log['transactionHash']} and \"\n",
      "/home/simone/.local/opt/miniconda3/envs/blockchain/lib/python3.7/site-packages/web3/contract.py:1154: UserWarning: The log with transaction hash: b'\\xd1\\x91S\\xd27<\\x07\\x03\\x18\\xa8\\x05\\x89#:\\xab\\xdd2\\t\\xec#\\xd8\\xdc\\xffL\\x1e\\x90\\x95<\\x0c>\\xaa\\xea' and logIndex: 9 encountered the following error during processing: MismatchedABI(The event signature did not match the provided ABI). It has been discarded.\n",
      "  f\"The log with transaction hash: {log['transactionHash']} and \"\n",
      "/home/simone/.local/opt/miniconda3/envs/blockchain/lib/python3.7/site-packages/web3/contract.py:1154: UserWarning: The log with transaction hash: b'\\xaa\\xef\\xa0y)#iiTq\\x82\\xc3w\\xf3\\xf9O(\\x90\\x9e\\xa6%\\xe4\\x19\\x91x\\xb0W|Q\\x9b\\xb4\\xa1' and logIndex: 1 encountered the following error during processing: MismatchedABI(The event signature did not match the provided ABI). It has been discarded.\n",
      "  f\"The log with transaction hash: {log['transactionHash']} and \"\n",
      "/home/simone/.local/opt/miniconda3/envs/blockchain/lib/python3.7/site-packages/web3/contract.py:1154: UserWarning: The log with transaction hash: b'\\xaa\\xef\\xa0y)#iiTq\\x82\\xc3w\\xf3\\xf9O(\\x90\\x9e\\xa6%\\xe4\\x19\\x91x\\xb0W|Q\\x9b\\xb4\\xa1' and logIndex: 2 encountered the following error during processing: MismatchedABI(The event signature did not match the provided ABI). It has been discarded.\n",
      "  f\"The log with transaction hash: {log['transactionHash']} and \"\n",
      "/home/simone/.local/opt/miniconda3/envs/blockchain/lib/python3.7/site-packages/web3/contract.py:1154: UserWarning: The log with transaction hash: b'\\xb7\\x16\\x9eo\\x11\\x0e\\xa8\\xfe2\\x00\\xd6.\\xf2\\xb7\\xd5]\\xe4q\\xb2r\\xcc\\xca\\xe5.o\\xf0/\\xdb\\x08\\x19\\xbc\\xa1' and logIndex: 2 encountered the following error during processing: MismatchedABI(The event signature did not match the provided ABI). It has been discarded.\n",
      "  f\"The log with transaction hash: {log['transactionHash']} and \"\n",
      "/home/simone/.local/opt/miniconda3/envs/blockchain/lib/python3.7/site-packages/web3/contract.py:1154: UserWarning: The log with transaction hash: b'\\xb7\\x16\\x9eo\\x11\\x0e\\xa8\\xfe2\\x00\\xd6.\\xf2\\xb7\\xd5]\\xe4q\\xb2r\\xcc\\xca\\xe5.o\\xf0/\\xdb\\x08\\x19\\xbc\\xa1' and logIndex: 3 encountered the following error during processing: MismatchedABI(The event signature did not match the provided ABI). It has been discarded.\n",
      "  f\"The log with transaction hash: {log['transactionHash']} and \"\n",
      "/home/simone/.local/opt/miniconda3/envs/blockchain/lib/python3.7/site-packages/web3/contract.py:1154: UserWarning: The log with transaction hash: b\"\\x9ef\\x86\\x9b\\xc2\\xeb'\\xb1\\x01\\xda\\x00\\xa4\\xcf\\x96\\xaa@\\xae)c\\\\\\xcc\\xd0\\x0b\\xcc\\xae\\xeaM\\xa3\\xd9\\x08\\xb4\\xc5\" and logIndex: 1 encountered the following error during processing: MismatchedABI(The event signature did not match the provided ABI). It has been discarded.\n",
      "  f\"The log with transaction hash: {log['transactionHash']} and \"\n",
      "/home/simone/.local/opt/miniconda3/envs/blockchain/lib/python3.7/site-packages/web3/contract.py:1154: UserWarning: The log with transaction hash: b\"\\x9ef\\x86\\x9b\\xc2\\xeb'\\xb1\\x01\\xda\\x00\\xa4\\xcf\\x96\\xaa@\\xae)c\\\\\\xcc\\xd0\\x0b\\xcc\\xae\\xeaM\\xa3\\xd9\\x08\\xb4\\xc5\" and logIndex: 2 encountered the following error during processing: MismatchedABI(The event signature did not match the provided ABI). It has been discarded.\n",
      "  f\"The log with transaction hash: {log['transactionHash']} and \"\n",
      "/home/simone/.local/opt/miniconda3/envs/blockchain/lib/python3.7/site-packages/web3/contract.py:1154: UserWarning: The log with transaction hash: b'fy\\xd7\\xb5\\xd7\\xaf\\x83\\xc3u\\xbc\\xd6\\xa8\\xc2,\\xe6]\\x00\\xa6V\\xb0\\xe8\\xd5KX\\xf4\\xd4\\xb4\\x9a\\xed\\xf2,j' and logIndex: 1 encountered the following error during processing: MismatchedABI(The event signature did not match the provided ABI). It has been discarded.\n",
      "  f\"The log with transaction hash: {log['transactionHash']} and \"\n",
      "/home/simone/.local/opt/miniconda3/envs/blockchain/lib/python3.7/site-packages/web3/contract.py:1154: UserWarning: The log with transaction hash: b'fy\\xd7\\xb5\\xd7\\xaf\\x83\\xc3u\\xbc\\xd6\\xa8\\xc2,\\xe6]\\x00\\xa6V\\xb0\\xe8\\xd5KX\\xf4\\xd4\\xb4\\x9a\\xed\\xf2,j' and logIndex: 2 encountered the following error during processing: MismatchedABI(The event signature did not match the provided ABI). It has been discarded.\n",
      "  f\"The log with transaction hash: {log['transactionHash']} and \"\n"
     ]
    },
    {
     "name": "stderr",
     "output_type": "stream",
     "text": [
      "/home/simone/.local/opt/miniconda3/envs/blockchain/lib/python3.7/site-packages/web3/contract.py:1154: UserWarning: The log with transaction hash: b'\\x1a\\xf2\\x91\\xb4\\x1a\\x1e\\xc0\\xc3\\x80\\x0f\\xc2\\x99ja\\x15`Xe\\x88Y\\xa4\\x87 \\r\\x12\\xc8\\r\\xab\\x9bg\\xcb\\x0c' and logIndex: 4 encountered the following error during processing: MismatchedABI(The event signature did not match the provided ABI). It has been discarded.\n",
      "  f\"The log with transaction hash: {log['transactionHash']} and \"\n",
      "/home/simone/.local/opt/miniconda3/envs/blockchain/lib/python3.7/site-packages/web3/contract.py:1154: UserWarning: The log with transaction hash: b'\\x1a\\xf2\\x91\\xb4\\x1a\\x1e\\xc0\\xc3\\x80\\x0f\\xc2\\x99ja\\x15`Xe\\x88Y\\xa4\\x87 \\r\\x12\\xc8\\r\\xab\\x9bg\\xcb\\x0c' and logIndex: 5 encountered the following error during processing: MismatchedABI(The event signature did not match the provided ABI). It has been discarded.\n",
      "  f\"The log with transaction hash: {log['transactionHash']} and \"\n",
      "/home/simone/.local/opt/miniconda3/envs/blockchain/lib/python3.7/site-packages/web3/contract.py:1154: UserWarning: The log with transaction hash: b'\\x91\\xba\\xcc\\xb4\\xad\\x9a\\xd6\\xc9\\xfa\\x9eJ\\x07\\xfe\\xd2\\xe9\\xd0\\xae\\xd6\\xff\\x95t\\x1c{q\\xcb\\x99\\x89\\xb3\\xb0\\xb5Y\\xc4' and logIndex: 2 encountered the following error during processing: MismatchedABI(The event signature did not match the provided ABI). It has been discarded.\n",
      "  f\"The log with transaction hash: {log['transactionHash']} and \"\n",
      "/home/simone/.local/opt/miniconda3/envs/blockchain/lib/python3.7/site-packages/web3/contract.py:1154: UserWarning: The log with transaction hash: b'\\x91\\xba\\xcc\\xb4\\xad\\x9a\\xd6\\xc9\\xfa\\x9eJ\\x07\\xfe\\xd2\\xe9\\xd0\\xae\\xd6\\xff\\x95t\\x1c{q\\xcb\\x99\\x89\\xb3\\xb0\\xb5Y\\xc4' and logIndex: 3 encountered the following error during processing: MismatchedABI(The event signature did not match the provided ABI). It has been discarded.\n",
      "  f\"The log with transaction hash: {log['transactionHash']} and \"\n",
      "/home/simone/.local/opt/miniconda3/envs/blockchain/lib/python3.7/site-packages/web3/contract.py:1154: UserWarning: The log with transaction hash: b'a\\xa2i\\xd7\\x01\\x19\\x83\\xcb\\xd58\\x16#D,\\xd7\\xcf\\x8d\\xd1\\xbc\\x9c\\xbf2t\\x8ces.]\\x192^O' and logIndex: 1 encountered the following error during processing: MismatchedABI(The event signature did not match the provided ABI). It has been discarded.\n",
      "  f\"The log with transaction hash: {log['transactionHash']} and \"\n",
      "/home/simone/.local/opt/miniconda3/envs/blockchain/lib/python3.7/site-packages/web3/contract.py:1154: UserWarning: The log with transaction hash: b'a\\xa2i\\xd7\\x01\\x19\\x83\\xcb\\xd58\\x16#D,\\xd7\\xcf\\x8d\\xd1\\xbc\\x9c\\xbf2t\\x8ces.]\\x192^O' and logIndex: 2 encountered the following error during processing: MismatchedABI(The event signature did not match the provided ABI). It has been discarded.\n",
      "  f\"The log with transaction hash: {log['transactionHash']} and \"\n",
      "/home/simone/.local/opt/miniconda3/envs/blockchain/lib/python3.7/site-packages/web3/contract.py:1154: UserWarning: The log with transaction hash: b'\\xdf\\r]q\\xcd\\xe3\\xeeJ!E\\xa5\\xce\\xa9\\x98\\\\\\xceq\\xfes\\xb1X7\\x95\\xa3\\xcd\\xbdbU\\xd5\\x0c{|' and logIndex: 1 encountered the following error during processing: MismatchedABI(The event signature did not match the provided ABI). It has been discarded.\n",
      "  f\"The log with transaction hash: {log['transactionHash']} and \"\n",
      "/home/simone/.local/opt/miniconda3/envs/blockchain/lib/python3.7/site-packages/web3/contract.py:1154: UserWarning: The log with transaction hash: b'\\xdf\\r]q\\xcd\\xe3\\xeeJ!E\\xa5\\xce\\xa9\\x98\\\\\\xceq\\xfes\\xb1X7\\x95\\xa3\\xcd\\xbdbU\\xd5\\x0c{|' and logIndex: 2 encountered the following error during processing: MismatchedABI(The event signature did not match the provided ABI). It has been discarded.\n",
      "  f\"The log with transaction hash: {log['transactionHash']} and \"\n",
      "/home/simone/.local/opt/miniconda3/envs/blockchain/lib/python3.7/site-packages/web3/contract.py:1154: UserWarning: The log with transaction hash: b'\\xba\\xa0Zlk\\xcd\\xd7\\xcc\\xf1\\xe9\\xd7|\\x81\\xde\\xedI9Ol\\x02\\xc2lx\\xf6\\xf6\\xa4P\\x03?\\xfb\\x89\\xb7' and logIndex: 1 encountered the following error during processing: MismatchedABI(The event signature did not match the provided ABI). It has been discarded.\n",
      "  f\"The log with transaction hash: {log['transactionHash']} and \"\n",
      "/home/simone/.local/opt/miniconda3/envs/blockchain/lib/python3.7/site-packages/web3/contract.py:1154: UserWarning: The log with transaction hash: b'\\xba\\xa0Zlk\\xcd\\xd7\\xcc\\xf1\\xe9\\xd7|\\x81\\xde\\xedI9Ol\\x02\\xc2lx\\xf6\\xf6\\xa4P\\x03?\\xfb\\x89\\xb7' and logIndex: 2 encountered the following error during processing: MismatchedABI(The event signature did not match the provided ABI). It has been discarded.\n",
      "  f\"The log with transaction hash: {log['transactionHash']} and \"\n",
      "/home/simone/.local/opt/miniconda3/envs/blockchain/lib/python3.7/site-packages/web3/contract.py:1154: UserWarning: The log with transaction hash: b'6Zs\\xb3\\xd29\\xf2NXw\\x97\\xd3<\\xb5\\xa7\\xf47\\xb78\\x98\\xe1,\\xf4\\x81B\\xa7\\xadi%1\\x1d\\x1e' and logIndex: 1 encountered the following error during processing: MismatchedABI(The event signature did not match the provided ABI). It has been discarded.\n",
      "  f\"The log with transaction hash: {log['transactionHash']} and \"\n",
      "/home/simone/.local/opt/miniconda3/envs/blockchain/lib/python3.7/site-packages/web3/contract.py:1154: UserWarning: The log with transaction hash: b'6Zs\\xb3\\xd29\\xf2NXw\\x97\\xd3<\\xb5\\xa7\\xf47\\xb78\\x98\\xe1,\\xf4\\x81B\\xa7\\xadi%1\\x1d\\x1e' and logIndex: 2 encountered the following error during processing: MismatchedABI(The event signature did not match the provided ABI). It has been discarded.\n",
      "  f\"The log with transaction hash: {log['transactionHash']} and \"\n",
      "/home/simone/.local/opt/miniconda3/envs/blockchain/lib/python3.7/site-packages/web3/contract.py:1154: UserWarning: The log with transaction hash: b'\\xd8Mb\\xce\\r\\xddz\\xf8\\x9e\\x04\\x81\\xd0|\\x9a\\x01\\xb7K5B\\xfd\\xc4\\x7f2\\xc0\\xed\\xff\\xff\\x9b*\\x94\\x12\\x13' and logIndex: 1 encountered the following error during processing: MismatchedABI(The event signature did not match the provided ABI). It has been discarded.\n",
      "  f\"The log with transaction hash: {log['transactionHash']} and \"\n",
      "/home/simone/.local/opt/miniconda3/envs/blockchain/lib/python3.7/site-packages/web3/contract.py:1154: UserWarning: The log with transaction hash: b'\\xd8Mb\\xce\\r\\xddz\\xf8\\x9e\\x04\\x81\\xd0|\\x9a\\x01\\xb7K5B\\xfd\\xc4\\x7f2\\xc0\\xed\\xff\\xff\\x9b*\\x94\\x12\\x13' and logIndex: 2 encountered the following error during processing: MismatchedABI(The event signature did not match the provided ABI). It has been discarded.\n",
      "  f\"The log with transaction hash: {log['transactionHash']} and \"\n",
      "/home/simone/.local/opt/miniconda3/envs/blockchain/lib/python3.7/site-packages/web3/contract.py:1154: UserWarning: The log with transaction hash: b\"<\\x00|\\xcd\\xce\\xa3\\x94\\x8d&oUW'\\xd6~\\x92m.\\xddP3\\xea\\x959\\xb8\\xda\\x8f%\\xa0o\\xeb!\" and logIndex: 2 encountered the following error during processing: MismatchedABI(The event signature did not match the provided ABI). It has been discarded.\n",
      "  f\"The log with transaction hash: {log['transactionHash']} and \"\n",
      "/home/simone/.local/opt/miniconda3/envs/blockchain/lib/python3.7/site-packages/web3/contract.py:1154: UserWarning: The log with transaction hash: b\"<\\x00|\\xcd\\xce\\xa3\\x94\\x8d&oUW'\\xd6~\\x92m.\\xddP3\\xea\\x959\\xb8\\xda\\x8f%\\xa0o\\xeb!\" and logIndex: 3 encountered the following error during processing: MismatchedABI(The event signature did not match the provided ABI). It has been discarded.\n",
      "  f\"The log with transaction hash: {log['transactionHash']} and \"\n",
      "/home/simone/.local/opt/miniconda3/envs/blockchain/lib/python3.7/site-packages/web3/contract.py:1154: UserWarning: The log with transaction hash: b'ix\\x01\\xab\\xb7\\x1b\\x8d\\x94r\\x9b\\xd1\\x1byHB\\xb6\\x9e#\\xd2\\xdf\\xef\\x0f:\\x91\\xc9\\x8d\\x99\\x8fG|&\\x85' and logIndex: 2 encountered the following error during processing: MismatchedABI(The event signature did not match the provided ABI). It has been discarded.\n",
      "  f\"The log with transaction hash: {log['transactionHash']} and \"\n",
      "/home/simone/.local/opt/miniconda3/envs/blockchain/lib/python3.7/site-packages/web3/contract.py:1154: UserWarning: The log with transaction hash: b'ix\\x01\\xab\\xb7\\x1b\\x8d\\x94r\\x9b\\xd1\\x1byHB\\xb6\\x9e#\\xd2\\xdf\\xef\\x0f:\\x91\\xc9\\x8d\\x99\\x8fG|&\\x85' and logIndex: 3 encountered the following error during processing: MismatchedABI(The event signature did not match the provided ABI). It has been discarded.\n",
      "  f\"The log with transaction hash: {log['transactionHash']} and \"\n"
     ]
    },
    {
     "name": "stderr",
     "output_type": "stream",
     "text": [
      "/home/simone/.local/opt/miniconda3/envs/blockchain/lib/python3.7/site-packages/web3/contract.py:1154: UserWarning: The log with transaction hash: b'T\\xba\\x15\\x1b1\\x9d\\x92\\xee\\x08=\\xee\\xcc\\xd1\\x8f\\x85\\x9d\\xf6\\x1e\\x89ws\\xee\\x05\\xea\\x9f\\xe3G>\\xc3\\xc4lv' and logIndex: 4 encountered the following error during processing: MismatchedABI(The event signature did not match the provided ABI). It has been discarded.\n",
      "  f\"The log with transaction hash: {log['transactionHash']} and \"\n",
      "/home/simone/.local/opt/miniconda3/envs/blockchain/lib/python3.7/site-packages/web3/contract.py:1154: UserWarning: The log with transaction hash: b'T\\xba\\x15\\x1b1\\x9d\\x92\\xee\\x08=\\xee\\xcc\\xd1\\x8f\\x85\\x9d\\xf6\\x1e\\x89ws\\xee\\x05\\xea\\x9f\\xe3G>\\xc3\\xc4lv' and logIndex: 5 encountered the following error during processing: MismatchedABI(The event signature did not match the provided ABI). It has been discarded.\n",
      "  f\"The log with transaction hash: {log['transactionHash']} and \"\n",
      "/home/simone/.local/opt/miniconda3/envs/blockchain/lib/python3.7/site-packages/web3/contract.py:1154: UserWarning: The log with transaction hash: b'\\xa6v\\xe0\\x1b\\xe4\\x0cu!7Hj\\x87\\xa3\\xae\\x85\\xca5>t(\\xe9\\xd4,\\xfb\\x97\\x92j\\xf6\\xd8Bic' and logIndex: 1 encountered the following error during processing: MismatchedABI(The event signature did not match the provided ABI). It has been discarded.\n",
      "  f\"The log with transaction hash: {log['transactionHash']} and \"\n",
      "/home/simone/.local/opt/miniconda3/envs/blockchain/lib/python3.7/site-packages/web3/contract.py:1154: UserWarning: The log with transaction hash: b'\\xa6v\\xe0\\x1b\\xe4\\x0cu!7Hj\\x87\\xa3\\xae\\x85\\xca5>t(\\xe9\\xd4,\\xfb\\x97\\x92j\\xf6\\xd8Bic' and logIndex: 2 encountered the following error during processing: MismatchedABI(The event signature did not match the provided ABI). It has been discarded.\n",
      "  f\"The log with transaction hash: {log['transactionHash']} and \"\n",
      "/home/simone/.local/opt/miniconda3/envs/blockchain/lib/python3.7/site-packages/web3/contract.py:1154: UserWarning: The log with transaction hash: b'A)\\xd6C.\\x8c8\\xde\\xe8>B\\x0e\\x8c\\x16\\xf6\\xbc\\x81\\xf3\\xf6(\\r\\xfe\\xa3>\\xc7\\xb6\\xbf,I\\x9c\\xb6\\xde' and logIndex: 1 encountered the following error during processing: MismatchedABI(The event signature did not match the provided ABI). It has been discarded.\n",
      "  f\"The log with transaction hash: {log['transactionHash']} and \"\n",
      "/home/simone/.local/opt/miniconda3/envs/blockchain/lib/python3.7/site-packages/web3/contract.py:1154: UserWarning: The log with transaction hash: b'A)\\xd6C.\\x8c8\\xde\\xe8>B\\x0e\\x8c\\x16\\xf6\\xbc\\x81\\xf3\\xf6(\\r\\xfe\\xa3>\\xc7\\xb6\\xbf,I\\x9c\\xb6\\xde' and logIndex: 2 encountered the following error during processing: MismatchedABI(The event signature did not match the provided ABI). It has been discarded.\n",
      "  f\"The log with transaction hash: {log['transactionHash']} and \"\n",
      "/home/simone/.local/opt/miniconda3/envs/blockchain/lib/python3.7/site-packages/web3/contract.py:1154: UserWarning: The log with transaction hash: b'\\xe5\\x7f\\xa4\\x91\\xf5Q\\xd3\\xeb4\\xed\\xaaH\\xaaD\\xdc\\t\\xc4\\xf2\\xbc\\xde\\x18\\x12\\x15\\x93\\xec\\xd2x\\xfb\\x93\\xe6\\xc3J' and logIndex: 6 encountered the following error during processing: MismatchedABI(The event signature did not match the provided ABI). It has been discarded.\n",
      "  f\"The log with transaction hash: {log['transactionHash']} and \"\n",
      "/home/simone/.local/opt/miniconda3/envs/blockchain/lib/python3.7/site-packages/web3/contract.py:1154: UserWarning: The log with transaction hash: b'\\xe5\\x7f\\xa4\\x91\\xf5Q\\xd3\\xeb4\\xed\\xaaH\\xaaD\\xdc\\t\\xc4\\xf2\\xbc\\xde\\x18\\x12\\x15\\x93\\xec\\xd2x\\xfb\\x93\\xe6\\xc3J' and logIndex: 7 encountered the following error during processing: MismatchedABI(The event signature did not match the provided ABI). It has been discarded.\n",
      "  f\"The log with transaction hash: {log['transactionHash']} and \"\n",
      "/home/simone/.local/opt/miniconda3/envs/blockchain/lib/python3.7/site-packages/web3/contract.py:1154: UserWarning: The log with transaction hash: b'\\xc8\\xa9\\x02W\\xed\\x0312\\xff\\x85\\x00^\\xeb&d[\\xc0\\xe5V\\x06\"k\\x87cB\\xbd \\xa5\\xef\\xf4\\x16\\x05' and logIndex: 5 encountered the following error during processing: MismatchedABI(The event signature did not match the provided ABI). It has been discarded.\n",
      "  f\"The log with transaction hash: {log['transactionHash']} and \"\n",
      "/home/simone/.local/opt/miniconda3/envs/blockchain/lib/python3.7/site-packages/web3/contract.py:1154: UserWarning: The log with transaction hash: b'\\xc8\\xa9\\x02W\\xed\\x0312\\xff\\x85\\x00^\\xeb&d[\\xc0\\xe5V\\x06\"k\\x87cB\\xbd \\xa5\\xef\\xf4\\x16\\x05' and logIndex: 6 encountered the following error during processing: MismatchedABI(The event signature did not match the provided ABI). It has been discarded.\n",
      "  f\"The log with transaction hash: {log['transactionHash']} and \"\n",
      "/home/simone/.local/opt/miniconda3/envs/blockchain/lib/python3.7/site-packages/web3/contract.py:1154: UserWarning: The log with transaction hash: b'\\x8c\\xbf/-\\x10\\xe3\\xf9\\x08o\\\\\\xa2\\xfe\\xf1#j-\\xce\\x13N\\xcfx\\x1d\\xfcM\\xd7\\x8a\\xcc \\xb6\\xfc\\x91\\xb6' and logIndex: 1 encountered the following error during processing: MismatchedABI(The event signature did not match the provided ABI). It has been discarded.\n",
      "  f\"The log with transaction hash: {log['transactionHash']} and \"\n",
      "/home/simone/.local/opt/miniconda3/envs/blockchain/lib/python3.7/site-packages/web3/contract.py:1154: UserWarning: The log with transaction hash: b'\\x8c\\xbf/-\\x10\\xe3\\xf9\\x08o\\\\\\xa2\\xfe\\xf1#j-\\xce\\x13N\\xcfx\\x1d\\xfcM\\xd7\\x8a\\xcc \\xb6\\xfc\\x91\\xb6' and logIndex: 2 encountered the following error during processing: MismatchedABI(The event signature did not match the provided ABI). It has been discarded.\n",
      "  f\"The log with transaction hash: {log['transactionHash']} and \"\n",
      "/home/simone/.local/opt/miniconda3/envs/blockchain/lib/python3.7/site-packages/web3/contract.py:1154: UserWarning: The log with transaction hash: b'\\x84\\xfa\\xffC\\x1c\\xe1TS\\x08,A\\x078\\x8d\\x9d\\xe0Y\\xd9\\xaa\"\\x9c\\xab&\\xad:K\\xaf?a\\x7f\\xd8\\xa8' and logIndex: 4 encountered the following error during processing: MismatchedABI(The event signature did not match the provided ABI). It has been discarded.\n",
      "  f\"The log with transaction hash: {log['transactionHash']} and \"\n",
      "/home/simone/.local/opt/miniconda3/envs/blockchain/lib/python3.7/site-packages/web3/contract.py:1154: UserWarning: The log with transaction hash: b'\\x84\\xfa\\xffC\\x1c\\xe1TS\\x08,A\\x078\\x8d\\x9d\\xe0Y\\xd9\\xaa\"\\x9c\\xab&\\xad:K\\xaf?a\\x7f\\xd8\\xa8' and logIndex: 5 encountered the following error during processing: MismatchedABI(The event signature did not match the provided ABI). It has been discarded.\n",
      "  f\"The log with transaction hash: {log['transactionHash']} and \"\n",
      "/home/simone/.local/opt/miniconda3/envs/blockchain/lib/python3.7/site-packages/web3/contract.py:1154: UserWarning: The log with transaction hash: b'\\xec\\x85F^6\\xe5t\\xa0D\\xe3\\x12o\\x16\\xddRW\\x8e#\\xec\\xd3s!\\xf8\\xfaGa\\x8bO\\xdd4r\\xe0' and logIndex: 46 encountered the following error during processing: MismatchedABI(The event signature did not match the provided ABI). It has been discarded.\n",
      "  f\"The log with transaction hash: {log['transactionHash']} and \"\n",
      "/home/simone/.local/opt/miniconda3/envs/blockchain/lib/python3.7/site-packages/web3/contract.py:1154: UserWarning: The log with transaction hash: b'\\xec\\x85F^6\\xe5t\\xa0D\\xe3\\x12o\\x16\\xddRW\\x8e#\\xec\\xd3s!\\xf8\\xfaGa\\x8bO\\xdd4r\\xe0' and logIndex: 47 encountered the following error during processing: MismatchedABI(The event signature did not match the provided ABI). It has been discarded.\n",
      "  f\"The log with transaction hash: {log['transactionHash']} and \"\n",
      "/home/simone/.local/opt/miniconda3/envs/blockchain/lib/python3.7/site-packages/web3/contract.py:1154: UserWarning: The log with transaction hash: b'\\x16\\xda]X\\xa5rJ\\xc6\\x13\\xe4\\xd0\\xe9\\xa2S\\x96\\x1e\\xe76\\xfd\\xbf\\x80J\\xcfR\\x07\\x97P`.;\\xee\\xc8' and logIndex: 13 encountered the following error during processing: MismatchedABI(The event signature did not match the provided ABI). It has been discarded.\n",
      "  f\"The log with transaction hash: {log['transactionHash']} and \"\n",
      "/home/simone/.local/opt/miniconda3/envs/blockchain/lib/python3.7/site-packages/web3/contract.py:1154: UserWarning: The log with transaction hash: b'\\x16\\xda]X\\xa5rJ\\xc6\\x13\\xe4\\xd0\\xe9\\xa2S\\x96\\x1e\\xe76\\xfd\\xbf\\x80J\\xcfR\\x07\\x97P`.;\\xee\\xc8' and logIndex: 14 encountered the following error during processing: MismatchedABI(The event signature did not match the provided ABI). It has been discarded.\n",
      "  f\"The log with transaction hash: {log['transactionHash']} and \"\n",
      "/home/simone/.local/opt/miniconda3/envs/blockchain/lib/python3.7/site-packages/web3/contract.py:1154: UserWarning: The log with transaction hash: b'\\xc6\\x91\\xe7\\xf7T\\xbe\\xd4\\x96\\xdd\\xbba>\\xd3\\x16\\xa0`\\x95i\\xc9\\xd6q)I\\xc0\\xa5o!\\x9cu\\xd8\\xf6 ' and logIndex: 5 encountered the following error during processing: MismatchedABI(The event signature did not match the provided ABI). It has been discarded.\n",
      "  f\"The log with transaction hash: {log['transactionHash']} and \"\n",
      "/home/simone/.local/opt/miniconda3/envs/blockchain/lib/python3.7/site-packages/web3/contract.py:1154: UserWarning: The log with transaction hash: b'\\xc6\\x91\\xe7\\xf7T\\xbe\\xd4\\x96\\xdd\\xbba>\\xd3\\x16\\xa0`\\x95i\\xc9\\xd6q)I\\xc0\\xa5o!\\x9cu\\xd8\\xf6 ' and logIndex: 6 encountered the following error during processing: MismatchedABI(The event signature did not match the provided ABI). It has been discarded.\n",
      "  f\"The log with transaction hash: {log['transactionHash']} and \"\n"
     ]
    },
    {
     "name": "stderr",
     "output_type": "stream",
     "text": [
      "/home/simone/.local/opt/miniconda3/envs/blockchain/lib/python3.7/site-packages/web3/contract.py:1154: UserWarning: The log with transaction hash: b'\\x92\\\\\\x1dM\\x12\\xb5\\xaf\\x84#\\xe5\\xc3\\x9f\\xca\\xbc\\xb22U\\xd3\\x8f\\x9f\\xb8\\rP\\xda\\x00\\xad\\x0e:\\xb9\\xc8\\xdf\\x0f' and logIndex: 8 encountered the following error during processing: MismatchedABI(The event signature did not match the provided ABI). It has been discarded.\n",
      "  f\"The log with transaction hash: {log['transactionHash']} and \"\n",
      "/home/simone/.local/opt/miniconda3/envs/blockchain/lib/python3.7/site-packages/web3/contract.py:1154: UserWarning: The log with transaction hash: b'\\x92\\\\\\x1dM\\x12\\xb5\\xaf\\x84#\\xe5\\xc3\\x9f\\xca\\xbc\\xb22U\\xd3\\x8f\\x9f\\xb8\\rP\\xda\\x00\\xad\\x0e:\\xb9\\xc8\\xdf\\x0f' and logIndex: 9 encountered the following error during processing: MismatchedABI(The event signature did not match the provided ABI). It has been discarded.\n",
      "  f\"The log with transaction hash: {log['transactionHash']} and \"\n",
      "/home/simone/.local/opt/miniconda3/envs/blockchain/lib/python3.7/site-packages/web3/contract.py:1154: UserWarning: The log with transaction hash: b'R\\xaa\\xb1\\x83\\x1c\\x913\\xecA\\xef\\xa32F\\xce\\x99\\x9bQ\\xee\\xbe\\xdd?]O\\xbaJ\\xcbBg\\xd5\\xb7\\xfcr' and logIndex: 7 encountered the following error during processing: MismatchedABI(The event signature did not match the provided ABI). It has been discarded.\n",
      "  f\"The log with transaction hash: {log['transactionHash']} and \"\n",
      "/home/simone/.local/opt/miniconda3/envs/blockchain/lib/python3.7/site-packages/web3/contract.py:1154: UserWarning: The log with transaction hash: b'R\\xaa\\xb1\\x83\\x1c\\x913\\xecA\\xef\\xa32F\\xce\\x99\\x9bQ\\xee\\xbe\\xdd?]O\\xbaJ\\xcbBg\\xd5\\xb7\\xfcr' and logIndex: 8 encountered the following error during processing: MismatchedABI(The event signature did not match the provided ABI). It has been discarded.\n",
      "  f\"The log with transaction hash: {log['transactionHash']} and \"\n",
      "/home/simone/.local/opt/miniconda3/envs/blockchain/lib/python3.7/site-packages/web3/contract.py:1154: UserWarning: The log with transaction hash: b'\\x05\\xb1\\xbaPQ\\xad\\xa1\\x0e\\x08b\\xca\\x08\\x80\\xc1\\x96(\\xba\\xe1N$Y[\\xd3L&f\\x89f\\x84\\xdc\\xe5\\x0b' and logIndex: 4 encountered the following error during processing: MismatchedABI(The event signature did not match the provided ABI). It has been discarded.\n",
      "  f\"The log with transaction hash: {log['transactionHash']} and \"\n",
      "/home/simone/.local/opt/miniconda3/envs/blockchain/lib/python3.7/site-packages/web3/contract.py:1154: UserWarning: The log with transaction hash: b'\\x05\\xb1\\xbaPQ\\xad\\xa1\\x0e\\x08b\\xca\\x08\\x80\\xc1\\x96(\\xba\\xe1N$Y[\\xd3L&f\\x89f\\x84\\xdc\\xe5\\x0b' and logIndex: 5 encountered the following error during processing: MismatchedABI(The event signature did not match the provided ABI). It has been discarded.\n",
      "  f\"The log with transaction hash: {log['transactionHash']} and \"\n",
      "/home/simone/.local/opt/miniconda3/envs/blockchain/lib/python3.7/site-packages/web3/contract.py:1154: UserWarning: The log with transaction hash: b'1n\\xdd&\\xa6Ez^ \\xb7OX2\\xb0\\x03\\xa73\\xba\\t]d+\\x83\\x9b\\x98\\x94\\xb6\\x1d\\xcf\\xd6\\xc6J' and logIndex: 6 encountered the following error during processing: MismatchedABI(The event signature did not match the provided ABI). It has been discarded.\n",
      "  f\"The log with transaction hash: {log['transactionHash']} and \"\n",
      "/home/simone/.local/opt/miniconda3/envs/blockchain/lib/python3.7/site-packages/web3/contract.py:1154: UserWarning: The log with transaction hash: b'1n\\xdd&\\xa6Ez^ \\xb7OX2\\xb0\\x03\\xa73\\xba\\t]d+\\x83\\x9b\\x98\\x94\\xb6\\x1d\\xcf\\xd6\\xc6J' and logIndex: 7 encountered the following error during processing: MismatchedABI(The event signature did not match the provided ABI). It has been discarded.\n",
      "  f\"The log with transaction hash: {log['transactionHash']} and \"\n",
      "/home/simone/.local/opt/miniconda3/envs/blockchain/lib/python3.7/site-packages/web3/contract.py:1154: UserWarning: The log with transaction hash: b'\\xb9S\\x1b\\x9d\\xa7<\\xc5\\xb4\\xcd\\xb0\\xd2/\\x84rK\\x14\\xac\\x889p\\xfaUu\\xc1\\n\\x9f\\xaeiqB\\r\\xe8' and logIndex: 8 encountered the following error during processing: MismatchedABI(The event signature did not match the provided ABI). It has been discarded.\n",
      "  f\"The log with transaction hash: {log['transactionHash']} and \"\n",
      "/home/simone/.local/opt/miniconda3/envs/blockchain/lib/python3.7/site-packages/web3/contract.py:1154: UserWarning: The log with transaction hash: b'\\xb9S\\x1b\\x9d\\xa7<\\xc5\\xb4\\xcd\\xb0\\xd2/\\x84rK\\x14\\xac\\x889p\\xfaUu\\xc1\\n\\x9f\\xaeiqB\\r\\xe8' and logIndex: 9 encountered the following error during processing: MismatchedABI(The event signature did not match the provided ABI). It has been discarded.\n",
      "  f\"The log with transaction hash: {log['transactionHash']} and \"\n",
      "/home/simone/.local/opt/miniconda3/envs/blockchain/lib/python3.7/site-packages/web3/contract.py:1154: UserWarning: The log with transaction hash: b'\\xa1s\\xe1\\x0c$E\\x05\\xd9\\xa5\\x93\\xd7wj\\xbc\\xf7F\\xb9z\\xa4xdw\\x8d\\x14\\xcf\\x97`q.\\xb33\\xac' and logIndex: 2 encountered the following error during processing: MismatchedABI(The event signature did not match the provided ABI). It has been discarded.\n",
      "  f\"The log with transaction hash: {log['transactionHash']} and \"\n",
      "/home/simone/.local/opt/miniconda3/envs/blockchain/lib/python3.7/site-packages/web3/contract.py:1154: UserWarning: The log with transaction hash: b'\\xa1s\\xe1\\x0c$E\\x05\\xd9\\xa5\\x93\\xd7wj\\xbc\\xf7F\\xb9z\\xa4xdw\\x8d\\x14\\xcf\\x97`q.\\xb33\\xac' and logIndex: 3 encountered the following error during processing: MismatchedABI(The event signature did not match the provided ABI). It has been discarded.\n",
      "  f\"The log with transaction hash: {log['transactionHash']} and \"\n",
      "/home/simone/.local/opt/miniconda3/envs/blockchain/lib/python3.7/site-packages/web3/contract.py:1154: UserWarning: The log with transaction hash: b'\\xc4\\n\\xf4H-\\x97\\x08,\\x87t.Y\\xb0i\\xf8\\xef=\\x86\\x96N\\xb9\\xd2X\\xcf\\xc8X\\x1bhz\\xe7:\\x82' and logIndex: 8 encountered the following error during processing: MismatchedABI(The event signature did not match the provided ABI). It has been discarded.\n",
      "  f\"The log with transaction hash: {log['transactionHash']} and \"\n",
      "/home/simone/.local/opt/miniconda3/envs/blockchain/lib/python3.7/site-packages/web3/contract.py:1154: UserWarning: The log with transaction hash: b'\\xc4\\n\\xf4H-\\x97\\x08,\\x87t.Y\\xb0i\\xf8\\xef=\\x86\\x96N\\xb9\\xd2X\\xcf\\xc8X\\x1bhz\\xe7:\\x82' and logIndex: 9 encountered the following error during processing: MismatchedABI(The event signature did not match the provided ABI). It has been discarded.\n",
      "  f\"The log with transaction hash: {log['transactionHash']} and \"\n",
      "/home/simone/.local/opt/miniconda3/envs/blockchain/lib/python3.7/site-packages/web3/contract.py:1154: UserWarning: The log with transaction hash: b\"\\x94\\xe2\\x0f\\xa9\\x00=\\\\\\xc5Em\\xca\\x1dk\\xfd\\xc1\\xaa\\xea\\xadF\\x02\\xb0X\\x8f\\xf7\\xf1t\\xe4'\\xa5\\xddk\\x14\" and logIndex: 6 encountered the following error during processing: MismatchedABI(The event signature did not match the provided ABI). It has been discarded.\n",
      "  f\"The log with transaction hash: {log['transactionHash']} and \"\n",
      "/home/simone/.local/opt/miniconda3/envs/blockchain/lib/python3.7/site-packages/web3/contract.py:1154: UserWarning: The log with transaction hash: b\"\\x94\\xe2\\x0f\\xa9\\x00=\\\\\\xc5Em\\xca\\x1dk\\xfd\\xc1\\xaa\\xea\\xadF\\x02\\xb0X\\x8f\\xf7\\xf1t\\xe4'\\xa5\\xddk\\x14\" and logIndex: 7 encountered the following error during processing: MismatchedABI(The event signature did not match the provided ABI). It has been discarded.\n",
      "  f\"The log with transaction hash: {log['transactionHash']} and \"\n",
      "/home/simone/.local/opt/miniconda3/envs/blockchain/lib/python3.7/site-packages/web3/contract.py:1154: UserWarning: The log with transaction hash: b'\\x9c\\xbb`\\xcf\\x93=\\xed\\r\\xd4T0\\x1b}NC\\xb8\\x08\\xa9\\x00w<\\x90\\xebB\\xc8A\\xe2~gW\\xda\\xd7' and logIndex: 4 encountered the following error during processing: MismatchedABI(The event signature did not match the provided ABI). It has been discarded.\n",
      "  f\"The log with transaction hash: {log['transactionHash']} and \"\n",
      "/home/simone/.local/opt/miniconda3/envs/blockchain/lib/python3.7/site-packages/web3/contract.py:1154: UserWarning: The log with transaction hash: b'\\x9c\\xbb`\\xcf\\x93=\\xed\\r\\xd4T0\\x1b}NC\\xb8\\x08\\xa9\\x00w<\\x90\\xebB\\xc8A\\xe2~gW\\xda\\xd7' and logIndex: 5 encountered the following error during processing: MismatchedABI(The event signature did not match the provided ABI). It has been discarded.\n",
      "  f\"The log with transaction hash: {log['transactionHash']} and \"\n"
     ]
    },
    {
     "name": "stderr",
     "output_type": "stream",
     "text": [
      "/home/simone/.local/opt/miniconda3/envs/blockchain/lib/python3.7/site-packages/web3/contract.py:1154: UserWarning: The log with transaction hash: b\"\\xd6BaD\\xf4\\xc0\\x81\\x82\\xd1\\x01'\\x15b\\xe7NR\\x9a\\xbe\\xfc\\xfc\\x15\\x06\\xb0\\r\\xf2\\xb1\\xd8=\\x05l\\x88\\xb7\" and logIndex: 117 encountered the following error during processing: MismatchedABI(The event signature did not match the provided ABI). It has been discarded.\n",
      "  f\"The log with transaction hash: {log['transactionHash']} and \"\n",
      "/home/simone/.local/opt/miniconda3/envs/blockchain/lib/python3.7/site-packages/web3/contract.py:1154: UserWarning: The log with transaction hash: b\"\\xd6BaD\\xf4\\xc0\\x81\\x82\\xd1\\x01'\\x15b\\xe7NR\\x9a\\xbe\\xfc\\xfc\\x15\\x06\\xb0\\r\\xf2\\xb1\\xd8=\\x05l\\x88\\xb7\" and logIndex: 118 encountered the following error during processing: MismatchedABI(The event signature did not match the provided ABI). It has been discarded.\n",
      "  f\"The log with transaction hash: {log['transactionHash']} and \"\n",
      "/home/simone/.local/opt/miniconda3/envs/blockchain/lib/python3.7/site-packages/web3/contract.py:1154: UserWarning: The log with transaction hash: b'\\xb0\\xfd\\xa9\\xfa\\xef\\xb7\\xbe\\xadj\\x834\\xd4rE#\\xb7~R\\xb3\\x01\\x80\\x06G|\\xd2)\\xca\\x98\\x8e\\xaa\\x16\\x13' and logIndex: 2 encountered the following error during processing: MismatchedABI(The event signature did not match the provided ABI). It has been discarded.\n",
      "  f\"The log with transaction hash: {log['transactionHash']} and \"\n",
      "/home/simone/.local/opt/miniconda3/envs/blockchain/lib/python3.7/site-packages/web3/contract.py:1154: UserWarning: The log with transaction hash: b'\\xb0\\xfd\\xa9\\xfa\\xef\\xb7\\xbe\\xadj\\x834\\xd4rE#\\xb7~R\\xb3\\x01\\x80\\x06G|\\xd2)\\xca\\x98\\x8e\\xaa\\x16\\x13' and logIndex: 3 encountered the following error during processing: MismatchedABI(The event signature did not match the provided ABI). It has been discarded.\n",
      "  f\"The log with transaction hash: {log['transactionHash']} and \"\n",
      "/home/simone/.local/opt/miniconda3/envs/blockchain/lib/python3.7/site-packages/web3/contract.py:1154: UserWarning: The log with transaction hash: b'\\x95\\x10\\xcf\\x18\\xa4e\\xb7,\\xcf\\xc0H\\x922|\\x07K9$\\xd8t\\xad\\x96\\x86l\\xe5\\x03\\xcalS\\xd0\\xb7\\x1a' and logIndex: 5 encountered the following error during processing: MismatchedABI(The event signature did not match the provided ABI). It has been discarded.\n",
      "  f\"The log with transaction hash: {log['transactionHash']} and \"\n",
      "/home/simone/.local/opt/miniconda3/envs/blockchain/lib/python3.7/site-packages/web3/contract.py:1154: UserWarning: The log with transaction hash: b'\\x95\\x10\\xcf\\x18\\xa4e\\xb7,\\xcf\\xc0H\\x922|\\x07K9$\\xd8t\\xad\\x96\\x86l\\xe5\\x03\\xcalS\\xd0\\xb7\\x1a' and logIndex: 6 encountered the following error during processing: MismatchedABI(The event signature did not match the provided ABI). It has been discarded.\n",
      "  f\"The log with transaction hash: {log['transactionHash']} and \"\n",
      "/home/simone/.local/opt/miniconda3/envs/blockchain/lib/python3.7/site-packages/web3/contract.py:1154: UserWarning: The log with transaction hash: b'\\xc8A\\xb8~\\xb2>\\xa7\\xc3\\xf0\\xe2r\\x16\\xf8y\\xf4\\xff\\xe6\\xd8\\x8a\\x0c=\\xddt2\\xbb7\\xa6\\xc9a\\xca<\\xc8' and logIndex: 13 encountered the following error during processing: MismatchedABI(The event signature did not match the provided ABI). It has been discarded.\n",
      "  f\"The log with transaction hash: {log['transactionHash']} and \"\n",
      "/home/simone/.local/opt/miniconda3/envs/blockchain/lib/python3.7/site-packages/web3/contract.py:1154: UserWarning: The log with transaction hash: b'\\xc8A\\xb8~\\xb2>\\xa7\\xc3\\xf0\\xe2r\\x16\\xf8y\\xf4\\xff\\xe6\\xd8\\x8a\\x0c=\\xddt2\\xbb7\\xa6\\xc9a\\xca<\\xc8' and logIndex: 14 encountered the following error during processing: MismatchedABI(The event signature did not match the provided ABI). It has been discarded.\n",
      "  f\"The log with transaction hash: {log['transactionHash']} and \"\n",
      "/home/simone/.local/opt/miniconda3/envs/blockchain/lib/python3.7/site-packages/web3/contract.py:1154: UserWarning: The log with transaction hash: b'\\x9e/\\x13\\x9b\\x84\\x85k<*\\x06\\xef\\x99\\x0b\\xfaQ\\x0e\\x8b\\xb7\\x04\\xfc,s\\xcf\\xeeqP\\x95\\x8c\\xe8\\x98\\xd23' and logIndex: 7 encountered the following error during processing: MismatchedABI(The event signature did not match the provided ABI). It has been discarded.\n",
      "  f\"The log with transaction hash: {log['transactionHash']} and \"\n",
      "/home/simone/.local/opt/miniconda3/envs/blockchain/lib/python3.7/site-packages/web3/contract.py:1154: UserWarning: The log with transaction hash: b'\\x9e/\\x13\\x9b\\x84\\x85k<*\\x06\\xef\\x99\\x0b\\xfaQ\\x0e\\x8b\\xb7\\x04\\xfc,s\\xcf\\xeeqP\\x95\\x8c\\xe8\\x98\\xd23' and logIndex: 8 encountered the following error during processing: MismatchedABI(The event signature did not match the provided ABI). It has been discarded.\n",
      "  f\"The log with transaction hash: {log['transactionHash']} and \"\n",
      "/home/simone/.local/opt/miniconda3/envs/blockchain/lib/python3.7/site-packages/web3/contract.py:1154: UserWarning: The log with transaction hash: b'\\xaa\\xb3sg\\x1dh\\x1f}\\xe6[?hFWe`42<\\xe5\\xde\\xe3\\x1d\\x92v\\xa9\\xa5tb\\xaf1\\xb2' and logIndex: 5 encountered the following error during processing: MismatchedABI(The event signature did not match the provided ABI). It has been discarded.\n",
      "  f\"The log with transaction hash: {log['transactionHash']} and \"\n",
      "/home/simone/.local/opt/miniconda3/envs/blockchain/lib/python3.7/site-packages/web3/contract.py:1154: UserWarning: The log with transaction hash: b'\\xaa\\xb3sg\\x1dh\\x1f}\\xe6[?hFWe`42<\\xe5\\xde\\xe3\\x1d\\x92v\\xa9\\xa5tb\\xaf1\\xb2' and logIndex: 6 encountered the following error during processing: MismatchedABI(The event signature did not match the provided ABI). It has been discarded.\n",
      "  f\"The log with transaction hash: {log['transactionHash']} and \"\n",
      "/home/simone/.local/opt/miniconda3/envs/blockchain/lib/python3.7/site-packages/web3/contract.py:1154: UserWarning: The log with transaction hash: b'\\x13A}Z\\x99\\xd0\\xc3\\xa8\\xe6J|3a\\t\\xcd&\\xb5^\\x80H\\x7fN\\xd6\\xd4\\xcc\\x06\\xc9\\x88\"\\x15!\\xaf' and logIndex: 22 encountered the following error during processing: MismatchedABI(The event signature did not match the provided ABI). It has been discarded.\n",
      "  f\"The log with transaction hash: {log['transactionHash']} and \"\n",
      "/home/simone/.local/opt/miniconda3/envs/blockchain/lib/python3.7/site-packages/web3/contract.py:1154: UserWarning: The log with transaction hash: b'\\x13A}Z\\x99\\xd0\\xc3\\xa8\\xe6J|3a\\t\\xcd&\\xb5^\\x80H\\x7fN\\xd6\\xd4\\xcc\\x06\\xc9\\x88\"\\x15!\\xaf' and logIndex: 23 encountered the following error during processing: MismatchedABI(The event signature did not match the provided ABI). It has been discarded.\n",
      "  f\"The log with transaction hash: {log['transactionHash']} and \"\n",
      "/home/simone/.local/opt/miniconda3/envs/blockchain/lib/python3.7/site-packages/web3/contract.py:1154: UserWarning: The log with transaction hash: b'\\xa5M(\\xfe\\xe6\\xf3\\xf6\\xb8Jj_\\xbb\\x06\\x81\\xb9/\\x12\\x95\\xd2Y\\x94\\x18\\xae\\xcdVbP\\xb7\\xcb\\xb4\\xa2\\xa9' and logIndex: 16 encountered the following error during processing: MismatchedABI(The event signature did not match the provided ABI). It has been discarded.\n",
      "  f\"The log with transaction hash: {log['transactionHash']} and \"\n",
      "/home/simone/.local/opt/miniconda3/envs/blockchain/lib/python3.7/site-packages/web3/contract.py:1154: UserWarning: The log with transaction hash: b'\\xa5M(\\xfe\\xe6\\xf3\\xf6\\xb8Jj_\\xbb\\x06\\x81\\xb9/\\x12\\x95\\xd2Y\\x94\\x18\\xae\\xcdVbP\\xb7\\xcb\\xb4\\xa2\\xa9' and logIndex: 17 encountered the following error during processing: MismatchedABI(The event signature did not match the provided ABI). It has been discarded.\n",
      "  f\"The log with transaction hash: {log['transactionHash']} and \"\n",
      "/home/simone/.local/opt/miniconda3/envs/blockchain/lib/python3.7/site-packages/web3/contract.py:1154: UserWarning: The log with transaction hash: b'\\n\\xf4\\xf8\\x8aT\\xfb-:\\xfe[A\\xd4\\xb4\\xbb\\x9d\\x0c\\xa1\\xdf\\xf8\\xb0\\xfc\\xee\\x04\\xa6Z\\xcf\\xc8U#A\\x0bM' and logIndex: 14 encountered the following error during processing: MismatchedABI(The event signature did not match the provided ABI). It has been discarded.\n",
      "  f\"The log with transaction hash: {log['transactionHash']} and \"\n",
      "/home/simone/.local/opt/miniconda3/envs/blockchain/lib/python3.7/site-packages/web3/contract.py:1154: UserWarning: The log with transaction hash: b'\\n\\xf4\\xf8\\x8aT\\xfb-:\\xfe[A\\xd4\\xb4\\xbb\\x9d\\x0c\\xa1\\xdf\\xf8\\xb0\\xfc\\xee\\x04\\xa6Z\\xcf\\xc8U#A\\x0bM' and logIndex: 15 encountered the following error during processing: MismatchedABI(The event signature did not match the provided ABI). It has been discarded.\n",
      "  f\"The log with transaction hash: {log['transactionHash']} and \"\n"
     ]
    },
    {
     "name": "stderr",
     "output_type": "stream",
     "text": [
      "/home/simone/.local/opt/miniconda3/envs/blockchain/lib/python3.7/site-packages/web3/contract.py:1154: UserWarning: The log with transaction hash: b'\\x01\\xd2\\x89\\x1f\\xf2\\x84\\x13\\xcfL\\xc2\\xcc8\\x19Ov\\xc0\\xa5\\x10\\x8f1\\xe2\\x86\\x8e\\xca\\x8f\\r\\xf1\\x94%-\\xbd\\xc7' and logIndex: 2 encountered the following error during processing: MismatchedABI(The event signature did not match the provided ABI). It has been discarded.\n",
      "  f\"The log with transaction hash: {log['transactionHash']} and \"\n",
      "/home/simone/.local/opt/miniconda3/envs/blockchain/lib/python3.7/site-packages/web3/contract.py:1154: UserWarning: The log with transaction hash: b'\\x01\\xd2\\x89\\x1f\\xf2\\x84\\x13\\xcfL\\xc2\\xcc8\\x19Ov\\xc0\\xa5\\x10\\x8f1\\xe2\\x86\\x8e\\xca\\x8f\\r\\xf1\\x94%-\\xbd\\xc7' and logIndex: 3 encountered the following error during processing: MismatchedABI(The event signature did not match the provided ABI). It has been discarded.\n",
      "  f\"The log with transaction hash: {log['transactionHash']} and \"\n",
      "/home/simone/.local/opt/miniconda3/envs/blockchain/lib/python3.7/site-packages/web3/contract.py:1154: UserWarning: The log with transaction hash: b'\\x15\\x9d\\xd6\\xecQ\\x1b\\x963\\xe2+\\xd0\\x17\\xa5EJ\\x0b\\xcd\\x0c]w\\x83[\\xd6NF\\x83\\xc0@_\\xd6\\xfd\\xee' and logIndex: 3 encountered the following error during processing: MismatchedABI(The event signature did not match the provided ABI). It has been discarded.\n",
      "  f\"The log with transaction hash: {log['transactionHash']} and \"\n",
      "/home/simone/.local/opt/miniconda3/envs/blockchain/lib/python3.7/site-packages/web3/contract.py:1154: UserWarning: The log with transaction hash: b'\\x15\\x9d\\xd6\\xecQ\\x1b\\x963\\xe2+\\xd0\\x17\\xa5EJ\\x0b\\xcd\\x0c]w\\x83[\\xd6NF\\x83\\xc0@_\\xd6\\xfd\\xee' and logIndex: 4 encountered the following error during processing: MismatchedABI(The event signature did not match the provided ABI). It has been discarded.\n",
      "  f\"The log with transaction hash: {log['transactionHash']} and \"\n",
      "/home/simone/.local/opt/miniconda3/envs/blockchain/lib/python3.7/site-packages/web3/contract.py:1154: UserWarning: The log with transaction hash: b'H/\\x12\\xc5\\xbaS\\x13\\'\\xca\\n\\x89dz*\\xc2G\\xf9o$\"1\\x90*K\\xe4\\xad\\xa33`\\xd3\\xdcK' and logIndex: 7 encountered the following error during processing: MismatchedABI(The event signature did not match the provided ABI). It has been discarded.\n",
      "  f\"The log with transaction hash: {log['transactionHash']} and \"\n",
      "/home/simone/.local/opt/miniconda3/envs/blockchain/lib/python3.7/site-packages/web3/contract.py:1154: UserWarning: The log with transaction hash: b'H/\\x12\\xc5\\xbaS\\x13\\'\\xca\\n\\x89dz*\\xc2G\\xf9o$\"1\\x90*K\\xe4\\xad\\xa33`\\xd3\\xdcK' and logIndex: 8 encountered the following error during processing: MismatchedABI(The event signature did not match the provided ABI). It has been discarded.\n",
      "  f\"The log with transaction hash: {log['transactionHash']} and \"\n",
      "/home/simone/.local/opt/miniconda3/envs/blockchain/lib/python3.7/site-packages/web3/contract.py:1154: UserWarning: The log with transaction hash: b'\\x83\\xdc\\x90q\\xd1\\xdd\\x80\\xef2\\xbf\\xe6\\x0e\\xe2\\xa0\\xde\\x9c\\xd6\\x08$\\xe2\\x8b\\xaf\\xa5\\xc2p`i\\x18b\\x01\\xe4\\x99' and logIndex: 7 encountered the following error during processing: MismatchedABI(The event signature did not match the provided ABI). It has been discarded.\n",
      "  f\"The log with transaction hash: {log['transactionHash']} and \"\n",
      "/home/simone/.local/opt/miniconda3/envs/blockchain/lib/python3.7/site-packages/web3/contract.py:1154: UserWarning: The log with transaction hash: b'\\x83\\xdc\\x90q\\xd1\\xdd\\x80\\xef2\\xbf\\xe6\\x0e\\xe2\\xa0\\xde\\x9c\\xd6\\x08$\\xe2\\x8b\\xaf\\xa5\\xc2p`i\\x18b\\x01\\xe4\\x99' and logIndex: 8 encountered the following error during processing: MismatchedABI(The event signature did not match the provided ABI). It has been discarded.\n",
      "  f\"The log with transaction hash: {log['transactionHash']} and \"\n"
     ]
    }
   ],
   "source": [
    "directStart_FSS_logs = [] \n",
    "for event_data in all_directStart_FSS: \n",
    "        #print(event_data)\n",
    "        tx_hash = event_data['transactionHash'].hex()\n",
    "        receipt = web3.eth.getTransactionReceipt(tx_hash)\n",
    "        #events = ['Buy', 'Sell']\n",
    "        directStart_FSS_logs.append(web3_challenge_FSS.events.DirectChallenge().processReceipt(receipt))"
   ]
  },
  {
   "cell_type": "code",
   "execution_count": 52,
   "metadata": {},
   "outputs": [],
   "source": [
    "FSS_directStart_FSS = []\n",
    "for i in range(0, len(directStart_FSS_logs)): \n",
    "    if(directStart_FSS_logs[i][0]['args']['challenger'] == '0x27C404d4D91156F7063E8dB9cC10970cfffF9a6C'): \n",
    "        FSS_directStart_FSS.append(directStart_FSS_logs[i][0])"
   ]
  },
  {
   "cell_type": "code",
   "execution_count": 54,
   "metadata": {
    "scrolled": true
   },
   "outputs": [
    {
     "name": "stdout",
     "output_type": "stream",
     "text": [
      "0 1593018746 2020-06-24 19:12:26\n",
      "1 1593029391 2020-06-24 22:09:51\n",
      "2 1593029821 2020-06-24 22:17:01\n",
      "3 1593080769 2020-06-25 12:26:09\n",
      "4 1593090443 2020-06-25 15:07:23\n",
      "5 1593091209 2020-06-25 15:20:09\n",
      "6 1593122668 2020-06-26 00:04:28\n",
      "7 1593138081 2020-06-26 04:21:21\n",
      "8 1593165328 2020-06-26 11:55:28\n",
      "9 1593186340 2020-06-26 17:45:40\n",
      "10 1593192884 2020-06-26 19:34:44\n",
      "11 1593198427 2020-06-26 21:07:07\n",
      "12 1593215721 2020-06-27 01:55:21\n",
      "13 1593236926 2020-06-27 07:48:46\n",
      "14 1593254620 2020-06-27 12:43:40\n",
      "15 1593265627 2020-06-27 15:47:07\n",
      "16 1593267027 2020-06-27 16:10:27\n",
      "17 1593285914 2020-06-27 21:25:14\n",
      "18 1593303081 2020-06-28 02:11:21\n",
      "19 1593320737 2020-06-28 07:05:37\n",
      "20 1593333403 2020-06-28 10:36:43\n",
      "21 1593334619 2020-06-28 10:56:59\n",
      "22 1593339175 2020-06-28 12:12:55\n",
      "23 1593339988 2020-06-28 12:26:28\n",
      "24 1593340632 2020-06-28 12:37:12\n",
      "25 1593341084 2020-06-28 12:44:44\n",
      "26 1593341650 2020-06-28 12:54:10\n",
      "27 1593343212 2020-06-28 13:20:12\n",
      "28 1593344203 2020-06-28 13:36:43\n",
      "29 1593346812 2020-06-28 14:20:12\n",
      "30 1593350378 2020-06-28 15:19:38\n",
      "31 1593351521 2020-06-28 15:38:41\n",
      "32 1593352021 2020-06-28 15:47:01\n",
      "33 1593353692 2020-06-28 16:14:52\n",
      "34 1593354261 2020-06-28 16:24:21\n",
      "35 1593354933 2020-06-28 16:35:33\n",
      "36 1593355547 2020-06-28 16:45:47\n",
      "37 1593356660 2020-06-28 17:04:20\n",
      "38 1593357640 2020-06-28 17:20:40\n",
      "39 1593358327 2020-06-28 17:32:07\n",
      "40 1593360522 2020-06-28 18:08:42\n",
      "41 1593361146 2020-06-28 18:19:06\n",
      "42 1593361757 2020-06-28 18:29:17\n",
      "43 1593363247 2020-06-28 18:54:07\n",
      "44 1593363937 2020-06-28 19:05:37\n",
      "45 1593372043 2020-06-28 21:20:43\n",
      "46 1593377210 2020-06-28 22:46:50\n",
      "47 1593377472 2020-06-28 22:51:12\n",
      "48 1593381433 2020-06-28 23:57:13\n",
      "49 1593385082 2020-06-29 00:58:02\n",
      "50 1593393989 2020-06-29 03:26:29\n",
      "51 1593400402 2020-06-29 05:13:22\n",
      "52 1593406663 2020-06-29 06:57:43\n",
      "53 1593407670 2020-06-29 07:14:30\n",
      "54 1593414601 2020-06-29 09:10:01\n",
      "55 1593465425 2020-06-29 23:17:05\n",
      "56 1593477253 2020-06-30 02:34:13\n",
      "57 1593479844 2020-06-30 03:17:24\n",
      "58 1593481977 2020-06-30 03:52:57\n",
      "59 1593483892 2020-06-30 04:24:52\n",
      "60 1593486158 2020-06-30 05:02:38\n",
      "61 1593488064 2020-06-30 05:34:24\n",
      "62 1593490647 2020-06-30 06:17:27\n",
      "63 1593493869 2020-06-30 07:11:09\n",
      "64 1593495460 2020-06-30 07:37:40\n",
      "65 1593498015 2020-06-30 08:20:15\n",
      "66 1593500422 2020-06-30 09:00:22\n",
      "67 1593502158 2020-06-30 09:29:18\n",
      "68 1593505423 2020-06-30 10:23:43\n",
      "69 1593507755 2020-06-30 11:02:35\n",
      "70 1593509247 2020-06-30 11:27:27\n",
      "71 1593511910 2020-06-30 12:11:50\n",
      "72 1593518485 2020-06-30 14:01:25\n",
      "73 1593523030 2020-06-30 15:17:10\n",
      "74 1593528833 2020-06-30 16:53:53\n",
      "75 1593529644 2020-06-30 17:07:24\n",
      "76 1593536255 2020-06-30 18:57:35\n"
     ]
    }
   ],
   "source": [
    "for i in range(0, len(FSS_directStart_FSS)): \n",
    "    blkNumb = FSS_directStart_FSS[i]['blockNumber']\n",
    "    timestamp = web3.eth.getBlock(blkNumb)['timestamp']\n",
    "    date = datetime.datetime.fromtimestamp(timestamp)\n",
    "    print(i, timestamp, date)"
   ]
  },
  {
   "cell_type": "code",
   "execution_count": 55,
   "metadata": {
    "collapsed": true
   },
   "outputs": [
    {
     "name": "stderr",
     "output_type": "stream",
     "text": [
      "/home/simone/.local/opt/miniconda3/envs/blockchain/lib/python3.7/site-packages/web3/contract.py:1154: UserWarning: The log with transaction hash: b'\\x07\\x80\\xd0\\xf9,l\\xce\\xb9\\x0e\\tq\\x8c/2\\xb2h\\xd1\\xc0bK\\x94*g\\x8e\\xa2G\\xcf\\xaf\\xc6\\x12M\\xbb' and logIndex: 3 encountered the following error during processing: MismatchedABI(The event signature did not match the provided ABI). It has been discarded.\n",
      "  f\"The log with transaction hash: {log['transactionHash']} and \"\n",
      "/home/simone/.local/opt/miniconda3/envs/blockchain/lib/python3.7/site-packages/web3/contract.py:1154: UserWarning: The log with transaction hash: b'\\x07\\x80\\xd0\\xf9,l\\xce\\xb9\\x0e\\tq\\x8c/2\\xb2h\\xd1\\xc0bK\\x94*g\\x8e\\xa2G\\xcf\\xaf\\xc6\\x12M\\xbb' and logIndex: 4 encountered the following error during processing: MismatchedABI(The event signature did not match the provided ABI). It has been discarded.\n",
      "  f\"The log with transaction hash: {log['transactionHash']} and \"\n",
      "/home/simone/.local/opt/miniconda3/envs/blockchain/lib/python3.7/site-packages/web3/contract.py:1154: UserWarning: The log with transaction hash: b'\\x1f\\xf6\\xac\\xba\\x9f\\xb7yq\\xec\\xfe\\xca\\x9c\\x93\\xc6dX\\xf6\\x89\\x9fw\\x04\\x9b\\x965xq\\xfbd#\\x92\\xe1;' and logIndex: 1 encountered the following error during processing: MismatchedABI(The event signature did not match the provided ABI). It has been discarded.\n",
      "  f\"The log with transaction hash: {log['transactionHash']} and \"\n",
      "/home/simone/.local/opt/miniconda3/envs/blockchain/lib/python3.7/site-packages/web3/contract.py:1154: UserWarning: The log with transaction hash: b'\\x1f\\xf6\\xac\\xba\\x9f\\xb7yq\\xec\\xfe\\xca\\x9c\\x93\\xc6dX\\xf6\\x89\\x9fw\\x04\\x9b\\x965xq\\xfbd#\\x92\\xe1;' and logIndex: 2 encountered the following error during processing: MismatchedABI(The event signature did not match the provided ABI). It has been discarded.\n",
      "  f\"The log with transaction hash: {log['transactionHash']} and \"\n",
      "/home/simone/.local/opt/miniconda3/envs/blockchain/lib/python3.7/site-packages/web3/contract.py:1154: UserWarning: The log with transaction hash: b'\\x08\\xa0\\x97we\\x9f\\xa6\\xf1\\x94\\xcf_\\x80\\xd4\\xd7#\\xb9\\x8e\\xa8\\xb0\\x1dBJ\\x84\\x94\\xd7\\xd5\\x00\\n\\x9a\\x8d\\n\\xbe' and logIndex: 3 encountered the following error during processing: MismatchedABI(The event signature did not match the provided ABI). It has been discarded.\n",
      "  f\"The log with transaction hash: {log['transactionHash']} and \"\n",
      "/home/simone/.local/opt/miniconda3/envs/blockchain/lib/python3.7/site-packages/web3/contract.py:1154: UserWarning: The log with transaction hash: b'\\x08\\xa0\\x97we\\x9f\\xa6\\xf1\\x94\\xcf_\\x80\\xd4\\xd7#\\xb9\\x8e\\xa8\\xb0\\x1dBJ\\x84\\x94\\xd7\\xd5\\x00\\n\\x9a\\x8d\\n\\xbe' and logIndex: 4 encountered the following error during processing: MismatchedABI(The event signature did not match the provided ABI). It has been discarded.\n",
      "  f\"The log with transaction hash: {log['transactionHash']} and \"\n",
      "/home/simone/.local/opt/miniconda3/envs/blockchain/lib/python3.7/site-packages/web3/contract.py:1154: UserWarning: The log with transaction hash: b'\\x82\\n\\xd9\\x1cSb\\x8d\\x8a\\xa2\\xbf\\x95\\xc3\\xfb3Z\\xaa\\xa1\\xf4\\xb5\\x9f\\x87\\x82\\xa7/\\xdf\\x83,\\xbe.}/X' and logIndex: 2 encountered the following error during processing: MismatchedABI(The event signature did not match the provided ABI). It has been discarded.\n",
      "  f\"The log with transaction hash: {log['transactionHash']} and \"\n",
      "/home/simone/.local/opt/miniconda3/envs/blockchain/lib/python3.7/site-packages/web3/contract.py:1154: UserWarning: The log with transaction hash: b'\\x82\\n\\xd9\\x1cSb\\x8d\\x8a\\xa2\\xbf\\x95\\xc3\\xfb3Z\\xaa\\xa1\\xf4\\xb5\\x9f\\x87\\x82\\xa7/\\xdf\\x83,\\xbe.}/X' and logIndex: 3 encountered the following error during processing: MismatchedABI(The event signature did not match the provided ABI). It has been discarded.\n",
      "  f\"The log with transaction hash: {log['transactionHash']} and \"\n",
      "/home/simone/.local/opt/miniconda3/envs/blockchain/lib/python3.7/site-packages/web3/contract.py:1154: UserWarning: The log with transaction hash: b'\\xea+\\xc7o\\xe9[\\x05\\xe6Q\\xcf\\xdb+\\xf5\\x1d^;\\xe4+\\xe8\\x89g\\xf7\\x10\\x19\\x0b\\xd9\\xdb\\xba\\xc0v\\x8a\\x9b' and logIndex: 10 encountered the following error during processing: MismatchedABI(The event signature did not match the provided ABI). It has been discarded.\n",
      "  f\"The log with transaction hash: {log['transactionHash']} and \"\n",
      "/home/simone/.local/opt/miniconda3/envs/blockchain/lib/python3.7/site-packages/web3/contract.py:1154: UserWarning: The log with transaction hash: b'\\xea+\\xc7o\\xe9[\\x05\\xe6Q\\xcf\\xdb+\\xf5\\x1d^;\\xe4+\\xe8\\x89g\\xf7\\x10\\x19\\x0b\\xd9\\xdb\\xba\\xc0v\\x8a\\x9b' and logIndex: 11 encountered the following error during processing: MismatchedABI(The event signature did not match the provided ABI). It has been discarded.\n",
      "  f\"The log with transaction hash: {log['transactionHash']} and \"\n",
      "/home/simone/.local/opt/miniconda3/envs/blockchain/lib/python3.7/site-packages/web3/contract.py:1154: UserWarning: The log with transaction hash: b'T\\xb2\\x87\\x0f\\xdcL0y\\x89\\xd6</*\\x81E\\xd8\\xd3\\xf3\\xd3\\xa0\\xb8R\\xe6\\xbf\\x8eY%\\x9e\\xec<\\xd8\\x10' and logIndex: 13 encountered the following error during processing: MismatchedABI(The event signature did not match the provided ABI). It has been discarded.\n",
      "  f\"The log with transaction hash: {log['transactionHash']} and \"\n",
      "/home/simone/.local/opt/miniconda3/envs/blockchain/lib/python3.7/site-packages/web3/contract.py:1154: UserWarning: The log with transaction hash: b'T\\xb2\\x87\\x0f\\xdcL0y\\x89\\xd6</*\\x81E\\xd8\\xd3\\xf3\\xd3\\xa0\\xb8R\\xe6\\xbf\\x8eY%\\x9e\\xec<\\xd8\\x10' and logIndex: 14 encountered the following error during processing: MismatchedABI(The event signature did not match the provided ABI). It has been discarded.\n",
      "  f\"The log with transaction hash: {log['transactionHash']} and \"\n",
      "/home/simone/.local/opt/miniconda3/envs/blockchain/lib/python3.7/site-packages/web3/contract.py:1154: UserWarning: The log with transaction hash: b'\\xae\\xf6%]\\x89,\\xac-z\\x82\\xa40\\xfad\\xa6\\x99\\x92\\xec\\xe56\\x7fC\\x1d\\xc93z\\xed\\xf4C\\x99g)' and logIndex: 1 encountered the following error during processing: MismatchedABI(The event signature did not match the provided ABI). It has been discarded.\n",
      "  f\"The log with transaction hash: {log['transactionHash']} and \"\n",
      "/home/simone/.local/opt/miniconda3/envs/blockchain/lib/python3.7/site-packages/web3/contract.py:1154: UserWarning: The log with transaction hash: b'\\xae\\xf6%]\\x89,\\xac-z\\x82\\xa40\\xfad\\xa6\\x99\\x92\\xec\\xe56\\x7fC\\x1d\\xc93z\\xed\\xf4C\\x99g)' and logIndex: 2 encountered the following error during processing: MismatchedABI(The event signature did not match the provided ABI). It has been discarded.\n",
      "  f\"The log with transaction hash: {log['transactionHash']} and \"\n",
      "/home/simone/.local/opt/miniconda3/envs/blockchain/lib/python3.7/site-packages/web3/contract.py:1154: UserWarning: The log with transaction hash: b'\\x02\\x97_\\xff\\x91\\x0fg\\x07\\x94\\x0cU}\\xa9\\x00\\xe9|dN\\x9f\\x05F=/\\x1d\\xdd4\\xdbFO\\xcf!\\xf6' and logIndex: 3 encountered the following error during processing: MismatchedABI(The event signature did not match the provided ABI). It has been discarded.\n",
      "  f\"The log with transaction hash: {log['transactionHash']} and \"\n",
      "/home/simone/.local/opt/miniconda3/envs/blockchain/lib/python3.7/site-packages/web3/contract.py:1154: UserWarning: The log with transaction hash: b'\\x02\\x97_\\xff\\x91\\x0fg\\x07\\x94\\x0cU}\\xa9\\x00\\xe9|dN\\x9f\\x05F=/\\x1d\\xdd4\\xdbFO\\xcf!\\xf6' and logIndex: 4 encountered the following error during processing: MismatchedABI(The event signature did not match the provided ABI). It has been discarded.\n",
      "  f\"The log with transaction hash: {log['transactionHash']} and \"\n",
      "/home/simone/.local/opt/miniconda3/envs/blockchain/lib/python3.7/site-packages/web3/contract.py:1154: UserWarning: The log with transaction hash: b\"\\x8d\\x84\\xa5\\xe4\\x9f\\xf9Z\\xba\\xd4\\x17\\xa2CO\\xf3\\xe6\\x8bn\\xd6\\x91$X\\\\'\\xa2<\\xfc\\xbd,iL\\xd6\\x01\" and logIndex: 5 encountered the following error during processing: MismatchedABI(The event signature did not match the provided ABI). It has been discarded.\n",
      "  f\"The log with transaction hash: {log['transactionHash']} and \"\n",
      "/home/simone/.local/opt/miniconda3/envs/blockchain/lib/python3.7/site-packages/web3/contract.py:1154: UserWarning: The log with transaction hash: b\"\\x8d\\x84\\xa5\\xe4\\x9f\\xf9Z\\xba\\xd4\\x17\\xa2CO\\xf3\\xe6\\x8bn\\xd6\\x91$X\\\\'\\xa2<\\xfc\\xbd,iL\\xd6\\x01\" and logIndex: 6 encountered the following error during processing: MismatchedABI(The event signature did not match the provided ABI). It has been discarded.\n",
      "  f\"The log with transaction hash: {log['transactionHash']} and \"\n",
      "/home/simone/.local/opt/miniconda3/envs/blockchain/lib/python3.7/site-packages/web3/contract.py:1154: UserWarning: The log with transaction hash: b'\\xd8\\xfe&\\n\\xcb\\x90\\xd4\\x1e\\x9d-\\xe7\\xf3\\x9a\\x1c\\xa8\\xa7r\\xff\\xb1\\xcbm\\x8f\\xe8\\xd1\\xb8n\\xfe\\xbcI \\x03]' and logIndex: 8 encountered the following error during processing: MismatchedABI(The event signature did not match the provided ABI). It has been discarded.\n",
      "  f\"The log with transaction hash: {log['transactionHash']} and \"\n",
      "/home/simone/.local/opt/miniconda3/envs/blockchain/lib/python3.7/site-packages/web3/contract.py:1154: UserWarning: The log with transaction hash: b'\\xd8\\xfe&\\n\\xcb\\x90\\xd4\\x1e\\x9d-\\xe7\\xf3\\x9a\\x1c\\xa8\\xa7r\\xff\\xb1\\xcbm\\x8f\\xe8\\xd1\\xb8n\\xfe\\xbcI \\x03]' and logIndex: 9 encountered the following error during processing: MismatchedABI(The event signature did not match the provided ABI). It has been discarded.\n",
      "  f\"The log with transaction hash: {log['transactionHash']} and \"\n"
     ]
    },
    {
     "name": "stderr",
     "output_type": "stream",
     "text": [
      "/home/simone/.local/opt/miniconda3/envs/blockchain/lib/python3.7/site-packages/web3/contract.py:1154: UserWarning: The log with transaction hash: b'\\xd8\\xd9\\x18h\\xa8\\x03\\xd2f\\xac\\x1c\\xcbm\\xfd\\xd71\\x15\\xa1\\x03\\t\\t\\xf4a5\\x18\\xce\\xd4\\xb2\\x8e\\xaa\\x17G`' and logIndex: 5 encountered the following error during processing: MismatchedABI(The event signature did not match the provided ABI). It has been discarded.\n",
      "  f\"The log with transaction hash: {log['transactionHash']} and \"\n",
      "/home/simone/.local/opt/miniconda3/envs/blockchain/lib/python3.7/site-packages/web3/contract.py:1154: UserWarning: The log with transaction hash: b'\\xd8\\xd9\\x18h\\xa8\\x03\\xd2f\\xac\\x1c\\xcbm\\xfd\\xd71\\x15\\xa1\\x03\\t\\t\\xf4a5\\x18\\xce\\xd4\\xb2\\x8e\\xaa\\x17G`' and logIndex: 6 encountered the following error during processing: MismatchedABI(The event signature did not match the provided ABI). It has been discarded.\n",
      "  f\"The log with transaction hash: {log['transactionHash']} and \"\n",
      "/home/simone/.local/opt/miniconda3/envs/blockchain/lib/python3.7/site-packages/web3/contract.py:1154: UserWarning: The log with transaction hash: b'\\xb2\\xd1=4\\x1b\\xeb\\xfe\\x99\\xa3\\xc8\\x0c\\x88F5T\\x80F\\x16\\xe7\\x8cx\\xd0\\xe2\\xf1,\\xc1\\xb23\\xac\\xa6\\xbd\\x83' and logIndex: 2 encountered the following error during processing: MismatchedABI(The event signature did not match the provided ABI). It has been discarded.\n",
      "  f\"The log with transaction hash: {log['transactionHash']} and \"\n",
      "/home/simone/.local/opt/miniconda3/envs/blockchain/lib/python3.7/site-packages/web3/contract.py:1154: UserWarning: The log with transaction hash: b'\\xb2\\xd1=4\\x1b\\xeb\\xfe\\x99\\xa3\\xc8\\x0c\\x88F5T\\x80F\\x16\\xe7\\x8cx\\xd0\\xe2\\xf1,\\xc1\\xb23\\xac\\xa6\\xbd\\x83' and logIndex: 3 encountered the following error during processing: MismatchedABI(The event signature did not match the provided ABI). It has been discarded.\n",
      "  f\"The log with transaction hash: {log['transactionHash']} and \"\n",
      "/home/simone/.local/opt/miniconda3/envs/blockchain/lib/python3.7/site-packages/web3/contract.py:1154: UserWarning: The log with transaction hash: b'y=\\x16\\x11\\xf4\\xdcSLY\\xc5\\x08Y/\\xd4\\xbc\\xf9\\xabD6\\x85\\xb97\\xe9\\x00\\xd70w\\x9d\\x12g(\\xb3' and logIndex: 1 encountered the following error during processing: MismatchedABI(The event signature did not match the provided ABI). It has been discarded.\n",
      "  f\"The log with transaction hash: {log['transactionHash']} and \"\n",
      "/home/simone/.local/opt/miniconda3/envs/blockchain/lib/python3.7/site-packages/web3/contract.py:1154: UserWarning: The log with transaction hash: b'y=\\x16\\x11\\xf4\\xdcSLY\\xc5\\x08Y/\\xd4\\xbc\\xf9\\xabD6\\x85\\xb97\\xe9\\x00\\xd70w\\x9d\\x12g(\\xb3' and logIndex: 2 encountered the following error during processing: MismatchedABI(The event signature did not match the provided ABI). It has been discarded.\n",
      "  f\"The log with transaction hash: {log['transactionHash']} and \"\n",
      "/home/simone/.local/opt/miniconda3/envs/blockchain/lib/python3.7/site-packages/web3/contract.py:1154: UserWarning: The log with transaction hash: b'\\xd0\\x8fX\\t\\t\\xe3\\xf73\\xc9\\xc2\\xef\\xb7\\x846\\xea\\x9dMQ ;\\x05Y\\xcf\\xa4\"g\\xabJ\\t\\xaf8\\x92' and logIndex: 1 encountered the following error during processing: MismatchedABI(The event signature did not match the provided ABI). It has been discarded.\n",
      "  f\"The log with transaction hash: {log['transactionHash']} and \"\n",
      "/home/simone/.local/opt/miniconda3/envs/blockchain/lib/python3.7/site-packages/web3/contract.py:1154: UserWarning: The log with transaction hash: b'\\xd0\\x8fX\\t\\t\\xe3\\xf73\\xc9\\xc2\\xef\\xb7\\x846\\xea\\x9dMQ ;\\x05Y\\xcf\\xa4\"g\\xabJ\\t\\xaf8\\x92' and logIndex: 2 encountered the following error during processing: MismatchedABI(The event signature did not match the provided ABI). It has been discarded.\n",
      "  f\"The log with transaction hash: {log['transactionHash']} and \"\n",
      "/home/simone/.local/opt/miniconda3/envs/blockchain/lib/python3.7/site-packages/web3/contract.py:1154: UserWarning: The log with transaction hash: b'\\xaa\\x0c^\\x91\\x1eZ: 2\\xef\\xa8\\x85\\xfa\\xae\\xe7K)\\xbe\\xa8@8\\xa7\\xae\\xbc&\\x12\\xec\\x15+}\\x8c\\xa5' and logIndex: 1 encountered the following error during processing: MismatchedABI(The event signature did not match the provided ABI). It has been discarded.\n",
      "  f\"The log with transaction hash: {log['transactionHash']} and \"\n",
      "/home/simone/.local/opt/miniconda3/envs/blockchain/lib/python3.7/site-packages/web3/contract.py:1154: UserWarning: The log with transaction hash: b'\\xaa\\x0c^\\x91\\x1eZ: 2\\xef\\xa8\\x85\\xfa\\xae\\xe7K)\\xbe\\xa8@8\\xa7\\xae\\xbc&\\x12\\xec\\x15+}\\x8c\\xa5' and logIndex: 2 encountered the following error during processing: MismatchedABI(The event signature did not match the provided ABI). It has been discarded.\n",
      "  f\"The log with transaction hash: {log['transactionHash']} and \"\n",
      "/home/simone/.local/opt/miniconda3/envs/blockchain/lib/python3.7/site-packages/web3/contract.py:1154: UserWarning: The log with transaction hash: b'\\x9b\\xd2\\xcfgw\\xc8\\x06\\x86\\xa0\\xa5\\xf6j\\xf3\\xb7\\xf4\\x90\\xb8\\xefJ`\\xf3\\xfa\\xe9S\\x1c\\x97\\x19K}(\\xb4\\xba' and logIndex: 3 encountered the following error during processing: MismatchedABI(The event signature did not match the provided ABI). It has been discarded.\n",
      "  f\"The log with transaction hash: {log['transactionHash']} and \"\n",
      "/home/simone/.local/opt/miniconda3/envs/blockchain/lib/python3.7/site-packages/web3/contract.py:1154: UserWarning: The log with transaction hash: b'\\x9b\\xd2\\xcfgw\\xc8\\x06\\x86\\xa0\\xa5\\xf6j\\xf3\\xb7\\xf4\\x90\\xb8\\xefJ`\\xf3\\xfa\\xe9S\\x1c\\x97\\x19K}(\\xb4\\xba' and logIndex: 4 encountered the following error during processing: MismatchedABI(The event signature did not match the provided ABI). It has been discarded.\n",
      "  f\"The log with transaction hash: {log['transactionHash']} and \"\n",
      "/home/simone/.local/opt/miniconda3/envs/blockchain/lib/python3.7/site-packages/web3/contract.py:1154: UserWarning: The log with transaction hash: b'\\x0e4\\x91\\xf4\\xe1\\xfefJ\\x17\\x10\\x96\\xfe/^\\x8b\\r\\xe9\\x05\\x14>vI\\xe1\\x19\\x8d\\xcf\\x94\\xbf\\xe2\\xcb\\xc1\\x19' and logIndex: 2 encountered the following error during processing: MismatchedABI(The event signature did not match the provided ABI). It has been discarded.\n",
      "  f\"The log with transaction hash: {log['transactionHash']} and \"\n",
      "/home/simone/.local/opt/miniconda3/envs/blockchain/lib/python3.7/site-packages/web3/contract.py:1154: UserWarning: The log with transaction hash: b'\\x0e4\\x91\\xf4\\xe1\\xfefJ\\x17\\x10\\x96\\xfe/^\\x8b\\r\\xe9\\x05\\x14>vI\\xe1\\x19\\x8d\\xcf\\x94\\xbf\\xe2\\xcb\\xc1\\x19' and logIndex: 3 encountered the following error during processing: MismatchedABI(The event signature did not match the provided ABI). It has been discarded.\n",
      "  f\"The log with transaction hash: {log['transactionHash']} and \"\n",
      "/home/simone/.local/opt/miniconda3/envs/blockchain/lib/python3.7/site-packages/web3/contract.py:1154: UserWarning: The log with transaction hash: b\"\\xa4\\x8cX\\t\\xe4&l\\xb2@!\\x9ee\\xeb\\xa6\\xbc\\xd3c'\\xfe\\xb7\\x8eV0\\x11]>\\x0eB\\xe9A\\xb9\\x98\" and logIndex: 1 encountered the following error during processing: MismatchedABI(The event signature did not match the provided ABI). It has been discarded.\n",
      "  f\"The log with transaction hash: {log['transactionHash']} and \"\n",
      "/home/simone/.local/opt/miniconda3/envs/blockchain/lib/python3.7/site-packages/web3/contract.py:1154: UserWarning: The log with transaction hash: b\"\\xa4\\x8cX\\t\\xe4&l\\xb2@!\\x9ee\\xeb\\xa6\\xbc\\xd3c'\\xfe\\xb7\\x8eV0\\x11]>\\x0eB\\xe9A\\xb9\\x98\" and logIndex: 2 encountered the following error during processing: MismatchedABI(The event signature did not match the provided ABI). It has been discarded.\n",
      "  f\"The log with transaction hash: {log['transactionHash']} and \"\n",
      "/home/simone/.local/opt/miniconda3/envs/blockchain/lib/python3.7/site-packages/web3/contract.py:1154: UserWarning: The log with transaction hash: b'\\xa3/[\\xd8\\xa295\\xae7Q\\x03\\xd9\\xa1\\x02\\x85\\x8e\\xf0m1\\xde\\xc4N\\x8evO{^&\"\\xbfZi' and logIndex: 10 encountered the following error during processing: MismatchedABI(The event signature did not match the provided ABI). It has been discarded.\n",
      "  f\"The log with transaction hash: {log['transactionHash']} and \"\n",
      "/home/simone/.local/opt/miniconda3/envs/blockchain/lib/python3.7/site-packages/web3/contract.py:1154: UserWarning: The log with transaction hash: b'\\xa3/[\\xd8\\xa295\\xae7Q\\x03\\xd9\\xa1\\x02\\x85\\x8e\\xf0m1\\xde\\xc4N\\x8evO{^&\"\\xbfZi' and logIndex: 11 encountered the following error during processing: MismatchedABI(The event signature did not match the provided ABI). It has been discarded.\n",
      "  f\"The log with transaction hash: {log['transactionHash']} and \"\n"
     ]
    },
    {
     "name": "stderr",
     "output_type": "stream",
     "text": [
      "/home/simone/.local/opt/miniconda3/envs/blockchain/lib/python3.7/site-packages/web3/contract.py:1154: UserWarning: The log with transaction hash: b'\\xa2jy_C\\x97\\x1c\\x19V0\\x9e\\x11o\\r$x\\xcf\\xe6]\\x18\\xb0\\xc5j\\x9cj\\xc5\\xf0\\xd6:\\xa9\\x1aP' and logIndex: 2 encountered the following error during processing: MismatchedABI(The event signature did not match the provided ABI). It has been discarded.\n",
      "  f\"The log with transaction hash: {log['transactionHash']} and \"\n",
      "/home/simone/.local/opt/miniconda3/envs/blockchain/lib/python3.7/site-packages/web3/contract.py:1154: UserWarning: The log with transaction hash: b'\\xa2jy_C\\x97\\x1c\\x19V0\\x9e\\x11o\\r$x\\xcf\\xe6]\\x18\\xb0\\xc5j\\x9cj\\xc5\\xf0\\xd6:\\xa9\\x1aP' and logIndex: 3 encountered the following error during processing: MismatchedABI(The event signature did not match the provided ABI). It has been discarded.\n",
      "  f\"The log with transaction hash: {log['transactionHash']} and \"\n",
      "/home/simone/.local/opt/miniconda3/envs/blockchain/lib/python3.7/site-packages/web3/contract.py:1154: UserWarning: The log with transaction hash: b'M\\xd3M\\xd3AJ\\xae\\xd8\\x8cr\\xfd\\xed%\\n\\xa6t\\x9f\\x85\\xd7\\xa4\\xae%-#\\x834\\x1a\\xe4\\x9dex\\xcd' and logIndex: 2 encountered the following error during processing: MismatchedABI(The event signature did not match the provided ABI). It has been discarded.\n",
      "  f\"The log with transaction hash: {log['transactionHash']} and \"\n",
      "/home/simone/.local/opt/miniconda3/envs/blockchain/lib/python3.7/site-packages/web3/contract.py:1154: UserWarning: The log with transaction hash: b'M\\xd3M\\xd3AJ\\xae\\xd8\\x8cr\\xfd\\xed%\\n\\xa6t\\x9f\\x85\\xd7\\xa4\\xae%-#\\x834\\x1a\\xe4\\x9dex\\xcd' and logIndex: 3 encountered the following error during processing: MismatchedABI(The event signature did not match the provided ABI). It has been discarded.\n",
      "  f\"The log with transaction hash: {log['transactionHash']} and \"\n",
      "/home/simone/.local/opt/miniconda3/envs/blockchain/lib/python3.7/site-packages/web3/contract.py:1154: UserWarning: The log with transaction hash: b\"\\x8f\\x90\\xd1*\\x03_}gdFM l'\\x9a$\\xcd\\xb3\\xe8J\\xb0E~\\x0e\\xce\\x9dY\\x0bC{\\x0f\\x16\" and logIndex: 14 encountered the following error during processing: MismatchedABI(The event signature did not match the provided ABI). It has been discarded.\n",
      "  f\"The log with transaction hash: {log['transactionHash']} and \"\n",
      "/home/simone/.local/opt/miniconda3/envs/blockchain/lib/python3.7/site-packages/web3/contract.py:1154: UserWarning: The log with transaction hash: b\"\\x8f\\x90\\xd1*\\x03_}gdFM l'\\x9a$\\xcd\\xb3\\xe8J\\xb0E~\\x0e\\xce\\x9dY\\x0bC{\\x0f\\x16\" and logIndex: 15 encountered the following error during processing: MismatchedABI(The event signature did not match the provided ABI). It has been discarded.\n",
      "  f\"The log with transaction hash: {log['transactionHash']} and \"\n",
      "/home/simone/.local/opt/miniconda3/envs/blockchain/lib/python3.7/site-packages/web3/contract.py:1154: UserWarning: The log with transaction hash: b'\\x0c\\r<\\x89\\x8e\\xf6\\xd0\\xe6\\x9dh\\xda\\xfc?o\\xa5.ll1\\x8c\\xe4(6\\t/RG\\xc2\\xd2\\xb2I\\xe7' and logIndex: 2 encountered the following error during processing: MismatchedABI(The event signature did not match the provided ABI). It has been discarded.\n",
      "  f\"The log with transaction hash: {log['transactionHash']} and \"\n",
      "/home/simone/.local/opt/miniconda3/envs/blockchain/lib/python3.7/site-packages/web3/contract.py:1154: UserWarning: The log with transaction hash: b'\\x0c\\r<\\x89\\x8e\\xf6\\xd0\\xe6\\x9dh\\xda\\xfc?o\\xa5.ll1\\x8c\\xe4(6\\t/RG\\xc2\\xd2\\xb2I\\xe7' and logIndex: 3 encountered the following error during processing: MismatchedABI(The event signature did not match the provided ABI). It has been discarded.\n",
      "  f\"The log with transaction hash: {log['transactionHash']} and \"\n",
      "/home/simone/.local/opt/miniconda3/envs/blockchain/lib/python3.7/site-packages/web3/contract.py:1154: UserWarning: The log with transaction hash: b\"\\xa7\\xad\\x02\\xba\\xa7t\\xc1\\xaa\\xd7\\xb8\\xc1Aa\\xb8A\\xc1\\xa4aL.y\\xbe\\nV;\\xc8f'\\x7f\\xcaT\\xf3\" and logIndex: 21 encountered the following error during processing: MismatchedABI(The event signature did not match the provided ABI). It has been discarded.\n",
      "  f\"The log with transaction hash: {log['transactionHash']} and \"\n",
      "/home/simone/.local/opt/miniconda3/envs/blockchain/lib/python3.7/site-packages/web3/contract.py:1154: UserWarning: The log with transaction hash: b\"\\xa7\\xad\\x02\\xba\\xa7t\\xc1\\xaa\\xd7\\xb8\\xc1Aa\\xb8A\\xc1\\xa4aL.y\\xbe\\nV;\\xc8f'\\x7f\\xcaT\\xf3\" and logIndex: 22 encountered the following error during processing: MismatchedABI(The event signature did not match the provided ABI). It has been discarded.\n",
      "  f\"The log with transaction hash: {log['transactionHash']} and \"\n",
      "/home/simone/.local/opt/miniconda3/envs/blockchain/lib/python3.7/site-packages/web3/contract.py:1154: UserWarning: The log with transaction hash: b'\\xee\\x04\\x8e\\xf1\\xf9\\x04ZI0\\x86\\xa4\\xe2\\xea\\xf7\\x8c+\\xb8\\x11\\xd3\\xccb*\\x07X@+\\x851Z\\x11\\xb5j' and logIndex: 7 encountered the following error during processing: MismatchedABI(The event signature did not match the provided ABI). It has been discarded.\n",
      "  f\"The log with transaction hash: {log['transactionHash']} and \"\n",
      "/home/simone/.local/opt/miniconda3/envs/blockchain/lib/python3.7/site-packages/web3/contract.py:1154: UserWarning: The log with transaction hash: b'\\xee\\x04\\x8e\\xf1\\xf9\\x04ZI0\\x86\\xa4\\xe2\\xea\\xf7\\x8c+\\xb8\\x11\\xd3\\xccb*\\x07X@+\\x851Z\\x11\\xb5j' and logIndex: 8 encountered the following error during processing: MismatchedABI(The event signature did not match the provided ABI). It has been discarded.\n",
      "  f\"The log with transaction hash: {log['transactionHash']} and \"\n",
      "/home/simone/.local/opt/miniconda3/envs/blockchain/lib/python3.7/site-packages/web3/contract.py:1154: UserWarning: The log with transaction hash: b'\\xa4\\x917\\x95;\\n4\\xbe>[\\r\\xdd\\x87\\xba\\x86_\\xef\\x0fa/\\xe7\\x92\\xbcf\\xb4\\xcb_C\\x04W-H' and logIndex: 1 encountered the following error during processing: MismatchedABI(The event signature did not match the provided ABI). It has been discarded.\n",
      "  f\"The log with transaction hash: {log['transactionHash']} and \"\n",
      "/home/simone/.local/opt/miniconda3/envs/blockchain/lib/python3.7/site-packages/web3/contract.py:1154: UserWarning: The log with transaction hash: b'\\xa4\\x917\\x95;\\n4\\xbe>[\\r\\xdd\\x87\\xba\\x86_\\xef\\x0fa/\\xe7\\x92\\xbcf\\xb4\\xcb_C\\x04W-H' and logIndex: 2 encountered the following error during processing: MismatchedABI(The event signature did not match the provided ABI). It has been discarded.\n",
      "  f\"The log with transaction hash: {log['transactionHash']} and \"\n",
      "/home/simone/.local/opt/miniconda3/envs/blockchain/lib/python3.7/site-packages/web3/contract.py:1154: UserWarning: The log with transaction hash: b\"\\xb5\\xcd\\xb4\\xe7\\x8fkz\\xce2'\\xfe\\x90:\\x0fS\\xc2\\x05\\xfc\\x1e\\xb4_\\xbcOo\\xf2|\\x92q\\x80\\xa9\\x89\\x08\" and logIndex: 13 encountered the following error during processing: MismatchedABI(The event signature did not match the provided ABI). It has been discarded.\n",
      "  f\"The log with transaction hash: {log['transactionHash']} and \"\n",
      "/home/simone/.local/opt/miniconda3/envs/blockchain/lib/python3.7/site-packages/web3/contract.py:1154: UserWarning: The log with transaction hash: b\"\\xb5\\xcd\\xb4\\xe7\\x8fkz\\xce2'\\xfe\\x90:\\x0fS\\xc2\\x05\\xfc\\x1e\\xb4_\\xbcOo\\xf2|\\x92q\\x80\\xa9\\x89\\x08\" and logIndex: 14 encountered the following error during processing: MismatchedABI(The event signature did not match the provided ABI). It has been discarded.\n",
      "  f\"The log with transaction hash: {log['transactionHash']} and \"\n",
      "/home/simone/.local/opt/miniconda3/envs/blockchain/lib/python3.7/site-packages/web3/contract.py:1154: UserWarning: The log with transaction hash: b'\\xc7\\xdc\\xf5\\xf6\\xabC\\\\\\x7fj\\xb4L{D\\x94\\x86\\x18\\x83\\xbb\\x90%c\\xecl0\\xe9\\xd8\\xfda\\x92[\\x7f\\xde' and logIndex: 7 encountered the following error during processing: MismatchedABI(The event signature did not match the provided ABI). It has been discarded.\n",
      "  f\"The log with transaction hash: {log['transactionHash']} and \"\n",
      "/home/simone/.local/opt/miniconda3/envs/blockchain/lib/python3.7/site-packages/web3/contract.py:1154: UserWarning: The log with transaction hash: b'\\xc7\\xdc\\xf5\\xf6\\xabC\\\\\\x7fj\\xb4L{D\\x94\\x86\\x18\\x83\\xbb\\x90%c\\xecl0\\xe9\\xd8\\xfda\\x92[\\x7f\\xde' and logIndex: 8 encountered the following error during processing: MismatchedABI(The event signature did not match the provided ABI). It has been discarded.\n",
      "  f\"The log with transaction hash: {log['transactionHash']} and \"\n"
     ]
    },
    {
     "name": "stderr",
     "output_type": "stream",
     "text": [
      "/home/simone/.local/opt/miniconda3/envs/blockchain/lib/python3.7/site-packages/web3/contract.py:1154: UserWarning: The log with transaction hash: b'\\xba\\x8ey\\xb8P\\xb0\\xc76\\xa9.D\\xe7\\x89\\nh@\\x1f\\x9f\\xd4\\xc2^\\xf9B\\xef\\xacK\\nl\\xd5 (\\x9e' and logIndex: 37 encountered the following error during processing: MismatchedABI(The event signature did not match the provided ABI). It has been discarded.\n",
      "  f\"The log with transaction hash: {log['transactionHash']} and \"\n",
      "/home/simone/.local/opt/miniconda3/envs/blockchain/lib/python3.7/site-packages/web3/contract.py:1154: UserWarning: The log with transaction hash: b'\\xba\\x8ey\\xb8P\\xb0\\xc76\\xa9.D\\xe7\\x89\\nh@\\x1f\\x9f\\xd4\\xc2^\\xf9B\\xef\\xacK\\nl\\xd5 (\\x9e' and logIndex: 38 encountered the following error during processing: MismatchedABI(The event signature did not match the provided ABI). It has been discarded.\n",
      "  f\"The log with transaction hash: {log['transactionHash']} and \"\n",
      "/home/simone/.local/opt/miniconda3/envs/blockchain/lib/python3.7/site-packages/web3/contract.py:1154: UserWarning: The log with transaction hash: b'\\xef\\xd9\\x9f\\x88=\\n=i7\\xc6c\\xcaF$,\\xca\\xf1\\t*\\r\\x11\\x81\\xd3\\x1c%\\x0c\\xa5\\xc4\\xdeZ\\xbc\\xfd' and logIndex: 4 encountered the following error during processing: MismatchedABI(The event signature did not match the provided ABI). It has been discarded.\n",
      "  f\"The log with transaction hash: {log['transactionHash']} and \"\n",
      "/home/simone/.local/opt/miniconda3/envs/blockchain/lib/python3.7/site-packages/web3/contract.py:1154: UserWarning: The log with transaction hash: b'\\xef\\xd9\\x9f\\x88=\\n=i7\\xc6c\\xcaF$,\\xca\\xf1\\t*\\r\\x11\\x81\\xd3\\x1c%\\x0c\\xa5\\xc4\\xdeZ\\xbc\\xfd' and logIndex: 5 encountered the following error during processing: MismatchedABI(The event signature did not match the provided ABI). It has been discarded.\n",
      "  f\"The log with transaction hash: {log['transactionHash']} and \"\n",
      "/home/simone/.local/opt/miniconda3/envs/blockchain/lib/python3.7/site-packages/web3/contract.py:1154: UserWarning: The log with transaction hash: b'\\xc4\\xf3\\xda\\x03y0\\x96j\\x83\\x0f<\\xe9\\xd6@\\\\Vi\\x1fX\\x0c>t\\xa3\\x9eK#\\x9bGS\\xc5\\xa8\\x1e' and logIndex: 4 encountered the following error during processing: MismatchedABI(The event signature did not match the provided ABI). It has been discarded.\n",
      "  f\"The log with transaction hash: {log['transactionHash']} and \"\n",
      "/home/simone/.local/opt/miniconda3/envs/blockchain/lib/python3.7/site-packages/web3/contract.py:1154: UserWarning: The log with transaction hash: b'\\xc4\\xf3\\xda\\x03y0\\x96j\\x83\\x0f<\\xe9\\xd6@\\\\Vi\\x1fX\\x0c>t\\xa3\\x9eK#\\x9bGS\\xc5\\xa8\\x1e' and logIndex: 5 encountered the following error during processing: MismatchedABI(The event signature did not match the provided ABI). It has been discarded.\n",
      "  f\"The log with transaction hash: {log['transactionHash']} and \"\n",
      "/home/simone/.local/opt/miniconda3/envs/blockchain/lib/python3.7/site-packages/web3/contract.py:1154: UserWarning: The log with transaction hash: b'\\xf6\\xde\\xf1{\\x8c\\x14\\xe7\\x94|\\x04\\x86\\xa7Wr\\xfa\\xec\\x8b\\xcf\\x1cU\\xaaH\\\\\\xac\\xe9>\\x8a\\xef\\xec\\x1a\\xc1D' and logIndex: 49 encountered the following error during processing: MismatchedABI(The event signature did not match the provided ABI). It has been discarded.\n",
      "  f\"The log with transaction hash: {log['transactionHash']} and \"\n",
      "/home/simone/.local/opt/miniconda3/envs/blockchain/lib/python3.7/site-packages/web3/contract.py:1154: UserWarning: The log with transaction hash: b'\\xf6\\xde\\xf1{\\x8c\\x14\\xe7\\x94|\\x04\\x86\\xa7Wr\\xfa\\xec\\x8b\\xcf\\x1cU\\xaaH\\\\\\xac\\xe9>\\x8a\\xef\\xec\\x1a\\xc1D' and logIndex: 50 encountered the following error during processing: MismatchedABI(The event signature did not match the provided ABI). It has been discarded.\n",
      "  f\"The log with transaction hash: {log['transactionHash']} and \"\n",
      "/home/simone/.local/opt/miniconda3/envs/blockchain/lib/python3.7/site-packages/web3/contract.py:1154: UserWarning: The log with transaction hash: b'<\\x92%Y\\xf3Tk~\\xd6\\xf2\\x82\\xc3\\xe88\\r\\x97\\xbe^W\\x92)P\\xa5V\\xa6=\\xa0\\x14\\x84\\x1f-o' and logIndex: 5 encountered the following error during processing: MismatchedABI(The event signature did not match the provided ABI). It has been discarded.\n",
      "  f\"The log with transaction hash: {log['transactionHash']} and \"\n",
      "/home/simone/.local/opt/miniconda3/envs/blockchain/lib/python3.7/site-packages/web3/contract.py:1154: UserWarning: The log with transaction hash: b'<\\x92%Y\\xf3Tk~\\xd6\\xf2\\x82\\xc3\\xe88\\r\\x97\\xbe^W\\x92)P\\xa5V\\xa6=\\xa0\\x14\\x84\\x1f-o' and logIndex: 6 encountered the following error during processing: MismatchedABI(The event signature did not match the provided ABI). It has been discarded.\n",
      "  f\"The log with transaction hash: {log['transactionHash']} and \"\n",
      "/home/simone/.local/opt/miniconda3/envs/blockchain/lib/python3.7/site-packages/web3/contract.py:1154: UserWarning: The log with transaction hash: b'\\xdf*f\\xea\\xcek\\x80\\xca\\x1fl\\xd3\\xf8\\xb4\\xb2c\\xc1\\x16lT\\xd2\\x03\\xcb\\x80\\xca\\xd3\\xf2\\xf4\\x7f\\xf7\\x8d3=' and logIndex: 1 encountered the following error during processing: MismatchedABI(The event signature did not match the provided ABI). It has been discarded.\n",
      "  f\"The log with transaction hash: {log['transactionHash']} and \"\n",
      "/home/simone/.local/opt/miniconda3/envs/blockchain/lib/python3.7/site-packages/web3/contract.py:1154: UserWarning: The log with transaction hash: b'\\xdf*f\\xea\\xcek\\x80\\xca\\x1fl\\xd3\\xf8\\xb4\\xb2c\\xc1\\x16lT\\xd2\\x03\\xcb\\x80\\xca\\xd3\\xf2\\xf4\\x7f\\xf7\\x8d3=' and logIndex: 2 encountered the following error during processing: MismatchedABI(The event signature did not match the provided ABI). It has been discarded.\n",
      "  f\"The log with transaction hash: {log['transactionHash']} and \"\n",
      "/home/simone/.local/opt/miniconda3/envs/blockchain/lib/python3.7/site-packages/web3/contract.py:1154: UserWarning: The log with transaction hash: b'o+\\'\\x1c\\xd9\\x93\\xa7\\x00\\x02\\x04.&Q\\xdcP\\xa5\\xb4\\xc2J\\xda\\xbb\\xc4b\\xc2J\\xeb8.\\xad\\x8a\\x81\"' and logIndex: 2 encountered the following error during processing: MismatchedABI(The event signature did not match the provided ABI). It has been discarded.\n",
      "  f\"The log with transaction hash: {log['transactionHash']} and \"\n",
      "/home/simone/.local/opt/miniconda3/envs/blockchain/lib/python3.7/site-packages/web3/contract.py:1154: UserWarning: The log with transaction hash: b'o+\\'\\x1c\\xd9\\x93\\xa7\\x00\\x02\\x04.&Q\\xdcP\\xa5\\xb4\\xc2J\\xda\\xbb\\xc4b\\xc2J\\xeb8.\\xad\\x8a\\x81\"' and logIndex: 3 encountered the following error during processing: MismatchedABI(The event signature did not match the provided ABI). It has been discarded.\n",
      "  f\"The log with transaction hash: {log['transactionHash']} and \"\n",
      "/home/simone/.local/opt/miniconda3/envs/blockchain/lib/python3.7/site-packages/web3/contract.py:1154: UserWarning: The log with transaction hash: b'\\x0e\\x95>\\x8eO6>j\\x03\\x0fi\\xba\\xc6\\x14\\xc4\\xf1\\xc5\\xa7!\\x83\\xff\\xd8\\xf4\\xa0\\xa7\\xb8.\\x8ad\\x94\\xc53' and logIndex: 4 encountered the following error during processing: MismatchedABI(The event signature did not match the provided ABI). It has been discarded.\n",
      "  f\"The log with transaction hash: {log['transactionHash']} and \"\n",
      "/home/simone/.local/opt/miniconda3/envs/blockchain/lib/python3.7/site-packages/web3/contract.py:1154: UserWarning: The log with transaction hash: b'\\x0e\\x95>\\x8eO6>j\\x03\\x0fi\\xba\\xc6\\x14\\xc4\\xf1\\xc5\\xa7!\\x83\\xff\\xd8\\xf4\\xa0\\xa7\\xb8.\\x8ad\\x94\\xc53' and logIndex: 5 encountered the following error during processing: MismatchedABI(The event signature did not match the provided ABI). It has been discarded.\n",
      "  f\"The log with transaction hash: {log['transactionHash']} and \"\n",
      "/home/simone/.local/opt/miniconda3/envs/blockchain/lib/python3.7/site-packages/web3/contract.py:1154: UserWarning: The log with transaction hash: b'\\xe8D\\x13i\\x8cb\\xb48\\xd9\\x83\\x15\\x17\\x18l\\x18\\x05;b\\x83\\xa1\\x89C$\\xf0\\xd2\\x9bx$\\xc2\\x97~\\xfc' and logIndex: 3 encountered the following error during processing: MismatchedABI(The event signature did not match the provided ABI). It has been discarded.\n",
      "  f\"The log with transaction hash: {log['transactionHash']} and \"\n",
      "/home/simone/.local/opt/miniconda3/envs/blockchain/lib/python3.7/site-packages/web3/contract.py:1154: UserWarning: The log with transaction hash: b'\\xe8D\\x13i\\x8cb\\xb48\\xd9\\x83\\x15\\x17\\x18l\\x18\\x05;b\\x83\\xa1\\x89C$\\xf0\\xd2\\x9bx$\\xc2\\x97~\\xfc' and logIndex: 4 encountered the following error during processing: MismatchedABI(The event signature did not match the provided ABI). It has been discarded.\n",
      "  f\"The log with transaction hash: {log['transactionHash']} and \"\n"
     ]
    },
    {
     "name": "stderr",
     "output_type": "stream",
     "text": [
      "/home/simone/.local/opt/miniconda3/envs/blockchain/lib/python3.7/site-packages/web3/contract.py:1154: UserWarning: The log with transaction hash: b'w\\x17=\\xb1\\x17 \\xf7Y?\\xdc\\x01{3\\xc9q\\x88\\x9a\\x9a\\xed\\xf7\\x84\\xf7Oww0Fh%\\xca\\x9f]' and logIndex: 17 encountered the following error during processing: MismatchedABI(The event signature did not match the provided ABI). It has been discarded.\n",
      "  f\"The log with transaction hash: {log['transactionHash']} and \"\n",
      "/home/simone/.local/opt/miniconda3/envs/blockchain/lib/python3.7/site-packages/web3/contract.py:1154: UserWarning: The log with transaction hash: b'w\\x17=\\xb1\\x17 \\xf7Y?\\xdc\\x01{3\\xc9q\\x88\\x9a\\x9a\\xed\\xf7\\x84\\xf7Oww0Fh%\\xca\\x9f]' and logIndex: 18 encountered the following error during processing: MismatchedABI(The event signature did not match the provided ABI). It has been discarded.\n",
      "  f\"The log with transaction hash: {log['transactionHash']} and \"\n",
      "/home/simone/.local/opt/miniconda3/envs/blockchain/lib/python3.7/site-packages/web3/contract.py:1154: UserWarning: The log with transaction hash: b'\\xb6gr\\xba\\xa9\\xe5\\xber:\\x8f\\x8ck\\xd5\\xa7M\\xd7\\xb8bM\\xbe\\x95\\xf5\\xc7\\x13\\x91\\xb5?\\xe18\\xa1I1' and logIndex: 1 encountered the following error during processing: MismatchedABI(The event signature did not match the provided ABI). It has been discarded.\n",
      "  f\"The log with transaction hash: {log['transactionHash']} and \"\n",
      "/home/simone/.local/opt/miniconda3/envs/blockchain/lib/python3.7/site-packages/web3/contract.py:1154: UserWarning: The log with transaction hash: b'\\xb6gr\\xba\\xa9\\xe5\\xber:\\x8f\\x8ck\\xd5\\xa7M\\xd7\\xb8bM\\xbe\\x95\\xf5\\xc7\\x13\\x91\\xb5?\\xe18\\xa1I1' and logIndex: 2 encountered the following error during processing: MismatchedABI(The event signature did not match the provided ABI). It has been discarded.\n",
      "  f\"The log with transaction hash: {log['transactionHash']} and \"\n",
      "/home/simone/.local/opt/miniconda3/envs/blockchain/lib/python3.7/site-packages/web3/contract.py:1154: UserWarning: The log with transaction hash: b'B\\xc0A4\\x1f\\xea+z]\\xd4\\xa56\\r\\x1f@\\x92k\\x15?T+|?\\x89\\xe2\\x94b\\xe1)\\xe8\\xb8\\xdf' and logIndex: 1 encountered the following error during processing: MismatchedABI(The event signature did not match the provided ABI). It has been discarded.\n",
      "  f\"The log with transaction hash: {log['transactionHash']} and \"\n",
      "/home/simone/.local/opt/miniconda3/envs/blockchain/lib/python3.7/site-packages/web3/contract.py:1154: UserWarning: The log with transaction hash: b'B\\xc0A4\\x1f\\xea+z]\\xd4\\xa56\\r\\x1f@\\x92k\\x15?T+|?\\x89\\xe2\\x94b\\xe1)\\xe8\\xb8\\xdf' and logIndex: 2 encountered the following error during processing: MismatchedABI(The event signature did not match the provided ABI). It has been discarded.\n",
      "  f\"The log with transaction hash: {log['transactionHash']} and \"\n",
      "/home/simone/.local/opt/miniconda3/envs/blockchain/lib/python3.7/site-packages/web3/contract.py:1154: UserWarning: The log with transaction hash: b'\\x86S:\\x9e\\x1f\\x9e\\x98\\xb1G\\x15v\\xec\\xdek\\x1d\\x13\\xdb\\xed\\x86>\"\\xb2\\x9b\\x1dMZ\\xb0\\x11\\xa3e\\xe5s' and logIndex: 26 encountered the following error during processing: MismatchedABI(The event signature did not match the provided ABI). It has been discarded.\n",
      "  f\"The log with transaction hash: {log['transactionHash']} and \"\n",
      "/home/simone/.local/opt/miniconda3/envs/blockchain/lib/python3.7/site-packages/web3/contract.py:1154: UserWarning: The log with transaction hash: b'\\x86S:\\x9e\\x1f\\x9e\\x98\\xb1G\\x15v\\xec\\xdek\\x1d\\x13\\xdb\\xed\\x86>\"\\xb2\\x9b\\x1dMZ\\xb0\\x11\\xa3e\\xe5s' and logIndex: 27 encountered the following error during processing: MismatchedABI(The event signature did not match the provided ABI). It has been discarded.\n",
      "  f\"The log with transaction hash: {log['transactionHash']} and \"\n",
      "/home/simone/.local/opt/miniconda3/envs/blockchain/lib/python3.7/site-packages/web3/contract.py:1154: UserWarning: The log with transaction hash: b'\\xd8~:|\\x87Me{\\xd01\\xf9\\xfb\\xeb3\\xa4\\xe9\\x04\\x1e\\x8c\\xef\\xa6\\x05:\\xf2\\xa1\\xd8\\x8dh\\xb1Q\\xbf6' and logIndex: 47 encountered the following error during processing: MismatchedABI(The event signature did not match the provided ABI). It has been discarded.\n",
      "  f\"The log with transaction hash: {log['transactionHash']} and \"\n",
      "/home/simone/.local/opt/miniconda3/envs/blockchain/lib/python3.7/site-packages/web3/contract.py:1154: UserWarning: The log with transaction hash: b'\\xd8~:|\\x87Me{\\xd01\\xf9\\xfb\\xeb3\\xa4\\xe9\\x04\\x1e\\x8c\\xef\\xa6\\x05:\\xf2\\xa1\\xd8\\x8dh\\xb1Q\\xbf6' and logIndex: 48 encountered the following error during processing: MismatchedABI(The event signature did not match the provided ABI). It has been discarded.\n",
      "  f\"The log with transaction hash: {log['transactionHash']} and \"\n",
      "/home/simone/.local/opt/miniconda3/envs/blockchain/lib/python3.7/site-packages/web3/contract.py:1154: UserWarning: The log with transaction hash: b'\\xdf\\x9ac1\\xd2\"^6\\xce\\x04\\xd0|\\xac\\x15\\xc3V\\'[\\xe8r\\x0ch\\x1f+\\x83\\x0f6\\xf1\\x86\\x9c\\xbe\\xfb' and logIndex: 19 encountered the following error during processing: MismatchedABI(The event signature did not match the provided ABI). It has been discarded.\n",
      "  f\"The log with transaction hash: {log['transactionHash']} and \"\n",
      "/home/simone/.local/opt/miniconda3/envs/blockchain/lib/python3.7/site-packages/web3/contract.py:1154: UserWarning: The log with transaction hash: b'\\xdf\\x9ac1\\xd2\"^6\\xce\\x04\\xd0|\\xac\\x15\\xc3V\\'[\\xe8r\\x0ch\\x1f+\\x83\\x0f6\\xf1\\x86\\x9c\\xbe\\xfb' and logIndex: 20 encountered the following error during processing: MismatchedABI(The event signature did not match the provided ABI). It has been discarded.\n",
      "  f\"The log with transaction hash: {log['transactionHash']} and \"\n",
      "/home/simone/.local/opt/miniconda3/envs/blockchain/lib/python3.7/site-packages/web3/contract.py:1154: UserWarning: The log with transaction hash: b'\\xcb\\t\\xab\\x81\\x98\\x95F\\x83$BS0\\xf5J\\xael\\xeeA|I\\xfb\\x168G\\x8c\\xcf\\x1e\\xe9T\\xf4\\xdd=' and logIndex: 3 encountered the following error during processing: MismatchedABI(The event signature did not match the provided ABI). It has been discarded.\n",
      "  f\"The log with transaction hash: {log['transactionHash']} and \"\n",
      "/home/simone/.local/opt/miniconda3/envs/blockchain/lib/python3.7/site-packages/web3/contract.py:1154: UserWarning: The log with transaction hash: b'\\xcb\\t\\xab\\x81\\x98\\x95F\\x83$BS0\\xf5J\\xael\\xeeA|I\\xfb\\x168G\\x8c\\xcf\\x1e\\xe9T\\xf4\\xdd=' and logIndex: 4 encountered the following error during processing: MismatchedABI(The event signature did not match the provided ABI). It has been discarded.\n",
      "  f\"The log with transaction hash: {log['transactionHash']} and \"\n",
      "/home/simone/.local/opt/miniconda3/envs/blockchain/lib/python3.7/site-packages/web3/contract.py:1154: UserWarning: The log with transaction hash: b'/\\xfa\\xd5B\\xd0\\xfa\\xa3p\\xa8F\\x9e\\xaf\\xba\\xfe\\xee\\x03\\xe5[\\xe11fH\\x07\\xfaB\\xe2\\xdb\\xd3|\\xa3\\xb3\\xfb' and logIndex: 9 encountered the following error during processing: MismatchedABI(The event signature did not match the provided ABI). It has been discarded.\n",
      "  f\"The log with transaction hash: {log['transactionHash']} and \"\n",
      "/home/simone/.local/opt/miniconda3/envs/blockchain/lib/python3.7/site-packages/web3/contract.py:1154: UserWarning: The log with transaction hash: b'/\\xfa\\xd5B\\xd0\\xfa\\xa3p\\xa8F\\x9e\\xaf\\xba\\xfe\\xee\\x03\\xe5[\\xe11fH\\x07\\xfaB\\xe2\\xdb\\xd3|\\xa3\\xb3\\xfb' and logIndex: 10 encountered the following error during processing: MismatchedABI(The event signature did not match the provided ABI). It has been discarded.\n",
      "  f\"The log with transaction hash: {log['transactionHash']} and \"\n",
      "/home/simone/.local/opt/miniconda3/envs/blockchain/lib/python3.7/site-packages/web3/contract.py:1154: UserWarning: The log with transaction hash: b'\\x14\\x99\\x8dZ4\\xca@\\xa2%S\\x04\\xf9\\xd0\\xb1\\xb9[\\xcb\\xef\\xbb\\xa7\\x96\\xe8\\xc6\\xc3\\n$K\\xeb\\x89.\\xcb\\x8a' and logIndex: 8 encountered the following error during processing: MismatchedABI(The event signature did not match the provided ABI). It has been discarded.\n",
      "  f\"The log with transaction hash: {log['transactionHash']} and \"\n",
      "/home/simone/.local/opt/miniconda3/envs/blockchain/lib/python3.7/site-packages/web3/contract.py:1154: UserWarning: The log with transaction hash: b'\\x14\\x99\\x8dZ4\\xca@\\xa2%S\\x04\\xf9\\xd0\\xb1\\xb9[\\xcb\\xef\\xbb\\xa7\\x96\\xe8\\xc6\\xc3\\n$K\\xeb\\x89.\\xcb\\x8a' and logIndex: 9 encountered the following error during processing: MismatchedABI(The event signature did not match the provided ABI). It has been discarded.\n",
      "  f\"The log with transaction hash: {log['transactionHash']} and \"\n"
     ]
    }
   ],
   "source": [
    "teamStart_FSS_logs = [] \n",
    "for event_data in all_teamStart_FSS: \n",
    "        #print(event_data)\n",
    "        tx_hash = event_data['transactionHash'].hex()\n",
    "        receipt = web3.eth.getTransactionReceipt(tx_hash)\n",
    "        #events = ['Buy', 'Sell']\n",
    "        teamStart_FSS_logs.append(web3_challenge_FSS.events.TeamChallenge().processReceipt(receipt))"
   ]
  },
  {
   "cell_type": "code",
   "execution_count": 56,
   "metadata": {},
   "outputs": [],
   "source": [
    "FSS_teamStart_FSS = []\n",
    "for i in range(0, len(teamStart_FSS_logs)): \n",
    "    if(teamStart_FSS_logs[i][0]['args']['challenger'] == '0x27C404d4D91156F7063E8dB9cC10970cfffF9a6C'): \n",
    "        FSS_teamStart_FSS.append(teamStart_FSS_logs[i][0])"
   ]
  },
  {
   "cell_type": "code",
   "execution_count": 57,
   "metadata": {
    "scrolled": true
   },
   "outputs": [
    {
     "name": "stdout",
     "output_type": "stream",
     "text": [
      "0 1593019247 2020-06-24 19:20:47\n",
      "1 1593052821 2020-06-25 04:40:21\n",
      "2 1593109463 2020-06-25 20:24:23\n",
      "3 1593122744 2020-06-26 00:05:44\n",
      "4 1593160009 2020-06-26 10:26:49\n",
      "5 1593182591 2020-06-26 16:43:11\n",
      "6 1593192186 2020-06-26 19:23:06\n",
      "7 1593215035 2020-06-27 01:43:55\n",
      "8 1593241124 2020-06-27 08:58:44\n",
      "9 1593243125 2020-06-27 09:32:05\n",
      "10 1593245317 2020-06-27 10:08:37\n",
      "11 1593245934 2020-06-27 10:18:54\n",
      "12 1593247498 2020-06-27 10:44:58\n",
      "13 1593275896 2020-06-27 18:38:16\n",
      "14 1593293774 2020-06-27 23:36:14\n",
      "15 1593310868 2020-06-28 04:21:08\n",
      "16 1593368773 2020-06-28 20:26:13\n",
      "17 1593374745 2020-06-28 22:05:45\n",
      "18 1593376211 2020-06-28 22:30:11\n",
      "19 1593380435 2020-06-28 23:40:35\n",
      "20 1593388779 2020-06-29 01:59:39\n",
      "21 1593398173 2020-06-29 04:36:13\n",
      "22 1593403716 2020-06-29 06:08:36\n",
      "23 1593411086 2020-06-29 08:11:26\n",
      "24 1593467193 2020-06-29 23:46:33\n",
      "25 1593472283 2020-06-30 01:11:23\n",
      "26 1593475766 2020-06-30 02:09:26\n",
      "27 1593478220 2020-06-30 02:50:20\n",
      "28 1593480811 2020-06-30 03:33:31\n",
      "29 1593482961 2020-06-30 04:09:21\n",
      "30 1593484874 2020-06-30 04:41:14\n",
      "31 1593487282 2020-06-30 05:21:22\n",
      "32 1593489514 2020-06-30 05:58:34\n",
      "33 1593492056 2020-06-30 06:40:56\n",
      "34 1593494515 2020-06-30 07:21:55\n",
      "35 1593497077 2020-06-30 08:04:37\n",
      "36 1593501381 2020-06-30 09:16:21\n",
      "37 1593503681 2020-06-30 09:54:41\n",
      "38 1593506393 2020-06-30 10:39:53\n",
      "39 1593508489 2020-06-30 11:14:49\n",
      "40 1593510155 2020-06-30 11:42:35\n",
      "41 1593515372 2020-06-30 13:09:32\n",
      "42 1593520918 2020-06-30 14:41:58\n",
      "43 1593525861 2020-06-30 16:04:21\n",
      "44 1593533070 2020-06-30 18:04:30\n",
      "45 1593539323 2020-06-30 19:48:43\n"
     ]
    }
   ],
   "source": [
    "for i in range(0, len(FSS_teamStart_FSS)): \n",
    "    blkNumb = FSS_teamStart_FSS[i]['blockNumber']\n",
    "    timestamp = web3.eth.getBlock(blkNumb)['timestamp']\n",
    "    date = datetime.datetime.fromtimestamp(timestamp)\n",
    "    print(i, timestamp, date)"
   ]
  },
  {
   "cell_type": "code",
   "execution_count": null,
   "metadata": {},
   "outputs": [],
   "source": []
  }
 ],
 "metadata": {
  "kernelspec": {
   "display_name": "Python 3",
   "language": "python",
   "name": "python3"
  },
  "language_info": {
   "codemirror_mode": {
    "name": "ipython",
    "version": 3
   },
   "file_extension": ".py",
   "mimetype": "text/x-python",
   "name": "python",
   "nbconvert_exporter": "python",
   "pygments_lexer": "ipython3",
   "version": "3.7.7"
  }
 },
 "nbformat": 4,
 "nbformat_minor": 4
}
