{
 "cells": [
  {
   "cell_type": "code",
   "execution_count": 1,
   "metadata": {},
   "outputs": [],
   "source": [
    "from brownie import web3, network, Wei, Contract, project\n",
    "from brownie.network.account import LocalAccount\n",
    "import json"
   ]
  },
  {
   "cell_type": "code",
   "execution_count": 2,
   "metadata": {},
   "outputs": [],
   "source": [
    "network_selected = \"ropsten\"\n",
    "network.connect(network_selected)\n",
    "\n",
    "# Loading the metamask accounts\n",
    "## Trading account\n",
    "fss_trading_private_key = \"faba88e53b6fac655f7e0b5cb900e0bc045e787eb850fdf17f458f0fb8607bde\"\n",
    "fss_trading_account = web3.eth.account.from_key(private_key=fss_trading_private_key)\n",
    "local_account_trading = LocalAccount(fss_trading_account.address, fss_trading_account, fss_trading_account.privateKey)\n",
    "## Admin account\n",
    "fss_admin_private_key = \"ede4dd8a3584fd7809a5e0bb299ff8f51983af5b1a9f1f506165b5c1f09e22b1\"\n",
    "fss_admin_account = web3.eth.account.from_key(private_key=fss_admin_private_key)\n",
    "local_account_admin = LocalAccount(fss_admin_account.address, fss_admin_account, fss_admin_account.privateKey)"
   ]
  },
  {
   "cell_type": "code",
   "execution_count": 3,
   "metadata": {},
   "outputs": [],
   "source": [
    "with open('../../blockchain_course_unimi/challenge/teamCST/abi/Exchange.json') as json_file: \n",
    "    exchange_CST_abi = json.load(json_file)\n",
    "exchange_CST = Contract.from_abi('ExchangeCST', address='0xf6595CF80173Edf534469B15170370AbFF3FDdAb', abi=exchange_CST_abi)\n",
    "web3_exchange_CST = web3.eth.contract(abi=exchange_CST_abi, address='0xf6595CF80173Edf534469B15170370AbFF3FDdAb')\n",
    "\n",
    "with open('../../blockchain_course_unimi/challenge/teamAA/abi/real/exchange.json') as json_file: \n",
    "    exchange_AA_abi = json.load(json_file)\n",
    "exchange_AA = Contract.from_abi('ExchangeAA', address='0xA4b9d6A91867EAB4dDa837344a34b524F3cCB678', abi=exchange_AA_abi)\n",
    "web3_exchange_AA = web3.eth.contract(abi=exchange_AA_abi, address='0xA4b9d6A91867EAB4dDa837344a34b524F3cCB678')\n",
    "\n",
    "with open('../pyscripts/abi/token_exchange.json') as json_file: \n",
    "    exchange_FSS_abi = json.load(json_file)\n",
    "exchange_FSS = Contract.from_abi('ExchangeFSS', address=\"0x99d07b3fA4C2046a43e3911AC5a5bC3B0115b110\", abi= exchange_FSS_abi)\n",
    "web3_exchange_FSS = web3.eth.contract(abi=exchange_FSS_abi, address='0x99d07b3fA4C2046a43e3911AC5a5bC3B0115b110')"
   ]
  },
  {
   "cell_type": "code",
   "execution_count": 4,
   "metadata": {},
   "outputs": [],
   "source": [
    "buy_sign = web3.keccak(text=\"Buy(address,uint256,uint256)\").hex()\n",
    "sell_sign = web3.keccak(text=\"Sell(address,uint256,uint256)\").hex()"
   ]
  },
  {
   "cell_type": "code",
   "execution_count": 5,
   "metadata": {
    "scrolled": true
   },
   "outputs": [],
   "source": [
    "all_buys_CST = web3.eth.getLogs({'fromBlock': 0, 'toBlock': 'latest', 'address': exchange_CST.address, 'topics': [buy_sign]})\n",
    "all_sell_CST = web3.eth.getLogs({'fromBlock': 0, 'toBlock': 'latest', 'address': exchange_CST.address, 'topics': [sell_sign]})"
   ]
  },
  {
   "cell_type": "code",
   "execution_count": 6,
   "metadata": {
    "collapsed": true
   },
   "outputs": [
    {
     "name": "stderr",
     "output_type": "stream",
     "text": [
      "/home/simone/.local/opt/miniconda3/envs/blockchain/lib/python3.7/site-packages/web3/contract.py:1154: UserWarning: The log with transaction hash: b\"\\xd6\\xc4\\xc8\\xce\\xa6\\x9f@!/y`\\xc1\\xc1\\xe8'\\xad?\\xec\\xa8~\\xbeH\\xae\\xd7\\xdd_cs\\xb8\\xa0\\xb8e\" and logIndex: 1 encountered the following error during processing: MismatchedABI(The event signature did not match the provided ABI). It has been discarded.\n",
      "  f\"The log with transaction hash: {log['transactionHash']} and \"\n",
      "/home/simone/.local/opt/miniconda3/envs/blockchain/lib/python3.7/site-packages/web3/contract.py:1154: UserWarning: The log with transaction hash: b\"\\xd6\\xc4\\xc8\\xce\\xa6\\x9f@!/y`\\xc1\\xc1\\xe8'\\xad?\\xec\\xa8~\\xbeH\\xae\\xd7\\xdd_cs\\xb8\\xa0\\xb8e\" and logIndex: 2 encountered the following error during processing: MismatchedABI(The event signature did not match the provided ABI). It has been discarded.\n",
      "  f\"The log with transaction hash: {log['transactionHash']} and \"\n",
      "/home/simone/.local/opt/miniconda3/envs/blockchain/lib/python3.7/site-packages/web3/contract.py:1154: UserWarning: The log with transaction hash: b\"\\xd6\\xc4\\xc8\\xce\\xa6\\x9f@!/y`\\xc1\\xc1\\xe8'\\xad?\\xec\\xa8~\\xbeH\\xae\\xd7\\xdd_cs\\xb8\\xa0\\xb8e\" and logIndex: 3 encountered the following error during processing: MismatchedABI(The event signature did not match the provided ABI). It has been discarded.\n",
      "  f\"The log with transaction hash: {log['transactionHash']} and \"\n",
      "/home/simone/.local/opt/miniconda3/envs/blockchain/lib/python3.7/site-packages/web3/contract.py:1154: UserWarning: The log with transaction hash: b'rB3\\xc9\\xfd\\xb9\\xa3\\x93\\xfbS\\x01\\xf3\\xb4*\\x1f\\xf1\\xed\\x9c\\x04\\xf7+TP\\xa3\\xba\\xa1\\xeaC\\xcf\\x83\\xfcj' and logIndex: 6 encountered the following error during processing: MismatchedABI(The event signature did not match the provided ABI). It has been discarded.\n",
      "  f\"The log with transaction hash: {log['transactionHash']} and \"\n",
      "/home/simone/.local/opt/miniconda3/envs/blockchain/lib/python3.7/site-packages/web3/contract.py:1154: UserWarning: The log with transaction hash: b'rB3\\xc9\\xfd\\xb9\\xa3\\x93\\xfbS\\x01\\xf3\\xb4*\\x1f\\xf1\\xed\\x9c\\x04\\xf7+TP\\xa3\\xba\\xa1\\xeaC\\xcf\\x83\\xfcj' and logIndex: 7 encountered the following error during processing: MismatchedABI(The event signature did not match the provided ABI). It has been discarded.\n",
      "  f\"The log with transaction hash: {log['transactionHash']} and \"\n",
      "/home/simone/.local/opt/miniconda3/envs/blockchain/lib/python3.7/site-packages/web3/contract.py:1154: UserWarning: The log with transaction hash: b'rB3\\xc9\\xfd\\xb9\\xa3\\x93\\xfbS\\x01\\xf3\\xb4*\\x1f\\xf1\\xed\\x9c\\x04\\xf7+TP\\xa3\\xba\\xa1\\xeaC\\xcf\\x83\\xfcj' and logIndex: 8 encountered the following error during processing: MismatchedABI(The event signature did not match the provided ABI). It has been discarded.\n",
      "  f\"The log with transaction hash: {log['transactionHash']} and \"\n",
      "/home/simone/.local/opt/miniconda3/envs/blockchain/lib/python3.7/site-packages/web3/contract.py:1154: UserWarning: The log with transaction hash: b'\\xf7\\xbb\\x97\\x19g8\\xcf\\xdf\\xae\\xbc\\xe5a\\xfe\\x1d\\xf4\\x95\\x19\\n\\xa4\\x96\\x10i5u\\x14\\xa3\\xa1\\xb2\\t\\xbd\\xad\\xbe' and logIndex: 5 encountered the following error during processing: MismatchedABI(The event signature did not match the provided ABI). It has been discarded.\n",
      "  f\"The log with transaction hash: {log['transactionHash']} and \"\n",
      "/home/simone/.local/opt/miniconda3/envs/blockchain/lib/python3.7/site-packages/web3/contract.py:1154: UserWarning: The log with transaction hash: b'\\xf7\\xbb\\x97\\x19g8\\xcf\\xdf\\xae\\xbc\\xe5a\\xfe\\x1d\\xf4\\x95\\x19\\n\\xa4\\x96\\x10i5u\\x14\\xa3\\xa1\\xb2\\t\\xbd\\xad\\xbe' and logIndex: 6 encountered the following error during processing: MismatchedABI(The event signature did not match the provided ABI). It has been discarded.\n",
      "  f\"The log with transaction hash: {log['transactionHash']} and \"\n",
      "/home/simone/.local/opt/miniconda3/envs/blockchain/lib/python3.7/site-packages/web3/contract.py:1154: UserWarning: The log with transaction hash: b'\\xf7\\xbb\\x97\\x19g8\\xcf\\xdf\\xae\\xbc\\xe5a\\xfe\\x1d\\xf4\\x95\\x19\\n\\xa4\\x96\\x10i5u\\x14\\xa3\\xa1\\xb2\\t\\xbd\\xad\\xbe' and logIndex: 7 encountered the following error during processing: MismatchedABI(The event signature did not match the provided ABI). It has been discarded.\n",
      "  f\"The log with transaction hash: {log['transactionHash']} and \"\n",
      "/home/simone/.local/opt/miniconda3/envs/blockchain/lib/python3.7/site-packages/web3/contract.py:1154: UserWarning: The log with transaction hash: b'\\xc0\\xaa#\\x1b\\xe3S4\\xea\\x9a\\xe4dr\\xdf\\x9b\\x9f\\xde\\xa4\\x17\\xa35oI\\xc8\\t\\x1f{\\xd0\\xdaq\\xf7\\xdd#' and logIndex: 3 encountered the following error during processing: MismatchedABI(The event signature did not match the provided ABI). It has been discarded.\n",
      "  f\"The log with transaction hash: {log['transactionHash']} and \"\n",
      "/home/simone/.local/opt/miniconda3/envs/blockchain/lib/python3.7/site-packages/web3/contract.py:1154: UserWarning: The log with transaction hash: b'\\xc0\\xaa#\\x1b\\xe3S4\\xea\\x9a\\xe4dr\\xdf\\x9b\\x9f\\xde\\xa4\\x17\\xa35oI\\xc8\\t\\x1f{\\xd0\\xdaq\\xf7\\xdd#' and logIndex: 4 encountered the following error during processing: MismatchedABI(The event signature did not match the provided ABI). It has been discarded.\n",
      "  f\"The log with transaction hash: {log['transactionHash']} and \"\n",
      "/home/simone/.local/opt/miniconda3/envs/blockchain/lib/python3.7/site-packages/web3/contract.py:1154: UserWarning: The log with transaction hash: b'\\xc0\\xaa#\\x1b\\xe3S4\\xea\\x9a\\xe4dr\\xdf\\x9b\\x9f\\xde\\xa4\\x17\\xa35oI\\xc8\\t\\x1f{\\xd0\\xdaq\\xf7\\xdd#' and logIndex: 5 encountered the following error during processing: MismatchedABI(The event signature did not match the provided ABI). It has been discarded.\n",
      "  f\"The log with transaction hash: {log['transactionHash']} and \"\n",
      "/home/simone/.local/opt/miniconda3/envs/blockchain/lib/python3.7/site-packages/web3/contract.py:1154: UserWarning: The log with transaction hash: b\"\\x8d\\xa1'\\x1a\\x07`\\x9f\\xef\\x9a\\x03\\xe6*\\xc7G\\xfee\\xfc\\x85\\xafE\\xe4%\\x97Z\\xdf\\x8e\\x9b(\\x9e\\x7f\\x9c\\x92\" and logIndex: 0 encountered the following error during processing: MismatchedABI(The event signature did not match the provided ABI). It has been discarded.\n",
      "  f\"The log with transaction hash: {log['transactionHash']} and \"\n",
      "/home/simone/.local/opt/miniconda3/envs/blockchain/lib/python3.7/site-packages/web3/contract.py:1154: UserWarning: The log with transaction hash: b\"\\x8d\\xa1'\\x1a\\x07`\\x9f\\xef\\x9a\\x03\\xe6*\\xc7G\\xfee\\xfc\\x85\\xafE\\xe4%\\x97Z\\xdf\\x8e\\x9b(\\x9e\\x7f\\x9c\\x92\" and logIndex: 1 encountered the following error during processing: MismatchedABI(The event signature did not match the provided ABI). It has been discarded.\n",
      "  f\"The log with transaction hash: {log['transactionHash']} and \"\n",
      "/home/simone/.local/opt/miniconda3/envs/blockchain/lib/python3.7/site-packages/web3/contract.py:1154: UserWarning: The log with transaction hash: b\"\\x8d\\xa1'\\x1a\\x07`\\x9f\\xef\\x9a\\x03\\xe6*\\xc7G\\xfee\\xfc\\x85\\xafE\\xe4%\\x97Z\\xdf\\x8e\\x9b(\\x9e\\x7f\\x9c\\x92\" and logIndex: 2 encountered the following error during processing: MismatchedABI(The event signature did not match the provided ABI). It has been discarded.\n",
      "  f\"The log with transaction hash: {log['transactionHash']} and \"\n",
      "/home/simone/.local/opt/miniconda3/envs/blockchain/lib/python3.7/site-packages/web3/contract.py:1154: UserWarning: The log with transaction hash: b'\\x1b\\xe0\\x05#\\xa9%\\xe7\\xbd\\x874\\xde\\xbd\\xf0J,8\\x94*\\xe0\\x87,c\\x99\\xb3\\xedt\\xf7FIZ\\x8d0' and logIndex: 3 encountered the following error during processing: MismatchedABI(The event signature did not match the provided ABI). It has been discarded.\n",
      "  f\"The log with transaction hash: {log['transactionHash']} and \"\n",
      "/home/simone/.local/opt/miniconda3/envs/blockchain/lib/python3.7/site-packages/web3/contract.py:1154: UserWarning: The log with transaction hash: b'\\x1b\\xe0\\x05#\\xa9%\\xe7\\xbd\\x874\\xde\\xbd\\xf0J,8\\x94*\\xe0\\x87,c\\x99\\xb3\\xedt\\xf7FIZ\\x8d0' and logIndex: 4 encountered the following error during processing: MismatchedABI(The event signature did not match the provided ABI). It has been discarded.\n",
      "  f\"The log with transaction hash: {log['transactionHash']} and \"\n",
      "/home/simone/.local/opt/miniconda3/envs/blockchain/lib/python3.7/site-packages/web3/contract.py:1154: UserWarning: The log with transaction hash: b'\\x1b\\xe0\\x05#\\xa9%\\xe7\\xbd\\x874\\xde\\xbd\\xf0J,8\\x94*\\xe0\\x87,c\\x99\\xb3\\xedt\\xf7FIZ\\x8d0' and logIndex: 5 encountered the following error during processing: MismatchedABI(The event signature did not match the provided ABI). It has been discarded.\n",
      "  f\"The log with transaction hash: {log['transactionHash']} and \"\n"
     ]
    },
    {
     "name": "stderr",
     "output_type": "stream",
     "text": [
      "/home/simone/.local/opt/miniconda3/envs/blockchain/lib/python3.7/site-packages/web3/contract.py:1154: UserWarning: The log with transaction hash: b'\\xe5\\x1e/\\x1e\\x16j^\\x9dEy-\\xf1V\\xe0\\x85\\xe2\\xff^\\xa0V\\x1d%\\x131;\\xe3\\xd7W\\x8b\\x89,\\x80' and logIndex: 1 encountered the following error during processing: MismatchedABI(The event signature did not match the provided ABI). It has been discarded.\n",
      "  f\"The log with transaction hash: {log['transactionHash']} and \"\n",
      "/home/simone/.local/opt/miniconda3/envs/blockchain/lib/python3.7/site-packages/web3/contract.py:1154: UserWarning: The log with transaction hash: b'\\xe5\\x1e/\\x1e\\x16j^\\x9dEy-\\xf1V\\xe0\\x85\\xe2\\xff^\\xa0V\\x1d%\\x131;\\xe3\\xd7W\\x8b\\x89,\\x80' and logIndex: 2 encountered the following error during processing: MismatchedABI(The event signature did not match the provided ABI). It has been discarded.\n",
      "  f\"The log with transaction hash: {log['transactionHash']} and \"\n",
      "/home/simone/.local/opt/miniconda3/envs/blockchain/lib/python3.7/site-packages/web3/contract.py:1154: UserWarning: The log with transaction hash: b'\\xe5\\x1e/\\x1e\\x16j^\\x9dEy-\\xf1V\\xe0\\x85\\xe2\\xff^\\xa0V\\x1d%\\x131;\\xe3\\xd7W\\x8b\\x89,\\x80' and logIndex: 3 encountered the following error during processing: MismatchedABI(The event signature did not match the provided ABI). It has been discarded.\n",
      "  f\"The log with transaction hash: {log['transactionHash']} and \"\n",
      "/home/simone/.local/opt/miniconda3/envs/blockchain/lib/python3.7/site-packages/web3/contract.py:1154: UserWarning: The log with transaction hash: b'\\xe8\\xd0\\xa1H\\r\\x97q\\xc0\\x9e\\xce)\\n25Ul\\x17\\xdbe\\x8cg\\x8d\\xaf\\xd0\\rK\\xd0\"\\x9f;!E' and logIndex: 0 encountered the following error during processing: MismatchedABI(The event signature did not match the provided ABI). It has been discarded.\n",
      "  f\"The log with transaction hash: {log['transactionHash']} and \"\n",
      "/home/simone/.local/opt/miniconda3/envs/blockchain/lib/python3.7/site-packages/web3/contract.py:1154: UserWarning: The log with transaction hash: b'\\xe8\\xd0\\xa1H\\r\\x97q\\xc0\\x9e\\xce)\\n25Ul\\x17\\xdbe\\x8cg\\x8d\\xaf\\xd0\\rK\\xd0\"\\x9f;!E' and logIndex: 1 encountered the following error during processing: MismatchedABI(The event signature did not match the provided ABI). It has been discarded.\n",
      "  f\"The log with transaction hash: {log['transactionHash']} and \"\n",
      "/home/simone/.local/opt/miniconda3/envs/blockchain/lib/python3.7/site-packages/web3/contract.py:1154: UserWarning: The log with transaction hash: b'\\xe8\\xd0\\xa1H\\r\\x97q\\xc0\\x9e\\xce)\\n25Ul\\x17\\xdbe\\x8cg\\x8d\\xaf\\xd0\\rK\\xd0\"\\x9f;!E' and logIndex: 2 encountered the following error during processing: MismatchedABI(The event signature did not match the provided ABI). It has been discarded.\n",
      "  f\"The log with transaction hash: {log['transactionHash']} and \"\n",
      "/home/simone/.local/opt/miniconda3/envs/blockchain/lib/python3.7/site-packages/web3/contract.py:1154: UserWarning: The log with transaction hash: b'\\x16u\\x95\\xe3kG\\xa6\\xb3\\xdfn\\xba\\x13v\"\\x1fj\\xe4u\\xe5\\xf2\\xcaD\\x81\\xbe\\x0cC\\xe0\\xb7,*\\x9a\\xbf' and logIndex: 2 encountered the following error during processing: MismatchedABI(The event signature did not match the provided ABI). It has been discarded.\n",
      "  f\"The log with transaction hash: {log['transactionHash']} and \"\n",
      "/home/simone/.local/opt/miniconda3/envs/blockchain/lib/python3.7/site-packages/web3/contract.py:1154: UserWarning: The log with transaction hash: b'\\x16u\\x95\\xe3kG\\xa6\\xb3\\xdfn\\xba\\x13v\"\\x1fj\\xe4u\\xe5\\xf2\\xcaD\\x81\\xbe\\x0cC\\xe0\\xb7,*\\x9a\\xbf' and logIndex: 3 encountered the following error during processing: MismatchedABI(The event signature did not match the provided ABI). It has been discarded.\n",
      "  f\"The log with transaction hash: {log['transactionHash']} and \"\n",
      "/home/simone/.local/opt/miniconda3/envs/blockchain/lib/python3.7/site-packages/web3/contract.py:1154: UserWarning: The log with transaction hash: b'\\x16u\\x95\\xe3kG\\xa6\\xb3\\xdfn\\xba\\x13v\"\\x1fj\\xe4u\\xe5\\xf2\\xcaD\\x81\\xbe\\x0cC\\xe0\\xb7,*\\x9a\\xbf' and logIndex: 4 encountered the following error during processing: MismatchedABI(The event signature did not match the provided ABI). It has been discarded.\n",
      "  f\"The log with transaction hash: {log['transactionHash']} and \"\n",
      "/home/simone/.local/opt/miniconda3/envs/blockchain/lib/python3.7/site-packages/web3/contract.py:1154: UserWarning: The log with transaction hash: b'\\x1b!g\\xf3\\xb1#\\xaf\\xb5\\xda\\xb5\\xedZ9\\x0f\\xda\\x1c\\x03\\xa7^\\x05\\x7f\\x9f\\x88\\xf0J\\xc5\\xc7\\xfd\\xfa\\xcbV\\x9d' and logIndex: 6 encountered the following error during processing: MismatchedABI(The event signature did not match the provided ABI). It has been discarded.\n",
      "  f\"The log with transaction hash: {log['transactionHash']} and \"\n",
      "/home/simone/.local/opt/miniconda3/envs/blockchain/lib/python3.7/site-packages/web3/contract.py:1154: UserWarning: The log with transaction hash: b'\\x1b!g\\xf3\\xb1#\\xaf\\xb5\\xda\\xb5\\xedZ9\\x0f\\xda\\x1c\\x03\\xa7^\\x05\\x7f\\x9f\\x88\\xf0J\\xc5\\xc7\\xfd\\xfa\\xcbV\\x9d' and logIndex: 7 encountered the following error during processing: MismatchedABI(The event signature did not match the provided ABI). It has been discarded.\n",
      "  f\"The log with transaction hash: {log['transactionHash']} and \"\n",
      "/home/simone/.local/opt/miniconda3/envs/blockchain/lib/python3.7/site-packages/web3/contract.py:1154: UserWarning: The log with transaction hash: b'\\x1b!g\\xf3\\xb1#\\xaf\\xb5\\xda\\xb5\\xedZ9\\x0f\\xda\\x1c\\x03\\xa7^\\x05\\x7f\\x9f\\x88\\xf0J\\xc5\\xc7\\xfd\\xfa\\xcbV\\x9d' and logIndex: 8 encountered the following error during processing: MismatchedABI(The event signature did not match the provided ABI). It has been discarded.\n",
      "  f\"The log with transaction hash: {log['transactionHash']} and \"\n",
      "/home/simone/.local/opt/miniconda3/envs/blockchain/lib/python3.7/site-packages/web3/contract.py:1154: UserWarning: The log with transaction hash: b'x\\xdf\\xe8By\\xa5C\\x8a\\xca\\xc8\\xae7\\xb6\\xdc\\xc7\\r\\xb3\\x96P{\\xe5I\\xdejA-L3\\x8f\\x15\\x18\\xa4' and logIndex: 1 encountered the following error during processing: MismatchedABI(The event signature did not match the provided ABI). It has been discarded.\n",
      "  f\"The log with transaction hash: {log['transactionHash']} and \"\n",
      "/home/simone/.local/opt/miniconda3/envs/blockchain/lib/python3.7/site-packages/web3/contract.py:1154: UserWarning: The log with transaction hash: b'x\\xdf\\xe8By\\xa5C\\x8a\\xca\\xc8\\xae7\\xb6\\xdc\\xc7\\r\\xb3\\x96P{\\xe5I\\xdejA-L3\\x8f\\x15\\x18\\xa4' and logIndex: 2 encountered the following error during processing: MismatchedABI(The event signature did not match the provided ABI). It has been discarded.\n",
      "  f\"The log with transaction hash: {log['transactionHash']} and \"\n",
      "/home/simone/.local/opt/miniconda3/envs/blockchain/lib/python3.7/site-packages/web3/contract.py:1154: UserWarning: The log with transaction hash: b'x\\xdf\\xe8By\\xa5C\\x8a\\xca\\xc8\\xae7\\xb6\\xdc\\xc7\\r\\xb3\\x96P{\\xe5I\\xdejA-L3\\x8f\\x15\\x18\\xa4' and logIndex: 3 encountered the following error during processing: MismatchedABI(The event signature did not match the provided ABI). It has been discarded.\n",
      "  f\"The log with transaction hash: {log['transactionHash']} and \"\n",
      "/home/simone/.local/opt/miniconda3/envs/blockchain/lib/python3.7/site-packages/web3/contract.py:1154: UserWarning: The log with transaction hash: b'\\xba\\x8a\\xda\\xa8B\\xf07\\xe8!\\xf1G|\\xfb/\\x81\\xfc\\x12O\\xba0\\x14F\\xf9\\x82\\xea%\\xd8\\x80\\xc0g1X' and logIndex: 4 encountered the following error during processing: MismatchedABI(The event signature did not match the provided ABI). It has been discarded.\n",
      "  f\"The log with transaction hash: {log['transactionHash']} and \"\n",
      "/home/simone/.local/opt/miniconda3/envs/blockchain/lib/python3.7/site-packages/web3/contract.py:1154: UserWarning: The log with transaction hash: b'\\xba\\x8a\\xda\\xa8B\\xf07\\xe8!\\xf1G|\\xfb/\\x81\\xfc\\x12O\\xba0\\x14F\\xf9\\x82\\xea%\\xd8\\x80\\xc0g1X' and logIndex: 5 encountered the following error during processing: MismatchedABI(The event signature did not match the provided ABI). It has been discarded.\n",
      "  f\"The log with transaction hash: {log['transactionHash']} and \"\n",
      "/home/simone/.local/opt/miniconda3/envs/blockchain/lib/python3.7/site-packages/web3/contract.py:1154: UserWarning: The log with transaction hash: b'\\xba\\x8a\\xda\\xa8B\\xf07\\xe8!\\xf1G|\\xfb/\\x81\\xfc\\x12O\\xba0\\x14F\\xf9\\x82\\xea%\\xd8\\x80\\xc0g1X' and logIndex: 6 encountered the following error during processing: MismatchedABI(The event signature did not match the provided ABI). It has been discarded.\n",
      "  f\"The log with transaction hash: {log['transactionHash']} and \"\n",
      "/home/simone/.local/opt/miniconda3/envs/blockchain/lib/python3.7/site-packages/web3/contract.py:1154: UserWarning: The log with transaction hash: b'ZI\\xa51gd\\x91\\xfd\\xc6H\\xef\\xeb\\x851hy\\x99\\xf6\\xf3\\x01\\x91\\xa2\\xd1\\x05\\xfe\\x19H\\xdf(\\xe6\\x08\\xc5' and logIndex: 2 encountered the following error during processing: MismatchedABI(The event signature did not match the provided ABI). It has been discarded.\n",
      "  f\"The log with transaction hash: {log['transactionHash']} and \"\n",
      "/home/simone/.local/opt/miniconda3/envs/blockchain/lib/python3.7/site-packages/web3/contract.py:1154: UserWarning: The log with transaction hash: b'ZI\\xa51gd\\x91\\xfd\\xc6H\\xef\\xeb\\x851hy\\x99\\xf6\\xf3\\x01\\x91\\xa2\\xd1\\x05\\xfe\\x19H\\xdf(\\xe6\\x08\\xc5' and logIndex: 3 encountered the following error during processing: MismatchedABI(The event signature did not match the provided ABI). It has been discarded.\n",
      "  f\"The log with transaction hash: {log['transactionHash']} and \"\n",
      "/home/simone/.local/opt/miniconda3/envs/blockchain/lib/python3.7/site-packages/web3/contract.py:1154: UserWarning: The log with transaction hash: b'ZI\\xa51gd\\x91\\xfd\\xc6H\\xef\\xeb\\x851hy\\x99\\xf6\\xf3\\x01\\x91\\xa2\\xd1\\x05\\xfe\\x19H\\xdf(\\xe6\\x08\\xc5' and logIndex: 4 encountered the following error during processing: MismatchedABI(The event signature did not match the provided ABI). It has been discarded.\n",
      "  f\"The log with transaction hash: {log['transactionHash']} and \"\n"
     ]
    },
    {
     "name": "stderr",
     "output_type": "stream",
     "text": [
      "/home/simone/.local/opt/miniconda3/envs/blockchain/lib/python3.7/site-packages/web3/contract.py:1154: UserWarning: The log with transaction hash: b'\\x82k\\xb1\\x0c)\\x05\\xc1N\\xae\\r\"\\xaf;\\xcc#\\xb1NW \\xf8{U\\x08\\x067\\x8d\\x0b\\xed\\xc0\\xe0\\xbc\\x92' and logIndex: 2 encountered the following error during processing: MismatchedABI(The event signature did not match the provided ABI). It has been discarded.\n",
      "  f\"The log with transaction hash: {log['transactionHash']} and \"\n",
      "/home/simone/.local/opt/miniconda3/envs/blockchain/lib/python3.7/site-packages/web3/contract.py:1154: UserWarning: The log with transaction hash: b'\\x82k\\xb1\\x0c)\\x05\\xc1N\\xae\\r\"\\xaf;\\xcc#\\xb1NW \\xf8{U\\x08\\x067\\x8d\\x0b\\xed\\xc0\\xe0\\xbc\\x92' and logIndex: 3 encountered the following error during processing: MismatchedABI(The event signature did not match the provided ABI). It has been discarded.\n",
      "  f\"The log with transaction hash: {log['transactionHash']} and \"\n",
      "/home/simone/.local/opt/miniconda3/envs/blockchain/lib/python3.7/site-packages/web3/contract.py:1154: UserWarning: The log with transaction hash: b'\\x82k\\xb1\\x0c)\\x05\\xc1N\\xae\\r\"\\xaf;\\xcc#\\xb1NW \\xf8{U\\x08\\x067\\x8d\\x0b\\xed\\xc0\\xe0\\xbc\\x92' and logIndex: 4 encountered the following error during processing: MismatchedABI(The event signature did not match the provided ABI). It has been discarded.\n",
      "  f\"The log with transaction hash: {log['transactionHash']} and \"\n",
      "/home/simone/.local/opt/miniconda3/envs/blockchain/lib/python3.7/site-packages/web3/contract.py:1154: UserWarning: The log with transaction hash: b'\\xef\\xd3\\x91V\\xc9\\tiPsT\\xbd\\x1b*\\xe8*d\\xde\\xe6F-W\\xd3\\xd6\\xec\\x15\\xb4\\n9\\x13\\xd8\\r\\xbb' and logIndex: 1 encountered the following error during processing: MismatchedABI(The event signature did not match the provided ABI). It has been discarded.\n",
      "  f\"The log with transaction hash: {log['transactionHash']} and \"\n",
      "/home/simone/.local/opt/miniconda3/envs/blockchain/lib/python3.7/site-packages/web3/contract.py:1154: UserWarning: The log with transaction hash: b'\\xef\\xd3\\x91V\\xc9\\tiPsT\\xbd\\x1b*\\xe8*d\\xde\\xe6F-W\\xd3\\xd6\\xec\\x15\\xb4\\n9\\x13\\xd8\\r\\xbb' and logIndex: 2 encountered the following error during processing: MismatchedABI(The event signature did not match the provided ABI). It has been discarded.\n",
      "  f\"The log with transaction hash: {log['transactionHash']} and \"\n",
      "/home/simone/.local/opt/miniconda3/envs/blockchain/lib/python3.7/site-packages/web3/contract.py:1154: UserWarning: The log with transaction hash: b'\\xef\\xd3\\x91V\\xc9\\tiPsT\\xbd\\x1b*\\xe8*d\\xde\\xe6F-W\\xd3\\xd6\\xec\\x15\\xb4\\n9\\x13\\xd8\\r\\xbb' and logIndex: 3 encountered the following error during processing: MismatchedABI(The event signature did not match the provided ABI). It has been discarded.\n",
      "  f\"The log with transaction hash: {log['transactionHash']} and \"\n",
      "/home/simone/.local/opt/miniconda3/envs/blockchain/lib/python3.7/site-packages/web3/contract.py:1154: UserWarning: The log with transaction hash: b'\\x85\\xdd\\x0b\\xc1\\x10\\xb2\\xcatuG\\xcfr\\x83L\\x98\\xd3\\xc8\\xaf\\x83\\xc5<\\xa7\\x17\\xfb\\xeeAq^q\\x7fJ\\xb9' and logIndex: 1 encountered the following error during processing: MismatchedABI(The event signature did not match the provided ABI). It has been discarded.\n",
      "  f\"The log with transaction hash: {log['transactionHash']} and \"\n",
      "/home/simone/.local/opt/miniconda3/envs/blockchain/lib/python3.7/site-packages/web3/contract.py:1154: UserWarning: The log with transaction hash: b'\\x85\\xdd\\x0b\\xc1\\x10\\xb2\\xcatuG\\xcfr\\x83L\\x98\\xd3\\xc8\\xaf\\x83\\xc5<\\xa7\\x17\\xfb\\xeeAq^q\\x7fJ\\xb9' and logIndex: 2 encountered the following error during processing: MismatchedABI(The event signature did not match the provided ABI). It has been discarded.\n",
      "  f\"The log with transaction hash: {log['transactionHash']} and \"\n",
      "/home/simone/.local/opt/miniconda3/envs/blockchain/lib/python3.7/site-packages/web3/contract.py:1154: UserWarning: The log with transaction hash: b'\\x85\\xdd\\x0b\\xc1\\x10\\xb2\\xcatuG\\xcfr\\x83L\\x98\\xd3\\xc8\\xaf\\x83\\xc5<\\xa7\\x17\\xfb\\xeeAq^q\\x7fJ\\xb9' and logIndex: 3 encountered the following error during processing: MismatchedABI(The event signature did not match the provided ABI). It has been discarded.\n",
      "  f\"The log with transaction hash: {log['transactionHash']} and \"\n",
      "/home/simone/.local/opt/miniconda3/envs/blockchain/lib/python3.7/site-packages/web3/contract.py:1154: UserWarning: The log with transaction hash: b')\\x8d-\\xb7\\xael\\xe6\\xbf5cd\\x17Z\\xda\\xda\\xc8\\xc1\\xfc\\x17\\x85W\\xdb\\x89\\xa2\\xc1\\xc4$\\xc1\\xf6w\\xbf$' and logIndex: 13 encountered the following error during processing: MismatchedABI(The event signature did not match the provided ABI). It has been discarded.\n",
      "  f\"The log with transaction hash: {log['transactionHash']} and \"\n",
      "/home/simone/.local/opt/miniconda3/envs/blockchain/lib/python3.7/site-packages/web3/contract.py:1154: UserWarning: The log with transaction hash: b')\\x8d-\\xb7\\xael\\xe6\\xbf5cd\\x17Z\\xda\\xda\\xc8\\xc1\\xfc\\x17\\x85W\\xdb\\x89\\xa2\\xc1\\xc4$\\xc1\\xf6w\\xbf$' and logIndex: 14 encountered the following error during processing: MismatchedABI(The event signature did not match the provided ABI). It has been discarded.\n",
      "  f\"The log with transaction hash: {log['transactionHash']} and \"\n",
      "/home/simone/.local/opt/miniconda3/envs/blockchain/lib/python3.7/site-packages/web3/contract.py:1154: UserWarning: The log with transaction hash: b')\\x8d-\\xb7\\xael\\xe6\\xbf5cd\\x17Z\\xda\\xda\\xc8\\xc1\\xfc\\x17\\x85W\\xdb\\x89\\xa2\\xc1\\xc4$\\xc1\\xf6w\\xbf$' and logIndex: 15 encountered the following error during processing: MismatchedABI(The event signature did not match the provided ABI). It has been discarded.\n",
      "  f\"The log with transaction hash: {log['transactionHash']} and \"\n",
      "/home/simone/.local/opt/miniconda3/envs/blockchain/lib/python3.7/site-packages/web3/contract.py:1154: UserWarning: The log with transaction hash: b'\\xf1\\x95P?U.\\x91q;\\xf4\\t\\x08\\xfd\\x83+lW\\x91l\\xf3q<\\xe3\\xc5\\x8c\\xd1-4\\x81;]w' and logIndex: 1 encountered the following error during processing: MismatchedABI(The event signature did not match the provided ABI). It has been discarded.\n",
      "  f\"The log with transaction hash: {log['transactionHash']} and \"\n",
      "/home/simone/.local/opt/miniconda3/envs/blockchain/lib/python3.7/site-packages/web3/contract.py:1154: UserWarning: The log with transaction hash: b'\\xf1\\x95P?U.\\x91q;\\xf4\\t\\x08\\xfd\\x83+lW\\x91l\\xf3q<\\xe3\\xc5\\x8c\\xd1-4\\x81;]w' and logIndex: 2 encountered the following error during processing: MismatchedABI(The event signature did not match the provided ABI). It has been discarded.\n",
      "  f\"The log with transaction hash: {log['transactionHash']} and \"\n",
      "/home/simone/.local/opt/miniconda3/envs/blockchain/lib/python3.7/site-packages/web3/contract.py:1154: UserWarning: The log with transaction hash: b'\\xf1\\x95P?U.\\x91q;\\xf4\\t\\x08\\xfd\\x83+lW\\x91l\\xf3q<\\xe3\\xc5\\x8c\\xd1-4\\x81;]w' and logIndex: 3 encountered the following error during processing: MismatchedABI(The event signature did not match the provided ABI). It has been discarded.\n",
      "  f\"The log with transaction hash: {log['transactionHash']} and \"\n",
      "/home/simone/.local/opt/miniconda3/envs/blockchain/lib/python3.7/site-packages/web3/contract.py:1154: UserWarning: The log with transaction hash: b'\\xbe\\xca\\x05@\\xa37XX\\x82\\xbc\\xa8\\x17 E{\\xb8\\xbfs\\x1f\\x0ek}\\x19D\\x07\\x90\\xfb\\xa0g\\x9c\\xb3\\x86' and logIndex: 3 encountered the following error during processing: MismatchedABI(The event signature did not match the provided ABI). It has been discarded.\n",
      "  f\"The log with transaction hash: {log['transactionHash']} and \"\n",
      "/home/simone/.local/opt/miniconda3/envs/blockchain/lib/python3.7/site-packages/web3/contract.py:1154: UserWarning: The log with transaction hash: b'\\xbe\\xca\\x05@\\xa37XX\\x82\\xbc\\xa8\\x17 E{\\xb8\\xbfs\\x1f\\x0ek}\\x19D\\x07\\x90\\xfb\\xa0g\\x9c\\xb3\\x86' and logIndex: 4 encountered the following error during processing: MismatchedABI(The event signature did not match the provided ABI). It has been discarded.\n",
      "  f\"The log with transaction hash: {log['transactionHash']} and \"\n",
      "/home/simone/.local/opt/miniconda3/envs/blockchain/lib/python3.7/site-packages/web3/contract.py:1154: UserWarning: The log with transaction hash: b'\\xbe\\xca\\x05@\\xa37XX\\x82\\xbc\\xa8\\x17 E{\\xb8\\xbfs\\x1f\\x0ek}\\x19D\\x07\\x90\\xfb\\xa0g\\x9c\\xb3\\x86' and logIndex: 5 encountered the following error during processing: MismatchedABI(The event signature did not match the provided ABI). It has been discarded.\n",
      "  f\"The log with transaction hash: {log['transactionHash']} and \"\n",
      "/home/simone/.local/opt/miniconda3/envs/blockchain/lib/python3.7/site-packages/web3/contract.py:1154: UserWarning: The log with transaction hash: b'\\xcf\\x1aIbE\\xb9~\\x99J=\\xd5V\\x123=\\xf8a\\x06?\\xd6\\xacFr\\x7f\\xbb\\xcdA\\x905\\x1e/\\xb4' and logIndex: 51 encountered the following error during processing: MismatchedABI(The event signature did not match the provided ABI). It has been discarded.\n",
      "  f\"The log with transaction hash: {log['transactionHash']} and \"\n",
      "/home/simone/.local/opt/miniconda3/envs/blockchain/lib/python3.7/site-packages/web3/contract.py:1154: UserWarning: The log with transaction hash: b'\\xcf\\x1aIbE\\xb9~\\x99J=\\xd5V\\x123=\\xf8a\\x06?\\xd6\\xacFr\\x7f\\xbb\\xcdA\\x905\\x1e/\\xb4' and logIndex: 52 encountered the following error during processing: MismatchedABI(The event signature did not match the provided ABI). It has been discarded.\n",
      "  f\"The log with transaction hash: {log['transactionHash']} and \"\n",
      "/home/simone/.local/opt/miniconda3/envs/blockchain/lib/python3.7/site-packages/web3/contract.py:1154: UserWarning: The log with transaction hash: b'\\xcf\\x1aIbE\\xb9~\\x99J=\\xd5V\\x123=\\xf8a\\x06?\\xd6\\xacFr\\x7f\\xbb\\xcdA\\x905\\x1e/\\xb4' and logIndex: 53 encountered the following error during processing: MismatchedABI(The event signature did not match the provided ABI). It has been discarded.\n",
      "  f\"The log with transaction hash: {log['transactionHash']} and \"\n"
     ]
    },
    {
     "name": "stderr",
     "output_type": "stream",
     "text": [
      "/home/simone/.local/opt/miniconda3/envs/blockchain/lib/python3.7/site-packages/web3/contract.py:1154: UserWarning: The log with transaction hash: b'V\\x07n\\xfa\\x14\\xe5\\xa9\\n`:7\\x04 Iwq\\xeb\\x9b\\x86!(w\\x90t\\xb1\\x14*\\xf9\\xc0\\xdc\\xce,' and logIndex: 3 encountered the following error during processing: MismatchedABI(The event signature did not match the provided ABI). It has been discarded.\n",
      "  f\"The log with transaction hash: {log['transactionHash']} and \"\n",
      "/home/simone/.local/opt/miniconda3/envs/blockchain/lib/python3.7/site-packages/web3/contract.py:1154: UserWarning: The log with transaction hash: b'V\\x07n\\xfa\\x14\\xe5\\xa9\\n`:7\\x04 Iwq\\xeb\\x9b\\x86!(w\\x90t\\xb1\\x14*\\xf9\\xc0\\xdc\\xce,' and logIndex: 4 encountered the following error during processing: MismatchedABI(The event signature did not match the provided ABI). It has been discarded.\n",
      "  f\"The log with transaction hash: {log['transactionHash']} and \"\n",
      "/home/simone/.local/opt/miniconda3/envs/blockchain/lib/python3.7/site-packages/web3/contract.py:1154: UserWarning: The log with transaction hash: b'V\\x07n\\xfa\\x14\\xe5\\xa9\\n`:7\\x04 Iwq\\xeb\\x9b\\x86!(w\\x90t\\xb1\\x14*\\xf9\\xc0\\xdc\\xce,' and logIndex: 5 encountered the following error during processing: MismatchedABI(The event signature did not match the provided ABI). It has been discarded.\n",
      "  f\"The log with transaction hash: {log['transactionHash']} and \"\n",
      "/home/simone/.local/opt/miniconda3/envs/blockchain/lib/python3.7/site-packages/web3/contract.py:1154: UserWarning: The log with transaction hash: b'\\xc7\\xff^\\xbb\\xbeJ\\xeeS\\xbd\\x9c\\xe2z7U3\\xd3\\x1d\\xc2\\xc7\\xa6\\xa2\\x06\\x86\\xe0\\xab\\x92s\\x19\\xbe\\xe7\\xf4\\xb3' and logIndex: 0 encountered the following error during processing: MismatchedABI(The event signature did not match the provided ABI). It has been discarded.\n",
      "  f\"The log with transaction hash: {log['transactionHash']} and \"\n",
      "/home/simone/.local/opt/miniconda3/envs/blockchain/lib/python3.7/site-packages/web3/contract.py:1154: UserWarning: The log with transaction hash: b'\\xc7\\xff^\\xbb\\xbeJ\\xeeS\\xbd\\x9c\\xe2z7U3\\xd3\\x1d\\xc2\\xc7\\xa6\\xa2\\x06\\x86\\xe0\\xab\\x92s\\x19\\xbe\\xe7\\xf4\\xb3' and logIndex: 1 encountered the following error during processing: MismatchedABI(The event signature did not match the provided ABI). It has been discarded.\n",
      "  f\"The log with transaction hash: {log['transactionHash']} and \"\n",
      "/home/simone/.local/opt/miniconda3/envs/blockchain/lib/python3.7/site-packages/web3/contract.py:1154: UserWarning: The log with transaction hash: b'\\xc7\\xff^\\xbb\\xbeJ\\xeeS\\xbd\\x9c\\xe2z7U3\\xd3\\x1d\\xc2\\xc7\\xa6\\xa2\\x06\\x86\\xe0\\xab\\x92s\\x19\\xbe\\xe7\\xf4\\xb3' and logIndex: 2 encountered the following error during processing: MismatchedABI(The event signature did not match the provided ABI). It has been discarded.\n",
      "  f\"The log with transaction hash: {log['transactionHash']} and \"\n",
      "/home/simone/.local/opt/miniconda3/envs/blockchain/lib/python3.7/site-packages/web3/contract.py:1154: UserWarning: The log with transaction hash: b'\\x92\\x86\\xd4\\x0e\\xc8y3\\n\\x047\\xeb\\xee\\xba\\xbe\\xb5\\x89[ \\xcf\\\\\\xe4\\x03\\xff\\xc4\\n/|\\x95G\\xc5\\x084' and logIndex: 0 encountered the following error during processing: MismatchedABI(The event signature did not match the provided ABI). It has been discarded.\n",
      "  f\"The log with transaction hash: {log['transactionHash']} and \"\n",
      "/home/simone/.local/opt/miniconda3/envs/blockchain/lib/python3.7/site-packages/web3/contract.py:1154: UserWarning: The log with transaction hash: b'\\x92\\x86\\xd4\\x0e\\xc8y3\\n\\x047\\xeb\\xee\\xba\\xbe\\xb5\\x89[ \\xcf\\\\\\xe4\\x03\\xff\\xc4\\n/|\\x95G\\xc5\\x084' and logIndex: 1 encountered the following error during processing: MismatchedABI(The event signature did not match the provided ABI). It has been discarded.\n",
      "  f\"The log with transaction hash: {log['transactionHash']} and \"\n",
      "/home/simone/.local/opt/miniconda3/envs/blockchain/lib/python3.7/site-packages/web3/contract.py:1154: UserWarning: The log with transaction hash: b'\\x92\\x86\\xd4\\x0e\\xc8y3\\n\\x047\\xeb\\xee\\xba\\xbe\\xb5\\x89[ \\xcf\\\\\\xe4\\x03\\xff\\xc4\\n/|\\x95G\\xc5\\x084' and logIndex: 2 encountered the following error during processing: MismatchedABI(The event signature did not match the provided ABI). It has been discarded.\n",
      "  f\"The log with transaction hash: {log['transactionHash']} and \"\n",
      "/home/simone/.local/opt/miniconda3/envs/blockchain/lib/python3.7/site-packages/web3/contract.py:1154: UserWarning: The log with transaction hash: b'c\\x95\\xcfN\\xfd\\xf8\\x83?fe\\x9e\\xba\\xb8\\xb6\\x10\\xeed\\xa8\\x88M\\x87\\xdd\\x88\\x86\\x06\\xf0\\xf9\\x93F*\\x93 ' and logIndex: 33 encountered the following error during processing: MismatchedABI(The event signature did not match the provided ABI). It has been discarded.\n",
      "  f\"The log with transaction hash: {log['transactionHash']} and \"\n",
      "/home/simone/.local/opt/miniconda3/envs/blockchain/lib/python3.7/site-packages/web3/contract.py:1154: UserWarning: The log with transaction hash: b'c\\x95\\xcfN\\xfd\\xf8\\x83?fe\\x9e\\xba\\xb8\\xb6\\x10\\xeed\\xa8\\x88M\\x87\\xdd\\x88\\x86\\x06\\xf0\\xf9\\x93F*\\x93 ' and logIndex: 34 encountered the following error during processing: MismatchedABI(The event signature did not match the provided ABI). It has been discarded.\n",
      "  f\"The log with transaction hash: {log['transactionHash']} and \"\n",
      "/home/simone/.local/opt/miniconda3/envs/blockchain/lib/python3.7/site-packages/web3/contract.py:1154: UserWarning: The log with transaction hash: b'c\\x95\\xcfN\\xfd\\xf8\\x83?fe\\x9e\\xba\\xb8\\xb6\\x10\\xeed\\xa8\\x88M\\x87\\xdd\\x88\\x86\\x06\\xf0\\xf9\\x93F*\\x93 ' and logIndex: 35 encountered the following error during processing: MismatchedABI(The event signature did not match the provided ABI). It has been discarded.\n",
      "  f\"The log with transaction hash: {log['transactionHash']} and \"\n",
      "/home/simone/.local/opt/miniconda3/envs/blockchain/lib/python3.7/site-packages/web3/contract.py:1154: UserWarning: The log with transaction hash: b'\\xd84\\x9c\\xf9\\x96n\\xed\\x96\\x93\\x9a\\xe5\"d3\\xc8\\xa6\\xc3p@\\x8eup_\\x81\\x1f\\x9b\\xcdL=\\xa7\\xb2\\xdd' and logIndex: 4 encountered the following error during processing: MismatchedABI(The event signature did not match the provided ABI). It has been discarded.\n",
      "  f\"The log with transaction hash: {log['transactionHash']} and \"\n",
      "/home/simone/.local/opt/miniconda3/envs/blockchain/lib/python3.7/site-packages/web3/contract.py:1154: UserWarning: The log with transaction hash: b'\\xd84\\x9c\\xf9\\x96n\\xed\\x96\\x93\\x9a\\xe5\"d3\\xc8\\xa6\\xc3p@\\x8eup_\\x81\\x1f\\x9b\\xcdL=\\xa7\\xb2\\xdd' and logIndex: 5 encountered the following error during processing: MismatchedABI(The event signature did not match the provided ABI). It has been discarded.\n",
      "  f\"The log with transaction hash: {log['transactionHash']} and \"\n",
      "/home/simone/.local/opt/miniconda3/envs/blockchain/lib/python3.7/site-packages/web3/contract.py:1154: UserWarning: The log with transaction hash: b'\\xd84\\x9c\\xf9\\x96n\\xed\\x96\\x93\\x9a\\xe5\"d3\\xc8\\xa6\\xc3p@\\x8eup_\\x81\\x1f\\x9b\\xcdL=\\xa7\\xb2\\xdd' and logIndex: 6 encountered the following error during processing: MismatchedABI(The event signature did not match the provided ABI). It has been discarded.\n",
      "  f\"The log with transaction hash: {log['transactionHash']} and \"\n",
      "/home/simone/.local/opt/miniconda3/envs/blockchain/lib/python3.7/site-packages/web3/contract.py:1154: UserWarning: The log with transaction hash: b'yY\\xe3Y\\xa2\\x04\\x92\\xfe\\xa8\\x0f\\x94\\xfe1?$\\x1d5?\\xd5\\x1f\\xe3\\x16\\xde\\xf8^R\\x1f\\x8d-\\x05\\xbe\\xfa' and logIndex: 5 encountered the following error during processing: MismatchedABI(The event signature did not match the provided ABI). It has been discarded.\n",
      "  f\"The log with transaction hash: {log['transactionHash']} and \"\n",
      "/home/simone/.local/opt/miniconda3/envs/blockchain/lib/python3.7/site-packages/web3/contract.py:1154: UserWarning: The log with transaction hash: b'yY\\xe3Y\\xa2\\x04\\x92\\xfe\\xa8\\x0f\\x94\\xfe1?$\\x1d5?\\xd5\\x1f\\xe3\\x16\\xde\\xf8^R\\x1f\\x8d-\\x05\\xbe\\xfa' and logIndex: 6 encountered the following error during processing: MismatchedABI(The event signature did not match the provided ABI). It has been discarded.\n",
      "  f\"The log with transaction hash: {log['transactionHash']} and \"\n",
      "/home/simone/.local/opt/miniconda3/envs/blockchain/lib/python3.7/site-packages/web3/contract.py:1154: UserWarning: The log with transaction hash: b'yY\\xe3Y\\xa2\\x04\\x92\\xfe\\xa8\\x0f\\x94\\xfe1?$\\x1d5?\\xd5\\x1f\\xe3\\x16\\xde\\xf8^R\\x1f\\x8d-\\x05\\xbe\\xfa' and logIndex: 7 encountered the following error during processing: MismatchedABI(The event signature did not match the provided ABI). It has been discarded.\n",
      "  f\"The log with transaction hash: {log['transactionHash']} and \"\n"
     ]
    },
    {
     "name": "stderr",
     "output_type": "stream",
     "text": [
      "/home/simone/.local/opt/miniconda3/envs/blockchain/lib/python3.7/site-packages/web3/contract.py:1154: UserWarning: The log with transaction hash: b'\\xc3g\\xfb\\xc5\\xdf~\\xf3\\x88N\\xf4\\xfc\\x17\\xa5>=\\x84\\xdc?\\xf8\\xde8\\x8e\\xff\\xce\\x86\\xa6@\\x8f\\xdf\\x86\\n\\x1e' and logIndex: 7 encountered the following error during processing: MismatchedABI(The event signature did not match the provided ABI). It has been discarded.\n",
      "  f\"The log with transaction hash: {log['transactionHash']} and \"\n",
      "/home/simone/.local/opt/miniconda3/envs/blockchain/lib/python3.7/site-packages/web3/contract.py:1154: UserWarning: The log with transaction hash: b'\\xc3g\\xfb\\xc5\\xdf~\\xf3\\x88N\\xf4\\xfc\\x17\\xa5>=\\x84\\xdc?\\xf8\\xde8\\x8e\\xff\\xce\\x86\\xa6@\\x8f\\xdf\\x86\\n\\x1e' and logIndex: 8 encountered the following error during processing: MismatchedABI(The event signature did not match the provided ABI). It has been discarded.\n",
      "  f\"The log with transaction hash: {log['transactionHash']} and \"\n",
      "/home/simone/.local/opt/miniconda3/envs/blockchain/lib/python3.7/site-packages/web3/contract.py:1154: UserWarning: The log with transaction hash: b'\\xc3g\\xfb\\xc5\\xdf~\\xf3\\x88N\\xf4\\xfc\\x17\\xa5>=\\x84\\xdc?\\xf8\\xde8\\x8e\\xff\\xce\\x86\\xa6@\\x8f\\xdf\\x86\\n\\x1e' and logIndex: 9 encountered the following error during processing: MismatchedABI(The event signature did not match the provided ABI). It has been discarded.\n",
      "  f\"The log with transaction hash: {log['transactionHash']} and \"\n",
      "/home/simone/.local/opt/miniconda3/envs/blockchain/lib/python3.7/site-packages/web3/contract.py:1154: UserWarning: The log with transaction hash: b'\\x19 \\x8e\\xaf\\x01G/\\xc4\\x94\\x90\\x19\\xb8\\xa4>_\\r?\\xf3\\x9f9\\xcez\\xfc\\x12\\x7f\\t\\r\\x9e{8G`' and logIndex: 9 encountered the following error during processing: MismatchedABI(The event signature did not match the provided ABI). It has been discarded.\n",
      "  f\"The log with transaction hash: {log['transactionHash']} and \"\n",
      "/home/simone/.local/opt/miniconda3/envs/blockchain/lib/python3.7/site-packages/web3/contract.py:1154: UserWarning: The log with transaction hash: b'\\x19 \\x8e\\xaf\\x01G/\\xc4\\x94\\x90\\x19\\xb8\\xa4>_\\r?\\xf3\\x9f9\\xcez\\xfc\\x12\\x7f\\t\\r\\x9e{8G`' and logIndex: 10 encountered the following error during processing: MismatchedABI(The event signature did not match the provided ABI). It has been discarded.\n",
      "  f\"The log with transaction hash: {log['transactionHash']} and \"\n",
      "/home/simone/.local/opt/miniconda3/envs/blockchain/lib/python3.7/site-packages/web3/contract.py:1154: UserWarning: The log with transaction hash: b'\\x19 \\x8e\\xaf\\x01G/\\xc4\\x94\\x90\\x19\\xb8\\xa4>_\\r?\\xf3\\x9f9\\xcez\\xfc\\x12\\x7f\\t\\r\\x9e{8G`' and logIndex: 11 encountered the following error during processing: MismatchedABI(The event signature did not match the provided ABI). It has been discarded.\n",
      "  f\"The log with transaction hash: {log['transactionHash']} and \"\n",
      "/home/simone/.local/opt/miniconda3/envs/blockchain/lib/python3.7/site-packages/web3/contract.py:1154: UserWarning: The log with transaction hash: b'\\xe8{\\xc2`9-\\xeb\\xed\\xf2\\xda?`\\xd3\\xb2\\xfc/\\xa6:\\xb5\\xd3\\xf2N8m\\xfa\\xc0T1\\xc6\\xeb\\xbbK' and logIndex: 0 encountered the following error during processing: MismatchedABI(The event signature did not match the provided ABI). It has been discarded.\n",
      "  f\"The log with transaction hash: {log['transactionHash']} and \"\n",
      "/home/simone/.local/opt/miniconda3/envs/blockchain/lib/python3.7/site-packages/web3/contract.py:1154: UserWarning: The log with transaction hash: b'\\xe8{\\xc2`9-\\xeb\\xed\\xf2\\xda?`\\xd3\\xb2\\xfc/\\xa6:\\xb5\\xd3\\xf2N8m\\xfa\\xc0T1\\xc6\\xeb\\xbbK' and logIndex: 1 encountered the following error during processing: MismatchedABI(The event signature did not match the provided ABI). It has been discarded.\n",
      "  f\"The log with transaction hash: {log['transactionHash']} and \"\n",
      "/home/simone/.local/opt/miniconda3/envs/blockchain/lib/python3.7/site-packages/web3/contract.py:1154: UserWarning: The log with transaction hash: b'\\xe8{\\xc2`9-\\xeb\\xed\\xf2\\xda?`\\xd3\\xb2\\xfc/\\xa6:\\xb5\\xd3\\xf2N8m\\xfa\\xc0T1\\xc6\\xeb\\xbbK' and logIndex: 2 encountered the following error during processing: MismatchedABI(The event signature did not match the provided ABI). It has been discarded.\n",
      "  f\"The log with transaction hash: {log['transactionHash']} and \"\n",
      "/home/simone/.local/opt/miniconda3/envs/blockchain/lib/python3.7/site-packages/web3/contract.py:1154: UserWarning: The log with transaction hash: b'w\\xa2\\x8f\\x8eY\\xac\\xa9\\xf8;\\x03*\\x82\\xe9\\xecpk\\x0f\\x02\\xd8tt,5\\xb8\\xf5\\xe4\\xcde\\xf3\\x1fc\\x1f' and logIndex: 6 encountered the following error during processing: MismatchedABI(The event signature did not match the provided ABI). It has been discarded.\n",
      "  f\"The log with transaction hash: {log['transactionHash']} and \"\n",
      "/home/simone/.local/opt/miniconda3/envs/blockchain/lib/python3.7/site-packages/web3/contract.py:1154: UserWarning: The log with transaction hash: b'w\\xa2\\x8f\\x8eY\\xac\\xa9\\xf8;\\x03*\\x82\\xe9\\xecpk\\x0f\\x02\\xd8tt,5\\xb8\\xf5\\xe4\\xcde\\xf3\\x1fc\\x1f' and logIndex: 7 encountered the following error during processing: MismatchedABI(The event signature did not match the provided ABI). It has been discarded.\n",
      "  f\"The log with transaction hash: {log['transactionHash']} and \"\n",
      "/home/simone/.local/opt/miniconda3/envs/blockchain/lib/python3.7/site-packages/web3/contract.py:1154: UserWarning: The log with transaction hash: b'w\\xa2\\x8f\\x8eY\\xac\\xa9\\xf8;\\x03*\\x82\\xe9\\xecpk\\x0f\\x02\\xd8tt,5\\xb8\\xf5\\xe4\\xcde\\xf3\\x1fc\\x1f' and logIndex: 8 encountered the following error during processing: MismatchedABI(The event signature did not match the provided ABI). It has been discarded.\n",
      "  f\"The log with transaction hash: {log['transactionHash']} and \"\n"
     ]
    }
   ],
   "source": [
    "buy_CST_logs = [] \n",
    "for event_data in all_buys_CST: \n",
    "        #print(event_data)\n",
    "        tx_hash = event_data['transactionHash'].hex()\n",
    "        receipt = web3.eth.getTransactionReceipt(tx_hash)\n",
    "        #events = ['Buy', 'Sell']\n",
    "        buy_CST_logs.append(web3_exchange_CST.events.Buy().processReceipt(receipt))"
   ]
  },
  {
   "cell_type": "code",
   "execution_count": 7,
   "metadata": {},
   "outputs": [],
   "source": [
    "FSS_buy_CST = []\n",
    "for i in range(0, len(buy_CST_logs)): \n",
    "    if(buy_CST_logs[i][0]['args']['buyer'] == '0x27C404d4D91156F7063E8dB9cC10970cfffF9a6C'): \n",
    "        FSS_buy_CST.append(buy_CST_logs[i][0])"
   ]
  },
  {
   "cell_type": "code",
   "execution_count": 8,
   "metadata": {
    "collapsed": true
   },
   "outputs": [
    {
     "name": "stderr",
     "output_type": "stream",
     "text": [
      "/home/simone/.local/opt/miniconda3/envs/blockchain/lib/python3.7/site-packages/web3/contract.py:1154: UserWarning: The log with transaction hash: b'PP\\xef\\xe7\\n\\xa3\\xce\\xee\\x0f\\x98\\xb1|\\xcfz\\xcau\\x8c~k\\xdey\\t\\x90`x\\x06a\\xeb\\x03G\\xd5\\xf7' and logIndex: 3 encountered the following error during processing: MismatchedABI(The event signature did not match the provided ABI). It has been discarded.\n",
      "  f\"The log with transaction hash: {log['transactionHash']} and \"\n",
      "/home/simone/.local/opt/miniconda3/envs/blockchain/lib/python3.7/site-packages/web3/contract.py:1154: UserWarning: The log with transaction hash: b'PP\\xef\\xe7\\n\\xa3\\xce\\xee\\x0f\\x98\\xb1|\\xcfz\\xcau\\x8c~k\\xdey\\t\\x90`x\\x06a\\xeb\\x03G\\xd5\\xf7' and logIndex: 4 encountered the following error during processing: MismatchedABI(The event signature did not match the provided ABI). It has been discarded.\n",
      "  f\"The log with transaction hash: {log['transactionHash']} and \"\n",
      "/home/simone/.local/opt/miniconda3/envs/blockchain/lib/python3.7/site-packages/web3/contract.py:1154: UserWarning: The log with transaction hash: b'PP\\xef\\xe7\\n\\xa3\\xce\\xee\\x0f\\x98\\xb1|\\xcfz\\xcau\\x8c~k\\xdey\\t\\x90`x\\x06a\\xeb\\x03G\\xd5\\xf7' and logIndex: 5 encountered the following error during processing: MismatchedABI(The event signature did not match the provided ABI). It has been discarded.\n",
      "  f\"The log with transaction hash: {log['transactionHash']} and \"\n",
      "/home/simone/.local/opt/miniconda3/envs/blockchain/lib/python3.7/site-packages/web3/contract.py:1154: UserWarning: The log with transaction hash: b'\\x0f\\x9be\\x1ck\\xb1\\xf2\\xd7\\xf9\\x0c\\x88\\xb3\\xd5\\xb8\\x8b\\xf9\\xcag\\xe2i3c\\xf3\\xec\\xce\\xef\\xe6\\x81N\\x00m\\xe8' and logIndex: 94 encountered the following error during processing: MismatchedABI(The event signature did not match the provided ABI). It has been discarded.\n",
      "  f\"The log with transaction hash: {log['transactionHash']} and \"\n",
      "/home/simone/.local/opt/miniconda3/envs/blockchain/lib/python3.7/site-packages/web3/contract.py:1154: UserWarning: The log with transaction hash: b'\\x0f\\x9be\\x1ck\\xb1\\xf2\\xd7\\xf9\\x0c\\x88\\xb3\\xd5\\xb8\\x8b\\xf9\\xcag\\xe2i3c\\xf3\\xec\\xce\\xef\\xe6\\x81N\\x00m\\xe8' and logIndex: 95 encountered the following error during processing: MismatchedABI(The event signature did not match the provided ABI). It has been discarded.\n",
      "  f\"The log with transaction hash: {log['transactionHash']} and \"\n",
      "/home/simone/.local/opt/miniconda3/envs/blockchain/lib/python3.7/site-packages/web3/contract.py:1154: UserWarning: The log with transaction hash: b'\\x0f\\x9be\\x1ck\\xb1\\xf2\\xd7\\xf9\\x0c\\x88\\xb3\\xd5\\xb8\\x8b\\xf9\\xcag\\xe2i3c\\xf3\\xec\\xce\\xef\\xe6\\x81N\\x00m\\xe8' and logIndex: 96 encountered the following error during processing: MismatchedABI(The event signature did not match the provided ABI). It has been discarded.\n",
      "  f\"The log with transaction hash: {log['transactionHash']} and \"\n",
      "/home/simone/.local/opt/miniconda3/envs/blockchain/lib/python3.7/site-packages/web3/contract.py:1154: UserWarning: The log with transaction hash: b'\\x84\\xb6P\\xe8\\xfb\\x13`\\x8c\\xd1)dH1\\xad\\xe7h\\xef\\xfa\\xc22\\x7f\\xcf\\xb2\\x89\\xa8:\\xdaA>t\\x9db' and logIndex: 0 encountered the following error during processing: MismatchedABI(The event signature did not match the provided ABI). It has been discarded.\n",
      "  f\"The log with transaction hash: {log['transactionHash']} and \"\n",
      "/home/simone/.local/opt/miniconda3/envs/blockchain/lib/python3.7/site-packages/web3/contract.py:1154: UserWarning: The log with transaction hash: b'\\x84\\xb6P\\xe8\\xfb\\x13`\\x8c\\xd1)dH1\\xad\\xe7h\\xef\\xfa\\xc22\\x7f\\xcf\\xb2\\x89\\xa8:\\xdaA>t\\x9db' and logIndex: 1 encountered the following error during processing: MismatchedABI(The event signature did not match the provided ABI). It has been discarded.\n",
      "  f\"The log with transaction hash: {log['transactionHash']} and \"\n",
      "/home/simone/.local/opt/miniconda3/envs/blockchain/lib/python3.7/site-packages/web3/contract.py:1154: UserWarning: The log with transaction hash: b'\\x84\\xb6P\\xe8\\xfb\\x13`\\x8c\\xd1)dH1\\xad\\xe7h\\xef\\xfa\\xc22\\x7f\\xcf\\xb2\\x89\\xa8:\\xdaA>t\\x9db' and logIndex: 2 encountered the following error during processing: MismatchedABI(The event signature did not match the provided ABI). It has been discarded.\n",
      "  f\"The log with transaction hash: {log['transactionHash']} and \"\n",
      "/home/simone/.local/opt/miniconda3/envs/blockchain/lib/python3.7/site-packages/web3/contract.py:1154: UserWarning: The log with transaction hash: b'\\x0c\\x9a\\xccC\\xa9\\xd9\\x08i\\xc3\\x05G\\x158\\x99\\xe8\\xda\\x86\\xe9DZ\\xeb\\x14r\\x00\\x9f5\\x98\\xe0\\x8f\\x17\\xa2\\xde' and logIndex: 10 encountered the following error during processing: MismatchedABI(The event signature did not match the provided ABI). It has been discarded.\n",
      "  f\"The log with transaction hash: {log['transactionHash']} and \"\n",
      "/home/simone/.local/opt/miniconda3/envs/blockchain/lib/python3.7/site-packages/web3/contract.py:1154: UserWarning: The log with transaction hash: b'\\x0c\\x9a\\xccC\\xa9\\xd9\\x08i\\xc3\\x05G\\x158\\x99\\xe8\\xda\\x86\\xe9DZ\\xeb\\x14r\\x00\\x9f5\\x98\\xe0\\x8f\\x17\\xa2\\xde' and logIndex: 11 encountered the following error during processing: MismatchedABI(The event signature did not match the provided ABI). It has been discarded.\n",
      "  f\"The log with transaction hash: {log['transactionHash']} and \"\n",
      "/home/simone/.local/opt/miniconda3/envs/blockchain/lib/python3.7/site-packages/web3/contract.py:1154: UserWarning: The log with transaction hash: b'\\x0c\\x9a\\xccC\\xa9\\xd9\\x08i\\xc3\\x05G\\x158\\x99\\xe8\\xda\\x86\\xe9DZ\\xeb\\x14r\\x00\\x9f5\\x98\\xe0\\x8f\\x17\\xa2\\xde' and logIndex: 12 encountered the following error during processing: MismatchedABI(The event signature did not match the provided ABI). It has been discarded.\n",
      "  f\"The log with transaction hash: {log['transactionHash']} and \"\n",
      "/home/simone/.local/opt/miniconda3/envs/blockchain/lib/python3.7/site-packages/web3/contract.py:1154: UserWarning: The log with transaction hash: b'\\x04\\x0e\\x03l)\\x18\\xbe\\ttm\\x1e\\x9a$>Rh7}\\xf6N\\x0f\\xe5\\xf98\\xda\\xc0\\x8fT9kw$' and logIndex: 1 encountered the following error during processing: MismatchedABI(The event signature did not match the provided ABI). It has been discarded.\n",
      "  f\"The log with transaction hash: {log['transactionHash']} and \"\n",
      "/home/simone/.local/opt/miniconda3/envs/blockchain/lib/python3.7/site-packages/web3/contract.py:1154: UserWarning: The log with transaction hash: b'\\x04\\x0e\\x03l)\\x18\\xbe\\ttm\\x1e\\x9a$>Rh7}\\xf6N\\x0f\\xe5\\xf98\\xda\\xc0\\x8fT9kw$' and logIndex: 2 encountered the following error during processing: MismatchedABI(The event signature did not match the provided ABI). It has been discarded.\n",
      "  f\"The log with transaction hash: {log['transactionHash']} and \"\n",
      "/home/simone/.local/opt/miniconda3/envs/blockchain/lib/python3.7/site-packages/web3/contract.py:1154: UserWarning: The log with transaction hash: b'\\x04\\x0e\\x03l)\\x18\\xbe\\ttm\\x1e\\x9a$>Rh7}\\xf6N\\x0f\\xe5\\xf98\\xda\\xc0\\x8fT9kw$' and logIndex: 3 encountered the following error during processing: MismatchedABI(The event signature did not match the provided ABI). It has been discarded.\n",
      "  f\"The log with transaction hash: {log['transactionHash']} and \"\n",
      "/home/simone/.local/opt/miniconda3/envs/blockchain/lib/python3.7/site-packages/web3/contract.py:1154: UserWarning: The log with transaction hash: b'3\\xea\\xfb\\x01\\x00\\xf6L\\x9dU\\x89\\xaf\\t\\xd3[\\xa5\\xd9I^\\xc7+\\xb7UNZ\\xecm\\x07\\xaaD\\xb8\\x11\\xed' and logIndex: 2 encountered the following error during processing: MismatchedABI(The event signature did not match the provided ABI). It has been discarded.\n",
      "  f\"The log with transaction hash: {log['transactionHash']} and \"\n",
      "/home/simone/.local/opt/miniconda3/envs/blockchain/lib/python3.7/site-packages/web3/contract.py:1154: UserWarning: The log with transaction hash: b'3\\xea\\xfb\\x01\\x00\\xf6L\\x9dU\\x89\\xaf\\t\\xd3[\\xa5\\xd9I^\\xc7+\\xb7UNZ\\xecm\\x07\\xaaD\\xb8\\x11\\xed' and logIndex: 3 encountered the following error during processing: MismatchedABI(The event signature did not match the provided ABI). It has been discarded.\n",
      "  f\"The log with transaction hash: {log['transactionHash']} and \"\n",
      "/home/simone/.local/opt/miniconda3/envs/blockchain/lib/python3.7/site-packages/web3/contract.py:1154: UserWarning: The log with transaction hash: b'3\\xea\\xfb\\x01\\x00\\xf6L\\x9dU\\x89\\xaf\\t\\xd3[\\xa5\\xd9I^\\xc7+\\xb7UNZ\\xecm\\x07\\xaaD\\xb8\\x11\\xed' and logIndex: 4 encountered the following error during processing: MismatchedABI(The event signature did not match the provided ABI). It has been discarded.\n",
      "  f\"The log with transaction hash: {log['transactionHash']} and \"\n",
      "/home/simone/.local/opt/miniconda3/envs/blockchain/lib/python3.7/site-packages/web3/contract.py:1154: UserWarning: The log with transaction hash: b'\\xd8Z\\xea4I1U&\\xa06%\\xc8qg\\x1f\\xf8\\xacU\\xeami\\x9c\\xa6\\x84\\xc1\\xe3\\xe2\\xfd\\xech\\x05&' and logIndex: 0 encountered the following error during processing: MismatchedABI(The event signature did not match the provided ABI). It has been discarded.\n",
      "  f\"The log with transaction hash: {log['transactionHash']} and \"\n",
      "/home/simone/.local/opt/miniconda3/envs/blockchain/lib/python3.7/site-packages/web3/contract.py:1154: UserWarning: The log with transaction hash: b'\\xd8Z\\xea4I1U&\\xa06%\\xc8qg\\x1f\\xf8\\xacU\\xeami\\x9c\\xa6\\x84\\xc1\\xe3\\xe2\\xfd\\xech\\x05&' and logIndex: 1 encountered the following error during processing: MismatchedABI(The event signature did not match the provided ABI). It has been discarded.\n",
      "  f\"The log with transaction hash: {log['transactionHash']} and \"\n",
      "/home/simone/.local/opt/miniconda3/envs/blockchain/lib/python3.7/site-packages/web3/contract.py:1154: UserWarning: The log with transaction hash: b'\\xd8Z\\xea4I1U&\\xa06%\\xc8qg\\x1f\\xf8\\xacU\\xeami\\x9c\\xa6\\x84\\xc1\\xe3\\xe2\\xfd\\xech\\x05&' and logIndex: 2 encountered the following error during processing: MismatchedABI(The event signature did not match the provided ABI). It has been discarded.\n",
      "  f\"The log with transaction hash: {log['transactionHash']} and \"\n"
     ]
    },
    {
     "name": "stderr",
     "output_type": "stream",
     "text": [
      "/home/simone/.local/opt/miniconda3/envs/blockchain/lib/python3.7/site-packages/web3/contract.py:1154: UserWarning: The log with transaction hash: b'\\xc2a\\xc0 \\x89\\xee8%S\\xba\\x01\\x87hD\\x94lM\\xec!\\xa35WlY\\xbd\\x90\\xeb\\xc2I\\xa5\\x17@' and logIndex: 50 encountered the following error during processing: MismatchedABI(The event signature did not match the provided ABI). It has been discarded.\n",
      "  f\"The log with transaction hash: {log['transactionHash']} and \"\n",
      "/home/simone/.local/opt/miniconda3/envs/blockchain/lib/python3.7/site-packages/web3/contract.py:1154: UserWarning: The log with transaction hash: b'\\xc2a\\xc0 \\x89\\xee8%S\\xba\\x01\\x87hD\\x94lM\\xec!\\xa35WlY\\xbd\\x90\\xeb\\xc2I\\xa5\\x17@' and logIndex: 51 encountered the following error during processing: MismatchedABI(The event signature did not match the provided ABI). It has been discarded.\n",
      "  f\"The log with transaction hash: {log['transactionHash']} and \"\n",
      "/home/simone/.local/opt/miniconda3/envs/blockchain/lib/python3.7/site-packages/web3/contract.py:1154: UserWarning: The log with transaction hash: b'\\xc2a\\xc0 \\x89\\xee8%S\\xba\\x01\\x87hD\\x94lM\\xec!\\xa35WlY\\xbd\\x90\\xeb\\xc2I\\xa5\\x17@' and logIndex: 52 encountered the following error during processing: MismatchedABI(The event signature did not match the provided ABI). It has been discarded.\n",
      "  f\"The log with transaction hash: {log['transactionHash']} and \"\n",
      "/home/simone/.local/opt/miniconda3/envs/blockchain/lib/python3.7/site-packages/web3/contract.py:1154: UserWarning: The log with transaction hash: b'p\\'\\xdd\\t\\xc9\\x8e\\x85\\xff\\xd42\\x86V\\xb0\"%\\xda\\xb8 -@IqF\\x08\\xc8[\\n\\x8b\\xb7\\xe5\\xa7\\xf4' and logIndex: 4 encountered the following error during processing: MismatchedABI(The event signature did not match the provided ABI). It has been discarded.\n",
      "  f\"The log with transaction hash: {log['transactionHash']} and \"\n",
      "/home/simone/.local/opt/miniconda3/envs/blockchain/lib/python3.7/site-packages/web3/contract.py:1154: UserWarning: The log with transaction hash: b'p\\'\\xdd\\t\\xc9\\x8e\\x85\\xff\\xd42\\x86V\\xb0\"%\\xda\\xb8 -@IqF\\x08\\xc8[\\n\\x8b\\xb7\\xe5\\xa7\\xf4' and logIndex: 5 encountered the following error during processing: MismatchedABI(The event signature did not match the provided ABI). It has been discarded.\n",
      "  f\"The log with transaction hash: {log['transactionHash']} and \"\n",
      "/home/simone/.local/opt/miniconda3/envs/blockchain/lib/python3.7/site-packages/web3/contract.py:1154: UserWarning: The log with transaction hash: b'p\\'\\xdd\\t\\xc9\\x8e\\x85\\xff\\xd42\\x86V\\xb0\"%\\xda\\xb8 -@IqF\\x08\\xc8[\\n\\x8b\\xb7\\xe5\\xa7\\xf4' and logIndex: 6 encountered the following error during processing: MismatchedABI(The event signature did not match the provided ABI). It has been discarded.\n",
      "  f\"The log with transaction hash: {log['transactionHash']} and \"\n",
      "/home/simone/.local/opt/miniconda3/envs/blockchain/lib/python3.7/site-packages/web3/contract.py:1154: UserWarning: The log with transaction hash: b'\\xa2\\x18#\\xa7K\\x9f\\x94\\x93J}#3m\\x94\\x15d\\xa9\\x9e\\xd8G\\xb9\\xc5\\xe1\\xcc\\x10\\x8aD\\xf2\\xef\\xf7(\\x9c' and logIndex: 41 encountered the following error during processing: MismatchedABI(The event signature did not match the provided ABI). It has been discarded.\n",
      "  f\"The log with transaction hash: {log['transactionHash']} and \"\n",
      "/home/simone/.local/opt/miniconda3/envs/blockchain/lib/python3.7/site-packages/web3/contract.py:1154: UserWarning: The log with transaction hash: b'\\xa2\\x18#\\xa7K\\x9f\\x94\\x93J}#3m\\x94\\x15d\\xa9\\x9e\\xd8G\\xb9\\xc5\\xe1\\xcc\\x10\\x8aD\\xf2\\xef\\xf7(\\x9c' and logIndex: 42 encountered the following error during processing: MismatchedABI(The event signature did not match the provided ABI). It has been discarded.\n",
      "  f\"The log with transaction hash: {log['transactionHash']} and \"\n",
      "/home/simone/.local/opt/miniconda3/envs/blockchain/lib/python3.7/site-packages/web3/contract.py:1154: UserWarning: The log with transaction hash: b'\\xa2\\x18#\\xa7K\\x9f\\x94\\x93J}#3m\\x94\\x15d\\xa9\\x9e\\xd8G\\xb9\\xc5\\xe1\\xcc\\x10\\x8aD\\xf2\\xef\\xf7(\\x9c' and logIndex: 43 encountered the following error during processing: MismatchedABI(The event signature did not match the provided ABI). It has been discarded.\n",
      "  f\"The log with transaction hash: {log['transactionHash']} and \"\n"
     ]
    }
   ],
   "source": [
    "sell_CST_logs = [] \n",
    "for event_data in all_sell_CST: \n",
    "        #print(event_data)\n",
    "        tx_hash = event_data['transactionHash'].hex()\n",
    "        receipt = web3.eth.getTransactionReceipt(tx_hash)\n",
    "        #events = ['Buy', 'Sell']\n",
    "        sell_CST_logs.append(web3_exchange_CST.events.Sell().processReceipt(receipt))"
   ]
  },
  {
   "cell_type": "code",
   "execution_count": 9,
   "metadata": {},
   "outputs": [],
   "source": [
    "FSS_sell_CST = []\n",
    "for i in range(0, len(sell_CST_logs)): \n",
    "    if(sell_CST_logs[i][0]['args']['buyer'] == '0x27C404d4D91156F7063E8dB9cC10970cfffF9a6C'): \n",
    "        FSS_sell_CST.append(sell_CST_logs[i][0])"
   ]
  },
  {
   "cell_type": "code",
   "execution_count": 10,
   "metadata": {},
   "outputs": [
    {
     "name": "stdout",
     "output_type": "stream",
     "text": [
      "0 1 21 26463436578707916419991\n",
      "1 1131 24987 26463436578707916419991\n",
      "2 1135122838944495000000 25125013239308462339100 26463436578707916419991\n"
     ]
    }
   ],
   "source": [
    "amount = 0\n",
    "i = 0\n",
    "while(amount < FSS_sell_CST[0]['args']['amount']): \n",
    "    amount += FSS_buy_CST[i]['args']['amount']\n",
    "    print(i, FSS_buy_CST[i]['args']['amount'], FSS_buy_CST[i]['args']['price'], FSS_sell_CST[0]['args']['price'] )\n",
    "    i += 1"
   ]
  },
  {
   "cell_type": "code",
   "execution_count": 11,
   "metadata": {},
   "outputs": [
    {
     "data": {
      "text/plain": [
       "True"
      ]
     },
     "execution_count": 11,
     "metadata": {},
     "output_type": "execute_result"
    }
   ],
   "source": [
    "amount == FSS_sell_CST[0]['args']['amount']"
   ]
  },
  {
   "cell_type": "code",
   "execution_count": 12,
   "metadata": {
    "scrolled": true
   },
   "outputs": [
    {
     "data": {
      "text/plain": [
       "Decimal('25125.0132393084623391')"
      ]
     },
     "execution_count": 12,
     "metadata": {},
     "output_type": "execute_result"
    }
   ],
   "source": [
    "web3.fromWei(25125013239308462339100, \"ether\") "
   ]
  },
  {
   "cell_type": "code",
   "execution_count": 13,
   "metadata": {},
   "outputs": [
    {
     "data": {
      "text/plain": [
       "AttributeDict({'buyer': '0x27C404d4D91156F7063E8dB9cC10970cfffF9a6C',\n",
       " 'amount': 0,\n",
       " 'price': 0})"
      ]
     },
     "execution_count": 13,
     "metadata": {},
     "output_type": "execute_result"
    }
   ],
   "source": [
    "FSS_sell_CST[2]['args']"
   ]
  },
  {
   "cell_type": "code",
   "execution_count": 14,
   "metadata": {},
   "outputs": [
    {
     "name": "stdout",
     "output_type": "stream",
     "text": [
      "3 109995104472240520000\n",
      "4 109995104472240520000\n",
      "5 109995104472240520000\n",
      "6 109995104472240520000\n",
      "7 109995104472240520000\n",
      "8 109995104472240520000\n",
      "9 109995104472240520000\n",
      "10 109995104472240520000\n",
      "11 109995104472240520000\n",
      "12 109995104472240520000\n",
      "13 53955312373498930000\n",
      "14 53955312373498930000\n",
      "15 53955312373498930000\n",
      "16 53955312373498930000\n",
      "17 53955312373498930000\n",
      "18 53955312373498930000\n",
      "19 53955312373498930000\n",
      "20 53955312373498930000\n",
      "21 53955312373498930000\n",
      "22 53955312373498930000\n"
     ]
    }
   ],
   "source": [
    "amount = 0\n",
    "while(amount < FSS_sell_CST[3]['args']['amount']): \n",
    "    amount += FSS_buy_CST[i]['args']['amount']\n",
    "    print(i, FSS_buy_CST[i]['args']['amount'])\n",
    "    i += 1"
   ]
  },
  {
   "cell_type": "code",
   "execution_count": 15,
   "metadata": {},
   "outputs": [
    {
     "data": {
      "text/plain": [
       "True"
      ]
     },
     "execution_count": 15,
     "metadata": {},
     "output_type": "execute_result"
    }
   ],
   "source": [
    "amount == FSS_sell_CST[3]['args']['amount']"
   ]
  },
  {
   "cell_type": "code",
   "execution_count": 16,
   "metadata": {},
   "outputs": [
    {
     "name": "stdout",
     "output_type": "stream",
     "text": [
      "2874409669285304827123 50886602479746919012100\n",
      "2874409669285304827123 50886602479746919012100\n",
      "2874409669285304827123 50886602479746919012100\n",
      "2874409669285304827123 50886602479746919012100\n",
      "2874409669285304827123 50886602479746919012100\n",
      "2874409669285304827123 50886602479746919012100\n",
      "2874409669285304827123 50886602479746919012100\n",
      "2874409669285304827123 50886602479746919012100\n",
      "2874409669285304827123 50886602479746919012100\n",
      "2874409669285304827123 50886602479746919012100\n"
     ]
    }
   ],
   "source": [
    "tokens = 0\n",
    "for i in range(3,13): \n",
    "    tokens += FSS_buy_CST[i]['args']['amount']\n",
    "    print(FSS_buy_CST[i]['args']['price'], FSS_sell_CST[3]['args']['price'] )"
   ]
  },
  {
   "cell_type": "code",
   "execution_count": 17,
   "metadata": {},
   "outputs": [
    {
     "data": {
      "text/plain": [
       "Decimal('2874.409669285304827123')"
      ]
     },
     "execution_count": 17,
     "metadata": {},
     "output_type": "execute_result"
    }
   ],
   "source": [
    "web3.fromWei(2874409669285304827123, \"ether\") "
   ]
  },
  {
   "cell_type": "code",
   "execution_count": 18,
   "metadata": {},
   "outputs": [
    {
     "name": "stdout",
     "output_type": "stream",
     "text": [
      "1479710413461991045528 50886602479746919012100\n",
      "1479710413461991045528 50886602479746919012100\n",
      "1479710413461991045528 50886602479746919012100\n",
      "1479710413461991045528 50886602479746919012100\n",
      "1479710413461991045528 50886602479746919012100\n",
      "1479710413461991045528 50886602479746919012100\n",
      "1479710413461991045528 50886602479746919012100\n",
      "1479710413461991045528 50886602479746919012100\n",
      "1479710413461991045528 50886602479746919012100\n",
      "1479710413461991045528 50886602479746919012100\n"
     ]
    }
   ],
   "source": [
    "tokens = 0\n",
    "for i in range(13, 23): \n",
    "    tokens += FSS_buy_CST[i]['args']['amount']\n",
    "    print(FSS_buy_CST[i]['args']['price'], FSS_sell_CST[3]['args']['price'])"
   ]
  },
  {
   "cell_type": "code",
   "execution_count": 19,
   "metadata": {},
   "outputs": [
    {
     "data": {
      "text/plain": [
       "Decimal('1479.710413461991045528')"
      ]
     },
     "execution_count": 19,
     "metadata": {},
     "output_type": "execute_result"
    }
   ],
   "source": [
    "web3.fromWei(1479710413461991045528, \"ether\") "
   ]
  },
  {
   "cell_type": "code",
   "execution_count": 20,
   "metadata": {},
   "outputs": [
    {
     "name": "stdout",
     "output_type": "stream",
     "text": [
      "AttributeDict({'buyer': '0x27C404d4D91156F7063E8dB9cC10970cfffF9a6C', 'amount': 50000000000000000000, 'price': 1837668000000000000000})\n"
     ]
    },
    {
     "data": {
      "text/plain": [
       "AttributeDict({'buyer': '0x27C404d4D91156F7063E8dB9cC10970cfffF9a6C',\n",
       " 'amount': 50000000000000000000,\n",
       " 'price': 1776939000000000000000})"
      ]
     },
     "execution_count": 20,
     "metadata": {},
     "output_type": "execute_result"
    }
   ],
   "source": [
    "print(FSS_buy_CST[23]['args'])\n",
    "FSS_sell_CST[7]['args']"
   ]
  },
  {
   "cell_type": "code",
   "execution_count": 21,
   "metadata": {},
   "outputs": [
    {
     "data": {
      "text/plain": [
       "Decimal('1776.939')"
      ]
     },
     "execution_count": 21,
     "metadata": {},
     "output_type": "execute_result"
    }
   ],
   "source": [
    "web3.fromWei(1776939000000000000000, \"ether\") "
   ]
  },
  {
   "cell_type": "code",
   "execution_count": 22,
   "metadata": {},
   "outputs": [
    {
     "name": "stdout",
     "output_type": "stream",
     "text": [
      "AttributeDict({'buyer': '0x27C404d4D91156F7063E8dB9cC10970cfffF9a6C', 'amount': 950000000000000000000, 'price': 30632142000000000000000})\n",
      "AttributeDict({'buyer': '0x27C404d4D91156F7063E8dB9cC10970cfffF9a6C', 'amount': 9000000000000000000, 'price': 290199240000000000000})\n"
     ]
    },
    {
     "data": {
      "text/plain": [
       "AttributeDict({'buyer': '0x27C404d4D91156F7063E8dB9cC10970cfffF9a6C',\n",
       " 'amount': 959000000000000000000,\n",
       " 'price': 30779757120000003828328})"
      ]
     },
     "execution_count": 22,
     "metadata": {},
     "output_type": "execute_result"
    }
   ],
   "source": [
    "print(FSS_buy_CST[24]['args'])\n",
    "print(FSS_buy_CST[25]['args'])\n",
    "FSS_sell_CST[8]['args']"
   ]
  },
  {
   "cell_type": "code",
   "execution_count": 23,
   "metadata": {},
   "outputs": [
    {
     "data": {
      "text/plain": [
       "Decimal('30779.757120000003828328')"
      ]
     },
     "execution_count": 23,
     "metadata": {},
     "output_type": "execute_result"
    }
   ],
   "source": [
    "web3.fromWei(30779757120000003828328, \"ether\") "
   ]
  },
  {
   "cell_type": "code",
   "execution_count": 24,
   "metadata": {},
   "outputs": [
    {
     "name": "stdout",
     "output_type": "stream",
     "text": [
      "26 1163153315293814063104 37178799939388413950243 75631775259113397487324\n",
      "27 580413504331613208576 18552221169754818276281 75631775259113397487324\n",
      "28 557081083926467248128 17806428350408813825713 75631775259113397487324\n"
     ]
    }
   ],
   "source": [
    "amount = 0\n",
    "i = 26\n",
    "while(amount < FSS_sell_CST[9]['args']['amount']): \n",
    "    amount += FSS_buy_CST[i]['args']['amount']\n",
    "    print(i, FSS_buy_CST[i]['args']['amount'], FSS_buy_CST[i]['args']['price'], FSS_sell_CST[9]['args']['price'] )\n",
    "    i += 1"
   ]
  },
  {
   "cell_type": "code",
   "execution_count": 25,
   "metadata": {},
   "outputs": [
    {
     "data": {
      "text/plain": [
       "Decimal('75631.775259113397487324')"
      ]
     },
     "execution_count": 25,
     "metadata": {},
     "output_type": "execute_result"
    }
   ],
   "source": [
    "web3.fromWei(75631775259113397487324, \"ether\") "
   ]
  },
  {
   "cell_type": "code",
   "execution_count": 26,
   "metadata": {},
   "outputs": [
    {
     "data": {
      "text/plain": [
       "741881914842747895808"
      ]
     },
     "execution_count": 26,
     "metadata": {},
     "output_type": "execute_result"
    }
   ],
   "source": [
    "FSS_buy_CST[29]['args']['amount']"
   ]
  },
  {
   "cell_type": "code",
   "execution_count": 27,
   "metadata": {},
   "outputs": [
    {
     "data": {
      "text/plain": [
       "Decimal('24479.031798683231585374')"
      ]
     },
     "execution_count": 27,
     "metadata": {},
     "output_type": "execute_result"
    }
   ],
   "source": [
    "web3.fromWei(24479031798683231585374, \"ether\") "
   ]
  },
  {
   "cell_type": "code",
   "execution_count": 5,
   "metadata": {},
   "outputs": [],
   "source": [
    "all_buys_AA = web3.eth.getLogs({'fromBlock': 0, 'toBlock': 'latest', 'address': exchange_AA.address, 'topics': [buy_sign]})\n",
    "all_sell_AA = web3.eth.getLogs({'fromBlock': 0, 'toBlock': 'latest', 'address': exchange_AA.address, 'topics': [sell_sign]})"
   ]
  },
  {
   "cell_type": "code",
   "execution_count": 6,
   "metadata": {
    "collapsed": true
   },
   "outputs": [
    {
     "name": "stderr",
     "output_type": "stream",
     "text": [
      "/home/simone/.local/opt/miniconda3/envs/blockchain/lib/python3.7/site-packages/web3/contract.py:1154: UserWarning: The log with transaction hash: b'\\xeaz\\x11\\xd4\\xe2 v\\n\\xebv\\xf4ZwG0d\\xc3\\xcf~*\\x8c\\x9c\\xbcR)\\xf7\\x16\\xa2\\xa5\\x1e\\xc8v' and logIndex: 5 encountered the following error during processing: MismatchedABI(The event signature did not match the provided ABI). It has been discarded.\n",
      "  f\"The log with transaction hash: {log['transactionHash']} and \"\n",
      "/home/simone/.local/opt/miniconda3/envs/blockchain/lib/python3.7/site-packages/web3/contract.py:1154: UserWarning: The log with transaction hash: b'\\xeaz\\x11\\xd4\\xe2 v\\n\\xebv\\xf4ZwG0d\\xc3\\xcf~*\\x8c\\x9c\\xbcR)\\xf7\\x16\\xa2\\xa5\\x1e\\xc8v' and logIndex: 6 encountered the following error during processing: MismatchedABI(The event signature did not match the provided ABI). It has been discarded.\n",
      "  f\"The log with transaction hash: {log['transactionHash']} and \"\n",
      "/home/simone/.local/opt/miniconda3/envs/blockchain/lib/python3.7/site-packages/web3/contract.py:1154: UserWarning: The log with transaction hash: b'\\xeaz\\x11\\xd4\\xe2 v\\n\\xebv\\xf4ZwG0d\\xc3\\xcf~*\\x8c\\x9c\\xbcR)\\xf7\\x16\\xa2\\xa5\\x1e\\xc8v' and logIndex: 7 encountered the following error during processing: MismatchedABI(The event signature did not match the provided ABI). It has been discarded.\n",
      "  f\"The log with transaction hash: {log['transactionHash']} and \"\n",
      "/home/simone/.local/opt/miniconda3/envs/blockchain/lib/python3.7/site-packages/web3/contract.py:1154: UserWarning: The log with transaction hash: b'\"\\xc3\\xdf\\x91h\\xc6\\x91\\xbd\\x9ao\\xc5\\xd1\\xf1\\xdd\\xaeD\\x08\\x1eM\\x02\\x0e\\xea\\xd5}\\xde\\nCjF\\xc0\\xd5\\x9a' and logIndex: 0 encountered the following error during processing: MismatchedABI(The event signature did not match the provided ABI). It has been discarded.\n",
      "  f\"The log with transaction hash: {log['transactionHash']} and \"\n",
      "/home/simone/.local/opt/miniconda3/envs/blockchain/lib/python3.7/site-packages/web3/contract.py:1154: UserWarning: The log with transaction hash: b'\"\\xc3\\xdf\\x91h\\xc6\\x91\\xbd\\x9ao\\xc5\\xd1\\xf1\\xdd\\xaeD\\x08\\x1eM\\x02\\x0e\\xea\\xd5}\\xde\\nCjF\\xc0\\xd5\\x9a' and logIndex: 1 encountered the following error during processing: MismatchedABI(The event signature did not match the provided ABI). It has been discarded.\n",
      "  f\"The log with transaction hash: {log['transactionHash']} and \"\n",
      "/home/simone/.local/opt/miniconda3/envs/blockchain/lib/python3.7/site-packages/web3/contract.py:1154: UserWarning: The log with transaction hash: b'\"\\xc3\\xdf\\x91h\\xc6\\x91\\xbd\\x9ao\\xc5\\xd1\\xf1\\xdd\\xaeD\\x08\\x1eM\\x02\\x0e\\xea\\xd5}\\xde\\nCjF\\xc0\\xd5\\x9a' and logIndex: 2 encountered the following error during processing: MismatchedABI(The event signature did not match the provided ABI). It has been discarded.\n",
      "  f\"The log with transaction hash: {log['transactionHash']} and \"\n",
      "/home/simone/.local/opt/miniconda3/envs/blockchain/lib/python3.7/site-packages/web3/contract.py:1154: UserWarning: The log with transaction hash: b'A\\xbc\\x87\\xe2|\\xd5l\\xcb\\xc5R\\xe19\\x15\\x18\\xd2\\xf1?h\\xf5!\\x8c5\\xfe%\\xc3\\x04\\xc9 \\r\\xaa\\xf3\\x13' and logIndex: 0 encountered the following error during processing: MismatchedABI(The event signature did not match the provided ABI). It has been discarded.\n",
      "  f\"The log with transaction hash: {log['transactionHash']} and \"\n",
      "/home/simone/.local/opt/miniconda3/envs/blockchain/lib/python3.7/site-packages/web3/contract.py:1154: UserWarning: The log with transaction hash: b'A\\xbc\\x87\\xe2|\\xd5l\\xcb\\xc5R\\xe19\\x15\\x18\\xd2\\xf1?h\\xf5!\\x8c5\\xfe%\\xc3\\x04\\xc9 \\r\\xaa\\xf3\\x13' and logIndex: 1 encountered the following error during processing: MismatchedABI(The event signature did not match the provided ABI). It has been discarded.\n",
      "  f\"The log with transaction hash: {log['transactionHash']} and \"\n",
      "/home/simone/.local/opt/miniconda3/envs/blockchain/lib/python3.7/site-packages/web3/contract.py:1154: UserWarning: The log with transaction hash: b'A\\xbc\\x87\\xe2|\\xd5l\\xcb\\xc5R\\xe19\\x15\\x18\\xd2\\xf1?h\\xf5!\\x8c5\\xfe%\\xc3\\x04\\xc9 \\r\\xaa\\xf3\\x13' and logIndex: 2 encountered the following error during processing: MismatchedABI(The event signature did not match the provided ABI). It has been discarded.\n",
      "  f\"The log with transaction hash: {log['transactionHash']} and \"\n",
      "/home/simone/.local/opt/miniconda3/envs/blockchain/lib/python3.7/site-packages/web3/contract.py:1154: UserWarning: The log with transaction hash: b'\\xa7\\x97=\\xdf\\xf2?\\x0c\\x8b\\xee\\x19\\xc2\\xdf\\xcc\\x9fo\\xf8\\x0f\\t\\x18\\x9cn\\xf4\\x98\\xb8\\xf9C\\x96\\xfc\\xf6\\xb9\\xdf/' and logIndex: 10 encountered the following error during processing: MismatchedABI(The event signature did not match the provided ABI). It has been discarded.\n",
      "  f\"The log with transaction hash: {log['transactionHash']} and \"\n",
      "/home/simone/.local/opt/miniconda3/envs/blockchain/lib/python3.7/site-packages/web3/contract.py:1154: UserWarning: The log with transaction hash: b'\\xa7\\x97=\\xdf\\xf2?\\x0c\\x8b\\xee\\x19\\xc2\\xdf\\xcc\\x9fo\\xf8\\x0f\\t\\x18\\x9cn\\xf4\\x98\\xb8\\xf9C\\x96\\xfc\\xf6\\xb9\\xdf/' and logIndex: 11 encountered the following error during processing: MismatchedABI(The event signature did not match the provided ABI). It has been discarded.\n",
      "  f\"The log with transaction hash: {log['transactionHash']} and \"\n",
      "/home/simone/.local/opt/miniconda3/envs/blockchain/lib/python3.7/site-packages/web3/contract.py:1154: UserWarning: The log with transaction hash: b'\\xa7\\x97=\\xdf\\xf2?\\x0c\\x8b\\xee\\x19\\xc2\\xdf\\xcc\\x9fo\\xf8\\x0f\\t\\x18\\x9cn\\xf4\\x98\\xb8\\xf9C\\x96\\xfc\\xf6\\xb9\\xdf/' and logIndex: 12 encountered the following error during processing: MismatchedABI(The event signature did not match the provided ABI). It has been discarded.\n",
      "  f\"The log with transaction hash: {log['transactionHash']} and \"\n",
      "/home/simone/.local/opt/miniconda3/envs/blockchain/lib/python3.7/site-packages/web3/contract.py:1154: UserWarning: The log with transaction hash: b'\\x7f\\xaeS\\xc3\\xc2\\xe4\\xaa2\\xec&\\xda\\xa5!\\xd8\\xdf\\x89\\x95\\xdb\\xec\\xee\\xe2O!\\x1f\\xc7Z\\xaa\\x064\\xfa\\x1d\\xd2' and logIndex: 2 encountered the following error during processing: MismatchedABI(The event signature did not match the provided ABI). It has been discarded.\n",
      "  f\"The log with transaction hash: {log['transactionHash']} and \"\n",
      "/home/simone/.local/opt/miniconda3/envs/blockchain/lib/python3.7/site-packages/web3/contract.py:1154: UserWarning: The log with transaction hash: b'\\x7f\\xaeS\\xc3\\xc2\\xe4\\xaa2\\xec&\\xda\\xa5!\\xd8\\xdf\\x89\\x95\\xdb\\xec\\xee\\xe2O!\\x1f\\xc7Z\\xaa\\x064\\xfa\\x1d\\xd2' and logIndex: 3 encountered the following error during processing: MismatchedABI(The event signature did not match the provided ABI). It has been discarded.\n",
      "  f\"The log with transaction hash: {log['transactionHash']} and \"\n",
      "/home/simone/.local/opt/miniconda3/envs/blockchain/lib/python3.7/site-packages/web3/contract.py:1154: UserWarning: The log with transaction hash: b'\\x7f\\xaeS\\xc3\\xc2\\xe4\\xaa2\\xec&\\xda\\xa5!\\xd8\\xdf\\x89\\x95\\xdb\\xec\\xee\\xe2O!\\x1f\\xc7Z\\xaa\\x064\\xfa\\x1d\\xd2' and logIndex: 4 encountered the following error during processing: MismatchedABI(The event signature did not match the provided ABI). It has been discarded.\n",
      "  f\"The log with transaction hash: {log['transactionHash']} and \"\n",
      "/home/simone/.local/opt/miniconda3/envs/blockchain/lib/python3.7/site-packages/web3/contract.py:1154: UserWarning: The log with transaction hash: b\"0\\xb5+\\x0bP\\xb7\\xfb\\xbb\\xca:p?'\\x1c\\x14\\xaa\\xf1\\t;P\\xbf\\xdd\\x81y\\xd7\\xfdl$\\x91\\xf8c\\xec\" and logIndex: 12 encountered the following error during processing: MismatchedABI(The event signature did not match the provided ABI). It has been discarded.\n",
      "  f\"The log with transaction hash: {log['transactionHash']} and \"\n",
      "/home/simone/.local/opt/miniconda3/envs/blockchain/lib/python3.7/site-packages/web3/contract.py:1154: UserWarning: The log with transaction hash: b\"0\\xb5+\\x0bP\\xb7\\xfb\\xbb\\xca:p?'\\x1c\\x14\\xaa\\xf1\\t;P\\xbf\\xdd\\x81y\\xd7\\xfdl$\\x91\\xf8c\\xec\" and logIndex: 13 encountered the following error during processing: MismatchedABI(The event signature did not match the provided ABI). It has been discarded.\n",
      "  f\"The log with transaction hash: {log['transactionHash']} and \"\n",
      "/home/simone/.local/opt/miniconda3/envs/blockchain/lib/python3.7/site-packages/web3/contract.py:1154: UserWarning: The log with transaction hash: b\"0\\xb5+\\x0bP\\xb7\\xfb\\xbb\\xca:p?'\\x1c\\x14\\xaa\\xf1\\t;P\\xbf\\xdd\\x81y\\xd7\\xfdl$\\x91\\xf8c\\xec\" and logIndex: 14 encountered the following error during processing: MismatchedABI(The event signature did not match the provided ABI). It has been discarded.\n",
      "  f\"The log with transaction hash: {log['transactionHash']} and \"\n",
      "/home/simone/.local/opt/miniconda3/envs/blockchain/lib/python3.7/site-packages/web3/contract.py:1154: UserWarning: The log with transaction hash: b'\\x87sbq\\xdc\\xe2D\\x8e\\xbe\\xa8\\xa6\\xdb\\xf0\\xc3\\x88\\xfa\\xda\\xe6#.\\xcd\\x9eT}4%\\x7f\\xc9\\xf2u\\x93\\xb3' and logIndex: 7 encountered the following error during processing: MismatchedABI(The event signature did not match the provided ABI). It has been discarded.\n",
      "  f\"The log with transaction hash: {log['transactionHash']} and \"\n",
      "/home/simone/.local/opt/miniconda3/envs/blockchain/lib/python3.7/site-packages/web3/contract.py:1154: UserWarning: The log with transaction hash: b'\\x87sbq\\xdc\\xe2D\\x8e\\xbe\\xa8\\xa6\\xdb\\xf0\\xc3\\x88\\xfa\\xda\\xe6#.\\xcd\\x9eT}4%\\x7f\\xc9\\xf2u\\x93\\xb3' and logIndex: 8 encountered the following error during processing: MismatchedABI(The event signature did not match the provided ABI). It has been discarded.\n",
      "  f\"The log with transaction hash: {log['transactionHash']} and \"\n",
      "/home/simone/.local/opt/miniconda3/envs/blockchain/lib/python3.7/site-packages/web3/contract.py:1154: UserWarning: The log with transaction hash: b'\\x87sbq\\xdc\\xe2D\\x8e\\xbe\\xa8\\xa6\\xdb\\xf0\\xc3\\x88\\xfa\\xda\\xe6#.\\xcd\\x9eT}4%\\x7f\\xc9\\xf2u\\x93\\xb3' and logIndex: 9 encountered the following error during processing: MismatchedABI(The event signature did not match the provided ABI). It has been discarded.\n",
      "  f\"The log with transaction hash: {log['transactionHash']} and \"\n"
     ]
    },
    {
     "name": "stderr",
     "output_type": "stream",
     "text": [
      "/home/simone/.local/opt/miniconda3/envs/blockchain/lib/python3.7/site-packages/web3/contract.py:1154: UserWarning: The log with transaction hash: b'\\xd31\\xfc\\xb7\\xeb\\x16^\\x82\\xf1\\xde\\xf2n\\xde9N5\\xfc\\xfa\\xe6\\t\\xf7\\x99\\xf8v\\xebYq\\x8b\\xe9\\x08\\xef\\xde' and logIndex: 39 encountered the following error during processing: MismatchedABI(The event signature did not match the provided ABI). It has been discarded.\n",
      "  f\"The log with transaction hash: {log['transactionHash']} and \"\n",
      "/home/simone/.local/opt/miniconda3/envs/blockchain/lib/python3.7/site-packages/web3/contract.py:1154: UserWarning: The log with transaction hash: b'\\xd31\\xfc\\xb7\\xeb\\x16^\\x82\\xf1\\xde\\xf2n\\xde9N5\\xfc\\xfa\\xe6\\t\\xf7\\x99\\xf8v\\xebYq\\x8b\\xe9\\x08\\xef\\xde' and logIndex: 40 encountered the following error during processing: MismatchedABI(The event signature did not match the provided ABI). It has been discarded.\n",
      "  f\"The log with transaction hash: {log['transactionHash']} and \"\n",
      "/home/simone/.local/opt/miniconda3/envs/blockchain/lib/python3.7/site-packages/web3/contract.py:1154: UserWarning: The log with transaction hash: b'\\xd31\\xfc\\xb7\\xeb\\x16^\\x82\\xf1\\xde\\xf2n\\xde9N5\\xfc\\xfa\\xe6\\t\\xf7\\x99\\xf8v\\xebYq\\x8b\\xe9\\x08\\xef\\xde' and logIndex: 41 encountered the following error during processing: MismatchedABI(The event signature did not match the provided ABI). It has been discarded.\n",
      "  f\"The log with transaction hash: {log['transactionHash']} and \"\n",
      "/home/simone/.local/opt/miniconda3/envs/blockchain/lib/python3.7/site-packages/web3/contract.py:1154: UserWarning: The log with transaction hash: b'\\xd7)dv\\x8e)%+\\xec\\xe6\\xc8\\xdaw\\x1c\\x95!\\x9a\\xb7\\x8c\\x85\\xa1g\\xf8\\xd5&\\x1aJ~\\xf3t3\\x10' and logIndex: 1 encountered the following error during processing: MismatchedABI(The event signature did not match the provided ABI). It has been discarded.\n",
      "  f\"The log with transaction hash: {log['transactionHash']} and \"\n",
      "/home/simone/.local/opt/miniconda3/envs/blockchain/lib/python3.7/site-packages/web3/contract.py:1154: UserWarning: The log with transaction hash: b'\\xd7)dv\\x8e)%+\\xec\\xe6\\xc8\\xdaw\\x1c\\x95!\\x9a\\xb7\\x8c\\x85\\xa1g\\xf8\\xd5&\\x1aJ~\\xf3t3\\x10' and logIndex: 2 encountered the following error during processing: MismatchedABI(The event signature did not match the provided ABI). It has been discarded.\n",
      "  f\"The log with transaction hash: {log['transactionHash']} and \"\n",
      "/home/simone/.local/opt/miniconda3/envs/blockchain/lib/python3.7/site-packages/web3/contract.py:1154: UserWarning: The log with transaction hash: b'\\xd7)dv\\x8e)%+\\xec\\xe6\\xc8\\xdaw\\x1c\\x95!\\x9a\\xb7\\x8c\\x85\\xa1g\\xf8\\xd5&\\x1aJ~\\xf3t3\\x10' and logIndex: 3 encountered the following error during processing: MismatchedABI(The event signature did not match the provided ABI). It has been discarded.\n",
      "  f\"The log with transaction hash: {log['transactionHash']} and \"\n",
      "/home/simone/.local/opt/miniconda3/envs/blockchain/lib/python3.7/site-packages/web3/contract.py:1154: UserWarning: The log with transaction hash: b'\\xec.\\xc7<hxw\\xfc\\xe5\\x19\\xd2\\xd7\\xb9\\xef\\x18\\xd1\\xb6m\\xa0B\\xabE\\xad\\xd5NT\\x1b\\xfb\\t\\x88S\\x1a' and logIndex: 22 encountered the following error during processing: MismatchedABI(The event signature did not match the provided ABI). It has been discarded.\n",
      "  f\"The log with transaction hash: {log['transactionHash']} and \"\n",
      "/home/simone/.local/opt/miniconda3/envs/blockchain/lib/python3.7/site-packages/web3/contract.py:1154: UserWarning: The log with transaction hash: b'\\xec.\\xc7<hxw\\xfc\\xe5\\x19\\xd2\\xd7\\xb9\\xef\\x18\\xd1\\xb6m\\xa0B\\xabE\\xad\\xd5NT\\x1b\\xfb\\t\\x88S\\x1a' and logIndex: 23 encountered the following error during processing: MismatchedABI(The event signature did not match the provided ABI). It has been discarded.\n",
      "  f\"The log with transaction hash: {log['transactionHash']} and \"\n",
      "/home/simone/.local/opt/miniconda3/envs/blockchain/lib/python3.7/site-packages/web3/contract.py:1154: UserWarning: The log with transaction hash: b'\\xec.\\xc7<hxw\\xfc\\xe5\\x19\\xd2\\xd7\\xb9\\xef\\x18\\xd1\\xb6m\\xa0B\\xabE\\xad\\xd5NT\\x1b\\xfb\\t\\x88S\\x1a' and logIndex: 24 encountered the following error during processing: MismatchedABI(The event signature did not match the provided ABI). It has been discarded.\n",
      "  f\"The log with transaction hash: {log['transactionHash']} and \"\n"
     ]
    }
   ],
   "source": [
    "buy_AA_logs = [] \n",
    "for event_data in all_buys_AA: \n",
    "        #print(event_data)\n",
    "        tx_hash = event_data['transactionHash'].hex()\n",
    "        receipt = web3.eth.getTransactionReceipt(tx_hash)\n",
    "        #events = ['Buy', 'Sell']\n",
    "        buy_AA_logs.append(web3_exchange_AA.events.Buy().processReceipt(receipt))"
   ]
  },
  {
   "cell_type": "code",
   "execution_count": 7,
   "metadata": {},
   "outputs": [],
   "source": [
    "FSS_buy_AA = []\n",
    "for i in range(0, len(buy_AA_logs)): \n",
    "    if(buy_AA_logs[i][0]['args']['buyer'] == '0x27C404d4D91156F7063E8dB9cC10970cfffF9a6C'): \n",
    "        FSS_buy_AA.append(buy_AA_logs[i][0])"
   ]
  },
  {
   "cell_type": "code",
   "execution_count": 8,
   "metadata": {
    "collapsed": true
   },
   "outputs": [
    {
     "name": "stderr",
     "output_type": "stream",
     "text": [
      "/home/simone/.local/opt/miniconda3/envs/blockchain/lib/python3.7/site-packages/web3/contract.py:1154: UserWarning: The log with transaction hash: b'\\xd1\\xaf5\\xf6T\\x99\\x8cSM\\xdc\\xcdD\\x1e\\xf5p,\\x97\\x87\\x12hz\\xf9\\x91\\xd4\\x03(\\x18\\xe4d\\xd1P\\x1b' and logIndex: 9 encountered the following error during processing: MismatchedABI(The event signature did not match the provided ABI). It has been discarded.\n",
      "  f\"The log with transaction hash: {log['transactionHash']} and \"\n",
      "/home/simone/.local/opt/miniconda3/envs/blockchain/lib/python3.7/site-packages/web3/contract.py:1154: UserWarning: The log with transaction hash: b'\\xd1\\xaf5\\xf6T\\x99\\x8cSM\\xdc\\xcdD\\x1e\\xf5p,\\x97\\x87\\x12hz\\xf9\\x91\\xd4\\x03(\\x18\\xe4d\\xd1P\\x1b' and logIndex: 10 encountered the following error during processing: MismatchedABI(The event signature did not match the provided ABI). It has been discarded.\n",
      "  f\"The log with transaction hash: {log['transactionHash']} and \"\n",
      "/home/simone/.local/opt/miniconda3/envs/blockchain/lib/python3.7/site-packages/web3/contract.py:1154: UserWarning: The log with transaction hash: b'\\xd1\\xaf5\\xf6T\\x99\\x8cSM\\xdc\\xcdD\\x1e\\xf5p,\\x97\\x87\\x12hz\\xf9\\x91\\xd4\\x03(\\x18\\xe4d\\xd1P\\x1b' and logIndex: 11 encountered the following error during processing: MismatchedABI(The event signature did not match the provided ABI). It has been discarded.\n",
      "  f\"The log with transaction hash: {log['transactionHash']} and \"\n",
      "/home/simone/.local/opt/miniconda3/envs/blockchain/lib/python3.7/site-packages/web3/contract.py:1154: UserWarning: The log with transaction hash: b'\\xd4(\\x8e\\x08m\\xd8\\xf09_L\\xac1\\x9a\\x83\\x14\\xc4\\xda\\xf1S^\\\\\\n\\xd1\\xf6\\xbd\\x07,\\xb5\\xa1\\x18\\x15G' and logIndex: 0 encountered the following error during processing: MismatchedABI(The event signature did not match the provided ABI). It has been discarded.\n",
      "  f\"The log with transaction hash: {log['transactionHash']} and \"\n",
      "/home/simone/.local/opt/miniconda3/envs/blockchain/lib/python3.7/site-packages/web3/contract.py:1154: UserWarning: The log with transaction hash: b'\\xd4(\\x8e\\x08m\\xd8\\xf09_L\\xac1\\x9a\\x83\\x14\\xc4\\xda\\xf1S^\\\\\\n\\xd1\\xf6\\xbd\\x07,\\xb5\\xa1\\x18\\x15G' and logIndex: 1 encountered the following error during processing: MismatchedABI(The event signature did not match the provided ABI). It has been discarded.\n",
      "  f\"The log with transaction hash: {log['transactionHash']} and \"\n",
      "/home/simone/.local/opt/miniconda3/envs/blockchain/lib/python3.7/site-packages/web3/contract.py:1154: UserWarning: The log with transaction hash: b'\\xd4(\\x8e\\x08m\\xd8\\xf09_L\\xac1\\x9a\\x83\\x14\\xc4\\xda\\xf1S^\\\\\\n\\xd1\\xf6\\xbd\\x07,\\xb5\\xa1\\x18\\x15G' and logIndex: 2 encountered the following error during processing: MismatchedABI(The event signature did not match the provided ABI). It has been discarded.\n",
      "  f\"The log with transaction hash: {log['transactionHash']} and \"\n",
      "/home/simone/.local/opt/miniconda3/envs/blockchain/lib/python3.7/site-packages/web3/contract.py:1154: UserWarning: The log with transaction hash: b'%:\\xb1,\\x0fu\\xf6\\xfa\\xdco\\xf0f\\xe9\\xb80\\xf1$\\x0epb\\xd9\\xe6\\x99\\xa5\\xdc\\xc54n \\xde#\\xe7' and logIndex: 1 encountered the following error during processing: MismatchedABI(The event signature did not match the provided ABI). It has been discarded.\n",
      "  f\"The log with transaction hash: {log['transactionHash']} and \"\n",
      "/home/simone/.local/opt/miniconda3/envs/blockchain/lib/python3.7/site-packages/web3/contract.py:1154: UserWarning: The log with transaction hash: b'%:\\xb1,\\x0fu\\xf6\\xfa\\xdco\\xf0f\\xe9\\xb80\\xf1$\\x0epb\\xd9\\xe6\\x99\\xa5\\xdc\\xc54n \\xde#\\xe7' and logIndex: 2 encountered the following error during processing: MismatchedABI(The event signature did not match the provided ABI). It has been discarded.\n",
      "  f\"The log with transaction hash: {log['transactionHash']} and \"\n",
      "/home/simone/.local/opt/miniconda3/envs/blockchain/lib/python3.7/site-packages/web3/contract.py:1154: UserWarning: The log with transaction hash: b'%:\\xb1,\\x0fu\\xf6\\xfa\\xdco\\xf0f\\xe9\\xb80\\xf1$\\x0epb\\xd9\\xe6\\x99\\xa5\\xdc\\xc54n \\xde#\\xe7' and logIndex: 3 encountered the following error during processing: MismatchedABI(The event signature did not match the provided ABI). It has been discarded.\n",
      "  f\"The log with transaction hash: {log['transactionHash']} and \"\n",
      "/home/simone/.local/opt/miniconda3/envs/blockchain/lib/python3.7/site-packages/web3/contract.py:1154: UserWarning: The log with transaction hash: b'\\x16F<\\x1fq\\xc9\\xfd\\xae\\x93T\\xf2\\x87\\xe0\\x9b\\xbc2\\xde\\x12\\xd1 \\x8ad8\\x94\\x92zJ|B\\xbeXO' and logIndex: 10 encountered the following error during processing: MismatchedABI(The event signature did not match the provided ABI). It has been discarded.\n",
      "  f\"The log with transaction hash: {log['transactionHash']} and \"\n",
      "/home/simone/.local/opt/miniconda3/envs/blockchain/lib/python3.7/site-packages/web3/contract.py:1154: UserWarning: The log with transaction hash: b'\\x16F<\\x1fq\\xc9\\xfd\\xae\\x93T\\xf2\\x87\\xe0\\x9b\\xbc2\\xde\\x12\\xd1 \\x8ad8\\x94\\x92zJ|B\\xbeXO' and logIndex: 11 encountered the following error during processing: MismatchedABI(The event signature did not match the provided ABI). It has been discarded.\n",
      "  f\"The log with transaction hash: {log['transactionHash']} and \"\n",
      "/home/simone/.local/opt/miniconda3/envs/blockchain/lib/python3.7/site-packages/web3/contract.py:1154: UserWarning: The log with transaction hash: b'\\x16F<\\x1fq\\xc9\\xfd\\xae\\x93T\\xf2\\x87\\xe0\\x9b\\xbc2\\xde\\x12\\xd1 \\x8ad8\\x94\\x92zJ|B\\xbeXO' and logIndex: 12 encountered the following error during processing: MismatchedABI(The event signature did not match the provided ABI). It has been discarded.\n",
      "  f\"The log with transaction hash: {log['transactionHash']} and \"\n",
      "/home/simone/.local/opt/miniconda3/envs/blockchain/lib/python3.7/site-packages/web3/contract.py:1154: UserWarning: The log with transaction hash: b'K\\x9b\\xcc\\xcf\\xa6D>\\xcdS\\x16uC\\x05K\\xc8\\xc9\\xcf\\x0c\\x15\\xd1Q\\x9f\\xc1nJ\\xd3\\x93J_\\xf3\\x03w' and logIndex: 83 encountered the following error during processing: MismatchedABI(The event signature did not match the provided ABI). It has been discarded.\n",
      "  f\"The log with transaction hash: {log['transactionHash']} and \"\n",
      "/home/simone/.local/opt/miniconda3/envs/blockchain/lib/python3.7/site-packages/web3/contract.py:1154: UserWarning: The log with transaction hash: b'K\\x9b\\xcc\\xcf\\xa6D>\\xcdS\\x16uC\\x05K\\xc8\\xc9\\xcf\\x0c\\x15\\xd1Q\\x9f\\xc1nJ\\xd3\\x93J_\\xf3\\x03w' and logIndex: 84 encountered the following error during processing: MismatchedABI(The event signature did not match the provided ABI). It has been discarded.\n",
      "  f\"The log with transaction hash: {log['transactionHash']} and \"\n",
      "/home/simone/.local/opt/miniconda3/envs/blockchain/lib/python3.7/site-packages/web3/contract.py:1154: UserWarning: The log with transaction hash: b'K\\x9b\\xcc\\xcf\\xa6D>\\xcdS\\x16uC\\x05K\\xc8\\xc9\\xcf\\x0c\\x15\\xd1Q\\x9f\\xc1nJ\\xd3\\x93J_\\xf3\\x03w' and logIndex: 85 encountered the following error during processing: MismatchedABI(The event signature did not match the provided ABI). It has been discarded.\n",
      "  f\"The log with transaction hash: {log['transactionHash']} and \"\n",
      "/home/simone/.local/opt/miniconda3/envs/blockchain/lib/python3.7/site-packages/web3/contract.py:1154: UserWarning: The log with transaction hash: b'R\\xc891\\x0f)K\\x91\\xdbj_\\x8bEt)fl\\xa6\\x1c\\xb0L\\xe8Sf8\\x0e\\x88\\x84\\x8fXN\\x8f' and logIndex: 10 encountered the following error during processing: MismatchedABI(The event signature did not match the provided ABI). It has been discarded.\n",
      "  f\"The log with transaction hash: {log['transactionHash']} and \"\n",
      "/home/simone/.local/opt/miniconda3/envs/blockchain/lib/python3.7/site-packages/web3/contract.py:1154: UserWarning: The log with transaction hash: b'R\\xc891\\x0f)K\\x91\\xdbj_\\x8bEt)fl\\xa6\\x1c\\xb0L\\xe8Sf8\\x0e\\x88\\x84\\x8fXN\\x8f' and logIndex: 11 encountered the following error during processing: MismatchedABI(The event signature did not match the provided ABI). It has been discarded.\n",
      "  f\"The log with transaction hash: {log['transactionHash']} and \"\n",
      "/home/simone/.local/opt/miniconda3/envs/blockchain/lib/python3.7/site-packages/web3/contract.py:1154: UserWarning: The log with transaction hash: b'R\\xc891\\x0f)K\\x91\\xdbj_\\x8bEt)fl\\xa6\\x1c\\xb0L\\xe8Sf8\\x0e\\x88\\x84\\x8fXN\\x8f' and logIndex: 12 encountered the following error during processing: MismatchedABI(The event signature did not match the provided ABI). It has been discarded.\n",
      "  f\"The log with transaction hash: {log['transactionHash']} and \"\n"
     ]
    },
    {
     "name": "stderr",
     "output_type": "stream",
     "text": [
      "/home/simone/.local/opt/miniconda3/envs/blockchain/lib/python3.7/site-packages/web3/contract.py:1154: UserWarning: The log with transaction hash: b'\\x82\\x19#\\x05S\\xc1;\\xb3^Z\\x87\\x0bl\\xbfdz\\xc2\\xd6\\xeb\\x85\\xdf\\x9f\\x00\\x91\\xd4\\x0bH\\xa6s@hX' and logIndex: 6 encountered the following error during processing: MismatchedABI(The event signature did not match the provided ABI). It has been discarded.\n",
      "  f\"The log with transaction hash: {log['transactionHash']} and \"\n",
      "/home/simone/.local/opt/miniconda3/envs/blockchain/lib/python3.7/site-packages/web3/contract.py:1154: UserWarning: The log with transaction hash: b'\\x82\\x19#\\x05S\\xc1;\\xb3^Z\\x87\\x0bl\\xbfdz\\xc2\\xd6\\xeb\\x85\\xdf\\x9f\\x00\\x91\\xd4\\x0bH\\xa6s@hX' and logIndex: 7 encountered the following error during processing: MismatchedABI(The event signature did not match the provided ABI). It has been discarded.\n",
      "  f\"The log with transaction hash: {log['transactionHash']} and \"\n",
      "/home/simone/.local/opt/miniconda3/envs/blockchain/lib/python3.7/site-packages/web3/contract.py:1154: UserWarning: The log with transaction hash: b'\\x82\\x19#\\x05S\\xc1;\\xb3^Z\\x87\\x0bl\\xbfdz\\xc2\\xd6\\xeb\\x85\\xdf\\x9f\\x00\\x91\\xd4\\x0bH\\xa6s@hX' and logIndex: 8 encountered the following error during processing: MismatchedABI(The event signature did not match the provided ABI). It has been discarded.\n",
      "  f\"The log with transaction hash: {log['transactionHash']} and \"\n",
      "/home/simone/.local/opt/miniconda3/envs/blockchain/lib/python3.7/site-packages/web3/contract.py:1154: UserWarning: The log with transaction hash: b'\\x86`e\\xd6s`]\\xd8\\x1bk|\\xb5!bm\\xb9,_E\\xf3wP\\xbbR\\x1c\\x9cl\\x8eF\\x89\\xa3\\xa1' and logIndex: 31 encountered the following error during processing: MismatchedABI(The event signature did not match the provided ABI). It has been discarded.\n",
      "  f\"The log with transaction hash: {log['transactionHash']} and \"\n",
      "/home/simone/.local/opt/miniconda3/envs/blockchain/lib/python3.7/site-packages/web3/contract.py:1154: UserWarning: The log with transaction hash: b'\\x86`e\\xd6s`]\\xd8\\x1bk|\\xb5!bm\\xb9,_E\\xf3wP\\xbbR\\x1c\\x9cl\\x8eF\\x89\\xa3\\xa1' and logIndex: 32 encountered the following error during processing: MismatchedABI(The event signature did not match the provided ABI). It has been discarded.\n",
      "  f\"The log with transaction hash: {log['transactionHash']} and \"\n",
      "/home/simone/.local/opt/miniconda3/envs/blockchain/lib/python3.7/site-packages/web3/contract.py:1154: UserWarning: The log with transaction hash: b'\\x86`e\\xd6s`]\\xd8\\x1bk|\\xb5!bm\\xb9,_E\\xf3wP\\xbbR\\x1c\\x9cl\\x8eF\\x89\\xa3\\xa1' and logIndex: 33 encountered the following error during processing: MismatchedABI(The event signature did not match the provided ABI). It has been discarded.\n",
      "  f\"The log with transaction hash: {log['transactionHash']} and \"\n",
      "/home/simone/.local/opt/miniconda3/envs/blockchain/lib/python3.7/site-packages/web3/contract.py:1154: UserWarning: The log with transaction hash: b'-\\xbd^\\xe7\\x08]\\xb8\\xc6\\xc8?\\xc8$\\xd1\\xfbA\\xa3\\xed\\x9b\\xf4Y\\\\G\\xae\\xbcr\\xe5\\x9dA\\xe4\\xaa\\x1e\\x9a' and logIndex: 46 encountered the following error during processing: MismatchedABI(The event signature did not match the provided ABI). It has been discarded.\n",
      "  f\"The log with transaction hash: {log['transactionHash']} and \"\n",
      "/home/simone/.local/opt/miniconda3/envs/blockchain/lib/python3.7/site-packages/web3/contract.py:1154: UserWarning: The log with transaction hash: b'-\\xbd^\\xe7\\x08]\\xb8\\xc6\\xc8?\\xc8$\\xd1\\xfbA\\xa3\\xed\\x9b\\xf4Y\\\\G\\xae\\xbcr\\xe5\\x9dA\\xe4\\xaa\\x1e\\x9a' and logIndex: 47 encountered the following error during processing: MismatchedABI(The event signature did not match the provided ABI). It has been discarded.\n",
      "  f\"The log with transaction hash: {log['transactionHash']} and \"\n",
      "/home/simone/.local/opt/miniconda3/envs/blockchain/lib/python3.7/site-packages/web3/contract.py:1154: UserWarning: The log with transaction hash: b'-\\xbd^\\xe7\\x08]\\xb8\\xc6\\xc8?\\xc8$\\xd1\\xfbA\\xa3\\xed\\x9b\\xf4Y\\\\G\\xae\\xbcr\\xe5\\x9dA\\xe4\\xaa\\x1e\\x9a' and logIndex: 48 encountered the following error during processing: MismatchedABI(The event signature did not match the provided ABI). It has been discarded.\n",
      "  f\"The log with transaction hash: {log['transactionHash']} and \"\n"
     ]
    }
   ],
   "source": [
    "sell_AA_logs = [] \n",
    "for event_data in all_sell_AA: \n",
    "        #print(event_data)\n",
    "        tx_hash = event_data['transactionHash'].hex()\n",
    "        receipt = web3.eth.getTransactionReceipt(tx_hash)\n",
    "        #events = ['Buy', 'Sell']\n",
    "        sell_AA_logs.append(web3_exchange_AA.events.Sell().processReceipt(receipt))"
   ]
  },
  {
   "cell_type": "code",
   "execution_count": 9,
   "metadata": {},
   "outputs": [],
   "source": [
    "FSS_sell_AA = []\n",
    "for i in range(0, len(sell_AA_logs)): \n",
    "    if(sell_AA_logs[i][0]['args']['buyer'] == '0x27C404d4D91156F7063E8dB9cC10970cfffF9a6C'): \n",
    "        FSS_sell_AA.append(sell_AA_logs[i][0])"
   ]
  },
  {
   "cell_type": "code",
   "execution_count": 12,
   "metadata": {},
   "outputs": [
    {
     "name": "stdout",
     "output_type": "stream",
     "text": [
      "0 3308874074362605000000 209000000000000000\n",
      "1 139464756689459199606784 230800000000000000\n",
      "2 74848079365459283017728 223290300000000000\n",
      "3 210405141523592957132800 233400000000000000\n"
     ]
    }
   ],
   "source": [
    "for i in range(0, len(FSS_buy_AA)): \n",
    "    print(i, FSS_buy_AA[i]['args']['amount'], FSS_buy_AA[i]['args']['price'])"
   ]
  },
  {
   "cell_type": "code",
   "execution_count": 13,
   "metadata": {},
   "outputs": [
    {
     "name": "stdout",
     "output_type": "stream",
     "text": [
      "0 3308874074362605000000 225867000000000000\n",
      "1 0 223308200000000000\n",
      "2 139464756689459199606784 231953800000000000\n",
      "3 74848079365459283017728 217054400000000000\n",
      "4 0 228340000000000000\n"
     ]
    }
   ],
   "source": [
    "for i in range(0, len(FSS_sell_AA)): \n",
    "    print(i, FSS_sell_AA[i]['args']['amount'], FSS_sell_AA[i]['args']['price'])"
   ]
  },
  {
   "cell_type": "code",
   "execution_count": null,
   "metadata": {},
   "outputs": [],
   "source": []
  }
 ],
 "metadata": {
  "kernelspec": {
   "display_name": "Python 3",
   "language": "python",
   "name": "python3"
  },
  "language_info": {
   "codemirror_mode": {
    "name": "ipython",
    "version": 3
   },
   "file_extension": ".py",
   "mimetype": "text/x-python",
   "name": "python",
   "nbconvert_exporter": "python",
   "pygments_lexer": "ipython3",
   "version": "3.7.7"
  }
 },
 "nbformat": 4,
 "nbformat_minor": 4
}
