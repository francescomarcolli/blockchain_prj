{
 "cells": [
  {
   "cell_type": "code",
   "execution_count": 1,
   "metadata": {},
   "outputs": [],
   "source": [
    "from brownie import web3, network, Wei, Contract, project\n",
    "from brownie.network.account import LocalAccount\n",
    "import json"
   ]
  },
  {
   "cell_type": "code",
   "execution_count": 2,
   "metadata": {},
   "outputs": [],
   "source": [
    "network_selected = \"ropsten\"\n",
    "network.connect(network_selected)\n",
    "\n",
    "# Loading the metamask accounts\n",
    "## Trading account\n",
    "fss_trading_private_key = \"faba88e53b6fac655f7e0b5cb900e0bc045e787eb850fdf17f458f0fb8607bde\"\n",
    "fss_trading_account = web3.eth.account.from_key(private_key=fss_trading_private_key)\n",
    "local_account_trading = LocalAccount(fss_trading_account.address, fss_trading_account, fss_trading_account.privateKey)\n",
    "## Admin account\n",
    "fss_admin_private_key = \"ede4dd8a3584fd7809a5e0bb299ff8f51983af5b1a9f1f506165b5c1f09e22b1\"\n",
    "fss_admin_account = web3.eth.account.from_key(private_key=fss_admin_private_key)\n",
    "local_account_admin = LocalAccount(fss_admin_account.address, fss_admin_account, fss_admin_account.privateKey)"
   ]
  },
  {
   "cell_type": "code",
   "execution_count": 9,
   "metadata": {},
   "outputs": [],
   "source": [
    "with open('../../../../../blockchain_course_unimi/challenge/teamCST/abi/Exchange.json') as json_file: \n",
    "    exchange_CST_abi = json.load(json_file)\n",
    "exchange_CST = Contract.from_abi('ExchangeCST', address='0xf6595CF80173Edf534469B15170370AbFF3FDdAb', abi=exchange_CST_abi)\n",
    "web3_exchange_CST = web3.eth.contract(abi=exchange_CST_abi, address='0xf6595CF80173Edf534469B15170370AbFF3FDdAb')\n",
    "\n",
    "with open('../../../../../blockchain_course_unimi/challenge/teamAA/abi/real/exchange.json') as json_file: \n",
    "    exchange_AA_abi = json.load(json_file)\n",
    "exchange_AA = Contract.from_abi('ExchangeAA', address='0xA4b9d6A91867EAB4dDa837344a34b524F3cCB678', abi=exchange_AA_abi)\n",
    "web3_exchange_AA = web3.eth.contract(abi=exchange_AA_abi, address='0xA4b9d6A91867EAB4dDa837344a34b524F3cCB678')\n",
    "\n",
    "with open('../../../abi/token_exchange.json') as json_file: \n",
    "    exchange_FSS_abi = json.load(json_file)\n",
    "exchange_FSS = Contract.from_abi('ExchangeFSS', address=\"0x99d07b3fA4C2046a43e3911AC5a5bC3B0115b110\", abi= exchange_FSS_abi)\n",
    "web3_exchange_FSS = web3.eth.contract(abi=exchange_FSS_abi, address='0x99d07b3fA4C2046a43e3911AC5a5bC3B0115b110')"
   ]
  },
  {
   "cell_type": "code",
   "execution_count": 56,
   "metadata": {},
   "outputs": [],
   "source": [
    "buy_sign = web3.keccak(text=\"Buy(address,uint256,uint256)\").hex()\n",
    "sell_sign = web3.keccak(text=\"Sell(address,uint256,uint256)\").hex()"
   ]
  },
  {
   "cell_type": "code",
   "execution_count": 61,
   "metadata": {
    "scrolled": true
   },
   "outputs": [],
   "source": [
    "all_buys_CST = web3.eth.getLogs({'fromBlock': 0, 'toBlock': 'latest', 'address': exchange_CST.address, 'topics': [buy_sign]})\n",
    "all_sell_CST = web3.eth.getLogs({'fromBlock': 0, 'toBlock': 'latest', 'address': exchange_CST.address, 'topics': [sell_sign]})"
   ]
  },
  {
   "cell_type": "code",
   "execution_count": 74,
   "metadata": {},
   "outputs": [],
   "source": [
    "buy_CST_logs = [] \n",
    "for event_data in all_buys_CST: \n",
    "        #print(event_data)\n",
    "        tx_hash = event_data['transactionHash'].hex()\n",
    "        receipt = web3.eth.getTransactionReceipt(tx_hash)\n",
    "        #events = ['Buy', 'Sell']\n",
    "        buy_CST_logs.append(web3_exchange_CST.events.Buy().processReceipt(receipt))"
   ]
  },
  {
   "cell_type": "code",
   "execution_count": 92,
   "metadata": {},
   "outputs": [],
   "source": [
    "FSS_buy_CST = []\n",
    "for i in range(0, len(buy_CST_logs)): \n",
    "    if(buy_CST_logs[i][0]['args']['buyer'] == '0x27C404d4D91156F7063E8dB9cC10970cfffF9a6C'): \n",
    "        FSS_buy_CST.append(buy_CST_logs[i][0])"
   ]
  },
  {
   "cell_type": "code",
   "execution_count": 95,
   "metadata": {
    "collapsed": true
   },
   "outputs": [
    {
     "name": "stderr",
     "output_type": "stream",
     "text": [
      "/home/simone/.local/opt/miniconda3/envs/blockchain/lib/python3.7/site-packages/web3/contract.py:1154: UserWarning: The log with transaction hash: b'PP\\xef\\xe7\\n\\xa3\\xce\\xee\\x0f\\x98\\xb1|\\xcfz\\xcau\\x8c~k\\xdey\\t\\x90`x\\x06a\\xeb\\x03G\\xd5\\xf7' and logIndex: 3 encountered the following error during processing: MismatchedABI(The event signature did not match the provided ABI). It has been discarded.\n",
      "  f\"The log with transaction hash: {log['transactionHash']} and \"\n",
      "/home/simone/.local/opt/miniconda3/envs/blockchain/lib/python3.7/site-packages/web3/contract.py:1154: UserWarning: The log with transaction hash: b'PP\\xef\\xe7\\n\\xa3\\xce\\xee\\x0f\\x98\\xb1|\\xcfz\\xcau\\x8c~k\\xdey\\t\\x90`x\\x06a\\xeb\\x03G\\xd5\\xf7' and logIndex: 4 encountered the following error during processing: MismatchedABI(The event signature did not match the provided ABI). It has been discarded.\n",
      "  f\"The log with transaction hash: {log['transactionHash']} and \"\n",
      "/home/simone/.local/opt/miniconda3/envs/blockchain/lib/python3.7/site-packages/web3/contract.py:1154: UserWarning: The log with transaction hash: b'PP\\xef\\xe7\\n\\xa3\\xce\\xee\\x0f\\x98\\xb1|\\xcfz\\xcau\\x8c~k\\xdey\\t\\x90`x\\x06a\\xeb\\x03G\\xd5\\xf7' and logIndex: 5 encountered the following error during processing: MismatchedABI(The event signature did not match the provided ABI). It has been discarded.\n",
      "  f\"The log with transaction hash: {log['transactionHash']} and \"\n",
      "/home/simone/.local/opt/miniconda3/envs/blockchain/lib/python3.7/site-packages/web3/contract.py:1154: UserWarning: The log with transaction hash: b'\\x0f\\x9be\\x1ck\\xb1\\xf2\\xd7\\xf9\\x0c\\x88\\xb3\\xd5\\xb8\\x8b\\xf9\\xcag\\xe2i3c\\xf3\\xec\\xce\\xef\\xe6\\x81N\\x00m\\xe8' and logIndex: 94 encountered the following error during processing: MismatchedABI(The event signature did not match the provided ABI). It has been discarded.\n",
      "  f\"The log with transaction hash: {log['transactionHash']} and \"\n",
      "/home/simone/.local/opt/miniconda3/envs/blockchain/lib/python3.7/site-packages/web3/contract.py:1154: UserWarning: The log with transaction hash: b'\\x0f\\x9be\\x1ck\\xb1\\xf2\\xd7\\xf9\\x0c\\x88\\xb3\\xd5\\xb8\\x8b\\xf9\\xcag\\xe2i3c\\xf3\\xec\\xce\\xef\\xe6\\x81N\\x00m\\xe8' and logIndex: 95 encountered the following error during processing: MismatchedABI(The event signature did not match the provided ABI). It has been discarded.\n",
      "  f\"The log with transaction hash: {log['transactionHash']} and \"\n",
      "/home/simone/.local/opt/miniconda3/envs/blockchain/lib/python3.7/site-packages/web3/contract.py:1154: UserWarning: The log with transaction hash: b'\\x0f\\x9be\\x1ck\\xb1\\xf2\\xd7\\xf9\\x0c\\x88\\xb3\\xd5\\xb8\\x8b\\xf9\\xcag\\xe2i3c\\xf3\\xec\\xce\\xef\\xe6\\x81N\\x00m\\xe8' and logIndex: 96 encountered the following error during processing: MismatchedABI(The event signature did not match the provided ABI). It has been discarded.\n",
      "  f\"The log with transaction hash: {log['transactionHash']} and \"\n",
      "/home/simone/.local/opt/miniconda3/envs/blockchain/lib/python3.7/site-packages/web3/contract.py:1154: UserWarning: The log with transaction hash: b'\\x84\\xb6P\\xe8\\xfb\\x13`\\x8c\\xd1)dH1\\xad\\xe7h\\xef\\xfa\\xc22\\x7f\\xcf\\xb2\\x89\\xa8:\\xdaA>t\\x9db' and logIndex: 0 encountered the following error during processing: MismatchedABI(The event signature did not match the provided ABI). It has been discarded.\n",
      "  f\"The log with transaction hash: {log['transactionHash']} and \"\n",
      "/home/simone/.local/opt/miniconda3/envs/blockchain/lib/python3.7/site-packages/web3/contract.py:1154: UserWarning: The log with transaction hash: b'\\x84\\xb6P\\xe8\\xfb\\x13`\\x8c\\xd1)dH1\\xad\\xe7h\\xef\\xfa\\xc22\\x7f\\xcf\\xb2\\x89\\xa8:\\xdaA>t\\x9db' and logIndex: 1 encountered the following error during processing: MismatchedABI(The event signature did not match the provided ABI). It has been discarded.\n",
      "  f\"The log with transaction hash: {log['transactionHash']} and \"\n",
      "/home/simone/.local/opt/miniconda3/envs/blockchain/lib/python3.7/site-packages/web3/contract.py:1154: UserWarning: The log with transaction hash: b'\\x84\\xb6P\\xe8\\xfb\\x13`\\x8c\\xd1)dH1\\xad\\xe7h\\xef\\xfa\\xc22\\x7f\\xcf\\xb2\\x89\\xa8:\\xdaA>t\\x9db' and logIndex: 2 encountered the following error during processing: MismatchedABI(The event signature did not match the provided ABI). It has been discarded.\n",
      "  f\"The log with transaction hash: {log['transactionHash']} and \"\n",
      "/home/simone/.local/opt/miniconda3/envs/blockchain/lib/python3.7/site-packages/web3/contract.py:1154: UserWarning: The log with transaction hash: b'\\x0c\\x9a\\xccC\\xa9\\xd9\\x08i\\xc3\\x05G\\x158\\x99\\xe8\\xda\\x86\\xe9DZ\\xeb\\x14r\\x00\\x9f5\\x98\\xe0\\x8f\\x17\\xa2\\xde' and logIndex: 10 encountered the following error during processing: MismatchedABI(The event signature did not match the provided ABI). It has been discarded.\n",
      "  f\"The log with transaction hash: {log['transactionHash']} and \"\n",
      "/home/simone/.local/opt/miniconda3/envs/blockchain/lib/python3.7/site-packages/web3/contract.py:1154: UserWarning: The log with transaction hash: b'\\x0c\\x9a\\xccC\\xa9\\xd9\\x08i\\xc3\\x05G\\x158\\x99\\xe8\\xda\\x86\\xe9DZ\\xeb\\x14r\\x00\\x9f5\\x98\\xe0\\x8f\\x17\\xa2\\xde' and logIndex: 11 encountered the following error during processing: MismatchedABI(The event signature did not match the provided ABI). It has been discarded.\n",
      "  f\"The log with transaction hash: {log['transactionHash']} and \"\n",
      "/home/simone/.local/opt/miniconda3/envs/blockchain/lib/python3.7/site-packages/web3/contract.py:1154: UserWarning: The log with transaction hash: b'\\x0c\\x9a\\xccC\\xa9\\xd9\\x08i\\xc3\\x05G\\x158\\x99\\xe8\\xda\\x86\\xe9DZ\\xeb\\x14r\\x00\\x9f5\\x98\\xe0\\x8f\\x17\\xa2\\xde' and logIndex: 12 encountered the following error during processing: MismatchedABI(The event signature did not match the provided ABI). It has been discarded.\n",
      "  f\"The log with transaction hash: {log['transactionHash']} and \"\n",
      "/home/simone/.local/opt/miniconda3/envs/blockchain/lib/python3.7/site-packages/web3/contract.py:1154: UserWarning: The log with transaction hash: b'\\x04\\x0e\\x03l)\\x18\\xbe\\ttm\\x1e\\x9a$>Rh7}\\xf6N\\x0f\\xe5\\xf98\\xda\\xc0\\x8fT9kw$' and logIndex: 1 encountered the following error during processing: MismatchedABI(The event signature did not match the provided ABI). It has been discarded.\n",
      "  f\"The log with transaction hash: {log['transactionHash']} and \"\n",
      "/home/simone/.local/opt/miniconda3/envs/blockchain/lib/python3.7/site-packages/web3/contract.py:1154: UserWarning: The log with transaction hash: b'\\x04\\x0e\\x03l)\\x18\\xbe\\ttm\\x1e\\x9a$>Rh7}\\xf6N\\x0f\\xe5\\xf98\\xda\\xc0\\x8fT9kw$' and logIndex: 2 encountered the following error during processing: MismatchedABI(The event signature did not match the provided ABI). It has been discarded.\n",
      "  f\"The log with transaction hash: {log['transactionHash']} and \"\n",
      "/home/simone/.local/opt/miniconda3/envs/blockchain/lib/python3.7/site-packages/web3/contract.py:1154: UserWarning: The log with transaction hash: b'\\x04\\x0e\\x03l)\\x18\\xbe\\ttm\\x1e\\x9a$>Rh7}\\xf6N\\x0f\\xe5\\xf98\\xda\\xc0\\x8fT9kw$' and logIndex: 3 encountered the following error during processing: MismatchedABI(The event signature did not match the provided ABI). It has been discarded.\n",
      "  f\"The log with transaction hash: {log['transactionHash']} and \"\n",
      "/home/simone/.local/opt/miniconda3/envs/blockchain/lib/python3.7/site-packages/web3/contract.py:1154: UserWarning: The log with transaction hash: b'3\\xea\\xfb\\x01\\x00\\xf6L\\x9dU\\x89\\xaf\\t\\xd3[\\xa5\\xd9I^\\xc7+\\xb7UNZ\\xecm\\x07\\xaaD\\xb8\\x11\\xed' and logIndex: 2 encountered the following error during processing: MismatchedABI(The event signature did not match the provided ABI). It has been discarded.\n",
      "  f\"The log with transaction hash: {log['transactionHash']} and \"\n",
      "/home/simone/.local/opt/miniconda3/envs/blockchain/lib/python3.7/site-packages/web3/contract.py:1154: UserWarning: The log with transaction hash: b'3\\xea\\xfb\\x01\\x00\\xf6L\\x9dU\\x89\\xaf\\t\\xd3[\\xa5\\xd9I^\\xc7+\\xb7UNZ\\xecm\\x07\\xaaD\\xb8\\x11\\xed' and logIndex: 3 encountered the following error during processing: MismatchedABI(The event signature did not match the provided ABI). It has been discarded.\n",
      "  f\"The log with transaction hash: {log['transactionHash']} and \"\n",
      "/home/simone/.local/opt/miniconda3/envs/blockchain/lib/python3.7/site-packages/web3/contract.py:1154: UserWarning: The log with transaction hash: b'3\\xea\\xfb\\x01\\x00\\xf6L\\x9dU\\x89\\xaf\\t\\xd3[\\xa5\\xd9I^\\xc7+\\xb7UNZ\\xecm\\x07\\xaaD\\xb8\\x11\\xed' and logIndex: 4 encountered the following error during processing: MismatchedABI(The event signature did not match the provided ABI). It has been discarded.\n",
      "  f\"The log with transaction hash: {log['transactionHash']} and \"\n",
      "/home/simone/.local/opt/miniconda3/envs/blockchain/lib/python3.7/site-packages/web3/contract.py:1154: UserWarning: The log with transaction hash: b'\\xd8Z\\xea4I1U&\\xa06%\\xc8qg\\x1f\\xf8\\xacU\\xeami\\x9c\\xa6\\x84\\xc1\\xe3\\xe2\\xfd\\xech\\x05&' and logIndex: 0 encountered the following error during processing: MismatchedABI(The event signature did not match the provided ABI). It has been discarded.\n",
      "  f\"The log with transaction hash: {log['transactionHash']} and \"\n",
      "/home/simone/.local/opt/miniconda3/envs/blockchain/lib/python3.7/site-packages/web3/contract.py:1154: UserWarning: The log with transaction hash: b'\\xd8Z\\xea4I1U&\\xa06%\\xc8qg\\x1f\\xf8\\xacU\\xeami\\x9c\\xa6\\x84\\xc1\\xe3\\xe2\\xfd\\xech\\x05&' and logIndex: 1 encountered the following error during processing: MismatchedABI(The event signature did not match the provided ABI). It has been discarded.\n",
      "  f\"The log with transaction hash: {log['transactionHash']} and \"\n",
      "/home/simone/.local/opt/miniconda3/envs/blockchain/lib/python3.7/site-packages/web3/contract.py:1154: UserWarning: The log with transaction hash: b'\\xd8Z\\xea4I1U&\\xa06%\\xc8qg\\x1f\\xf8\\xacU\\xeami\\x9c\\xa6\\x84\\xc1\\xe3\\xe2\\xfd\\xech\\x05&' and logIndex: 2 encountered the following error during processing: MismatchedABI(The event signature did not match the provided ABI). It has been discarded.\n",
      "  f\"The log with transaction hash: {log['transactionHash']} and \"\n"
     ]
    },
    {
     "name": "stderr",
     "output_type": "stream",
     "text": [
      "/home/simone/.local/opt/miniconda3/envs/blockchain/lib/python3.7/site-packages/web3/contract.py:1154: UserWarning: The log with transaction hash: b'\\xc2a\\xc0 \\x89\\xee8%S\\xba\\x01\\x87hD\\x94lM\\xec!\\xa35WlY\\xbd\\x90\\xeb\\xc2I\\xa5\\x17@' and logIndex: 50 encountered the following error during processing: MismatchedABI(The event signature did not match the provided ABI). It has been discarded.\n",
      "  f\"The log with transaction hash: {log['transactionHash']} and \"\n",
      "/home/simone/.local/opt/miniconda3/envs/blockchain/lib/python3.7/site-packages/web3/contract.py:1154: UserWarning: The log with transaction hash: b'\\xc2a\\xc0 \\x89\\xee8%S\\xba\\x01\\x87hD\\x94lM\\xec!\\xa35WlY\\xbd\\x90\\xeb\\xc2I\\xa5\\x17@' and logIndex: 51 encountered the following error during processing: MismatchedABI(The event signature did not match the provided ABI). It has been discarded.\n",
      "  f\"The log with transaction hash: {log['transactionHash']} and \"\n",
      "/home/simone/.local/opt/miniconda3/envs/blockchain/lib/python3.7/site-packages/web3/contract.py:1154: UserWarning: The log with transaction hash: b'\\xc2a\\xc0 \\x89\\xee8%S\\xba\\x01\\x87hD\\x94lM\\xec!\\xa35WlY\\xbd\\x90\\xeb\\xc2I\\xa5\\x17@' and logIndex: 52 encountered the following error during processing: MismatchedABI(The event signature did not match the provided ABI). It has been discarded.\n",
      "  f\"The log with transaction hash: {log['transactionHash']} and \"\n",
      "/home/simone/.local/opt/miniconda3/envs/blockchain/lib/python3.7/site-packages/web3/contract.py:1154: UserWarning: The log with transaction hash: b'p\\'\\xdd\\t\\xc9\\x8e\\x85\\xff\\xd42\\x86V\\xb0\"%\\xda\\xb8 -@IqF\\x08\\xc8[\\n\\x8b\\xb7\\xe5\\xa7\\xf4' and logIndex: 4 encountered the following error during processing: MismatchedABI(The event signature did not match the provided ABI). It has been discarded.\n",
      "  f\"The log with transaction hash: {log['transactionHash']} and \"\n",
      "/home/simone/.local/opt/miniconda3/envs/blockchain/lib/python3.7/site-packages/web3/contract.py:1154: UserWarning: The log with transaction hash: b'p\\'\\xdd\\t\\xc9\\x8e\\x85\\xff\\xd42\\x86V\\xb0\"%\\xda\\xb8 -@IqF\\x08\\xc8[\\n\\x8b\\xb7\\xe5\\xa7\\xf4' and logIndex: 5 encountered the following error during processing: MismatchedABI(The event signature did not match the provided ABI). It has been discarded.\n",
      "  f\"The log with transaction hash: {log['transactionHash']} and \"\n",
      "/home/simone/.local/opt/miniconda3/envs/blockchain/lib/python3.7/site-packages/web3/contract.py:1154: UserWarning: The log with transaction hash: b'p\\'\\xdd\\t\\xc9\\x8e\\x85\\xff\\xd42\\x86V\\xb0\"%\\xda\\xb8 -@IqF\\x08\\xc8[\\n\\x8b\\xb7\\xe5\\xa7\\xf4' and logIndex: 6 encountered the following error during processing: MismatchedABI(The event signature did not match the provided ABI). It has been discarded.\n",
      "  f\"The log with transaction hash: {log['transactionHash']} and \"\n",
      "/home/simone/.local/opt/miniconda3/envs/blockchain/lib/python3.7/site-packages/web3/contract.py:1154: UserWarning: The log with transaction hash: b'\\xa2\\x18#\\xa7K\\x9f\\x94\\x93J}#3m\\x94\\x15d\\xa9\\x9e\\xd8G\\xb9\\xc5\\xe1\\xcc\\x10\\x8aD\\xf2\\xef\\xf7(\\x9c' and logIndex: 41 encountered the following error during processing: MismatchedABI(The event signature did not match the provided ABI). It has been discarded.\n",
      "  f\"The log with transaction hash: {log['transactionHash']} and \"\n",
      "/home/simone/.local/opt/miniconda3/envs/blockchain/lib/python3.7/site-packages/web3/contract.py:1154: UserWarning: The log with transaction hash: b'\\xa2\\x18#\\xa7K\\x9f\\x94\\x93J}#3m\\x94\\x15d\\xa9\\x9e\\xd8G\\xb9\\xc5\\xe1\\xcc\\x10\\x8aD\\xf2\\xef\\xf7(\\x9c' and logIndex: 42 encountered the following error during processing: MismatchedABI(The event signature did not match the provided ABI). It has been discarded.\n",
      "  f\"The log with transaction hash: {log['transactionHash']} and \"\n",
      "/home/simone/.local/opt/miniconda3/envs/blockchain/lib/python3.7/site-packages/web3/contract.py:1154: UserWarning: The log with transaction hash: b'\\xa2\\x18#\\xa7K\\x9f\\x94\\x93J}#3m\\x94\\x15d\\xa9\\x9e\\xd8G\\xb9\\xc5\\xe1\\xcc\\x10\\x8aD\\xf2\\xef\\xf7(\\x9c' and logIndex: 43 encountered the following error during processing: MismatchedABI(The event signature did not match the provided ABI). It has been discarded.\n",
      "  f\"The log with transaction hash: {log['transactionHash']} and \"\n"
     ]
    }
   ],
   "source": [
    "sell_CST_logs = [] \n",
    "for event_data in all_sell_CST: \n",
    "        #print(event_data)\n",
    "        tx_hash = event_data['transactionHash'].hex()\n",
    "        receipt = web3.eth.getTransactionReceipt(tx_hash)\n",
    "        #events = ['Buy', 'Sell']\n",
    "        sell_CST_logs.append(web3_exchange_CST.events.Sell().processReceipt(receipt))"
   ]
  },
  {
   "cell_type": "code",
   "execution_count": 99,
   "metadata": {},
   "outputs": [],
   "source": [
    "FSS_sell_CST = []\n",
    "for i in range(0, len(sell_CST_logs)): \n",
    "    if(sell_CST_logs[i][0]['args']['buyer'] == '0x27C404d4D91156F7063E8dB9cC10970cfffF9a6C'): \n",
    "        FSS_sell_CST.append(sell_CST_logs[i][0])"
   ]
  },
  {
   "cell_type": "code",
   "execution_count": 189,
   "metadata": {},
   "outputs": [
    {
     "name": "stdout",
     "output_type": "stream",
     "text": [
      "0 1 21 26463436578707916419991\n",
      "1 1131 24987 26463436578707916419991\n",
      "2 1135122838944495000000 25125013239308462339100 26463436578707916419991\n"
     ]
    }
   ],
   "source": [
    "amount = 0\n",
    "i = 0\n",
    "while(amount < FSS_sell_CST[0]['args']['amount']): \n",
    "    amount += FSS_buy_CST[i]['args']['amount']\n",
    "    print(i, FSS_buy_CST[i]['args']['amount'], FSS_buy_CST[i]['args']['price'], FSS_sell_CST[0]['args']['price'] )\n",
    "    i += 1"
   ]
  },
  {
   "cell_type": "code",
   "execution_count": 190,
   "metadata": {},
   "outputs": [
    {
     "data": {
      "text/plain": [
       "True"
      ]
     },
     "execution_count": 190,
     "metadata": {},
     "output_type": "execute_result"
    }
   ],
   "source": [
    "amount == FSS_sell_CST[0]['args']['amount']"
   ]
  },
  {
   "cell_type": "code",
   "execution_count": 202,
   "metadata": {
    "scrolled": true
   },
   "outputs": [
    {
     "data": {
      "text/plain": [
       "Decimal('25125.0132393084623391')"
      ]
     },
     "execution_count": 202,
     "metadata": {},
     "output_type": "execute_result"
    }
   ],
   "source": [
    "web3.fromWei(25125013239308462339100, \"ether\") "
   ]
  },
  {
   "cell_type": "code",
   "execution_count": 204,
   "metadata": {},
   "outputs": [
    {
     "data": {
      "text/plain": [
       "AttributeDict({'buyer': '0x27C404d4D91156F7063E8dB9cC10970cfffF9a6C',\n",
       " 'amount': 0,\n",
       " 'price': 0})"
      ]
     },
     "execution_count": 204,
     "metadata": {},
     "output_type": "execute_result"
    }
   ],
   "source": [
    "FSS_sell_CST[2]['args']"
   ]
  },
  {
   "cell_type": "code",
   "execution_count": 205,
   "metadata": {},
   "outputs": [
    {
     "name": "stdout",
     "output_type": "stream",
     "text": [
      "3 109995104472240520000\n",
      "4 109995104472240520000\n",
      "5 109995104472240520000\n",
      "6 109995104472240520000\n",
      "7 109995104472240520000\n",
      "8 109995104472240520000\n",
      "9 109995104472240520000\n",
      "10 109995104472240520000\n",
      "11 109995104472240520000\n",
      "12 109995104472240520000\n",
      "13 53955312373498930000\n",
      "14 53955312373498930000\n",
      "15 53955312373498930000\n",
      "16 53955312373498930000\n",
      "17 53955312373498930000\n",
      "18 53955312373498930000\n",
      "19 53955312373498930000\n",
      "20 53955312373498930000\n",
      "21 53955312373498930000\n",
      "22 53955312373498930000\n"
     ]
    }
   ],
   "source": [
    "amount = 0\n",
    "while(amount < FSS_sell_CST[3]['args']['amount']): \n",
    "    amount += FSS_buy_CST[i]['args']['amount']\n",
    "    print(i, FSS_buy_CST[i]['args']['amount'])\n",
    "    i += 1"
   ]
  },
  {
   "cell_type": "code",
   "execution_count": 206,
   "metadata": {},
   "outputs": [
    {
     "data": {
      "text/plain": [
       "True"
      ]
     },
     "execution_count": 206,
     "metadata": {},
     "output_type": "execute_result"
    }
   ],
   "source": [
    "amount == FSS_sell_CST[3]['args']['amount']"
   ]
  },
  {
   "cell_type": "code",
   "execution_count": 208,
   "metadata": {},
   "outputs": [
    {
     "name": "stdout",
     "output_type": "stream",
     "text": [
      "2874409669285304827123 50886602479746919012100\n",
      "2874409669285304827123 50886602479746919012100\n",
      "2874409669285304827123 50886602479746919012100\n",
      "2874409669285304827123 50886602479746919012100\n",
      "2874409669285304827123 50886602479746919012100\n",
      "2874409669285304827123 50886602479746919012100\n",
      "2874409669285304827123 50886602479746919012100\n",
      "2874409669285304827123 50886602479746919012100\n",
      "2874409669285304827123 50886602479746919012100\n",
      "2874409669285304827123 50886602479746919012100\n"
     ]
    }
   ],
   "source": [
    "tokens = 0\n",
    "for i in range(3,13): \n",
    "    tokens += FSS_buy_CST[i]['args']['amount']\n",
    "    print(FSS_buy_CST[i]['args']['price'], FSS_sell_CST[3]['args']['price'] )"
   ]
  },
  {
   "cell_type": "code",
   "execution_count": 213,
   "metadata": {},
   "outputs": [
    {
     "data": {
      "text/plain": [
       "Decimal('2874.409669285304827123')"
      ]
     },
     "execution_count": 213,
     "metadata": {},
     "output_type": "execute_result"
    }
   ],
   "source": [
    "web3.fromWei(2874409669285304827123, \"ether\") "
   ]
  },
  {
   "cell_type": "code",
   "execution_count": 214,
   "metadata": {},
   "outputs": [
    {
     "name": "stdout",
     "output_type": "stream",
     "text": [
      "1479710413461991045528 50886602479746919012100\n",
      "1479710413461991045528 50886602479746919012100\n",
      "1479710413461991045528 50886602479746919012100\n",
      "1479710413461991045528 50886602479746919012100\n",
      "1479710413461991045528 50886602479746919012100\n",
      "1479710413461991045528 50886602479746919012100\n",
      "1479710413461991045528 50886602479746919012100\n",
      "1479710413461991045528 50886602479746919012100\n",
      "1479710413461991045528 50886602479746919012100\n",
      "1479710413461991045528 50886602479746919012100\n"
     ]
    }
   ],
   "source": [
    "tokens = 0\n",
    "for i in range(13, 23): \n",
    "    tokens += FSS_buy_CST[i]['args']['amount']\n",
    "    print(FSS_buy_CST[i]['args']['price'], FSS_sell_CST[3]['args']['price'])"
   ]
  },
  {
   "cell_type": "code",
   "execution_count": 216,
   "metadata": {},
   "outputs": [
    {
     "data": {
      "text/plain": [
       "Decimal('1479.710413461991045528')"
      ]
     },
     "execution_count": 216,
     "metadata": {},
     "output_type": "execute_result"
    }
   ],
   "source": [
    "web3.fromWei(1479710413461991045528, \"ether\") "
   ]
  },
  {
   "cell_type": "code",
   "execution_count": 220,
   "metadata": {},
   "outputs": [
    {
     "name": "stdout",
     "output_type": "stream",
     "text": [
      "AttributeDict({'buyer': '0x27C404d4D91156F7063E8dB9cC10970cfffF9a6C', 'amount': 50000000000000000000, 'price': 1837668000000000000000})\n"
     ]
    },
    {
     "data": {
      "text/plain": [
       "AttributeDict({'buyer': '0x27C404d4D91156F7063E8dB9cC10970cfffF9a6C',\n",
       " 'amount': 50000000000000000000,\n",
       " 'price': 1776939000000000000000})"
      ]
     },
     "execution_count": 220,
     "metadata": {},
     "output_type": "execute_result"
    }
   ],
   "source": [
    "print(FSS_buy_CST[23]['args'])\n",
    "FSS_sell_CST[7]['args']"
   ]
  },
  {
   "cell_type": "code",
   "execution_count": 223,
   "metadata": {},
   "outputs": [
    {
     "data": {
      "text/plain": [
       "Decimal('1776.939')"
      ]
     },
     "execution_count": 223,
     "metadata": {},
     "output_type": "execute_result"
    }
   ],
   "source": [
    "web3.fromWei(1776939000000000000000, \"ether\") "
   ]
  },
  {
   "cell_type": "code",
   "execution_count": 224,
   "metadata": {},
   "outputs": [
    {
     "name": "stdout",
     "output_type": "stream",
     "text": [
      "AttributeDict({'buyer': '0x27C404d4D91156F7063E8dB9cC10970cfffF9a6C', 'amount': 950000000000000000000, 'price': 30632142000000000000000})\n",
      "AttributeDict({'buyer': '0x27C404d4D91156F7063E8dB9cC10970cfffF9a6C', 'amount': 9000000000000000000, 'price': 290199240000000000000})\n"
     ]
    },
    {
     "data": {
      "text/plain": [
       "AttributeDict({'buyer': '0x27C404d4D91156F7063E8dB9cC10970cfffF9a6C',\n",
       " 'amount': 959000000000000000000,\n",
       " 'price': 30779757120000003828328})"
      ]
     },
     "execution_count": 224,
     "metadata": {},
     "output_type": "execute_result"
    }
   ],
   "source": [
    "print(FSS_buy_CST[24]['args'])\n",
    "print(FSS_buy_CST[25]['args'])\n",
    "FSS_sell_CST[8]['args']"
   ]
  },
  {
   "cell_type": "code",
   "execution_count": 229,
   "metadata": {},
   "outputs": [
    {
     "data": {
      "text/plain": [
       "Decimal('30779.757120000003828328')"
      ]
     },
     "execution_count": 229,
     "metadata": {},
     "output_type": "execute_result"
    }
   ],
   "source": [
    "web3.fromWei(30779757120000003828328, \"ether\") "
   ]
  },
  {
   "cell_type": "code",
   "execution_count": 230,
   "metadata": {},
   "outputs": [
    {
     "name": "stdout",
     "output_type": "stream",
     "text": [
      "26 1163153315293814063104 37178799939388413950243 75631775259113397487324\n",
      "27 580413504331613208576 18552221169754818276281 75631775259113397487324\n",
      "28 557081083926467248128 17806428350408813825713 75631775259113397487324\n"
     ]
    }
   ],
   "source": [
    "amount = 0\n",
    "i = 26\n",
    "while(amount < FSS_sell_CST[9]['args']['amount']): \n",
    "    amount += FSS_buy_CST[i]['args']['amount']\n",
    "    print(i, FSS_buy_CST[i]['args']['amount'], FSS_buy_CST[i]['args']['price'], FSS_sell_CST[9]['args']['price'] )\n",
    "    i += 1"
   ]
  },
  {
   "cell_type": "code",
   "execution_count": 237,
   "metadata": {},
   "outputs": [
    {
     "data": {
      "text/plain": [
       "Decimal('75631.775259113397487324')"
      ]
     },
     "execution_count": 237,
     "metadata": {},
     "output_type": "execute_result"
    }
   ],
   "source": [
    "web3.fromWei(75631775259113397487324, \"ether\") "
   ]
  },
  {
   "cell_type": "code",
   "execution_count": 241,
   "metadata": {},
   "outputs": [
    {
     "data": {
      "text/plain": [
       "24479031798683231585374"
      ]
     },
     "execution_count": 241,
     "metadata": {},
     "output_type": "execute_result"
    }
   ],
   "source": [
    "FSS_buy_CST[29]['args']['price']"
   ]
  },
  {
   "cell_type": "code",
   "execution_count": 242,
   "metadata": {},
   "outputs": [
    {
     "data": {
      "text/plain": [
       "Decimal('24479.031798683231585374')"
      ]
     },
     "execution_count": 242,
     "metadata": {},
     "output_type": "execute_result"
    }
   ],
   "source": [
    "web3.fromWei(24479031798683231585374, \"ether\") "
   ]
  },
  {
   "cell_type": "code",
   "execution_count": 243,
   "metadata": {},
   "outputs": [],
   "source": [
    "all_buys_AA = web3.eth.getLogs({'fromBlock': 0, 'toBlock': 'latest', 'address': exchange_AA.address, 'topics': [buy_sign]})\n",
    "all_sell_AA = web3.eth.getLogs({'fromBlock': 0, 'toBlock': 'latest', 'address': exchange_AA.address, 'topics': [sell_sign]})"
   ]
  },
  {
   "cell_type": "code",
   "execution_count": 245,
   "metadata": {},
   "outputs": [],
   "source": [
    "buy_AA_logs = [] \n",
    "for event_data in all_buys_AA: \n",
    "        #print(event_data)\n",
    "        tx_hash = event_data['transactionHash'].hex()\n",
    "        receipt = web3.eth.getTransactionReceipt(tx_hash)\n",
    "        #events = ['Buy', 'Sell']\n",
    "        buy_AA_logs.append(web3_exchange_AA.events.Buy().processReceipt(receipt))"
   ]
  },
  {
   "cell_type": "code",
   "execution_count": 247,
   "metadata": {},
   "outputs": [],
   "source": [
    "FSS_buy_AA = []\n",
    "for i in range(0, len(buy_AA_logs)): \n",
    "    if(buy_AA_logs[i][0]['args']['buyer'] == '0x27C404d4D91156F7063E8dB9cC10970cfffF9a6C'): \n",
    "        FSS_buy_AA.append(buy_AA_logs[i][0])"
   ]
  },
  {
   "cell_type": "code",
   "execution_count": 248,
   "metadata": {
    "collapsed": true
   },
   "outputs": [
    {
     "name": "stderr",
     "output_type": "stream",
     "text": [
      "/home/simone/.local/opt/miniconda3/envs/blockchain/lib/python3.7/site-packages/web3/contract.py:1154: UserWarning: The log with transaction hash: b'\\xd1\\xaf5\\xf6T\\x99\\x8cSM\\xdc\\xcdD\\x1e\\xf5p,\\x97\\x87\\x12hz\\xf9\\x91\\xd4\\x03(\\x18\\xe4d\\xd1P\\x1b' and logIndex: 9 encountered the following error during processing: MismatchedABI(The event signature did not match the provided ABI). It has been discarded.\n",
      "  f\"The log with transaction hash: {log['transactionHash']} and \"\n",
      "/home/simone/.local/opt/miniconda3/envs/blockchain/lib/python3.7/site-packages/web3/contract.py:1154: UserWarning: The log with transaction hash: b'\\xd1\\xaf5\\xf6T\\x99\\x8cSM\\xdc\\xcdD\\x1e\\xf5p,\\x97\\x87\\x12hz\\xf9\\x91\\xd4\\x03(\\x18\\xe4d\\xd1P\\x1b' and logIndex: 10 encountered the following error during processing: MismatchedABI(The event signature did not match the provided ABI). It has been discarded.\n",
      "  f\"The log with transaction hash: {log['transactionHash']} and \"\n",
      "/home/simone/.local/opt/miniconda3/envs/blockchain/lib/python3.7/site-packages/web3/contract.py:1154: UserWarning: The log with transaction hash: b'\\xd1\\xaf5\\xf6T\\x99\\x8cSM\\xdc\\xcdD\\x1e\\xf5p,\\x97\\x87\\x12hz\\xf9\\x91\\xd4\\x03(\\x18\\xe4d\\xd1P\\x1b' and logIndex: 11 encountered the following error during processing: MismatchedABI(The event signature did not match the provided ABI). It has been discarded.\n",
      "  f\"The log with transaction hash: {log['transactionHash']} and \"\n",
      "/home/simone/.local/opt/miniconda3/envs/blockchain/lib/python3.7/site-packages/web3/contract.py:1154: UserWarning: The log with transaction hash: b'\\xd4(\\x8e\\x08m\\xd8\\xf09_L\\xac1\\x9a\\x83\\x14\\xc4\\xda\\xf1S^\\\\\\n\\xd1\\xf6\\xbd\\x07,\\xb5\\xa1\\x18\\x15G' and logIndex: 0 encountered the following error during processing: MismatchedABI(The event signature did not match the provided ABI). It has been discarded.\n",
      "  f\"The log with transaction hash: {log['transactionHash']} and \"\n",
      "/home/simone/.local/opt/miniconda3/envs/blockchain/lib/python3.7/site-packages/web3/contract.py:1154: UserWarning: The log with transaction hash: b'\\xd4(\\x8e\\x08m\\xd8\\xf09_L\\xac1\\x9a\\x83\\x14\\xc4\\xda\\xf1S^\\\\\\n\\xd1\\xf6\\xbd\\x07,\\xb5\\xa1\\x18\\x15G' and logIndex: 1 encountered the following error during processing: MismatchedABI(The event signature did not match the provided ABI). It has been discarded.\n",
      "  f\"The log with transaction hash: {log['transactionHash']} and \"\n",
      "/home/simone/.local/opt/miniconda3/envs/blockchain/lib/python3.7/site-packages/web3/contract.py:1154: UserWarning: The log with transaction hash: b'\\xd4(\\x8e\\x08m\\xd8\\xf09_L\\xac1\\x9a\\x83\\x14\\xc4\\xda\\xf1S^\\\\\\n\\xd1\\xf6\\xbd\\x07,\\xb5\\xa1\\x18\\x15G' and logIndex: 2 encountered the following error during processing: MismatchedABI(The event signature did not match the provided ABI). It has been discarded.\n",
      "  f\"The log with transaction hash: {log['transactionHash']} and \"\n",
      "/home/simone/.local/opt/miniconda3/envs/blockchain/lib/python3.7/site-packages/web3/contract.py:1154: UserWarning: The log with transaction hash: b'%:\\xb1,\\x0fu\\xf6\\xfa\\xdco\\xf0f\\xe9\\xb80\\xf1$\\x0epb\\xd9\\xe6\\x99\\xa5\\xdc\\xc54n \\xde#\\xe7' and logIndex: 1 encountered the following error during processing: MismatchedABI(The event signature did not match the provided ABI). It has been discarded.\n",
      "  f\"The log with transaction hash: {log['transactionHash']} and \"\n",
      "/home/simone/.local/opt/miniconda3/envs/blockchain/lib/python3.7/site-packages/web3/contract.py:1154: UserWarning: The log with transaction hash: b'%:\\xb1,\\x0fu\\xf6\\xfa\\xdco\\xf0f\\xe9\\xb80\\xf1$\\x0epb\\xd9\\xe6\\x99\\xa5\\xdc\\xc54n \\xde#\\xe7' and logIndex: 2 encountered the following error during processing: MismatchedABI(The event signature did not match the provided ABI). It has been discarded.\n",
      "  f\"The log with transaction hash: {log['transactionHash']} and \"\n",
      "/home/simone/.local/opt/miniconda3/envs/blockchain/lib/python3.7/site-packages/web3/contract.py:1154: UserWarning: The log with transaction hash: b'%:\\xb1,\\x0fu\\xf6\\xfa\\xdco\\xf0f\\xe9\\xb80\\xf1$\\x0epb\\xd9\\xe6\\x99\\xa5\\xdc\\xc54n \\xde#\\xe7' and logIndex: 3 encountered the following error during processing: MismatchedABI(The event signature did not match the provided ABI). It has been discarded.\n",
      "  f\"The log with transaction hash: {log['transactionHash']} and \"\n",
      "/home/simone/.local/opt/miniconda3/envs/blockchain/lib/python3.7/site-packages/web3/contract.py:1154: UserWarning: The log with transaction hash: b'\\x16F<\\x1fq\\xc9\\xfd\\xae\\x93T\\xf2\\x87\\xe0\\x9b\\xbc2\\xde\\x12\\xd1 \\x8ad8\\x94\\x92zJ|B\\xbeXO' and logIndex: 10 encountered the following error during processing: MismatchedABI(The event signature did not match the provided ABI). It has been discarded.\n",
      "  f\"The log with transaction hash: {log['transactionHash']} and \"\n",
      "/home/simone/.local/opt/miniconda3/envs/blockchain/lib/python3.7/site-packages/web3/contract.py:1154: UserWarning: The log with transaction hash: b'\\x16F<\\x1fq\\xc9\\xfd\\xae\\x93T\\xf2\\x87\\xe0\\x9b\\xbc2\\xde\\x12\\xd1 \\x8ad8\\x94\\x92zJ|B\\xbeXO' and logIndex: 11 encountered the following error during processing: MismatchedABI(The event signature did not match the provided ABI). It has been discarded.\n",
      "  f\"The log with transaction hash: {log['transactionHash']} and \"\n",
      "/home/simone/.local/opt/miniconda3/envs/blockchain/lib/python3.7/site-packages/web3/contract.py:1154: UserWarning: The log with transaction hash: b'\\x16F<\\x1fq\\xc9\\xfd\\xae\\x93T\\xf2\\x87\\xe0\\x9b\\xbc2\\xde\\x12\\xd1 \\x8ad8\\x94\\x92zJ|B\\xbeXO' and logIndex: 12 encountered the following error during processing: MismatchedABI(The event signature did not match the provided ABI). It has been discarded.\n",
      "  f\"The log with transaction hash: {log['transactionHash']} and \"\n",
      "/home/simone/.local/opt/miniconda3/envs/blockchain/lib/python3.7/site-packages/web3/contract.py:1154: UserWarning: The log with transaction hash: b'K\\x9b\\xcc\\xcf\\xa6D>\\xcdS\\x16uC\\x05K\\xc8\\xc9\\xcf\\x0c\\x15\\xd1Q\\x9f\\xc1nJ\\xd3\\x93J_\\xf3\\x03w' and logIndex: 83 encountered the following error during processing: MismatchedABI(The event signature did not match the provided ABI). It has been discarded.\n",
      "  f\"The log with transaction hash: {log['transactionHash']} and \"\n",
      "/home/simone/.local/opt/miniconda3/envs/blockchain/lib/python3.7/site-packages/web3/contract.py:1154: UserWarning: The log with transaction hash: b'K\\x9b\\xcc\\xcf\\xa6D>\\xcdS\\x16uC\\x05K\\xc8\\xc9\\xcf\\x0c\\x15\\xd1Q\\x9f\\xc1nJ\\xd3\\x93J_\\xf3\\x03w' and logIndex: 84 encountered the following error during processing: MismatchedABI(The event signature did not match the provided ABI). It has been discarded.\n",
      "  f\"The log with transaction hash: {log['transactionHash']} and \"\n",
      "/home/simone/.local/opt/miniconda3/envs/blockchain/lib/python3.7/site-packages/web3/contract.py:1154: UserWarning: The log with transaction hash: b'K\\x9b\\xcc\\xcf\\xa6D>\\xcdS\\x16uC\\x05K\\xc8\\xc9\\xcf\\x0c\\x15\\xd1Q\\x9f\\xc1nJ\\xd3\\x93J_\\xf3\\x03w' and logIndex: 85 encountered the following error during processing: MismatchedABI(The event signature did not match the provided ABI). It has been discarded.\n",
      "  f\"The log with transaction hash: {log['transactionHash']} and \"\n",
      "/home/simone/.local/opt/miniconda3/envs/blockchain/lib/python3.7/site-packages/web3/contract.py:1154: UserWarning: The log with transaction hash: b'R\\xc891\\x0f)K\\x91\\xdbj_\\x8bEt)fl\\xa6\\x1c\\xb0L\\xe8Sf8\\x0e\\x88\\x84\\x8fXN\\x8f' and logIndex: 10 encountered the following error during processing: MismatchedABI(The event signature did not match the provided ABI). It has been discarded.\n",
      "  f\"The log with transaction hash: {log['transactionHash']} and \"\n",
      "/home/simone/.local/opt/miniconda3/envs/blockchain/lib/python3.7/site-packages/web3/contract.py:1154: UserWarning: The log with transaction hash: b'R\\xc891\\x0f)K\\x91\\xdbj_\\x8bEt)fl\\xa6\\x1c\\xb0L\\xe8Sf8\\x0e\\x88\\x84\\x8fXN\\x8f' and logIndex: 11 encountered the following error during processing: MismatchedABI(The event signature did not match the provided ABI). It has been discarded.\n",
      "  f\"The log with transaction hash: {log['transactionHash']} and \"\n",
      "/home/simone/.local/opt/miniconda3/envs/blockchain/lib/python3.7/site-packages/web3/contract.py:1154: UserWarning: The log with transaction hash: b'R\\xc891\\x0f)K\\x91\\xdbj_\\x8bEt)fl\\xa6\\x1c\\xb0L\\xe8Sf8\\x0e\\x88\\x84\\x8fXN\\x8f' and logIndex: 12 encountered the following error during processing: MismatchedABI(The event signature did not match the provided ABI). It has been discarded.\n",
      "  f\"The log with transaction hash: {log['transactionHash']} and \"\n"
     ]
    },
    {
     "name": "stderr",
     "output_type": "stream",
     "text": [
      "/home/simone/.local/opt/miniconda3/envs/blockchain/lib/python3.7/site-packages/web3/contract.py:1154: UserWarning: The log with transaction hash: b'\\x82\\x19#\\x05S\\xc1;\\xb3^Z\\x87\\x0bl\\xbfdz\\xc2\\xd6\\xeb\\x85\\xdf\\x9f\\x00\\x91\\xd4\\x0bH\\xa6s@hX' and logIndex: 6 encountered the following error during processing: MismatchedABI(The event signature did not match the provided ABI). It has been discarded.\n",
      "  f\"The log with transaction hash: {log['transactionHash']} and \"\n",
      "/home/simone/.local/opt/miniconda3/envs/blockchain/lib/python3.7/site-packages/web3/contract.py:1154: UserWarning: The log with transaction hash: b'\\x82\\x19#\\x05S\\xc1;\\xb3^Z\\x87\\x0bl\\xbfdz\\xc2\\xd6\\xeb\\x85\\xdf\\x9f\\x00\\x91\\xd4\\x0bH\\xa6s@hX' and logIndex: 7 encountered the following error during processing: MismatchedABI(The event signature did not match the provided ABI). It has been discarded.\n",
      "  f\"The log with transaction hash: {log['transactionHash']} and \"\n",
      "/home/simone/.local/opt/miniconda3/envs/blockchain/lib/python3.7/site-packages/web3/contract.py:1154: UserWarning: The log with transaction hash: b'\\x82\\x19#\\x05S\\xc1;\\xb3^Z\\x87\\x0bl\\xbfdz\\xc2\\xd6\\xeb\\x85\\xdf\\x9f\\x00\\x91\\xd4\\x0bH\\xa6s@hX' and logIndex: 8 encountered the following error during processing: MismatchedABI(The event signature did not match the provided ABI). It has been discarded.\n",
      "  f\"The log with transaction hash: {log['transactionHash']} and \"\n",
      "/home/simone/.local/opt/miniconda3/envs/blockchain/lib/python3.7/site-packages/web3/contract.py:1154: UserWarning: The log with transaction hash: b'\\x86`e\\xd6s`]\\xd8\\x1bk|\\xb5!bm\\xb9,_E\\xf3wP\\xbbR\\x1c\\x9cl\\x8eF\\x89\\xa3\\xa1' and logIndex: 31 encountered the following error during processing: MismatchedABI(The event signature did not match the provided ABI). It has been discarded.\n",
      "  f\"The log with transaction hash: {log['transactionHash']} and \"\n",
      "/home/simone/.local/opt/miniconda3/envs/blockchain/lib/python3.7/site-packages/web3/contract.py:1154: UserWarning: The log with transaction hash: b'\\x86`e\\xd6s`]\\xd8\\x1bk|\\xb5!bm\\xb9,_E\\xf3wP\\xbbR\\x1c\\x9cl\\x8eF\\x89\\xa3\\xa1' and logIndex: 32 encountered the following error during processing: MismatchedABI(The event signature did not match the provided ABI). It has been discarded.\n",
      "  f\"The log with transaction hash: {log['transactionHash']} and \"\n",
      "/home/simone/.local/opt/miniconda3/envs/blockchain/lib/python3.7/site-packages/web3/contract.py:1154: UserWarning: The log with transaction hash: b'\\x86`e\\xd6s`]\\xd8\\x1bk|\\xb5!bm\\xb9,_E\\xf3wP\\xbbR\\x1c\\x9cl\\x8eF\\x89\\xa3\\xa1' and logIndex: 33 encountered the following error during processing: MismatchedABI(The event signature did not match the provided ABI). It has been discarded.\n",
      "  f\"The log with transaction hash: {log['transactionHash']} and \"\n",
      "/home/simone/.local/opt/miniconda3/envs/blockchain/lib/python3.7/site-packages/web3/contract.py:1154: UserWarning: The log with transaction hash: b'-\\xbd^\\xe7\\x08]\\xb8\\xc6\\xc8?\\xc8$\\xd1\\xfbA\\xa3\\xed\\x9b\\xf4Y\\\\G\\xae\\xbcr\\xe5\\x9dA\\xe4\\xaa\\x1e\\x9a' and logIndex: 46 encountered the following error during processing: MismatchedABI(The event signature did not match the provided ABI). It has been discarded.\n",
      "  f\"The log with transaction hash: {log['transactionHash']} and \"\n",
      "/home/simone/.local/opt/miniconda3/envs/blockchain/lib/python3.7/site-packages/web3/contract.py:1154: UserWarning: The log with transaction hash: b'-\\xbd^\\xe7\\x08]\\xb8\\xc6\\xc8?\\xc8$\\xd1\\xfbA\\xa3\\xed\\x9b\\xf4Y\\\\G\\xae\\xbcr\\xe5\\x9dA\\xe4\\xaa\\x1e\\x9a' and logIndex: 47 encountered the following error during processing: MismatchedABI(The event signature did not match the provided ABI). It has been discarded.\n",
      "  f\"The log with transaction hash: {log['transactionHash']} and \"\n",
      "/home/simone/.local/opt/miniconda3/envs/blockchain/lib/python3.7/site-packages/web3/contract.py:1154: UserWarning: The log with transaction hash: b'-\\xbd^\\xe7\\x08]\\xb8\\xc6\\xc8?\\xc8$\\xd1\\xfbA\\xa3\\xed\\x9b\\xf4Y\\\\G\\xae\\xbcr\\xe5\\x9dA\\xe4\\xaa\\x1e\\x9a' and logIndex: 48 encountered the following error during processing: MismatchedABI(The event signature did not match the provided ABI). It has been discarded.\n",
      "  f\"The log with transaction hash: {log['transactionHash']} and \"\n"
     ]
    }
   ],
   "source": [
    "sell_AA_logs = [] \n",
    "for event_data in all_sell_AA: \n",
    "        #print(event_data)\n",
    "        tx_hash = event_data['transactionHash'].hex()\n",
    "        receipt = web3.eth.getTransactionReceipt(tx_hash)\n",
    "        #events = ['Buy', 'Sell']\n",
    "        sell_AA_logs.append(web3_exchange_AA.events.Sell().processReceipt(receipt))"
   ]
  },
  {
   "cell_type": "code",
   "execution_count": 250,
   "metadata": {},
   "outputs": [],
   "source": [
    "FSS_sell_AA = []\n",
    "for i in range(0, len(sell_AA_logs)): \n",
    "    if(sell_AA_logs[i][0]['args']['buyer'] == '0x27C404d4D91156F7063E8dB9cC10970cfffF9a6C'): \n",
    "        FSS_sell_AA.append(sell_AA_logs[i][0])"
   ]
  },
  {
   "cell_type": "code",
   "execution_count": 285,
   "metadata": {},
   "outputs": [
    {
     "data": {
      "text/plain": [
       "233400000000000000"
      ]
     },
     "execution_count": 285,
     "metadata": {},
     "output_type": "execute_result"
    }
   ],
   "source": [
    "FSS_buy_AA[3]['args']['price']"
   ]
  },
  {
   "cell_type": "code",
   "execution_count": 281,
   "metadata": {},
   "outputs": [
    {
     "ename": "IndexError",
     "evalue": "list index out of range",
     "output_type": "error",
     "traceback": [
      "\u001b[0;31m---------------------------------------------------------------------------\u001b[0m",
      "\u001b[0;31mIndexError\u001b[0m                                Traceback (most recent call last)",
      "\u001b[0;32m<ipython-input-281-ea1a2d933c3e>\u001b[0m in \u001b[0;36m<module>\u001b[0;34m\u001b[0m\n\u001b[0;32m----> 1\u001b[0;31m \u001b[0mFSS_sell_AA\u001b[0m\u001b[0;34m[\u001b[0m\u001b[0;36m5\u001b[0m\u001b[0;34m]\u001b[0m\u001b[0;34m[\u001b[0m\u001b[0;34m'args'\u001b[0m\u001b[0;34m]\u001b[0m\u001b[0;34m[\u001b[0m\u001b[0;34m'amount'\u001b[0m\u001b[0;34m]\u001b[0m\u001b[0;34m\u001b[0m\u001b[0;34m\u001b[0m\u001b[0m\n\u001b[0m",
      "\u001b[0;31mIndexError\u001b[0m: list index out of range"
     ]
    }
   ],
   "source": [
    "FSS_sell_AA[5]['args']['amount']"
   ]
  },
  {
   "cell_type": "code",
   "execution_count": 286,
   "metadata": {},
   "outputs": [
    {
     "data": {
      "text/plain": [
       "Decimal('0.2334')"
      ]
     },
     "execution_count": 286,
     "metadata": {},
     "output_type": "execute_result"
    }
   ],
   "source": [
    "web3.fromWei(233400000000000000, \"ether\") "
   ]
  },
  {
   "cell_type": "code",
   "execution_count": null,
   "metadata": {},
   "outputs": [],
   "source": []
  }
 ],
 "metadata": {
  "kernelspec": {
   "display_name": "Python 3",
   "language": "python",
   "name": "python3"
  },
  "language_info": {
   "codemirror_mode": {
    "name": "ipython",
    "version": 3
   },
   "file_extension": ".py",
   "mimetype": "text/x-python",
   "name": "python",
   "nbconvert_exporter": "python",
   "pygments_lexer": "ipython3",
   "version": "3.7.7"
  }
 },
 "nbformat": 4,
 "nbformat_minor": 4
}
